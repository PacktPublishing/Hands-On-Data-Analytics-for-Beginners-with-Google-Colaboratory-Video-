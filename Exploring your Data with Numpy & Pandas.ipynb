{
 "cells": [
  {
   "cell_type": "markdown",
   "metadata": {
    "colab_type": "text",
    "id": "-SdfUrzUf-F7"
   },
   "source": [
    "# Numpy Arrays for 1D Data"
   ]
  },
  {
   "cell_type": "markdown",
   "metadata": {
    "colab_type": "text",
    "id": "iFhHUuB5gCci"
   },
   "source": [
    "## Initializing and Converting to Numpy Array"
   ]
  },
  {
   "cell_type": "code",
   "execution_count": 0,
   "metadata": {
    "colab": {
     "autoexec": {
      "startup": false,
      "wait_interval": 0
     }
    },
    "colab_type": "code",
    "id": "bU4MvioPsk8F"
   },
   "outputs": [],
   "source": [
    "import numpy as np"
   ]
  },
  {
   "cell_type": "markdown",
   "metadata": {
    "colab_type": "text",
    "id": "xGA-uYPwgdbP"
   },
   "source": [
    "**Create array of zeros**"
   ]
  },
  {
   "cell_type": "code",
   "execution_count": 0,
   "metadata": {
    "colab": {
     "autoexec": {
      "startup": false,
      "wait_interval": 0
     },
     "base_uri": "https://localhost:8080/",
     "height": 10
    },
    "colab_type": "code",
    "executionInfo": {
     "elapsed": 856,
     "status": "ok",
     "timestamp": 1524605471937,
     "user": {
      "displayName": "Tairi Delgado",
      "photoUrl": "//lh6.googleusercontent.com/-l4lv-T3P6-c/AAAAAAAAAAI/AAAAAAAABIA/4wtQ8ehIzZw/s50-c-k-no/photo.jpg",
      "userId": "115188476170888991569"
     },
     "user_tz": 420
    },
    "id": "ZdmlJL8esnPV",
    "outputId": "1d00f5e0-5a7a-40b4-ec5a-a3102686f3b7"
   },
   "outputs": [
    {
     "name": "stdout",
     "output_type": "stream",
     "text": [
      "[0. 0. 0.]\n"
     ]
    }
   ],
   "source": [
    "array1 = np.zeros(3)\n",
    "print(array1)"
   ]
  },
  {
   "cell_type": "code",
   "execution_count": 0,
   "metadata": {
    "colab": {
     "autoexec": {
      "startup": false,
      "wait_interval": 0
     },
     "base_uri": "https://localhost:8080/",
     "height": 10
    },
    "colab_type": "code",
    "executionInfo": {
     "elapsed": 317,
     "status": "ok",
     "timestamp": 1524605472337,
     "user": {
      "displayName": "Tairi Delgado",
      "photoUrl": "//lh6.googleusercontent.com/-l4lv-T3P6-c/AAAAAAAAAAI/AAAAAAAABIA/4wtQ8ehIzZw/s50-c-k-no/photo.jpg",
      "userId": "115188476170888991569"
     },
     "user_tz": 420
    },
    "id": "ugYg06g5sxAx",
    "outputId": "f1d0d0bd-7ad7-4d53-e0df-555b9c43834c"
   },
   "outputs": [
    {
     "name": "stdout",
     "output_type": "stream",
     "text": [
      "[0. 0. 0. 0. 0.]\n"
     ]
    }
   ],
   "source": [
    "array2 = np.zeros(5)\n",
    "print(array2)"
   ]
  },
  {
   "cell_type": "markdown",
   "metadata": {
    "colab_type": "text",
    "id": "pJfwC8dQgdts"
   },
   "source": [
    "**Create array of ones**"
   ]
  },
  {
   "cell_type": "code",
   "execution_count": 0,
   "metadata": {
    "colab": {
     "autoexec": {
      "startup": false,
      "wait_interval": 0
     },
     "base_uri": "https://localhost:8080/",
     "height": 10
    },
    "colab_type": "code",
    "executionInfo": {
     "elapsed": 244,
     "status": "ok",
     "timestamp": 1524605472662,
     "user": {
      "displayName": "Tairi Delgado",
      "photoUrl": "//lh6.googleusercontent.com/-l4lv-T3P6-c/AAAAAAAAAAI/AAAAAAAABIA/4wtQ8ehIzZw/s50-c-k-no/photo.jpg",
      "userId": "115188476170888991569"
     },
     "user_tz": 420
    },
    "id": "FIZsXF1ks6bN",
    "outputId": "0886a2fa-e882-4c3b-82a5-586f7476f36c"
   },
   "outputs": [
    {
     "name": "stdout",
     "output_type": "stream",
     "text": [
      "[1. 1. 1. 1.]\n"
     ]
    }
   ],
   "source": [
    "array1 = np.ones(4)\n",
    "print(array1)"
   ]
  },
  {
   "cell_type": "markdown",
   "metadata": {
    "colab_type": "text",
    "id": "U9hzSgMIgkpu"
   },
   "source": [
    "**Create a Numpy Array**"
   ]
  },
  {
   "cell_type": "code",
   "execution_count": 0,
   "metadata": {
    "colab": {
     "autoexec": {
      "startup": false,
      "wait_interval": 0
     },
     "base_uri": "https://localhost:8080/",
     "height": 10
    },
    "colab_type": "code",
    "executionInfo": {
     "elapsed": 408,
     "status": "ok",
     "timestamp": 1524605473173,
     "user": {
      "displayName": "Tairi Delgado",
      "photoUrl": "//lh6.googleusercontent.com/-l4lv-T3P6-c/AAAAAAAAAAI/AAAAAAAABIA/4wtQ8ehIzZw/s50-c-k-no/photo.jpg",
      "userId": "115188476170888991569"
     },
     "user_tz": 420
    },
    "id": "XnUdmyfvtE0y",
    "outputId": "7d18b8e3-11f0-467e-e4eb-1e08aaa0062d"
   },
   "outputs": [
    {
     "name": "stdout",
     "output_type": "stream",
     "text": [
      "[1 2 3]\n"
     ]
    }
   ],
   "source": [
    "array1 = np.array([1,2,3])\n",
    "print(array1)"
   ]
  },
  {
   "cell_type": "code",
   "execution_count": 0,
   "metadata": {
    "colab": {
     "autoexec": {
      "startup": false,
      "wait_interval": 0
     },
     "base_uri": "https://localhost:8080/",
     "height": 10
    },
    "colab_type": "code",
    "executionInfo": {
     "elapsed": 441,
     "status": "ok",
     "timestamp": 1524605473685,
     "user": {
      "displayName": "Tairi Delgado",
      "photoUrl": "//lh6.googleusercontent.com/-l4lv-T3P6-c/AAAAAAAAAAI/AAAAAAAABIA/4wtQ8ehIzZw/s50-c-k-no/photo.jpg",
      "userId": "115188476170888991569"
     },
     "user_tz": 420
    },
    "id": "33fTJMm-tKzh",
    "outputId": "6e79cb32-7014-4708-9ccf-a4fd1b563837"
   },
   "outputs": [
    {
     "name": "stdout",
     "output_type": "stream",
     "text": [
      "[2 4 6]\n"
     ]
    }
   ],
   "source": [
    "array2 = np.array([2,4,6])\n",
    "print(array2)"
   ]
  },
  {
   "cell_type": "markdown",
   "metadata": {
    "colab_type": "text",
    "id": "e4hVB5iBgm0F"
   },
   "source": [
    "**Convert Python list into an array**"
   ]
  },
  {
   "cell_type": "code",
   "execution_count": 0,
   "metadata": {
    "colab": {
     "autoexec": {
      "startup": false,
      "wait_interval": 0
     },
     "base_uri": "https://localhost:8080/",
     "height": 10
    },
    "colab_type": "code",
    "executionInfo": {
     "elapsed": 630,
     "status": "ok",
     "timestamp": 1524605474387,
     "user": {
      "displayName": "Tairi Delgado",
      "photoUrl": "//lh6.googleusercontent.com/-l4lv-T3P6-c/AAAAAAAAAAI/AAAAAAAABIA/4wtQ8ehIzZw/s50-c-k-no/photo.jpg",
      "userId": "115188476170888991569"
     },
     "user_tz": 420
    },
    "id": "KjgAKkK7tWjd",
    "outputId": "d6551fe8-35e8-42f2-c562-5fc5f31f716e"
   },
   "outputs": [
    {
     "name": "stdout",
     "output_type": "stream",
     "text": [
      "[1 2 3 4 5]\n"
     ]
    }
   ],
   "source": [
    "python_list = [1,2,3,4,5]\n",
    "numpy_array = np.array(python_list)\n",
    "print(numpy_array)"
   ]
  },
  {
   "cell_type": "markdown",
   "metadata": {
    "colab_type": "text",
    "id": "xHJRzO3ngo8_"
   },
   "source": [
    "**Arange**"
   ]
  },
  {
   "cell_type": "code",
   "execution_count": 0,
   "metadata": {
    "colab": {
     "autoexec": {
      "startup": false,
      "wait_interval": 0
     },
     "base_uri": "https://localhost:8080/",
     "height": 10
    },
    "colab_type": "code",
    "executionInfo": {
     "elapsed": 256,
     "status": "ok",
     "timestamp": 1524605474715,
     "user": {
      "displayName": "Tairi Delgado",
      "photoUrl": "//lh6.googleusercontent.com/-l4lv-T3P6-c/AAAAAAAAAAI/AAAAAAAABIA/4wtQ8ehIzZw/s50-c-k-no/photo.jpg",
      "userId": "115188476170888991569"
     },
     "user_tz": 420
    },
    "id": "hARfN2bBtjc-",
    "outputId": "212ec937-1f2c-44fb-8d84-9aa043a8d875"
   },
   "outputs": [
    {
     "name": "stdout",
     "output_type": "stream",
     "text": [
      "[0 1 2 3 4 5 6 7 8 9]\n"
     ]
    }
   ],
   "source": [
    "array1 = np.arange(10)\n",
    "print(array1)"
   ]
  },
  {
   "cell_type": "code",
   "execution_count": 0,
   "metadata": {
    "colab": {
     "autoexec": {
      "startup": false,
      "wait_interval": 0
     },
     "base_uri": "https://localhost:8080/",
     "height": 10
    },
    "colab_type": "code",
    "executionInfo": {
     "elapsed": 440,
     "status": "ok",
     "timestamp": 1524605475231,
     "user": {
      "displayName": "Tairi Delgado",
      "photoUrl": "//lh6.googleusercontent.com/-l4lv-T3P6-c/AAAAAAAAAAI/AAAAAAAABIA/4wtQ8ehIzZw/s50-c-k-no/photo.jpg",
      "userId": "115188476170888991569"
     },
     "user_tz": 420
    },
    "id": "PE2Bo9NWt6gv",
    "outputId": "57618766-5181-4229-f8f5-24faa3ea4da0"
   },
   "outputs": [
    {
     "name": "stdout",
     "output_type": "stream",
     "text": [
      "[2 3 4 5 6 7]\n"
     ]
    }
   ],
   "source": [
    "array2 = np.arange(2,8)\n",
    "print(array2)"
   ]
  },
  {
   "cell_type": "code",
   "execution_count": 0,
   "metadata": {
    "colab": {
     "autoexec": {
      "startup": false,
      "wait_interval": 0
     },
     "base_uri": "https://localhost:8080/",
     "height": 10
    },
    "colab_type": "code",
    "executionInfo": {
     "elapsed": 321,
     "status": "ok",
     "timestamp": 1524605475630,
     "user": {
      "displayName": "Tairi Delgado",
      "photoUrl": "//lh6.googleusercontent.com/-l4lv-T3P6-c/AAAAAAAAAAI/AAAAAAAABIA/4wtQ8ehIzZw/s50-c-k-no/photo.jpg",
      "userId": "115188476170888991569"
     },
     "user_tz": 420
    },
    "id": "N97rBN_suC6g",
    "outputId": "a07233a4-ad4c-46cd-95ec-25d5f8ffb3f6"
   },
   "outputs": [
    {
     "name": "stdout",
     "output_type": "stream",
     "text": [
      "[ 2  4  6  8 10]\n"
     ]
    }
   ],
   "source": [
    "array3 = np.arange(2,12,2)\n",
    "print(array3)"
   ]
  },
  {
   "cell_type": "markdown",
   "metadata": {
    "colab_type": "text",
    "id": "1HpvM9yVgqcn"
   },
   "source": [
    "**Linspace**"
   ]
  },
  {
   "cell_type": "code",
   "execution_count": 0,
   "metadata": {
    "colab": {
     "autoexec": {
      "startup": false,
      "wait_interval": 0
     },
     "base_uri": "https://localhost:8080/",
     "height": 10
    },
    "colab_type": "code",
    "executionInfo": {
     "elapsed": 277,
     "status": "ok",
     "timestamp": 1524605475990,
     "user": {
      "displayName": "Tairi Delgado",
      "photoUrl": "//lh6.googleusercontent.com/-l4lv-T3P6-c/AAAAAAAAAAI/AAAAAAAABIA/4wtQ8ehIzZw/s50-c-k-no/photo.jpg",
      "userId": "115188476170888991569"
     },
     "user_tz": 420
    },
    "id": "BpVByIzruhUT",
    "outputId": "507f9daa-dae9-40f5-8ffa-e5b5ec31cff3"
   },
   "outputs": [
    {
     "name": "stdout",
     "output_type": "stream",
     "text": [
      "[ 50.          58.33333333  66.66666667  75.          83.33333333\n",
      "  91.66666667 100.        ]\n"
     ]
    }
   ],
   "source": [
    "array4 = np.linspace(50,100,7)\n",
    "print(array4)"
   ]
  },
  {
   "cell_type": "code",
   "execution_count": 0,
   "metadata": {
    "colab": {
     "autoexec": {
      "startup": false,
      "wait_interval": 0
     },
     "base_uri": "https://localhost:8080/",
     "height": 10
    },
    "colab_type": "code",
    "executionInfo": {
     "elapsed": 455,
     "status": "ok",
     "timestamp": 1524605476543,
     "user": {
      "displayName": "Tairi Delgado",
      "photoUrl": "//lh6.googleusercontent.com/-l4lv-T3P6-c/AAAAAAAAAAI/AAAAAAAABIA/4wtQ8ehIzZw/s50-c-k-no/photo.jpg",
      "userId": "115188476170888991569"
     },
     "user_tz": 420
    },
    "id": "sOoPHAcSu5VY",
    "outputId": "0c16bba7-8905-4663-9b05-fea7cc30a167"
   },
   "outputs": [
    {
     "name": "stdout",
     "output_type": "stream",
     "text": [
      "[ 1.  10.5 20. ]\n"
     ]
    }
   ],
   "source": [
    "array5 = np.linspace(1,20,3)\n",
    "print(array5)"
   ]
  },
  {
   "cell_type": "markdown",
   "metadata": {
    "colab_type": "text",
    "id": "hiNndBJPgJPE"
   },
   "source": [
    "## Accessing and Modifying Numpy Arrays"
   ]
  },
  {
   "cell_type": "markdown",
   "metadata": {
    "colab_type": "text",
    "id": "YxSLz_xngsG-"
   },
   "source": [
    "**Accessing through indexing**"
   ]
  },
  {
   "cell_type": "code",
   "execution_count": 0,
   "metadata": {
    "colab": {
     "autoexec": {
      "startup": false,
      "wait_interval": 0
     },
     "base_uri": "https://localhost:8080/",
     "height": 10
    },
    "colab_type": "code",
    "executionInfo": {
     "elapsed": 269,
     "status": "ok",
     "timestamp": 1524605476897,
     "user": {
      "displayName": "Tairi Delgado",
      "photoUrl": "//lh6.googleusercontent.com/-l4lv-T3P6-c/AAAAAAAAAAI/AAAAAAAABIA/4wtQ8ehIzZw/s50-c-k-no/photo.jpg",
      "userId": "115188476170888991569"
     },
     "user_tz": 420
    },
    "id": "7zqVWQK0vRng",
    "outputId": "76d23ad8-acd6-4911-ba05-4acbfebceae6"
   },
   "outputs": [
    {
     "name": "stdout",
     "output_type": "stream",
     "text": [
      "[0 1 2 3 4 5 6 7 8 9]\n"
     ]
    }
   ],
   "source": [
    "print(array1)"
   ]
  },
  {
   "cell_type": "code",
   "execution_count": 0,
   "metadata": {
    "colab": {
     "autoexec": {
      "startup": false,
      "wait_interval": 0
     },
     "base_uri": "https://localhost:8080/",
     "height": 10
    },
    "colab_type": "code",
    "executionInfo": {
     "elapsed": 262,
     "status": "ok",
     "timestamp": 1524605477234,
     "user": {
      "displayName": "Tairi Delgado",
      "photoUrl": "//lh6.googleusercontent.com/-l4lv-T3P6-c/AAAAAAAAAAI/AAAAAAAABIA/4wtQ8ehIzZw/s50-c-k-no/photo.jpg",
      "userId": "115188476170888991569"
     },
     "user_tz": 420
    },
    "id": "9QU_EOlyvfqg",
    "outputId": "10fa249a-ccef-4771-b946-61bfe4c3656c"
   },
   "outputs": [
    {
     "name": "stdout",
     "output_type": "stream",
     "text": [
      "0\n"
     ]
    }
   ],
   "source": [
    "print(array1[0])"
   ]
  },
  {
   "cell_type": "code",
   "execution_count": 0,
   "metadata": {
    "colab": {
     "autoexec": {
      "startup": false,
      "wait_interval": 0
     },
     "base_uri": "https://localhost:8080/",
     "height": 10
    },
    "colab_type": "code",
    "executionInfo": {
     "elapsed": 261,
     "status": "ok",
     "timestamp": 1524605477637,
     "user": {
      "displayName": "Tairi Delgado",
      "photoUrl": "//lh6.googleusercontent.com/-l4lv-T3P6-c/AAAAAAAAAAI/AAAAAAAABIA/4wtQ8ehIzZw/s50-c-k-no/photo.jpg",
      "userId": "115188476170888991569"
     },
     "user_tz": 420
    },
    "id": "qbMTY4gfv1I3",
    "outputId": "0c30b49a-d718-43f8-ecad-0f8394bcfbea"
   },
   "outputs": [
    {
     "name": "stdout",
     "output_type": "stream",
     "text": [
      "2\n"
     ]
    }
   ],
   "source": [
    "print(array1[2])"
   ]
  },
  {
   "cell_type": "code",
   "execution_count": 0,
   "metadata": {
    "colab": {
     "autoexec": {
      "startup": false,
      "wait_interval": 0
     },
     "base_uri": "https://localhost:8080/",
     "height": 10
    },
    "colab_type": "code",
    "executionInfo": {
     "elapsed": 288,
     "status": "ok",
     "timestamp": 1524605478010,
     "user": {
      "displayName": "Tairi Delgado",
      "photoUrl": "//lh6.googleusercontent.com/-l4lv-T3P6-c/AAAAAAAAAAI/AAAAAAAABIA/4wtQ8ehIzZw/s50-c-k-no/photo.jpg",
      "userId": "115188476170888991569"
     },
     "user_tz": 420
    },
    "id": "w7AY3_VZwBb6",
    "outputId": "ef16ca06-dca2-4cab-ba11-29e08d441500"
   },
   "outputs": [
    {
     "name": "stdout",
     "output_type": "stream",
     "text": [
      "0\n",
      "1\n",
      "2\n",
      "3\n",
      "4\n",
      "5\n",
      "6\n",
      "7\n",
      "8\n",
      "9\n"
     ]
    }
   ],
   "source": [
    "for i in range(len(array1)):\n",
    "  print(array1[i])"
   ]
  },
  {
   "cell_type": "code",
   "execution_count": 0,
   "metadata": {
    "colab": {
     "autoexec": {
      "startup": false,
      "wait_interval": 0
     },
     "base_uri": "https://localhost:8080/",
     "height": 10
    },
    "colab_type": "code",
    "executionInfo": {
     "elapsed": 312,
     "status": "ok",
     "timestamp": 1524605478416,
     "user": {
      "displayName": "Tairi Delgado",
      "photoUrl": "//lh6.googleusercontent.com/-l4lv-T3P6-c/AAAAAAAAAAI/AAAAAAAABIA/4wtQ8ehIzZw/s50-c-k-no/photo.jpg",
      "userId": "115188476170888991569"
     },
     "user_tz": 420
    },
    "id": "heDzSS90yxyq",
    "outputId": "01595c88-ac77-4bf4-9509-d4e129218d03"
   },
   "outputs": [
    {
     "name": "stdout",
     "output_type": "stream",
     "text": [
      "0\n",
      "1\n",
      "2\n",
      "3\n",
      "4\n",
      "5\n",
      "6\n",
      "7\n",
      "8\n",
      "9\n"
     ]
    }
   ],
   "source": [
    "for i in np.nditer(array1):\n",
    "  print(i)"
   ]
  },
  {
   "cell_type": "markdown",
   "metadata": {
    "colab_type": "text",
    "id": "yPmXLwJBg0WT"
   },
   "source": [
    "**Selection through slicing**"
   ]
  },
  {
   "cell_type": "code",
   "execution_count": 0,
   "metadata": {
    "colab": {
     "autoexec": {
      "startup": false,
      "wait_interval": 0
     },
     "base_uri": "https://localhost:8080/",
     "height": 10
    },
    "colab_type": "code",
    "executionInfo": {
     "elapsed": 267,
     "status": "ok",
     "timestamp": 1524605478759,
     "user": {
      "displayName": "Tairi Delgado",
      "photoUrl": "//lh6.googleusercontent.com/-l4lv-T3P6-c/AAAAAAAAAAI/AAAAAAAABIA/4wtQ8ehIzZw/s50-c-k-no/photo.jpg",
      "userId": "115188476170888991569"
     },
     "user_tz": 420
    },
    "id": "piidHJU9zXsC",
    "outputId": "5c7cc080-fc5f-4c32-b580-cd5fae283e40"
   },
   "outputs": [
    {
     "name": "stdout",
     "output_type": "stream",
     "text": [
      "[2 3 4]\n"
     ]
    }
   ],
   "source": [
    "print(array1[2:5])"
   ]
  },
  {
   "cell_type": "code",
   "execution_count": 0,
   "metadata": {
    "colab": {
     "autoexec": {
      "startup": false,
      "wait_interval": 0
     },
     "base_uri": "https://localhost:8080/",
     "height": 10
    },
    "colab_type": "code",
    "executionInfo": {
     "elapsed": 299,
     "status": "ok",
     "timestamp": 1524605479135,
     "user": {
      "displayName": "Tairi Delgado",
      "photoUrl": "//lh6.googleusercontent.com/-l4lv-T3P6-c/AAAAAAAAAAI/AAAAAAAABIA/4wtQ8ehIzZw/s50-c-k-no/photo.jpg",
      "userId": "115188476170888991569"
     },
     "user_tz": 420
    },
    "id": "JFi1WiSMzeEB",
    "outputId": "9a6b297c-1b4a-46c2-f19a-cdf1aa5fee97"
   },
   "outputs": [
    {
     "name": "stdout",
     "output_type": "stream",
     "text": [
      "[5 6]\n"
     ]
    }
   ],
   "source": [
    "print(array2[3:5])"
   ]
  },
  {
   "cell_type": "code",
   "execution_count": 0,
   "metadata": {
    "colab": {
     "autoexec": {
      "startup": false,
      "wait_interval": 0
     },
     "base_uri": "https://localhost:8080/",
     "height": 10
    },
    "colab_type": "code",
    "executionInfo": {
     "elapsed": 276,
     "status": "ok",
     "timestamp": 1524605479496,
     "user": {
      "displayName": "Tairi Delgado",
      "photoUrl": "//lh6.googleusercontent.com/-l4lv-T3P6-c/AAAAAAAAAAI/AAAAAAAABIA/4wtQ8ehIzZw/s50-c-k-no/photo.jpg",
      "userId": "115188476170888991569"
     },
     "user_tz": 420
    },
    "id": "z_RuPPgFzh6o",
    "outputId": "81adc09c-61b1-4f7a-e41c-d9606b8684ab"
   },
   "outputs": [
    {
     "name": "stdout",
     "output_type": "stream",
     "text": [
      "[4 6]\n"
     ]
    }
   ],
   "source": [
    "print(array3[1:3])"
   ]
  },
  {
   "cell_type": "markdown",
   "metadata": {
    "colab_type": "text",
    "id": "9n2PZ7aAg2kV"
   },
   "source": [
    "**Append and concatenation**"
   ]
  },
  {
   "cell_type": "code",
   "execution_count": 0,
   "metadata": {
    "colab": {
     "autoexec": {
      "startup": false,
      "wait_interval": 0
     },
     "base_uri": "https://localhost:8080/",
     "height": 10
    },
    "colab_type": "code",
    "executionInfo": {
     "elapsed": 278,
     "status": "ok",
     "timestamp": 1524605479856,
     "user": {
      "displayName": "Tairi Delgado",
      "photoUrl": "//lh6.googleusercontent.com/-l4lv-T3P6-c/AAAAAAAAAAI/AAAAAAAABIA/4wtQ8ehIzZw/s50-c-k-no/photo.jpg",
      "userId": "115188476170888991569"
     },
     "user_tz": 420
    },
    "id": "uPoD_3ADzpcr",
    "outputId": "4d27f7b9-b3f3-4d9e-b797-977978a606a7"
   },
   "outputs": [
    {
     "data": {
      "text/plain": [
       "array([0, 1, 2, 3, 4, 5, 6, 7, 8, 9, 1])"
      ]
     },
     "execution_count": 21,
     "metadata": {
      "tags": []
     },
     "output_type": "execute_result"
    }
   ],
   "source": [
    "np.append(array1, [1])"
   ]
  },
  {
   "cell_type": "code",
   "execution_count": 0,
   "metadata": {
    "colab": {
     "autoexec": {
      "startup": false,
      "wait_interval": 0
     },
     "base_uri": "https://localhost:8080/",
     "height": 10
    },
    "colab_type": "code",
    "executionInfo": {
     "elapsed": 265,
     "status": "ok",
     "timestamp": 1524605480193,
     "user": {
      "displayName": "Tairi Delgado",
      "photoUrl": "//lh6.googleusercontent.com/-l4lv-T3P6-c/AAAAAAAAAAI/AAAAAAAABIA/4wtQ8ehIzZw/s50-c-k-no/photo.jpg",
      "userId": "115188476170888991569"
     },
     "user_tz": 420
    },
    "id": "47KpjfXsz0Rb",
    "outputId": "95a80c5e-9b2e-4698-cbb5-ac74b8489418"
   },
   "outputs": [
    {
     "data": {
      "text/plain": [
       "array([0, 1, 2, 3, 4, 5, 6, 7, 8, 9, 1, 2, 3])"
      ]
     },
     "execution_count": 22,
     "metadata": {
      "tags": []
     },
     "output_type": "execute_result"
    }
   ],
   "source": [
    "np.append(array1, [1,2,3])"
   ]
  },
  {
   "cell_type": "code",
   "execution_count": 0,
   "metadata": {
    "colab": {
     "autoexec": {
      "startup": false,
      "wait_interval": 0
     },
     "base_uri": "https://localhost:8080/",
     "height": 10
    },
    "colab_type": "code",
    "executionInfo": {
     "elapsed": 533,
     "status": "ok",
     "timestamp": 1524605480811,
     "user": {
      "displayName": "Tairi Delgado",
      "photoUrl": "//lh6.googleusercontent.com/-l4lv-T3P6-c/AAAAAAAAAAI/AAAAAAAABIA/4wtQ8ehIzZw/s50-c-k-no/photo.jpg",
      "userId": "115188476170888991569"
     },
     "user_tz": 420
    },
    "id": "gl10TmZSz41t",
    "outputId": "51fa07a9-1b57-47ed-b1c9-5c3c2b6baf1d"
   },
   "outputs": [
    {
     "data": {
      "text/plain": [
       "array([0, 1, 2, 3, 4, 5, 6, 7, 8, 9, 2, 3, 4, 5, 6, 7])"
      ]
     },
     "execution_count": 23,
     "metadata": {
      "tags": []
     },
     "output_type": "execute_result"
    }
   ],
   "source": [
    "np.append(array1,array2)"
   ]
  },
  {
   "cell_type": "markdown",
   "metadata": {
    "colab_type": "text",
    "id": "dJIcVYQ7g79k"
   },
   "source": [
    "**Split**"
   ]
  },
  {
   "cell_type": "code",
   "execution_count": 0,
   "metadata": {
    "colab": {
     "autoexec": {
      "startup": false,
      "wait_interval": 0
     },
     "base_uri": "https://localhost:8080/",
     "height": 10
    },
    "colab_type": "code",
    "executionInfo": {
     "elapsed": 299,
     "status": "ok",
     "timestamp": 1524605481197,
     "user": {
      "displayName": "Tairi Delgado",
      "photoUrl": "//lh6.googleusercontent.com/-l4lv-T3P6-c/AAAAAAAAAAI/AAAAAAAABIA/4wtQ8ehIzZw/s50-c-k-no/photo.jpg",
      "userId": "115188476170888991569"
     },
     "user_tz": 420
    },
    "id": "1MJQOV9xz-Fg",
    "outputId": "f4b74954-d877-4c36-f8cf-d9a8584caf6d"
   },
   "outputs": [
    {
     "data": {
      "text/plain": [
       "[array([0, 1, 2, 3, 4]), array([5, 6, 7, 8, 9])]"
      ]
     },
     "execution_count": 24,
     "metadata": {
      "tags": []
     },
     "output_type": "execute_result"
    }
   ],
   "source": [
    "np.split(array1,2)"
   ]
  },
  {
   "cell_type": "code",
   "execution_count": 0,
   "metadata": {
    "colab": {
     "autoexec": {
      "startup": false,
      "wait_interval": 0
     },
     "base_uri": "https://localhost:8080/",
     "height": 10
    },
    "colab_type": "code",
    "executionInfo": {
     "elapsed": 296,
     "status": "ok",
     "timestamp": 1524605481567,
     "user": {
      "displayName": "Tairi Delgado",
      "photoUrl": "//lh6.googleusercontent.com/-l4lv-T3P6-c/AAAAAAAAAAI/AAAAAAAABIA/4wtQ8ehIzZw/s50-c-k-no/photo.jpg",
      "userId": "115188476170888991569"
     },
     "user_tz": 420
    },
    "id": "3nXHVoNt0JV4",
    "outputId": "059c9846-8799-4f97-8d3d-3da6712861fd"
   },
   "outputs": [
    {
     "data": {
      "text/plain": [
       "[array([0, 1, 2]), array([3, 4]), array([5]), array([6, 7, 8, 9])]"
      ]
     },
     "execution_count": 25,
     "metadata": {
      "tags": []
     },
     "output_type": "execute_result"
    }
   ],
   "source": [
    "np.split(array1,[3,5,6])"
   ]
  },
  {
   "cell_type": "markdown",
   "metadata": {
    "colab_type": "text",
    "id": "sEpri2M7g97y"
   },
   "source": [
    "**Get Info**"
   ]
  },
  {
   "cell_type": "code",
   "execution_count": 0,
   "metadata": {
    "colab": {
     "autoexec": {
      "startup": false,
      "wait_interval": 0
     },
     "base_uri": "https://localhost:8080/",
     "height": 10
    },
    "colab_type": "code",
    "executionInfo": {
     "elapsed": 269,
     "status": "ok",
     "timestamp": 1524605481947,
     "user": {
      "displayName": "Tairi Delgado",
      "photoUrl": "//lh6.googleusercontent.com/-l4lv-T3P6-c/AAAAAAAAAAI/AAAAAAAABIA/4wtQ8ehIzZw/s50-c-k-no/photo.jpg",
      "userId": "115188476170888991569"
     },
     "user_tz": 420
    },
    "id": "x4u2nC3u0dQ9",
    "outputId": "504288a6-4e63-4479-f9f7-2bcce07c58fc"
   },
   "outputs": [
    {
     "data": {
      "text/plain": [
       "10"
      ]
     },
     "execution_count": 26,
     "metadata": {
      "tags": []
     },
     "output_type": "execute_result"
    }
   ],
   "source": [
    "array1.size"
   ]
  },
  {
   "cell_type": "code",
   "execution_count": 0,
   "metadata": {
    "colab": {
     "autoexec": {
      "startup": false,
      "wait_interval": 0
     },
     "base_uri": "https://localhost:8080/",
     "height": 10
    },
    "colab_type": "code",
    "executionInfo": {
     "elapsed": 284,
     "status": "ok",
     "timestamp": 1524605482310,
     "user": {
      "displayName": "Tairi Delgado",
      "photoUrl": "//lh6.googleusercontent.com/-l4lv-T3P6-c/AAAAAAAAAAI/AAAAAAAABIA/4wtQ8ehIzZw/s50-c-k-no/photo.jpg",
      "userId": "115188476170888991569"
     },
     "user_tz": 420
    },
    "id": "p5eJMhgl0jdr",
    "outputId": "9dfc3bef-6365-4cd3-ed32-f8f954246104"
   },
   "outputs": [
    {
     "data": {
      "text/plain": [
       "(10,)"
      ]
     },
     "execution_count": 27,
     "metadata": {
      "tags": []
     },
     "output_type": "execute_result"
    }
   ],
   "source": [
    "array1.shape"
   ]
  },
  {
   "cell_type": "markdown",
   "metadata": {
    "colab_type": "text",
    "id": "JW5B9Am2gN-o"
   },
   "source": [
    "## Numpy Array Math Operations"
   ]
  },
  {
   "cell_type": "markdown",
   "metadata": {
    "colab_type": "text",
    "id": "jl5niyGMhJld"
   },
   "source": [
    "**Scalar and vector addition**"
   ]
  },
  {
   "cell_type": "code",
   "execution_count": 0,
   "metadata": {
    "colab": {
     "autoexec": {
      "startup": false,
      "wait_interval": 0
     },
     "base_uri": "https://localhost:8080/",
     "height": 34
    },
    "colab_type": "code",
    "executionInfo": {
     "elapsed": 556,
     "status": "ok",
     "timestamp": 1524605482946,
     "user": {
      "displayName": "Tairi Delgado",
      "photoUrl": "//lh6.googleusercontent.com/-l4lv-T3P6-c/AAAAAAAAAAI/AAAAAAAABIA/4wtQ8ehIzZw/s50-c-k-no/photo.jpg",
      "userId": "115188476170888991569"
     },
     "user_tz": 420
    },
    "id": "EnnhFF5H2Kae",
    "outputId": "a3ed0907-56c2-4b3d-95f0-48caf50a614a"
   },
   "outputs": [
    {
     "name": "stdout",
     "output_type": "stream",
     "text": [
      "[0 1 2 3 4 5 6 7 8 9]\n"
     ]
    }
   ],
   "source": [
    "print(array1)"
   ]
  },
  {
   "cell_type": "code",
   "execution_count": 0,
   "metadata": {
    "colab": {
     "autoexec": {
      "startup": false,
      "wait_interval": 0
     },
     "base_uri": "https://localhost:8080/",
     "height": 34
    },
    "colab_type": "code",
    "executionInfo": {
     "elapsed": 278,
     "status": "ok",
     "timestamp": 1524605483384,
     "user": {
      "displayName": "Tairi Delgado",
      "photoUrl": "//lh6.googleusercontent.com/-l4lv-T3P6-c/AAAAAAAAAAI/AAAAAAAABIA/4wtQ8ehIzZw/s50-c-k-no/photo.jpg",
      "userId": "115188476170888991569"
     },
     "user_tz": 420
    },
    "id": "_EayV0gT2NqZ",
    "outputId": "9e277e27-06f2-4439-e08e-51ac03649d08"
   },
   "outputs": [
    {
     "name": "stdout",
     "output_type": "stream",
     "text": [
      "[ 5  6  7  8  9 10 11 12 13 14]\n"
     ]
    }
   ],
   "source": [
    "print(array1+5)"
   ]
  },
  {
   "cell_type": "code",
   "execution_count": 0,
   "metadata": {
    "colab": {
     "autoexec": {
      "startup": false,
      "wait_interval": 0
     },
     "base_uri": "https://localhost:8080/",
     "height": 34
    },
    "colab_type": "code",
    "executionInfo": {
     "elapsed": 282,
     "status": "ok",
     "timestamp": 1524605483796,
     "user": {
      "displayName": "Tairi Delgado",
      "photoUrl": "//lh6.googleusercontent.com/-l4lv-T3P6-c/AAAAAAAAAAI/AAAAAAAABIA/4wtQ8ehIzZw/s50-c-k-no/photo.jpg",
      "userId": "115188476170888991569"
     },
     "user_tz": 420
    },
    "id": "_JUWNz3b2Uq8",
    "outputId": "2061a6eb-5560-450c-ccb7-bb3079670692"
   },
   "outputs": [
    {
     "data": {
      "text/plain": [
       "array([11, 22, 33])"
      ]
     },
     "execution_count": 30,
     "metadata": {
      "tags": []
     },
     "output_type": "execute_result"
    }
   ],
   "source": [
    "x1 = np.array([1,2,3])\n",
    "x2 = np.array([10,20,30])\n",
    "np.add(x1,x2)"
   ]
  },
  {
   "cell_type": "markdown",
   "metadata": {
    "colab_type": "text",
    "id": "iVyL83OCh7fO"
   },
   "source": [
    "**Scalar and vector subtraction**"
   ]
  },
  {
   "cell_type": "code",
   "execution_count": 0,
   "metadata": {
    "colab": {
     "autoexec": {
      "startup": false,
      "wait_interval": 0
     },
     "base_uri": "https://localhost:8080/",
     "height": 52
    },
    "colab_type": "code",
    "executionInfo": {
     "elapsed": 269,
     "status": "ok",
     "timestamp": 1524605484210,
     "user": {
      "displayName": "Tairi Delgado",
      "photoUrl": "//lh6.googleusercontent.com/-l4lv-T3P6-c/AAAAAAAAAAI/AAAAAAAABIA/4wtQ8ehIzZw/s50-c-k-no/photo.jpg",
      "userId": "115188476170888991569"
     },
     "user_tz": 420
    },
    "id": "cwe3tBdc2kOT",
    "outputId": "91448cf9-de91-4410-cbb2-66a83207630f"
   },
   "outputs": [
    {
     "name": "stdout",
     "output_type": "stream",
     "text": [
      "[0 1 2 3 4 5 6 7 8 9]\n",
      "[-10  -9  -8  -7  -6  -5  -4  -3  -2  -1]\n"
     ]
    }
   ],
   "source": [
    "print(array1)\n",
    "print(array1-10)"
   ]
  },
  {
   "cell_type": "code",
   "execution_count": 0,
   "metadata": {
    "colab": {
     "autoexec": {
      "startup": false,
      "wait_interval": 0
     },
     "base_uri": "https://localhost:8080/",
     "height": 34
    },
    "colab_type": "code",
    "executionInfo": {
     "elapsed": 419,
     "status": "ok",
     "timestamp": 1524605484752,
     "user": {
      "displayName": "Tairi Delgado",
      "photoUrl": "//lh6.googleusercontent.com/-l4lv-T3P6-c/AAAAAAAAAAI/AAAAAAAABIA/4wtQ8ehIzZw/s50-c-k-no/photo.jpg",
      "userId": "115188476170888991569"
     },
     "user_tz": 420
    },
    "id": "gi3G9ZzB2sjl",
    "outputId": "125724da-5e6e-477a-daf8-51ca1aea686a"
   },
   "outputs": [
    {
     "data": {
      "text/plain": [
       "array([ -9, -18, -27])"
      ]
     },
     "execution_count": 32,
     "metadata": {
      "tags": []
     },
     "output_type": "execute_result"
    }
   ],
   "source": [
    "np.subtract(x1,x2)"
   ]
  },
  {
   "cell_type": "code",
   "execution_count": 0,
   "metadata": {
    "colab": {
     "autoexec": {
      "startup": false,
      "wait_interval": 0
     },
     "base_uri": "https://localhost:8080/",
     "height": 34
    },
    "colab_type": "code",
    "executionInfo": {
     "elapsed": 275,
     "status": "ok",
     "timestamp": 1524605485190,
     "user": {
      "displayName": "Tairi Delgado",
      "photoUrl": "//lh6.googleusercontent.com/-l4lv-T3P6-c/AAAAAAAAAAI/AAAAAAAABIA/4wtQ8ehIzZw/s50-c-k-no/photo.jpg",
      "userId": "115188476170888991569"
     },
     "user_tz": 420
    },
    "id": "JhuYKWcg20ck",
    "outputId": "00b7f578-7f1f-4df9-abf3-9f1f017ccda2"
   },
   "outputs": [
    {
     "data": {
      "text/plain": [
       "array([ -9, -18, -27])"
      ]
     },
     "execution_count": 33,
     "metadata": {
      "tags": []
     },
     "output_type": "execute_result"
    }
   ],
   "source": [
    "x1 - x2"
   ]
  },
  {
   "cell_type": "markdown",
   "metadata": {
    "colab_type": "text",
    "id": "zvncrmGfhPHT"
   },
   "source": [
    "**Scalar and vector multiplication**"
   ]
  },
  {
   "cell_type": "code",
   "execution_count": 0,
   "metadata": {
    "colab": {
     "autoexec": {
      "startup": false,
      "wait_interval": 0
     },
     "base_uri": "https://localhost:8080/",
     "height": 52
    },
    "colab_type": "code",
    "executionInfo": {
     "elapsed": 278,
     "status": "ok",
     "timestamp": 1524605485617,
     "user": {
      "displayName": "Tairi Delgado",
      "photoUrl": "//lh6.googleusercontent.com/-l4lv-T3P6-c/AAAAAAAAAAI/AAAAAAAABIA/4wtQ8ehIzZw/s50-c-k-no/photo.jpg",
      "userId": "115188476170888991569"
     },
     "user_tz": 420
    },
    "id": "esCLZ_6o24_z",
    "outputId": "2fffe3c4-a813-49ed-f656-f6dcef8a06e8"
   },
   "outputs": [
    {
     "name": "stdout",
     "output_type": "stream",
     "text": [
      "[2 3 4 5 6 7]\n",
      "[ 6  9 12 15 18 21]\n"
     ]
    }
   ],
   "source": [
    "print(array2)\n",
    "print(array2*3)"
   ]
  },
  {
   "cell_type": "code",
   "execution_count": 0,
   "metadata": {
    "colab": {
     "autoexec": {
      "startup": false,
      "wait_interval": 0
     },
     "base_uri": "https://localhost:8080/",
     "height": 52
    },
    "colab_type": "code",
    "executionInfo": {
     "elapsed": 435,
     "status": "ok",
     "timestamp": 1524605486191,
     "user": {
      "displayName": "Tairi Delgado",
      "photoUrl": "//lh6.googleusercontent.com/-l4lv-T3P6-c/AAAAAAAAAAI/AAAAAAAABIA/4wtQ8ehIzZw/s50-c-k-no/photo.jpg",
      "userId": "115188476170888991569"
     },
     "user_tz": 420
    },
    "id": "EIY0AM363I_g",
    "outputId": "f9b2cba6-7675-4c87-b9b5-c4e035074496"
   },
   "outputs": [
    {
     "name": "stdout",
     "output_type": "stream",
     "text": [
      "[1 2 3]\n",
      "[10 20 30]\n"
     ]
    }
   ],
   "source": [
    "print(x1)\n",
    "print(x2)"
   ]
  },
  {
   "cell_type": "code",
   "execution_count": 0,
   "metadata": {
    "colab": {
     "autoexec": {
      "startup": false,
      "wait_interval": 0
     },
     "base_uri": "https://localhost:8080/",
     "height": 34
    },
    "colab_type": "code",
    "executionInfo": {
     "elapsed": 283,
     "status": "ok",
     "timestamp": 1524605486607,
     "user": {
      "displayName": "Tairi Delgado",
      "photoUrl": "//lh6.googleusercontent.com/-l4lv-T3P6-c/AAAAAAAAAAI/AAAAAAAABIA/4wtQ8ehIzZw/s50-c-k-no/photo.jpg",
      "userId": "115188476170888991569"
     },
     "user_tz": 420
    },
    "id": "eC1LoaJZ3OsR",
    "outputId": "bc524e13-0f77-4be3-8a14-b44138a6f4eb"
   },
   "outputs": [
    {
     "data": {
      "text/plain": [
       "array([10, 40, 90])"
      ]
     },
     "execution_count": 36,
     "metadata": {
      "tags": []
     },
     "output_type": "execute_result"
    }
   ],
   "source": [
    "np.multiply(x1,x2)"
   ]
  },
  {
   "cell_type": "code",
   "execution_count": 0,
   "metadata": {
    "colab": {
     "autoexec": {
      "startup": false,
      "wait_interval": 0
     },
     "base_uri": "https://localhost:8080/",
     "height": 34
    },
    "colab_type": "code",
    "executionInfo": {
     "elapsed": 275,
     "status": "ok",
     "timestamp": 1524605487030,
     "user": {
      "displayName": "Tairi Delgado",
      "photoUrl": "//lh6.googleusercontent.com/-l4lv-T3P6-c/AAAAAAAAAAI/AAAAAAAABIA/4wtQ8ehIzZw/s50-c-k-no/photo.jpg",
      "userId": "115188476170888991569"
     },
     "user_tz": 420
    },
    "id": "aFlGS9Uv3Z3O",
    "outputId": "800ba0a1-3a14-4833-f11c-c5ba18f5282e"
   },
   "outputs": [
    {
     "data": {
      "text/plain": [
       "array([10, 40, 90])"
      ]
     },
     "execution_count": 37,
     "metadata": {
      "tags": []
     },
     "output_type": "execute_result"
    }
   ],
   "source": [
    "x1*x2"
   ]
  },
  {
   "cell_type": "markdown",
   "metadata": {
    "colab_type": "text",
    "id": "nZirKWtUiDv-"
   },
   "source": [
    "**Scalar and vector division**"
   ]
  },
  {
   "cell_type": "code",
   "execution_count": 0,
   "metadata": {
    "colab": {
     "autoexec": {
      "startup": false,
      "wait_interval": 0
     },
     "base_uri": "https://localhost:8080/",
     "height": 52
    },
    "colab_type": "code",
    "executionInfo": {
     "elapsed": 357,
     "status": "ok",
     "timestamp": 1524605487547,
     "user": {
      "displayName": "Tairi Delgado",
      "photoUrl": "//lh6.googleusercontent.com/-l4lv-T3P6-c/AAAAAAAAAAI/AAAAAAAABIA/4wtQ8ehIzZw/s50-c-k-no/photo.jpg",
      "userId": "115188476170888991569"
     },
     "user_tz": 420
    },
    "id": "_8u5SiU93dwt",
    "outputId": "f55e0462-5e7c-4214-ca0f-f756b785499b"
   },
   "outputs": [
    {
     "name": "stdout",
     "output_type": "stream",
     "text": [
      "[2 3 4 5 6 7]\n",
      "[0.1  0.15 0.2  0.25 0.3  0.35]\n"
     ]
    }
   ],
   "source": [
    "print(array2)\n",
    "print(array2/20)"
   ]
  },
  {
   "cell_type": "code",
   "execution_count": 0,
   "metadata": {
    "colab": {
     "autoexec": {
      "startup": false,
      "wait_interval": 0
     },
     "base_uri": "https://localhost:8080/",
     "height": 34
    },
    "colab_type": "code",
    "executionInfo": {
     "elapsed": 338,
     "status": "ok",
     "timestamp": 1524605488026,
     "user": {
      "displayName": "Tairi Delgado",
      "photoUrl": "//lh6.googleusercontent.com/-l4lv-T3P6-c/AAAAAAAAAAI/AAAAAAAABIA/4wtQ8ehIzZw/s50-c-k-no/photo.jpg",
      "userId": "115188476170888991569"
     },
     "user_tz": 420
    },
    "id": "ONRhGud13k3M",
    "outputId": "b30be41c-db9b-429a-d97f-91d67e8cf69a"
   },
   "outputs": [
    {
     "data": {
      "text/plain": [
       "array([0.1, 0.1, 0.1])"
      ]
     },
     "execution_count": 39,
     "metadata": {
      "tags": []
     },
     "output_type": "execute_result"
    }
   ],
   "source": [
    "np.divide(x1,x2)"
   ]
  },
  {
   "cell_type": "code",
   "execution_count": 0,
   "metadata": {
    "colab": {
     "autoexec": {
      "startup": false,
      "wait_interval": 0
     },
     "base_uri": "https://localhost:8080/",
     "height": 34
    },
    "colab_type": "code",
    "executionInfo": {
     "elapsed": 306,
     "status": "ok",
     "timestamp": 1524605488474,
     "user": {
      "displayName": "Tairi Delgado",
      "photoUrl": "//lh6.googleusercontent.com/-l4lv-T3P6-c/AAAAAAAAAAI/AAAAAAAABIA/4wtQ8ehIzZw/s50-c-k-no/photo.jpg",
      "userId": "115188476170888991569"
     },
     "user_tz": 420
    },
    "id": "4H_qIQrV3uRO",
    "outputId": "e3b2c786-7e01-47d4-b3ca-31e06ed740d2"
   },
   "outputs": [
    {
     "data": {
      "text/plain": [
       "array([0.1, 0.1, 0.1])"
      ]
     },
     "execution_count": 40,
     "metadata": {
      "tags": []
     },
     "output_type": "execute_result"
    }
   ],
   "source": [
    "x1/x2"
   ]
  },
  {
   "cell_type": "markdown",
   "metadata": {
    "colab_type": "text",
    "id": "-Bnir0RchT9j"
   },
   "source": [
    "**Exponentials and roots**"
   ]
  },
  {
   "cell_type": "code",
   "execution_count": 0,
   "metadata": {
    "colab": {
     "autoexec": {
      "startup": false,
      "wait_interval": 0
     },
     "base_uri": "https://localhost:8080/",
     "height": 52
    },
    "colab_type": "code",
    "executionInfo": {
     "elapsed": 492,
     "status": "ok",
     "timestamp": 1524605489111,
     "user": {
      "displayName": "Tairi Delgado",
      "photoUrl": "//lh6.googleusercontent.com/-l4lv-T3P6-c/AAAAAAAAAAI/AAAAAAAABIA/4wtQ8ehIzZw/s50-c-k-no/photo.jpg",
      "userId": "115188476170888991569"
     },
     "user_tz": 420
    },
    "id": "wxZHa6bs3y6D",
    "outputId": "12302169-efae-4184-c7fd-75d61186b86b"
   },
   "outputs": [
    {
     "name": "stdout",
     "output_type": "stream",
     "text": [
      "[0 1 2 3 4 5 6 7 8 9]\n",
      "[ 0  1  4  9 16 25 36 49 64 81]\n"
     ]
    }
   ],
   "source": [
    "print(array1)\n",
    "print(array1**2)"
   ]
  },
  {
   "cell_type": "code",
   "execution_count": 0,
   "metadata": {
    "colab": {
     "autoexec": {
      "startup": false,
      "wait_interval": 0
     },
     "base_uri": "https://localhost:8080/",
     "height": 34
    },
    "colab_type": "code",
    "executionInfo": {
     "elapsed": 273,
     "status": "ok",
     "timestamp": 1524605489541,
     "user": {
      "displayName": "Tairi Delgado",
      "photoUrl": "//lh6.googleusercontent.com/-l4lv-T3P6-c/AAAAAAAAAAI/AAAAAAAABIA/4wtQ8ehIzZw/s50-c-k-no/photo.jpg",
      "userId": "115188476170888991569"
     },
     "user_tz": 420
    },
    "id": "ShxSmmln3-K0",
    "outputId": "1fbace35-adf5-4630-86a0-17c7ef9a37ca"
   },
   "outputs": [
    {
     "data": {
      "text/plain": [
       "array([              1,         1048576, 205891132094649])"
      ]
     },
     "execution_count": 42,
     "metadata": {
      "tags": []
     },
     "output_type": "execute_result"
    }
   ],
   "source": [
    "np.power(x1,x2)"
   ]
  },
  {
   "cell_type": "code",
   "execution_count": 0,
   "metadata": {
    "colab": {
     "autoexec": {
      "startup": false,
      "wait_interval": 0
     },
     "base_uri": "https://localhost:8080/",
     "height": 69
    },
    "colab_type": "code",
    "executionInfo": {
     "elapsed": 281,
     "status": "ok",
     "timestamp": 1524605489984,
     "user": {
      "displayName": "Tairi Delgado",
      "photoUrl": "//lh6.googleusercontent.com/-l4lv-T3P6-c/AAAAAAAAAAI/AAAAAAAABIA/4wtQ8ehIzZw/s50-c-k-no/photo.jpg",
      "userId": "115188476170888991569"
     },
     "user_tz": 420
    },
    "id": "C5QvicAi4FSE",
    "outputId": "7b42e758-8fab-4dd6-8e25-153ac17d9837"
   },
   "outputs": [
    {
     "name": "stdout",
     "output_type": "stream",
     "text": [
      "[0 1 2 3 4 5 6 7 8 9]\n",
      "[0.         1.         1.41421356 1.73205081 2.         2.23606798\n",
      " 2.44948974 2.64575131 2.82842712 3.        ]\n"
     ]
    }
   ],
   "source": [
    "print(array1)\n",
    "print(array1**(1/2))"
   ]
  },
  {
   "cell_type": "code",
   "execution_count": 0,
   "metadata": {
    "colab": {
     "autoexec": {
      "startup": false,
      "wait_interval": 0
     },
     "base_uri": "https://localhost:8080/",
     "height": 34
    },
    "colab_type": "code",
    "executionInfo": {
     "elapsed": 302,
     "status": "ok",
     "timestamp": 1524605490431,
     "user": {
      "displayName": "Tairi Delgado",
      "photoUrl": "//lh6.googleusercontent.com/-l4lv-T3P6-c/AAAAAAAAAAI/AAAAAAAABIA/4wtQ8ehIzZw/s50-c-k-no/photo.jpg",
      "userId": "115188476170888991569"
     },
     "user_tz": 420
    },
    "id": "QuNX1G6Q4Lnz",
    "outputId": "8db95e8d-8133-4f9d-9a8c-243ffacf32e7"
   },
   "outputs": [
    {
     "data": {
      "text/plain": [
       "array([1.        , 1.03526492, 1.0372992 ])"
      ]
     },
     "execution_count": 44,
     "metadata": {
      "tags": []
     },
     "output_type": "execute_result"
    }
   ],
   "source": [
    "np.power(x1,1.0/x2)"
   ]
  },
  {
   "cell_type": "code",
   "execution_count": 0,
   "metadata": {
    "colab": {
     "autoexec": {
      "startup": false,
      "wait_interval": 0
     },
     "base_uri": "https://localhost:8080/",
     "height": 34
    },
    "colab_type": "code",
    "executionInfo": {
     "elapsed": 307,
     "status": "ok",
     "timestamp": 1524605490860,
     "user": {
      "displayName": "Tairi Delgado",
      "photoUrl": "//lh6.googleusercontent.com/-l4lv-T3P6-c/AAAAAAAAAAI/AAAAAAAABIA/4wtQ8ehIzZw/s50-c-k-no/photo.jpg",
      "userId": "115188476170888991569"
     },
     "user_tz": 420
    },
    "id": "mw5EgHsf4Xlc",
    "outputId": "4dc1d073-ec88-4215-fb5b-1618678e2b24"
   },
   "outputs": [
    {
     "name": "stdout",
     "output_type": "stream",
     "text": [
      "28\n"
     ]
    }
   ],
   "source": [
    "print(np.dot([1,2,3],[2,4,6]))"
   ]
  },
  {
   "cell_type": "markdown",
   "metadata": {
    "colab_type": "text",
    "id": "zETqeuiEgTQr"
   },
   "source": [
    "## Numpy Array Statistics Operations"
   ]
  },
  {
   "cell_type": "markdown",
   "metadata": {
    "colab_type": "text",
    "id": "j1LIWe91iVcp"
   },
   "source": [
    "**Min/Max/Range**"
   ]
  },
  {
   "cell_type": "code",
   "execution_count": 0,
   "metadata": {
    "colab": {
     "autoexec": {
      "startup": false,
      "wait_interval": 0
     },
     "base_uri": "https://localhost:8080/",
     "height": 34
    },
    "colab_type": "code",
    "executionInfo": {
     "elapsed": 298,
     "status": "ok",
     "timestamp": 1524605491309,
     "user": {
      "displayName": "Tairi Delgado",
      "photoUrl": "//lh6.googleusercontent.com/-l4lv-T3P6-c/AAAAAAAAAAI/AAAAAAAABIA/4wtQ8ehIzZw/s50-c-k-no/photo.jpg",
      "userId": "115188476170888991569"
     },
     "user_tz": 420
    },
    "id": "BijcrCgE5AOi",
    "outputId": "da191ed8-141b-4f32-a5d8-60c990315d13"
   },
   "outputs": [
    {
     "name": "stdout",
     "output_type": "stream",
     "text": [
      "0\n"
     ]
    }
   ],
   "source": [
    "array1_min = array1.min()\n",
    "print(array1_min)"
   ]
  },
  {
   "cell_type": "code",
   "execution_count": 0,
   "metadata": {
    "colab": {
     "autoexec": {
      "startup": false,
      "wait_interval": 0
     },
     "base_uri": "https://localhost:8080/",
     "height": 34
    },
    "colab_type": "code",
    "executionInfo": {
     "elapsed": 322,
     "status": "ok",
     "timestamp": 1524605491764,
     "user": {
      "displayName": "Tairi Delgado",
      "photoUrl": "//lh6.googleusercontent.com/-l4lv-T3P6-c/AAAAAAAAAAI/AAAAAAAABIA/4wtQ8ehIzZw/s50-c-k-no/photo.jpg",
      "userId": "115188476170888991569"
     },
     "user_tz": 420
    },
    "id": "IPJspdB25ltb",
    "outputId": "a0e7aa2a-f7f6-4080-c0b9-4f9487f276a5"
   },
   "outputs": [
    {
     "name": "stdout",
     "output_type": "stream",
     "text": [
      "9\n"
     ]
    }
   ],
   "source": [
    "array1_max = array1.max()\n",
    "print(array1_max)"
   ]
  },
  {
   "cell_type": "code",
   "execution_count": 0,
   "metadata": {
    "colab": {
     "autoexec": {
      "startup": false,
      "wait_interval": 0
     },
     "base_uri": "https://localhost:8080/",
     "height": 34
    },
    "colab_type": "code",
    "executionInfo": {
     "elapsed": 279,
     "status": "ok",
     "timestamp": 1524605492188,
     "user": {
      "displayName": "Tairi Delgado",
      "photoUrl": "//lh6.googleusercontent.com/-l4lv-T3P6-c/AAAAAAAAAAI/AAAAAAAABIA/4wtQ8ehIzZw/s50-c-k-no/photo.jpg",
      "userId": "115188476170888991569"
     },
     "user_tz": 420
    },
    "id": "034fcaTp585o",
    "outputId": "0e5e66f3-2a31-4e1f-f378-070ad0db4b31"
   },
   "outputs": [
    {
     "name": "stdout",
     "output_type": "stream",
     "text": [
      "9\n"
     ]
    }
   ],
   "source": [
    "array1_range = array1_max - array1_min\n",
    "print(array1_range)"
   ]
  },
  {
   "cell_type": "code",
   "execution_count": 0,
   "metadata": {
    "colab": {
     "autoexec": {
      "startup": false,
      "wait_interval": 0
     },
     "base_uri": "https://localhost:8080/",
     "height": 34
    },
    "colab_type": "code",
    "executionInfo": {
     "elapsed": 302,
     "status": "ok",
     "timestamp": 1524605492629,
     "user": {
      "displayName": "Tairi Delgado",
      "photoUrl": "//lh6.googleusercontent.com/-l4lv-T3P6-c/AAAAAAAAAAI/AAAAAAAABIA/4wtQ8ehIzZw/s50-c-k-no/photo.jpg",
      "userId": "115188476170888991569"
     },
     "user_tz": 420
    },
    "id": "wRsmiIbg6GxQ",
    "outputId": "313636c6-95e2-408c-ac98-48d85500c5ae"
   },
   "outputs": [
    {
     "name": "stdout",
     "output_type": "stream",
     "text": [
      "2\n"
     ]
    }
   ],
   "source": [
    "array2_min = array2.min()\n",
    "print(array2_min)"
   ]
  },
  {
   "cell_type": "code",
   "execution_count": 0,
   "metadata": {
    "colab": {
     "autoexec": {
      "startup": false,
      "wait_interval": 0
     },
     "base_uri": "https://localhost:8080/",
     "height": 34
    },
    "colab_type": "code",
    "executionInfo": {
     "elapsed": 330,
     "status": "ok",
     "timestamp": 1524605493111,
     "user": {
      "displayName": "Tairi Delgado",
      "photoUrl": "//lh6.googleusercontent.com/-l4lv-T3P6-c/AAAAAAAAAAI/AAAAAAAABIA/4wtQ8ehIzZw/s50-c-k-no/photo.jpg",
      "userId": "115188476170888991569"
     },
     "user_tz": 420
    },
    "id": "KbzOyYBt6NN1",
    "outputId": "6efaa1e5-efb9-4d8c-a9c6-b409e39027ec"
   },
   "outputs": [
    {
     "name": "stdout",
     "output_type": "stream",
     "text": [
      "7\n"
     ]
    }
   ],
   "source": [
    "array2_max = array2.max()\n",
    "print(array2_max)"
   ]
  },
  {
   "cell_type": "code",
   "execution_count": 0,
   "metadata": {
    "colab": {
     "autoexec": {
      "startup": false,
      "wait_interval": 0
     },
     "base_uri": "https://localhost:8080/",
     "height": 34
    },
    "colab_type": "code",
    "executionInfo": {
     "elapsed": 283,
     "status": "ok",
     "timestamp": 1524605493518,
     "user": {
      "displayName": "Tairi Delgado",
      "photoUrl": "//lh6.googleusercontent.com/-l4lv-T3P6-c/AAAAAAAAAAI/AAAAAAAABIA/4wtQ8ehIzZw/s50-c-k-no/photo.jpg",
      "userId": "115188476170888991569"
     },
     "user_tz": 420
    },
    "id": "2dQQ9fR76Spd",
    "outputId": "bfbee4f7-7878-4b78-be75-87b2bd47f2f0"
   },
   "outputs": [
    {
     "name": "stdout",
     "output_type": "stream",
     "text": [
      "5\n"
     ]
    }
   ],
   "source": [
    "array2_range = array2_max - array2_min\n",
    "print(array2_range)"
   ]
  },
  {
   "cell_type": "markdown",
   "metadata": {
    "colab_type": "text",
    "id": "ybiezdYViZaI"
   },
   "source": [
    "**Sum and total**"
   ]
  },
  {
   "cell_type": "code",
   "execution_count": 0,
   "metadata": {
    "colab": {
     "autoexec": {
      "startup": false,
      "wait_interval": 0
     },
     "base_uri": "https://localhost:8080/",
     "height": 34
    },
    "colab_type": "code",
    "executionInfo": {
     "elapsed": 313,
     "status": "ok",
     "timestamp": 1524605493946,
     "user": {
      "displayName": "Tairi Delgado",
      "photoUrl": "//lh6.googleusercontent.com/-l4lv-T3P6-c/AAAAAAAAAAI/AAAAAAAABIA/4wtQ8ehIzZw/s50-c-k-no/photo.jpg",
      "userId": "115188476170888991569"
     },
     "user_tz": 420
    },
    "id": "76TgePbM6dIg",
    "outputId": "61d5ff52-c713-4b3a-d886-dfa85cab7331"
   },
   "outputs": [
    {
     "data": {
      "text/plain": [
       "45"
      ]
     },
     "execution_count": 52,
     "metadata": {
      "tags": []
     },
     "output_type": "execute_result"
    }
   ],
   "source": [
    "array1.sum()\n"
   ]
  },
  {
   "cell_type": "code",
   "execution_count": 0,
   "metadata": {
    "colab": {
     "autoexec": {
      "startup": false,
      "wait_interval": 0
     },
     "base_uri": "https://localhost:8080/",
     "height": 34
    },
    "colab_type": "code",
    "executionInfo": {
     "elapsed": 275,
     "status": "ok",
     "timestamp": 1524605494345,
     "user": {
      "displayName": "Tairi Delgado",
      "photoUrl": "//lh6.googleusercontent.com/-l4lv-T3P6-c/AAAAAAAAAAI/AAAAAAAABIA/4wtQ8ehIzZw/s50-c-k-no/photo.jpg",
      "userId": "115188476170888991569"
     },
     "user_tz": 420
    },
    "id": "whtpAP2a6hrr",
    "outputId": "44406d33-7e33-42d9-f2b3-c0863c58f68d"
   },
   "outputs": [
    {
     "data": {
      "text/plain": [
       "27"
      ]
     },
     "execution_count": 53,
     "metadata": {
      "tags": []
     },
     "output_type": "execute_result"
    }
   ],
   "source": [
    "array2.sum()"
   ]
  },
  {
   "cell_type": "code",
   "execution_count": 0,
   "metadata": {
    "colab": {
     "autoexec": {
      "startup": false,
      "wait_interval": 0
     },
     "base_uri": "https://localhost:8080/",
     "height": 34
    },
    "colab_type": "code",
    "executionInfo": {
     "elapsed": 297,
     "status": "ok",
     "timestamp": 1524605494765,
     "user": {
      "displayName": "Tairi Delgado",
      "photoUrl": "//lh6.googleusercontent.com/-l4lv-T3P6-c/AAAAAAAAAAI/AAAAAAAABIA/4wtQ8ehIzZw/s50-c-k-no/photo.jpg",
      "userId": "115188476170888991569"
     },
     "user_tz": 420
    },
    "id": "tJR9fWgI6jpk",
    "outputId": "103753f3-69e7-4399-9c22-5eafcb87edb2"
   },
   "outputs": [
    {
     "data": {
      "text/plain": [
       "30"
      ]
     },
     "execution_count": 54,
     "metadata": {
      "tags": []
     },
     "output_type": "execute_result"
    }
   ],
   "source": [
    "array3.sum()"
   ]
  },
  {
   "cell_type": "markdown",
   "metadata": {
    "colab_type": "text",
    "id": "jONq79wdicNP"
   },
   "source": [
    "**Count and frequency**"
   ]
  },
  {
   "cell_type": "code",
   "execution_count": 0,
   "metadata": {
    "colab": {
     "autoexec": {
      "startup": false,
      "wait_interval": 0
     },
     "base_uri": "https://localhost:8080/",
     "height": 34
    },
    "colab_type": "code",
    "executionInfo": {
     "elapsed": 494,
     "status": "ok",
     "timestamp": 1531516127714,
     "user": {
      "displayName": "Tairi Delgado",
      "photoUrl": "//lh6.googleusercontent.com/-l4lv-T3P6-c/AAAAAAAAAAI/AAAAAAAABIA/4wtQ8ehIzZw/s50-c-k-no/photo.jpg",
      "userId": "115188476170888991569"
     },
     "user_tz": 420
    },
    "id": "DVzKwVujlSr3",
    "outputId": "d8593a30-d75a-40cb-9901-5b9505c42b98"
   },
   "outputs": [
    {
     "data": {
      "text/plain": [
       "(array([0, 1, 2, 3, 5, 6, 8]), array([1, 3, 2, 1, 2, 1, 1]))"
      ]
     },
     "execution_count": 2,
     "metadata": {
      "tags": []
     },
     "output_type": "execute_result"
    }
   ],
   "source": [
    "np.unique([2,0,1,3,2,1,5,1,6,5,8], return_counts=True)\n"
   ]
  },
  {
   "cell_type": "markdown",
   "metadata": {
    "colab_type": "text",
    "id": "FMCrJx16igBx"
   },
   "source": [
    "**Mean and median**"
   ]
  },
  {
   "cell_type": "code",
   "execution_count": 0,
   "metadata": {
    "colab": {
     "autoexec": {
      "startup": false,
      "wait_interval": 0
     },
     "base_uri": "https://localhost:8080/",
     "height": 34
    },
    "colab_type": "code",
    "executionInfo": {
     "elapsed": 261,
     "status": "ok",
     "timestamp": 1524605972623,
     "user": {
      "displayName": "Tairi Delgado",
      "photoUrl": "//lh6.googleusercontent.com/-l4lv-T3P6-c/AAAAAAAAAAI/AAAAAAAABIA/4wtQ8ehIzZw/s50-c-k-no/photo.jpg",
      "userId": "115188476170888991569"
     },
     "user_tz": 420
    },
    "id": "4lgBELMrmI0-",
    "outputId": "367fe002-4066-4b81-92d0-d69f021618a6"
   },
   "outputs": [
    {
     "name": "stdout",
     "output_type": "stream",
     "text": [
      "4.5\n"
     ]
    }
   ],
   "source": [
    "print(np.mean(array1))"
   ]
  },
  {
   "cell_type": "code",
   "execution_count": 0,
   "metadata": {
    "colab": {
     "autoexec": {
      "startup": false,
      "wait_interval": 0
     },
     "base_uri": "https://localhost:8080/",
     "height": 34
    },
    "colab_type": "code",
    "executionInfo": {
     "elapsed": 306,
     "status": "ok",
     "timestamp": 1524605988152,
     "user": {
      "displayName": "Tairi Delgado",
      "photoUrl": "//lh6.googleusercontent.com/-l4lv-T3P6-c/AAAAAAAAAAI/AAAAAAAABIA/4wtQ8ehIzZw/s50-c-k-no/photo.jpg",
      "userId": "115188476170888991569"
     },
     "user_tz": 420
    },
    "id": "XQnRThBimPm1",
    "outputId": "ab10a3ce-dd42-4469-961c-4b751e9e9c8d"
   },
   "outputs": [
    {
     "name": "stdout",
     "output_type": "stream",
     "text": [
      "4.5\n"
     ]
    }
   ],
   "source": [
    "print(np.median(array1))"
   ]
  },
  {
   "cell_type": "code",
   "execution_count": 0,
   "metadata": {
    "colab": {
     "autoexec": {
      "startup": false,
      "wait_interval": 0
     },
     "base_uri": "https://localhost:8080/",
     "height": 34
    },
    "colab_type": "code",
    "executionInfo": {
     "elapsed": 534,
     "status": "ok",
     "timestamp": 1524606021744,
     "user": {
      "displayName": "Tairi Delgado",
      "photoUrl": "//lh6.googleusercontent.com/-l4lv-T3P6-c/AAAAAAAAAAI/AAAAAAAABIA/4wtQ8ehIzZw/s50-c-k-no/photo.jpg",
      "userId": "115188476170888991569"
     },
     "user_tz": 420
    },
    "id": "8dhWRhPzmTsL",
    "outputId": "4b9e21ca-2873-4f69-bc21-dafa809ffcc4"
   },
   "outputs": [
    {
     "name": "stdout",
     "output_type": "stream",
     "text": [
      "7.0\n"
     ]
    }
   ],
   "source": [
    "print(np.median([1,3,3,4,5,5,5,6,7,7,8,9,9,10,11,12,12]))"
   ]
  },
  {
   "cell_type": "markdown",
   "metadata": {
    "colab_type": "text",
    "id": "dDEXZHT3itso"
   },
   "source": [
    "**Variance and standard deviation**"
   ]
  },
  {
   "cell_type": "code",
   "execution_count": 0,
   "metadata": {
    "colab": {
     "autoexec": {
      "startup": false,
      "wait_interval": 0
     },
     "base_uri": "https://localhost:8080/",
     "height": 34
    },
    "colab_type": "code",
    "executionInfo": {
     "elapsed": 298,
     "status": "ok",
     "timestamp": 1524606052977,
     "user": {
      "displayName": "Tairi Delgado",
      "photoUrl": "//lh6.googleusercontent.com/-l4lv-T3P6-c/AAAAAAAAAAI/AAAAAAAABIA/4wtQ8ehIzZw/s50-c-k-no/photo.jpg",
      "userId": "115188476170888991569"
     },
     "user_tz": 420
    },
    "id": "ypMKZJZOmd2T",
    "outputId": "e8c78813-87d8-4429-c719-43745196fe29"
   },
   "outputs": [
    {
     "data": {
      "text/plain": [
       "8.25"
      ]
     },
     "execution_count": 62,
     "metadata": {
      "tags": []
     },
     "output_type": "execute_result"
    }
   ],
   "source": [
    "np.var(array1)"
   ]
  },
  {
   "cell_type": "code",
   "execution_count": 0,
   "metadata": {
    "colab": {
     "autoexec": {
      "startup": false,
      "wait_interval": 0
     },
     "base_uri": "https://localhost:8080/",
     "height": 34
    },
    "colab_type": "code",
    "executionInfo": {
     "elapsed": 339,
     "status": "ok",
     "timestamp": 1524606059916,
     "user": {
      "displayName": "Tairi Delgado",
      "photoUrl": "//lh6.googleusercontent.com/-l4lv-T3P6-c/AAAAAAAAAAI/AAAAAAAABIA/4wtQ8ehIzZw/s50-c-k-no/photo.jpg",
      "userId": "115188476170888991569"
     },
     "user_tz": 420
    },
    "id": "5Azi4AdMmjHb",
    "outputId": "1d583d0c-672c-488e-a815-e1d23a0c9f02"
   },
   "outputs": [
    {
     "data": {
      "text/plain": [
       "2.9166666666666665"
      ]
     },
     "execution_count": 63,
     "metadata": {
      "tags": []
     },
     "output_type": "execute_result"
    }
   ],
   "source": [
    "np.var(array2)"
   ]
  },
  {
   "cell_type": "code",
   "execution_count": 0,
   "metadata": {
    "colab": {
     "autoexec": {
      "startup": false,
      "wait_interval": 0
     },
     "base_uri": "https://localhost:8080/",
     "height": 34
    },
    "colab_type": "code",
    "executionInfo": {
     "elapsed": 284,
     "status": "ok",
     "timestamp": 1524606071139,
     "user": {
      "displayName": "Tairi Delgado",
      "photoUrl": "//lh6.googleusercontent.com/-l4lv-T3P6-c/AAAAAAAAAAI/AAAAAAAABIA/4wtQ8ehIzZw/s50-c-k-no/photo.jpg",
      "userId": "115188476170888991569"
     },
     "user_tz": 420
    },
    "id": "Xb9cCfPMmku3",
    "outputId": "cf7387d3-b217-41c7-ae76-4a3f1af9c183"
   },
   "outputs": [
    {
     "data": {
      "text/plain": [
       "2.8722813232690143"
      ]
     },
     "execution_count": 64,
     "metadata": {
      "tags": []
     },
     "output_type": "execute_result"
    }
   ],
   "source": [
    "np.std(array1)"
   ]
  },
  {
   "cell_type": "code",
   "execution_count": 0,
   "metadata": {
    "colab": {
     "autoexec": {
      "startup": false,
      "wait_interval": 0
     },
     "base_uri": "https://localhost:8080/",
     "height": 34
    },
    "colab_type": "code",
    "executionInfo": {
     "elapsed": 289,
     "status": "ok",
     "timestamp": 1524606079180,
     "user": {
      "displayName": "Tairi Delgado",
      "photoUrl": "//lh6.googleusercontent.com/-l4lv-T3P6-c/AAAAAAAAAAI/AAAAAAAABIA/4wtQ8ehIzZw/s50-c-k-no/photo.jpg",
      "userId": "115188476170888991569"
     },
     "user_tz": 420
    },
    "id": "7xfwpUlGmnb-",
    "outputId": "5ce11ab2-a000-44bd-d04a-24028485e6c4"
   },
   "outputs": [
    {
     "data": {
      "text/plain": [
       "1.707825127659933"
      ]
     },
     "execution_count": 65,
     "metadata": {
      "tags": []
     },
     "output_type": "execute_result"
    }
   ],
   "source": [
    "np.std(array2)"
   ]
  },
  {
   "cell_type": "markdown",
   "metadata": {
    "colab_type": "text",
    "id": "Tq1LfNcriysM"
   },
   "source": [
    "# Pandas Series for 1D Data"
   ]
  },
  {
   "cell_type": "markdown",
   "metadata": {
    "colab_type": "text",
    "id": "JB8JoD2SjEoZ"
   },
   "source": [
    "## Initializing and Converting to Panda Series"
   ]
  },
  {
   "cell_type": "code",
   "execution_count": 0,
   "metadata": {
    "colab": {
     "autoexec": {
      "startup": false,
      "wait_interval": 0
     }
    },
    "colab_type": "code",
    "id": "SHm-gzWyqx6q"
   },
   "outputs": [],
   "source": [
    "import pandas as pd\n"
   ]
  },
  {
   "cell_type": "markdown",
   "metadata": {
    "colab_type": "text",
    "id": "BS4uajjSj4Ec"
   },
   "source": [
    "**Create Series without index (list)**"
   ]
  },
  {
   "cell_type": "code",
   "execution_count": 0,
   "metadata": {
    "colab": {
     "autoexec": {
      "startup": false,
      "wait_interval": 0
     },
     "base_uri": "https://localhost:8080/",
     "height": 121
    },
    "colab_type": "code",
    "executionInfo": {
     "elapsed": 359,
     "status": "ok",
     "timestamp": 1524607209407,
     "user": {
      "displayName": "Tairi Delgado",
      "photoUrl": "//lh6.googleusercontent.com/-l4lv-T3P6-c/AAAAAAAAAAI/AAAAAAAABIA/4wtQ8ehIzZw/s50-c-k-no/photo.jpg",
      "userId": "115188476170888991569"
     },
     "user_tz": 420
    },
    "id": "yhWvwykTq2Dy",
    "outputId": "66552123-9c94-4664-8bdf-d6f47390f13f"
   },
   "outputs": [
    {
     "name": "stdout",
     "output_type": "stream",
     "text": [
      "0    1\n",
      "1    2\n",
      "2    3\n",
      "3    4\n",
      "4    5\n",
      "dtype: int64\n"
     ]
    }
   ],
   "source": [
    "s1 = pd.Series([1,2,3,4,5])\n",
    "print(s1)\n"
   ]
  },
  {
   "cell_type": "markdown",
   "metadata": {
    "colab_type": "text",
    "id": "BTuKvXDPj7fT"
   },
   "source": [
    "**Create Series with index (dictionary)**"
   ]
  },
  {
   "cell_type": "code",
   "execution_count": 0,
   "metadata": {
    "colab": {
     "autoexec": {
      "startup": false,
      "wait_interval": 0
     },
     "base_uri": "https://localhost:8080/",
     "height": 121
    },
    "colab_type": "code",
    "executionInfo": {
     "elapsed": 338,
     "status": "ok",
     "timestamp": 1524607279561,
     "user": {
      "displayName": "Tairi Delgado",
      "photoUrl": "//lh6.googleusercontent.com/-l4lv-T3P6-c/AAAAAAAAAAI/AAAAAAAABIA/4wtQ8ehIzZw/s50-c-k-no/photo.jpg",
      "userId": "115188476170888991569"
     },
     "user_tz": 420
    },
    "id": "WbMp-yOKq_Gq",
    "outputId": "5fcd8dc7-1ba0-4f5d-e47f-2d63907d7492"
   },
   "outputs": [
    {
     "name": "stdout",
     "output_type": "stream",
     "text": [
      "a    1\n",
      "b    2\n",
      "c    3\n",
      "d    4\n",
      "e    5\n",
      "dtype: int64\n"
     ]
    }
   ],
   "source": [
    "s2 = pd.Series({'a': 1, 'b': 2, 'c': 3, 'd': 4, 'e': 5})\n",
    "print(s2)\n"
   ]
  },
  {
   "cell_type": "markdown",
   "metadata": {
    "colab_type": "text",
    "id": "IIpb5stdj9hu"
   },
   "source": [
    "**Convert Numpy Array to Series**"
   ]
  },
  {
   "cell_type": "code",
   "execution_count": 0,
   "metadata": {
    "colab": {
     "autoexec": {
      "startup": false,
      "wait_interval": 0
     },
     "base_uri": "https://localhost:8080/",
     "height": 208
    },
    "colab_type": "code",
    "executionInfo": {
     "elapsed": 273,
     "status": "ok",
     "timestamp": 1524607335809,
     "user": {
      "displayName": "Tairi Delgado",
      "photoUrl": "//lh6.googleusercontent.com/-l4lv-T3P6-c/AAAAAAAAAAI/AAAAAAAABIA/4wtQ8ehIzZw/s50-c-k-no/photo.jpg",
      "userId": "115188476170888991569"
     },
     "user_tz": 420
    },
    "id": "-Atp3D_2rTmn",
    "outputId": "3adc0542-d3c4-44fd-a897-4a52f21418b3"
   },
   "outputs": [
    {
     "name": "stdout",
     "output_type": "stream",
     "text": [
      "0    0\n",
      "1    1\n",
      "2    2\n",
      "3    3\n",
      "4    4\n",
      "5    5\n",
      "6    6\n",
      "7    7\n",
      "8    8\n",
      "9    9\n",
      "dtype: int64\n"
     ]
    }
   ],
   "source": [
    "s3 = pd.Series(array1)\n",
    "print(s3)"
   ]
  },
  {
   "cell_type": "markdown",
   "metadata": {
    "colab_type": "text",
    "id": "fwu3F8Bkjrf5"
   },
   "source": [
    "## Accessing and Selection"
   ]
  },
  {
   "cell_type": "code",
   "execution_count": 0,
   "metadata": {
    "colab": {
     "autoexec": {
      "startup": false,
      "wait_interval": 0
     }
    },
    "colab_type": "code",
    "id": "GOhkC0gKsCV_"
   },
   "outputs": [],
   "source": [
    "s = pd.Series({'A': 2, 'B': 4, 'C': 5, 'E': 8})"
   ]
  },
  {
   "cell_type": "code",
   "execution_count": 0,
   "metadata": {
    "colab": {
     "autoexec": {
      "startup": false,
      "wait_interval": 0
     },
     "base_uri": "https://localhost:8080/",
     "height": 34
    },
    "colab_type": "code",
    "executionInfo": {
     "elapsed": 314,
     "status": "ok",
     "timestamp": 1524607568680,
     "user": {
      "displayName": "Tairi Delgado",
      "photoUrl": "//lh6.googleusercontent.com/-l4lv-T3P6-c/AAAAAAAAAAI/AAAAAAAABIA/4wtQ8ehIzZw/s50-c-k-no/photo.jpg",
      "userId": "115188476170888991569"
     },
     "user_tz": 420
    },
    "id": "4BgLsE7NsR4L",
    "outputId": "4b6a4a17-a207-4818-8705-98622dd77085"
   },
   "outputs": [
    {
     "name": "stdout",
     "output_type": "stream",
     "text": [
      "5\n"
     ]
    }
   ],
   "source": [
    "print(s[2])"
   ]
  },
  {
   "cell_type": "markdown",
   "metadata": {
    "colab_type": "text",
    "id": "DsYdncHdkBRq"
   },
   "source": [
    "**Selection by label**"
   ]
  },
  {
   "cell_type": "code",
   "execution_count": 0,
   "metadata": {
    "colab": {
     "autoexec": {
      "startup": false,
      "wait_interval": 0
     },
     "base_uri": "https://localhost:8080/",
     "height": 34
    },
    "colab_type": "code",
    "executionInfo": {
     "elapsed": 302,
     "status": "ok",
     "timestamp": 1524607615834,
     "user": {
      "displayName": "Tairi Delgado",
      "photoUrl": "//lh6.googleusercontent.com/-l4lv-T3P6-c/AAAAAAAAAAI/AAAAAAAABIA/4wtQ8ehIzZw/s50-c-k-no/photo.jpg",
      "userId": "115188476170888991569"
     },
     "user_tz": 420
    },
    "id": "jYo73HeqsZyr",
    "outputId": "70a7189a-4bae-47f7-a2b6-c83ec339a86d"
   },
   "outputs": [
    {
     "data": {
      "text/plain": [
       "8"
      ]
     },
     "execution_count": 77,
     "metadata": {
      "tags": []
     },
     "output_type": "execute_result"
    }
   ],
   "source": [
    "s.loc['E']"
   ]
  },
  {
   "cell_type": "markdown",
   "metadata": {
    "colab_type": "text",
    "id": "PTSR1DrikH8f"
   },
   "source": [
    "**Selection by position**"
   ]
  },
  {
   "cell_type": "code",
   "execution_count": 0,
   "metadata": {
    "colab": {
     "autoexec": {
      "startup": false,
      "wait_interval": 0
     },
     "base_uri": "https://localhost:8080/",
     "height": 34
    },
    "colab_type": "code",
    "executionInfo": {
     "elapsed": 301,
     "status": "ok",
     "timestamp": 1524607643828,
     "user": {
      "displayName": "Tairi Delgado",
      "photoUrl": "//lh6.googleusercontent.com/-l4lv-T3P6-c/AAAAAAAAAAI/AAAAAAAABIA/4wtQ8ehIzZw/s50-c-k-no/photo.jpg",
      "userId": "115188476170888991569"
     },
     "user_tz": 420
    },
    "id": "1Oiau3Stsi7X",
    "outputId": "b526ebca-2d67-4a02-cd20-751e820bec24"
   },
   "outputs": [
    {
     "data": {
      "text/plain": [
       "4"
      ]
     },
     "execution_count": 78,
     "metadata": {
      "tags": []
     },
     "output_type": "execute_result"
    }
   ],
   "source": [
    "s.iloc[1]"
   ]
  },
  {
   "cell_type": "markdown",
   "metadata": {
    "colab_type": "text",
    "id": "hy4a-z6QkMdI"
   },
   "source": [
    "**Selection by slicing**"
   ]
  },
  {
   "cell_type": "code",
   "execution_count": 0,
   "metadata": {
    "colab": {
     "autoexec": {
      "startup": false,
      "wait_interval": 0
     },
     "base_uri": "https://localhost:8080/",
     "height": 69
    },
    "colab_type": "code",
    "executionInfo": {
     "elapsed": 576,
     "status": "ok",
     "timestamp": 1524607784638,
     "user": {
      "displayName": "Tairi Delgado",
      "photoUrl": "//lh6.googleusercontent.com/-l4lv-T3P6-c/AAAAAAAAAAI/AAAAAAAABIA/4wtQ8ehIzZw/s50-c-k-no/photo.jpg",
      "userId": "115188476170888991569"
     },
     "user_tz": 420
    },
    "id": "eoDzJZt1s1eo",
    "outputId": "c13e0554-9b97-4183-9224-93bb78889f7e"
   },
   "outputs": [
    {
     "data": {
      "text/plain": [
       "B    4\n",
       "C    5\n",
       "dtype: int64"
      ]
     },
     "execution_count": 79,
     "metadata": {
      "tags": []
     },
     "output_type": "execute_result"
    }
   ],
   "source": [
    "s[1:3]"
   ]
  },
  {
   "cell_type": "markdown",
   "metadata": {
    "colab_type": "text",
    "id": "1xOlq7dCkPWM"
   },
   "source": [
    "**Iterations**"
   ]
  },
  {
   "cell_type": "code",
   "execution_count": 0,
   "metadata": {
    "colab": {
     "autoexec": {
      "startup": false,
      "wait_interval": 0
     },
     "base_uri": "https://localhost:8080/",
     "height": 364
    },
    "colab_type": "code",
    "executionInfo": {
     "elapsed": 337,
     "status": "ok",
     "timestamp": 1524607833694,
     "user": {
      "displayName": "Tairi Delgado",
      "photoUrl": "//lh6.googleusercontent.com/-l4lv-T3P6-c/AAAAAAAAAAI/AAAAAAAABIA/4wtQ8ehIzZw/s50-c-k-no/photo.jpg",
      "userId": "115188476170888991569"
     },
     "user_tz": 420
    },
    "id": "SucYceKAtPN9",
    "outputId": "a41dff0d-463e-4c83-83c2-47b22cb60063"
   },
   "outputs": [
    {
     "name": "stdout",
     "output_type": "stream",
     "text": [
      "A    2\n",
      "B    4\n",
      "C    5\n",
      "E    8\n",
      "dtype: int64\n",
      "A    2\n",
      "B    4\n",
      "C    5\n",
      "E    8\n",
      "dtype: int64\n",
      "A    2\n",
      "B    4\n",
      "C    5\n",
      "E    8\n",
      "dtype: int64\n",
      "A    2\n",
      "B    4\n",
      "C    5\n",
      "E    8\n",
      "dtype: int64\n"
     ]
    }
   ],
   "source": [
    "for item in s:\n",
    "  print(s)"
   ]
  },
  {
   "cell_type": "markdown",
   "metadata": {
    "colab_type": "text",
    "id": "L-G139eRkQP2"
   },
   "source": [
    "**Access by condition (AND OR NOT)**"
   ]
  },
  {
   "cell_type": "code",
   "execution_count": 0,
   "metadata": {
    "colab": {
     "autoexec": {
      "startup": false,
      "wait_interval": 0
     },
     "base_uri": "https://localhost:8080/",
     "height": 52
    },
    "colab_type": "code",
    "executionInfo": {
     "elapsed": 319,
     "status": "ok",
     "timestamp": 1524608045363,
     "user": {
      "displayName": "Tairi Delgado",
      "photoUrl": "//lh6.googleusercontent.com/-l4lv-T3P6-c/AAAAAAAAAAI/AAAAAAAABIA/4wtQ8ehIzZw/s50-c-k-no/photo.jpg",
      "userId": "115188476170888991569"
     },
     "user_tz": 420
    },
    "id": "NtslV1tMuDed",
    "outputId": "46ad4a99-abcd-45fc-ec98-956bdb3fe52a"
   },
   "outputs": [
    {
     "name": "stdout",
     "output_type": "stream",
     "text": [
      "B    4\n",
      "dtype: int64\n"
     ]
    }
   ],
   "source": [
    "print(s[s == 4])"
   ]
  },
  {
   "cell_type": "code",
   "execution_count": 0,
   "metadata": {
    "colab": {
     "autoexec": {
      "startup": false,
      "wait_interval": 0
     },
     "base_uri": "https://localhost:8080/",
     "height": 69
    },
    "colab_type": "code",
    "executionInfo": {
     "elapsed": 297,
     "status": "ok",
     "timestamp": 1524608075618,
     "user": {
      "displayName": "Tairi Delgado",
      "photoUrl": "//lh6.googleusercontent.com/-l4lv-T3P6-c/AAAAAAAAAAI/AAAAAAAABIA/4wtQ8ehIzZw/s50-c-k-no/photo.jpg",
      "userId": "115188476170888991569"
     },
     "user_tz": 420
    },
    "id": "FOPuAsa-uKwP",
    "outputId": "569d7dfa-0521-45e4-c337-2cb83d9669b0"
   },
   "outputs": [
    {
     "name": "stdout",
     "output_type": "stream",
     "text": [
      "C    5\n",
      "E    8\n",
      "dtype: int64\n"
     ]
    }
   ],
   "source": [
    "print(s[s > 4])"
   ]
  },
  {
   "cell_type": "code",
   "execution_count": 0,
   "metadata": {
    "colab": {
     "autoexec": {
      "startup": false,
      "wait_interval": 0
     },
     "base_uri": "https://localhost:8080/",
     "height": 52
    },
    "colab_type": "code",
    "executionInfo": {
     "elapsed": 430,
     "status": "ok",
     "timestamp": 1524608102772,
     "user": {
      "displayName": "Tairi Delgado",
      "photoUrl": "//lh6.googleusercontent.com/-l4lv-T3P6-c/AAAAAAAAAAI/AAAAAAAABIA/4wtQ8ehIzZw/s50-c-k-no/photo.jpg",
      "userId": "115188476170888991569"
     },
     "user_tz": 420
    },
    "id": "GNmftDsVuTH1",
    "outputId": "3f53483b-d9d2-42c9-af17-e2ee00b6f5d0"
   },
   "outputs": [
    {
     "name": "stdout",
     "output_type": "stream",
     "text": [
      "A    2\n",
      "dtype: int64\n"
     ]
    }
   ],
   "source": [
    "print(s[s <= 3])"
   ]
  },
  {
   "cell_type": "code",
   "execution_count": 0,
   "metadata": {
    "colab": {
     "autoexec": {
      "startup": false,
      "wait_interval": 0
     },
     "base_uri": "https://localhost:8080/",
     "height": 69
    },
    "colab_type": "code",
    "executionInfo": {
     "elapsed": 298,
     "status": "ok",
     "timestamp": 1524608183188,
     "user": {
      "displayName": "Tairi Delgado",
      "photoUrl": "//lh6.googleusercontent.com/-l4lv-T3P6-c/AAAAAAAAAAI/AAAAAAAABIA/4wtQ8ehIzZw/s50-c-k-no/photo.jpg",
      "userId": "115188476170888991569"
     },
     "user_tz": 420
    },
    "id": "JrJp7FCnuYv-",
    "outputId": "4a130482-6476-44dc-abea-de2b40fccd14"
   },
   "outputs": [
    {
     "name": "stdout",
     "output_type": "stream",
     "text": [
      "A    2\n",
      "B    4\n",
      "dtype: int64\n"
     ]
    }
   ],
   "source": [
    "print(s[(s >= 2) & (s < 5)])"
   ]
  },
  {
   "cell_type": "code",
   "execution_count": 0,
   "metadata": {
    "colab": {
     "autoexec": {
      "startup": false,
      "wait_interval": 0
     },
     "base_uri": "https://localhost:8080/",
     "height": 86
    },
    "colab_type": "code",
    "executionInfo": {
     "elapsed": 304,
     "status": "ok",
     "timestamp": 1524608236850,
     "user": {
      "displayName": "Tairi Delgado",
      "photoUrl": "//lh6.googleusercontent.com/-l4lv-T3P6-c/AAAAAAAAAAI/AAAAAAAABIA/4wtQ8ehIzZw/s50-c-k-no/photo.jpg",
      "userId": "115188476170888991569"
     },
     "user_tz": 420
    },
    "id": "ywZrccN2utJb",
    "outputId": "41896277-e10a-4983-d5fd-087166bf7e69"
   },
   "outputs": [
    {
     "name": "stdout",
     "output_type": "stream",
     "text": [
      "A    2\n",
      "C    5\n",
      "E    8\n",
      "dtype: int64\n"
     ]
    }
   ],
   "source": [
    "print(s[(s <= 3) | (s > 4)])"
   ]
  },
  {
   "cell_type": "code",
   "execution_count": 0,
   "metadata": {
    "colab": {
     "autoexec": {
      "startup": false,
      "wait_interval": 0
     },
     "base_uri": "https://localhost:8080/",
     "height": 86
    },
    "colab_type": "code",
    "executionInfo": {
     "elapsed": 292,
     "status": "ok",
     "timestamp": 1524608292754,
     "user": {
      "displayName": "Tairi Delgado",
      "photoUrl": "//lh6.googleusercontent.com/-l4lv-T3P6-c/AAAAAAAAAAI/AAAAAAAABIA/4wtQ8ehIzZw/s50-c-k-no/photo.jpg",
      "userId": "115188476170888991569"
     },
     "user_tz": 420
    },
    "id": "ds0q0i_nu5lT",
    "outputId": "a201920c-c524-4b3d-e069-6043e275a957"
   },
   "outputs": [
    {
     "name": "stdout",
     "output_type": "stream",
     "text": [
      "A    2\n",
      "C    5\n",
      "E    8\n",
      "dtype: int64\n"
     ]
    }
   ],
   "source": [
    "print(s[~(s == 4)])"
   ]
  },
  {
   "cell_type": "markdown",
   "metadata": {
    "colab_type": "text",
    "id": "PVBCoMGEkWp9"
   },
   "source": [
    "**Limits and sorting**"
   ]
  },
  {
   "cell_type": "code",
   "execution_count": 0,
   "metadata": {
    "colab": {
     "autoexec": {
      "startup": false,
      "wait_interval": 0
     },
     "base_uri": "https://localhost:8080/",
     "height": 52
    },
    "colab_type": "code",
    "executionInfo": {
     "elapsed": 586,
     "status": "ok",
     "timestamp": 1524608392494,
     "user": {
      "displayName": "Tairi Delgado",
      "photoUrl": "//lh6.googleusercontent.com/-l4lv-T3P6-c/AAAAAAAAAAI/AAAAAAAABIA/4wtQ8ehIzZw/s50-c-k-no/photo.jpg",
      "userId": "115188476170888991569"
     },
     "user_tz": 420
    },
    "id": "dVWfWs5gvNv7",
    "outputId": "17213a9b-d1ab-46c0-c810-38b627fe993a"
   },
   "outputs": [
    {
     "data": {
      "text/plain": [
       "0    1\n",
       "dtype: int64"
      ]
     },
     "execution_count": 94,
     "metadata": {
      "tags": []
     },
     "output_type": "execute_result"
    }
   ],
   "source": [
    "s1.head(1)"
   ]
  },
  {
   "cell_type": "code",
   "execution_count": 0,
   "metadata": {
    "colab": {
     "autoexec": {
      "startup": false,
      "wait_interval": 0
     },
     "base_uri": "https://localhost:8080/",
     "height": 69
    },
    "colab_type": "code",
    "executionInfo": {
     "elapsed": 293,
     "status": "ok",
     "timestamp": 1524608409005,
     "user": {
      "displayName": "Tairi Delgado",
      "photoUrl": "//lh6.googleusercontent.com/-l4lv-T3P6-c/AAAAAAAAAAI/AAAAAAAABIA/4wtQ8ehIzZw/s50-c-k-no/photo.jpg",
      "userId": "115188476170888991569"
     },
     "user_tz": 420
    },
    "id": "ZPr0xm1Vve2I",
    "outputId": "0115970f-d9b1-4aa9-8924-e1d7e0785954"
   },
   "outputs": [
    {
     "data": {
      "text/plain": [
       "d    4\n",
       "e    5\n",
       "dtype: int64"
      ]
     },
     "execution_count": 96,
     "metadata": {
      "tags": []
     },
     "output_type": "execute_result"
    }
   ],
   "source": [
    "s2.tail(2)"
   ]
  },
  {
   "cell_type": "code",
   "execution_count": 0,
   "metadata": {
    "colab": {
     "autoexec": {
      "startup": false,
      "wait_interval": 0
     }
    },
    "colab_type": "code",
    "id": "6cZysziVvkyd"
   },
   "outputs": [],
   "source": [
    "s = pd.Series([3,2,6,4,1,8,3,5,2,9,3,2])"
   ]
  },
  {
   "cell_type": "code",
   "execution_count": 0,
   "metadata": {
    "colab": {
     "autoexec": {
      "startup": false,
      "wait_interval": 0
     },
     "base_uri": "https://localhost:8080/",
     "height": 242
    },
    "colab_type": "code",
    "executionInfo": {
     "elapsed": 295,
     "status": "ok",
     "timestamp": 1524608509747,
     "user": {
      "displayName": "Tairi Delgado",
      "photoUrl": "//lh6.googleusercontent.com/-l4lv-T3P6-c/AAAAAAAAAAI/AAAAAAAABIA/4wtQ8ehIzZw/s50-c-k-no/photo.jpg",
      "userId": "115188476170888991569"
     },
     "user_tz": 420
    },
    "id": "bj1JdMt5v4mG",
    "outputId": "bc72f3d7-4e33-4fcb-a037-7286de349a0e"
   },
   "outputs": [
    {
     "data": {
      "text/plain": [
       "4     1\n",
       "1     2\n",
       "8     2\n",
       "11    2\n",
       "0     3\n",
       "6     3\n",
       "10    3\n",
       "3     4\n",
       "7     5\n",
       "2     6\n",
       "5     8\n",
       "9     9\n",
       "dtype: int64"
      ]
     },
     "execution_count": 101,
     "metadata": {
      "tags": []
     },
     "output_type": "execute_result"
    }
   ],
   "source": [
    "s.sort_values()"
   ]
  },
  {
   "cell_type": "code",
   "execution_count": 0,
   "metadata": {
    "colab": {
     "autoexec": {
      "startup": false,
      "wait_interval": 0
     },
     "base_uri": "https://localhost:8080/",
     "height": 69
    },
    "colab_type": "code",
    "executionInfo": {
     "elapsed": 300,
     "status": "ok",
     "timestamp": 1524608601515,
     "user": {
      "displayName": "Tairi Delgado",
      "photoUrl": "//lh6.googleusercontent.com/-l4lv-T3P6-c/AAAAAAAAAAI/AAAAAAAABIA/4wtQ8ehIzZw/s50-c-k-no/photo.jpg",
      "userId": "115188476170888991569"
     },
     "user_tz": 420
    },
    "id": "uzv3GUaMwOlJ",
    "outputId": "f6f13e17-8766-4811-c08c-20c1550040f4"
   },
   "outputs": [
    {
     "data": {
      "text/plain": [
       "4    1\n",
       "1    2\n",
       "dtype: int64"
      ]
     },
     "execution_count": 103,
     "metadata": {
      "tags": []
     },
     "output_type": "execute_result"
    }
   ],
   "source": [
    "s.sort_values().head(2)"
   ]
  },
  {
   "cell_type": "markdown",
   "metadata": {
    "colab_type": "text",
    "id": "GQm-8sQFkhgI"
   },
   "source": [
    "## Modifying Panda Series"
   ]
  },
  {
   "cell_type": "markdown",
   "metadata": {
    "colab_type": "text",
    "id": "lN8B8mePkpFn"
   },
   "source": [
    "**Append**"
   ]
  },
  {
   "cell_type": "code",
   "execution_count": 0,
   "metadata": {
    "colab": {
     "autoexec": {
      "startup": false,
      "wait_interval": 0
     }
    },
    "colab_type": "code",
    "id": "oN3SvJiTwuXA"
   },
   "outputs": [],
   "source": [
    "s1 = pd.Series([1,2,3])\n",
    "s2 = pd.Series([4,5,6])"
   ]
  },
  {
   "cell_type": "code",
   "execution_count": 0,
   "metadata": {
    "colab": {
     "autoexec": {
      "startup": false,
      "wait_interval": 0
     },
     "base_uri": "https://localhost:8080/",
     "height": 138
    },
    "colab_type": "code",
    "executionInfo": {
     "elapsed": 293,
     "status": "ok",
     "timestamp": 1524608762421,
     "user": {
      "displayName": "Tairi Delgado",
      "photoUrl": "//lh6.googleusercontent.com/-l4lv-T3P6-c/AAAAAAAAAAI/AAAAAAAABIA/4wtQ8ehIzZw/s50-c-k-no/photo.jpg",
      "userId": "115188476170888991569"
     },
     "user_tz": 420
    },
    "id": "EnqDQ3Ljw1Vc",
    "outputId": "f53fa627-3d44-4750-bbf8-65948143730a"
   },
   "outputs": [
    {
     "name": "stdout",
     "output_type": "stream",
     "text": [
      "0    1\n",
      "1    2\n",
      "2    3\n",
      "0    4\n",
      "1    5\n",
      "2    6\n",
      "dtype: int64\n"
     ]
    }
   ],
   "source": [
    "print(s1.append(s2))"
   ]
  },
  {
   "cell_type": "code",
   "execution_count": 0,
   "metadata": {
    "colab": {
     "autoexec": {
      "startup": false,
      "wait_interval": 0
     },
     "base_uri": "https://localhost:8080/",
     "height": 138
    },
    "colab_type": "code",
    "executionInfo": {
     "elapsed": 302,
     "status": "ok",
     "timestamp": 1524608803288,
     "user": {
      "displayName": "Tairi Delgado",
      "photoUrl": "//lh6.googleusercontent.com/-l4lv-T3P6-c/AAAAAAAAAAI/AAAAAAAABIA/4wtQ8ehIzZw/s50-c-k-no/photo.jpg",
      "userId": "115188476170888991569"
     },
     "user_tz": 420
    },
    "id": "YgJO2XI0w-Uj",
    "outputId": "c8a07b9c-f718-484c-8b3a-37911b8762d9"
   },
   "outputs": [
    {
     "name": "stdout",
     "output_type": "stream",
     "text": [
      "0    1\n",
      "1    2\n",
      "2    3\n",
      "0    4\n",
      "1    5\n",
      "2    6\n",
      "dtype: int64\n"
     ]
    }
   ],
   "source": [
    "print(pd.concat([s1,s2]))"
   ]
  },
  {
   "cell_type": "markdown",
   "metadata": {
    "colab_type": "text",
    "id": "PFwd8Wp3ks2R"
   },
   "source": [
    "**Deleting from Series**"
   ]
  },
  {
   "cell_type": "code",
   "execution_count": 0,
   "metadata": {
    "colab": {
     "autoexec": {
      "startup": false,
      "wait_interval": 0
     },
     "base_uri": "https://localhost:8080/",
     "height": 138
    },
    "colab_type": "code",
    "executionInfo": {
     "elapsed": 578,
     "status": "ok",
     "timestamp": 1524608838454,
     "user": {
      "displayName": "Tairi Delgado",
      "photoUrl": "//lh6.googleusercontent.com/-l4lv-T3P6-c/AAAAAAAAAAI/AAAAAAAABIA/4wtQ8ehIzZw/s50-c-k-no/photo.jpg",
      "userId": "115188476170888991569"
     },
     "user_tz": 420
    },
    "id": "fs3VYS2KxEuT",
    "outputId": "d50832cf-1251-47d8-904a-17ff0fce41b0"
   },
   "outputs": [
    {
     "name": "stdout",
     "output_type": "stream",
     "text": [
      "0    1\n",
      "1    2\n",
      "2    3\n",
      "dtype: int64\n",
      "0    1\n",
      "1    2\n",
      "dtype: int64\n"
     ]
    }
   ],
   "source": [
    "print(s1)\n",
    "print(s1.drop([2]))"
   ]
  },
  {
   "cell_type": "markdown",
   "metadata": {
    "colab_type": "text",
    "id": "L_2B_4jikvnS"
   },
   "source": [
    "**Updating to Series**"
   ]
  },
  {
   "cell_type": "code",
   "execution_count": 0,
   "metadata": {
    "colab": {
     "autoexec": {
      "startup": false,
      "wait_interval": 0
     },
     "base_uri": "https://localhost:8080/",
     "height": 121
    },
    "colab_type": "code",
    "executionInfo": {
     "elapsed": 329,
     "status": "ok",
     "timestamp": 1524609090286,
     "user": {
      "displayName": "Tairi Delgado",
      "photoUrl": "//lh6.googleusercontent.com/-l4lv-T3P6-c/AAAAAAAAAAI/AAAAAAAABIA/4wtQ8ehIzZw/s50-c-k-no/photo.jpg",
      "userId": "115188476170888991569"
     },
     "user_tz": 420
    },
    "id": "7kXsa8tVxPWi",
    "outputId": "2830ed23-7d82-4f2f-8cb5-0e50a7357e2f"
   },
   "outputs": [
    {
     "name": "stdout",
     "output_type": "stream",
     "text": [
      "0    12\n",
      "1     3\n",
      "2     8\n",
      "3     2\n",
      "4     6\n",
      "dtype: int64\n"
     ]
    }
   ],
   "source": [
    "s1 = pd.Series([12,3,4,2,9])\n",
    "s2 = pd.Series([8,6], index=[2,4])\n",
    "s1.update(s2)\n",
    "print(s1)"
   ]
  },
  {
   "cell_type": "markdown",
   "metadata": {
    "colab_type": "text",
    "id": "5wJh2gnklV8A"
   },
   "source": [
    "## Panda Series Math Operations"
   ]
  },
  {
   "cell_type": "markdown",
   "metadata": {
    "colab_type": "text",
    "id": "pvMcJynflnuq"
   },
   "source": [
    "**Scalar and vector addition**"
   ]
  },
  {
   "cell_type": "code",
   "execution_count": 0,
   "metadata": {
    "colab": {
     "autoexec": {
      "startup": false,
      "wait_interval": 0
     }
    },
    "colab_type": "code",
    "id": "mK3y9cRLyxMM"
   },
   "outputs": [],
   "source": [
    "s1 = pd.Series([1,2,3,4,5])\n",
    "s2 = pd.Series([5,10,15,20,25])"
   ]
  },
  {
   "cell_type": "code",
   "execution_count": 0,
   "metadata": {
    "colab": {
     "autoexec": {
      "startup": false,
      "wait_interval": 0
     },
     "base_uri": "https://localhost:8080/",
     "height": 121
    },
    "colab_type": "code",
    "executionInfo": {
     "elapsed": 294,
     "status": "ok",
     "timestamp": 1524609296849,
     "user": {
      "displayName": "Tairi Delgado",
      "photoUrl": "//lh6.googleusercontent.com/-l4lv-T3P6-c/AAAAAAAAAAI/AAAAAAAABIA/4wtQ8ehIzZw/s50-c-k-no/photo.jpg",
      "userId": "115188476170888991569"
     },
     "user_tz": 420
    },
    "id": "ZDc0aTrvy3_s",
    "outputId": "c3b132a5-c584-436d-c78e-38ee8026a442"
   },
   "outputs": [
    {
     "name": "stdout",
     "output_type": "stream",
     "text": [
      "0    11\n",
      "1    12\n",
      "2    13\n",
      "3    14\n",
      "4    15\n",
      "dtype: int64\n"
     ]
    }
   ],
   "source": [
    "print(s1+10)"
   ]
  },
  {
   "cell_type": "code",
   "execution_count": 0,
   "metadata": {
    "colab": {
     "autoexec": {
      "startup": false,
      "wait_interval": 0
     },
     "base_uri": "https://localhost:8080/",
     "height": 121
    },
    "colab_type": "code",
    "executionInfo": {
     "elapsed": 319,
     "status": "ok",
     "timestamp": 1524609307555,
     "user": {
      "displayName": "Tairi Delgado",
      "photoUrl": "//lh6.googleusercontent.com/-l4lv-T3P6-c/AAAAAAAAAAI/AAAAAAAABIA/4wtQ8ehIzZw/s50-c-k-no/photo.jpg",
      "userId": "115188476170888991569"
     },
     "user_tz": 420
    },
    "id": "TUhOR-pWy7Ob",
    "outputId": "a4d9419a-7827-4558-ca90-e50efb12d7e8"
   },
   "outputs": [
    {
     "name": "stdout",
     "output_type": "stream",
     "text": [
      "0     6\n",
      "1    12\n",
      "2    18\n",
      "3    24\n",
      "4    30\n",
      "dtype: int64\n"
     ]
    }
   ],
   "source": [
    "print(s1 + s2)"
   ]
  },
  {
   "cell_type": "markdown",
   "metadata": {
    "colab_type": "text",
    "id": "DgaWPwcMlqAa"
   },
   "source": [
    "**Scalar and vector subtraction**"
   ]
  },
  {
   "cell_type": "code",
   "execution_count": 0,
   "metadata": {
    "colab": {
     "autoexec": {
      "startup": false,
      "wait_interval": 0
     },
     "base_uri": "https://localhost:8080/",
     "height": 121
    },
    "colab_type": "code",
    "executionInfo": {
     "elapsed": 351,
     "status": "ok",
     "timestamp": 1524609347810,
     "user": {
      "displayName": "Tairi Delgado",
      "photoUrl": "//lh6.googleusercontent.com/-l4lv-T3P6-c/AAAAAAAAAAI/AAAAAAAABIA/4wtQ8ehIzZw/s50-c-k-no/photo.jpg",
      "userId": "115188476170888991569"
     },
     "user_tz": 420
    },
    "id": "WBsiQzqpzEIR",
    "outputId": "f86a66f9-f6cf-4bb1-c1b2-54beb3005ba0"
   },
   "outputs": [
    {
     "name": "stdout",
     "output_type": "stream",
     "text": [
      "0   -9\n",
      "1   -8\n",
      "2   -7\n",
      "3   -6\n",
      "4   -5\n",
      "dtype: int64\n"
     ]
    }
   ],
   "source": [
    "print(s1-10)"
   ]
  },
  {
   "cell_type": "code",
   "execution_count": 0,
   "metadata": {
    "colab": {
     "autoexec": {
      "startup": false,
      "wait_interval": 0
     },
     "base_uri": "https://localhost:8080/",
     "height": 121
    },
    "colab_type": "code",
    "executionInfo": {
     "elapsed": 310,
     "status": "ok",
     "timestamp": 1524609362744,
     "user": {
      "displayName": "Tairi Delgado",
      "photoUrl": "//lh6.googleusercontent.com/-l4lv-T3P6-c/AAAAAAAAAAI/AAAAAAAABIA/4wtQ8ehIzZw/s50-c-k-no/photo.jpg",
      "userId": "115188476170888991569"
     },
     "user_tz": 420
    },
    "id": "Y-VbYY79zHgU",
    "outputId": "81467f6c-e6ab-44e3-c4ac-1b4bfbf3bfcb"
   },
   "outputs": [
    {
     "name": "stdout",
     "output_type": "stream",
     "text": [
      "0    -4\n",
      "1    -8\n",
      "2   -12\n",
      "3   -16\n",
      "4   -20\n",
      "dtype: int64\n"
     ]
    }
   ],
   "source": [
    "print(s1 - s2)"
   ]
  },
  {
   "cell_type": "markdown",
   "metadata": {
    "colab_type": "text",
    "id": "gXvW8rcNluv-"
   },
   "source": [
    "**Scalar and vector multiplication**"
   ]
  },
  {
   "cell_type": "code",
   "execution_count": 0,
   "metadata": {
    "colab": {
     "autoexec": {
      "startup": false,
      "wait_interval": 0
     },
     "base_uri": "https://localhost:8080/",
     "height": 121
    },
    "colab_type": "code",
    "executionInfo": {
     "elapsed": 299,
     "status": "ok",
     "timestamp": 1524609379178,
     "user": {
      "displayName": "Tairi Delgado",
      "photoUrl": "//lh6.googleusercontent.com/-l4lv-T3P6-c/AAAAAAAAAAI/AAAAAAAABIA/4wtQ8ehIzZw/s50-c-k-no/photo.jpg",
      "userId": "115188476170888991569"
     },
     "user_tz": 420
    },
    "id": "gCN361J5zMa9",
    "outputId": "0fc22c40-b871-426a-bbce-20662a808a94"
   },
   "outputs": [
    {
     "data": {
      "text/plain": [
       "0      5\n",
       "1     20\n",
       "2     45\n",
       "3     80\n",
       "4    125\n",
       "dtype: int64"
      ]
     },
     "execution_count": 116,
     "metadata": {
      "tags": []
     },
     "output_type": "execute_result"
    }
   ],
   "source": [
    "s1 * s2"
   ]
  },
  {
   "cell_type": "markdown",
   "metadata": {
    "colab_type": "text",
    "id": "Xe1WQJ_wlxPx"
   },
   "source": [
    "**Scalar and vector division**"
   ]
  },
  {
   "cell_type": "code",
   "execution_count": 0,
   "metadata": {
    "colab": {
     "autoexec": {
      "startup": false,
      "wait_interval": 0
     },
     "base_uri": "https://localhost:8080/",
     "height": 121
    },
    "colab_type": "code",
    "executionInfo": {
     "elapsed": 314,
     "status": "ok",
     "timestamp": 1524609424911,
     "user": {
      "displayName": "Tairi Delgado",
      "photoUrl": "//lh6.googleusercontent.com/-l4lv-T3P6-c/AAAAAAAAAAI/AAAAAAAABIA/4wtQ8ehIzZw/s50-c-k-no/photo.jpg",
      "userId": "115188476170888991569"
     },
     "user_tz": 420
    },
    "id": "oi95iyDfzXIa",
    "outputId": "c32a1b3c-0b9b-423b-c8a3-6f27a5aee575"
   },
   "outputs": [
    {
     "name": "stdout",
     "output_type": "stream",
     "text": [
      "0    0.25\n",
      "1    0.50\n",
      "2    0.75\n",
      "3    1.00\n",
      "4    1.25\n",
      "dtype: float64\n"
     ]
    }
   ],
   "source": [
    "print(s1/4)"
   ]
  },
  {
   "cell_type": "code",
   "execution_count": 0,
   "metadata": {
    "colab": {
     "autoexec": {
      "startup": false,
      "wait_interval": 0
     },
     "base_uri": "https://localhost:8080/",
     "height": 121
    },
    "colab_type": "code",
    "executionInfo": {
     "elapsed": 343,
     "status": "ok",
     "timestamp": 1524609438354,
     "user": {
      "displayName": "Tairi Delgado",
      "photoUrl": "//lh6.googleusercontent.com/-l4lv-T3P6-c/AAAAAAAAAAI/AAAAAAAABIA/4wtQ8ehIzZw/s50-c-k-no/photo.jpg",
      "userId": "115188476170888991569"
     },
     "user_tz": 420
    },
    "id": "1gHok598zajT",
    "outputId": "f6bbbb5c-f0f1-42d5-82ea-4ea9f544866e"
   },
   "outputs": [
    {
     "name": "stdout",
     "output_type": "stream",
     "text": [
      "0    0.2\n",
      "1    0.2\n",
      "2    0.2\n",
      "3    0.2\n",
      "4    0.2\n",
      "dtype: float64\n"
     ]
    }
   ],
   "source": [
    "print(s1/s2)"
   ]
  },
  {
   "cell_type": "markdown",
   "metadata": {
    "colab_type": "text",
    "id": "4-EW5AGflzXo"
   },
   "source": [
    "**Exponentials and roots**"
   ]
  },
  {
   "cell_type": "code",
   "execution_count": 0,
   "metadata": {
    "colab": {
     "autoexec": {
      "startup": false,
      "wait_interval": 0
     },
     "base_uri": "https://localhost:8080/",
     "height": 121
    },
    "colab_type": "code",
    "executionInfo": {
     "elapsed": 529,
     "status": "ok",
     "timestamp": 1524609462401,
     "user": {
      "displayName": "Tairi Delgado",
      "photoUrl": "//lh6.googleusercontent.com/-l4lv-T3P6-c/AAAAAAAAAAI/AAAAAAAABIA/4wtQ8ehIzZw/s50-c-k-no/photo.jpg",
      "userId": "115188476170888991569"
     },
     "user_tz": 420
    },
    "id": "8C6dDCGZzehl",
    "outputId": "f58740b1-144d-4710-b3f1-f297be4e3b57"
   },
   "outputs": [
    {
     "name": "stdout",
     "output_type": "stream",
     "text": [
      "0     1\n",
      "1     4\n",
      "2     9\n",
      "3    16\n",
      "4    25\n",
      "dtype: int64\n"
     ]
    }
   ],
   "source": [
    "print(s1**2)"
   ]
  },
  {
   "cell_type": "code",
   "execution_count": 0,
   "metadata": {
    "colab": {
     "autoexec": {
      "startup": false,
      "wait_interval": 0
     },
     "base_uri": "https://localhost:8080/",
     "height": 121
    },
    "colab_type": "code",
    "executionInfo": {
     "elapsed": 301,
     "status": "ok",
     "timestamp": 1524609473436,
     "user": {
      "displayName": "Tairi Delgado",
      "photoUrl": "//lh6.googleusercontent.com/-l4lv-T3P6-c/AAAAAAAAAAI/AAAAAAAABIA/4wtQ8ehIzZw/s50-c-k-no/photo.jpg",
      "userId": "115188476170888991569"
     },
     "user_tz": 420
    },
    "id": "Z9hnPaptzjoH",
    "outputId": "cabb7d26-d09a-44ce-c0b3-5850591a6a51"
   },
   "outputs": [
    {
     "name": "stdout",
     "output_type": "stream",
     "text": [
      "0    1.000000\n",
      "1    1.414214\n",
      "2    1.732051\n",
      "3    2.000000\n",
      "4    2.236068\n",
      "dtype: float64\n"
     ]
    }
   ],
   "source": [
    "print(s1**(1/2))"
   ]
  },
  {
   "cell_type": "markdown",
   "metadata": {
    "colab_type": "text",
    "id": "R3AXlkinl77X"
   },
   "source": [
    "## Panda Series Statistics Operations"
   ]
  },
  {
   "cell_type": "markdown",
   "metadata": {
    "colab_type": "text",
    "id": "CH22U6Q_mG2d"
   },
   "source": [
    "**Min/Max/Range**\n"
   ]
  },
  {
   "cell_type": "code",
   "execution_count": 0,
   "metadata": {
    "colab": {
     "autoexec": {
      "startup": false,
      "wait_interval": 0
     },
     "base_uri": "https://localhost:8080/",
     "height": 34
    },
    "colab_type": "code",
    "executionInfo": {
     "elapsed": 332,
     "status": "ok",
     "timestamp": 1524609531536,
     "user": {
      "displayName": "Tairi Delgado",
      "photoUrl": "//lh6.googleusercontent.com/-l4lv-T3P6-c/AAAAAAAAAAI/AAAAAAAABIA/4wtQ8ehIzZw/s50-c-k-no/photo.jpg",
      "userId": "115188476170888991569"
     },
     "user_tz": 420
    },
    "id": "wKCKCImYzuKH",
    "outputId": "ab0f8711-fb03-4997-d299-892b1c9f3c86"
   },
   "outputs": [
    {
     "name": "stdout",
     "output_type": "stream",
     "text": [
      "1\n"
     ]
    }
   ],
   "source": [
    "s1_min = s1.min()\n",
    "print(s1_min)"
   ]
  },
  {
   "cell_type": "code",
   "execution_count": 0,
   "metadata": {
    "colab": {
     "autoexec": {
      "startup": false,
      "wait_interval": 0
     },
     "base_uri": "https://localhost:8080/",
     "height": 34
    },
    "colab_type": "code",
    "executionInfo": {
     "elapsed": 294,
     "status": "ok",
     "timestamp": 1524609546134,
     "user": {
      "displayName": "Tairi Delgado",
      "photoUrl": "//lh6.googleusercontent.com/-l4lv-T3P6-c/AAAAAAAAAAI/AAAAAAAABIA/4wtQ8ehIzZw/s50-c-k-no/photo.jpg",
      "userId": "115188476170888991569"
     },
     "user_tz": 420
    },
    "id": "v8JmC3b6z0UJ",
    "outputId": "6682e265-398d-4a8e-9673-83d30a4c4bee"
   },
   "outputs": [
    {
     "name": "stdout",
     "output_type": "stream",
     "text": [
      "5\n"
     ]
    }
   ],
   "source": [
    "s1_max = s1.max()\n",
    "print(s1_max)"
   ]
  },
  {
   "cell_type": "code",
   "execution_count": 0,
   "metadata": {
    "colab": {
     "autoexec": {
      "startup": false,
      "wait_interval": 0
     },
     "base_uri": "https://localhost:8080/",
     "height": 34
    },
    "colab_type": "code",
    "executionInfo": {
     "elapsed": 288,
     "status": "ok",
     "timestamp": 1524609569424,
     "user": {
      "displayName": "Tairi Delgado",
      "photoUrl": "//lh6.googleusercontent.com/-l4lv-T3P6-c/AAAAAAAAAAI/AAAAAAAABIA/4wtQ8ehIzZw/s50-c-k-no/photo.jpg",
      "userId": "115188476170888991569"
     },
     "user_tz": 420
    },
    "id": "rTFSDo8hz36R",
    "outputId": "753c07b9-9c45-45c5-e994-784f35738b12"
   },
   "outputs": [
    {
     "name": "stdout",
     "output_type": "stream",
     "text": [
      "4\n"
     ]
    }
   ],
   "source": [
    "s1_range = s1_max - s1_min\n",
    "print(s1_range)"
   ]
  },
  {
   "cell_type": "markdown",
   "metadata": {
    "colab_type": "text",
    "id": "mFsaMtlamNb-"
   },
   "source": [
    "**Sum and total**"
   ]
  },
  {
   "cell_type": "code",
   "execution_count": 0,
   "metadata": {
    "colab": {
     "autoexec": {
      "startup": false,
      "wait_interval": 0
     },
     "base_uri": "https://localhost:8080/",
     "height": 34
    },
    "colab_type": "code",
    "executionInfo": {
     "elapsed": 286,
     "status": "ok",
     "timestamp": 1524609604821,
     "user": {
      "displayName": "Tairi Delgado",
      "photoUrl": "//lh6.googleusercontent.com/-l4lv-T3P6-c/AAAAAAAAAAI/AAAAAAAABIA/4wtQ8ehIzZw/s50-c-k-no/photo.jpg",
      "userId": "115188476170888991569"
     },
     "user_tz": 420
    },
    "id": "8UBZwlJDz_ct",
    "outputId": "b5c6bb8c-5ccd-4d2c-b5bc-d11f6e03fa81"
   },
   "outputs": [
    {
     "data": {
      "text/plain": [
       "15"
      ]
     },
     "execution_count": 125,
     "metadata": {
      "tags": []
     },
     "output_type": "execute_result"
    }
   ],
   "source": [
    "s1.sum()"
   ]
  },
  {
   "cell_type": "code",
   "execution_count": 0,
   "metadata": {
    "colab": {
     "autoexec": {
      "startup": false,
      "wait_interval": 0
     },
     "base_uri": "https://localhost:8080/",
     "height": 34
    },
    "colab_type": "code",
    "executionInfo": {
     "elapsed": 337,
     "status": "ok",
     "timestamp": 1524609611468,
     "user": {
      "displayName": "Tairi Delgado",
      "photoUrl": "//lh6.googleusercontent.com/-l4lv-T3P6-c/AAAAAAAAAAI/AAAAAAAABIA/4wtQ8ehIzZw/s50-c-k-no/photo.jpg",
      "userId": "115188476170888991569"
     },
     "user_tz": 420
    },
    "id": "w9IZMdaZ0GUV",
    "outputId": "32403487-707c-49f4-9813-03f736d9420b"
   },
   "outputs": [
    {
     "data": {
      "text/plain": [
       "75"
      ]
     },
     "execution_count": 126,
     "metadata": {
      "tags": []
     },
     "output_type": "execute_result"
    }
   ],
   "source": [
    "s2.sum()"
   ]
  },
  {
   "cell_type": "markdown",
   "metadata": {
    "colab_type": "text",
    "id": "tzec48FwmQLk"
   },
   "source": [
    "**Count and frequency**"
   ]
  },
  {
   "cell_type": "code",
   "execution_count": 0,
   "metadata": {
    "colab": {
     "autoexec": {
      "startup": false,
      "wait_interval": 0
     },
     "base_uri": "https://localhost:8080/",
     "height": 173
    },
    "colab_type": "code",
    "executionInfo": {
     "elapsed": 310,
     "status": "ok",
     "timestamp": 1524609639529,
     "user": {
      "displayName": "Tairi Delgado",
      "photoUrl": "//lh6.googleusercontent.com/-l4lv-T3P6-c/AAAAAAAAAAI/AAAAAAAABIA/4wtQ8ehIzZw/s50-c-k-no/photo.jpg",
      "userId": "115188476170888991569"
     },
     "user_tz": 420
    },
    "id": "JvpPKjDU0I3j",
    "outputId": "9a0edf52-0d7a-4aa7-8188-d6a102bfaa0a"
   },
   "outputs": [
    {
     "data": {
      "text/plain": [
       "3    3\n",
       "2    3\n",
       "9    1\n",
       "8    1\n",
       "6    1\n",
       "5    1\n",
       "4    1\n",
       "1    1\n",
       "dtype: int64"
      ]
     },
     "execution_count": 127,
     "metadata": {
      "tags": []
     },
     "output_type": "execute_result"
    }
   ],
   "source": [
    "s.value_counts()"
   ]
  },
  {
   "cell_type": "markdown",
   "metadata": {
    "colab_type": "text",
    "id": "oM4qKIVOmR4Z"
   },
   "source": [
    "**Mean and median**"
   ]
  },
  {
   "cell_type": "code",
   "execution_count": 0,
   "metadata": {
    "colab": {
     "autoexec": {
      "startup": false,
      "wait_interval": 0
     },
     "base_uri": "https://localhost:8080/",
     "height": 34
    },
    "colab_type": "code",
    "executionInfo": {
     "elapsed": 287,
     "status": "ok",
     "timestamp": 1524609670928,
     "user": {
      "displayName": "Tairi Delgado",
      "photoUrl": "//lh6.googleusercontent.com/-l4lv-T3P6-c/AAAAAAAAAAI/AAAAAAAABIA/4wtQ8ehIzZw/s50-c-k-no/photo.jpg",
      "userId": "115188476170888991569"
     },
     "user_tz": 420
    },
    "id": "qRB4Sf7N0R3E",
    "outputId": "68a4ee55-d436-4d4c-9930-d3fe908ab0da"
   },
   "outputs": [
    {
     "data": {
      "text/plain": [
       "3.0"
      ]
     },
     "execution_count": 128,
     "metadata": {
      "tags": []
     },
     "output_type": "execute_result"
    }
   ],
   "source": [
    "s1.mean()"
   ]
  },
  {
   "cell_type": "code",
   "execution_count": 0,
   "metadata": {
    "colab": {
     "autoexec": {
      "startup": false,
      "wait_interval": 0
     },
     "base_uri": "https://localhost:8080/",
     "height": 34
    },
    "colab_type": "code",
    "executionInfo": {
     "elapsed": 200,
     "status": "ok",
     "timestamp": 1524609678848,
     "user": {
      "displayName": "Tairi Delgado",
      "photoUrl": "//lh6.googleusercontent.com/-l4lv-T3P6-c/AAAAAAAAAAI/AAAAAAAABIA/4wtQ8ehIzZw/s50-c-k-no/photo.jpg",
      "userId": "115188476170888991569"
     },
     "user_tz": 420
    },
    "id": "8KO5Dh7i0WS2",
    "outputId": "400d5724-cd85-476b-f539-31724bb2dae4"
   },
   "outputs": [
    {
     "data": {
      "text/plain": [
       "3.0"
      ]
     },
     "execution_count": 129,
     "metadata": {
      "tags": []
     },
     "output_type": "execute_result"
    }
   ],
   "source": [
    "s1.median()"
   ]
  },
  {
   "cell_type": "code",
   "execution_count": 0,
   "metadata": {
    "colab": {
     "autoexec": {
      "startup": false,
      "wait_interval": 0
     },
     "base_uri": "https://localhost:8080/",
     "height": 34
    },
    "colab_type": "code",
    "executionInfo": {
     "elapsed": 318,
     "status": "ok",
     "timestamp": 1524609691534,
     "user": {
      "displayName": "Tairi Delgado",
      "photoUrl": "//lh6.googleusercontent.com/-l4lv-T3P6-c/AAAAAAAAAAI/AAAAAAAABIA/4wtQ8ehIzZw/s50-c-k-no/photo.jpg",
      "userId": "115188476170888991569"
     },
     "user_tz": 420
    },
    "id": "4DM870OD0Zrg",
    "outputId": "642532b9-4bed-411e-d707-cc2f027dade7"
   },
   "outputs": [
    {
     "data": {
      "text/plain": [
       "15.0"
      ]
     },
     "execution_count": 130,
     "metadata": {
      "tags": []
     },
     "output_type": "execute_result"
    }
   ],
   "source": [
    "s2.mean()"
   ]
  },
  {
   "cell_type": "code",
   "execution_count": 0,
   "metadata": {
    "colab": {
     "autoexec": {
      "startup": false,
      "wait_interval": 0
     },
     "base_uri": "https://localhost:8080/",
     "height": 34
    },
    "colab_type": "code",
    "executionInfo": {
     "elapsed": 318,
     "status": "ok",
     "timestamp": 1524609698369,
     "user": {
      "displayName": "Tairi Delgado",
      "photoUrl": "//lh6.googleusercontent.com/-l4lv-T3P6-c/AAAAAAAAAAI/AAAAAAAABIA/4wtQ8ehIzZw/s50-c-k-no/photo.jpg",
      "userId": "115188476170888991569"
     },
     "user_tz": 420
    },
    "id": "RhEqUWA90bVN",
    "outputId": "6a266221-f06f-4819-d612-cec1ce8a9b17"
   },
   "outputs": [
    {
     "data": {
      "text/plain": [
       "15.0"
      ]
     },
     "execution_count": 131,
     "metadata": {
      "tags": []
     },
     "output_type": "execute_result"
    }
   ],
   "source": [
    "s2.median()"
   ]
  },
  {
   "cell_type": "markdown",
   "metadata": {
    "colab_type": "text",
    "id": "07vTjnlXmVTQ"
   },
   "source": [
    "**Variance and standard deviation**"
   ]
  },
  {
   "cell_type": "code",
   "execution_count": 0,
   "metadata": {
    "colab": {
     "autoexec": {
      "startup": false,
      "wait_interval": 0
     },
     "base_uri": "https://localhost:8080/",
     "height": 34
    },
    "colab_type": "code",
    "executionInfo": {
     "elapsed": 292,
     "status": "ok",
     "timestamp": 1524609720281,
     "user": {
      "displayName": "Tairi Delgado",
      "photoUrl": "//lh6.googleusercontent.com/-l4lv-T3P6-c/AAAAAAAAAAI/AAAAAAAABIA/4wtQ8ehIzZw/s50-c-k-no/photo.jpg",
      "userId": "115188476170888991569"
     },
     "user_tz": 420
    },
    "id": "uz_gBffs0eJH",
    "outputId": "c17feb00-f23e-4788-a537-3fb574ba1394"
   },
   "outputs": [
    {
     "data": {
      "text/plain": [
       "2.5"
      ]
     },
     "execution_count": 132,
     "metadata": {
      "tags": []
     },
     "output_type": "execute_result"
    }
   ],
   "source": [
    "s1.var()"
   ]
  },
  {
   "cell_type": "code",
   "execution_count": 0,
   "metadata": {
    "colab": {
     "autoexec": {
      "startup": false,
      "wait_interval": 0
     },
     "base_uri": "https://localhost:8080/",
     "height": 34
    },
    "colab_type": "code",
    "executionInfo": {
     "elapsed": 405,
     "status": "ok",
     "timestamp": 1524609727492,
     "user": {
      "displayName": "Tairi Delgado",
      "photoUrl": "//lh6.googleusercontent.com/-l4lv-T3P6-c/AAAAAAAAAAI/AAAAAAAABIA/4wtQ8ehIzZw/s50-c-k-no/photo.jpg",
      "userId": "115188476170888991569"
     },
     "user_tz": 420
    },
    "id": "1h5Vp3h-0iWC",
    "outputId": "abfe53e6-87e5-4ee4-fae3-23aab4e9ec4e"
   },
   "outputs": [
    {
     "data": {
      "text/plain": [
       "1.5811388300841898"
      ]
     },
     "execution_count": 133,
     "metadata": {
      "tags": []
     },
     "output_type": "execute_result"
    }
   ],
   "source": [
    "s1.std()"
   ]
  },
  {
   "cell_type": "markdown",
   "metadata": {
    "colab_type": "text",
    "id": "VY4C4vMEmlX4"
   },
   "source": [
    "**Quantile**"
   ]
  },
  {
   "cell_type": "code",
   "execution_count": 0,
   "metadata": {
    "colab": {
     "autoexec": {
      "startup": false,
      "wait_interval": 0
     },
     "base_uri": "https://localhost:8080/",
     "height": 156
    },
    "colab_type": "code",
    "executionInfo": {
     "elapsed": 253,
     "status": "ok",
     "timestamp": 1524609814885,
     "user": {
      "displayName": "Tairi Delgado",
      "photoUrl": "//lh6.googleusercontent.com/-l4lv-T3P6-c/AAAAAAAAAAI/AAAAAAAABIA/4wtQ8ehIzZw/s50-c-k-no/photo.jpg",
      "userId": "115188476170888991569"
     },
     "user_tz": 420
    },
    "id": "AwuOD5Yz0o2Y",
    "outputId": "f03e1b7c-83bd-4959-f106-9bf54c09b3c4"
   },
   "outputs": [
    {
     "data": {
      "text/plain": [
       "0.00    1.0\n",
       "0.10    1.4\n",
       "0.25    2.0\n",
       "0.50    3.0\n",
       "0.75    4.0\n",
       "0.80    4.2\n",
       "1.00    5.0\n",
       "dtype: float64"
      ]
     },
     "execution_count": 134,
     "metadata": {
      "tags": []
     },
     "output_type": "execute_result"
    }
   ],
   "source": [
    "s1.quantile([0, .1, .25, .5, .75, .8, 1])"
   ]
  },
  {
   "cell_type": "markdown",
   "metadata": {
    "colab_type": "text",
    "id": "yk6AnYN5mobN"
   },
   "source": [
    "**Cumulative Sum**"
   ]
  },
  {
   "cell_type": "code",
   "execution_count": 0,
   "metadata": {
    "colab": {
     "autoexec": {
      "startup": false,
      "wait_interval": 0
     },
     "base_uri": "https://localhost:8080/",
     "height": 121
    },
    "colab_type": "code",
    "executionInfo": {
     "elapsed": 300,
     "status": "ok",
     "timestamp": 1524609884796,
     "user": {
      "displayName": "Tairi Delgado",
      "photoUrl": "//lh6.googleusercontent.com/-l4lv-T3P6-c/AAAAAAAAAAI/AAAAAAAABIA/4wtQ8ehIzZw/s50-c-k-no/photo.jpg",
      "userId": "115188476170888991569"
     },
     "user_tz": 420
    },
    "id": "0wNl-ffq1Atn",
    "outputId": "a51485c9-b596-45d9-ef7e-f8460c51ed46"
   },
   "outputs": [
    {
     "data": {
      "text/plain": [
       "0     1\n",
       "1     3\n",
       "2     6\n",
       "3    10\n",
       "4    15\n",
       "dtype: int64"
      ]
     },
     "execution_count": 135,
     "metadata": {
      "tags": []
     },
     "output_type": "execute_result"
    }
   ],
   "source": [
    "s1.cumsum()"
   ]
  },
  {
   "cell_type": "markdown",
   "metadata": {
    "colab_type": "text",
    "id": "K-FAepgimcZK"
   },
   "source": [
    "**Apply and lambda**"
   ]
  },
  {
   "cell_type": "code",
   "execution_count": 0,
   "metadata": {
    "colab": {
     "autoexec": {
      "startup": false,
      "wait_interval": 0
     },
     "base_uri": "https://localhost:8080/",
     "height": 121
    },
    "colab_type": "code",
    "executionInfo": {
     "elapsed": 308,
     "status": "ok",
     "timestamp": 1524609996452,
     "user": {
      "displayName": "Tairi Delgado",
      "photoUrl": "//lh6.googleusercontent.com/-l4lv-T3P6-c/AAAAAAAAAAI/AAAAAAAABIA/4wtQ8ehIzZw/s50-c-k-no/photo.jpg",
      "userId": "115188476170888991569"
     },
     "user_tz": 420
    },
    "id": "bZ4Vh9yH1Vfp",
    "outputId": "51360503-5255-412f-81e5-9583ed9ef51c"
   },
   "outputs": [
    {
     "data": {
      "text/plain": [
       "0    1.000000\n",
       "1    1.414214\n",
       "2    1.732051\n",
       "3    2.000000\n",
       "4    2.236068\n",
       "dtype: float64"
      ]
     },
     "execution_count": 136,
     "metadata": {
      "tags": []
     },
     "output_type": "execute_result"
    }
   ],
   "source": [
    "s1.apply(np.sqrt)"
   ]
  },
  {
   "cell_type": "code",
   "execution_count": 0,
   "metadata": {
    "colab": {
     "autoexec": {
      "startup": false,
      "wait_interval": 0
     },
     "base_uri": "https://localhost:8080/",
     "height": 121
    },
    "colab_type": "code",
    "executionInfo": {
     "elapsed": 323,
     "status": "ok",
     "timestamp": 1524610136428,
     "user": {
      "displayName": "Tairi Delgado",
      "photoUrl": "//lh6.googleusercontent.com/-l4lv-T3P6-c/AAAAAAAAAAI/AAAAAAAABIA/4wtQ8ehIzZw/s50-c-k-no/photo.jpg",
      "userId": "115188476170888991569"
     },
     "user_tz": 420
    },
    "id": "QpDTAmuY1-Se",
    "outputId": "927800bb-4b9e-4637-986f-a4aec9d635ea"
   },
   "outputs": [
    {
     "data": {
      "text/plain": [
       "0     5\n",
       "1    10\n",
       "2    15\n",
       "3    20\n",
       "4    25\n",
       "dtype: int64"
      ]
     },
     "execution_count": 140,
     "metadata": {
      "tags": []
     },
     "output_type": "execute_result"
    }
   ],
   "source": [
    "s2"
   ]
  },
  {
   "cell_type": "code",
   "execution_count": 0,
   "metadata": {
    "colab": {
     "autoexec": {
      "startup": false,
      "wait_interval": 0
     },
     "base_uri": "https://localhost:8080/",
     "height": 121
    },
    "colab_type": "code",
    "executionInfo": {
     "elapsed": 339,
     "status": "ok",
     "timestamp": 1524610213212,
     "user": {
      "displayName": "Tairi Delgado",
      "photoUrl": "//lh6.googleusercontent.com/-l4lv-T3P6-c/AAAAAAAAAAI/AAAAAAAABIA/4wtQ8ehIzZw/s50-c-k-no/photo.jpg",
      "userId": "115188476170888991569"
     },
     "user_tz": 420
    },
    "id": "rCG6NUgb2IAz",
    "outputId": "57ad8c58-3ec5-4c2f-c73a-8c371055a917"
   },
   "outputs": [
    {
     "data": {
      "text/plain": [
       "0    False\n",
       "1    False\n",
       "2     True\n",
       "3     True\n",
       "4     True\n",
       "dtype: bool"
      ]
     },
     "execution_count": 142,
     "metadata": {
      "tags": []
     },
     "output_type": "execute_result"
    }
   ],
   "source": [
    "s2.apply(lambda x: False if x < 15 else True)"
   ]
  },
  {
   "cell_type": "markdown",
   "metadata": {
    "colab_type": "text",
    "id": "nBe-ynBenBoK"
   },
   "source": [
    "# Numpy Matrices for 2D Data"
   ]
  },
  {
   "cell_type": "markdown",
   "metadata": {
    "colab_type": "text",
    "id": "fkVlQgFYnPG6"
   },
   "source": [
    "## Initializing and Converting to Numpy Matrix"
   ]
  },
  {
   "cell_type": "markdown",
   "metadata": {
    "colab_type": "text",
    "id": "plLkNLBZnapX"
   },
   "source": [
    "**Numpy Matrix by string**"
   ]
  },
  {
   "cell_type": "code",
   "execution_count": 0,
   "metadata": {
    "colab": {
     "autoexec": {
      "startup": false,
      "wait_interval": 0
     },
     "base_uri": "https://localhost:8080/",
     "height": 52
    },
    "colab_type": "code",
    "executionInfo": {
     "elapsed": 295,
     "status": "ok",
     "timestamp": 1524612122889,
     "user": {
      "displayName": "Tairi Delgado",
      "photoUrl": "//lh6.googleusercontent.com/-l4lv-T3P6-c/AAAAAAAAAAI/AAAAAAAABIA/4wtQ8ehIzZw/s50-c-k-no/photo.jpg",
      "userId": "115188476170888991569"
     },
     "user_tz": 420
    },
    "id": "2HUBPTTr9oMH",
    "outputId": "38b6ab69-12f9-4a1e-ca5c-2a7101199be8"
   },
   "outputs": [
    {
     "name": "stdout",
     "output_type": "stream",
     "text": [
      "[[1 2 3]\n",
      " [4 5 6]]\n"
     ]
    }
   ],
   "source": [
    "a = np.matrix('1 2 3; 4 5 6')\n",
    "print(a)"
   ]
  },
  {
   "cell_type": "markdown",
   "metadata": {
    "colab_type": "text",
    "id": "BuwCq7qbnlyh"
   },
   "source": [
    "**Numpy Matrix by double list**"
   ]
  },
  {
   "cell_type": "code",
   "execution_count": 0,
   "metadata": {
    "colab": {
     "autoexec": {
      "startup": false,
      "wait_interval": 0
     },
     "base_uri": "https://localhost:8080/",
     "height": 52
    },
    "colab_type": "code",
    "executionInfo": {
     "elapsed": 273,
     "status": "ok",
     "timestamp": 1524612182852,
     "user": {
      "displayName": "Tairi Delgado",
      "photoUrl": "//lh6.googleusercontent.com/-l4lv-T3P6-c/AAAAAAAAAAI/AAAAAAAABIA/4wtQ8ehIzZw/s50-c-k-no/photo.jpg",
      "userId": "115188476170888991569"
     },
     "user_tz": 420
    },
    "id": "RGwBVrCp9vLf",
    "outputId": "88e6eae4-cfe1-4797-d60c-e9966b5019ec"
   },
   "outputs": [
    {
     "name": "stdout",
     "output_type": "stream",
     "text": [
      "[[1 2 3 4]\n",
      " [5 6 7 8]]\n"
     ]
    }
   ],
   "source": [
    "b = np.matrix([[1,2,3,4],[5,6,7,8]])\n",
    "print(b)"
   ]
  },
  {
   "cell_type": "code",
   "execution_count": 0,
   "metadata": {
    "colab": {
     "autoexec": {
      "startup": false,
      "wait_interval": 0
     },
     "base_uri": "https://localhost:8080/",
     "height": 86
    },
    "colab_type": "code",
    "executionInfo": {
     "elapsed": 290,
     "status": "ok",
     "timestamp": 1524612381576,
     "user": {
      "displayName": "Tairi Delgado",
      "photoUrl": "//lh6.googleusercontent.com/-l4lv-T3P6-c/AAAAAAAAAAI/AAAAAAAABIA/4wtQ8ehIzZw/s50-c-k-no/photo.jpg",
      "userId": "115188476170888991569"
     },
     "user_tz": 420
    },
    "id": "cTv8twKP-clt",
    "outputId": "87af30fa-ed28-43e1-d33b-bcad0abf9326"
   },
   "outputs": [
    {
     "name": "stdout",
     "output_type": "stream",
     "text": [
      "[[1 2 3]\n",
      " [2 3 4]\n",
      " [5 6 7]\n",
      " [9 4 5]]\n"
     ]
    }
   ],
   "source": [
    "a1 = np.array([1,2,3])\n",
    "a2 = np.array([2,3,4])\n",
    "a3 = np.array([5,6,7])\n",
    "a4 = np.array([9,4,5])\n",
    "m = np.matrix([a1,a2,a3,a4])\n",
    "print(m)"
   ]
  },
  {
   "cell_type": "markdown",
   "metadata": {
    "colab_type": "text",
    "id": "EviIVM63ntLA"
   },
   "source": [
    "## Accessing and Modifying Numpy Matrices"
   ]
  },
  {
   "cell_type": "markdown",
   "metadata": {
    "colab_type": "text",
    "id": "_ObT4qBMoDAS"
   },
   "source": [
    "**Accessing rows**"
   ]
  },
  {
   "cell_type": "code",
   "execution_count": 0,
   "metadata": {
    "colab": {
     "autoexec": {
      "startup": false,
      "wait_interval": 0
     },
     "base_uri": "https://localhost:8080/",
     "height": 34
    },
    "colab_type": "code",
    "executionInfo": {
     "elapsed": 305,
     "status": "ok",
     "timestamp": 1524612441764,
     "user": {
      "displayName": "Tairi Delgado",
      "photoUrl": "//lh6.googleusercontent.com/-l4lv-T3P6-c/AAAAAAAAAAI/AAAAAAAABIA/4wtQ8ehIzZw/s50-c-k-no/photo.jpg",
      "userId": "115188476170888991569"
     },
     "user_tz": 420
    },
    "id": "QsiF7Ecs-znu",
    "outputId": "e75dc178-0470-45b8-bef9-e9d9eef39041"
   },
   "outputs": [
    {
     "name": "stdout",
     "output_type": "stream",
     "text": [
      "[[1 2 3]]\n"
     ]
    }
   ],
   "source": [
    "print(m[0])"
   ]
  },
  {
   "cell_type": "code",
   "execution_count": 0,
   "metadata": {
    "colab": {
     "autoexec": {
      "startup": false,
      "wait_interval": 0
     },
     "base_uri": "https://localhost:8080/",
     "height": 34
    },
    "colab_type": "code",
    "executionInfo": {
     "elapsed": 300,
     "status": "ok",
     "timestamp": 1524612461826,
     "user": {
      "displayName": "Tairi Delgado",
      "photoUrl": "//lh6.googleusercontent.com/-l4lv-T3P6-c/AAAAAAAAAAI/AAAAAAAABIA/4wtQ8ehIzZw/s50-c-k-no/photo.jpg",
      "userId": "115188476170888991569"
     },
     "user_tz": 420
    },
    "id": "ygIUr8Rr--IJ",
    "outputId": "d69a84ae-c990-4ed7-d16e-975c683833db"
   },
   "outputs": [
    {
     "name": "stdout",
     "output_type": "stream",
     "text": [
      "[[2 3 4]]\n"
     ]
    }
   ],
   "source": [
    "print(m[1])"
   ]
  },
  {
   "cell_type": "code",
   "execution_count": 0,
   "metadata": {
    "colab": {
     "autoexec": {
      "startup": false,
      "wait_interval": 0
     },
     "base_uri": "https://localhost:8080/",
     "height": 34
    },
    "colab_type": "code",
    "executionInfo": {
     "elapsed": 285,
     "status": "ok",
     "timestamp": 1524612467995,
     "user": {
      "displayName": "Tairi Delgado",
      "photoUrl": "//lh6.googleusercontent.com/-l4lv-T3P6-c/AAAAAAAAAAI/AAAAAAAABIA/4wtQ8ehIzZw/s50-c-k-no/photo.jpg",
      "userId": "115188476170888991569"
     },
     "user_tz": 420
    },
    "id": "mnBy88Dd-_s8",
    "outputId": "4035e208-1203-46ca-d299-bb205ab46a17"
   },
   "outputs": [
    {
     "name": "stdout",
     "output_type": "stream",
     "text": [
      "[[5 6 7]]\n"
     ]
    }
   ],
   "source": [
    "print(m[2])"
   ]
  },
  {
   "cell_type": "markdown",
   "metadata": {
    "colab_type": "text",
    "id": "TpiXpbBHoFdF"
   },
   "source": [
    "**Accessing columns**"
   ]
  },
  {
   "cell_type": "code",
   "execution_count": 0,
   "metadata": {
    "colab": {
     "autoexec": {
      "startup": false,
      "wait_interval": 0
     },
     "base_uri": "https://localhost:8080/",
     "height": 86
    },
    "colab_type": "code",
    "executionInfo": {
     "elapsed": 722,
     "status": "ok",
     "timestamp": 1524612511814,
     "user": {
      "displayName": "Tairi Delgado",
      "photoUrl": "//lh6.googleusercontent.com/-l4lv-T3P6-c/AAAAAAAAAAI/AAAAAAAABIA/4wtQ8ehIzZw/s50-c-k-no/photo.jpg",
      "userId": "115188476170888991569"
     },
     "user_tz": 420
    },
    "id": "prNQZnma_FzC",
    "outputId": "9a38edb4-d7d2-42c5-972d-c50bf60c80e8"
   },
   "outputs": [
    {
     "name": "stdout",
     "output_type": "stream",
     "text": [
      "[[1]\n",
      " [2]\n",
      " [5]\n",
      " [9]]\n"
     ]
    }
   ],
   "source": [
    "print(m[:,0])"
   ]
  },
  {
   "cell_type": "code",
   "execution_count": 0,
   "metadata": {
    "colab": {
     "autoexec": {
      "startup": false,
      "wait_interval": 0
     },
     "base_uri": "https://localhost:8080/",
     "height": 86
    },
    "colab_type": "code",
    "executionInfo": {
     "elapsed": 485,
     "status": "ok",
     "timestamp": 1524612528249,
     "user": {
      "displayName": "Tairi Delgado",
      "photoUrl": "//lh6.googleusercontent.com/-l4lv-T3P6-c/AAAAAAAAAAI/AAAAAAAABIA/4wtQ8ehIzZw/s50-c-k-no/photo.jpg",
      "userId": "115188476170888991569"
     },
     "user_tz": 420
    },
    "id": "Z2TjlhsI_M5I",
    "outputId": "2676a4d6-8c2c-49a1-bfc0-981279ff25d9"
   },
   "outputs": [
    {
     "name": "stdout",
     "output_type": "stream",
     "text": [
      "[[2]\n",
      " [3]\n",
      " [6]\n",
      " [4]]\n"
     ]
    }
   ],
   "source": [
    "print(m[:,1])"
   ]
  },
  {
   "cell_type": "code",
   "execution_count": 0,
   "metadata": {
    "colab": {
     "autoexec": {
      "startup": false,
      "wait_interval": 0
     },
     "base_uri": "https://localhost:8080/",
     "height": 86
    },
    "colab_type": "code",
    "executionInfo": {
     "elapsed": 315,
     "status": "ok",
     "timestamp": 1524612537714,
     "user": {
      "displayName": "Tairi Delgado",
      "photoUrl": "//lh6.googleusercontent.com/-l4lv-T3P6-c/AAAAAAAAAAI/AAAAAAAABIA/4wtQ8ehIzZw/s50-c-k-no/photo.jpg",
      "userId": "115188476170888991569"
     },
     "user_tz": 420
    },
    "id": "3_Yypm3k_QR_",
    "outputId": "0b8dd9e2-59af-42e9-88d5-bdef8a025fc6"
   },
   "outputs": [
    {
     "name": "stdout",
     "output_type": "stream",
     "text": [
      "[[3]\n",
      " [4]\n",
      " [7]\n",
      " [5]]\n"
     ]
    }
   ],
   "source": [
    "print(m[:,2])"
   ]
  },
  {
   "cell_type": "markdown",
   "metadata": {
    "colab_type": "text",
    "id": "2Zi8-0pfoHqa"
   },
   "source": [
    "**Accessing elements**"
   ]
  },
  {
   "cell_type": "code",
   "execution_count": 0,
   "metadata": {
    "colab": {
     "autoexec": {
      "startup": false,
      "wait_interval": 0
     },
     "base_uri": "https://localhost:8080/",
     "height": 34
    },
    "colab_type": "code",
    "executionInfo": {
     "elapsed": 482,
     "status": "ok",
     "timestamp": 1524612563844,
     "user": {
      "displayName": "Tairi Delgado",
      "photoUrl": "//lh6.googleusercontent.com/-l4lv-T3P6-c/AAAAAAAAAAI/AAAAAAAABIA/4wtQ8ehIzZw/s50-c-k-no/photo.jpg",
      "userId": "115188476170888991569"
     },
     "user_tz": 420
    },
    "id": "KraJ6Kih_Th7",
    "outputId": "e3ae6137-8f11-4350-fbab-de59f6b4992e"
   },
   "outputs": [
    {
     "name": "stdout",
     "output_type": "stream",
     "text": [
      "5\n"
     ]
    }
   ],
   "source": [
    "print(m[2,0])"
   ]
  },
  {
   "cell_type": "code",
   "execution_count": 0,
   "metadata": {
    "colab": {
     "autoexec": {
      "startup": false,
      "wait_interval": 0
     },
     "base_uri": "https://localhost:8080/",
     "height": 34
    },
    "colab_type": "code",
    "executionInfo": {
     "elapsed": 285,
     "status": "ok",
     "timestamp": 1524612587773,
     "user": {
      "displayName": "Tairi Delgado",
      "photoUrl": "//lh6.googleusercontent.com/-l4lv-T3P6-c/AAAAAAAAAAI/AAAAAAAABIA/4wtQ8ehIzZw/s50-c-k-no/photo.jpg",
      "userId": "115188476170888991569"
     },
     "user_tz": 420
    },
    "id": "OGL34G1P_acx",
    "outputId": "9d13160a-5787-43e1-edf5-a617ced9b82a"
   },
   "outputs": [
    {
     "name": "stdout",
     "output_type": "stream",
     "text": [
      "6\n"
     ]
    }
   ],
   "source": [
    "print(m[2,1])"
   ]
  },
  {
   "cell_type": "code",
   "execution_count": 0,
   "metadata": {
    "colab": {
     "autoexec": {
      "startup": false,
      "wait_interval": 0
     },
     "base_uri": "https://localhost:8080/",
     "height": 86
    },
    "colab_type": "code",
    "executionInfo": {
     "elapsed": 301,
     "status": "ok",
     "timestamp": 1524612609334,
     "user": {
      "displayName": "Tairi Delgado",
      "photoUrl": "//lh6.googleusercontent.com/-l4lv-T3P6-c/AAAAAAAAAAI/AAAAAAAABIA/4wtQ8ehIzZw/s50-c-k-no/photo.jpg",
      "userId": "115188476170888991569"
     },
     "user_tz": 420
    },
    "id": "-rnkr1j9_e5W",
    "outputId": "084be7d6-8b30-48c2-a77f-39794cdc0d5f"
   },
   "outputs": [
    {
     "name": "stdout",
     "output_type": "stream",
     "text": [
      "[[1 2 3]\n",
      " [2 3 4]\n",
      " [5 6 7]\n",
      " [9 4 5]]\n"
     ]
    }
   ],
   "source": [
    "print(m)"
   ]
  },
  {
   "cell_type": "markdown",
   "metadata": {
    "colab_type": "text",
    "id": "S7Bhw9WBoUTi"
   },
   "source": [
    "**Slicing the matrix**"
   ]
  },
  {
   "cell_type": "code",
   "execution_count": 0,
   "metadata": {
    "colab": {
     "autoexec": {
      "startup": false,
      "wait_interval": 0
     },
     "base_uri": "https://localhost:8080/",
     "height": 52
    },
    "colab_type": "code",
    "executionInfo": {
     "elapsed": 305,
     "status": "ok",
     "timestamp": 1524612663754,
     "user": {
      "displayName": "Tairi Delgado",
      "photoUrl": "//lh6.googleusercontent.com/-l4lv-T3P6-c/AAAAAAAAAAI/AAAAAAAABIA/4wtQ8ehIzZw/s50-c-k-no/photo.jpg",
      "userId": "115188476170888991569"
     },
     "user_tz": 420
    },
    "id": "hqOdcoBz_rMQ",
    "outputId": "57fed9bf-0c58-465f-a8b5-bde2118c863c"
   },
   "outputs": [
    {
     "name": "stdout",
     "output_type": "stream",
     "text": [
      "[[2 3 4]\n",
      " [5 6 7]]\n"
     ]
    }
   ],
   "source": [
    "print(m[1:3])"
   ]
  },
  {
   "cell_type": "code",
   "execution_count": 0,
   "metadata": {
    "colab": {
     "autoexec": {
      "startup": false,
      "wait_interval": 0
     },
     "base_uri": "https://localhost:8080/",
     "height": 86
    },
    "colab_type": "code",
    "executionInfo": {
     "elapsed": 505,
     "status": "ok",
     "timestamp": 1524612698305,
     "user": {
      "displayName": "Tairi Delgado",
      "photoUrl": "//lh6.googleusercontent.com/-l4lv-T3P6-c/AAAAAAAAAAI/AAAAAAAABIA/4wtQ8ehIzZw/s50-c-k-no/photo.jpg",
      "userId": "115188476170888991569"
     },
     "user_tz": 420
    },
    "id": "E1sDoLgH_0p2",
    "outputId": "e42167ec-ab08-4bb2-faa2-275df5f75579"
   },
   "outputs": [
    {
     "name": "stdout",
     "output_type": "stream",
     "text": [
      "[[2 3]\n",
      " [3 4]\n",
      " [6 7]\n",
      " [4 5]]\n"
     ]
    }
   ],
   "source": [
    "print(m[:,1:3])"
   ]
  },
  {
   "cell_type": "code",
   "execution_count": 0,
   "metadata": {
    "colab": {
     "autoexec": {
      "startup": false,
      "wait_interval": 0
     },
     "base_uri": "https://localhost:8080/",
     "height": 52
    },
    "colab_type": "code",
    "executionInfo": {
     "elapsed": 275,
     "status": "ok",
     "timestamp": 1524612812902,
     "user": {
      "displayName": "Tairi Delgado",
      "photoUrl": "//lh6.googleusercontent.com/-l4lv-T3P6-c/AAAAAAAAAAI/AAAAAAAABIA/4wtQ8ehIzZw/s50-c-k-no/photo.jpg",
      "userId": "115188476170888991569"
     },
     "user_tz": 420
    },
    "id": "k1dXZgiN_7w7",
    "outputId": "d8f80916-4cb6-4c15-d54e-3768bf14017f"
   },
   "outputs": [
    {
     "data": {
      "text/plain": [
       "matrix([[2, 3],\n",
       "        [3, 4]])"
      ]
     },
     "execution_count": 160,
     "metadata": {
      "tags": []
     },
     "output_type": "execute_result"
    }
   ],
   "source": [
    "m[0:2,1:3]"
   ]
  },
  {
   "cell_type": "markdown",
   "metadata": {
    "colab_type": "text",
    "id": "LWDQnMPYoJ4d"
   },
   "source": [
    "**Iterating through the matrix**"
   ]
  },
  {
   "cell_type": "code",
   "execution_count": 0,
   "metadata": {
    "colab": {
     "autoexec": {
      "startup": false,
      "wait_interval": 0
     },
     "base_uri": "https://localhost:8080/",
     "height": 225
    },
    "colab_type": "code",
    "executionInfo": {
     "elapsed": 320,
     "status": "ok",
     "timestamp": 1524612880335,
     "user": {
      "displayName": "Tairi Delgado",
      "photoUrl": "//lh6.googleusercontent.com/-l4lv-T3P6-c/AAAAAAAAAAI/AAAAAAAABIA/4wtQ8ehIzZw/s50-c-k-no/photo.jpg",
      "userId": "115188476170888991569"
     },
     "user_tz": 420
    },
    "id": "mtZdzvwoAYnN",
    "outputId": "3c9f40f7-7e39-4718-84e9-13dbfb6d9e2d"
   },
   "outputs": [
    {
     "name": "stdout",
     "output_type": "stream",
     "text": [
      "1\n",
      "2\n",
      "3\n",
      "2\n",
      "3\n",
      "4\n",
      "5\n",
      "6\n",
      "7\n",
      "9\n",
      "4\n",
      "5\n"
     ]
    }
   ],
   "source": [
    "for i in np.nditer(m):\n",
    "  print(i)"
   ]
  },
  {
   "cell_type": "markdown",
   "metadata": {
    "colab_type": "text",
    "id": "dsGWC0BLojXh"
   },
   "source": [
    "**Get additional information**"
   ]
  },
  {
   "cell_type": "code",
   "execution_count": 0,
   "metadata": {
    "colab": {
     "autoexec": {
      "startup": false,
      "wait_interval": 0
     },
     "base_uri": "https://localhost:8080/",
     "height": 34
    },
    "colab_type": "code",
    "executionInfo": {
     "elapsed": 318,
     "status": "ok",
     "timestamp": 1524612922804,
     "user": {
      "displayName": "Tairi Delgado",
      "photoUrl": "//lh6.googleusercontent.com/-l4lv-T3P6-c/AAAAAAAAAAI/AAAAAAAABIA/4wtQ8ehIzZw/s50-c-k-no/photo.jpg",
      "userId": "115188476170888991569"
     },
     "user_tz": 420
    },
    "id": "w41JKlBaAuaI",
    "outputId": "c572ad00-ecc7-432c-939c-ba2bae1840db"
   },
   "outputs": [
    {
     "data": {
      "text/plain": [
       "(4, 3)"
      ]
     },
     "execution_count": 162,
     "metadata": {
      "tags": []
     },
     "output_type": "execute_result"
    }
   ],
   "source": [
    "m.shape"
   ]
  },
  {
   "cell_type": "code",
   "execution_count": 0,
   "metadata": {
    "colab": {
     "autoexec": {
      "startup": false,
      "wait_interval": 0
     },
     "base_uri": "https://localhost:8080/",
     "height": 34
    },
    "colab_type": "code",
    "executionInfo": {
     "elapsed": 285,
     "status": "ok",
     "timestamp": 1524612927690,
     "user": {
      "displayName": "Tairi Delgado",
      "photoUrl": "//lh6.googleusercontent.com/-l4lv-T3P6-c/AAAAAAAAAAI/AAAAAAAABIA/4wtQ8ehIzZw/s50-c-k-no/photo.jpg",
      "userId": "115188476170888991569"
     },
     "user_tz": 420
    },
    "id": "raiPLikHAwOg",
    "outputId": "f2b07a81-77f5-424f-d3e8-ef72f712dcfb"
   },
   "outputs": [
    {
     "data": {
      "text/plain": [
       "12"
      ]
     },
     "execution_count": 163,
     "metadata": {
      "tags": []
     },
     "output_type": "execute_result"
    }
   ],
   "source": [
    "m.size"
   ]
  },
  {
   "cell_type": "markdown",
   "metadata": {
    "colab_type": "text",
    "id": "2L6B-gwPoYzH"
   },
   "source": [
    "## Modifying the Matrix"
   ]
  },
  {
   "cell_type": "markdown",
   "metadata": {
    "colab_type": "text",
    "id": "-_DgfWuZodHy"
   },
   "source": [
    "**Inserting rows**"
   ]
  },
  {
   "cell_type": "code",
   "execution_count": 0,
   "metadata": {
    "colab": {
     "autoexec": {
      "startup": false,
      "wait_interval": 0
     },
     "base_uri": "https://localhost:8080/",
     "height": 104
    },
    "colab_type": "code",
    "executionInfo": {
     "elapsed": 293,
     "status": "ok",
     "timestamp": 1524613033577,
     "user": {
      "displayName": "Tairi Delgado",
      "photoUrl": "//lh6.googleusercontent.com/-l4lv-T3P6-c/AAAAAAAAAAI/AAAAAAAABIA/4wtQ8ehIzZw/s50-c-k-no/photo.jpg",
      "userId": "115188476170888991569"
     },
     "user_tz": 420
    },
    "id": "j0MAg1h6BDf4",
    "outputId": "f29d2600-6e09-4a5d-b035-13b28faff192"
   },
   "outputs": [
    {
     "data": {
      "text/plain": [
       "matrix([[1, 2, 3],\n",
       "        [2, 3, 4],\n",
       "        [5, 6, 7],\n",
       "        [9, 4, 5],\n",
       "        [1, 2, 3]])"
      ]
     },
     "execution_count": 165,
     "metadata": {
      "tags": []
     },
     "output_type": "execute_result"
    }
   ],
   "source": [
    "np.vstack((m,[1,2,3]))"
   ]
  },
  {
   "cell_type": "markdown",
   "metadata": {
    "colab_type": "text",
    "id": "xRoGIMvuopV2"
   },
   "source": [
    "**Inserting columns**"
   ]
  },
  {
   "cell_type": "code",
   "execution_count": 0,
   "metadata": {
    "colab": {
     "autoexec": {
      "startup": false,
      "wait_interval": 0
     },
     "base_uri": "https://localhost:8080/",
     "height": 86
    },
    "colab_type": "code",
    "executionInfo": {
     "elapsed": 292,
     "status": "ok",
     "timestamp": 1524613085473,
     "user": {
      "displayName": "Tairi Delgado",
      "photoUrl": "//lh6.googleusercontent.com/-l4lv-T3P6-c/AAAAAAAAAAI/AAAAAAAABIA/4wtQ8ehIzZw/s50-c-k-no/photo.jpg",
      "userId": "115188476170888991569"
     },
     "user_tz": 420
    },
    "id": "6QQ-peZcBOvk",
    "outputId": "288b84c6-cc42-4f6a-8336-c38aff272e73"
   },
   "outputs": [
    {
     "data": {
      "text/plain": [
       "matrix([[ 1,  2,  3, 10],\n",
       "        [ 2,  3,  4, 20],\n",
       "        [ 5,  6,  7, 30],\n",
       "        [ 9,  4,  5, 40]])"
      ]
     },
     "execution_count": 166,
     "metadata": {
      "tags": []
     },
     "output_type": "execute_result"
    }
   ],
   "source": [
    "np.hstack((m,[[10],[20],[30],[40]]))"
   ]
  },
  {
   "cell_type": "markdown",
   "metadata": {
    "colab_type": "text",
    "id": "KAY1z8vLori1"
   },
   "source": [
    "**Modifying rows and columns**"
   ]
  },
  {
   "cell_type": "code",
   "execution_count": 0,
   "metadata": {
    "colab": {
     "autoexec": {
      "startup": false,
      "wait_interval": 0
     },
     "base_uri": "https://localhost:8080/",
     "height": 86
    },
    "colab_type": "code",
    "executionInfo": {
     "elapsed": 356,
     "status": "ok",
     "timestamp": 1524615651521,
     "user": {
      "displayName": "Tairi Delgado",
      "photoUrl": "//lh6.googleusercontent.com/-l4lv-T3P6-c/AAAAAAAAAAI/AAAAAAAABIA/4wtQ8ehIzZw/s50-c-k-no/photo.jpg",
      "userId": "115188476170888991569"
     },
     "user_tz": 420
    },
    "id": "yNNTFq6mK3Ux",
    "outputId": "c66e6231-0890-4696-8d5f-f8ddfa39817a"
   },
   "outputs": [
    {
     "name": "stdout",
     "output_type": "stream",
     "text": [
      "[[1 2 3]\n",
      " [2 3 4]\n",
      " [5 6 7]\n",
      " [9 4 5]]\n"
     ]
    }
   ],
   "source": [
    "print(m)"
   ]
  },
  {
   "cell_type": "code",
   "execution_count": 0,
   "metadata": {
    "colab": {
     "autoexec": {
      "startup": false,
      "wait_interval": 0
     },
     "base_uri": "https://localhost:8080/",
     "height": 86
    },
    "colab_type": "code",
    "executionInfo": {
     "elapsed": 348,
     "status": "ok",
     "timestamp": 1524615670112,
     "user": {
      "displayName": "Tairi Delgado",
      "photoUrl": "//lh6.googleusercontent.com/-l4lv-T3P6-c/AAAAAAAAAAI/AAAAAAAABIA/4wtQ8ehIzZw/s50-c-k-no/photo.jpg",
      "userId": "115188476170888991569"
     },
     "user_tz": 420
    },
    "id": "6eJOvnDeLKoK",
    "outputId": "0338fe95-b7e0-405a-f48a-1e19e023377c"
   },
   "outputs": [
    {
     "name": "stdout",
     "output_type": "stream",
     "text": [
      "[[10 20 30]\n",
      " [ 2  3  4]\n",
      " [ 5  6  7]\n",
      " [ 9  4  5]]\n"
     ]
    }
   ],
   "source": [
    "m[0] = [10,20,30]\n",
    "print(m)"
   ]
  },
  {
   "cell_type": "code",
   "execution_count": 0,
   "metadata": {
    "colab": {
     "autoexec": {
      "startup": false,
      "wait_interval": 0
     },
     "base_uri": "https://localhost:8080/",
     "height": 86
    },
    "colab_type": "code",
    "executionInfo": {
     "elapsed": 272,
     "status": "ok",
     "timestamp": 1524615768179,
     "user": {
      "displayName": "Tairi Delgado",
      "photoUrl": "//lh6.googleusercontent.com/-l4lv-T3P6-c/AAAAAAAAAAI/AAAAAAAABIA/4wtQ8ehIzZw/s50-c-k-no/photo.jpg",
      "userId": "115188476170888991569"
     },
     "user_tz": 420
    },
    "id": "-97w-D72LPYW",
    "outputId": "c8f793dd-1c1f-4e45-cfe8-e3d3d9927ce3"
   },
   "outputs": [
    {
     "name": "stdout",
     "output_type": "stream",
     "text": [
      "[[10 20 -1]\n",
      " [ 2  3 -2]\n",
      " [ 5  6 -3]\n",
      " [ 9  4 -4]]\n"
     ]
    }
   ],
   "source": [
    "m[:,2] = [[-1],[-2],[-3],[-4]]\n",
    "print(m)"
   ]
  },
  {
   "cell_type": "markdown",
   "metadata": {
    "colab_type": "text",
    "id": "NQOXyBIVowuL"
   },
   "source": [
    "**Deleting rows and columns**"
   ]
  },
  {
   "cell_type": "code",
   "execution_count": 0,
   "metadata": {
    "colab": {
     "autoexec": {
      "startup": false,
      "wait_interval": 0
     },
     "base_uri": "https://localhost:8080/",
     "height": 69
    },
    "colab_type": "code",
    "executionInfo": {
     "elapsed": 269,
     "status": "ok",
     "timestamp": 1524616187543,
     "user": {
      "displayName": "Tairi Delgado",
      "photoUrl": "//lh6.googleusercontent.com/-l4lv-T3P6-c/AAAAAAAAAAI/AAAAAAAABIA/4wtQ8ehIzZw/s50-c-k-no/photo.jpg",
      "userId": "115188476170888991569"
     },
     "user_tz": 420
    },
    "id": "JUl-uyghLoQ_",
    "outputId": "6931d40f-6f70-4126-8911-c4ca376c0adb"
   },
   "outputs": [
    {
     "data": {
      "text/plain": [
       "matrix([[10, 20, -1],\n",
       "        [ 5,  6, -3],\n",
       "        [ 9,  4, -4]])"
      ]
     },
     "execution_count": 173,
     "metadata": {
      "tags": []
     },
     "output_type": "execute_result"
    }
   ],
   "source": [
    "np.delete(m,1,0)"
   ]
  },
  {
   "cell_type": "code",
   "execution_count": 0,
   "metadata": {
    "colab": {
     "autoexec": {
      "startup": false,
      "wait_interval": 0
     },
     "base_uri": "https://localhost:8080/",
     "height": 86
    },
    "colab_type": "code",
    "executionInfo": {
     "elapsed": 302,
     "status": "ok",
     "timestamp": 1524616239351,
     "user": {
      "displayName": "Tairi Delgado",
      "photoUrl": "//lh6.googleusercontent.com/-l4lv-T3P6-c/AAAAAAAAAAI/AAAAAAAABIA/4wtQ8ehIzZw/s50-c-k-no/photo.jpg",
      "userId": "115188476170888991569"
     },
     "user_tz": 420
    },
    "id": "nRXoJNgCNUEo",
    "outputId": "c1f50c0c-e996-477b-9e91-01cfc7b6cb95"
   },
   "outputs": [
    {
     "data": {
      "text/plain": [
       "matrix([[10, 20],\n",
       "        [ 2,  3],\n",
       "        [ 5,  6],\n",
       "        [ 9,  4]])"
      ]
     },
     "execution_count": 174,
     "metadata": {
      "tags": []
     },
     "output_type": "execute_result"
    }
   ],
   "source": [
    "np.delete(m,2,1)"
   ]
  },
  {
   "cell_type": "markdown",
   "metadata": {
    "colab_type": "text",
    "id": "y6NSzbEro7XV"
   },
   "source": [
    "**Reshape**"
   ]
  },
  {
   "cell_type": "code",
   "execution_count": 0,
   "metadata": {
    "colab": {
     "autoexec": {
      "startup": false,
      "wait_interval": 0
     }
    },
    "colab_type": "code",
    "id": "Itl8l62vNfls"
   },
   "outputs": [],
   "source": [
    "m = np.matrix('1 2 3 4; 5 6 7 8; 9 10 11 12; 12 14 15 16; 17 18 19 20')"
   ]
  },
  {
   "cell_type": "code",
   "execution_count": 0,
   "metadata": {
    "colab": {
     "autoexec": {
      "startup": false,
      "wait_interval": 0
     },
     "base_uri": "https://localhost:8080/",
     "height": 104
    },
    "colab_type": "code",
    "executionInfo": {
     "elapsed": 337,
     "status": "ok",
     "timestamp": 1524616378774,
     "user": {
      "displayName": "Tairi Delgado",
      "photoUrl": "//lh6.googleusercontent.com/-l4lv-T3P6-c/AAAAAAAAAAI/AAAAAAAABIA/4wtQ8ehIzZw/s50-c-k-no/photo.jpg",
      "userId": "115188476170888991569"
     },
     "user_tz": 420
    },
    "id": "vvYeV7i-N69u",
    "outputId": "8fbcf262-559c-4be2-d0fe-174d39b60933"
   },
   "outputs": [
    {
     "data": {
      "text/plain": [
       "matrix([[ 1,  2,  3,  4],\n",
       "        [ 5,  6,  7,  8],\n",
       "        [ 9, 10, 11, 12],\n",
       "        [12, 14, 15, 16],\n",
       "        [17, 18, 19, 20]])"
      ]
     },
     "execution_count": 176,
     "metadata": {
      "tags": []
     },
     "output_type": "execute_result"
    }
   ],
   "source": [
    "m"
   ]
  },
  {
   "cell_type": "code",
   "execution_count": 0,
   "metadata": {
    "colab": {
     "autoexec": {
      "startup": false,
      "wait_interval": 0
     },
     "base_uri": "https://localhost:8080/",
     "height": 52
    },
    "colab_type": "code",
    "executionInfo": {
     "elapsed": 574,
     "status": "ok",
     "timestamp": 1524616419826,
     "user": {
      "displayName": "Tairi Delgado",
      "photoUrl": "//lh6.googleusercontent.com/-l4lv-T3P6-c/AAAAAAAAAAI/AAAAAAAABIA/4wtQ8ehIzZw/s50-c-k-no/photo.jpg",
      "userId": "115188476170888991569"
     },
     "user_tz": 420
    },
    "id": "coIXUzm2OCGm",
    "outputId": "d47c5e35-e83e-4e9d-fde3-614aee97b8ad"
   },
   "outputs": [
    {
     "data": {
      "text/plain": [
       "matrix([[ 1,  2,  3,  4,  5,  6,  7,  8,  9, 10],\n",
       "        [11, 12, 12, 14, 15, 16, 17, 18, 19, 20]])"
      ]
     },
     "execution_count": 177,
     "metadata": {
      "tags": []
     },
     "output_type": "execute_result"
    }
   ],
   "source": [
    "m.reshape(2,10)"
   ]
  },
  {
   "cell_type": "code",
   "execution_count": 0,
   "metadata": {
    "colab": {
     "autoexec": {
      "startup": false,
      "wait_interval": 0
     },
     "base_uri": "https://localhost:8080/",
     "height": 104
    },
    "colab_type": "code",
    "executionInfo": {
     "elapsed": 291,
     "status": "ok",
     "timestamp": 1524616446838,
     "user": {
      "displayName": "Tairi Delgado",
      "photoUrl": "//lh6.googleusercontent.com/-l4lv-T3P6-c/AAAAAAAAAAI/AAAAAAAABIA/4wtQ8ehIzZw/s50-c-k-no/photo.jpg",
      "userId": "115188476170888991569"
     },
     "user_tz": 420
    },
    "id": "TlPAQzk4OISh",
    "outputId": "09282c0c-a3fc-4181-8b50-896babe7fd99"
   },
   "outputs": [
    {
     "data": {
      "text/plain": [
       "matrix([[ 1,  2,  3,  4],\n",
       "        [ 5,  6,  7,  8],\n",
       "        [ 9, 10, 11, 12],\n",
       "        [12, 14, 15, 16],\n",
       "        [17, 18, 19, 20]])"
      ]
     },
     "execution_count": 178,
     "metadata": {
      "tags": []
     },
     "output_type": "execute_result"
    }
   ],
   "source": [
    "m.reshape(5,4)"
   ]
  },
  {
   "cell_type": "code",
   "execution_count": 0,
   "metadata": {
    "colab": {
     "autoexec": {
      "startup": false,
      "wait_interval": 0
     },
     "base_uri": "https://localhost:8080/",
     "height": 86
    },
    "colab_type": "code",
    "executionInfo": {
     "elapsed": 295,
     "status": "ok",
     "timestamp": 1524616465547,
     "user": {
      "displayName": "Tairi Delgado",
      "photoUrl": "//lh6.googleusercontent.com/-l4lv-T3P6-c/AAAAAAAAAAI/AAAAAAAABIA/4wtQ8ehIzZw/s50-c-k-no/photo.jpg",
      "userId": "115188476170888991569"
     },
     "user_tz": 420
    },
    "id": "2gKCIvZBONBi",
    "outputId": "4111f7ab-18a3-436a-dc88-54e90a9d68c6"
   },
   "outputs": [
    {
     "data": {
      "text/plain": [
       "matrix([[ 1,  5,  9, 12, 17],\n",
       "        [ 2,  6, 10, 14, 18],\n",
       "        [ 3,  7, 11, 15, 19],\n",
       "        [ 4,  8, 12, 16, 20]])"
      ]
     },
     "execution_count": 179,
     "metadata": {
      "tags": []
     },
     "output_type": "execute_result"
    }
   ],
   "source": [
    "m.T"
   ]
  },
  {
   "cell_type": "markdown",
   "metadata": {
    "colab_type": "text",
    "id": "qgfwrrQhpGFb"
   },
   "source": [
    "## Numpy Matrix Math Operations"
   ]
  },
  {
   "cell_type": "markdown",
   "metadata": {
    "colab_type": "text",
    "id": "0Ga4VPCZpVBU"
   },
   "source": [
    "**Scalar and vector addition**"
   ]
  },
  {
   "cell_type": "code",
   "execution_count": 0,
   "metadata": {
    "colab": {
     "autoexec": {
      "startup": false,
      "wait_interval": 0
     },
     "base_uri": "https://localhost:8080/",
     "height": 104
    },
    "colab_type": "code",
    "executionInfo": {
     "elapsed": 715,
     "status": "ok",
     "timestamp": 1524616564291,
     "user": {
      "displayName": "Tairi Delgado",
      "photoUrl": "//lh6.googleusercontent.com/-l4lv-T3P6-c/AAAAAAAAAAI/AAAAAAAABIA/4wtQ8ehIzZw/s50-c-k-no/photo.jpg",
      "userId": "115188476170888991569"
     },
     "user_tz": 420
    },
    "id": "sdVkmgzCOfKe",
    "outputId": "96caaf37-f8d2-42cd-ba72-468a45ddd921"
   },
   "outputs": [
    {
     "name": "stdout",
     "output_type": "stream",
     "text": [
      "[[21 22 23 24]\n",
      " [25 26 27 28]\n",
      " [29 30 31 32]\n",
      " [32 34 35 36]\n",
      " [37 38 39 40]]\n"
     ]
    }
   ],
   "source": [
    "print(m+20)"
   ]
  },
  {
   "cell_type": "code",
   "execution_count": 0,
   "metadata": {
    "colab": {
     "autoexec": {
      "startup": false,
      "wait_interval": 0
     },
     "base_uri": "https://localhost:8080/",
     "height": 86
    },
    "colab_type": "code",
    "executionInfo": {
     "elapsed": 304,
     "status": "ok",
     "timestamp": 1524616698220,
     "user": {
      "displayName": "Tairi Delgado",
      "photoUrl": "//lh6.googleusercontent.com/-l4lv-T3P6-c/AAAAAAAAAAI/AAAAAAAABIA/4wtQ8ehIzZw/s50-c-k-no/photo.jpg",
      "userId": "115188476170888991569"
     },
     "user_tz": 420
    },
    "id": "Y-FzcpXWPF2B",
    "outputId": "63bff293-1a03-4a16-9aa3-a6ba6da4c38d"
   },
   "outputs": [
    {
     "name": "stdout",
     "output_type": "stream",
     "text": [
      "[[ 3  6  9]\n",
      " [12 15 18]\n",
      " [21 24 27]\n",
      " [30 33 37]]\n"
     ]
    }
   ],
   "source": [
    "m1 = np.matrix('1 2 3; 4 5 6; 7 8 9; 10 11 13')\n",
    "m2 = np.matrix('2 4 6; 8 10 12; 14 16 18; 20 22 24')\n",
    "print(m1 + m2)"
   ]
  },
  {
   "cell_type": "markdown",
   "metadata": {
    "colab_type": "text",
    "id": "IoJQ1zN-pXKP"
   },
   "source": [
    "**Scalar and vector subtraction**"
   ]
  },
  {
   "cell_type": "code",
   "execution_count": 0,
   "metadata": {
    "colab": {
     "autoexec": {
      "startup": false,
      "wait_interval": 0
     },
     "base_uri": "https://localhost:8080/",
     "height": 86
    },
    "colab_type": "code",
    "executionInfo": {
     "elapsed": 300,
     "status": "ok",
     "timestamp": 1524616728339,
     "user": {
      "displayName": "Tairi Delgado",
      "photoUrl": "//lh6.googleusercontent.com/-l4lv-T3P6-c/AAAAAAAAAAI/AAAAAAAABIA/4wtQ8ehIzZw/s50-c-k-no/photo.jpg",
      "userId": "115188476170888991569"
     },
     "user_tz": 420
    },
    "id": "XT7imUzbPLXx",
    "outputId": "55799de2-b5b7-4dcb-957f-a72cf9c554d0"
   },
   "outputs": [
    {
     "name": "stdout",
     "output_type": "stream",
     "text": [
      "[[-9 -8 -7]\n",
      " [-6 -5 -4]\n",
      " [-3 -2 -1]\n",
      " [ 0  1  3]]\n"
     ]
    }
   ],
   "source": [
    "print(m1-10)"
   ]
  },
  {
   "cell_type": "code",
   "execution_count": 0,
   "metadata": {
    "colab": {
     "autoexec": {
      "startup": false,
      "wait_interval": 0
     },
     "base_uri": "https://localhost:8080/",
     "height": 86
    },
    "colab_type": "code",
    "executionInfo": {
     "elapsed": 308,
     "status": "ok",
     "timestamp": 1524616738013,
     "user": {
      "displayName": "Tairi Delgado",
      "photoUrl": "//lh6.googleusercontent.com/-l4lv-T3P6-c/AAAAAAAAAAI/AAAAAAAABIA/4wtQ8ehIzZw/s50-c-k-no/photo.jpg",
      "userId": "115188476170888991569"
     },
     "user_tz": 420
    },
    "id": "B4FegDPBPRYk",
    "outputId": "e56649c0-92a0-4f01-aa96-c6824f09c248"
   },
   "outputs": [
    {
     "name": "stdout",
     "output_type": "stream",
     "text": [
      "[[ -1  -2  -3]\n",
      " [ -4  -5  -6]\n",
      " [ -7  -8  -9]\n",
      " [-10 -11 -11]]\n"
     ]
    }
   ],
   "source": [
    "print(m1-m2)"
   ]
  },
  {
   "cell_type": "markdown",
   "metadata": {
    "colab_type": "text",
    "id": "OuyhowMPpZmi"
   },
   "source": [
    "**Scalar and vector multiplication**"
   ]
  },
  {
   "cell_type": "code",
   "execution_count": 0,
   "metadata": {
    "colab": {
     "autoexec": {
      "startup": false,
      "wait_interval": 0
     },
     "base_uri": "https://localhost:8080/",
     "height": 86
    },
    "colab_type": "code",
    "executionInfo": {
     "elapsed": 298,
     "status": "ok",
     "timestamp": 1524616767443,
     "user": {
      "displayName": "Tairi Delgado",
      "photoUrl": "//lh6.googleusercontent.com/-l4lv-T3P6-c/AAAAAAAAAAI/AAAAAAAABIA/4wtQ8ehIzZw/s50-c-k-no/photo.jpg",
      "userId": "115188476170888991569"
     },
     "user_tz": 420
    },
    "id": "FUva2SHTPV-_",
    "outputId": "b02ca109-030f-4f7c-bc06-40eec316cfd4"
   },
   "outputs": [
    {
     "data": {
      "text/plain": [
       "matrix([[ 100,  200,  300],\n",
       "        [ 400,  500,  600],\n",
       "        [ 700,  800,  900],\n",
       "        [1000, 1100, 1300]])"
      ]
     },
     "execution_count": 188,
     "metadata": {
      "tags": []
     },
     "output_type": "execute_result"
    }
   ],
   "source": [
    "m1 * 100"
   ]
  },
  {
   "cell_type": "code",
   "execution_count": 0,
   "metadata": {
    "colab": {
     "autoexec": {
      "startup": false,
      "wait_interval": 0
     },
     "base_uri": "https://localhost:8080/",
     "height": 34
    },
    "colab_type": "code",
    "executionInfo": {
     "elapsed": 331,
     "status": "ok",
     "timestamp": 1524617403114,
     "user": {
      "displayName": "Tairi Delgado",
      "photoUrl": "//lh6.googleusercontent.com/-l4lv-T3P6-c/AAAAAAAAAAI/AAAAAAAABIA/4wtQ8ehIzZw/s50-c-k-no/photo.jpg",
      "userId": "115188476170888991569"
     },
     "user_tz": 420
    },
    "id": "KCRtQHC3QYe9",
    "outputId": "165f8fea-1a79-4732-c7bd-05bf05a16618"
   },
   "outputs": [
    {
     "data": {
      "text/plain": [
       "matrix([[22, 28]])"
      ]
     },
     "execution_count": 198,
     "metadata": {
      "tags": []
     },
     "output_type": "execute_result"
    }
   ],
   "source": [
    "a = np.array([1,2,3])\n",
    "m = np.matrix('1 2; 3 4; 5 6')\n",
    "a*m"
   ]
  },
  {
   "cell_type": "code",
   "execution_count": 0,
   "metadata": {
    "colab": {
     "autoexec": {
      "startup": false,
      "wait_interval": 0
     },
     "base_uri": "https://localhost:8080/",
     "height": 34
    },
    "colab_type": "code",
    "executionInfo": {
     "elapsed": 327,
     "status": "ok",
     "timestamp": 1524617501718,
     "user": {
      "displayName": "Tairi Delgado",
      "photoUrl": "//lh6.googleusercontent.com/-l4lv-T3P6-c/AAAAAAAAAAI/AAAAAAAABIA/4wtQ8ehIzZw/s50-c-k-no/photo.jpg",
      "userId": "115188476170888991569"
     },
     "user_tz": 420
    },
    "id": "KzkOSiqaSLCx",
    "outputId": "cdf67301-ca10-4ab8-e275-4b4bcc146148"
   },
   "outputs": [
    {
     "data": {
      "text/plain": [
       "matrix([[22, 28]])"
      ]
     },
     "execution_count": 199,
     "metadata": {
      "tags": []
     },
     "output_type": "execute_result"
    }
   ],
   "source": [
    "np.dot(a,m)"
   ]
  },
  {
   "cell_type": "markdown",
   "metadata": {
    "colab_type": "text",
    "id": "ZbFZd9c4pa8_"
   },
   "source": [
    "**Scalar and vector division**"
   ]
  },
  {
   "cell_type": "code",
   "execution_count": 0,
   "metadata": {
    "colab": {
     "autoexec": {
      "startup": false,
      "wait_interval": 0
     },
     "base_uri": "https://localhost:8080/",
     "height": 86
    },
    "colab_type": "code",
    "executionInfo": {
     "elapsed": 301,
     "status": "ok",
     "timestamp": 1524617526286,
     "user": {
      "displayName": "Tairi Delgado",
      "photoUrl": "//lh6.googleusercontent.com/-l4lv-T3P6-c/AAAAAAAAAAI/AAAAAAAABIA/4wtQ8ehIzZw/s50-c-k-no/photo.jpg",
      "userId": "115188476170888991569"
     },
     "user_tz": 420
    },
    "id": "WYsL_GY2SR1x",
    "outputId": "7e5b7296-f931-4919-9d46-54f5bd445d46"
   },
   "outputs": [
    {
     "data": {
      "text/plain": [
       "matrix([[0.1, 0.2, 0.3],\n",
       "        [0.4, 0.5, 0.6],\n",
       "        [0.7, 0.8, 0.9],\n",
       "        [1. , 1.1, 1.2]])"
      ]
     },
     "execution_count": 200,
     "metadata": {
      "tags": []
     },
     "output_type": "execute_result"
    }
   ],
   "source": [
    "m2/20"
   ]
  },
  {
   "cell_type": "code",
   "execution_count": 0,
   "metadata": {
    "colab": {
     "autoexec": {
      "startup": false,
      "wait_interval": 0
     }
    },
    "colab_type": "code",
    "id": "dsE5vV5PSc7P"
   },
   "outputs": [],
   "source": [
    "m = np.matrix('1 2 3; 4 5 6; 7 8 9')"
   ]
  },
  {
   "cell_type": "code",
   "execution_count": 0,
   "metadata": {
    "colab": {
     "autoexec": {
      "startup": false,
      "wait_interval": 0
     },
     "base_uri": "https://localhost:8080/",
     "height": 69
    },
    "colab_type": "code",
    "executionInfo": {
     "elapsed": 301,
     "status": "ok",
     "timestamp": 1524617613182,
     "user": {
      "displayName": "Tairi Delgado",
      "photoUrl": "//lh6.googleusercontent.com/-l4lv-T3P6-c/AAAAAAAAAAI/AAAAAAAABIA/4wtQ8ehIzZw/s50-c-k-no/photo.jpg",
      "userId": "115188476170888991569"
     },
     "user_tz": 420
    },
    "id": "TzPTmYNGSoPB",
    "outputId": "67abe2c9-ea43-4ac4-b4d9-85a6bdfd387a"
   },
   "outputs": [
    {
     "data": {
      "text/plain": [
       "matrix([[1.        , 1.        , 1.        ],\n",
       "        [0.25      , 0.4       , 0.5       ],\n",
       "        [0.14285714, 0.25      , 0.33333333]])"
      ]
     },
     "execution_count": 204,
     "metadata": {
      "tags": []
     },
     "output_type": "execute_result"
    }
   ],
   "source": [
    "a/m"
   ]
  },
  {
   "cell_type": "markdown",
   "metadata": {
    "colab_type": "text",
    "id": "Mu9FjzCIpcdr"
   },
   "source": [
    "**Exponentials and roots**"
   ]
  },
  {
   "cell_type": "code",
   "execution_count": 0,
   "metadata": {
    "colab": {
     "autoexec": {
      "startup": false,
      "wait_interval": 0
     },
     "base_uri": "https://localhost:8080/",
     "height": 69
    },
    "colab_type": "code",
    "executionInfo": {
     "elapsed": 338,
     "status": "ok",
     "timestamp": 1524617631665,
     "user": {
      "displayName": "Tairi Delgado",
      "photoUrl": "//lh6.googleusercontent.com/-l4lv-T3P6-c/AAAAAAAAAAI/AAAAAAAABIA/4wtQ8ehIzZw/s50-c-k-no/photo.jpg",
      "userId": "115188476170888991569"
     },
     "user_tz": 420
    },
    "id": "BXehHHNrSqy7",
    "outputId": "2fc29573-1334-46a8-b1d3-715f8812a053"
   },
   "outputs": [
    {
     "data": {
      "text/plain": [
       "matrix([[ 468,  576,  684],\n",
       "        [1062, 1305, 1548],\n",
       "        [1656, 2034, 2412]])"
      ]
     },
     "execution_count": 205,
     "metadata": {
      "tags": []
     },
     "output_type": "execute_result"
    }
   ],
   "source": [
    "m**3"
   ]
  },
  {
   "cell_type": "code",
   "execution_count": 0,
   "metadata": {
    "colab": {
     "autoexec": {
      "startup": false,
      "wait_interval": 0
     },
     "base_uri": "https://localhost:8080/",
     "height": 69
    },
    "colab_type": "code",
    "executionInfo": {
     "elapsed": 247,
     "status": "ok",
     "timestamp": 1524617649738,
     "user": {
      "displayName": "Tairi Delgado",
      "photoUrl": "//lh6.googleusercontent.com/-l4lv-T3P6-c/AAAAAAAAAAI/AAAAAAAABIA/4wtQ8ehIzZw/s50-c-k-no/photo.jpg",
      "userId": "115188476170888991569"
     },
     "user_tz": 420
    },
    "id": "tWJFOrh7St5z",
    "outputId": "568c909c-7f99-4d42-815c-143e66f46cfd"
   },
   "outputs": [
    {
     "data": {
      "text/plain": [
       "matrix([[1.        , 1.41421356, 1.73205081],\n",
       "        [2.        , 2.23606798, 2.44948974],\n",
       "        [2.64575131, 2.82842712, 3.        ]])"
      ]
     },
     "execution_count": 206,
     "metadata": {
      "tags": []
     },
     "output_type": "execute_result"
    }
   ],
   "source": [
    "np.sqrt(m)"
   ]
  },
  {
   "cell_type": "markdown",
   "metadata": {
    "colab_type": "text",
    "id": "UF-d8zxrphvi"
   },
   "source": [
    "## Numpy Matrix Statistics Operations"
   ]
  },
  {
   "cell_type": "markdown",
   "metadata": {
    "colab_type": "text",
    "id": "PFS3fcGMpsEo"
   },
   "source": [
    "**Mean**"
   ]
  },
  {
   "cell_type": "code",
   "execution_count": 0,
   "metadata": {
    "colab": {
     "autoexec": {
      "startup": false,
      "wait_interval": 0
     },
     "base_uri": "https://localhost:8080/",
     "height": 34
    },
    "colab_type": "code",
    "executionInfo": {
     "elapsed": 328,
     "status": "ok",
     "timestamp": 1524617743073,
     "user": {
      "displayName": "Tairi Delgado",
      "photoUrl": "//lh6.googleusercontent.com/-l4lv-T3P6-c/AAAAAAAAAAI/AAAAAAAABIA/4wtQ8ehIzZw/s50-c-k-no/photo.jpg",
      "userId": "115188476170888991569"
     },
     "user_tz": 420
    },
    "id": "oGz5hWfnTHN-",
    "outputId": "d85135c0-8724-4b5d-b662-7e51ef6a566b"
   },
   "outputs": [
    {
     "data": {
      "text/plain": [
       "5.0"
      ]
     },
     "execution_count": 207,
     "metadata": {
      "tags": []
     },
     "output_type": "execute_result"
    }
   ],
   "source": [
    "m.mean()"
   ]
  },
  {
   "cell_type": "markdown",
   "metadata": {
    "colab_type": "text",
    "id": "Fm6wdclLpvMh"
   },
   "source": [
    "**Variance**"
   ]
  },
  {
   "cell_type": "code",
   "execution_count": 0,
   "metadata": {
    "colab": {
     "autoexec": {
      "startup": false,
      "wait_interval": 0
     },
     "base_uri": "https://localhost:8080/",
     "height": 34
    },
    "colab_type": "code",
    "executionInfo": {
     "elapsed": 294,
     "status": "ok",
     "timestamp": 1524617750616,
     "user": {
      "displayName": "Tairi Delgado",
      "photoUrl": "//lh6.googleusercontent.com/-l4lv-T3P6-c/AAAAAAAAAAI/AAAAAAAABIA/4wtQ8ehIzZw/s50-c-k-no/photo.jpg",
      "userId": "115188476170888991569"
     },
     "user_tz": 420
    },
    "id": "upNFAuivTJYH",
    "outputId": "de458e0e-ff43-470a-9838-653e31a024c6"
   },
   "outputs": [
    {
     "data": {
      "text/plain": [
       "6.666666666666667"
      ]
     },
     "execution_count": 208,
     "metadata": {
      "tags": []
     },
     "output_type": "execute_result"
    }
   ],
   "source": [
    "m.var()"
   ]
  },
  {
   "cell_type": "markdown",
   "metadata": {
    "colab_type": "text",
    "id": "4YKrf53Jpx9s"
   },
   "source": [
    "**Standard Deviation**"
   ]
  },
  {
   "cell_type": "code",
   "execution_count": 0,
   "metadata": {
    "colab": {
     "autoexec": {
      "startup": false,
      "wait_interval": 0
     },
     "base_uri": "https://localhost:8080/",
     "height": 34
    },
    "colab_type": "code",
    "executionInfo": {
     "elapsed": 388,
     "status": "ok",
     "timestamp": 1524617757708,
     "user": {
      "displayName": "Tairi Delgado",
      "photoUrl": "//lh6.googleusercontent.com/-l4lv-T3P6-c/AAAAAAAAAAI/AAAAAAAABIA/4wtQ8ehIzZw/s50-c-k-no/photo.jpg",
      "userId": "115188476170888991569"
     },
     "user_tz": 420
    },
    "id": "wCftFJxUTLPr",
    "outputId": "db3505d7-ec0f-4796-d50b-2bd5870d3c51"
   },
   "outputs": [
    {
     "data": {
      "text/plain": [
       "2.581988897471611"
      ]
     },
     "execution_count": 209,
     "metadata": {
      "tags": []
     },
     "output_type": "execute_result"
    }
   ],
   "source": [
    "m.std()"
   ]
  },
  {
   "cell_type": "markdown",
   "metadata": {
    "colab_type": "text",
    "id": "MaVaFVTep6QN"
   },
   "source": [
    "# Pandas DataFrame for 2D Data"
   ]
  },
  {
   "cell_type": "markdown",
   "metadata": {
    "colab_type": "text",
    "id": "57gkyYucqCo4"
   },
   "source": [
    "## Initializing and Converting to Panda DataFrames"
   ]
  },
  {
   "cell_type": "code",
   "execution_count": 0,
   "metadata": {
    "colab": {
     "autoexec": {
      "startup": false,
      "wait_interval": 0
     }
    },
    "colab_type": "code",
    "id": "uasGhgmQ2Yrg"
   },
   "outputs": [],
   "source": [
    "import pandas as pd"
   ]
  },
  {
   "cell_type": "markdown",
   "metadata": {
    "colab_type": "text",
    "id": "obMPAIiArIud"
   },
   "source": [
    "**Create DataFrame without index (list)**"
   ]
  },
  {
   "cell_type": "code",
   "execution_count": 13,
   "metadata": {
    "colab": {
     "autoexec": {
      "startup": false,
      "wait_interval": 0
     },
     "base_uri": "https://localhost:8080/",
     "height": 85
    },
    "colab_type": "code",
    "executionInfo": {
     "elapsed": 297,
     "status": "ok",
     "timestamp": 1531520665231,
     "user": {
      "displayName": "Tairi Delgado",
      "photoUrl": "//lh6.googleusercontent.com/-l4lv-T3P6-c/AAAAAAAAAAI/AAAAAAAABIA/4wtQ8ehIzZw/s50-c-k-no/photo.jpg",
      "userId": "115188476170888991569"
     },
     "user_tz": 420
    },
    "id": "n_os9SqJ2jLl",
    "outputId": "b6cd9de1-b0a2-4b50-8520-0151154289d9"
   },
   "outputs": [
    {
     "name": "stdout",
     "output_type": "stream",
     "text": [
      "   0  1  2\n",
      "0  1  2  3\n",
      "1  4  5  6\n",
      "2  7  8  9\n"
     ]
    }
   ],
   "source": [
    "df = pd.DataFrame([[1,2,3],[4,5,6],[7,8,9]])\n",
    "print(df)"
   ]
  },
  {
   "cell_type": "markdown",
   "metadata": {
    "colab_type": "text",
    "id": "_vqPdDq7rL3M"
   },
   "source": [
    "**Create DataFrame with index (dictionary)**"
   ]
  },
  {
   "cell_type": "code",
   "execution_count": 14,
   "metadata": {
    "colab": {
     "autoexec": {
      "startup": false,
      "wait_interval": 0
     },
     "base_uri": "https://localhost:8080/",
     "height": 85
    },
    "colab_type": "code",
    "executionInfo": {
     "elapsed": 302,
     "status": "ok",
     "timestamp": 1531520667163,
     "user": {
      "displayName": "Tairi Delgado",
      "photoUrl": "//lh6.googleusercontent.com/-l4lv-T3P6-c/AAAAAAAAAAI/AAAAAAAABIA/4wtQ8ehIzZw/s50-c-k-no/photo.jpg",
      "userId": "115188476170888991569"
     },
     "user_tz": 420
    },
    "id": "USYFNYiA20Ed",
    "outputId": "f6da5a19-b13b-49c5-ce85-e65ae6c6605b"
   },
   "outputs": [
    {
     "name": "stdout",
     "output_type": "stream",
     "text": [
      "   col1  col2  col3\n",
      "0     2    10     3\n",
      "1     4    20     9\n",
      "2     5    30    12\n"
     ]
    }
   ],
   "source": [
    "df2 = pd.DataFrame({'col1': [2,4,5], 'col2': [10,20,30], 'col3': [3,9,12]})\n",
    "print(df2)"
   ]
  },
  {
   "cell_type": "markdown",
   "metadata": {
    "colab_type": "text",
    "id": "V3tH1ORirNyy"
   },
   "source": [
    "**Convert Numpy Matrix to DataFrame**"
   ]
  },
  {
   "cell_type": "code",
   "execution_count": 0,
   "metadata": {
    "colab": {
     "autoexec": {
      "startup": false,
      "wait_interval": 0
     }
    },
    "colab_type": "code",
    "id": "J1q7uE163RJb"
   },
   "outputs": [],
   "source": [
    "m = np.matrix([[1,2,3],[2,4,6],[6,3,4]])"
   ]
  },
  {
   "cell_type": "code",
   "execution_count": 16,
   "metadata": {
    "colab": {
     "autoexec": {
      "startup": false,
      "wait_interval": 0
     },
     "base_uri": "https://localhost:8080/",
     "height": 85
    },
    "colab_type": "code",
    "executionInfo": {
     "elapsed": 305,
     "status": "ok",
     "timestamp": 1531520670223,
     "user": {
      "displayName": "Tairi Delgado",
      "photoUrl": "//lh6.googleusercontent.com/-l4lv-T3P6-c/AAAAAAAAAAI/AAAAAAAABIA/4wtQ8ehIzZw/s50-c-k-no/photo.jpg",
      "userId": "115188476170888991569"
     },
     "user_tz": 420
    },
    "id": "-RTbdIYv3dNP",
    "outputId": "4e29f713-65a2-445c-bd68-c46417a335d2"
   },
   "outputs": [
    {
     "name": "stdout",
     "output_type": "stream",
     "text": [
      "   0  1  2\n",
      "0  1  2  3\n",
      "1  2  4  6\n",
      "2  6  3  4\n"
     ]
    }
   ],
   "source": [
    "df = pd.DataFrame(m)\n",
    "print(df)"
   ]
  },
  {
   "cell_type": "markdown",
   "metadata": {
    "colab_type": "text",
    "id": "HgXaCXAZrPSZ"
   },
   "source": [
    "**Convert files and databases**"
   ]
  },
  {
   "cell_type": "code",
   "execution_count": 17,
   "metadata": {
    "colab": {
     "autoexec": {
      "startup": false,
      "wait_interval": 0
     },
     "base_uri": "https://localhost:8080/",
     "height": 86,
     "resources": {
      "http://localhost:8080/nbextensions/google.colab/files.js": {
       "data": "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",
       "headers": [
        [
         "content-type",
         "application/javascript"
        ]
       ],
       "ok": true,
       "status": 200,
       "status_text": ""
      }
     }
    },
    "colab_type": "code",
    "executionInfo": {
     "elapsed": 27854,
     "status": "ok",
     "timestamp": 1531520700707,
     "user": {
      "displayName": "Tairi Delgado",
      "photoUrl": "//lh6.googleusercontent.com/-l4lv-T3P6-c/AAAAAAAAAAI/AAAAAAAABIA/4wtQ8ehIzZw/s50-c-k-no/photo.jpg",
      "userId": "115188476170888991569"
     },
     "user_tz": 420
    },
    "id": "x13H1GRh35Q0",
    "outputId": "93c7aa53-4152-4171-d7a4-9c19374e616c"
   },
   "outputs": [
    {
     "data": {
      "text/html": [
       "\n",
       "     <input type=\"file\" id=\"files-07396d51-52bb-49f1-a978-e158615492c4\" name=\"files[]\" multiple disabled />\n",
       "     <output id=\"result-07396d51-52bb-49f1-a978-e158615492c4\">\n",
       "      Upload widget is only available when the cell has been executed in the\n",
       "      current browser session. Please rerun this cell to enable.\n",
       "      </output>\n",
       "      <script src=\"/nbextensions/google.colab/files.js\"></script> "
      ],
      "text/plain": [
       "<IPython.core.display.HTML object>"
      ]
     },
     "metadata": {
      "tags": []
     },
     "output_type": "display_data"
    },
    {
     "name": "stdout",
     "output_type": "stream",
     "text": [
      "Saving Sales.db to Sales (1).db\n",
      "User uploaded file \"Sales.db\" with 28672 bytes\n"
     ]
    }
   ],
   "source": [
    "from google.colab import files\n",
    "uploaded = files.upload()\n",
    "for fn in uploaded.keys():\n",
    "  print('User uploaded file \"{name}\" with {length} bytes'.format(name=fn,length=len(uploaded[fn])))"
   ]
  },
  {
   "cell_type": "code",
   "execution_count": 0,
   "metadata": {
    "colab": {
     "autoexec": {
      "startup": false,
      "wait_interval": 0
     }
    },
    "colab_type": "code",
    "id": "GU3hOB5m4nHL"
   },
   "outputs": [],
   "source": [
    "import sqlite3\n",
    "\n",
    "con = sqlite3.connect(\"Sales.db\")"
   ]
  },
  {
   "cell_type": "code",
   "execution_count": 0,
   "metadata": {
    "colab": {
     "autoexec": {
      "startup": false,
      "wait_interval": 0
     }
    },
    "colab_type": "code",
    "id": "GPP5MYZp4v2F"
   },
   "outputs": [],
   "source": [
    "employee_df = pd.read_sql_query(\"SELECT * FROM Employee\", con)\n"
   ]
  },
  {
   "cell_type": "code",
   "execution_count": 20,
   "metadata": {
    "colab": {
     "autoexec": {
      "startup": false,
      "wait_interval": 0
     },
     "base_uri": "https://localhost:8080/",
     "height": 238
    },
    "colab_type": "code",
    "executionInfo": {
     "elapsed": 424,
     "status": "ok",
     "timestamp": 1531520706999,
     "user": {
      "displayName": "Tairi Delgado",
      "photoUrl": "//lh6.googleusercontent.com/-l4lv-T3P6-c/AAAAAAAAAAI/AAAAAAAABIA/4wtQ8ehIzZw/s50-c-k-no/photo.jpg",
      "userId": "115188476170888991569"
     },
     "user_tz": 420
    },
    "id": "QGzBpQ4W5I60",
    "outputId": "7ddf6a8f-7fe9-4eb9-e288-b8472c444a2a"
   },
   "outputs": [
    {
     "name": "stdout",
     "output_type": "stream",
     "text": [
      "    Employee_ID First_Name Last_Name                 Department           City\n",
      "0         10001     Daniel     Olson                Electronics  San Francisco\n",
      "1         10002       Nick   Markmen                    Clothes  San Francisco\n",
      "2         10003      Maria  Gonzales                Electronics       San Jose\n",
      "3         10004     George      Wong                    Clothes  San Francisco\n",
      "4         10005  Stephanie  Williams                    Clothes        Oakland\n",
      "5         10006     Miguel      Alva                    Clothes        Oakland\n",
      "6         10007    Jessica   Collins                  Cosmetics  San Francisco\n",
      "7         10008        Ted  Anderson                    Clothes        Oakland\n",
      "8         10009   Victoria    Garcia                    Clothes       San Jose\n",
      "9         10010    Jasmine      Khan  Pharmacy, Health & Beauty        Oakland\n",
      "10        10011       Adam     Smith  Pharmacy, Health & Beauty       San Jose\n",
      "11        10012     Rachel       Kim                Electronics       San Jose\n"
     ]
    }
   ],
   "source": [
    "print(employee_df)"
   ]
  },
  {
   "cell_type": "code",
   "execution_count": 21,
   "metadata": {
    "colab": {
     "autoexec": {
      "startup": false,
      "wait_interval": 0
     },
     "base_uri": "https://localhost:8080/",
     "height": 238
    },
    "colab_type": "code",
    "executionInfo": {
     "elapsed": 332,
     "status": "ok",
     "timestamp": 1531520712988,
     "user": {
      "displayName": "Tairi Delgado",
      "photoUrl": "//lh6.googleusercontent.com/-l4lv-T3P6-c/AAAAAAAAAAI/AAAAAAAABIA/4wtQ8ehIzZw/s50-c-k-no/photo.jpg",
      "userId": "115188476170888991569"
     },
     "user_tz": 420
    },
    "id": "lcpqCS535O5M",
    "outputId": "8d0a3cc7-3f13-415b-b096-32501683f704"
   },
   "outputs": [
    {
     "name": "stdout",
     "output_type": "stream",
     "text": [
      "    Customer_ID First_Name Last_Name           City\n",
      "0         20001       Jack      Ward       San Jose\n",
      "1         20002     Steven  Martinez  San Francisco\n",
      "2         20003    Jessica   Collins       San Jose\n",
      "3         20004      Carie  Robinson  San Francisco\n",
      "4         20005       Zack  Peterson        Oakland\n",
      "5         20006     Bianca   Sanchez  San Francisco\n",
      "6         20007      James      Owen        Oakland\n",
      "7         20008       Lisa     Smith  San Francisco\n",
      "8         20009     Daniel  Yasukawa        Oakland\n",
      "9         20010     Lauren      Pham       San Jose\n",
      "10        20011       Juan      Diaz        Oakland\n",
      "11        20012     Martha      Diaz  San Francisco\n"
     ]
    }
   ],
   "source": [
    "customer_df = pd.read_sql_query(\"SELECT * FROM Customer\", con)\n",
    "print(customer_df)"
   ]
  },
  {
   "cell_type": "code",
   "execution_count": 22,
   "metadata": {
    "colab": {
     "autoexec": {
      "startup": false,
      "wait_interval": 0
     },
     "base_uri": "https://localhost:8080/",
     "height": 238
    },
    "colab_type": "code",
    "executionInfo": {
     "elapsed": 355,
     "status": "ok",
     "timestamp": 1531520724644,
     "user": {
      "displayName": "Tairi Delgado",
      "photoUrl": "//lh6.googleusercontent.com/-l4lv-T3P6-c/AAAAAAAAAAI/AAAAAAAABIA/4wtQ8ehIzZw/s50-c-k-no/photo.jpg",
      "userId": "115188476170888991569"
     },
     "user_tz": 420
    },
    "id": "el6eDkVC5YJT",
    "outputId": "4e8b1100-7aa2-49d7-994d-87119385b914"
   },
   "outputs": [
    {
     "name": "stdout",
     "output_type": "stream",
     "text": [
      "    Product_ID Product_Name   Price  Supplier_ID          Supplier_Name\n",
      "0        30001      T-Shirt   12.98        40004       Studio Warehouse\n",
      "1        30002  Tooth Paste    4.50        40002             BioMed Inc\n",
      "2        30003     Speakers   56.99        40005          CompTech, Inc\n",
      "3        30004        Pants   34.35        40003             FashionRUs\n",
      "4        30005   Microphone   46.21        40001  Music Vibrations, Inc\n",
      "5        30006          Tie   11.09        40003             FashionRUs\n",
      "6        30007   Chap Stick    3.67        40002             BioMed Inc\n",
      "7        30008     Medicine   23.96        40002             BioMed Inc\n",
      "8        30009   Headphones   31.44        40001  Music Vibrations, Inc\n",
      "9        30010       Lotion   16.77        40002             BioMed Inc\n",
      "10       30011   DVD Player  149.99        40005          CompTech, Inc\n",
      "11       30012         Coat   56.33        40004       Studio Warehouse\n"
     ]
    }
   ],
   "source": [
    "product_df = pd.read_sql_query(\"SELECT * FROM Product\", con)\n",
    "print(product_df)"
   ]
  },
  {
   "cell_type": "code",
   "execution_count": 23,
   "metadata": {
    "colab": {
     "autoexec": {
      "startup": false,
      "wait_interval": 0
     },
     "base_uri": "https://localhost:8080/",
     "height": 221
    },
    "colab_type": "code",
    "executionInfo": {
     "elapsed": 314,
     "status": "ok",
     "timestamp": 1531520727761,
     "user": {
      "displayName": "Tairi Delgado",
      "photoUrl": "//lh6.googleusercontent.com/-l4lv-T3P6-c/AAAAAAAAAAI/AAAAAAAABIA/4wtQ8ehIzZw/s50-c-k-no/photo.jpg",
      "userId": "115188476170888991569"
     },
     "user_tz": 420
    },
    "id": "q-P59sef5ico",
    "outputId": "1647c192-3cfd-4545-ed31-792d405789b2"
   },
   "outputs": [
    {
     "name": "stdout",
     "output_type": "stream",
     "text": [
      "    Order_ID  Customer_ID  Product_ID  Employee_ID      Date\n",
      "0      50001        20005       30005        10001  17-02-12\n",
      "1      50002        20003       30008        10011  17-09-03\n",
      "2      50003        20010       30001        10009  17-11-23\n",
      "3      50004        20004       30008        10010  17-01-28\n",
      "4      50005        20008       30012        10002  17-08-11\n",
      "5      50006        20011       30011        10001  17-04-13\n",
      "6      50007        20012       30002        10007  17-10-07\n",
      "7      50008        20002       30001        10004  17-03-09\n",
      "8      50009        20001       30006        10009  17-12-26\n",
      "9      50010        20013       30004        10008  17-04-11\n",
      "10     50011        20014       30007        10010  17-09-16\n"
     ]
    }
   ],
   "source": [
    "orders_df = pd.read_sql_query(\"SELECT * FROM Orders\", con)\n",
    "print(orders_df)"
   ]
  },
  {
   "cell_type": "code",
   "execution_count": 24,
   "metadata": {
    "colab": {
     "autoexec": {
      "startup": false,
      "wait_interval": 0
     },
     "base_uri": "https://localhost:8080/",
     "height": 119
    },
    "colab_type": "code",
    "executionInfo": {
     "elapsed": 306,
     "status": "ok",
     "timestamp": 1531520729561,
     "user": {
      "displayName": "Tairi Delgado",
      "photoUrl": "//lh6.googleusercontent.com/-l4lv-T3P6-c/AAAAAAAAAAI/AAAAAAAABIA/4wtQ8ehIzZw/s50-c-k-no/photo.jpg",
      "userId": "115188476170888991569"
     },
     "user_tz": 420
    },
    "id": "c8gErYNX5qpq",
    "outputId": "ade01c54-9a80-4b69-da24-4cc14b8c08ec"
   },
   "outputs": [
    {
     "name": "stdout",
     "output_type": "stream",
     "text": [
      "   Supplier_ID                   Name           City\n",
      "0        40001  Music Vibrations, Inc        Oakland\n",
      "1        40002             BioMed Inc  San Francisco\n",
      "2        40003             FashionRUs       San Jose\n",
      "3        40004       Studio Warehouse  San Francisco\n",
      "4        40005          CompTech, Inc       San Jose\n"
     ]
    }
   ],
   "source": [
    "supplier_df = pd.read_sql_query(\"SELECT * FROM Supplier\", con)\n",
    "print(supplier_df)"
   ]
  },
  {
   "cell_type": "markdown",
   "metadata": {
    "colab_type": "text",
    "id": "300ItVAWqJG1"
   },
   "source": [
    "## Accessing and Selection"
   ]
  },
  {
   "cell_type": "code",
   "execution_count": 25,
   "metadata": {
    "colab": {
     "autoexec": {
      "startup": false,
      "wait_interval": 0
     },
     "base_uri": "https://localhost:8080/",
     "height": 238
    },
    "colab_type": "code",
    "executionInfo": {
     "elapsed": 304,
     "status": "ok",
     "timestamp": 1531520737028,
     "user": {
      "displayName": "Tairi Delgado",
      "photoUrl": "//lh6.googleusercontent.com/-l4lv-T3P6-c/AAAAAAAAAAI/AAAAAAAABIA/4wtQ8ehIzZw/s50-c-k-no/photo.jpg",
      "userId": "115188476170888991569"
     },
     "user_tz": 420
    },
    "id": "hsizQliN80AO",
    "outputId": "d4dee2c3-6e85-451d-fa6e-ed624aaefdb6"
   },
   "outputs": [
    {
     "data": {
      "text/plain": [
       "0        Daniel\n",
       "1          Nick\n",
       "2         Maria\n",
       "3        George\n",
       "4     Stephanie\n",
       "5        Miguel\n",
       "6       Jessica\n",
       "7           Ted\n",
       "8      Victoria\n",
       "9       Jasmine\n",
       "10         Adam\n",
       "11       Rachel\n",
       "Name: First_Name, dtype: object"
      ]
     },
     "execution_count": 25,
     "metadata": {
      "tags": []
     },
     "output_type": "execute_result"
    }
   ],
   "source": [
    "employee_df['First_Name']"
   ]
  },
  {
   "cell_type": "code",
   "execution_count": 26,
   "metadata": {
    "colab": {
     "autoexec": {
      "startup": false,
      "wait_interval": 0
     },
     "base_uri": "https://localhost:8080/",
     "height": 221
    },
    "colab_type": "code",
    "executionInfo": {
     "elapsed": 399,
     "status": "ok",
     "timestamp": 1531520739254,
     "user": {
      "displayName": "Tairi Delgado",
      "photoUrl": "//lh6.googleusercontent.com/-l4lv-T3P6-c/AAAAAAAAAAI/AAAAAAAABIA/4wtQ8ehIzZw/s50-c-k-no/photo.jpg",
      "userId": "115188476170888991569"
     },
     "user_tz": 420
    },
    "id": "RTujSoz79C-K",
    "outputId": "bdcc3b35-cc14-47ba-8ec3-b95d89640ace"
   },
   "outputs": [
    {
     "data": {
      "text/plain": [
       "0     50001\n",
       "1     50002\n",
       "2     50003\n",
       "3     50004\n",
       "4     50005\n",
       "5     50006\n",
       "6     50007\n",
       "7     50008\n",
       "8     50009\n",
       "9     50010\n",
       "10    50011\n",
       "Name: Order_ID, dtype: int64"
      ]
     },
     "execution_count": 26,
     "metadata": {
      "tags": []
     },
     "output_type": "execute_result"
    }
   ],
   "source": [
    "orders_df['Order_ID']"
   ]
  },
  {
   "cell_type": "code",
   "execution_count": 27,
   "metadata": {
    "colab": {
     "autoexec": {
      "startup": false,
      "wait_interval": 0
     },
     "base_uri": "https://localhost:8080/",
     "height": 34
    },
    "colab_type": "code",
    "executionInfo": {
     "elapsed": 383,
     "status": "ok",
     "timestamp": 1531520741014,
     "user": {
      "displayName": "Tairi Delgado",
      "photoUrl": "//lh6.googleusercontent.com/-l4lv-T3P6-c/AAAAAAAAAAI/AAAAAAAABIA/4wtQ8ehIzZw/s50-c-k-no/photo.jpg",
      "userId": "115188476170888991569"
     },
     "user_tz": 420
    },
    "id": "_Jp9v1g39HdM",
    "outputId": "7954b919-e944-45b8-e38a-19074029cf26"
   },
   "outputs": [
    {
     "data": {
      "text/plain": [
       "'Ward'"
      ]
     },
     "execution_count": 27,
     "metadata": {
      "tags": []
     },
     "output_type": "execute_result"
    }
   ],
   "source": [
    "customer_df['Last_Name'][0]"
   ]
  },
  {
   "cell_type": "code",
   "execution_count": 28,
   "metadata": {
    "colab": {
     "autoexec": {
      "startup": false,
      "wait_interval": 0
     },
     "base_uri": "https://localhost:8080/",
     "height": 34
    },
    "colab_type": "code",
    "executionInfo": {
     "elapsed": 342,
     "status": "ok",
     "timestamp": 1531520742821,
     "user": {
      "displayName": "Tairi Delgado",
      "photoUrl": "//lh6.googleusercontent.com/-l4lv-T3P6-c/AAAAAAAAAAI/AAAAAAAABIA/4wtQ8ehIzZw/s50-c-k-no/photo.jpg",
      "userId": "115188476170888991569"
     },
     "user_tz": 420
    },
    "id": "n3kKRKCe9XLL",
    "outputId": "415e5162-ec97-4ad9-ceda-96e2b68752d6"
   },
   "outputs": [
    {
     "data": {
      "text/plain": [
       "'BioMed Inc'"
      ]
     },
     "execution_count": 28,
     "metadata": {
      "tags": []
     },
     "output_type": "execute_result"
    }
   ],
   "source": [
    "supplier_df['Name'][1]"
   ]
  },
  {
   "cell_type": "markdown",
   "metadata": {
    "colab_type": "text",
    "id": "PRGP8VaVraxj"
   },
   "source": [
    "**Selection by label**"
   ]
  },
  {
   "cell_type": "code",
   "execution_count": 29,
   "metadata": {
    "colab": {
     "autoexec": {
      "startup": false,
      "wait_interval": 0
     },
     "base_uri": "https://localhost:8080/",
     "height": 142
    },
    "colab_type": "code",
    "executionInfo": {
     "elapsed": 321,
     "status": "ok",
     "timestamp": 1531520744859,
     "user": {
      "displayName": "Tairi Delgado",
      "photoUrl": "//lh6.googleusercontent.com/-l4lv-T3P6-c/AAAAAAAAAAI/AAAAAAAABIA/4wtQ8ehIzZw/s50-c-k-no/photo.jpg",
      "userId": "115188476170888991569"
     },
     "user_tz": 420
    },
    "id": "418dbw-j9kdw",
    "outputId": "59881959-94fa-4067-bdf1-6a687f6df049"
   },
   "outputs": [
    {
     "data": {
      "text/html": [
       "<div>\n",
       "<style scoped>\n",
       "    .dataframe tbody tr th:only-of-type {\n",
       "        vertical-align: middle;\n",
       "    }\n",
       "\n",
       "    .dataframe tbody tr th {\n",
       "        vertical-align: top;\n",
       "    }\n",
       "\n",
       "    .dataframe thead th {\n",
       "        text-align: right;\n",
       "    }\n",
       "</style>\n",
       "<table border=\"1\" class=\"dataframe\">\n",
       "  <thead>\n",
       "    <tr style=\"text-align: right;\">\n",
       "      <th></th>\n",
       "      <th>col1</th>\n",
       "      <th>col2</th>\n",
       "    </tr>\n",
       "  </thead>\n",
       "  <tbody>\n",
       "    <tr>\n",
       "      <th>0</th>\n",
       "      <td>2</td>\n",
       "      <td>10</td>\n",
       "    </tr>\n",
       "    <tr>\n",
       "      <th>1</th>\n",
       "      <td>4</td>\n",
       "      <td>20</td>\n",
       "    </tr>\n",
       "    <tr>\n",
       "      <th>2</th>\n",
       "      <td>5</td>\n",
       "      <td>30</td>\n",
       "    </tr>\n",
       "  </tbody>\n",
       "</table>\n",
       "</div>"
      ],
      "text/plain": [
       "   col1  col2\n",
       "0     2    10\n",
       "1     4    20\n",
       "2     5    30"
      ]
     },
     "execution_count": 29,
     "metadata": {
      "tags": []
     },
     "output_type": "execute_result"
    }
   ],
   "source": [
    "df2.loc[:,['col1','col2']]"
   ]
  },
  {
   "cell_type": "code",
   "execution_count": 30,
   "metadata": {
    "colab": {
     "autoexec": {
      "startup": false,
      "wait_interval": 0
     },
     "base_uri": "https://localhost:8080/",
     "height": 80
    },
    "colab_type": "code",
    "executionInfo": {
     "elapsed": 267,
     "status": "ok",
     "timestamp": 1531520749127,
     "user": {
      "displayName": "Tairi Delgado",
      "photoUrl": "//lh6.googleusercontent.com/-l4lv-T3P6-c/AAAAAAAAAAI/AAAAAAAABIA/4wtQ8ehIzZw/s50-c-k-no/photo.jpg",
      "userId": "115188476170888991569"
     },
     "user_tz": 420
    },
    "id": "rh1ncI2o-CS1",
    "outputId": "03531dbe-928b-4c98-dbbd-a437300b1210"
   },
   "outputs": [
    {
     "data": {
      "text/html": [
       "<div>\n",
       "<style scoped>\n",
       "    .dataframe tbody tr th:only-of-type {\n",
       "        vertical-align: middle;\n",
       "    }\n",
       "\n",
       "    .dataframe tbody tr th {\n",
       "        vertical-align: top;\n",
       "    }\n",
       "\n",
       "    .dataframe thead th {\n",
       "        text-align: right;\n",
       "    }\n",
       "</style>\n",
       "<table border=\"1\" class=\"dataframe\">\n",
       "  <thead>\n",
       "    <tr style=\"text-align: right;\">\n",
       "      <th></th>\n",
       "      <th>First_Name</th>\n",
       "      <th>Last_Name</th>\n",
       "    </tr>\n",
       "  </thead>\n",
       "  <tbody>\n",
       "    <tr>\n",
       "      <th>0</th>\n",
       "      <td>Jack</td>\n",
       "      <td>Ward</td>\n",
       "    </tr>\n",
       "  </tbody>\n",
       "</table>\n",
       "</div>"
      ],
      "text/plain": [
       "  First_Name Last_Name\n",
       "0       Jack      Ward"
      ]
     },
     "execution_count": 30,
     "metadata": {
      "tags": []
     },
     "output_type": "execute_result"
    }
   ],
   "source": [
    "customer_df.loc[[0],['First_Name','Last_Name']]"
   ]
  },
  {
   "cell_type": "code",
   "execution_count": 31,
   "metadata": {
    "colab": {
     "autoexec": {
      "startup": false,
      "wait_interval": 0
     },
     "base_uri": "https://localhost:8080/",
     "height": 111
    },
    "colab_type": "code",
    "executionInfo": {
     "elapsed": 363,
     "status": "ok",
     "timestamp": 1531520750832,
     "user": {
      "displayName": "Tairi Delgado",
      "photoUrl": "//lh6.googleusercontent.com/-l4lv-T3P6-c/AAAAAAAAAAI/AAAAAAAABIA/4wtQ8ehIzZw/s50-c-k-no/photo.jpg",
      "userId": "115188476170888991569"
     },
     "user_tz": 420
    },
    "id": "x9IOwGbD-MIl",
    "outputId": "8e864ea4-2f08-47a7-cbc5-60a3744c0646"
   },
   "outputs": [
    {
     "data": {
      "text/html": [
       "<div>\n",
       "<style scoped>\n",
       "    .dataframe tbody tr th:only-of-type {\n",
       "        vertical-align: middle;\n",
       "    }\n",
       "\n",
       "    .dataframe tbody tr th {\n",
       "        vertical-align: top;\n",
       "    }\n",
       "\n",
       "    .dataframe thead th {\n",
       "        text-align: right;\n",
       "    }\n",
       "</style>\n",
       "<table border=\"1\" class=\"dataframe\">\n",
       "  <thead>\n",
       "    <tr style=\"text-align: right;\">\n",
       "      <th></th>\n",
       "      <th>First_Name</th>\n",
       "    </tr>\n",
       "  </thead>\n",
       "  <tbody>\n",
       "    <tr>\n",
       "      <th>0</th>\n",
       "      <td>Jack</td>\n",
       "    </tr>\n",
       "    <tr>\n",
       "      <th>1</th>\n",
       "      <td>Steven</td>\n",
       "    </tr>\n",
       "  </tbody>\n",
       "</table>\n",
       "</div>"
      ],
      "text/plain": [
       "  First_Name\n",
       "0       Jack\n",
       "1     Steven"
      ]
     },
     "execution_count": 31,
     "metadata": {
      "tags": []
     },
     "output_type": "execute_result"
    }
   ],
   "source": [
    "customer_df.loc[[0,1],['First_Name']]"
   ]
  },
  {
   "cell_type": "markdown",
   "metadata": {
    "colab_type": "text",
    "id": "r-_jPWzUrpdF"
   },
   "source": [
    "**Selection by position**"
   ]
  },
  {
   "cell_type": "code",
   "execution_count": 32,
   "metadata": {
    "colab": {
     "autoexec": {
      "startup": false,
      "wait_interval": 0
     },
     "base_uri": "https://localhost:8080/",
     "height": 119
    },
    "colab_type": "code",
    "executionInfo": {
     "elapsed": 342,
     "status": "ok",
     "timestamp": 1531520752910,
     "user": {
      "displayName": "Tairi Delgado",
      "photoUrl": "//lh6.googleusercontent.com/-l4lv-T3P6-c/AAAAAAAAAAI/AAAAAAAABIA/4wtQ8ehIzZw/s50-c-k-no/photo.jpg",
      "userId": "115188476170888991569"
     },
     "user_tz": 420
    },
    "id": "0GrAGpTV-kKT",
    "outputId": "55f30bc4-12b9-4e8e-ecdd-591d49686403"
   },
   "outputs": [
    {
     "data": {
      "text/plain": [
       "Product_ID             30002\n",
       "Product_Name     Tooth Paste\n",
       "Price                    4.5\n",
       "Supplier_ID            40002\n",
       "Supplier_Name     BioMed Inc\n",
       "Name: 1, dtype: object"
      ]
     },
     "execution_count": 32,
     "metadata": {
      "tags": []
     },
     "output_type": "execute_result"
    }
   ],
   "source": [
    "product_df.iloc[1]"
   ]
  },
  {
   "cell_type": "code",
   "execution_count": 33,
   "metadata": {
    "colab": {
     "autoexec": {
      "startup": false,
      "wait_interval": 0
     },
     "base_uri": "https://localhost:8080/",
     "height": 119
    },
    "colab_type": "code",
    "executionInfo": {
     "elapsed": 708,
     "status": "ok",
     "timestamp": 1531520755225,
     "user": {
      "displayName": "Tairi Delgado",
      "photoUrl": "//lh6.googleusercontent.com/-l4lv-T3P6-c/AAAAAAAAAAI/AAAAAAAABIA/4wtQ8ehIzZw/s50-c-k-no/photo.jpg",
      "userId": "115188476170888991569"
     },
     "user_tz": 420
    },
    "id": "QpSrIX7--x4x",
    "outputId": "8160bf35-773a-4dba-cfce-ad9736aa4f41"
   },
   "outputs": [
    {
     "data": {
      "text/plain": [
       "Product_ID            30004\n",
       "Product_Name          Pants\n",
       "Price                 34.35\n",
       "Supplier_ID           40003\n",
       "Supplier_Name    FashionRUs\n",
       "Name: 3, dtype: object"
      ]
     },
     "execution_count": 33,
     "metadata": {
      "tags": []
     },
     "output_type": "execute_result"
    }
   ],
   "source": [
    "product_df.iloc[3]"
   ]
  },
  {
   "cell_type": "code",
   "execution_count": 34,
   "metadata": {
    "colab": {
     "autoexec": {
      "startup": false,
      "wait_interval": 0
     },
     "base_uri": "https://localhost:8080/",
     "height": 238
    },
    "colab_type": "code",
    "executionInfo": {
     "elapsed": 478,
     "status": "ok",
     "timestamp": 1531520757952,
     "user": {
      "displayName": "Tairi Delgado",
      "photoUrl": "//lh6.googleusercontent.com/-l4lv-T3P6-c/AAAAAAAAAAI/AAAAAAAABIA/4wtQ8ehIzZw/s50-c-k-no/photo.jpg",
      "userId": "115188476170888991569"
     },
     "user_tz": 420
    },
    "id": "aFDJ7NS0-2yt",
    "outputId": "053c6839-e879-4856-84b0-2b253965afd8"
   },
   "outputs": [
    {
     "data": {
      "text/plain": [
       "0        Jack\n",
       "1      Steven\n",
       "2     Jessica\n",
       "3       Carie\n",
       "4        Zack\n",
       "5      Bianca\n",
       "6       James\n",
       "7        Lisa\n",
       "8      Daniel\n",
       "9      Lauren\n",
       "10       Juan\n",
       "11     Martha\n",
       "Name: First_Name, dtype: object"
      ]
     },
     "execution_count": 34,
     "metadata": {
      "tags": []
     },
     "output_type": "execute_result"
    }
   ],
   "source": [
    "customer_df.iloc[:,1]"
   ]
  },
  {
   "cell_type": "markdown",
   "metadata": {
    "colab_type": "text",
    "id": "iFE5CvnqrtLc"
   },
   "source": [
    "**Selection by slicing**"
   ]
  },
  {
   "cell_type": "code",
   "execution_count": 35,
   "metadata": {
    "colab": {
     "autoexec": {
      "startup": false,
      "wait_interval": 0
     },
     "base_uri": "https://localhost:8080/",
     "height": 173
    },
    "colab_type": "code",
    "executionInfo": {
     "elapsed": 334,
     "status": "ok",
     "timestamp": 1531520760693,
     "user": {
      "displayName": "Tairi Delgado",
      "photoUrl": "//lh6.googleusercontent.com/-l4lv-T3P6-c/AAAAAAAAAAI/AAAAAAAABIA/4wtQ8ehIzZw/s50-c-k-no/photo.jpg",
      "userId": "115188476170888991569"
     },
     "user_tz": 420
    },
    "id": "bRfioQdf_SU4",
    "outputId": "95b5138b-77d2-4d16-d34b-a23bd10f2a03"
   },
   "outputs": [
    {
     "data": {
      "text/html": [
       "<div>\n",
       "<style scoped>\n",
       "    .dataframe tbody tr th:only-of-type {\n",
       "        vertical-align: middle;\n",
       "    }\n",
       "\n",
       "    .dataframe tbody tr th {\n",
       "        vertical-align: top;\n",
       "    }\n",
       "\n",
       "    .dataframe thead th {\n",
       "        text-align: right;\n",
       "    }\n",
       "</style>\n",
       "<table border=\"1\" class=\"dataframe\">\n",
       "  <thead>\n",
       "    <tr style=\"text-align: right;\">\n",
       "      <th></th>\n",
       "      <th>Customer_ID</th>\n",
       "    </tr>\n",
       "  </thead>\n",
       "  <tbody>\n",
       "    <tr>\n",
       "      <th>0</th>\n",
       "      <td>20001</td>\n",
       "    </tr>\n",
       "    <tr>\n",
       "      <th>1</th>\n",
       "      <td>20002</td>\n",
       "    </tr>\n",
       "    <tr>\n",
       "      <th>2</th>\n",
       "      <td>20003</td>\n",
       "    </tr>\n",
       "    <tr>\n",
       "      <th>3</th>\n",
       "      <td>20004</td>\n",
       "    </tr>\n",
       "  </tbody>\n",
       "</table>\n",
       "</div>"
      ],
      "text/plain": [
       "   Customer_ID\n",
       "0        20001\n",
       "1        20002\n",
       "2        20003\n",
       "3        20004"
      ]
     },
     "execution_count": 35,
     "metadata": {
      "tags": []
     },
     "output_type": "execute_result"
    }
   ],
   "source": [
    "customer_df.loc[0:3,['Customer_ID']]"
   ]
  },
  {
   "cell_type": "code",
   "execution_count": 36,
   "metadata": {
    "colab": {
     "autoexec": {
      "startup": false,
      "wait_interval": 0
     },
     "base_uri": "https://localhost:8080/",
     "height": 80
    },
    "colab_type": "code",
    "executionInfo": {
     "elapsed": 327,
     "status": "ok",
     "timestamp": 1531520763531,
     "user": {
      "displayName": "Tairi Delgado",
      "photoUrl": "//lh6.googleusercontent.com/-l4lv-T3P6-c/AAAAAAAAAAI/AAAAAAAABIA/4wtQ8ehIzZw/s50-c-k-no/photo.jpg",
      "userId": "115188476170888991569"
     },
     "user_tz": 420
    },
    "id": "rd9thhLh_q0x",
    "outputId": "3f90f0e2-72b5-4897-9f2f-bff8b64663fc"
   },
   "outputs": [
    {
     "data": {
      "text/html": [
       "<div>\n",
       "<style scoped>\n",
       "    .dataframe tbody tr th:only-of-type {\n",
       "        vertical-align: middle;\n",
       "    }\n",
       "\n",
       "    .dataframe tbody tr th {\n",
       "        vertical-align: top;\n",
       "    }\n",
       "\n",
       "    .dataframe thead th {\n",
       "        text-align: right;\n",
       "    }\n",
       "</style>\n",
       "<table border=\"1\" class=\"dataframe\">\n",
       "  <thead>\n",
       "    <tr style=\"text-align: right;\">\n",
       "      <th></th>\n",
       "      <th>Customer_ID</th>\n",
       "      <th>First_Name</th>\n",
       "      <th>Last_Name</th>\n",
       "    </tr>\n",
       "  </thead>\n",
       "  <tbody>\n",
       "    <tr>\n",
       "      <th>1</th>\n",
       "      <td>20002</td>\n",
       "      <td>Steven</td>\n",
       "      <td>Martinez</td>\n",
       "    </tr>\n",
       "  </tbody>\n",
       "</table>\n",
       "</div>"
      ],
      "text/plain": [
       "   Customer_ID First_Name Last_Name\n",
       "1        20002     Steven  Martinez"
      ]
     },
     "execution_count": 36,
     "metadata": {
      "tags": []
     },
     "output_type": "execute_result"
    }
   ],
   "source": [
    " customer_df.loc[[1],'Customer_ID':'Last_Name']"
   ]
  },
  {
   "cell_type": "code",
   "execution_count": 37,
   "metadata": {
    "colab": {
     "autoexec": {
      "startup": false,
      "wait_interval": 0
     },
     "base_uri": "https://localhost:8080/",
     "height": 85
    },
    "colab_type": "code",
    "executionInfo": {
     "elapsed": 288,
     "status": "ok",
     "timestamp": 1531520765355,
     "user": {
      "displayName": "Tairi Delgado",
      "photoUrl": "//lh6.googleusercontent.com/-l4lv-T3P6-c/AAAAAAAAAAI/AAAAAAAABIA/4wtQ8ehIzZw/s50-c-k-no/photo.jpg",
      "userId": "115188476170888991569"
     },
     "user_tz": 420
    },
    "id": "K9Ibez0I_9gJ",
    "outputId": "b1edd613-95a0-4f03-9814-bc7a005f6a1c"
   },
   "outputs": [
    {
     "data": {
      "text/plain": [
       "1     Steven\n",
       "2    Jessica\n",
       "3      Carie\n",
       "Name: First_Name, dtype: object"
      ]
     },
     "execution_count": 37,
     "metadata": {
      "tags": []
     },
     "output_type": "execute_result"
    }
   ],
   "source": [
    "customer_df.iloc[1:4,1]"
   ]
  },
  {
   "cell_type": "code",
   "execution_count": 38,
   "metadata": {
    "colab": {
     "autoexec": {
      "startup": false,
      "wait_interval": 0
     },
     "base_uri": "https://localhost:8080/",
     "height": 80
    },
    "colab_type": "code",
    "executionInfo": {
     "elapsed": 579,
     "status": "ok",
     "timestamp": 1531520767520,
     "user": {
      "displayName": "Tairi Delgado",
      "photoUrl": "//lh6.googleusercontent.com/-l4lv-T3P6-c/AAAAAAAAAAI/AAAAAAAABIA/4wtQ8ehIzZw/s50-c-k-no/photo.jpg",
      "userId": "115188476170888991569"
     },
     "user_tz": 420
    },
    "id": "u6fV9HJuAQCX",
    "outputId": "a46c110a-157b-46e8-cf68-ef468c7e849a"
   },
   "outputs": [
    {
     "data": {
      "text/html": [
       "<div>\n",
       "<style scoped>\n",
       "    .dataframe tbody tr th:only-of-type {\n",
       "        vertical-align: middle;\n",
       "    }\n",
       "\n",
       "    .dataframe tbody tr th {\n",
       "        vertical-align: top;\n",
       "    }\n",
       "\n",
       "    .dataframe thead th {\n",
       "        text-align: right;\n",
       "    }\n",
       "</style>\n",
       "<table border=\"1\" class=\"dataframe\">\n",
       "  <thead>\n",
       "    <tr style=\"text-align: right;\">\n",
       "      <th></th>\n",
       "      <th>First_Name</th>\n",
       "      <th>Last_Name</th>\n",
       "      <th>City</th>\n",
       "    </tr>\n",
       "  </thead>\n",
       "  <tbody>\n",
       "    <tr>\n",
       "      <th>2</th>\n",
       "      <td>Jessica</td>\n",
       "      <td>Collins</td>\n",
       "      <td>San Jose</td>\n",
       "    </tr>\n",
       "  </tbody>\n",
       "</table>\n",
       "</div>"
      ],
      "text/plain": [
       "  First_Name Last_Name      City\n",
       "2    Jessica   Collins  San Jose"
      ]
     },
     "execution_count": 38,
     "metadata": {
      "tags": []
     },
     "output_type": "execute_result"
    }
   ],
   "source": [
    "customer_df.iloc[[2],1:4]"
   ]
  },
  {
   "cell_type": "markdown",
   "metadata": {
    "colab_type": "text",
    "id": "DhXgeRW0r2bf"
   },
   "source": [
    "**Access by condition AND OR NOT**"
   ]
  },
  {
   "cell_type": "code",
   "execution_count": 39,
   "metadata": {
    "colab": {
     "autoexec": {
      "startup": false,
      "wait_interval": 0
     },
     "base_uri": "https://localhost:8080/",
     "height": 80
    },
    "colab_type": "code",
    "executionInfo": {
     "elapsed": 354,
     "status": "ok",
     "timestamp": 1531520769690,
     "user": {
      "displayName": "Tairi Delgado",
      "photoUrl": "//lh6.googleusercontent.com/-l4lv-T3P6-c/AAAAAAAAAAI/AAAAAAAABIA/4wtQ8ehIzZw/s50-c-k-no/photo.jpg",
      "userId": "115188476170888991569"
     },
     "user_tz": 420
    },
    "id": "JHiCL4g9Ahc4",
    "outputId": "29a4b92b-d36d-42cf-dcc2-b69fa805683a"
   },
   "outputs": [
    {
     "data": {
      "text/html": [
       "<div>\n",
       "<style scoped>\n",
       "    .dataframe tbody tr th:only-of-type {\n",
       "        vertical-align: middle;\n",
       "    }\n",
       "\n",
       "    .dataframe tbody tr th {\n",
       "        vertical-align: top;\n",
       "    }\n",
       "\n",
       "    .dataframe thead th {\n",
       "        text-align: right;\n",
       "    }\n",
       "</style>\n",
       "<table border=\"1\" class=\"dataframe\">\n",
       "  <thead>\n",
       "    <tr style=\"text-align: right;\">\n",
       "      <th></th>\n",
       "      <th>Product_ID</th>\n",
       "      <th>Product_Name</th>\n",
       "      <th>Price</th>\n",
       "      <th>Supplier_ID</th>\n",
       "      <th>Supplier_Name</th>\n",
       "    </tr>\n",
       "  </thead>\n",
       "  <tbody>\n",
       "    <tr>\n",
       "      <th>5</th>\n",
       "      <td>30006</td>\n",
       "      <td>Tie</td>\n",
       "      <td>11.09</td>\n",
       "      <td>40003</td>\n",
       "      <td>FashionRUs</td>\n",
       "    </tr>\n",
       "  </tbody>\n",
       "</table>\n",
       "</div>"
      ],
      "text/plain": [
       "   Product_ID Product_Name  Price  Supplier_ID Supplier_Name\n",
       "5       30006          Tie  11.09        40003    FashionRUs"
      ]
     },
     "execution_count": 39,
     "metadata": {
      "tags": []
     },
     "output_type": "execute_result"
    }
   ],
   "source": [
    "product_df[product_df['Product_ID'] == 30006]"
   ]
  },
  {
   "cell_type": "code",
   "execution_count": 40,
   "metadata": {
    "colab": {
     "autoexec": {
      "startup": false,
      "wait_interval": 0
     },
     "base_uri": "https://localhost:8080/",
     "height": 142
    },
    "colab_type": "code",
    "executionInfo": {
     "elapsed": 296,
     "status": "ok",
     "timestamp": 1531520772406,
     "user": {
      "displayName": "Tairi Delgado",
      "photoUrl": "//lh6.googleusercontent.com/-l4lv-T3P6-c/AAAAAAAAAAI/AAAAAAAABIA/4wtQ8ehIzZw/s50-c-k-no/photo.jpg",
      "userId": "115188476170888991569"
     },
     "user_tz": 420
    },
    "id": "0eDY_yS_Auzw",
    "outputId": "b1d17a7d-5cf2-42a6-8e1e-5f71f5b32920"
   },
   "outputs": [
    {
     "data": {
      "text/html": [
       "<div>\n",
       "<style scoped>\n",
       "    .dataframe tbody tr th:only-of-type {\n",
       "        vertical-align: middle;\n",
       "    }\n",
       "\n",
       "    .dataframe tbody tr th {\n",
       "        vertical-align: top;\n",
       "    }\n",
       "\n",
       "    .dataframe thead th {\n",
       "        text-align: right;\n",
       "    }\n",
       "</style>\n",
       "<table border=\"1\" class=\"dataframe\">\n",
       "  <thead>\n",
       "    <tr style=\"text-align: right;\">\n",
       "      <th></th>\n",
       "      <th>Product_ID</th>\n",
       "      <th>Product_Name</th>\n",
       "      <th>Price</th>\n",
       "      <th>Supplier_ID</th>\n",
       "      <th>Supplier_Name</th>\n",
       "    </tr>\n",
       "  </thead>\n",
       "  <tbody>\n",
       "    <tr>\n",
       "      <th>2</th>\n",
       "      <td>30003</td>\n",
       "      <td>Speakers</td>\n",
       "      <td>56.99</td>\n",
       "      <td>40005</td>\n",
       "      <td>CompTech, Inc</td>\n",
       "    </tr>\n",
       "    <tr>\n",
       "      <th>10</th>\n",
       "      <td>30011</td>\n",
       "      <td>DVD Player</td>\n",
       "      <td>149.99</td>\n",
       "      <td>40005</td>\n",
       "      <td>CompTech, Inc</td>\n",
       "    </tr>\n",
       "    <tr>\n",
       "      <th>11</th>\n",
       "      <td>30012</td>\n",
       "      <td>Coat</td>\n",
       "      <td>56.33</td>\n",
       "      <td>40004</td>\n",
       "      <td>Studio Warehouse</td>\n",
       "    </tr>\n",
       "  </tbody>\n",
       "</table>\n",
       "</div>"
      ],
      "text/plain": [
       "    Product_ID Product_Name   Price  Supplier_ID     Supplier_Name\n",
       "2        30003     Speakers   56.99        40005     CompTech, Inc\n",
       "10       30011   DVD Player  149.99        40005     CompTech, Inc\n",
       "11       30012         Coat   56.33        40004  Studio Warehouse"
      ]
     },
     "execution_count": 40,
     "metadata": {
      "tags": []
     },
     "output_type": "execute_result"
    }
   ],
   "source": [
    "product_df[product_df['Price'] > 50]"
   ]
  },
  {
   "cell_type": "code",
   "execution_count": 41,
   "metadata": {
    "colab": {
     "autoexec": {
      "startup": false,
      "wait_interval": 0
     },
     "base_uri": "https://localhost:8080/",
     "height": 173
    },
    "colab_type": "code",
    "executionInfo": {
     "elapsed": 318,
     "status": "ok",
     "timestamp": 1531520775139,
     "user": {
      "displayName": "Tairi Delgado",
      "photoUrl": "//lh6.googleusercontent.com/-l4lv-T3P6-c/AAAAAAAAAAI/AAAAAAAABIA/4wtQ8ehIzZw/s50-c-k-no/photo.jpg",
      "userId": "115188476170888991569"
     },
     "user_tz": 420
    },
    "id": "REqOG-5qA-Yn",
    "outputId": "4deda07e-cdf1-4712-9fa0-f69927b91b02"
   },
   "outputs": [
    {
     "data": {
      "text/html": [
       "<div>\n",
       "<style scoped>\n",
       "    .dataframe tbody tr th:only-of-type {\n",
       "        vertical-align: middle;\n",
       "    }\n",
       "\n",
       "    .dataframe tbody tr th {\n",
       "        vertical-align: top;\n",
       "    }\n",
       "\n",
       "    .dataframe thead th {\n",
       "        text-align: right;\n",
       "    }\n",
       "</style>\n",
       "<table border=\"1\" class=\"dataframe\">\n",
       "  <thead>\n",
       "    <tr style=\"text-align: right;\">\n",
       "      <th></th>\n",
       "      <th>Product_ID</th>\n",
       "      <th>Product_Name</th>\n",
       "      <th>Price</th>\n",
       "      <th>Supplier_ID</th>\n",
       "      <th>Supplier_Name</th>\n",
       "    </tr>\n",
       "  </thead>\n",
       "  <tbody>\n",
       "    <tr>\n",
       "      <th>5</th>\n",
       "      <td>30006</td>\n",
       "      <td>Tie</td>\n",
       "      <td>11.09</td>\n",
       "      <td>40003</td>\n",
       "      <td>FashionRUs</td>\n",
       "    </tr>\n",
       "    <tr>\n",
       "      <th>6</th>\n",
       "      <td>30007</td>\n",
       "      <td>Chap Stick</td>\n",
       "      <td>3.67</td>\n",
       "      <td>40002</td>\n",
       "      <td>BioMed Inc</td>\n",
       "    </tr>\n",
       "    <tr>\n",
       "      <th>7</th>\n",
       "      <td>30008</td>\n",
       "      <td>Medicine</td>\n",
       "      <td>23.96</td>\n",
       "      <td>40002</td>\n",
       "      <td>BioMed Inc</td>\n",
       "    </tr>\n",
       "    <tr>\n",
       "      <th>9</th>\n",
       "      <td>30010</td>\n",
       "      <td>Lotion</td>\n",
       "      <td>16.77</td>\n",
       "      <td>40002</td>\n",
       "      <td>BioMed Inc</td>\n",
       "    </tr>\n",
       "  </tbody>\n",
       "</table>\n",
       "</div>"
      ],
      "text/plain": [
       "   Product_ID Product_Name  Price  Supplier_ID Supplier_Name\n",
       "5       30006          Tie  11.09        40003    FashionRUs\n",
       "6       30007   Chap Stick   3.67        40002    BioMed Inc\n",
       "7       30008     Medicine  23.96        40002    BioMed Inc\n",
       "9       30010       Lotion  16.77        40002    BioMed Inc"
      ]
     },
     "execution_count": 41,
     "metadata": {
      "tags": []
     },
     "output_type": "execute_result"
    }
   ],
   "source": [
    "product_df[(product_df['Product_ID'] > 30005) & (product_df['Price'] < 30)]"
   ]
  },
  {
   "cell_type": "code",
   "execution_count": 42,
   "metadata": {
    "colab": {
     "autoexec": {
      "startup": false,
      "wait_interval": 0
     },
     "base_uri": "https://localhost:8080/",
     "height": 111
    },
    "colab_type": "code",
    "executionInfo": {
     "elapsed": 345,
     "status": "ok",
     "timestamp": 1531520779487,
     "user": {
      "displayName": "Tairi Delgado",
      "photoUrl": "//lh6.googleusercontent.com/-l4lv-T3P6-c/AAAAAAAAAAI/AAAAAAAABIA/4wtQ8ehIzZw/s50-c-k-no/photo.jpg",
      "userId": "115188476170888991569"
     },
     "user_tz": 420
    },
    "id": "bftObcMVBXXn",
    "outputId": "e2f1906b-d290-4fbf-feca-4bd29e8c771e"
   },
   "outputs": [
    {
     "data": {
      "text/html": [
       "<div>\n",
       "<style scoped>\n",
       "    .dataframe tbody tr th:only-of-type {\n",
       "        vertical-align: middle;\n",
       "    }\n",
       "\n",
       "    .dataframe tbody tr th {\n",
       "        vertical-align: top;\n",
       "    }\n",
       "\n",
       "    .dataframe thead th {\n",
       "        text-align: right;\n",
       "    }\n",
       "</style>\n",
       "<table border=\"1\" class=\"dataframe\">\n",
       "  <thead>\n",
       "    <tr style=\"text-align: right;\">\n",
       "      <th></th>\n",
       "      <th>Product_ID</th>\n",
       "      <th>Product_Name</th>\n",
       "      <th>Price</th>\n",
       "      <th>Supplier_ID</th>\n",
       "      <th>Supplier_Name</th>\n",
       "    </tr>\n",
       "  </thead>\n",
       "  <tbody>\n",
       "    <tr>\n",
       "      <th>1</th>\n",
       "      <td>30002</td>\n",
       "      <td>Tooth Paste</td>\n",
       "      <td>4.50</td>\n",
       "      <td>40002</td>\n",
       "      <td>BioMed Inc</td>\n",
       "    </tr>\n",
       "    <tr>\n",
       "      <th>6</th>\n",
       "      <td>30007</td>\n",
       "      <td>Chap Stick</td>\n",
       "      <td>3.67</td>\n",
       "      <td>40002</td>\n",
       "      <td>BioMed Inc</td>\n",
       "    </tr>\n",
       "  </tbody>\n",
       "</table>\n",
       "</div>"
      ],
      "text/plain": [
       "   Product_ID Product_Name  Price  Supplier_ID Supplier_Name\n",
       "1       30002  Tooth Paste   4.50        40002    BioMed Inc\n",
       "6       30007   Chap Stick   3.67        40002    BioMed Inc"
      ]
     },
     "execution_count": 42,
     "metadata": {
      "tags": []
     },
     "output_type": "execute_result"
    }
   ],
   "source": [
    "product_df[(product_df['Price'] < 15) & (product_df['Supplier_Name'] == 'BioMed Inc')]"
   ]
  },
  {
   "cell_type": "code",
   "execution_count": 43,
   "metadata": {
    "colab": {
     "autoexec": {
      "startup": false,
      "wait_interval": 0
     },
     "base_uri": "https://localhost:8080/",
     "height": 111
    },
    "colab_type": "code",
    "executionInfo": {
     "elapsed": 321,
     "status": "ok",
     "timestamp": 1531520781877,
     "user": {
      "displayName": "Tairi Delgado",
      "photoUrl": "//lh6.googleusercontent.com/-l4lv-T3P6-c/AAAAAAAAAAI/AAAAAAAABIA/4wtQ8ehIzZw/s50-c-k-no/photo.jpg",
      "userId": "115188476170888991569"
     },
     "user_tz": 420
    },
    "id": "fNAVGQsMBwLK",
    "outputId": "fe0171d1-5602-421b-b17a-ca1b0033f40f"
   },
   "outputs": [
    {
     "data": {
      "text/html": [
       "<div>\n",
       "<style scoped>\n",
       "    .dataframe tbody tr th:only-of-type {\n",
       "        vertical-align: middle;\n",
       "    }\n",
       "\n",
       "    .dataframe tbody tr th {\n",
       "        vertical-align: top;\n",
       "    }\n",
       "\n",
       "    .dataframe thead th {\n",
       "        text-align: right;\n",
       "    }\n",
       "</style>\n",
       "<table border=\"1\" class=\"dataframe\">\n",
       "  <thead>\n",
       "    <tr style=\"text-align: right;\">\n",
       "      <th></th>\n",
       "      <th>Product_ID</th>\n",
       "      <th>Product_Name</th>\n",
       "      <th>Price</th>\n",
       "      <th>Supplier_ID</th>\n",
       "      <th>Supplier_Name</th>\n",
       "    </tr>\n",
       "  </thead>\n",
       "  <tbody>\n",
       "    <tr>\n",
       "      <th>3</th>\n",
       "      <td>30004</td>\n",
       "      <td>Pants</td>\n",
       "      <td>34.35</td>\n",
       "      <td>40003</td>\n",
       "      <td>FashionRUs</td>\n",
       "    </tr>\n",
       "    <tr>\n",
       "      <th>5</th>\n",
       "      <td>30006</td>\n",
       "      <td>Tie</td>\n",
       "      <td>11.09</td>\n",
       "      <td>40003</td>\n",
       "      <td>FashionRUs</td>\n",
       "    </tr>\n",
       "  </tbody>\n",
       "</table>\n",
       "</div>"
      ],
      "text/plain": [
       "   Product_ID Product_Name  Price  Supplier_ID Supplier_Name\n",
       "3       30004        Pants  34.35        40003    FashionRUs\n",
       "5       30006          Tie  11.09        40003    FashionRUs"
      ]
     },
     "execution_count": 43,
     "metadata": {
      "tags": []
     },
     "output_type": "execute_result"
    }
   ],
   "source": [
    "product_df[(product_df['Product_Name'] == 'Pants') | (product_df['Product_Name'] == 'Tie')]"
   ]
  },
  {
   "cell_type": "code",
   "execution_count": 44,
   "metadata": {
    "colab": {
     "autoexec": {
      "startup": false,
      "wait_interval": 0
     },
     "base_uri": "https://localhost:8080/",
     "height": 359
    },
    "colab_type": "code",
    "executionInfo": {
     "elapsed": 467,
     "status": "ok",
     "timestamp": 1531520783950,
     "user": {
      "displayName": "Tairi Delgado",
      "photoUrl": "//lh6.googleusercontent.com/-l4lv-T3P6-c/AAAAAAAAAAI/AAAAAAAABIA/4wtQ8ehIzZw/s50-c-k-no/photo.jpg",
      "userId": "115188476170888991569"
     },
     "user_tz": 420
    },
    "id": "d7PxiPeQCEZH",
    "outputId": "c13d0984-b670-454e-8235-9ce19d6e2b47"
   },
   "outputs": [
    {
     "data": {
      "text/html": [
       "<div>\n",
       "<style scoped>\n",
       "    .dataframe tbody tr th:only-of-type {\n",
       "        vertical-align: middle;\n",
       "    }\n",
       "\n",
       "    .dataframe tbody tr th {\n",
       "        vertical-align: top;\n",
       "    }\n",
       "\n",
       "    .dataframe thead th {\n",
       "        text-align: right;\n",
       "    }\n",
       "</style>\n",
       "<table border=\"1\" class=\"dataframe\">\n",
       "  <thead>\n",
       "    <tr style=\"text-align: right;\">\n",
       "      <th></th>\n",
       "      <th>Product_ID</th>\n",
       "      <th>Product_Name</th>\n",
       "      <th>Price</th>\n",
       "      <th>Supplier_ID</th>\n",
       "      <th>Supplier_Name</th>\n",
       "    </tr>\n",
       "  </thead>\n",
       "  <tbody>\n",
       "    <tr>\n",
       "      <th>0</th>\n",
       "      <td>30001</td>\n",
       "      <td>T-Shirt</td>\n",
       "      <td>12.98</td>\n",
       "      <td>40004</td>\n",
       "      <td>Studio Warehouse</td>\n",
       "    </tr>\n",
       "    <tr>\n",
       "      <th>1</th>\n",
       "      <td>30002</td>\n",
       "      <td>Tooth Paste</td>\n",
       "      <td>4.50</td>\n",
       "      <td>40002</td>\n",
       "      <td>BioMed Inc</td>\n",
       "    </tr>\n",
       "    <tr>\n",
       "      <th>2</th>\n",
       "      <td>30003</td>\n",
       "      <td>Speakers</td>\n",
       "      <td>56.99</td>\n",
       "      <td>40005</td>\n",
       "      <td>CompTech, Inc</td>\n",
       "    </tr>\n",
       "    <tr>\n",
       "      <th>4</th>\n",
       "      <td>30005</td>\n",
       "      <td>Microphone</td>\n",
       "      <td>46.21</td>\n",
       "      <td>40001</td>\n",
       "      <td>Music Vibrations, Inc</td>\n",
       "    </tr>\n",
       "    <tr>\n",
       "      <th>6</th>\n",
       "      <td>30007</td>\n",
       "      <td>Chap Stick</td>\n",
       "      <td>3.67</td>\n",
       "      <td>40002</td>\n",
       "      <td>BioMed Inc</td>\n",
       "    </tr>\n",
       "    <tr>\n",
       "      <th>7</th>\n",
       "      <td>30008</td>\n",
       "      <td>Medicine</td>\n",
       "      <td>23.96</td>\n",
       "      <td>40002</td>\n",
       "      <td>BioMed Inc</td>\n",
       "    </tr>\n",
       "    <tr>\n",
       "      <th>8</th>\n",
       "      <td>30009</td>\n",
       "      <td>Headphones</td>\n",
       "      <td>31.44</td>\n",
       "      <td>40001</td>\n",
       "      <td>Music Vibrations, Inc</td>\n",
       "    </tr>\n",
       "    <tr>\n",
       "      <th>9</th>\n",
       "      <td>30010</td>\n",
       "      <td>Lotion</td>\n",
       "      <td>16.77</td>\n",
       "      <td>40002</td>\n",
       "      <td>BioMed Inc</td>\n",
       "    </tr>\n",
       "    <tr>\n",
       "      <th>10</th>\n",
       "      <td>30011</td>\n",
       "      <td>DVD Player</td>\n",
       "      <td>149.99</td>\n",
       "      <td>40005</td>\n",
       "      <td>CompTech, Inc</td>\n",
       "    </tr>\n",
       "    <tr>\n",
       "      <th>11</th>\n",
       "      <td>30012</td>\n",
       "      <td>Coat</td>\n",
       "      <td>56.33</td>\n",
       "      <td>40004</td>\n",
       "      <td>Studio Warehouse</td>\n",
       "    </tr>\n",
       "  </tbody>\n",
       "</table>\n",
       "</div>"
      ],
      "text/plain": [
       "    Product_ID Product_Name   Price  Supplier_ID          Supplier_Name\n",
       "0        30001      T-Shirt   12.98        40004       Studio Warehouse\n",
       "1        30002  Tooth Paste    4.50        40002             BioMed Inc\n",
       "2        30003     Speakers   56.99        40005          CompTech, Inc\n",
       "4        30005   Microphone   46.21        40001  Music Vibrations, Inc\n",
       "6        30007   Chap Stick    3.67        40002             BioMed Inc\n",
       "7        30008     Medicine   23.96        40002             BioMed Inc\n",
       "8        30009   Headphones   31.44        40001  Music Vibrations, Inc\n",
       "9        30010       Lotion   16.77        40002             BioMed Inc\n",
       "10       30011   DVD Player  149.99        40005          CompTech, Inc\n",
       "11       30012         Coat   56.33        40004       Studio Warehouse"
      ]
     },
     "execution_count": 44,
     "metadata": {
      "tags": []
     },
     "output_type": "execute_result"
    }
   ],
   "source": [
    "product_df[~(product_df['Supplier_Name'] == 'FashionRUs')]"
   ]
  },
  {
   "cell_type": "markdown",
   "metadata": {
    "colab_type": "text",
    "id": "mb4xM6JArw4Z"
   },
   "source": [
    "**Iterations**"
   ]
  },
  {
   "cell_type": "code",
   "execution_count": 45,
   "metadata": {
    "colab": {
     "autoexec": {
      "startup": false,
      "wait_interval": 0
     },
     "base_uri": "https://localhost:8080/",
     "height": 238
    },
    "colab_type": "code",
    "executionInfo": {
     "elapsed": 317,
     "status": "ok",
     "timestamp": 1531520788204,
     "user": {
      "displayName": "Tairi Delgado",
      "photoUrl": "//lh6.googleusercontent.com/-l4lv-T3P6-c/AAAAAAAAAAI/AAAAAAAABIA/4wtQ8ehIzZw/s50-c-k-no/photo.jpg",
      "userId": "115188476170888991569"
     },
     "user_tz": 420
    },
    "id": "VbG-JQ14CYyE",
    "outputId": "2cb377c7-fe14-4bbd-9579-8cfdb4b6535b"
   },
   "outputs": [
    {
     "name": "stdout",
     "output_type": "stream",
     "text": [
      "    Employee_ID First_Name Last_Name                 Department           City\n",
      "0         10001     Daniel     Olson                Electronics  San Francisco\n",
      "1         10002       Nick   Markmen                    Clothes  San Francisco\n",
      "2         10003      Maria  Gonzales                Electronics       San Jose\n",
      "3         10004     George      Wong                    Clothes  San Francisco\n",
      "4         10005  Stephanie  Williams                    Clothes        Oakland\n",
      "5         10006     Miguel      Alva                    Clothes        Oakland\n",
      "6         10007    Jessica   Collins                  Cosmetics  San Francisco\n",
      "7         10008        Ted  Anderson                    Clothes        Oakland\n",
      "8         10009   Victoria    Garcia                    Clothes       San Jose\n",
      "9         10010    Jasmine      Khan  Pharmacy, Health & Beauty        Oakland\n",
      "10        10011       Adam     Smith  Pharmacy, Health & Beauty       San Jose\n",
      "11        10012     Rachel       Kim                Electronics       San Jose\n"
     ]
    }
   ],
   "source": [
    "print(employee_df)"
   ]
  },
  {
   "cell_type": "code",
   "execution_count": 46,
   "metadata": {
    "colab": {
     "autoexec": {
      "startup": false,
      "wait_interval": 0
     },
     "base_uri": "https://localhost:8080/",
     "height": 221
    },
    "colab_type": "code",
    "executionInfo": {
     "elapsed": 319,
     "status": "ok",
     "timestamp": 1531520791962,
     "user": {
      "displayName": "Tairi Delgado",
      "photoUrl": "//lh6.googleusercontent.com/-l4lv-T3P6-c/AAAAAAAAAAI/AAAAAAAABIA/4wtQ8ehIzZw/s50-c-k-no/photo.jpg",
      "userId": "115188476170888991569"
     },
     "user_tz": 420
    },
    "id": "J7zoY44SCkJL",
    "outputId": "96936b82-a2ff-46a1-a2a0-8a4c80fd5c37"
   },
   "outputs": [
    {
     "name": "stdout",
     "output_type": "stream",
     "text": [
      "Pandas(Index=0, Employee_ID=10001, First_Name='Daniel', Last_Name='Olson', Department='Electronics', City='San Francisco')\n",
      "Pandas(Index=1, Employee_ID=10002, First_Name='Nick', Last_Name='Markmen', Department='Clothes', City='San Francisco')\n",
      "Pandas(Index=2, Employee_ID=10003, First_Name='Maria', Last_Name='Gonzales', Department='Electronics', City='San Jose')\n",
      "Pandas(Index=3, Employee_ID=10004, First_Name='George', Last_Name='Wong', Department='Clothes', City='San Francisco')\n",
      "Pandas(Index=4, Employee_ID=10005, First_Name='Stephanie', Last_Name='Williams', Department='Clothes', City='Oakland')\n",
      "Pandas(Index=5, Employee_ID=10006, First_Name='Miguel', Last_Name='Alva', Department='Clothes', City='Oakland')\n",
      "Pandas(Index=6, Employee_ID=10007, First_Name='Jessica', Last_Name='Collins', Department='Cosmetics', City='San Francisco')\n",
      "Pandas(Index=7, Employee_ID=10008, First_Name='Ted', Last_Name='Anderson', Department='Clothes', City='Oakland')\n",
      "Pandas(Index=8, Employee_ID=10009, First_Name='Victoria', Last_Name='Garcia', Department='Clothes', City='San Jose')\n",
      "Pandas(Index=9, Employee_ID=10010, First_Name='Jasmine', Last_Name='Khan', Department='Pharmacy, Health & Beauty', City='Oakland')\n",
      "Pandas(Index=10, Employee_ID=10011, First_Name='Adam', Last_Name='Smith', Department='Pharmacy, Health & Beauty', City='San Jose')\n",
      "Pandas(Index=11, Employee_ID=10012, First_Name='Rachel', Last_Name='Kim', Department='Electronics', City='San Jose')\n"
     ]
    }
   ],
   "source": [
    "for row in employee_df.itertuples():\n",
    "  print(row)"
   ]
  },
  {
   "cell_type": "code",
   "execution_count": 47,
   "metadata": {
    "colab": {
     "autoexec": {
      "startup": false,
      "wait_interval": 0
     },
     "base_uri": "https://localhost:8080/",
     "height": 1241
    },
    "colab_type": "code",
    "executionInfo": {
     "elapsed": 330,
     "status": "ok",
     "timestamp": 1531520794654,
     "user": {
      "displayName": "Tairi Delgado",
      "photoUrl": "//lh6.googleusercontent.com/-l4lv-T3P6-c/AAAAAAAAAAI/AAAAAAAABIA/4wtQ8ehIzZw/s50-c-k-no/photo.jpg",
      "userId": "115188476170888991569"
     },
     "user_tz": 420
    },
    "id": "HPW-nZjyCzi_",
    "outputId": "05c1b45a-8aff-40c2-f4b5-3addc8090f1e"
   },
   "outputs": [
    {
     "name": "stdout",
     "output_type": "stream",
     "text": [
      "0 Employee_ID            10001\n",
      "First_Name            Daniel\n",
      "Last_Name              Olson\n",
      "Department       Electronics\n",
      "City           San Francisco\n",
      "Name: 0, dtype: object\n",
      "1 Employee_ID            10002\n",
      "First_Name              Nick\n",
      "Last_Name            Markmen\n",
      "Department           Clothes\n",
      "City           San Francisco\n",
      "Name: 1, dtype: object\n",
      "2 Employee_ID          10003\n",
      "First_Name           Maria\n",
      "Last_Name         Gonzales\n",
      "Department     Electronics\n",
      "City              San Jose\n",
      "Name: 2, dtype: object\n",
      "3 Employee_ID            10004\n",
      "First_Name            George\n",
      "Last_Name               Wong\n",
      "Department           Clothes\n",
      "City           San Francisco\n",
      "Name: 3, dtype: object\n",
      "4 Employee_ID        10005\n",
      "First_Name     Stephanie\n",
      "Last_Name       Williams\n",
      "Department       Clothes\n",
      "City             Oakland\n",
      "Name: 4, dtype: object\n",
      "5 Employee_ID      10006\n",
      "First_Name      Miguel\n",
      "Last_Name         Alva\n",
      "Department     Clothes\n",
      "City           Oakland\n",
      "Name: 5, dtype: object\n",
      "6 Employee_ID            10007\n",
      "First_Name           Jessica\n",
      "Last_Name            Collins\n",
      "Department         Cosmetics\n",
      "City           San Francisco\n",
      "Name: 6, dtype: object\n",
      "7 Employee_ID       10008\n",
      "First_Name          Ted\n",
      "Last_Name      Anderson\n",
      "Department      Clothes\n",
      "City            Oakland\n",
      "Name: 7, dtype: object\n",
      "8 Employee_ID       10009\n",
      "First_Name     Victoria\n",
      "Last_Name        Garcia\n",
      "Department      Clothes\n",
      "City           San Jose\n",
      "Name: 8, dtype: object\n",
      "9 Employee_ID                        10010\n",
      "First_Name                       Jasmine\n",
      "Last_Name                           Khan\n",
      "Department     Pharmacy, Health & Beauty\n",
      "City                             Oakland\n",
      "Name: 9, dtype: object\n",
      "10 Employee_ID                        10011\n",
      "First_Name                          Adam\n",
      "Last_Name                          Smith\n",
      "Department     Pharmacy, Health & Beauty\n",
      "City                            San Jose\n",
      "Name: 10, dtype: object\n",
      "11 Employee_ID          10012\n",
      "First_Name          Rachel\n",
      "Last_Name              Kim\n",
      "Department     Electronics\n",
      "City              San Jose\n",
      "Name: 11, dtype: object\n"
     ]
    }
   ],
   "source": [
    "for index, row in employee_df.iterrows():\n",
    "  print(index, row)"
   ]
  },
  {
   "cell_type": "code",
   "execution_count": 48,
   "metadata": {
    "colab": {
     "autoexec": {
      "startup": false,
      "wait_interval": 0
     },
     "base_uri": "https://localhost:8080/",
     "height": 1122
    },
    "colab_type": "code",
    "executionInfo": {
     "elapsed": 360,
     "status": "ok",
     "timestamp": 1531520803484,
     "user": {
      "displayName": "Tairi Delgado",
      "photoUrl": "//lh6.googleusercontent.com/-l4lv-T3P6-c/AAAAAAAAAAI/AAAAAAAABIA/4wtQ8ehIzZw/s50-c-k-no/photo.jpg",
      "userId": "115188476170888991569"
     },
     "user_tz": 420
    },
    "id": "8MVtBpdhDDVc",
    "outputId": "0ec1c2bb-2b54-470a-e3fe-e7b296b7a118"
   },
   "outputs": [
    {
     "name": "stdout",
     "output_type": "stream",
     "text": [
      "0     10001\n",
      "1     10002\n",
      "2     10003\n",
      "3     10004\n",
      "4     10005\n",
      "5     10006\n",
      "6     10007\n",
      "7     10008\n",
      "8     10009\n",
      "9     10010\n",
      "10    10011\n",
      "11    10012\n",
      "Name: Employee_ID, dtype: int64\n",
      "0        Daniel\n",
      "1          Nick\n",
      "2         Maria\n",
      "3        George\n",
      "4     Stephanie\n",
      "5        Miguel\n",
      "6       Jessica\n",
      "7           Ted\n",
      "8      Victoria\n",
      "9       Jasmine\n",
      "10         Adam\n",
      "11       Rachel\n",
      "Name: First_Name, dtype: object\n",
      "0        Olson\n",
      "1      Markmen\n",
      "2     Gonzales\n",
      "3         Wong\n",
      "4     Williams\n",
      "5         Alva\n",
      "6      Collins\n",
      "7     Anderson\n",
      "8       Garcia\n",
      "9         Khan\n",
      "10       Smith\n",
      "11         Kim\n",
      "Name: Last_Name, dtype: object\n",
      "0                   Electronics\n",
      "1                       Clothes\n",
      "2                   Electronics\n",
      "3                       Clothes\n",
      "4                       Clothes\n",
      "5                       Clothes\n",
      "6                     Cosmetics\n",
      "7                       Clothes\n",
      "8                       Clothes\n",
      "9     Pharmacy, Health & Beauty\n",
      "10    Pharmacy, Health & Beauty\n",
      "11                  Electronics\n",
      "Name: Department, dtype: object\n",
      "0     San Francisco\n",
      "1     San Francisco\n",
      "2          San Jose\n",
      "3     San Francisco\n",
      "4           Oakland\n",
      "5           Oakland\n",
      "6     San Francisco\n",
      "7           Oakland\n",
      "8          San Jose\n",
      "9           Oakland\n",
      "10         San Jose\n",
      "11         San Jose\n",
      "Name: City, dtype: object\n"
     ]
    }
   ],
   "source": [
    "for column in employee_df:\n",
    "  print(employee_df[column])"
   ]
  },
  {
   "cell_type": "markdown",
   "metadata": {
    "colab_type": "text",
    "id": "tBCsRcwwsY0y"
   },
   "source": [
    "**Limits and sorting**"
   ]
  },
  {
   "cell_type": "code",
   "execution_count": 49,
   "metadata": {
    "colab": {
     "autoexec": {
      "startup": false,
      "wait_interval": 0
     },
     "base_uri": "https://localhost:8080/",
     "height": 421
    },
    "colab_type": "code",
    "executionInfo": {
     "elapsed": 530,
     "status": "ok",
     "timestamp": 1531520809169,
     "user": {
      "displayName": "Tairi Delgado",
      "photoUrl": "//lh6.googleusercontent.com/-l4lv-T3P6-c/AAAAAAAAAAI/AAAAAAAABIA/4wtQ8ehIzZw/s50-c-k-no/photo.jpg",
      "userId": "115188476170888991569"
     },
     "user_tz": 420
    },
    "id": "pqpeOMd8DTR4",
    "outputId": "68457750-2d50-48a9-a631-0ee59c2bfd99"
   },
   "outputs": [
    {
     "data": {
      "text/html": [
       "<div>\n",
       "<style scoped>\n",
       "    .dataframe tbody tr th:only-of-type {\n",
       "        vertical-align: middle;\n",
       "    }\n",
       "\n",
       "    .dataframe tbody tr th {\n",
       "        vertical-align: top;\n",
       "    }\n",
       "\n",
       "    .dataframe thead th {\n",
       "        text-align: right;\n",
       "    }\n",
       "</style>\n",
       "<table border=\"1\" class=\"dataframe\">\n",
       "  <thead>\n",
       "    <tr style=\"text-align: right;\">\n",
       "      <th></th>\n",
       "      <th>Employee_ID</th>\n",
       "      <th>First_Name</th>\n",
       "      <th>Last_Name</th>\n",
       "      <th>Department</th>\n",
       "      <th>City</th>\n",
       "    </tr>\n",
       "  </thead>\n",
       "  <tbody>\n",
       "    <tr>\n",
       "      <th>0</th>\n",
       "      <td>10001</td>\n",
       "      <td>Daniel</td>\n",
       "      <td>Olson</td>\n",
       "      <td>Electronics</td>\n",
       "      <td>San Francisco</td>\n",
       "    </tr>\n",
       "    <tr>\n",
       "      <th>1</th>\n",
       "      <td>10002</td>\n",
       "      <td>Nick</td>\n",
       "      <td>Markmen</td>\n",
       "      <td>Clothes</td>\n",
       "      <td>San Francisco</td>\n",
       "    </tr>\n",
       "    <tr>\n",
       "      <th>2</th>\n",
       "      <td>10003</td>\n",
       "      <td>Maria</td>\n",
       "      <td>Gonzales</td>\n",
       "      <td>Electronics</td>\n",
       "      <td>San Jose</td>\n",
       "    </tr>\n",
       "    <tr>\n",
       "      <th>3</th>\n",
       "      <td>10004</td>\n",
       "      <td>George</td>\n",
       "      <td>Wong</td>\n",
       "      <td>Clothes</td>\n",
       "      <td>San Francisco</td>\n",
       "    </tr>\n",
       "    <tr>\n",
       "      <th>4</th>\n",
       "      <td>10005</td>\n",
       "      <td>Stephanie</td>\n",
       "      <td>Williams</td>\n",
       "      <td>Clothes</td>\n",
       "      <td>Oakland</td>\n",
       "    </tr>\n",
       "    <tr>\n",
       "      <th>5</th>\n",
       "      <td>10006</td>\n",
       "      <td>Miguel</td>\n",
       "      <td>Alva</td>\n",
       "      <td>Clothes</td>\n",
       "      <td>Oakland</td>\n",
       "    </tr>\n",
       "    <tr>\n",
       "      <th>6</th>\n",
       "      <td>10007</td>\n",
       "      <td>Jessica</td>\n",
       "      <td>Collins</td>\n",
       "      <td>Cosmetics</td>\n",
       "      <td>San Francisco</td>\n",
       "    </tr>\n",
       "    <tr>\n",
       "      <th>7</th>\n",
       "      <td>10008</td>\n",
       "      <td>Ted</td>\n",
       "      <td>Anderson</td>\n",
       "      <td>Clothes</td>\n",
       "      <td>Oakland</td>\n",
       "    </tr>\n",
       "    <tr>\n",
       "      <th>8</th>\n",
       "      <td>10009</td>\n",
       "      <td>Victoria</td>\n",
       "      <td>Garcia</td>\n",
       "      <td>Clothes</td>\n",
       "      <td>San Jose</td>\n",
       "    </tr>\n",
       "    <tr>\n",
       "      <th>9</th>\n",
       "      <td>10010</td>\n",
       "      <td>Jasmine</td>\n",
       "      <td>Khan</td>\n",
       "      <td>Pharmacy, Health &amp; Beauty</td>\n",
       "      <td>Oakland</td>\n",
       "    </tr>\n",
       "    <tr>\n",
       "      <th>10</th>\n",
       "      <td>10011</td>\n",
       "      <td>Adam</td>\n",
       "      <td>Smith</td>\n",
       "      <td>Pharmacy, Health &amp; Beauty</td>\n",
       "      <td>San Jose</td>\n",
       "    </tr>\n",
       "    <tr>\n",
       "      <th>11</th>\n",
       "      <td>10012</td>\n",
       "      <td>Rachel</td>\n",
       "      <td>Kim</td>\n",
       "      <td>Electronics</td>\n",
       "      <td>San Jose</td>\n",
       "    </tr>\n",
       "  </tbody>\n",
       "</table>\n",
       "</div>"
      ],
      "text/plain": [
       "    Employee_ID First_Name Last_Name                 Department           City\n",
       "0         10001     Daniel     Olson                Electronics  San Francisco\n",
       "1         10002       Nick   Markmen                    Clothes  San Francisco\n",
       "2         10003      Maria  Gonzales                Electronics       San Jose\n",
       "3         10004     George      Wong                    Clothes  San Francisco\n",
       "4         10005  Stephanie  Williams                    Clothes        Oakland\n",
       "5         10006     Miguel      Alva                    Clothes        Oakland\n",
       "6         10007    Jessica   Collins                  Cosmetics  San Francisco\n",
       "7         10008        Ted  Anderson                    Clothes        Oakland\n",
       "8         10009   Victoria    Garcia                    Clothes       San Jose\n",
       "9         10010    Jasmine      Khan  Pharmacy, Health & Beauty        Oakland\n",
       "10        10011       Adam     Smith  Pharmacy, Health & Beauty       San Jose\n",
       "11        10012     Rachel       Kim                Electronics       San Jose"
      ]
     },
     "execution_count": 49,
     "metadata": {
      "tags": []
     },
     "output_type": "execute_result"
    }
   ],
   "source": [
    "employee_df"
   ]
  },
  {
   "cell_type": "code",
   "execution_count": 50,
   "metadata": {
    "colab": {
     "autoexec": {
      "startup": false,
      "wait_interval": 0
     },
     "base_uri": "https://localhost:8080/",
     "height": 421
    },
    "colab_type": "code",
    "executionInfo": {
     "elapsed": 354,
     "status": "ok",
     "timestamp": 1531520818443,
     "user": {
      "displayName": "Tairi Delgado",
      "photoUrl": "//lh6.googleusercontent.com/-l4lv-T3P6-c/AAAAAAAAAAI/AAAAAAAABIA/4wtQ8ehIzZw/s50-c-k-no/photo.jpg",
      "userId": "115188476170888991569"
     },
     "user_tz": 420
    },
    "id": "_oGW-Fc9DmGe",
    "outputId": "cb27f564-c9f3-42b0-d740-7c1db2a5bb24"
   },
   "outputs": [
    {
     "data": {
      "text/html": [
       "<div>\n",
       "<style scoped>\n",
       "    .dataframe tbody tr th:only-of-type {\n",
       "        vertical-align: middle;\n",
       "    }\n",
       "\n",
       "    .dataframe tbody tr th {\n",
       "        vertical-align: top;\n",
       "    }\n",
       "\n",
       "    .dataframe thead th {\n",
       "        text-align: right;\n",
       "    }\n",
       "</style>\n",
       "<table border=\"1\" class=\"dataframe\">\n",
       "  <thead>\n",
       "    <tr style=\"text-align: right;\">\n",
       "      <th></th>\n",
       "      <th>Employee_ID</th>\n",
       "      <th>First_Name</th>\n",
       "      <th>Last_Name</th>\n",
       "      <th>Department</th>\n",
       "      <th>City</th>\n",
       "    </tr>\n",
       "  </thead>\n",
       "  <tbody>\n",
       "    <tr>\n",
       "      <th>5</th>\n",
       "      <td>10006</td>\n",
       "      <td>Miguel</td>\n",
       "      <td>Alva</td>\n",
       "      <td>Clothes</td>\n",
       "      <td>Oakland</td>\n",
       "    </tr>\n",
       "    <tr>\n",
       "      <th>7</th>\n",
       "      <td>10008</td>\n",
       "      <td>Ted</td>\n",
       "      <td>Anderson</td>\n",
       "      <td>Clothes</td>\n",
       "      <td>Oakland</td>\n",
       "    </tr>\n",
       "    <tr>\n",
       "      <th>6</th>\n",
       "      <td>10007</td>\n",
       "      <td>Jessica</td>\n",
       "      <td>Collins</td>\n",
       "      <td>Cosmetics</td>\n",
       "      <td>San Francisco</td>\n",
       "    </tr>\n",
       "    <tr>\n",
       "      <th>8</th>\n",
       "      <td>10009</td>\n",
       "      <td>Victoria</td>\n",
       "      <td>Garcia</td>\n",
       "      <td>Clothes</td>\n",
       "      <td>San Jose</td>\n",
       "    </tr>\n",
       "    <tr>\n",
       "      <th>2</th>\n",
       "      <td>10003</td>\n",
       "      <td>Maria</td>\n",
       "      <td>Gonzales</td>\n",
       "      <td>Electronics</td>\n",
       "      <td>San Jose</td>\n",
       "    </tr>\n",
       "    <tr>\n",
       "      <th>9</th>\n",
       "      <td>10010</td>\n",
       "      <td>Jasmine</td>\n",
       "      <td>Khan</td>\n",
       "      <td>Pharmacy, Health &amp; Beauty</td>\n",
       "      <td>Oakland</td>\n",
       "    </tr>\n",
       "    <tr>\n",
       "      <th>11</th>\n",
       "      <td>10012</td>\n",
       "      <td>Rachel</td>\n",
       "      <td>Kim</td>\n",
       "      <td>Electronics</td>\n",
       "      <td>San Jose</td>\n",
       "    </tr>\n",
       "    <tr>\n",
       "      <th>1</th>\n",
       "      <td>10002</td>\n",
       "      <td>Nick</td>\n",
       "      <td>Markmen</td>\n",
       "      <td>Clothes</td>\n",
       "      <td>San Francisco</td>\n",
       "    </tr>\n",
       "    <tr>\n",
       "      <th>0</th>\n",
       "      <td>10001</td>\n",
       "      <td>Daniel</td>\n",
       "      <td>Olson</td>\n",
       "      <td>Electronics</td>\n",
       "      <td>San Francisco</td>\n",
       "    </tr>\n",
       "    <tr>\n",
       "      <th>10</th>\n",
       "      <td>10011</td>\n",
       "      <td>Adam</td>\n",
       "      <td>Smith</td>\n",
       "      <td>Pharmacy, Health &amp; Beauty</td>\n",
       "      <td>San Jose</td>\n",
       "    </tr>\n",
       "    <tr>\n",
       "      <th>4</th>\n",
       "      <td>10005</td>\n",
       "      <td>Stephanie</td>\n",
       "      <td>Williams</td>\n",
       "      <td>Clothes</td>\n",
       "      <td>Oakland</td>\n",
       "    </tr>\n",
       "    <tr>\n",
       "      <th>3</th>\n",
       "      <td>10004</td>\n",
       "      <td>George</td>\n",
       "      <td>Wong</td>\n",
       "      <td>Clothes</td>\n",
       "      <td>San Francisco</td>\n",
       "    </tr>\n",
       "  </tbody>\n",
       "</table>\n",
       "</div>"
      ],
      "text/plain": [
       "    Employee_ID First_Name Last_Name                 Department           City\n",
       "5         10006     Miguel      Alva                    Clothes        Oakland\n",
       "7         10008        Ted  Anderson                    Clothes        Oakland\n",
       "6         10007    Jessica   Collins                  Cosmetics  San Francisco\n",
       "8         10009   Victoria    Garcia                    Clothes       San Jose\n",
       "2         10003      Maria  Gonzales                Electronics       San Jose\n",
       "9         10010    Jasmine      Khan  Pharmacy, Health & Beauty        Oakland\n",
       "11        10012     Rachel       Kim                Electronics       San Jose\n",
       "1         10002       Nick   Markmen                    Clothes  San Francisco\n",
       "0         10001     Daniel     Olson                Electronics  San Francisco\n",
       "10        10011       Adam     Smith  Pharmacy, Health & Beauty       San Jose\n",
       "4         10005  Stephanie  Williams                    Clothes        Oakland\n",
       "3         10004     George      Wong                    Clothes  San Francisco"
      ]
     },
     "execution_count": 50,
     "metadata": {
      "tags": []
     },
     "output_type": "execute_result"
    }
   ],
   "source": [
    "employee_df.sort_values(by=['Last_Name'])"
   ]
  },
  {
   "cell_type": "code",
   "execution_count": 51,
   "metadata": {
    "colab": {
     "autoexec": {
      "startup": false,
      "wait_interval": 0
     },
     "base_uri": "https://localhost:8080/",
     "height": 421
    },
    "colab_type": "code",
    "executionInfo": {
     "elapsed": 319,
     "status": "ok",
     "timestamp": 1531520822416,
     "user": {
      "displayName": "Tairi Delgado",
      "photoUrl": "//lh6.googleusercontent.com/-l4lv-T3P6-c/AAAAAAAAAAI/AAAAAAAABIA/4wtQ8ehIzZw/s50-c-k-no/photo.jpg",
      "userId": "115188476170888991569"
     },
     "user_tz": 420
    },
    "id": "Yjg1n9Q_DxYl",
    "outputId": "bbed84a2-2350-46f3-91c8-ba6e9b6cd4ea"
   },
   "outputs": [
    {
     "data": {
      "text/html": [
       "<div>\n",
       "<style scoped>\n",
       "    .dataframe tbody tr th:only-of-type {\n",
       "        vertical-align: middle;\n",
       "    }\n",
       "\n",
       "    .dataframe tbody tr th {\n",
       "        vertical-align: top;\n",
       "    }\n",
       "\n",
       "    .dataframe thead th {\n",
       "        text-align: right;\n",
       "    }\n",
       "</style>\n",
       "<table border=\"1\" class=\"dataframe\">\n",
       "  <thead>\n",
       "    <tr style=\"text-align: right;\">\n",
       "      <th></th>\n",
       "      <th>Employee_ID</th>\n",
       "      <th>First_Name</th>\n",
       "      <th>Last_Name</th>\n",
       "      <th>Department</th>\n",
       "      <th>City</th>\n",
       "    </tr>\n",
       "  </thead>\n",
       "  <tbody>\n",
       "    <tr>\n",
       "      <th>1</th>\n",
       "      <td>10002</td>\n",
       "      <td>Nick</td>\n",
       "      <td>Markmen</td>\n",
       "      <td>Clothes</td>\n",
       "      <td>San Francisco</td>\n",
       "    </tr>\n",
       "    <tr>\n",
       "      <th>3</th>\n",
       "      <td>10004</td>\n",
       "      <td>George</td>\n",
       "      <td>Wong</td>\n",
       "      <td>Clothes</td>\n",
       "      <td>San Francisco</td>\n",
       "    </tr>\n",
       "    <tr>\n",
       "      <th>4</th>\n",
       "      <td>10005</td>\n",
       "      <td>Stephanie</td>\n",
       "      <td>Williams</td>\n",
       "      <td>Clothes</td>\n",
       "      <td>Oakland</td>\n",
       "    </tr>\n",
       "    <tr>\n",
       "      <th>5</th>\n",
       "      <td>10006</td>\n",
       "      <td>Miguel</td>\n",
       "      <td>Alva</td>\n",
       "      <td>Clothes</td>\n",
       "      <td>Oakland</td>\n",
       "    </tr>\n",
       "    <tr>\n",
       "      <th>7</th>\n",
       "      <td>10008</td>\n",
       "      <td>Ted</td>\n",
       "      <td>Anderson</td>\n",
       "      <td>Clothes</td>\n",
       "      <td>Oakland</td>\n",
       "    </tr>\n",
       "    <tr>\n",
       "      <th>8</th>\n",
       "      <td>10009</td>\n",
       "      <td>Victoria</td>\n",
       "      <td>Garcia</td>\n",
       "      <td>Clothes</td>\n",
       "      <td>San Jose</td>\n",
       "    </tr>\n",
       "    <tr>\n",
       "      <th>6</th>\n",
       "      <td>10007</td>\n",
       "      <td>Jessica</td>\n",
       "      <td>Collins</td>\n",
       "      <td>Cosmetics</td>\n",
       "      <td>San Francisco</td>\n",
       "    </tr>\n",
       "    <tr>\n",
       "      <th>0</th>\n",
       "      <td>10001</td>\n",
       "      <td>Daniel</td>\n",
       "      <td>Olson</td>\n",
       "      <td>Electronics</td>\n",
       "      <td>San Francisco</td>\n",
       "    </tr>\n",
       "    <tr>\n",
       "      <th>2</th>\n",
       "      <td>10003</td>\n",
       "      <td>Maria</td>\n",
       "      <td>Gonzales</td>\n",
       "      <td>Electronics</td>\n",
       "      <td>San Jose</td>\n",
       "    </tr>\n",
       "    <tr>\n",
       "      <th>11</th>\n",
       "      <td>10012</td>\n",
       "      <td>Rachel</td>\n",
       "      <td>Kim</td>\n",
       "      <td>Electronics</td>\n",
       "      <td>San Jose</td>\n",
       "    </tr>\n",
       "    <tr>\n",
       "      <th>9</th>\n",
       "      <td>10010</td>\n",
       "      <td>Jasmine</td>\n",
       "      <td>Khan</td>\n",
       "      <td>Pharmacy, Health &amp; Beauty</td>\n",
       "      <td>Oakland</td>\n",
       "    </tr>\n",
       "    <tr>\n",
       "      <th>10</th>\n",
       "      <td>10011</td>\n",
       "      <td>Adam</td>\n",
       "      <td>Smith</td>\n",
       "      <td>Pharmacy, Health &amp; Beauty</td>\n",
       "      <td>San Jose</td>\n",
       "    </tr>\n",
       "  </tbody>\n",
       "</table>\n",
       "</div>"
      ],
      "text/plain": [
       "    Employee_ID First_Name Last_Name                 Department           City\n",
       "1         10002       Nick   Markmen                    Clothes  San Francisco\n",
       "3         10004     George      Wong                    Clothes  San Francisco\n",
       "4         10005  Stephanie  Williams                    Clothes        Oakland\n",
       "5         10006     Miguel      Alva                    Clothes        Oakland\n",
       "7         10008        Ted  Anderson                    Clothes        Oakland\n",
       "8         10009   Victoria    Garcia                    Clothes       San Jose\n",
       "6         10007    Jessica   Collins                  Cosmetics  San Francisco\n",
       "0         10001     Daniel     Olson                Electronics  San Francisco\n",
       "2         10003      Maria  Gonzales                Electronics       San Jose\n",
       "11        10012     Rachel       Kim                Electronics       San Jose\n",
       "9         10010    Jasmine      Khan  Pharmacy, Health & Beauty        Oakland\n",
       "10        10011       Adam     Smith  Pharmacy, Health & Beauty       San Jose"
      ]
     },
     "execution_count": 51,
     "metadata": {
      "tags": []
     },
     "output_type": "execute_result"
    }
   ],
   "source": [
    "employee_df.sort_values(by=['Department'])"
   ]
  },
  {
   "cell_type": "code",
   "execution_count": 52,
   "metadata": {
    "colab": {
     "autoexec": {
      "startup": false,
      "wait_interval": 0
     },
     "base_uri": "https://localhost:8080/",
     "height": 111
    },
    "colab_type": "code",
    "executionInfo": {
     "elapsed": 338,
     "status": "ok",
     "timestamp": 1531520828134,
     "user": {
      "displayName": "Tairi Delgado",
      "photoUrl": "//lh6.googleusercontent.com/-l4lv-T3P6-c/AAAAAAAAAAI/AAAAAAAABIA/4wtQ8ehIzZw/s50-c-k-no/photo.jpg",
      "userId": "115188476170888991569"
     },
     "user_tz": 420
    },
    "id": "aWp5zRRpD6-H",
    "outputId": "796f4964-8a1f-437f-dead-f6474fe22466"
   },
   "outputs": [
    {
     "data": {
      "text/html": [
       "<div>\n",
       "<style scoped>\n",
       "    .dataframe tbody tr th:only-of-type {\n",
       "        vertical-align: middle;\n",
       "    }\n",
       "\n",
       "    .dataframe tbody tr th {\n",
       "        vertical-align: top;\n",
       "    }\n",
       "\n",
       "    .dataframe thead th {\n",
       "        text-align: right;\n",
       "    }\n",
       "</style>\n",
       "<table border=\"1\" class=\"dataframe\">\n",
       "  <thead>\n",
       "    <tr style=\"text-align: right;\">\n",
       "      <th></th>\n",
       "      <th>Employee_ID</th>\n",
       "      <th>First_Name</th>\n",
       "      <th>Last_Name</th>\n",
       "      <th>Department</th>\n",
       "      <th>City</th>\n",
       "    </tr>\n",
       "  </thead>\n",
       "  <tbody>\n",
       "    <tr>\n",
       "      <th>0</th>\n",
       "      <td>10001</td>\n",
       "      <td>Daniel</td>\n",
       "      <td>Olson</td>\n",
       "      <td>Electronics</td>\n",
       "      <td>San Francisco</td>\n",
       "    </tr>\n",
       "    <tr>\n",
       "      <th>1</th>\n",
       "      <td>10002</td>\n",
       "      <td>Nick</td>\n",
       "      <td>Markmen</td>\n",
       "      <td>Clothes</td>\n",
       "      <td>San Francisco</td>\n",
       "    </tr>\n",
       "  </tbody>\n",
       "</table>\n",
       "</div>"
      ],
      "text/plain": [
       "   Employee_ID First_Name Last_Name   Department           City\n",
       "0        10001     Daniel     Olson  Electronics  San Francisco\n",
       "1        10002       Nick   Markmen      Clothes  San Francisco"
      ]
     },
     "execution_count": 52,
     "metadata": {
      "tags": []
     },
     "output_type": "execute_result"
    }
   ],
   "source": [
    "employee_df.head(2)"
   ]
  },
  {
   "cell_type": "code",
   "execution_count": 53,
   "metadata": {
    "colab": {
     "autoexec": {
      "startup": false,
      "wait_interval": 0
     },
     "base_uri": "https://localhost:8080/",
     "height": 142
    },
    "colab_type": "code",
    "executionInfo": {
     "elapsed": 329,
     "status": "ok",
     "timestamp": 1531520834814,
     "user": {
      "displayName": "Tairi Delgado",
      "photoUrl": "//lh6.googleusercontent.com/-l4lv-T3P6-c/AAAAAAAAAAI/AAAAAAAABIA/4wtQ8ehIzZw/s50-c-k-no/photo.jpg",
      "userId": "115188476170888991569"
     },
     "user_tz": 420
    },
    "id": "kBTCOWTsEA5h",
    "outputId": "c41f635d-c949-4a48-c4c2-eb98f49f51a9"
   },
   "outputs": [
    {
     "data": {
      "text/html": [
       "<div>\n",
       "<style scoped>\n",
       "    .dataframe tbody tr th:only-of-type {\n",
       "        vertical-align: middle;\n",
       "    }\n",
       "\n",
       "    .dataframe tbody tr th {\n",
       "        vertical-align: top;\n",
       "    }\n",
       "\n",
       "    .dataframe thead th {\n",
       "        text-align: right;\n",
       "    }\n",
       "</style>\n",
       "<table border=\"1\" class=\"dataframe\">\n",
       "  <thead>\n",
       "    <tr style=\"text-align: right;\">\n",
       "      <th></th>\n",
       "      <th>Employee_ID</th>\n",
       "      <th>First_Name</th>\n",
       "      <th>Last_Name</th>\n",
       "      <th>Department</th>\n",
       "      <th>City</th>\n",
       "    </tr>\n",
       "  </thead>\n",
       "  <tbody>\n",
       "    <tr>\n",
       "      <th>9</th>\n",
       "      <td>10010</td>\n",
       "      <td>Jasmine</td>\n",
       "      <td>Khan</td>\n",
       "      <td>Pharmacy, Health &amp; Beauty</td>\n",
       "      <td>Oakland</td>\n",
       "    </tr>\n",
       "    <tr>\n",
       "      <th>10</th>\n",
       "      <td>10011</td>\n",
       "      <td>Adam</td>\n",
       "      <td>Smith</td>\n",
       "      <td>Pharmacy, Health &amp; Beauty</td>\n",
       "      <td>San Jose</td>\n",
       "    </tr>\n",
       "    <tr>\n",
       "      <th>11</th>\n",
       "      <td>10012</td>\n",
       "      <td>Rachel</td>\n",
       "      <td>Kim</td>\n",
       "      <td>Electronics</td>\n",
       "      <td>San Jose</td>\n",
       "    </tr>\n",
       "  </tbody>\n",
       "</table>\n",
       "</div>"
      ],
      "text/plain": [
       "    Employee_ID First_Name Last_Name                 Department      City\n",
       "9         10010    Jasmine      Khan  Pharmacy, Health & Beauty   Oakland\n",
       "10        10011       Adam     Smith  Pharmacy, Health & Beauty  San Jose\n",
       "11        10012     Rachel       Kim                Electronics  San Jose"
      ]
     },
     "execution_count": 53,
     "metadata": {
      "tags": []
     },
     "output_type": "execute_result"
    }
   ],
   "source": [
    "employee_df.tail(3)"
   ]
  },
  {
   "cell_type": "code",
   "execution_count": 54,
   "metadata": {
    "colab": {
     "autoexec": {
      "startup": false,
      "wait_interval": 0
     },
     "base_uri": "https://localhost:8080/",
     "height": 142
    },
    "colab_type": "code",
    "executionInfo": {
     "elapsed": 371,
     "status": "ok",
     "timestamp": 1531520836386,
     "user": {
      "displayName": "Tairi Delgado",
      "photoUrl": "//lh6.googleusercontent.com/-l4lv-T3P6-c/AAAAAAAAAAI/AAAAAAAABIA/4wtQ8ehIzZw/s50-c-k-no/photo.jpg",
      "userId": "115188476170888991569"
     },
     "user_tz": 420
    },
    "id": "JozYApR-EHeT",
    "outputId": "be75d55a-4ce4-4459-9d6b-d28cc2ca1796"
   },
   "outputs": [
    {
     "data": {
      "text/html": [
       "<div>\n",
       "<style scoped>\n",
       "    .dataframe tbody tr th:only-of-type {\n",
       "        vertical-align: middle;\n",
       "    }\n",
       "\n",
       "    .dataframe tbody tr th {\n",
       "        vertical-align: top;\n",
       "    }\n",
       "\n",
       "    .dataframe thead th {\n",
       "        text-align: right;\n",
       "    }\n",
       "</style>\n",
       "<table border=\"1\" class=\"dataframe\">\n",
       "  <thead>\n",
       "    <tr style=\"text-align: right;\">\n",
       "      <th></th>\n",
       "      <th>Employee_ID</th>\n",
       "      <th>First_Name</th>\n",
       "      <th>Last_Name</th>\n",
       "      <th>Department</th>\n",
       "      <th>City</th>\n",
       "    </tr>\n",
       "  </thead>\n",
       "  <tbody>\n",
       "    <tr>\n",
       "      <th>5</th>\n",
       "      <td>10006</td>\n",
       "      <td>Miguel</td>\n",
       "      <td>Alva</td>\n",
       "      <td>Clothes</td>\n",
       "      <td>Oakland</td>\n",
       "    </tr>\n",
       "    <tr>\n",
       "      <th>7</th>\n",
       "      <td>10008</td>\n",
       "      <td>Ted</td>\n",
       "      <td>Anderson</td>\n",
       "      <td>Clothes</td>\n",
       "      <td>Oakland</td>\n",
       "    </tr>\n",
       "    <tr>\n",
       "      <th>6</th>\n",
       "      <td>10007</td>\n",
       "      <td>Jessica</td>\n",
       "      <td>Collins</td>\n",
       "      <td>Cosmetics</td>\n",
       "      <td>San Francisco</td>\n",
       "    </tr>\n",
       "  </tbody>\n",
       "</table>\n",
       "</div>"
      ],
      "text/plain": [
       "   Employee_ID First_Name Last_Name Department           City\n",
       "5        10006     Miguel      Alva    Clothes        Oakland\n",
       "7        10008        Ted  Anderson    Clothes        Oakland\n",
       "6        10007    Jessica   Collins  Cosmetics  San Francisco"
      ]
     },
     "execution_count": 54,
     "metadata": {
      "tags": []
     },
     "output_type": "execute_result"
    }
   ],
   "source": [
    "employee_df.sort_values(by=['Last_Name']).head(3)"
   ]
  },
  {
   "cell_type": "markdown",
   "metadata": {
    "colab_type": "text",
    "id": "yZ6jXqSPqhTe"
   },
   "source": [
    "## Modifying Panda DataFrames"
   ]
  },
  {
   "cell_type": "markdown",
   "metadata": {
    "colab_type": "text",
    "id": "AuGu1EWysEdt"
   },
   "source": [
    "**Merging**"
   ]
  },
  {
   "cell_type": "code",
   "execution_count": 57,
   "metadata": {
    "colab": {
     "autoexec": {
      "startup": false,
      "wait_interval": 0
     },
     "base_uri": "https://localhost:8080/",
     "height": 328
    },
    "colab_type": "code",
    "executionInfo": {
     "elapsed": 306,
     "status": "ok",
     "timestamp": 1531520867618,
     "user": {
      "displayName": "Tairi Delgado",
      "photoUrl": "//lh6.googleusercontent.com/-l4lv-T3P6-c/AAAAAAAAAAI/AAAAAAAABIA/4wtQ8ehIzZw/s50-c-k-no/photo.jpg",
      "userId": "115188476170888991569"
     },
     "user_tz": 420
    },
    "id": "l5v2QctsNJ-m",
    "outputId": "7031eb1e-37f9-4cb4-cfde-79ef188ddb1a"
   },
   "outputs": [
    {
     "data": {
      "text/html": [
       "<div>\n",
       "<style scoped>\n",
       "    .dataframe tbody tr th:only-of-type {\n",
       "        vertical-align: middle;\n",
       "    }\n",
       "\n",
       "    .dataframe tbody tr th {\n",
       "        vertical-align: top;\n",
       "    }\n",
       "\n",
       "    .dataframe thead th {\n",
       "        text-align: right;\n",
       "    }\n",
       "</style>\n",
       "<table border=\"1\" class=\"dataframe\">\n",
       "  <thead>\n",
       "    <tr style=\"text-align: right;\">\n",
       "      <th></th>\n",
       "      <th>Customer_ID</th>\n",
       "      <th>First_Name</th>\n",
       "      <th>Last_Name</th>\n",
       "      <th>City</th>\n",
       "      <th>Order_ID</th>\n",
       "      <th>Product_ID</th>\n",
       "      <th>Employee_ID</th>\n",
       "      <th>Date</th>\n",
       "    </tr>\n",
       "  </thead>\n",
       "  <tbody>\n",
       "    <tr>\n",
       "      <th>0</th>\n",
       "      <td>20001</td>\n",
       "      <td>Jack</td>\n",
       "      <td>Ward</td>\n",
       "      <td>San Jose</td>\n",
       "      <td>50009</td>\n",
       "      <td>30006</td>\n",
       "      <td>10009</td>\n",
       "      <td>17-12-26</td>\n",
       "    </tr>\n",
       "    <tr>\n",
       "      <th>1</th>\n",
       "      <td>20002</td>\n",
       "      <td>Steven</td>\n",
       "      <td>Martinez</td>\n",
       "      <td>San Francisco</td>\n",
       "      <td>50008</td>\n",
       "      <td>30001</td>\n",
       "      <td>10004</td>\n",
       "      <td>17-03-09</td>\n",
       "    </tr>\n",
       "    <tr>\n",
       "      <th>2</th>\n",
       "      <td>20003</td>\n",
       "      <td>Jessica</td>\n",
       "      <td>Collins</td>\n",
       "      <td>San Jose</td>\n",
       "      <td>50002</td>\n",
       "      <td>30008</td>\n",
       "      <td>10011</td>\n",
       "      <td>17-09-03</td>\n",
       "    </tr>\n",
       "    <tr>\n",
       "      <th>3</th>\n",
       "      <td>20004</td>\n",
       "      <td>Carie</td>\n",
       "      <td>Robinson</td>\n",
       "      <td>San Francisco</td>\n",
       "      <td>50004</td>\n",
       "      <td>30008</td>\n",
       "      <td>10010</td>\n",
       "      <td>17-01-28</td>\n",
       "    </tr>\n",
       "    <tr>\n",
       "      <th>4</th>\n",
       "      <td>20005</td>\n",
       "      <td>Zack</td>\n",
       "      <td>Peterson</td>\n",
       "      <td>Oakland</td>\n",
       "      <td>50001</td>\n",
       "      <td>30005</td>\n",
       "      <td>10001</td>\n",
       "      <td>17-02-12</td>\n",
       "    </tr>\n",
       "    <tr>\n",
       "      <th>5</th>\n",
       "      <td>20008</td>\n",
       "      <td>Lisa</td>\n",
       "      <td>Smith</td>\n",
       "      <td>San Francisco</td>\n",
       "      <td>50005</td>\n",
       "      <td>30012</td>\n",
       "      <td>10002</td>\n",
       "      <td>17-08-11</td>\n",
       "    </tr>\n",
       "    <tr>\n",
       "      <th>6</th>\n",
       "      <td>20010</td>\n",
       "      <td>Lauren</td>\n",
       "      <td>Pham</td>\n",
       "      <td>San Jose</td>\n",
       "      <td>50003</td>\n",
       "      <td>30001</td>\n",
       "      <td>10009</td>\n",
       "      <td>17-11-23</td>\n",
       "    </tr>\n",
       "    <tr>\n",
       "      <th>7</th>\n",
       "      <td>20011</td>\n",
       "      <td>Juan</td>\n",
       "      <td>Diaz</td>\n",
       "      <td>Oakland</td>\n",
       "      <td>50006</td>\n",
       "      <td>30011</td>\n",
       "      <td>10001</td>\n",
       "      <td>17-04-13</td>\n",
       "    </tr>\n",
       "    <tr>\n",
       "      <th>8</th>\n",
       "      <td>20012</td>\n",
       "      <td>Martha</td>\n",
       "      <td>Diaz</td>\n",
       "      <td>San Francisco</td>\n",
       "      <td>50007</td>\n",
       "      <td>30002</td>\n",
       "      <td>10007</td>\n",
       "      <td>17-10-07</td>\n",
       "    </tr>\n",
       "  </tbody>\n",
       "</table>\n",
       "</div>"
      ],
      "text/plain": [
       "   Customer_ID First_Name Last_Name           City  Order_ID  Product_ID  \\\n",
       "0        20001       Jack      Ward       San Jose     50009       30006   \n",
       "1        20002     Steven  Martinez  San Francisco     50008       30001   \n",
       "2        20003    Jessica   Collins       San Jose     50002       30008   \n",
       "3        20004      Carie  Robinson  San Francisco     50004       30008   \n",
       "4        20005       Zack  Peterson        Oakland     50001       30005   \n",
       "5        20008       Lisa     Smith  San Francisco     50005       30012   \n",
       "6        20010     Lauren      Pham       San Jose     50003       30001   \n",
       "7        20011       Juan      Diaz        Oakland     50006       30011   \n",
       "8        20012     Martha      Diaz  San Francisco     50007       30002   \n",
       "\n",
       "   Employee_ID      Date  \n",
       "0        10009  17-12-26  \n",
       "1        10004  17-03-09  \n",
       "2        10011  17-09-03  \n",
       "3        10010  17-01-28  \n",
       "4        10001  17-02-12  \n",
       "5        10002  17-08-11  \n",
       "6        10009  17-11-23  \n",
       "7        10001  17-04-13  \n",
       "8        10007  17-10-07  "
      ]
     },
     "execution_count": 57,
     "metadata": {
      "tags": []
     },
     "output_type": "execute_result"
    }
   ],
   "source": [
    "pd.merge(customer_df, orders_df, how='inner')"
   ]
  },
  {
   "cell_type": "code",
   "execution_count": 58,
   "metadata": {
    "colab": {
     "autoexec": {
      "startup": false,
      "wait_interval": 0
     },
     "base_uri": "https://localhost:8080/",
     "height": 421
    },
    "colab_type": "code",
    "executionInfo": {
     "elapsed": 509,
     "status": "ok",
     "timestamp": 1531520874303,
     "user": {
      "displayName": "Tairi Delgado",
      "photoUrl": "//lh6.googleusercontent.com/-l4lv-T3P6-c/AAAAAAAAAAI/AAAAAAAABIA/4wtQ8ehIzZw/s50-c-k-no/photo.jpg",
      "userId": "115188476170888991569"
     },
     "user_tz": 420
    },
    "id": "JE7nndMiOLym",
    "outputId": "3fcd17f8-654d-49de-c2b0-9fa7bf932f25"
   },
   "outputs": [
    {
     "data": {
      "text/html": [
       "<div>\n",
       "<style scoped>\n",
       "    .dataframe tbody tr th:only-of-type {\n",
       "        vertical-align: middle;\n",
       "    }\n",
       "\n",
       "    .dataframe tbody tr th {\n",
       "        vertical-align: top;\n",
       "    }\n",
       "\n",
       "    .dataframe thead th {\n",
       "        text-align: right;\n",
       "    }\n",
       "</style>\n",
       "<table border=\"1\" class=\"dataframe\">\n",
       "  <thead>\n",
       "    <tr style=\"text-align: right;\">\n",
       "      <th></th>\n",
       "      <th>Customer_ID</th>\n",
       "      <th>First_Name</th>\n",
       "      <th>Last_Name</th>\n",
       "      <th>City</th>\n",
       "      <th>Order_ID</th>\n",
       "      <th>Product_ID</th>\n",
       "      <th>Employee_ID</th>\n",
       "      <th>Date</th>\n",
       "    </tr>\n",
       "  </thead>\n",
       "  <tbody>\n",
       "    <tr>\n",
       "      <th>0</th>\n",
       "      <td>20001</td>\n",
       "      <td>Jack</td>\n",
       "      <td>Ward</td>\n",
       "      <td>San Jose</td>\n",
       "      <td>50009.0</td>\n",
       "      <td>30006.0</td>\n",
       "      <td>10009.0</td>\n",
       "      <td>17-12-26</td>\n",
       "    </tr>\n",
       "    <tr>\n",
       "      <th>1</th>\n",
       "      <td>20002</td>\n",
       "      <td>Steven</td>\n",
       "      <td>Martinez</td>\n",
       "      <td>San Francisco</td>\n",
       "      <td>50008.0</td>\n",
       "      <td>30001.0</td>\n",
       "      <td>10004.0</td>\n",
       "      <td>17-03-09</td>\n",
       "    </tr>\n",
       "    <tr>\n",
       "      <th>2</th>\n",
       "      <td>20003</td>\n",
       "      <td>Jessica</td>\n",
       "      <td>Collins</td>\n",
       "      <td>San Jose</td>\n",
       "      <td>50002.0</td>\n",
       "      <td>30008.0</td>\n",
       "      <td>10011.0</td>\n",
       "      <td>17-09-03</td>\n",
       "    </tr>\n",
       "    <tr>\n",
       "      <th>3</th>\n",
       "      <td>20004</td>\n",
       "      <td>Carie</td>\n",
       "      <td>Robinson</td>\n",
       "      <td>San Francisco</td>\n",
       "      <td>50004.0</td>\n",
       "      <td>30008.0</td>\n",
       "      <td>10010.0</td>\n",
       "      <td>17-01-28</td>\n",
       "    </tr>\n",
       "    <tr>\n",
       "      <th>4</th>\n",
       "      <td>20005</td>\n",
       "      <td>Zack</td>\n",
       "      <td>Peterson</td>\n",
       "      <td>Oakland</td>\n",
       "      <td>50001.0</td>\n",
       "      <td>30005.0</td>\n",
       "      <td>10001.0</td>\n",
       "      <td>17-02-12</td>\n",
       "    </tr>\n",
       "    <tr>\n",
       "      <th>5</th>\n",
       "      <td>20006</td>\n",
       "      <td>Bianca</td>\n",
       "      <td>Sanchez</td>\n",
       "      <td>San Francisco</td>\n",
       "      <td>NaN</td>\n",
       "      <td>NaN</td>\n",
       "      <td>NaN</td>\n",
       "      <td>NaN</td>\n",
       "    </tr>\n",
       "    <tr>\n",
       "      <th>6</th>\n",
       "      <td>20007</td>\n",
       "      <td>James</td>\n",
       "      <td>Owen</td>\n",
       "      <td>Oakland</td>\n",
       "      <td>NaN</td>\n",
       "      <td>NaN</td>\n",
       "      <td>NaN</td>\n",
       "      <td>NaN</td>\n",
       "    </tr>\n",
       "    <tr>\n",
       "      <th>7</th>\n",
       "      <td>20008</td>\n",
       "      <td>Lisa</td>\n",
       "      <td>Smith</td>\n",
       "      <td>San Francisco</td>\n",
       "      <td>50005.0</td>\n",
       "      <td>30012.0</td>\n",
       "      <td>10002.0</td>\n",
       "      <td>17-08-11</td>\n",
       "    </tr>\n",
       "    <tr>\n",
       "      <th>8</th>\n",
       "      <td>20009</td>\n",
       "      <td>Daniel</td>\n",
       "      <td>Yasukawa</td>\n",
       "      <td>Oakland</td>\n",
       "      <td>NaN</td>\n",
       "      <td>NaN</td>\n",
       "      <td>NaN</td>\n",
       "      <td>NaN</td>\n",
       "    </tr>\n",
       "    <tr>\n",
       "      <th>9</th>\n",
       "      <td>20010</td>\n",
       "      <td>Lauren</td>\n",
       "      <td>Pham</td>\n",
       "      <td>San Jose</td>\n",
       "      <td>50003.0</td>\n",
       "      <td>30001.0</td>\n",
       "      <td>10009.0</td>\n",
       "      <td>17-11-23</td>\n",
       "    </tr>\n",
       "    <tr>\n",
       "      <th>10</th>\n",
       "      <td>20011</td>\n",
       "      <td>Juan</td>\n",
       "      <td>Diaz</td>\n",
       "      <td>Oakland</td>\n",
       "      <td>50006.0</td>\n",
       "      <td>30011.0</td>\n",
       "      <td>10001.0</td>\n",
       "      <td>17-04-13</td>\n",
       "    </tr>\n",
       "    <tr>\n",
       "      <th>11</th>\n",
       "      <td>20012</td>\n",
       "      <td>Martha</td>\n",
       "      <td>Diaz</td>\n",
       "      <td>San Francisco</td>\n",
       "      <td>50007.0</td>\n",
       "      <td>30002.0</td>\n",
       "      <td>10007.0</td>\n",
       "      <td>17-10-07</td>\n",
       "    </tr>\n",
       "  </tbody>\n",
       "</table>\n",
       "</div>"
      ],
      "text/plain": [
       "    Customer_ID First_Name Last_Name           City  Order_ID  Product_ID  \\\n",
       "0         20001       Jack      Ward       San Jose   50009.0     30006.0   \n",
       "1         20002     Steven  Martinez  San Francisco   50008.0     30001.0   \n",
       "2         20003    Jessica   Collins       San Jose   50002.0     30008.0   \n",
       "3         20004      Carie  Robinson  San Francisco   50004.0     30008.0   \n",
       "4         20005       Zack  Peterson        Oakland   50001.0     30005.0   \n",
       "5         20006     Bianca   Sanchez  San Francisco       NaN         NaN   \n",
       "6         20007      James      Owen        Oakland       NaN         NaN   \n",
       "7         20008       Lisa     Smith  San Francisco   50005.0     30012.0   \n",
       "8         20009     Daniel  Yasukawa        Oakland       NaN         NaN   \n",
       "9         20010     Lauren      Pham       San Jose   50003.0     30001.0   \n",
       "10        20011       Juan      Diaz        Oakland   50006.0     30011.0   \n",
       "11        20012     Martha      Diaz  San Francisco   50007.0     30002.0   \n",
       "\n",
       "    Employee_ID      Date  \n",
       "0       10009.0  17-12-26  \n",
       "1       10004.0  17-03-09  \n",
       "2       10011.0  17-09-03  \n",
       "3       10010.0  17-01-28  \n",
       "4       10001.0  17-02-12  \n",
       "5           NaN       NaN  \n",
       "6           NaN       NaN  \n",
       "7       10002.0  17-08-11  \n",
       "8           NaN       NaN  \n",
       "9       10009.0  17-11-23  \n",
       "10      10001.0  17-04-13  \n",
       "11      10007.0  17-10-07  "
      ]
     },
     "execution_count": 58,
     "metadata": {
      "tags": []
     },
     "output_type": "execute_result"
    }
   ],
   "source": [
    "pd.merge(customer_df, orders_df, how='left')\n"
   ]
  },
  {
   "cell_type": "code",
   "execution_count": 59,
   "metadata": {
    "colab": {
     "autoexec": {
      "startup": false,
      "wait_interval": 0
     },
     "base_uri": "https://localhost:8080/",
     "height": 390
    },
    "colab_type": "code",
    "executionInfo": {
     "elapsed": 509,
     "status": "ok",
     "timestamp": 1531520877687,
     "user": {
      "displayName": "Tairi Delgado",
      "photoUrl": "//lh6.googleusercontent.com/-l4lv-T3P6-c/AAAAAAAAAAI/AAAAAAAABIA/4wtQ8ehIzZw/s50-c-k-no/photo.jpg",
      "userId": "115188476170888991569"
     },
     "user_tz": 420
    },
    "id": "p9-sVJAyOVYD",
    "outputId": "5de1c11d-4024-4e76-8d05-474407d2593f"
   },
   "outputs": [
    {
     "data": {
      "text/html": [
       "<div>\n",
       "<style scoped>\n",
       "    .dataframe tbody tr th:only-of-type {\n",
       "        vertical-align: middle;\n",
       "    }\n",
       "\n",
       "    .dataframe tbody tr th {\n",
       "        vertical-align: top;\n",
       "    }\n",
       "\n",
       "    .dataframe thead th {\n",
       "        text-align: right;\n",
       "    }\n",
       "</style>\n",
       "<table border=\"1\" class=\"dataframe\">\n",
       "  <thead>\n",
       "    <tr style=\"text-align: right;\">\n",
       "      <th></th>\n",
       "      <th>Customer_ID</th>\n",
       "      <th>First_Name</th>\n",
       "      <th>Last_Name</th>\n",
       "      <th>City</th>\n",
       "      <th>Order_ID</th>\n",
       "      <th>Product_ID</th>\n",
       "      <th>Employee_ID</th>\n",
       "      <th>Date</th>\n",
       "    </tr>\n",
       "  </thead>\n",
       "  <tbody>\n",
       "    <tr>\n",
       "      <th>0</th>\n",
       "      <td>20001</td>\n",
       "      <td>Jack</td>\n",
       "      <td>Ward</td>\n",
       "      <td>San Jose</td>\n",
       "      <td>50009</td>\n",
       "      <td>30006</td>\n",
       "      <td>10009</td>\n",
       "      <td>17-12-26</td>\n",
       "    </tr>\n",
       "    <tr>\n",
       "      <th>1</th>\n",
       "      <td>20002</td>\n",
       "      <td>Steven</td>\n",
       "      <td>Martinez</td>\n",
       "      <td>San Francisco</td>\n",
       "      <td>50008</td>\n",
       "      <td>30001</td>\n",
       "      <td>10004</td>\n",
       "      <td>17-03-09</td>\n",
       "    </tr>\n",
       "    <tr>\n",
       "      <th>2</th>\n",
       "      <td>20003</td>\n",
       "      <td>Jessica</td>\n",
       "      <td>Collins</td>\n",
       "      <td>San Jose</td>\n",
       "      <td>50002</td>\n",
       "      <td>30008</td>\n",
       "      <td>10011</td>\n",
       "      <td>17-09-03</td>\n",
       "    </tr>\n",
       "    <tr>\n",
       "      <th>3</th>\n",
       "      <td>20004</td>\n",
       "      <td>Carie</td>\n",
       "      <td>Robinson</td>\n",
       "      <td>San Francisco</td>\n",
       "      <td>50004</td>\n",
       "      <td>30008</td>\n",
       "      <td>10010</td>\n",
       "      <td>17-01-28</td>\n",
       "    </tr>\n",
       "    <tr>\n",
       "      <th>4</th>\n",
       "      <td>20005</td>\n",
       "      <td>Zack</td>\n",
       "      <td>Peterson</td>\n",
       "      <td>Oakland</td>\n",
       "      <td>50001</td>\n",
       "      <td>30005</td>\n",
       "      <td>10001</td>\n",
       "      <td>17-02-12</td>\n",
       "    </tr>\n",
       "    <tr>\n",
       "      <th>5</th>\n",
       "      <td>20008</td>\n",
       "      <td>Lisa</td>\n",
       "      <td>Smith</td>\n",
       "      <td>San Francisco</td>\n",
       "      <td>50005</td>\n",
       "      <td>30012</td>\n",
       "      <td>10002</td>\n",
       "      <td>17-08-11</td>\n",
       "    </tr>\n",
       "    <tr>\n",
       "      <th>6</th>\n",
       "      <td>20010</td>\n",
       "      <td>Lauren</td>\n",
       "      <td>Pham</td>\n",
       "      <td>San Jose</td>\n",
       "      <td>50003</td>\n",
       "      <td>30001</td>\n",
       "      <td>10009</td>\n",
       "      <td>17-11-23</td>\n",
       "    </tr>\n",
       "    <tr>\n",
       "      <th>7</th>\n",
       "      <td>20011</td>\n",
       "      <td>Juan</td>\n",
       "      <td>Diaz</td>\n",
       "      <td>Oakland</td>\n",
       "      <td>50006</td>\n",
       "      <td>30011</td>\n",
       "      <td>10001</td>\n",
       "      <td>17-04-13</td>\n",
       "    </tr>\n",
       "    <tr>\n",
       "      <th>8</th>\n",
       "      <td>20012</td>\n",
       "      <td>Martha</td>\n",
       "      <td>Diaz</td>\n",
       "      <td>San Francisco</td>\n",
       "      <td>50007</td>\n",
       "      <td>30002</td>\n",
       "      <td>10007</td>\n",
       "      <td>17-10-07</td>\n",
       "    </tr>\n",
       "    <tr>\n",
       "      <th>9</th>\n",
       "      <td>20013</td>\n",
       "      <td>NaN</td>\n",
       "      <td>NaN</td>\n",
       "      <td>NaN</td>\n",
       "      <td>50010</td>\n",
       "      <td>30004</td>\n",
       "      <td>10008</td>\n",
       "      <td>17-04-11</td>\n",
       "    </tr>\n",
       "    <tr>\n",
       "      <th>10</th>\n",
       "      <td>20014</td>\n",
       "      <td>NaN</td>\n",
       "      <td>NaN</td>\n",
       "      <td>NaN</td>\n",
       "      <td>50011</td>\n",
       "      <td>30007</td>\n",
       "      <td>10010</td>\n",
       "      <td>17-09-16</td>\n",
       "    </tr>\n",
       "  </tbody>\n",
       "</table>\n",
       "</div>"
      ],
      "text/plain": [
       "    Customer_ID First_Name Last_Name           City  Order_ID  Product_ID  \\\n",
       "0         20001       Jack      Ward       San Jose     50009       30006   \n",
       "1         20002     Steven  Martinez  San Francisco     50008       30001   \n",
       "2         20003    Jessica   Collins       San Jose     50002       30008   \n",
       "3         20004      Carie  Robinson  San Francisco     50004       30008   \n",
       "4         20005       Zack  Peterson        Oakland     50001       30005   \n",
       "5         20008       Lisa     Smith  San Francisco     50005       30012   \n",
       "6         20010     Lauren      Pham       San Jose     50003       30001   \n",
       "7         20011       Juan      Diaz        Oakland     50006       30011   \n",
       "8         20012     Martha      Diaz  San Francisco     50007       30002   \n",
       "9         20013        NaN       NaN            NaN     50010       30004   \n",
       "10        20014        NaN       NaN            NaN     50011       30007   \n",
       "\n",
       "    Employee_ID      Date  \n",
       "0         10009  17-12-26  \n",
       "1         10004  17-03-09  \n",
       "2         10011  17-09-03  \n",
       "3         10010  17-01-28  \n",
       "4         10001  17-02-12  \n",
       "5         10002  17-08-11  \n",
       "6         10009  17-11-23  \n",
       "7         10001  17-04-13  \n",
       "8         10007  17-10-07  \n",
       "9         10008  17-04-11  \n",
       "10        10010  17-09-16  "
      ]
     },
     "execution_count": 59,
     "metadata": {
      "tags": []
     },
     "output_type": "execute_result"
    }
   ],
   "source": [
    "pd.merge(customer_df, orders_df, how='right')\n"
   ]
  },
  {
   "cell_type": "code",
   "execution_count": 60,
   "metadata": {
    "colab": {
     "autoexec": {
      "startup": false,
      "wait_interval": 0
     },
     "base_uri": "https://localhost:8080/",
     "height": 483
    },
    "colab_type": "code",
    "executionInfo": {
     "elapsed": 353,
     "status": "ok",
     "timestamp": 1531520881640,
     "user": {
      "displayName": "Tairi Delgado",
      "photoUrl": "//lh6.googleusercontent.com/-l4lv-T3P6-c/AAAAAAAAAAI/AAAAAAAABIA/4wtQ8ehIzZw/s50-c-k-no/photo.jpg",
      "userId": "115188476170888991569"
     },
     "user_tz": 420
    },
    "id": "G_DTkwB-Oc2f",
    "outputId": "b08b5070-02d8-413f-e0b7-366526cd9615"
   },
   "outputs": [
    {
     "data": {
      "text/html": [
       "<div>\n",
       "<style scoped>\n",
       "    .dataframe tbody tr th:only-of-type {\n",
       "        vertical-align: middle;\n",
       "    }\n",
       "\n",
       "    .dataframe tbody tr th {\n",
       "        vertical-align: top;\n",
       "    }\n",
       "\n",
       "    .dataframe thead th {\n",
       "        text-align: right;\n",
       "    }\n",
       "</style>\n",
       "<table border=\"1\" class=\"dataframe\">\n",
       "  <thead>\n",
       "    <tr style=\"text-align: right;\">\n",
       "      <th></th>\n",
       "      <th>Customer_ID</th>\n",
       "      <th>First_Name</th>\n",
       "      <th>Last_Name</th>\n",
       "      <th>City</th>\n",
       "      <th>Order_ID</th>\n",
       "      <th>Product_ID</th>\n",
       "      <th>Employee_ID</th>\n",
       "      <th>Date</th>\n",
       "    </tr>\n",
       "  </thead>\n",
       "  <tbody>\n",
       "    <tr>\n",
       "      <th>0</th>\n",
       "      <td>20001</td>\n",
       "      <td>Jack</td>\n",
       "      <td>Ward</td>\n",
       "      <td>San Jose</td>\n",
       "      <td>50009.0</td>\n",
       "      <td>30006.0</td>\n",
       "      <td>10009.0</td>\n",
       "      <td>17-12-26</td>\n",
       "    </tr>\n",
       "    <tr>\n",
       "      <th>1</th>\n",
       "      <td>20002</td>\n",
       "      <td>Steven</td>\n",
       "      <td>Martinez</td>\n",
       "      <td>San Francisco</td>\n",
       "      <td>50008.0</td>\n",
       "      <td>30001.0</td>\n",
       "      <td>10004.0</td>\n",
       "      <td>17-03-09</td>\n",
       "    </tr>\n",
       "    <tr>\n",
       "      <th>2</th>\n",
       "      <td>20003</td>\n",
       "      <td>Jessica</td>\n",
       "      <td>Collins</td>\n",
       "      <td>San Jose</td>\n",
       "      <td>50002.0</td>\n",
       "      <td>30008.0</td>\n",
       "      <td>10011.0</td>\n",
       "      <td>17-09-03</td>\n",
       "    </tr>\n",
       "    <tr>\n",
       "      <th>3</th>\n",
       "      <td>20004</td>\n",
       "      <td>Carie</td>\n",
       "      <td>Robinson</td>\n",
       "      <td>San Francisco</td>\n",
       "      <td>50004.0</td>\n",
       "      <td>30008.0</td>\n",
       "      <td>10010.0</td>\n",
       "      <td>17-01-28</td>\n",
       "    </tr>\n",
       "    <tr>\n",
       "      <th>4</th>\n",
       "      <td>20005</td>\n",
       "      <td>Zack</td>\n",
       "      <td>Peterson</td>\n",
       "      <td>Oakland</td>\n",
       "      <td>50001.0</td>\n",
       "      <td>30005.0</td>\n",
       "      <td>10001.0</td>\n",
       "      <td>17-02-12</td>\n",
       "    </tr>\n",
       "    <tr>\n",
       "      <th>5</th>\n",
       "      <td>20006</td>\n",
       "      <td>Bianca</td>\n",
       "      <td>Sanchez</td>\n",
       "      <td>San Francisco</td>\n",
       "      <td>NaN</td>\n",
       "      <td>NaN</td>\n",
       "      <td>NaN</td>\n",
       "      <td>NaN</td>\n",
       "    </tr>\n",
       "    <tr>\n",
       "      <th>6</th>\n",
       "      <td>20007</td>\n",
       "      <td>James</td>\n",
       "      <td>Owen</td>\n",
       "      <td>Oakland</td>\n",
       "      <td>NaN</td>\n",
       "      <td>NaN</td>\n",
       "      <td>NaN</td>\n",
       "      <td>NaN</td>\n",
       "    </tr>\n",
       "    <tr>\n",
       "      <th>7</th>\n",
       "      <td>20008</td>\n",
       "      <td>Lisa</td>\n",
       "      <td>Smith</td>\n",
       "      <td>San Francisco</td>\n",
       "      <td>50005.0</td>\n",
       "      <td>30012.0</td>\n",
       "      <td>10002.0</td>\n",
       "      <td>17-08-11</td>\n",
       "    </tr>\n",
       "    <tr>\n",
       "      <th>8</th>\n",
       "      <td>20009</td>\n",
       "      <td>Daniel</td>\n",
       "      <td>Yasukawa</td>\n",
       "      <td>Oakland</td>\n",
       "      <td>NaN</td>\n",
       "      <td>NaN</td>\n",
       "      <td>NaN</td>\n",
       "      <td>NaN</td>\n",
       "    </tr>\n",
       "    <tr>\n",
       "      <th>9</th>\n",
       "      <td>20010</td>\n",
       "      <td>Lauren</td>\n",
       "      <td>Pham</td>\n",
       "      <td>San Jose</td>\n",
       "      <td>50003.0</td>\n",
       "      <td>30001.0</td>\n",
       "      <td>10009.0</td>\n",
       "      <td>17-11-23</td>\n",
       "    </tr>\n",
       "    <tr>\n",
       "      <th>10</th>\n",
       "      <td>20011</td>\n",
       "      <td>Juan</td>\n",
       "      <td>Diaz</td>\n",
       "      <td>Oakland</td>\n",
       "      <td>50006.0</td>\n",
       "      <td>30011.0</td>\n",
       "      <td>10001.0</td>\n",
       "      <td>17-04-13</td>\n",
       "    </tr>\n",
       "    <tr>\n",
       "      <th>11</th>\n",
       "      <td>20012</td>\n",
       "      <td>Martha</td>\n",
       "      <td>Diaz</td>\n",
       "      <td>San Francisco</td>\n",
       "      <td>50007.0</td>\n",
       "      <td>30002.0</td>\n",
       "      <td>10007.0</td>\n",
       "      <td>17-10-07</td>\n",
       "    </tr>\n",
       "    <tr>\n",
       "      <th>12</th>\n",
       "      <td>20013</td>\n",
       "      <td>NaN</td>\n",
       "      <td>NaN</td>\n",
       "      <td>NaN</td>\n",
       "      <td>50010.0</td>\n",
       "      <td>30004.0</td>\n",
       "      <td>10008.0</td>\n",
       "      <td>17-04-11</td>\n",
       "    </tr>\n",
       "    <tr>\n",
       "      <th>13</th>\n",
       "      <td>20014</td>\n",
       "      <td>NaN</td>\n",
       "      <td>NaN</td>\n",
       "      <td>NaN</td>\n",
       "      <td>50011.0</td>\n",
       "      <td>30007.0</td>\n",
       "      <td>10010.0</td>\n",
       "      <td>17-09-16</td>\n",
       "    </tr>\n",
       "  </tbody>\n",
       "</table>\n",
       "</div>"
      ],
      "text/plain": [
       "    Customer_ID First_Name Last_Name           City  Order_ID  Product_ID  \\\n",
       "0         20001       Jack      Ward       San Jose   50009.0     30006.0   \n",
       "1         20002     Steven  Martinez  San Francisco   50008.0     30001.0   \n",
       "2         20003    Jessica   Collins       San Jose   50002.0     30008.0   \n",
       "3         20004      Carie  Robinson  San Francisco   50004.0     30008.0   \n",
       "4         20005       Zack  Peterson        Oakland   50001.0     30005.0   \n",
       "5         20006     Bianca   Sanchez  San Francisco       NaN         NaN   \n",
       "6         20007      James      Owen        Oakland       NaN         NaN   \n",
       "7         20008       Lisa     Smith  San Francisco   50005.0     30012.0   \n",
       "8         20009     Daniel  Yasukawa        Oakland       NaN         NaN   \n",
       "9         20010     Lauren      Pham       San Jose   50003.0     30001.0   \n",
       "10        20011       Juan      Diaz        Oakland   50006.0     30011.0   \n",
       "11        20012     Martha      Diaz  San Francisco   50007.0     30002.0   \n",
       "12        20013        NaN       NaN            NaN   50010.0     30004.0   \n",
       "13        20014        NaN       NaN            NaN   50011.0     30007.0   \n",
       "\n",
       "    Employee_ID      Date  \n",
       "0       10009.0  17-12-26  \n",
       "1       10004.0  17-03-09  \n",
       "2       10011.0  17-09-03  \n",
       "3       10010.0  17-01-28  \n",
       "4       10001.0  17-02-12  \n",
       "5           NaN       NaN  \n",
       "6           NaN       NaN  \n",
       "7       10002.0  17-08-11  \n",
       "8           NaN       NaN  \n",
       "9       10009.0  17-11-23  \n",
       "10      10001.0  17-04-13  \n",
       "11      10007.0  17-10-07  \n",
       "12      10008.0  17-04-11  \n",
       "13      10010.0  17-09-16  "
      ]
     },
     "execution_count": 60,
     "metadata": {
      "tags": []
     },
     "output_type": "execute_result"
    }
   ],
   "source": [
    "pd.merge(customer_df, orders_df, how='outer')\n"
   ]
  },
  {
   "cell_type": "markdown",
   "metadata": {
    "colab_type": "text",
    "id": "65G8cC95sIHf"
   },
   "source": [
    "**Append/Concatenate**"
   ]
  },
  {
   "cell_type": "code",
   "execution_count": 0,
   "metadata": {
    "colab": {
     "autoexec": {
      "startup": false,
      "wait_interval": 0
     }
    },
    "colab_type": "code",
    "id": "-Vnaj7AIOpaO"
   },
   "outputs": [],
   "source": [
    "supplier_df2 = pd.DataFrame({'Supplier_ID': [40006, 40007], 'Name': ['GameHub Inc', 'TechCenter Media'], 'City': ['Atlanta', 'New York']})\n"
   ]
  },
  {
   "cell_type": "code",
   "execution_count": 62,
   "metadata": {
    "colab": {
     "autoexec": {
      "startup": false,
      "wait_interval": 0
     },
     "base_uri": "https://localhost:8080/",
     "height": 266
    },
    "colab_type": "code",
    "executionInfo": {
     "elapsed": 348,
     "status": "ok",
     "timestamp": 1531520887791,
     "user": {
      "displayName": "Tairi Delgado",
      "photoUrl": "//lh6.googleusercontent.com/-l4lv-T3P6-c/AAAAAAAAAAI/AAAAAAAABIA/4wtQ8ehIzZw/s50-c-k-no/photo.jpg",
      "userId": "115188476170888991569"
     },
     "user_tz": 420
    },
    "id": "fr7r5ve4Pvgm",
    "outputId": "b1fbd4b5-c78a-493e-d46e-8574c2bd0819"
   },
   "outputs": [
    {
     "data": {
      "text/html": [
       "<div>\n",
       "<style scoped>\n",
       "    .dataframe tbody tr th:only-of-type {\n",
       "        vertical-align: middle;\n",
       "    }\n",
       "\n",
       "    .dataframe tbody tr th {\n",
       "        vertical-align: top;\n",
       "    }\n",
       "\n",
       "    .dataframe thead th {\n",
       "        text-align: right;\n",
       "    }\n",
       "</style>\n",
       "<table border=\"1\" class=\"dataframe\">\n",
       "  <thead>\n",
       "    <tr style=\"text-align: right;\">\n",
       "      <th></th>\n",
       "      <th>City</th>\n",
       "      <th>Name</th>\n",
       "      <th>Supplier_ID</th>\n",
       "    </tr>\n",
       "  </thead>\n",
       "  <tbody>\n",
       "    <tr>\n",
       "      <th>0</th>\n",
       "      <td>Oakland</td>\n",
       "      <td>Music Vibrations, Inc</td>\n",
       "      <td>40001</td>\n",
       "    </tr>\n",
       "    <tr>\n",
       "      <th>1</th>\n",
       "      <td>San Francisco</td>\n",
       "      <td>BioMed Inc</td>\n",
       "      <td>40002</td>\n",
       "    </tr>\n",
       "    <tr>\n",
       "      <th>2</th>\n",
       "      <td>San Jose</td>\n",
       "      <td>FashionRUs</td>\n",
       "      <td>40003</td>\n",
       "    </tr>\n",
       "    <tr>\n",
       "      <th>3</th>\n",
       "      <td>San Francisco</td>\n",
       "      <td>Studio Warehouse</td>\n",
       "      <td>40004</td>\n",
       "    </tr>\n",
       "    <tr>\n",
       "      <th>4</th>\n",
       "      <td>San Jose</td>\n",
       "      <td>CompTech, Inc</td>\n",
       "      <td>40005</td>\n",
       "    </tr>\n",
       "    <tr>\n",
       "      <th>0</th>\n",
       "      <td>Atlanta</td>\n",
       "      <td>GameHub Inc</td>\n",
       "      <td>40006</td>\n",
       "    </tr>\n",
       "    <tr>\n",
       "      <th>1</th>\n",
       "      <td>New York</td>\n",
       "      <td>TechCenter Media</td>\n",
       "      <td>40007</td>\n",
       "    </tr>\n",
       "  </tbody>\n",
       "</table>\n",
       "</div>"
      ],
      "text/plain": [
       "            City                   Name  Supplier_ID\n",
       "0        Oakland  Music Vibrations, Inc        40001\n",
       "1  San Francisco             BioMed Inc        40002\n",
       "2       San Jose             FashionRUs        40003\n",
       "3  San Francisco       Studio Warehouse        40004\n",
       "4       San Jose          CompTech, Inc        40005\n",
       "0        Atlanta            GameHub Inc        40006\n",
       "1       New York       TechCenter Media        40007"
      ]
     },
     "execution_count": 62,
     "metadata": {
      "tags": []
     },
     "output_type": "execute_result"
    }
   ],
   "source": [
    "supplier_df.append(supplier_df2)\n"
   ]
  },
  {
   "cell_type": "code",
   "execution_count": 63,
   "metadata": {
    "colab": {
     "autoexec": {
      "startup": false,
      "wait_interval": 0
     },
     "base_uri": "https://localhost:8080/",
     "height": 266
    },
    "colab_type": "code",
    "executionInfo": {
     "elapsed": 323,
     "status": "ok",
     "timestamp": 1531520890399,
     "user": {
      "displayName": "Tairi Delgado",
      "photoUrl": "//lh6.googleusercontent.com/-l4lv-T3P6-c/AAAAAAAAAAI/AAAAAAAABIA/4wtQ8ehIzZw/s50-c-k-no/photo.jpg",
      "userId": "115188476170888991569"
     },
     "user_tz": 420
    },
    "id": "UONufYZLQAu_",
    "outputId": "e029af55-c9c1-4784-c255-5a4cafcbafc2"
   },
   "outputs": [
    {
     "data": {
      "text/html": [
       "<div>\n",
       "<style scoped>\n",
       "    .dataframe tbody tr th:only-of-type {\n",
       "        vertical-align: middle;\n",
       "    }\n",
       "\n",
       "    .dataframe tbody tr th {\n",
       "        vertical-align: top;\n",
       "    }\n",
       "\n",
       "    .dataframe thead th {\n",
       "        text-align: right;\n",
       "    }\n",
       "</style>\n",
       "<table border=\"1\" class=\"dataframe\">\n",
       "  <thead>\n",
       "    <tr style=\"text-align: right;\">\n",
       "      <th></th>\n",
       "      <th>City</th>\n",
       "      <th>Name</th>\n",
       "      <th>Supplier_ID</th>\n",
       "    </tr>\n",
       "  </thead>\n",
       "  <tbody>\n",
       "    <tr>\n",
       "      <th>0</th>\n",
       "      <td>Oakland</td>\n",
       "      <td>Music Vibrations, Inc</td>\n",
       "      <td>40001</td>\n",
       "    </tr>\n",
       "    <tr>\n",
       "      <th>1</th>\n",
       "      <td>San Francisco</td>\n",
       "      <td>BioMed Inc</td>\n",
       "      <td>40002</td>\n",
       "    </tr>\n",
       "    <tr>\n",
       "      <th>2</th>\n",
       "      <td>San Jose</td>\n",
       "      <td>FashionRUs</td>\n",
       "      <td>40003</td>\n",
       "    </tr>\n",
       "    <tr>\n",
       "      <th>3</th>\n",
       "      <td>San Francisco</td>\n",
       "      <td>Studio Warehouse</td>\n",
       "      <td>40004</td>\n",
       "    </tr>\n",
       "    <tr>\n",
       "      <th>4</th>\n",
       "      <td>San Jose</td>\n",
       "      <td>CompTech, Inc</td>\n",
       "      <td>40005</td>\n",
       "    </tr>\n",
       "    <tr>\n",
       "      <th>0</th>\n",
       "      <td>Atlanta</td>\n",
       "      <td>GameHub Inc</td>\n",
       "      <td>40006</td>\n",
       "    </tr>\n",
       "    <tr>\n",
       "      <th>1</th>\n",
       "      <td>New York</td>\n",
       "      <td>TechCenter Media</td>\n",
       "      <td>40007</td>\n",
       "    </tr>\n",
       "  </tbody>\n",
       "</table>\n",
       "</div>"
      ],
      "text/plain": [
       "            City                   Name  Supplier_ID\n",
       "0        Oakland  Music Vibrations, Inc        40001\n",
       "1  San Francisco             BioMed Inc        40002\n",
       "2       San Jose             FashionRUs        40003\n",
       "3  San Francisco       Studio Warehouse        40004\n",
       "4       San Jose          CompTech, Inc        40005\n",
       "0        Atlanta            GameHub Inc        40006\n",
       "1       New York       TechCenter Media        40007"
      ]
     },
     "execution_count": 63,
     "metadata": {
      "tags": []
     },
     "output_type": "execute_result"
    }
   ],
   "source": [
    "pd.concat([supplier_df,supplier_df2])\n"
   ]
  },
  {
   "cell_type": "code",
   "execution_count": 64,
   "metadata": {
    "colab": {
     "autoexec": {
      "startup": false,
      "wait_interval": 0
     },
     "base_uri": "https://localhost:8080/",
     "height": 204
    },
    "colab_type": "code",
    "executionInfo": {
     "elapsed": 368,
     "status": "ok",
     "timestamp": 1531520893795,
     "user": {
      "displayName": "Tairi Delgado",
      "photoUrl": "//lh6.googleusercontent.com/-l4lv-T3P6-c/AAAAAAAAAAI/AAAAAAAABIA/4wtQ8ehIzZw/s50-c-k-no/photo.jpg",
      "userId": "115188476170888991569"
     },
     "user_tz": 420
    },
    "id": "WjFYDXTUQK5c",
    "outputId": "27a55bc7-3c47-4710-f3c7-c86f469fc280"
   },
   "outputs": [
    {
     "data": {
      "text/html": [
       "<div>\n",
       "<style scoped>\n",
       "    .dataframe tbody tr th:only-of-type {\n",
       "        vertical-align: middle;\n",
       "    }\n",
       "\n",
       "    .dataframe tbody tr th {\n",
       "        vertical-align: top;\n",
       "    }\n",
       "\n",
       "    .dataframe thead th {\n",
       "        text-align: right;\n",
       "    }\n",
       "</style>\n",
       "<table border=\"1\" class=\"dataframe\">\n",
       "  <thead>\n",
       "    <tr style=\"text-align: right;\">\n",
       "      <th></th>\n",
       "      <th>Supplier_ID</th>\n",
       "      <th>Name</th>\n",
       "      <th>City</th>\n",
       "      <th>City</th>\n",
       "      <th>Name</th>\n",
       "      <th>Supplier_ID</th>\n",
       "    </tr>\n",
       "  </thead>\n",
       "  <tbody>\n",
       "    <tr>\n",
       "      <th>0</th>\n",
       "      <td>40001</td>\n",
       "      <td>Music Vibrations, Inc</td>\n",
       "      <td>Oakland</td>\n",
       "      <td>Atlanta</td>\n",
       "      <td>GameHub Inc</td>\n",
       "      <td>40006.0</td>\n",
       "    </tr>\n",
       "    <tr>\n",
       "      <th>1</th>\n",
       "      <td>40002</td>\n",
       "      <td>BioMed Inc</td>\n",
       "      <td>San Francisco</td>\n",
       "      <td>New York</td>\n",
       "      <td>TechCenter Media</td>\n",
       "      <td>40007.0</td>\n",
       "    </tr>\n",
       "    <tr>\n",
       "      <th>2</th>\n",
       "      <td>40003</td>\n",
       "      <td>FashionRUs</td>\n",
       "      <td>San Jose</td>\n",
       "      <td>NaN</td>\n",
       "      <td>NaN</td>\n",
       "      <td>NaN</td>\n",
       "    </tr>\n",
       "    <tr>\n",
       "      <th>3</th>\n",
       "      <td>40004</td>\n",
       "      <td>Studio Warehouse</td>\n",
       "      <td>San Francisco</td>\n",
       "      <td>NaN</td>\n",
       "      <td>NaN</td>\n",
       "      <td>NaN</td>\n",
       "    </tr>\n",
       "    <tr>\n",
       "      <th>4</th>\n",
       "      <td>40005</td>\n",
       "      <td>CompTech, Inc</td>\n",
       "      <td>San Jose</td>\n",
       "      <td>NaN</td>\n",
       "      <td>NaN</td>\n",
       "      <td>NaN</td>\n",
       "    </tr>\n",
       "  </tbody>\n",
       "</table>\n",
       "</div>"
      ],
      "text/plain": [
       "   Supplier_ID                   Name           City      City  \\\n",
       "0        40001  Music Vibrations, Inc        Oakland   Atlanta   \n",
       "1        40002             BioMed Inc  San Francisco  New York   \n",
       "2        40003             FashionRUs       San Jose       NaN   \n",
       "3        40004       Studio Warehouse  San Francisco       NaN   \n",
       "4        40005          CompTech, Inc       San Jose       NaN   \n",
       "\n",
       "               Name  Supplier_ID  \n",
       "0       GameHub Inc      40006.0  \n",
       "1  TechCenter Media      40007.0  \n",
       "2               NaN          NaN  \n",
       "3               NaN          NaN  \n",
       "4               NaN          NaN  "
      ]
     },
     "execution_count": 64,
     "metadata": {
      "tags": []
     },
     "output_type": "execute_result"
    }
   ],
   "source": [
    "pd.concat([supplier_df,supplier_df2],axis=1)\n"
   ]
  },
  {
   "cell_type": "markdown",
   "metadata": {
    "colab_type": "text",
    "id": "_C8tgbMTsM7T"
   },
   "source": [
    "**Deleteing/Droping**"
   ]
  },
  {
   "cell_type": "code",
   "execution_count": 65,
   "metadata": {
    "colab": {
     "autoexec": {
      "startup": false,
      "wait_interval": 0
     },
     "base_uri": "https://localhost:8080/",
     "height": 80
    },
    "colab_type": "code",
    "executionInfo": {
     "elapsed": 335,
     "status": "ok",
     "timestamp": 1531520896675,
     "user": {
      "displayName": "Tairi Delgado",
      "photoUrl": "//lh6.googleusercontent.com/-l4lv-T3P6-c/AAAAAAAAAAI/AAAAAAAABIA/4wtQ8ehIzZw/s50-c-k-no/photo.jpg",
      "userId": "115188476170888991569"
     },
     "user_tz": 420
    },
    "id": "GN5DbNYzQjWN",
    "outputId": "9afbff9c-a260-474f-fefa-c8885f980bdf"
   },
   "outputs": [
    {
     "data": {
      "text/html": [
       "<div>\n",
       "<style scoped>\n",
       "    .dataframe tbody tr th:only-of-type {\n",
       "        vertical-align: middle;\n",
       "    }\n",
       "\n",
       "    .dataframe tbody tr th {\n",
       "        vertical-align: top;\n",
       "    }\n",
       "\n",
       "    .dataframe thead th {\n",
       "        text-align: right;\n",
       "    }\n",
       "</style>\n",
       "<table border=\"1\" class=\"dataframe\">\n",
       "  <thead>\n",
       "    <tr style=\"text-align: right;\">\n",
       "      <th></th>\n",
       "      <th>City</th>\n",
       "      <th>Name</th>\n",
       "      <th>Supplier_ID</th>\n",
       "    </tr>\n",
       "  </thead>\n",
       "  <tbody>\n",
       "    <tr>\n",
       "      <th>0</th>\n",
       "      <td>Atlanta</td>\n",
       "      <td>GameHub Inc</td>\n",
       "      <td>40006</td>\n",
       "    </tr>\n",
       "  </tbody>\n",
       "</table>\n",
       "</div>"
      ],
      "text/plain": [
       "      City         Name  Supplier_ID\n",
       "0  Atlanta  GameHub Inc        40006"
      ]
     },
     "execution_count": 65,
     "metadata": {
      "tags": []
     },
     "output_type": "execute_result"
    }
   ],
   "source": [
    "supplier_df2.drop([1])\n"
   ]
  },
  {
   "cell_type": "code",
   "execution_count": 66,
   "metadata": {
    "colab": {
     "autoexec": {
      "startup": false,
      "wait_interval": 0
     },
     "base_uri": "https://localhost:8080/",
     "height": 111
    },
    "colab_type": "code",
    "executionInfo": {
     "elapsed": 462,
     "status": "ok",
     "timestamp": 1531520900020,
     "user": {
      "displayName": "Tairi Delgado",
      "photoUrl": "//lh6.googleusercontent.com/-l4lv-T3P6-c/AAAAAAAAAAI/AAAAAAAABIA/4wtQ8ehIzZw/s50-c-k-no/photo.jpg",
      "userId": "115188476170888991569"
     },
     "user_tz": 420
    },
    "id": "gmA9t1F7Q16j",
    "outputId": "863e5bcc-d073-4276-90b2-fb43dfab9150"
   },
   "outputs": [
    {
     "data": {
      "text/html": [
       "<div>\n",
       "<style scoped>\n",
       "    .dataframe tbody tr th:only-of-type {\n",
       "        vertical-align: middle;\n",
       "    }\n",
       "\n",
       "    .dataframe tbody tr th {\n",
       "        vertical-align: top;\n",
       "    }\n",
       "\n",
       "    .dataframe thead th {\n",
       "        text-align: right;\n",
       "    }\n",
       "</style>\n",
       "<table border=\"1\" class=\"dataframe\">\n",
       "  <thead>\n",
       "    <tr style=\"text-align: right;\">\n",
       "      <th></th>\n",
       "      <th>City</th>\n",
       "      <th>Name</th>\n",
       "    </tr>\n",
       "  </thead>\n",
       "  <tbody>\n",
       "    <tr>\n",
       "      <th>0</th>\n",
       "      <td>Atlanta</td>\n",
       "      <td>GameHub Inc</td>\n",
       "    </tr>\n",
       "    <tr>\n",
       "      <th>1</th>\n",
       "      <td>New York</td>\n",
       "      <td>TechCenter Media</td>\n",
       "    </tr>\n",
       "  </tbody>\n",
       "</table>\n",
       "</div>"
      ],
      "text/plain": [
       "       City              Name\n",
       "0   Atlanta       GameHub Inc\n",
       "1  New York  TechCenter Media"
      ]
     },
     "execution_count": 66,
     "metadata": {
      "tags": []
     },
     "output_type": "execute_result"
    }
   ],
   "source": [
    "supplier_df2.drop(['Supplier_ID'],axis=1)"
   ]
  },
  {
   "cell_type": "markdown",
   "metadata": {
    "colab_type": "text",
    "id": "G99XsIrwsSHg"
   },
   "source": [
    "**Updating**"
   ]
  },
  {
   "cell_type": "code",
   "execution_count": 67,
   "metadata": {
    "colab": {
     "autoexec": {
      "startup": false,
      "wait_interval": 0
     },
     "base_uri": "https://localhost:8080/",
     "height": 68
    },
    "colab_type": "code",
    "executionInfo": {
     "elapsed": 344,
     "status": "ok",
     "timestamp": 1531520902581,
     "user": {
      "displayName": "Tairi Delgado",
      "photoUrl": "//lh6.googleusercontent.com/-l4lv-T3P6-c/AAAAAAAAAAI/AAAAAAAABIA/4wtQ8ehIzZw/s50-c-k-no/photo.jpg",
      "userId": "115188476170888991569"
     },
     "user_tz": 420
    },
    "id": "i5u3BJH1RAs5",
    "outputId": "b1ebf557-7267-486e-c4ff-449e884f2d5d"
   },
   "outputs": [
    {
     "name": "stdout",
     "output_type": "stream",
     "text": [
      "      City              Name  Supplier_ID\n",
      "0  Atlanta       GameHub Inc        40006\n",
      "1    Miami  TechCenter Media        40008\n"
     ]
    }
   ],
   "source": [
    "supplier_df2.loc[1] = ['Miami', 'TechCenter Media', 40008]\n",
    "print(supplier_df2)"
   ]
  },
  {
   "cell_type": "code",
   "execution_count": 68,
   "metadata": {
    "colab": {
     "autoexec": {
      "startup": false,
      "wait_interval": 0
     },
     "base_uri": "https://localhost:8080/",
     "height": 68
    },
    "colab_type": "code",
    "executionInfo": {
     "elapsed": 570,
     "status": "ok",
     "timestamp": 1531520905032,
     "user": {
      "displayName": "Tairi Delgado",
      "photoUrl": "//lh6.googleusercontent.com/-l4lv-T3P6-c/AAAAAAAAAAI/AAAAAAAABIA/4wtQ8ehIzZw/s50-c-k-no/photo.jpg",
      "userId": "115188476170888991569"
     },
     "user_tz": 420
    },
    "id": "4ARN8Az6RYl9",
    "outputId": "a6649b59-b747-4a5b-b9ba-45b9f2517227"
   },
   "outputs": [
    {
     "name": "stdout",
     "output_type": "stream",
     "text": [
      "      City              Name  Supplier_ID\n",
      "0  Atlanta       GameHub Inc        40006\n",
      "1    Miami  TechCenter Media        40007\n"
     ]
    }
   ],
   "source": [
    "supplier_df2.loc[1,'Supplier_ID'] -= 1\n",
    "print(supplier_df2)"
   ]
  },
  {
   "cell_type": "code",
   "execution_count": 69,
   "metadata": {
    "colab": {
     "autoexec": {
      "startup": false,
      "wait_interval": 0
     },
     "base_uri": "https://localhost:8080/",
     "height": 68
    },
    "colab_type": "code",
    "executionInfo": {
     "elapsed": 310,
     "status": "ok",
     "timestamp": 1531520907344,
     "user": {
      "displayName": "Tairi Delgado",
      "photoUrl": "//lh6.googleusercontent.com/-l4lv-T3P6-c/AAAAAAAAAAI/AAAAAAAABIA/4wtQ8ehIzZw/s50-c-k-no/photo.jpg",
      "userId": "115188476170888991569"
     },
     "user_tz": 420
    },
    "id": "vxtxxtM9RkB1",
    "outputId": "6d7323c8-8591-4239-f9ff-d99568b3327b"
   },
   "outputs": [
    {
     "name": "stdout",
     "output_type": "stream",
     "text": [
      "      City              Name  Supplier_ID\n",
      "0  Atlanta       GameHub Inc        40009\n",
      "1    Miami  TechCenter Media        40010\n"
     ]
    }
   ],
   "source": [
    "supplier_df2['Supplier_ID'].update(pd.Series([40009,40010]))\n",
    "print(supplier_df2)"
   ]
  },
  {
   "cell_type": "markdown",
   "metadata": {
    "colab_type": "text",
    "id": "m-Sx1zjtsTag"
   },
   "source": [
    "**Stacking/Grouping**"
   ]
  },
  {
   "cell_type": "code",
   "execution_count": 70,
   "metadata": {
    "colab": {
     "autoexec": {
      "startup": false,
      "wait_interval": 0
     },
     "base_uri": "https://localhost:8080/",
     "height": 204
    },
    "colab_type": "code",
    "executionInfo": {
     "elapsed": 325,
     "status": "ok",
     "timestamp": 1531520909787,
     "user": {
      "displayName": "Tairi Delgado",
      "photoUrl": "//lh6.googleusercontent.com/-l4lv-T3P6-c/AAAAAAAAAAI/AAAAAAAABIA/4wtQ8ehIzZw/s50-c-k-no/photo.jpg",
      "userId": "115188476170888991569"
     },
     "user_tz": 420
    },
    "id": "gljdLvawTr5t",
    "outputId": "dc38ccf4-393c-4a2d-b15f-704f1de908f7"
   },
   "outputs": [
    {
     "data": {
      "text/html": [
       "<div>\n",
       "<style scoped>\n",
       "    .dataframe tbody tr th:only-of-type {\n",
       "        vertical-align: middle;\n",
       "    }\n",
       "\n",
       "    .dataframe tbody tr th {\n",
       "        vertical-align: top;\n",
       "    }\n",
       "\n",
       "    .dataframe thead th {\n",
       "        text-align: right;\n",
       "    }\n",
       "</style>\n",
       "<table border=\"1\" class=\"dataframe\">\n",
       "  <thead>\n",
       "    <tr style=\"text-align: right;\">\n",
       "      <th></th>\n",
       "      <th>Supplier_ID</th>\n",
       "      <th>Name</th>\n",
       "      <th>City</th>\n",
       "    </tr>\n",
       "  </thead>\n",
       "  <tbody>\n",
       "    <tr>\n",
       "      <th>0</th>\n",
       "      <td>40001</td>\n",
       "      <td>Music Vibrations, Inc</td>\n",
       "      <td>Oakland</td>\n",
       "    </tr>\n",
       "    <tr>\n",
       "      <th>1</th>\n",
       "      <td>40002</td>\n",
       "      <td>BioMed Inc</td>\n",
       "      <td>San Francisco</td>\n",
       "    </tr>\n",
       "    <tr>\n",
       "      <th>2</th>\n",
       "      <td>40003</td>\n",
       "      <td>FashionRUs</td>\n",
       "      <td>San Jose</td>\n",
       "    </tr>\n",
       "    <tr>\n",
       "      <th>3</th>\n",
       "      <td>40004</td>\n",
       "      <td>Studio Warehouse</td>\n",
       "      <td>San Francisco</td>\n",
       "    </tr>\n",
       "    <tr>\n",
       "      <th>4</th>\n",
       "      <td>40005</td>\n",
       "      <td>CompTech, Inc</td>\n",
       "      <td>San Jose</td>\n",
       "    </tr>\n",
       "  </tbody>\n",
       "</table>\n",
       "</div>"
      ],
      "text/plain": [
       "   Supplier_ID                   Name           City\n",
       "0        40001  Music Vibrations, Inc        Oakland\n",
       "1        40002             BioMed Inc  San Francisco\n",
       "2        40003             FashionRUs       San Jose\n",
       "3        40004       Studio Warehouse  San Francisco\n",
       "4        40005          CompTech, Inc       San Jose"
      ]
     },
     "execution_count": 70,
     "metadata": {
      "tags": []
     },
     "output_type": "execute_result"
    }
   ],
   "source": [
    "supplier_df"
   ]
  },
  {
   "cell_type": "code",
   "execution_count": 71,
   "metadata": {
    "colab": {
     "autoexec": {
      "startup": false,
      "wait_interval": 0
     },
     "base_uri": "https://localhost:8080/",
     "height": 289
    },
    "colab_type": "code",
    "executionInfo": {
     "elapsed": 357,
     "status": "ok",
     "timestamp": 1531520912293,
     "user": {
      "displayName": "Tairi Delgado",
      "photoUrl": "//lh6.googleusercontent.com/-l4lv-T3P6-c/AAAAAAAAAAI/AAAAAAAABIA/4wtQ8ehIzZw/s50-c-k-no/photo.jpg",
      "userId": "115188476170888991569"
     },
     "user_tz": 420
    },
    "id": "hxXGgvpvTzWP",
    "outputId": "e89c1629-543c-49ed-cfc0-eeaacd46fcd3"
   },
   "outputs": [
    {
     "data": {
      "text/plain": [
       "0  Supplier_ID                    40001\n",
       "   Name           Music Vibrations, Inc\n",
       "   City                         Oakland\n",
       "1  Supplier_ID                    40002\n",
       "   Name                      BioMed Inc\n",
       "   City                   San Francisco\n",
       "2  Supplier_ID                    40003\n",
       "   Name                      FashionRUs\n",
       "   City                        San Jose\n",
       "3  Supplier_ID                    40004\n",
       "   Name                Studio Warehouse\n",
       "   City                   San Francisco\n",
       "4  Supplier_ID                    40005\n",
       "   Name                   CompTech, Inc\n",
       "   City                        San Jose\n",
       "dtype: object"
      ]
     },
     "execution_count": 71,
     "metadata": {
      "tags": []
     },
     "output_type": "execute_result"
    }
   ],
   "source": [
    "supplier_df.stack()"
   ]
  },
  {
   "cell_type": "code",
   "execution_count": 72,
   "metadata": {
    "colab": {
     "autoexec": {
      "startup": false,
      "wait_interval": 0
     },
     "base_uri": "https://localhost:8080/",
     "height": 390
    },
    "colab_type": "code",
    "executionInfo": {
     "elapsed": 393,
     "status": "ok",
     "timestamp": 1531520917070,
     "user": {
      "displayName": "Tairi Delgado",
      "photoUrl": "//lh6.googleusercontent.com/-l4lv-T3P6-c/AAAAAAAAAAI/AAAAAAAABIA/4wtQ8ehIzZw/s50-c-k-no/photo.jpg",
      "userId": "115188476170888991569"
     },
     "user_tz": 420
    },
    "id": "8bv_xuuZUCuZ",
    "outputId": "956adbec-8c48-4dad-d565-39f84af17dd6"
   },
   "outputs": [
    {
     "data": {
      "text/html": [
       "<div>\n",
       "<style scoped>\n",
       "    .dataframe tbody tr th:only-of-type {\n",
       "        vertical-align: middle;\n",
       "    }\n",
       "\n",
       "    .dataframe tbody tr th {\n",
       "        vertical-align: top;\n",
       "    }\n",
       "\n",
       "    .dataframe thead th {\n",
       "        text-align: right;\n",
       "    }\n",
       "</style>\n",
       "<table border=\"1\" class=\"dataframe\">\n",
       "  <thead>\n",
       "    <tr style=\"text-align: right;\">\n",
       "      <th></th>\n",
       "      <th>Order_ID</th>\n",
       "      <th>Customer_ID</th>\n",
       "      <th>Product_ID</th>\n",
       "      <th>Employee_ID</th>\n",
       "      <th>Date</th>\n",
       "    </tr>\n",
       "  </thead>\n",
       "  <tbody>\n",
       "    <tr>\n",
       "      <th>0</th>\n",
       "      <td>50001</td>\n",
       "      <td>20005</td>\n",
       "      <td>30005</td>\n",
       "      <td>10001</td>\n",
       "      <td>17-02-12</td>\n",
       "    </tr>\n",
       "    <tr>\n",
       "      <th>1</th>\n",
       "      <td>50002</td>\n",
       "      <td>20003</td>\n",
       "      <td>30008</td>\n",
       "      <td>10011</td>\n",
       "      <td>17-09-03</td>\n",
       "    </tr>\n",
       "    <tr>\n",
       "      <th>2</th>\n",
       "      <td>50003</td>\n",
       "      <td>20010</td>\n",
       "      <td>30001</td>\n",
       "      <td>10009</td>\n",
       "      <td>17-11-23</td>\n",
       "    </tr>\n",
       "    <tr>\n",
       "      <th>3</th>\n",
       "      <td>50004</td>\n",
       "      <td>20004</td>\n",
       "      <td>30008</td>\n",
       "      <td>10010</td>\n",
       "      <td>17-01-28</td>\n",
       "    </tr>\n",
       "    <tr>\n",
       "      <th>4</th>\n",
       "      <td>50005</td>\n",
       "      <td>20008</td>\n",
       "      <td>30012</td>\n",
       "      <td>10002</td>\n",
       "      <td>17-08-11</td>\n",
       "    </tr>\n",
       "    <tr>\n",
       "      <th>5</th>\n",
       "      <td>50006</td>\n",
       "      <td>20011</td>\n",
       "      <td>30011</td>\n",
       "      <td>10001</td>\n",
       "      <td>17-04-13</td>\n",
       "    </tr>\n",
       "    <tr>\n",
       "      <th>6</th>\n",
       "      <td>50007</td>\n",
       "      <td>20012</td>\n",
       "      <td>30002</td>\n",
       "      <td>10007</td>\n",
       "      <td>17-10-07</td>\n",
       "    </tr>\n",
       "    <tr>\n",
       "      <th>7</th>\n",
       "      <td>50008</td>\n",
       "      <td>20002</td>\n",
       "      <td>30001</td>\n",
       "      <td>10004</td>\n",
       "      <td>17-03-09</td>\n",
       "    </tr>\n",
       "    <tr>\n",
       "      <th>8</th>\n",
       "      <td>50009</td>\n",
       "      <td>20001</td>\n",
       "      <td>30006</td>\n",
       "      <td>10009</td>\n",
       "      <td>17-12-26</td>\n",
       "    </tr>\n",
       "    <tr>\n",
       "      <th>9</th>\n",
       "      <td>50010</td>\n",
       "      <td>20013</td>\n",
       "      <td>30004</td>\n",
       "      <td>10008</td>\n",
       "      <td>17-04-11</td>\n",
       "    </tr>\n",
       "    <tr>\n",
       "      <th>10</th>\n",
       "      <td>50011</td>\n",
       "      <td>20014</td>\n",
       "      <td>30007</td>\n",
       "      <td>10010</td>\n",
       "      <td>17-09-16</td>\n",
       "    </tr>\n",
       "  </tbody>\n",
       "</table>\n",
       "</div>"
      ],
      "text/plain": [
       "    Order_ID  Customer_ID  Product_ID  Employee_ID      Date\n",
       "0      50001        20005       30005        10001  17-02-12\n",
       "1      50002        20003       30008        10011  17-09-03\n",
       "2      50003        20010       30001        10009  17-11-23\n",
       "3      50004        20004       30008        10010  17-01-28\n",
       "4      50005        20008       30012        10002  17-08-11\n",
       "5      50006        20011       30011        10001  17-04-13\n",
       "6      50007        20012       30002        10007  17-10-07\n",
       "7      50008        20002       30001        10004  17-03-09\n",
       "8      50009        20001       30006        10009  17-12-26\n",
       "9      50010        20013       30004        10008  17-04-11\n",
       "10     50011        20014       30007        10010  17-09-16"
      ]
     },
     "execution_count": 72,
     "metadata": {
      "tags": []
     },
     "output_type": "execute_result"
    }
   ],
   "source": [
    "orders_df"
   ]
  },
  {
   "cell_type": "code",
   "execution_count": 73,
   "metadata": {
    "colab": {
     "autoexec": {
      "startup": false,
      "wait_interval": 0
     },
     "base_uri": "https://localhost:8080/",
     "height": 969
    },
    "colab_type": "code",
    "executionInfo": {
     "elapsed": 436,
     "status": "ok",
     "timestamp": 1531520920639,
     "user": {
      "displayName": "Tairi Delgado",
      "photoUrl": "//lh6.googleusercontent.com/-l4lv-T3P6-c/AAAAAAAAAAI/AAAAAAAABIA/4wtQ8ehIzZw/s50-c-k-no/photo.jpg",
      "userId": "115188476170888991569"
     },
     "user_tz": 420
    },
    "id": "zHIUHxLDUFyL",
    "outputId": "7784dd43-36fa-4c0f-a255-050bedc9fd10"
   },
   "outputs": [
    {
     "data": {
      "text/plain": [
       "0   Order_ID          50001\n",
       "    Customer_ID       20005\n",
       "    Product_ID        30005\n",
       "    Employee_ID       10001\n",
       "    Date           17-02-12\n",
       "1   Order_ID          50002\n",
       "    Customer_ID       20003\n",
       "    Product_ID        30008\n",
       "    Employee_ID       10011\n",
       "    Date           17-09-03\n",
       "2   Order_ID          50003\n",
       "    Customer_ID       20010\n",
       "    Product_ID        30001\n",
       "    Employee_ID       10009\n",
       "    Date           17-11-23\n",
       "3   Order_ID          50004\n",
       "    Customer_ID       20004\n",
       "    Product_ID        30008\n",
       "    Employee_ID       10010\n",
       "    Date           17-01-28\n",
       "4   Order_ID          50005\n",
       "    Customer_ID       20008\n",
       "    Product_ID        30012\n",
       "    Employee_ID       10002\n",
       "    Date           17-08-11\n",
       "5   Order_ID          50006\n",
       "    Customer_ID       20011\n",
       "    Product_ID        30011\n",
       "    Employee_ID       10001\n",
       "    Date           17-04-13\n",
       "6   Order_ID          50007\n",
       "    Customer_ID       20012\n",
       "    Product_ID        30002\n",
       "    Employee_ID       10007\n",
       "    Date           17-10-07\n",
       "7   Order_ID          50008\n",
       "    Customer_ID       20002\n",
       "    Product_ID        30001\n",
       "    Employee_ID       10004\n",
       "    Date           17-03-09\n",
       "8   Order_ID          50009\n",
       "    Customer_ID       20001\n",
       "    Product_ID        30006\n",
       "    Employee_ID       10009\n",
       "    Date           17-12-26\n",
       "9   Order_ID          50010\n",
       "    Customer_ID       20013\n",
       "    Product_ID        30004\n",
       "    Employee_ID       10008\n",
       "    Date           17-04-11\n",
       "10  Order_ID          50011\n",
       "    Customer_ID       20014\n",
       "    Product_ID        30007\n",
       "    Employee_ID       10010\n",
       "    Date           17-09-16\n",
       "dtype: object"
      ]
     },
     "execution_count": 73,
     "metadata": {
      "tags": []
     },
     "output_type": "execute_result"
    }
   ],
   "source": [
    "orders_df.stack()"
   ]
  },
  {
   "cell_type": "code",
   "execution_count": 74,
   "metadata": {
    "colab": {
     "autoexec": {
      "startup": false,
      "wait_interval": 0
     },
     "base_uri": "https://localhost:8080/",
     "height": 359
    },
    "colab_type": "code",
    "executionInfo": {
     "elapsed": 572,
     "status": "ok",
     "timestamp": 1531520927394,
     "user": {
      "displayName": "Tairi Delgado",
      "photoUrl": "//lh6.googleusercontent.com/-l4lv-T3P6-c/AAAAAAAAAAI/AAAAAAAABIA/4wtQ8ehIzZw/s50-c-k-no/photo.jpg",
      "userId": "115188476170888991569"
     },
     "user_tz": 420
    },
    "id": "36bicEnpUSSj",
    "outputId": "8771a95e-d946-4528-cd32-ccc67cc584ab"
   },
   "outputs": [
    {
     "data": {
      "text/html": [
       "<div>\n",
       "<style scoped>\n",
       "    .dataframe tbody tr th:only-of-type {\n",
       "        vertical-align: middle;\n",
       "    }\n",
       "\n",
       "    .dataframe tbody tr th {\n",
       "        vertical-align: top;\n",
       "    }\n",
       "\n",
       "    .dataframe thead th {\n",
       "        text-align: right;\n",
       "    }\n",
       "</style>\n",
       "<table border=\"1\" class=\"dataframe\">\n",
       "  <thead>\n",
       "    <tr style=\"text-align: right;\">\n",
       "      <th></th>\n",
       "      <th>Order_ID</th>\n",
       "      <th>Customer_ID</th>\n",
       "      <th>Employee_ID</th>\n",
       "      <th>Date</th>\n",
       "    </tr>\n",
       "    <tr>\n",
       "      <th>Product_ID</th>\n",
       "      <th></th>\n",
       "      <th></th>\n",
       "      <th></th>\n",
       "      <th></th>\n",
       "    </tr>\n",
       "  </thead>\n",
       "  <tbody>\n",
       "    <tr>\n",
       "      <th>30001</th>\n",
       "      <td>2</td>\n",
       "      <td>2</td>\n",
       "      <td>2</td>\n",
       "      <td>2</td>\n",
       "    </tr>\n",
       "    <tr>\n",
       "      <th>30002</th>\n",
       "      <td>1</td>\n",
       "      <td>1</td>\n",
       "      <td>1</td>\n",
       "      <td>1</td>\n",
       "    </tr>\n",
       "    <tr>\n",
       "      <th>30004</th>\n",
       "      <td>1</td>\n",
       "      <td>1</td>\n",
       "      <td>1</td>\n",
       "      <td>1</td>\n",
       "    </tr>\n",
       "    <tr>\n",
       "      <th>30005</th>\n",
       "      <td>1</td>\n",
       "      <td>1</td>\n",
       "      <td>1</td>\n",
       "      <td>1</td>\n",
       "    </tr>\n",
       "    <tr>\n",
       "      <th>30006</th>\n",
       "      <td>1</td>\n",
       "      <td>1</td>\n",
       "      <td>1</td>\n",
       "      <td>1</td>\n",
       "    </tr>\n",
       "    <tr>\n",
       "      <th>30007</th>\n",
       "      <td>1</td>\n",
       "      <td>1</td>\n",
       "      <td>1</td>\n",
       "      <td>1</td>\n",
       "    </tr>\n",
       "    <tr>\n",
       "      <th>30008</th>\n",
       "      <td>2</td>\n",
       "      <td>2</td>\n",
       "      <td>2</td>\n",
       "      <td>2</td>\n",
       "    </tr>\n",
       "    <tr>\n",
       "      <th>30011</th>\n",
       "      <td>1</td>\n",
       "      <td>1</td>\n",
       "      <td>1</td>\n",
       "      <td>1</td>\n",
       "    </tr>\n",
       "    <tr>\n",
       "      <th>30012</th>\n",
       "      <td>1</td>\n",
       "      <td>1</td>\n",
       "      <td>1</td>\n",
       "      <td>1</td>\n",
       "    </tr>\n",
       "  </tbody>\n",
       "</table>\n",
       "</div>"
      ],
      "text/plain": [
       "            Order_ID  Customer_ID  Employee_ID  Date\n",
       "Product_ID                                          \n",
       "30001              2            2            2     2\n",
       "30002              1            1            1     1\n",
       "30004              1            1            1     1\n",
       "30005              1            1            1     1\n",
       "30006              1            1            1     1\n",
       "30007              1            1            1     1\n",
       "30008              2            2            2     2\n",
       "30011              1            1            1     1\n",
       "30012              1            1            1     1"
      ]
     },
     "execution_count": 74,
     "metadata": {
      "tags": []
     },
     "output_type": "execute_result"
    }
   ],
   "source": [
    "orders_df.groupby('Product_ID').count()"
   ]
  },
  {
   "cell_type": "code",
   "execution_count": 75,
   "metadata": {
    "colab": {
     "autoexec": {
      "startup": false,
      "wait_interval": 0
     },
     "base_uri": "https://localhost:8080/",
     "height": 235
    },
    "colab_type": "code",
    "executionInfo": {
     "elapsed": 543,
     "status": "ok",
     "timestamp": 1531520931409,
     "user": {
      "displayName": "Tairi Delgado",
      "photoUrl": "//lh6.googleusercontent.com/-l4lv-T3P6-c/AAAAAAAAAAI/AAAAAAAABIA/4wtQ8ehIzZw/s50-c-k-no/photo.jpg",
      "userId": "115188476170888991569"
     },
     "user_tz": 420
    },
    "id": "K6_1o9y1UqQH",
    "outputId": "592f33a6-1c29-46cd-bba8-46c27421f06b"
   },
   "outputs": [
    {
     "data": {
      "text/html": [
       "<div>\n",
       "<style scoped>\n",
       "    .dataframe tbody tr th:only-of-type {\n",
       "        vertical-align: middle;\n",
       "    }\n",
       "\n",
       "    .dataframe tbody tr th {\n",
       "        vertical-align: top;\n",
       "    }\n",
       "\n",
       "    .dataframe thead th {\n",
       "        text-align: right;\n",
       "    }\n",
       "</style>\n",
       "<table border=\"1\" class=\"dataframe\">\n",
       "  <thead>\n",
       "    <tr style=\"text-align: right;\">\n",
       "      <th></th>\n",
       "      <th>Price</th>\n",
       "    </tr>\n",
       "    <tr>\n",
       "      <th>Supplier_Name</th>\n",
       "      <th></th>\n",
       "    </tr>\n",
       "  </thead>\n",
       "  <tbody>\n",
       "    <tr>\n",
       "      <th>BioMed Inc</th>\n",
       "      <td>48.90</td>\n",
       "    </tr>\n",
       "    <tr>\n",
       "      <th>CompTech, Inc</th>\n",
       "      <td>206.98</td>\n",
       "    </tr>\n",
       "    <tr>\n",
       "      <th>FashionRUs</th>\n",
       "      <td>45.44</td>\n",
       "    </tr>\n",
       "    <tr>\n",
       "      <th>Music Vibrations, Inc</th>\n",
       "      <td>77.65</td>\n",
       "    </tr>\n",
       "    <tr>\n",
       "      <th>Studio Warehouse</th>\n",
       "      <td>69.31</td>\n",
       "    </tr>\n",
       "  </tbody>\n",
       "</table>\n",
       "</div>"
      ],
      "text/plain": [
       "                        Price\n",
       "Supplier_Name                \n",
       "BioMed Inc              48.90\n",
       "CompTech, Inc          206.98\n",
       "FashionRUs              45.44\n",
       "Music Vibrations, Inc   77.65\n",
       "Studio Warehouse        69.31"
      ]
     },
     "execution_count": 75,
     "metadata": {
      "tags": []
     },
     "output_type": "execute_result"
    }
   ],
   "source": [
    "product_df[['Supplier_Name','Price']].groupby('Supplier_Name').sum()"
   ]
  },
  {
   "cell_type": "code",
   "execution_count": 76,
   "metadata": {
    "colab": {
     "autoexec": {
      "startup": false,
      "wait_interval": 0
     },
     "base_uri": "https://localhost:8080/",
     "height": 452
    },
    "colab_type": "code",
    "executionInfo": {
     "elapsed": 355,
     "status": "ok",
     "timestamp": 1531520936493,
     "user": {
      "displayName": "Tairi Delgado",
      "photoUrl": "//lh6.googleusercontent.com/-l4lv-T3P6-c/AAAAAAAAAAI/AAAAAAAABIA/4wtQ8ehIzZw/s50-c-k-no/photo.jpg",
      "userId": "115188476170888991569"
     },
     "user_tz": 420
    },
    "id": "ylcD4LjbVDM0",
    "outputId": "7a846bb9-d459-4539-abc7-64cad9656d70"
   },
   "outputs": [
    {
     "data": {
      "text/html": [
       "<div>\n",
       "<style scoped>\n",
       "    .dataframe tbody tr th:only-of-type {\n",
       "        vertical-align: middle;\n",
       "    }\n",
       "\n",
       "    .dataframe tbody tr th {\n",
       "        vertical-align: top;\n",
       "    }\n",
       "\n",
       "    .dataframe thead th {\n",
       "        text-align: right;\n",
       "    }\n",
       "</style>\n",
       "<table border=\"1\" class=\"dataframe\">\n",
       "  <thead>\n",
       "    <tr style=\"text-align: right;\">\n",
       "      <th></th>\n",
       "      <th></th>\n",
       "      <th>Price</th>\n",
       "    </tr>\n",
       "    <tr>\n",
       "      <th>Supplier_Name</th>\n",
       "      <th>Product_ID</th>\n",
       "      <th></th>\n",
       "    </tr>\n",
       "  </thead>\n",
       "  <tbody>\n",
       "    <tr>\n",
       "      <th rowspan=\"4\" valign=\"top\">BioMed Inc</th>\n",
       "      <th>30002</th>\n",
       "      <td>4.50</td>\n",
       "    </tr>\n",
       "    <tr>\n",
       "      <th>30007</th>\n",
       "      <td>3.67</td>\n",
       "    </tr>\n",
       "    <tr>\n",
       "      <th>30008</th>\n",
       "      <td>23.96</td>\n",
       "    </tr>\n",
       "    <tr>\n",
       "      <th>30010</th>\n",
       "      <td>16.77</td>\n",
       "    </tr>\n",
       "    <tr>\n",
       "      <th rowspan=\"2\" valign=\"top\">CompTech, Inc</th>\n",
       "      <th>30003</th>\n",
       "      <td>56.99</td>\n",
       "    </tr>\n",
       "    <tr>\n",
       "      <th>30011</th>\n",
       "      <td>149.99</td>\n",
       "    </tr>\n",
       "    <tr>\n",
       "      <th rowspan=\"2\" valign=\"top\">FashionRUs</th>\n",
       "      <th>30004</th>\n",
       "      <td>34.35</td>\n",
       "    </tr>\n",
       "    <tr>\n",
       "      <th>30006</th>\n",
       "      <td>11.09</td>\n",
       "    </tr>\n",
       "    <tr>\n",
       "      <th rowspan=\"2\" valign=\"top\">Music Vibrations, Inc</th>\n",
       "      <th>30005</th>\n",
       "      <td>46.21</td>\n",
       "    </tr>\n",
       "    <tr>\n",
       "      <th>30009</th>\n",
       "      <td>31.44</td>\n",
       "    </tr>\n",
       "    <tr>\n",
       "      <th rowspan=\"2\" valign=\"top\">Studio Warehouse</th>\n",
       "      <th>30001</th>\n",
       "      <td>12.98</td>\n",
       "    </tr>\n",
       "    <tr>\n",
       "      <th>30012</th>\n",
       "      <td>56.33</td>\n",
       "    </tr>\n",
       "  </tbody>\n",
       "</table>\n",
       "</div>"
      ],
      "text/plain": [
       "                                   Price\n",
       "Supplier_Name         Product_ID        \n",
       "BioMed Inc            30002         4.50\n",
       "                      30007         3.67\n",
       "                      30008        23.96\n",
       "                      30010        16.77\n",
       "CompTech, Inc         30003        56.99\n",
       "                      30011       149.99\n",
       "FashionRUs            30004        34.35\n",
       "                      30006        11.09\n",
       "Music Vibrations, Inc 30005        46.21\n",
       "                      30009        31.44\n",
       "Studio Warehouse      30001        12.98\n",
       "                      30012        56.33"
      ]
     },
     "execution_count": 76,
     "metadata": {
      "tags": []
     },
     "output_type": "execute_result"
    }
   ],
   "source": [
    "product_df[['Supplier_Name','Product_ID','Price']].groupby(['Supplier_Name','Product_ID']).sum()"
   ]
  },
  {
   "cell_type": "markdown",
   "metadata": {
    "colab_type": "text",
    "id": "qoDvRtXNqr_F"
   },
   "source": [
    "## Panda Series Math Operations"
   ]
  },
  {
   "cell_type": "markdown",
   "metadata": {
    "colab_type": "text",
    "id": "M9XQjcIEstQx"
   },
   "source": [
    "**Scalar and vector addition**"
   ]
  },
  {
   "cell_type": "code",
   "execution_count": 0,
   "metadata": {
    "colab": {
     "autoexec": {
      "startup": false,
      "wait_interval": 0
     },
     "base_uri": "https://localhost:8080/",
     "height": 140
    },
    "colab_type": "code",
    "executionInfo": {
     "elapsed": 314,
     "status": "ok",
     "timestamp": 1524636747298,
     "user": {
      "displayName": "Tairi Delgado",
      "photoUrl": "//lh6.googleusercontent.com/-l4lv-T3P6-c/AAAAAAAAAAI/AAAAAAAABIA/4wtQ8ehIzZw/s50-c-k-no/photo.jpg",
      "userId": "115188476170888991569"
     },
     "user_tz": 420
    },
    "id": "ZMk9E1u1blPI",
    "outputId": "734a2402-f0f9-400f-e181-07c9828823e2"
   },
   "outputs": [
    {
     "data": {
      "text/html": [
       "<div>\n",
       "<style scoped>\n",
       "    .dataframe tbody tr th:only-of-type {\n",
       "        vertical-align: middle;\n",
       "    }\n",
       "\n",
       "    .dataframe tbody tr th {\n",
       "        vertical-align: top;\n",
       "    }\n",
       "\n",
       "    .dataframe thead th {\n",
       "        text-align: right;\n",
       "    }\n",
       "</style>\n",
       "<table border=\"1\" class=\"dataframe\">\n",
       "  <thead>\n",
       "    <tr style=\"text-align: right;\">\n",
       "      <th></th>\n",
       "      <th>0</th>\n",
       "      <th>1</th>\n",
       "      <th>2</th>\n",
       "    </tr>\n",
       "  </thead>\n",
       "  <tbody>\n",
       "    <tr>\n",
       "      <th>0</th>\n",
       "      <td>1</td>\n",
       "      <td>2</td>\n",
       "      <td>3</td>\n",
       "    </tr>\n",
       "    <tr>\n",
       "      <th>1</th>\n",
       "      <td>2</td>\n",
       "      <td>4</td>\n",
       "      <td>6</td>\n",
       "    </tr>\n",
       "    <tr>\n",
       "      <th>2</th>\n",
       "      <td>6</td>\n",
       "      <td>3</td>\n",
       "      <td>4</td>\n",
       "    </tr>\n",
       "  </tbody>\n",
       "</table>\n",
       "</div>"
      ],
      "text/plain": [
       "   0  1  2\n",
       "0  1  2  3\n",
       "1  2  4  6\n",
       "2  6  3  4"
      ]
     },
     "execution_count": 189,
     "metadata": {
      "tags": []
     },
     "output_type": "execute_result"
    }
   ],
   "source": [
    "df"
   ]
  },
  {
   "cell_type": "code",
   "execution_count": 0,
   "metadata": {
    "colab": {
     "autoexec": {
      "startup": false,
      "wait_interval": 0
     },
     "base_uri": "https://localhost:8080/",
     "height": 140
    },
    "colab_type": "code",
    "executionInfo": {
     "elapsed": 326,
     "status": "ok",
     "timestamp": 1524636760837,
     "user": {
      "displayName": "Tairi Delgado",
      "photoUrl": "//lh6.googleusercontent.com/-l4lv-T3P6-c/AAAAAAAAAAI/AAAAAAAABIA/4wtQ8ehIzZw/s50-c-k-no/photo.jpg",
      "userId": "115188476170888991569"
     },
     "user_tz": 420
    },
    "id": "DxfB0inJbo6W",
    "outputId": "8e683144-e0b6-4419-991b-1a08aa38276b"
   },
   "outputs": [
    {
     "data": {
      "text/html": [
       "<div>\n",
       "<style scoped>\n",
       "    .dataframe tbody tr th:only-of-type {\n",
       "        vertical-align: middle;\n",
       "    }\n",
       "\n",
       "    .dataframe tbody tr th {\n",
       "        vertical-align: top;\n",
       "    }\n",
       "\n",
       "    .dataframe thead th {\n",
       "        text-align: right;\n",
       "    }\n",
       "</style>\n",
       "<table border=\"1\" class=\"dataframe\">\n",
       "  <thead>\n",
       "    <tr style=\"text-align: right;\">\n",
       "      <th></th>\n",
       "      <th>0</th>\n",
       "      <th>1</th>\n",
       "      <th>2</th>\n",
       "    </tr>\n",
       "  </thead>\n",
       "  <tbody>\n",
       "    <tr>\n",
       "      <th>0</th>\n",
       "      <td>3</td>\n",
       "      <td>4</td>\n",
       "      <td>5</td>\n",
       "    </tr>\n",
       "    <tr>\n",
       "      <th>1</th>\n",
       "      <td>4</td>\n",
       "      <td>6</td>\n",
       "      <td>8</td>\n",
       "    </tr>\n",
       "    <tr>\n",
       "      <th>2</th>\n",
       "      <td>8</td>\n",
       "      <td>5</td>\n",
       "      <td>6</td>\n",
       "    </tr>\n",
       "  </tbody>\n",
       "</table>\n",
       "</div>"
      ],
      "text/plain": [
       "   0  1  2\n",
       "0  3  4  5\n",
       "1  4  6  8\n",
       "2  8  5  6"
      ]
     },
     "execution_count": 190,
     "metadata": {
      "tags": []
     },
     "output_type": "execute_result"
    }
   ],
   "source": [
    "df+2"
   ]
  },
  {
   "cell_type": "code",
   "execution_count": 0,
   "metadata": {
    "colab": {
     "autoexec": {
      "startup": false,
      "wait_interval": 0
     }
    },
    "colab_type": "code",
    "id": "twFrTmJnbupA"
   },
   "outputs": [],
   "source": [
    "df2 = pd.DataFrame([[10,20,30],[40,50,60],[70,80,90]])"
   ]
  },
  {
   "cell_type": "code",
   "execution_count": 0,
   "metadata": {
    "colab": {
     "autoexec": {
      "startup": false,
      "wait_interval": 0
     },
     "base_uri": "https://localhost:8080/",
     "height": 140
    },
    "colab_type": "code",
    "executionInfo": {
     "elapsed": 363,
     "status": "ok",
     "timestamp": 1524636827448,
     "user": {
      "displayName": "Tairi Delgado",
      "photoUrl": "//lh6.googleusercontent.com/-l4lv-T3P6-c/AAAAAAAAAAI/AAAAAAAABIA/4wtQ8ehIzZw/s50-c-k-no/photo.jpg",
      "userId": "115188476170888991569"
     },
     "user_tz": 420
    },
    "id": "LTA4CBVwb5NM",
    "outputId": "e91f4479-1ff3-4964-dc9a-07e67272110c"
   },
   "outputs": [
    {
     "data": {
      "text/html": [
       "<div>\n",
       "<style scoped>\n",
       "    .dataframe tbody tr th:only-of-type {\n",
       "        vertical-align: middle;\n",
       "    }\n",
       "\n",
       "    .dataframe tbody tr th {\n",
       "        vertical-align: top;\n",
       "    }\n",
       "\n",
       "    .dataframe thead th {\n",
       "        text-align: right;\n",
       "    }\n",
       "</style>\n",
       "<table border=\"1\" class=\"dataframe\">\n",
       "  <thead>\n",
       "    <tr style=\"text-align: right;\">\n",
       "      <th></th>\n",
       "      <th>0</th>\n",
       "      <th>1</th>\n",
       "      <th>2</th>\n",
       "    </tr>\n",
       "  </thead>\n",
       "  <tbody>\n",
       "    <tr>\n",
       "      <th>0</th>\n",
       "      <td>11</td>\n",
       "      <td>22</td>\n",
       "      <td>33</td>\n",
       "    </tr>\n",
       "    <tr>\n",
       "      <th>1</th>\n",
       "      <td>42</td>\n",
       "      <td>54</td>\n",
       "      <td>66</td>\n",
       "    </tr>\n",
       "    <tr>\n",
       "      <th>2</th>\n",
       "      <td>76</td>\n",
       "      <td>83</td>\n",
       "      <td>94</td>\n",
       "    </tr>\n",
       "  </tbody>\n",
       "</table>\n",
       "</div>"
      ],
      "text/plain": [
       "    0   1   2\n",
       "0  11  22  33\n",
       "1  42  54  66\n",
       "2  76  83  94"
      ]
     },
     "execution_count": 192,
     "metadata": {
      "tags": []
     },
     "output_type": "execute_result"
    }
   ],
   "source": [
    "df + df2"
   ]
  },
  {
   "cell_type": "markdown",
   "metadata": {
    "colab_type": "text",
    "id": "u21rrBQIsv2A"
   },
   "source": [
    "**Scalar and vector subtraction**"
   ]
  },
  {
   "cell_type": "code",
   "execution_count": 0,
   "metadata": {
    "colab": {
     "autoexec": {
      "startup": false,
      "wait_interval": 0
     },
     "base_uri": "https://localhost:8080/",
     "height": 140
    },
    "colab_type": "code",
    "executionInfo": {
     "elapsed": 323,
     "status": "ok",
     "timestamp": 1524636843108,
     "user": {
      "displayName": "Tairi Delgado",
      "photoUrl": "//lh6.googleusercontent.com/-l4lv-T3P6-c/AAAAAAAAAAI/AAAAAAAABIA/4wtQ8ehIzZw/s50-c-k-no/photo.jpg",
      "userId": "115188476170888991569"
     },
     "user_tz": 420
    },
    "id": "ywIQ53VVb9op",
    "outputId": "14c42365-5727-4dee-ed65-b418ca0b6b45"
   },
   "outputs": [
    {
     "data": {
      "text/html": [
       "<div>\n",
       "<style scoped>\n",
       "    .dataframe tbody tr th:only-of-type {\n",
       "        vertical-align: middle;\n",
       "    }\n",
       "\n",
       "    .dataframe tbody tr th {\n",
       "        vertical-align: top;\n",
       "    }\n",
       "\n",
       "    .dataframe thead th {\n",
       "        text-align: right;\n",
       "    }\n",
       "</style>\n",
       "<table border=\"1\" class=\"dataframe\">\n",
       "  <thead>\n",
       "    <tr style=\"text-align: right;\">\n",
       "      <th></th>\n",
       "      <th>0</th>\n",
       "      <th>1</th>\n",
       "      <th>2</th>\n",
       "    </tr>\n",
       "  </thead>\n",
       "  <tbody>\n",
       "    <tr>\n",
       "      <th>0</th>\n",
       "      <td>-19</td>\n",
       "      <td>-18</td>\n",
       "      <td>-17</td>\n",
       "    </tr>\n",
       "    <tr>\n",
       "      <th>1</th>\n",
       "      <td>-18</td>\n",
       "      <td>-16</td>\n",
       "      <td>-14</td>\n",
       "    </tr>\n",
       "    <tr>\n",
       "      <th>2</th>\n",
       "      <td>-14</td>\n",
       "      <td>-17</td>\n",
       "      <td>-16</td>\n",
       "    </tr>\n",
       "  </tbody>\n",
       "</table>\n",
       "</div>"
      ],
      "text/plain": [
       "    0   1   2\n",
       "0 -19 -18 -17\n",
       "1 -18 -16 -14\n",
       "2 -14 -17 -16"
      ]
     },
     "execution_count": 193,
     "metadata": {
      "tags": []
     },
     "output_type": "execute_result"
    }
   ],
   "source": [
    "df - 20"
   ]
  },
  {
   "cell_type": "code",
   "execution_count": 0,
   "metadata": {
    "colab": {
     "autoexec": {
      "startup": false,
      "wait_interval": 0
     },
     "base_uri": "https://localhost:8080/",
     "height": 140
    },
    "colab_type": "code",
    "executionInfo": {
     "elapsed": 312,
     "status": "ok",
     "timestamp": 1524636851967,
     "user": {
      "displayName": "Tairi Delgado",
      "photoUrl": "//lh6.googleusercontent.com/-l4lv-T3P6-c/AAAAAAAAAAI/AAAAAAAABIA/4wtQ8ehIzZw/s50-c-k-no/photo.jpg",
      "userId": "115188476170888991569"
     },
     "user_tz": 420
    },
    "id": "5H2y85BucAXU",
    "outputId": "3745d84a-13f5-4acb-b0c2-56b8d5c651a7"
   },
   "outputs": [
    {
     "data": {
      "text/html": [
       "<div>\n",
       "<style scoped>\n",
       "    .dataframe tbody tr th:only-of-type {\n",
       "        vertical-align: middle;\n",
       "    }\n",
       "\n",
       "    .dataframe tbody tr th {\n",
       "        vertical-align: top;\n",
       "    }\n",
       "\n",
       "    .dataframe thead th {\n",
       "        text-align: right;\n",
       "    }\n",
       "</style>\n",
       "<table border=\"1\" class=\"dataframe\">\n",
       "  <thead>\n",
       "    <tr style=\"text-align: right;\">\n",
       "      <th></th>\n",
       "      <th>0</th>\n",
       "      <th>1</th>\n",
       "      <th>2</th>\n",
       "    </tr>\n",
       "  </thead>\n",
       "  <tbody>\n",
       "    <tr>\n",
       "      <th>0</th>\n",
       "      <td>-9</td>\n",
       "      <td>-18</td>\n",
       "      <td>-27</td>\n",
       "    </tr>\n",
       "    <tr>\n",
       "      <th>1</th>\n",
       "      <td>-38</td>\n",
       "      <td>-46</td>\n",
       "      <td>-54</td>\n",
       "    </tr>\n",
       "    <tr>\n",
       "      <th>2</th>\n",
       "      <td>-64</td>\n",
       "      <td>-77</td>\n",
       "      <td>-86</td>\n",
       "    </tr>\n",
       "  </tbody>\n",
       "</table>\n",
       "</div>"
      ],
      "text/plain": [
       "    0   1   2\n",
       "0  -9 -18 -27\n",
       "1 -38 -46 -54\n",
       "2 -64 -77 -86"
      ]
     },
     "execution_count": 194,
     "metadata": {
      "tags": []
     },
     "output_type": "execute_result"
    }
   ],
   "source": [
    "df - df2"
   ]
  },
  {
   "cell_type": "markdown",
   "metadata": {
    "colab_type": "text",
    "id": "1B4q5YRrsxSV"
   },
   "source": [
    "**Scalar and vector multiplication**"
   ]
  },
  {
   "cell_type": "code",
   "execution_count": 0,
   "metadata": {
    "colab": {
     "autoexec": {
      "startup": false,
      "wait_interval": 0
     },
     "base_uri": "https://localhost:8080/",
     "height": 140
    },
    "colab_type": "code",
    "executionInfo": {
     "elapsed": 373,
     "status": "ok",
     "timestamp": 1524636876333,
     "user": {
      "displayName": "Tairi Delgado",
      "photoUrl": "//lh6.googleusercontent.com/-l4lv-T3P6-c/AAAAAAAAAAI/AAAAAAAABIA/4wtQ8ehIzZw/s50-c-k-no/photo.jpg",
      "userId": "115188476170888991569"
     },
     "user_tz": 420
    },
    "id": "WQRvgMRZcC72",
    "outputId": "8279569b-1cee-43b7-e128-b9f15319623f"
   },
   "outputs": [
    {
     "data": {
      "text/html": [
       "<div>\n",
       "<style scoped>\n",
       "    .dataframe tbody tr th:only-of-type {\n",
       "        vertical-align: middle;\n",
       "    }\n",
       "\n",
       "    .dataframe tbody tr th {\n",
       "        vertical-align: top;\n",
       "    }\n",
       "\n",
       "    .dataframe thead th {\n",
       "        text-align: right;\n",
       "    }\n",
       "</style>\n",
       "<table border=\"1\" class=\"dataframe\">\n",
       "  <thead>\n",
       "    <tr style=\"text-align: right;\">\n",
       "      <th></th>\n",
       "      <th>0</th>\n",
       "      <th>1</th>\n",
       "      <th>2</th>\n",
       "    </tr>\n",
       "  </thead>\n",
       "  <tbody>\n",
       "    <tr>\n",
       "      <th>0</th>\n",
       "      <td>10</td>\n",
       "      <td>20</td>\n",
       "      <td>30</td>\n",
       "    </tr>\n",
       "    <tr>\n",
       "      <th>1</th>\n",
       "      <td>20</td>\n",
       "      <td>40</td>\n",
       "      <td>60</td>\n",
       "    </tr>\n",
       "    <tr>\n",
       "      <th>2</th>\n",
       "      <td>60</td>\n",
       "      <td>30</td>\n",
       "      <td>40</td>\n",
       "    </tr>\n",
       "  </tbody>\n",
       "</table>\n",
       "</div>"
      ],
      "text/plain": [
       "    0   1   2\n",
       "0  10  20  30\n",
       "1  20  40  60\n",
       "2  60  30  40"
      ]
     },
     "execution_count": 196,
     "metadata": {
      "tags": []
     },
     "output_type": "execute_result"
    }
   ],
   "source": [
    "df *10"
   ]
  },
  {
   "cell_type": "code",
   "execution_count": 0,
   "metadata": {
    "colab": {
     "autoexec": {
      "startup": false,
      "wait_interval": 0
     }
    },
    "colab_type": "code",
    "id": "o9XgHguicIiJ"
   },
   "outputs": [],
   "source": [
    "s = pd.Series([-1,-2,3])"
   ]
  },
  {
   "cell_type": "code",
   "execution_count": 0,
   "metadata": {
    "colab": {
     "autoexec": {
      "startup": false,
      "wait_interval": 0
     },
     "base_uri": "https://localhost:8080/",
     "height": 140
    },
    "colab_type": "code",
    "executionInfo": {
     "elapsed": 334,
     "status": "ok",
     "timestamp": 1524636919210,
     "user": {
      "displayName": "Tairi Delgado",
      "photoUrl": "//lh6.googleusercontent.com/-l4lv-T3P6-c/AAAAAAAAAAI/AAAAAAAABIA/4wtQ8ehIzZw/s50-c-k-no/photo.jpg",
      "userId": "115188476170888991569"
     },
     "user_tz": 420
    },
    "id": "ipiRgqYGcPrA",
    "outputId": "04a0d1bb-589d-4f3e-8486-e6810a265467"
   },
   "outputs": [
    {
     "data": {
      "text/html": [
       "<div>\n",
       "<style scoped>\n",
       "    .dataframe tbody tr th:only-of-type {\n",
       "        vertical-align: middle;\n",
       "    }\n",
       "\n",
       "    .dataframe tbody tr th {\n",
       "        vertical-align: top;\n",
       "    }\n",
       "\n",
       "    .dataframe thead th {\n",
       "        text-align: right;\n",
       "    }\n",
       "</style>\n",
       "<table border=\"1\" class=\"dataframe\">\n",
       "  <thead>\n",
       "    <tr style=\"text-align: right;\">\n",
       "      <th></th>\n",
       "      <th>0</th>\n",
       "      <th>1</th>\n",
       "      <th>2</th>\n",
       "    </tr>\n",
       "  </thead>\n",
       "  <tbody>\n",
       "    <tr>\n",
       "      <th>0</th>\n",
       "      <td>-1</td>\n",
       "      <td>-4</td>\n",
       "      <td>9</td>\n",
       "    </tr>\n",
       "    <tr>\n",
       "      <th>1</th>\n",
       "      <td>-2</td>\n",
       "      <td>-8</td>\n",
       "      <td>18</td>\n",
       "    </tr>\n",
       "    <tr>\n",
       "      <th>2</th>\n",
       "      <td>-6</td>\n",
       "      <td>-6</td>\n",
       "      <td>12</td>\n",
       "    </tr>\n",
       "  </tbody>\n",
       "</table>\n",
       "</div>"
      ],
      "text/plain": [
       "   0  1   2\n",
       "0 -1 -4   9\n",
       "1 -2 -8  18\n",
       "2 -6 -6  12"
      ]
     },
     "execution_count": 198,
     "metadata": {
      "tags": []
     },
     "output_type": "execute_result"
    }
   ],
   "source": [
    "s * df"
   ]
  },
  {
   "cell_type": "markdown",
   "metadata": {
    "colab_type": "text",
    "id": "zfk9VevPsy8h"
   },
   "source": [
    "**Scalar and vector division**"
   ]
  },
  {
   "cell_type": "code",
   "execution_count": 0,
   "metadata": {
    "colab": {
     "autoexec": {
      "startup": false,
      "wait_interval": 0
     },
     "base_uri": "https://localhost:8080/",
     "height": 140
    },
    "colab_type": "code",
    "executionInfo": {
     "elapsed": 348,
     "status": "ok",
     "timestamp": 1524636932499,
     "user": {
      "displayName": "Tairi Delgado",
      "photoUrl": "//lh6.googleusercontent.com/-l4lv-T3P6-c/AAAAAAAAAAI/AAAAAAAABIA/4wtQ8ehIzZw/s50-c-k-no/photo.jpg",
      "userId": "115188476170888991569"
     },
     "user_tz": 420
    },
    "id": "SNPnhlAecT-G",
    "outputId": "0b8f8b65-4fe0-456a-b661-656309c70985"
   },
   "outputs": [
    {
     "data": {
      "text/html": [
       "<div>\n",
       "<style scoped>\n",
       "    .dataframe tbody tr th:only-of-type {\n",
       "        vertical-align: middle;\n",
       "    }\n",
       "\n",
       "    .dataframe tbody tr th {\n",
       "        vertical-align: top;\n",
       "    }\n",
       "\n",
       "    .dataframe thead th {\n",
       "        text-align: right;\n",
       "    }\n",
       "</style>\n",
       "<table border=\"1\" class=\"dataframe\">\n",
       "  <thead>\n",
       "    <tr style=\"text-align: right;\">\n",
       "      <th></th>\n",
       "      <th>0</th>\n",
       "      <th>1</th>\n",
       "      <th>2</th>\n",
       "    </tr>\n",
       "  </thead>\n",
       "  <tbody>\n",
       "    <tr>\n",
       "      <th>0</th>\n",
       "      <td>0.01</td>\n",
       "      <td>0.02</td>\n",
       "      <td>0.03</td>\n",
       "    </tr>\n",
       "    <tr>\n",
       "      <th>1</th>\n",
       "      <td>0.02</td>\n",
       "      <td>0.04</td>\n",
       "      <td>0.06</td>\n",
       "    </tr>\n",
       "    <tr>\n",
       "      <th>2</th>\n",
       "      <td>0.06</td>\n",
       "      <td>0.03</td>\n",
       "      <td>0.04</td>\n",
       "    </tr>\n",
       "  </tbody>\n",
       "</table>\n",
       "</div>"
      ],
      "text/plain": [
       "      0     1     2\n",
       "0  0.01  0.02  0.03\n",
       "1  0.02  0.04  0.06\n",
       "2  0.06  0.03  0.04"
      ]
     },
     "execution_count": 199,
     "metadata": {
      "tags": []
     },
     "output_type": "execute_result"
    }
   ],
   "source": [
    "df/100"
   ]
  },
  {
   "cell_type": "code",
   "execution_count": 0,
   "metadata": {
    "colab": {
     "autoexec": {
      "startup": false,
      "wait_interval": 0
     },
     "base_uri": "https://localhost:8080/",
     "height": 140
    },
    "colab_type": "code",
    "executionInfo": {
     "elapsed": 316,
     "status": "ok",
     "timestamp": 1524636939201,
     "user": {
      "displayName": "Tairi Delgado",
      "photoUrl": "//lh6.googleusercontent.com/-l4lv-T3P6-c/AAAAAAAAAAI/AAAAAAAABIA/4wtQ8ehIzZw/s50-c-k-no/photo.jpg",
      "userId": "115188476170888991569"
     },
     "user_tz": 420
    },
    "id": "pb9iUQMqcWLj",
    "outputId": "d05d97a1-40df-44aa-c0a8-049abe7c5440"
   },
   "outputs": [
    {
     "data": {
      "text/html": [
       "<div>\n",
       "<style scoped>\n",
       "    .dataframe tbody tr th:only-of-type {\n",
       "        vertical-align: middle;\n",
       "    }\n",
       "\n",
       "    .dataframe tbody tr th {\n",
       "        vertical-align: top;\n",
       "    }\n",
       "\n",
       "    .dataframe thead th {\n",
       "        text-align: right;\n",
       "    }\n",
       "</style>\n",
       "<table border=\"1\" class=\"dataframe\">\n",
       "  <thead>\n",
       "    <tr style=\"text-align: right;\">\n",
       "      <th></th>\n",
       "      <th>0</th>\n",
       "      <th>1</th>\n",
       "      <th>2</th>\n",
       "    </tr>\n",
       "  </thead>\n",
       "  <tbody>\n",
       "    <tr>\n",
       "      <th>0</th>\n",
       "      <td>-1.000000</td>\n",
       "      <td>-1.000000</td>\n",
       "      <td>1.00</td>\n",
       "    </tr>\n",
       "    <tr>\n",
       "      <th>1</th>\n",
       "      <td>-0.500000</td>\n",
       "      <td>-0.500000</td>\n",
       "      <td>0.50</td>\n",
       "    </tr>\n",
       "    <tr>\n",
       "      <th>2</th>\n",
       "      <td>-0.166667</td>\n",
       "      <td>-0.666667</td>\n",
       "      <td>0.75</td>\n",
       "    </tr>\n",
       "  </tbody>\n",
       "</table>\n",
       "</div>"
      ],
      "text/plain": [
       "          0         1     2\n",
       "0 -1.000000 -1.000000  1.00\n",
       "1 -0.500000 -0.500000  0.50\n",
       "2 -0.166667 -0.666667  0.75"
      ]
     },
     "execution_count": 200,
     "metadata": {
      "tags": []
     },
     "output_type": "execute_result"
    }
   ],
   "source": [
    "s/df"
   ]
  },
  {
   "cell_type": "markdown",
   "metadata": {
    "colab_type": "text",
    "id": "oNaJWKS2s0rZ"
   },
   "source": [
    "**Exponentials and roots**"
   ]
  },
  {
   "cell_type": "code",
   "execution_count": 0,
   "metadata": {
    "colab": {
     "autoexec": {
      "startup": false,
      "wait_interval": 0
     },
     "base_uri": "https://localhost:8080/",
     "height": 140
    },
    "colab_type": "code",
    "executionInfo": {
     "elapsed": 407,
     "status": "ok",
     "timestamp": 1524636955093,
     "user": {
      "displayName": "Tairi Delgado",
      "photoUrl": "//lh6.googleusercontent.com/-l4lv-T3P6-c/AAAAAAAAAAI/AAAAAAAABIA/4wtQ8ehIzZw/s50-c-k-no/photo.jpg",
      "userId": "115188476170888991569"
     },
     "user_tz": 420
    },
    "id": "-P8UnivZcYPO",
    "outputId": "cab6736a-69ea-4066-dfdd-9d124d797ede"
   },
   "outputs": [
    {
     "data": {
      "text/html": [
       "<div>\n",
       "<style scoped>\n",
       "    .dataframe tbody tr th:only-of-type {\n",
       "        vertical-align: middle;\n",
       "    }\n",
       "\n",
       "    .dataframe tbody tr th {\n",
       "        vertical-align: top;\n",
       "    }\n",
       "\n",
       "    .dataframe thead th {\n",
       "        text-align: right;\n",
       "    }\n",
       "</style>\n",
       "<table border=\"1\" class=\"dataframe\">\n",
       "  <thead>\n",
       "    <tr style=\"text-align: right;\">\n",
       "      <th></th>\n",
       "      <th>0</th>\n",
       "      <th>1</th>\n",
       "      <th>2</th>\n",
       "    </tr>\n",
       "  </thead>\n",
       "  <tbody>\n",
       "    <tr>\n",
       "      <th>0</th>\n",
       "      <td>1</td>\n",
       "      <td>8</td>\n",
       "      <td>27</td>\n",
       "    </tr>\n",
       "    <tr>\n",
       "      <th>1</th>\n",
       "      <td>8</td>\n",
       "      <td>64</td>\n",
       "      <td>216</td>\n",
       "    </tr>\n",
       "    <tr>\n",
       "      <th>2</th>\n",
       "      <td>216</td>\n",
       "      <td>27</td>\n",
       "      <td>64</td>\n",
       "    </tr>\n",
       "  </tbody>\n",
       "</table>\n",
       "</div>"
      ],
      "text/plain": [
       "     0   1    2\n",
       "0    1   8   27\n",
       "1    8  64  216\n",
       "2  216  27   64"
      ]
     },
     "execution_count": 201,
     "metadata": {
      "tags": []
     },
     "output_type": "execute_result"
    }
   ],
   "source": [
    "df**3"
   ]
  },
  {
   "cell_type": "code",
   "execution_count": 0,
   "metadata": {
    "colab": {
     "autoexec": {
      "startup": false,
      "wait_interval": 0
     },
     "base_uri": "https://localhost:8080/",
     "height": 140
    },
    "colab_type": "code",
    "executionInfo": {
     "elapsed": 341,
     "status": "ok",
     "timestamp": 1524636965559,
     "user": {
      "displayName": "Tairi Delgado",
      "photoUrl": "//lh6.googleusercontent.com/-l4lv-T3P6-c/AAAAAAAAAAI/AAAAAAAABIA/4wtQ8ehIzZw/s50-c-k-no/photo.jpg",
      "userId": "115188476170888991569"
     },
     "user_tz": 420
    },
    "id": "xXwBvXjRcbjV",
    "outputId": "2ba24065-967a-4725-a950-682e836df415"
   },
   "outputs": [
    {
     "data": {
      "text/html": [
       "<div>\n",
       "<style scoped>\n",
       "    .dataframe tbody tr th:only-of-type {\n",
       "        vertical-align: middle;\n",
       "    }\n",
       "\n",
       "    .dataframe tbody tr th {\n",
       "        vertical-align: top;\n",
       "    }\n",
       "\n",
       "    .dataframe thead th {\n",
       "        text-align: right;\n",
       "    }\n",
       "</style>\n",
       "<table border=\"1\" class=\"dataframe\">\n",
       "  <thead>\n",
       "    <tr style=\"text-align: right;\">\n",
       "      <th></th>\n",
       "      <th>0</th>\n",
       "      <th>1</th>\n",
       "      <th>2</th>\n",
       "    </tr>\n",
       "  </thead>\n",
       "  <tbody>\n",
       "    <tr>\n",
       "      <th>0</th>\n",
       "      <td>1.000000</td>\n",
       "      <td>1.414214</td>\n",
       "      <td>1.732051</td>\n",
       "    </tr>\n",
       "    <tr>\n",
       "      <th>1</th>\n",
       "      <td>1.414214</td>\n",
       "      <td>2.000000</td>\n",
       "      <td>2.449490</td>\n",
       "    </tr>\n",
       "    <tr>\n",
       "      <th>2</th>\n",
       "      <td>2.449490</td>\n",
       "      <td>1.732051</td>\n",
       "      <td>2.000000</td>\n",
       "    </tr>\n",
       "  </tbody>\n",
       "</table>\n",
       "</div>"
      ],
      "text/plain": [
       "          0         1         2\n",
       "0  1.000000  1.414214  1.732051\n",
       "1  1.414214  2.000000  2.449490\n",
       "2  2.449490  1.732051  2.000000"
      ]
     },
     "execution_count": 202,
     "metadata": {
      "tags": []
     },
     "output_type": "execute_result"
    }
   ],
   "source": [
    "df**(1/2)"
   ]
  },
  {
   "cell_type": "markdown",
   "metadata": {
    "colab_type": "text",
    "id": "9Ua9L0hSqtzF"
   },
   "source": [
    "## Panda DataFrame Statistics Operations"
   ]
  },
  {
   "cell_type": "markdown",
   "metadata": {
    "colab_type": "text",
    "id": "iFGd68qFs_vb"
   },
   "source": [
    "**Min/Max/Range**"
   ]
  },
  {
   "cell_type": "code",
   "execution_count": 77,
   "metadata": {
    "colab": {
     "autoexec": {
      "startup": false,
      "wait_interval": 0
     },
     "base_uri": "https://localhost:8080/",
     "height": 85
    },
    "colab_type": "code",
    "executionInfo": {
     "elapsed": 377,
     "status": "ok",
     "timestamp": 1531520970655,
     "user": {
      "displayName": "Tairi Delgado",
      "photoUrl": "//lh6.googleusercontent.com/-l4lv-T3P6-c/AAAAAAAAAAI/AAAAAAAABIA/4wtQ8ehIzZw/s50-c-k-no/photo.jpg",
      "userId": "115188476170888991569"
     },
     "user_tz": 420
    },
    "id": "ZFbYg904cnIx",
    "outputId": "0278dac1-6b7a-41c2-ca0e-fd0418ad0c71"
   },
   "outputs": [
    {
     "name": "stdout",
     "output_type": "stream",
     "text": [
      "0    1\n",
      "1    2\n",
      "2    3\n",
      "dtype: int64\n"
     ]
    }
   ],
   "source": [
    "df_min = df.min()\n",
    "print(df_min)"
   ]
  },
  {
   "cell_type": "code",
   "execution_count": 78,
   "metadata": {
    "colab": {
     "autoexec": {
      "startup": false,
      "wait_interval": 0
     },
     "base_uri": "https://localhost:8080/",
     "height": 85
    },
    "colab_type": "code",
    "executionInfo": {
     "elapsed": 503,
     "status": "ok",
     "timestamp": 1531520972707,
     "user": {
      "displayName": "Tairi Delgado",
      "photoUrl": "//lh6.googleusercontent.com/-l4lv-T3P6-c/AAAAAAAAAAI/AAAAAAAABIA/4wtQ8ehIzZw/s50-c-k-no/photo.jpg",
      "userId": "115188476170888991569"
     },
     "user_tz": 420
    },
    "id": "lwrC6NsFc7hJ",
    "outputId": "fdad5344-53bf-41dc-f9fd-b757af4063e0"
   },
   "outputs": [
    {
     "name": "stdout",
     "output_type": "stream",
     "text": [
      "0    6\n",
      "1    4\n",
      "2    6\n",
      "dtype: int64\n"
     ]
    }
   ],
   "source": [
    "df_max = df.max()\n",
    "print(df_max)"
   ]
  },
  {
   "cell_type": "code",
   "execution_count": 79,
   "metadata": {
    "colab": {
     "autoexec": {
      "startup": false,
      "wait_interval": 0
     },
     "base_uri": "https://localhost:8080/",
     "height": 85
    },
    "colab_type": "code",
    "executionInfo": {
     "elapsed": 362,
     "status": "ok",
     "timestamp": 1531520975072,
     "user": {
      "displayName": "Tairi Delgado",
      "photoUrl": "//lh6.googleusercontent.com/-l4lv-T3P6-c/AAAAAAAAAAI/AAAAAAAABIA/4wtQ8ehIzZw/s50-c-k-no/photo.jpg",
      "userId": "115188476170888991569"
     },
     "user_tz": 420
    },
    "id": "Avw7VX2bdEjh",
    "outputId": "d38f7cb8-b425-4f53-da21-aee6a242b89b"
   },
   "outputs": [
    {
     "name": "stdout",
     "output_type": "stream",
     "text": [
      "0    5\n",
      "1    2\n",
      "2    3\n",
      "dtype: int64\n"
     ]
    }
   ],
   "source": [
    "df_range = df_max - df_min\n",
    "print(df_range)"
   ]
  },
  {
   "cell_type": "markdown",
   "metadata": {
    "colab_type": "text",
    "id": "DbysNpI_tC3H"
   },
   "source": [
    "**Sum and total**"
   ]
  },
  {
   "cell_type": "code",
   "execution_count": 80,
   "metadata": {
    "colab": {
     "autoexec": {
      "startup": false,
      "wait_interval": 0
     },
     "base_uri": "https://localhost:8080/",
     "height": 85
    },
    "colab_type": "code",
    "executionInfo": {
     "elapsed": 375,
     "status": "ok",
     "timestamp": 1531520977678,
     "user": {
      "displayName": "Tairi Delgado",
      "photoUrl": "//lh6.googleusercontent.com/-l4lv-T3P6-c/AAAAAAAAAAI/AAAAAAAABIA/4wtQ8ehIzZw/s50-c-k-no/photo.jpg",
      "userId": "115188476170888991569"
     },
     "user_tz": 420
    },
    "id": "D93mnYfldNy4",
    "outputId": "b66506b5-f4f2-4f68-c7c4-ff6df6d43fc9"
   },
   "outputs": [
    {
     "data": {
      "text/plain": [
       "0     9\n",
       "1     9\n",
       "2    13\n",
       "dtype: int64"
      ]
     },
     "execution_count": 80,
     "metadata": {
      "tags": []
     },
     "output_type": "execute_result"
    }
   ],
   "source": [
    "df.sum()"
   ]
  },
  {
   "cell_type": "markdown",
   "metadata": {
    "colab_type": "text",
    "id": "9bWV-mG5tFcW"
   },
   "source": [
    "**Count and frequency**"
   ]
  },
  {
   "cell_type": "code",
   "execution_count": 81,
   "metadata": {
    "colab": {
     "autoexec": {
      "startup": false,
      "wait_interval": 0
     },
     "base_uri": "https://localhost:8080/",
     "height": 85
    },
    "colab_type": "code",
    "executionInfo": {
     "elapsed": 369,
     "status": "ok",
     "timestamp": 1531520980403,
     "user": {
      "displayName": "Tairi Delgado",
      "photoUrl": "//lh6.googleusercontent.com/-l4lv-T3P6-c/AAAAAAAAAAI/AAAAAAAABIA/4wtQ8ehIzZw/s50-c-k-no/photo.jpg",
      "userId": "115188476170888991569"
     },
     "user_tz": 420
    },
    "id": "3t8gDazedViQ",
    "outputId": "8c8b9a3a-8745-49a2-c042-09e10bd438a8"
   },
   "outputs": [
    {
     "data": {
      "text/plain": [
       "0    3\n",
       "1    3\n",
       "2    3\n",
       "dtype: int64"
      ]
     },
     "execution_count": 81,
     "metadata": {
      "tags": []
     },
     "output_type": "execute_result"
    }
   ],
   "source": [
    "df.count()"
   ]
  },
  {
   "cell_type": "code",
   "execution_count": 82,
   "metadata": {
    "colab": {
     "autoexec": {
      "startup": false,
      "wait_interval": 0
     },
     "base_uri": "https://localhost:8080/",
     "height": 102
    },
    "colab_type": "code",
    "executionInfo": {
     "elapsed": 369,
     "status": "ok",
     "timestamp": 1531520987199,
     "user": {
      "displayName": "Tairi Delgado",
      "photoUrl": "//lh6.googleusercontent.com/-l4lv-T3P6-c/AAAAAAAAAAI/AAAAAAAABIA/4wtQ8ehIzZw/s50-c-k-no/photo.jpg",
      "userId": "115188476170888991569"
     },
     "user_tz": 420
    },
    "id": "h5pCqL7MdZk8",
    "outputId": "1cd6afda-62f5-4774-ac54-49e6615b7bb3"
   },
   "outputs": [
    {
     "data": {
      "text/plain": [
       "Customer_ID    12\n",
       "First_Name     12\n",
       "Last_Name      12\n",
       "City           12\n",
       "dtype: int64"
      ]
     },
     "execution_count": 82,
     "metadata": {
      "tags": []
     },
     "output_type": "execute_result"
    }
   ],
   "source": [
    "customer_df.count()"
   ]
  },
  {
   "cell_type": "markdown",
   "metadata": {
    "colab_type": "text",
    "id": "tMIGFOUZtIEO"
   },
   "source": [
    "**Mean and median**"
   ]
  },
  {
   "cell_type": "code",
   "execution_count": 83,
   "metadata": {
    "colab": {
     "autoexec": {
      "startup": false,
      "wait_interval": 0
     },
     "base_uri": "https://localhost:8080/",
     "height": 85
    },
    "colab_type": "code",
    "executionInfo": {
     "elapsed": 380,
     "status": "ok",
     "timestamp": 1531521001739,
     "user": {
      "displayName": "Tairi Delgado",
      "photoUrl": "//lh6.googleusercontent.com/-l4lv-T3P6-c/AAAAAAAAAAI/AAAAAAAABIA/4wtQ8ehIzZw/s50-c-k-no/photo.jpg",
      "userId": "115188476170888991569"
     },
     "user_tz": 420
    },
    "id": "TgcS0v2FdltD",
    "outputId": "cf21fe4e-f631-4f87-cc99-34cb45c3fc1c"
   },
   "outputs": [
    {
     "data": {
      "text/plain": [
       "0    3.000000\n",
       "1    3.000000\n",
       "2    4.333333\n",
       "dtype: float64"
      ]
     },
     "execution_count": 83,
     "metadata": {
      "tags": []
     },
     "output_type": "execute_result"
    }
   ],
   "source": [
    "df.mean()"
   ]
  },
  {
   "cell_type": "code",
   "execution_count": 84,
   "metadata": {
    "colab": {
     "autoexec": {
      "startup": false,
      "wait_interval": 0
     },
     "base_uri": "https://localhost:8080/",
     "height": 85
    },
    "colab_type": "code",
    "executionInfo": {
     "elapsed": 313,
     "status": "ok",
     "timestamp": 1531521011337,
     "user": {
      "displayName": "Tairi Delgado",
      "photoUrl": "//lh6.googleusercontent.com/-l4lv-T3P6-c/AAAAAAAAAAI/AAAAAAAABIA/4wtQ8ehIzZw/s50-c-k-no/photo.jpg",
      "userId": "115188476170888991569"
     },
     "user_tz": 420
    },
    "id": "4X8uGnAldnrA",
    "outputId": "7e94c701-af26-49db-c3b5-e95f91ac0646"
   },
   "outputs": [
    {
     "data": {
      "text/plain": [
       "0    2.0\n",
       "1    3.0\n",
       "2    4.0\n",
       "dtype: float64"
      ]
     },
     "execution_count": 84,
     "metadata": {
      "tags": []
     },
     "output_type": "execute_result"
    }
   ],
   "source": [
    "df.median()"
   ]
  },
  {
   "cell_type": "markdown",
   "metadata": {
    "colab_type": "text",
    "id": "0F29wSpltK7O"
   },
   "source": [
    "**Variance and standard deviation**"
   ]
  },
  {
   "cell_type": "code",
   "execution_count": 85,
   "metadata": {
    "colab": {
     "autoexec": {
      "startup": false,
      "wait_interval": 0
     },
     "base_uri": "https://localhost:8080/",
     "height": 85
    },
    "colab_type": "code",
    "executionInfo": {
     "elapsed": 467,
     "status": "ok",
     "timestamp": 1531521016821,
     "user": {
      "displayName": "Tairi Delgado",
      "photoUrl": "//lh6.googleusercontent.com/-l4lv-T3P6-c/AAAAAAAAAAI/AAAAAAAABIA/4wtQ8ehIzZw/s50-c-k-no/photo.jpg",
      "userId": "115188476170888991569"
     },
     "user_tz": 420
    },
    "id": "MOc1Mxp8dp_h",
    "outputId": "d9922bdd-da33-4a5a-91de-857ed877914d"
   },
   "outputs": [
    {
     "data": {
      "text/plain": [
       "0    7.000000\n",
       "1    1.000000\n",
       "2    2.333333\n",
       "dtype: float64"
      ]
     },
     "execution_count": 85,
     "metadata": {
      "tags": []
     },
     "output_type": "execute_result"
    }
   ],
   "source": [
    "df.var()"
   ]
  },
  {
   "cell_type": "code",
   "execution_count": 86,
   "metadata": {
    "colab": {
     "autoexec": {
      "startup": false,
      "wait_interval": 0
     },
     "base_uri": "https://localhost:8080/",
     "height": 85
    },
    "colab_type": "code",
    "executionInfo": {
     "elapsed": 362,
     "status": "ok",
     "timestamp": 1531521020317,
     "user": {
      "displayName": "Tairi Delgado",
      "photoUrl": "//lh6.googleusercontent.com/-l4lv-T3P6-c/AAAAAAAAAAI/AAAAAAAABIA/4wtQ8ehIzZw/s50-c-k-no/photo.jpg",
      "userId": "115188476170888991569"
     },
     "user_tz": 420
    },
    "id": "FW6n-Kbidstw",
    "outputId": "0c57fc4d-8fcd-4e7b-8f05-c9dd723b16e6"
   },
   "outputs": [
    {
     "data": {
      "text/plain": [
       "0    2.645751\n",
       "1    1.000000\n",
       "2    1.527525\n",
       "dtype: float64"
      ]
     },
     "execution_count": 86,
     "metadata": {
      "tags": []
     },
     "output_type": "execute_result"
    }
   ],
   "source": [
    "df.std()"
   ]
  },
  {
   "cell_type": "markdown",
   "metadata": {
    "colab_type": "text",
    "id": "EC7y3VedtZDH"
   },
   "source": [
    "**Covariance**"
   ]
  },
  {
   "cell_type": "code",
   "execution_count": 87,
   "metadata": {
    "colab": {
     "autoexec": {
      "startup": false,
      "wait_interval": 0
     },
     "base_uri": "https://localhost:8080/",
     "height": 102
    },
    "colab_type": "code",
    "executionInfo": {
     "elapsed": 665,
     "status": "ok",
     "timestamp": 1531521023942,
     "user": {
      "displayName": "Tairi Delgado",
      "photoUrl": "//lh6.googleusercontent.com/-l4lv-T3P6-c/AAAAAAAAAAI/AAAAAAAABIA/4wtQ8ehIzZw/s50-c-k-no/photo.jpg",
      "userId": "115188476170888991569"
     },
     "user_tz": 420
    },
    "id": "s_uLXRKNgATE",
    "outputId": "c75361c4-f967-4c72-a68d-e15c608647de"
   },
   "outputs": [
    {
     "name": "stdout",
     "output_type": "stream",
     "text": [
      "   0  1\n",
      "0  1  2\n",
      "1  2  4\n",
      "2  3  6\n",
      "3  4  8\n"
     ]
    }
   ],
   "source": [
    "df = pd.DataFrame([[1,2],[2,4],[3,6],[4,8]])\n",
    "print(df)"
   ]
  },
  {
   "cell_type": "code",
   "execution_count": 88,
   "metadata": {
    "colab": {
     "autoexec": {
      "startup": false,
      "wait_interval": 0
     },
     "base_uri": "https://localhost:8080/",
     "height": 111
    },
    "colab_type": "code",
    "executionInfo": {
     "elapsed": 359,
     "status": "ok",
     "timestamp": 1531521026355,
     "user": {
      "displayName": "Tairi Delgado",
      "photoUrl": "//lh6.googleusercontent.com/-l4lv-T3P6-c/AAAAAAAAAAI/AAAAAAAABIA/4wtQ8ehIzZw/s50-c-k-no/photo.jpg",
      "userId": "115188476170888991569"
     },
     "user_tz": 420
    },
    "id": "9IOipl3wgQqP",
    "outputId": "ddc8d8a0-0246-4a3d-b1f7-a47ab64946c8"
   },
   "outputs": [
    {
     "data": {
      "text/html": [
       "<div>\n",
       "<style scoped>\n",
       "    .dataframe tbody tr th:only-of-type {\n",
       "        vertical-align: middle;\n",
       "    }\n",
       "\n",
       "    .dataframe tbody tr th {\n",
       "        vertical-align: top;\n",
       "    }\n",
       "\n",
       "    .dataframe thead th {\n",
       "        text-align: right;\n",
       "    }\n",
       "</style>\n",
       "<table border=\"1\" class=\"dataframe\">\n",
       "  <thead>\n",
       "    <tr style=\"text-align: right;\">\n",
       "      <th></th>\n",
       "      <th>0</th>\n",
       "      <th>1</th>\n",
       "    </tr>\n",
       "  </thead>\n",
       "  <tbody>\n",
       "    <tr>\n",
       "      <th>0</th>\n",
       "      <td>1.666667</td>\n",
       "      <td>3.333333</td>\n",
       "    </tr>\n",
       "    <tr>\n",
       "      <th>1</th>\n",
       "      <td>3.333333</td>\n",
       "      <td>6.666667</td>\n",
       "    </tr>\n",
       "  </tbody>\n",
       "</table>\n",
       "</div>"
      ],
      "text/plain": [
       "          0         1\n",
       "0  1.666667  3.333333\n",
       "1  3.333333  6.666667"
      ]
     },
     "execution_count": 88,
     "metadata": {
      "tags": []
     },
     "output_type": "execute_result"
    }
   ],
   "source": [
    "df.cov()"
   ]
  },
  {
   "cell_type": "markdown",
   "metadata": {
    "colab_type": "text",
    "id": "g1DF6Y50tTPJ"
   },
   "source": [
    "**Quantile**"
   ]
  },
  {
   "cell_type": "code",
   "execution_count": 89,
   "metadata": {
    "colab": {
     "autoexec": {
      "startup": false,
      "wait_interval": 0
     },
     "base_uri": "https://localhost:8080/",
     "height": 235
    },
    "colab_type": "code",
    "executionInfo": {
     "elapsed": 450,
     "status": "ok",
     "timestamp": 1531521029935,
     "user": {
      "displayName": "Tairi Delgado",
      "photoUrl": "//lh6.googleusercontent.com/-l4lv-T3P6-c/AAAAAAAAAAI/AAAAAAAABIA/4wtQ8ehIzZw/s50-c-k-no/photo.jpg",
      "userId": "115188476170888991569"
     },
     "user_tz": 420
    },
    "id": "yiJJbJ_ngfft",
    "outputId": "76fafd26-0e95-4528-c49a-1476a99d9402"
   },
   "outputs": [
    {
     "data": {
      "text/html": [
       "<div>\n",
       "<style scoped>\n",
       "    .dataframe tbody tr th:only-of-type {\n",
       "        vertical-align: middle;\n",
       "    }\n",
       "\n",
       "    .dataframe tbody tr th {\n",
       "        vertical-align: top;\n",
       "    }\n",
       "\n",
       "    .dataframe thead th {\n",
       "        text-align: right;\n",
       "    }\n",
       "</style>\n",
       "<table border=\"1\" class=\"dataframe\">\n",
       "  <thead>\n",
       "    <tr style=\"text-align: right;\">\n",
       "      <th></th>\n",
       "      <th>0</th>\n",
       "      <th>1</th>\n",
       "    </tr>\n",
       "  </thead>\n",
       "  <tbody>\n",
       "    <tr>\n",
       "      <th>0.00</th>\n",
       "      <td>1.00</td>\n",
       "      <td>2.0</td>\n",
       "    </tr>\n",
       "    <tr>\n",
       "      <th>0.10</th>\n",
       "      <td>1.30</td>\n",
       "      <td>2.6</td>\n",
       "    </tr>\n",
       "    <tr>\n",
       "      <th>0.25</th>\n",
       "      <td>1.75</td>\n",
       "      <td>3.5</td>\n",
       "    </tr>\n",
       "    <tr>\n",
       "      <th>0.50</th>\n",
       "      <td>2.50</td>\n",
       "      <td>5.0</td>\n",
       "    </tr>\n",
       "    <tr>\n",
       "      <th>0.75</th>\n",
       "      <td>3.25</td>\n",
       "      <td>6.5</td>\n",
       "    </tr>\n",
       "    <tr>\n",
       "      <th>1.00</th>\n",
       "      <td>4.00</td>\n",
       "      <td>8.0</td>\n",
       "    </tr>\n",
       "  </tbody>\n",
       "</table>\n",
       "</div>"
      ],
      "text/plain": [
       "         0    1\n",
       "0.00  1.00  2.0\n",
       "0.10  1.30  2.6\n",
       "0.25  1.75  3.5\n",
       "0.50  2.50  5.0\n",
       "0.75  3.25  6.5\n",
       "1.00  4.00  8.0"
      ]
     },
     "execution_count": 89,
     "metadata": {
      "tags": []
     },
     "output_type": "execute_result"
    }
   ],
   "source": [
    "df.quantile([0,.1,.25,.5,.75,1])"
   ]
  },
  {
   "cell_type": "markdown",
   "metadata": {
    "colab_type": "text",
    "id": "PQD1YJrptPH_"
   },
   "source": [
    "**Cumulative Sum**"
   ]
  },
  {
   "cell_type": "code",
   "execution_count": 90,
   "metadata": {
    "colab": {
     "autoexec": {
      "startup": false,
      "wait_interval": 0
     },
     "base_uri": "https://localhost:8080/",
     "height": 173
    },
    "colab_type": "code",
    "executionInfo": {
     "elapsed": 487,
     "status": "ok",
     "timestamp": 1531521033282,
     "user": {
      "displayName": "Tairi Delgado",
      "photoUrl": "//lh6.googleusercontent.com/-l4lv-T3P6-c/AAAAAAAAAAI/AAAAAAAABIA/4wtQ8ehIzZw/s50-c-k-no/photo.jpg",
      "userId": "115188476170888991569"
     },
     "user_tz": 420
    },
    "id": "a4wFAU6Igtr4",
    "outputId": "ece18fe5-cd3e-4fda-b98b-75a66c8432db"
   },
   "outputs": [
    {
     "data": {
      "text/html": [
       "<div>\n",
       "<style scoped>\n",
       "    .dataframe tbody tr th:only-of-type {\n",
       "        vertical-align: middle;\n",
       "    }\n",
       "\n",
       "    .dataframe tbody tr th {\n",
       "        vertical-align: top;\n",
       "    }\n",
       "\n",
       "    .dataframe thead th {\n",
       "        text-align: right;\n",
       "    }\n",
       "</style>\n",
       "<table border=\"1\" class=\"dataframe\">\n",
       "  <thead>\n",
       "    <tr style=\"text-align: right;\">\n",
       "      <th></th>\n",
       "      <th>0</th>\n",
       "      <th>1</th>\n",
       "    </tr>\n",
       "  </thead>\n",
       "  <tbody>\n",
       "    <tr>\n",
       "      <th>0</th>\n",
       "      <td>1</td>\n",
       "      <td>2</td>\n",
       "    </tr>\n",
       "    <tr>\n",
       "      <th>1</th>\n",
       "      <td>3</td>\n",
       "      <td>6</td>\n",
       "    </tr>\n",
       "    <tr>\n",
       "      <th>2</th>\n",
       "      <td>6</td>\n",
       "      <td>12</td>\n",
       "    </tr>\n",
       "    <tr>\n",
       "      <th>3</th>\n",
       "      <td>10</td>\n",
       "      <td>20</td>\n",
       "    </tr>\n",
       "  </tbody>\n",
       "</table>\n",
       "</div>"
      ],
      "text/plain": [
       "    0   1\n",
       "0   1   2\n",
       "1   3   6\n",
       "2   6  12\n",
       "3  10  20"
      ]
     },
     "execution_count": 90,
     "metadata": {
      "tags": []
     },
     "output_type": "execute_result"
    }
   ],
   "source": [
    "df.cumsum()"
   ]
  },
  {
   "cell_type": "markdown",
   "metadata": {
    "colab_type": "text",
    "id": "PjdJ8VyMthMG"
   },
   "source": [
    "**Aggregate functions and describe**"
   ]
  },
  {
   "cell_type": "code",
   "execution_count": 91,
   "metadata": {
    "colab": {
     "autoexec": {
      "startup": false,
      "wait_interval": 0
     },
     "base_uri": "https://localhost:8080/",
     "height": 111
    },
    "colab_type": "code",
    "executionInfo": {
     "elapsed": 424,
     "status": "ok",
     "timestamp": 1531521036668,
     "user": {
      "displayName": "Tairi Delgado",
      "photoUrl": "//lh6.googleusercontent.com/-l4lv-T3P6-c/AAAAAAAAAAI/AAAAAAAABIA/4wtQ8ehIzZw/s50-c-k-no/photo.jpg",
      "userId": "115188476170888991569"
     },
     "user_tz": 420
    },
    "id": "pPlKQO77gyLV",
    "outputId": "28645da7-5a02-4c73-c964-f00d9851eadf"
   },
   "outputs": [
    {
     "data": {
      "text/html": [
       "<div>\n",
       "<style scoped>\n",
       "    .dataframe tbody tr th:only-of-type {\n",
       "        vertical-align: middle;\n",
       "    }\n",
       "\n",
       "    .dataframe tbody tr th {\n",
       "        vertical-align: top;\n",
       "    }\n",
       "\n",
       "    .dataframe thead th {\n",
       "        text-align: right;\n",
       "    }\n",
       "</style>\n",
       "<table border=\"1\" class=\"dataframe\">\n",
       "  <thead>\n",
       "    <tr style=\"text-align: right;\">\n",
       "      <th></th>\n",
       "      <th>0</th>\n",
       "      <th>1</th>\n",
       "    </tr>\n",
       "  </thead>\n",
       "  <tbody>\n",
       "    <tr>\n",
       "      <th>min</th>\n",
       "      <td>1.0</td>\n",
       "      <td>2.0</td>\n",
       "    </tr>\n",
       "    <tr>\n",
       "      <th>mean</th>\n",
       "      <td>2.5</td>\n",
       "      <td>5.0</td>\n",
       "    </tr>\n",
       "  </tbody>\n",
       "</table>\n",
       "</div>"
      ],
      "text/plain": [
       "        0    1\n",
       "min   1.0  2.0\n",
       "mean  2.5  5.0"
      ]
     },
     "execution_count": 91,
     "metadata": {
      "tags": []
     },
     "output_type": "execute_result"
    }
   ],
   "source": [
    "df.agg(['min','mean'])"
   ]
  },
  {
   "cell_type": "code",
   "execution_count": 92,
   "metadata": {
    "colab": {
     "autoexec": {
      "startup": false,
      "wait_interval": 0
     },
     "base_uri": "https://localhost:8080/",
     "height": 297
    },
    "colab_type": "code",
    "executionInfo": {
     "elapsed": 496,
     "status": "ok",
     "timestamp": 1531521039330,
     "user": {
      "displayName": "Tairi Delgado",
      "photoUrl": "//lh6.googleusercontent.com/-l4lv-T3P6-c/AAAAAAAAAAI/AAAAAAAABIA/4wtQ8ehIzZw/s50-c-k-no/photo.jpg",
      "userId": "115188476170888991569"
     },
     "user_tz": 420
    },
    "id": "fgie7Enng-bl",
    "outputId": "c92f2527-1005-470b-f318-ddc0e77bed38"
   },
   "outputs": [
    {
     "data": {
      "text/html": [
       "<div>\n",
       "<style scoped>\n",
       "    .dataframe tbody tr th:only-of-type {\n",
       "        vertical-align: middle;\n",
       "    }\n",
       "\n",
       "    .dataframe tbody tr th {\n",
       "        vertical-align: top;\n",
       "    }\n",
       "\n",
       "    .dataframe thead th {\n",
       "        text-align: right;\n",
       "    }\n",
       "</style>\n",
       "<table border=\"1\" class=\"dataframe\">\n",
       "  <thead>\n",
       "    <tr style=\"text-align: right;\">\n",
       "      <th></th>\n",
       "      <th>0</th>\n",
       "      <th>1</th>\n",
       "    </tr>\n",
       "  </thead>\n",
       "  <tbody>\n",
       "    <tr>\n",
       "      <th>count</th>\n",
       "      <td>4.000000</td>\n",
       "      <td>4.000000</td>\n",
       "    </tr>\n",
       "    <tr>\n",
       "      <th>mean</th>\n",
       "      <td>2.500000</td>\n",
       "      <td>5.000000</td>\n",
       "    </tr>\n",
       "    <tr>\n",
       "      <th>std</th>\n",
       "      <td>1.290994</td>\n",
       "      <td>2.581989</td>\n",
       "    </tr>\n",
       "    <tr>\n",
       "      <th>min</th>\n",
       "      <td>1.000000</td>\n",
       "      <td>2.000000</td>\n",
       "    </tr>\n",
       "    <tr>\n",
       "      <th>25%</th>\n",
       "      <td>1.750000</td>\n",
       "      <td>3.500000</td>\n",
       "    </tr>\n",
       "    <tr>\n",
       "      <th>50%</th>\n",
       "      <td>2.500000</td>\n",
       "      <td>5.000000</td>\n",
       "    </tr>\n",
       "    <tr>\n",
       "      <th>75%</th>\n",
       "      <td>3.250000</td>\n",
       "      <td>6.500000</td>\n",
       "    </tr>\n",
       "    <tr>\n",
       "      <th>max</th>\n",
       "      <td>4.000000</td>\n",
       "      <td>8.000000</td>\n",
       "    </tr>\n",
       "  </tbody>\n",
       "</table>\n",
       "</div>"
      ],
      "text/plain": [
       "              0         1\n",
       "count  4.000000  4.000000\n",
       "mean   2.500000  5.000000\n",
       "std    1.290994  2.581989\n",
       "min    1.000000  2.000000\n",
       "25%    1.750000  3.500000\n",
       "50%    2.500000  5.000000\n",
       "75%    3.250000  6.500000\n",
       "max    4.000000  8.000000"
      ]
     },
     "execution_count": 92,
     "metadata": {
      "tags": []
     },
     "output_type": "execute_result"
    }
   ],
   "source": [
    "df.describe()"
   ]
  },
  {
   "cell_type": "code",
   "execution_count": 93,
   "metadata": {
    "colab": {
     "autoexec": {
      "startup": false,
      "wait_interval": 0
     },
     "base_uri": "https://localhost:8080/",
     "height": 297
    },
    "colab_type": "code",
    "executionInfo": {
     "elapsed": 354,
     "status": "ok",
     "timestamp": 1531521042683,
     "user": {
      "displayName": "Tairi Delgado",
      "photoUrl": "//lh6.googleusercontent.com/-l4lv-T3P6-c/AAAAAAAAAAI/AAAAAAAABIA/4wtQ8ehIzZw/s50-c-k-no/photo.jpg",
      "userId": "115188476170888991569"
     },
     "user_tz": 420
    },
    "id": "S4vPjw00hDXE",
    "outputId": "6783fc26-c1a1-48d3-e97c-edbc7dfdba9c"
   },
   "outputs": [
    {
     "data": {
      "text/html": [
       "<div>\n",
       "<style scoped>\n",
       "    .dataframe tbody tr th:only-of-type {\n",
       "        vertical-align: middle;\n",
       "    }\n",
       "\n",
       "    .dataframe tbody tr th {\n",
       "        vertical-align: top;\n",
       "    }\n",
       "\n",
       "    .dataframe thead th {\n",
       "        text-align: right;\n",
       "    }\n",
       "</style>\n",
       "<table border=\"1\" class=\"dataframe\">\n",
       "  <thead>\n",
       "    <tr style=\"text-align: right;\">\n",
       "      <th></th>\n",
       "      <th>Product_ID</th>\n",
       "      <th>Price</th>\n",
       "      <th>Supplier_ID</th>\n",
       "    </tr>\n",
       "  </thead>\n",
       "  <tbody>\n",
       "    <tr>\n",
       "      <th>count</th>\n",
       "      <td>12.000000</td>\n",
       "      <td>12.000000</td>\n",
       "      <td>12.000000</td>\n",
       "    </tr>\n",
       "    <tr>\n",
       "      <th>mean</th>\n",
       "      <td>30006.500000</td>\n",
       "      <td>37.356667</td>\n",
       "      <td>40002.833333</td>\n",
       "    </tr>\n",
       "    <tr>\n",
       "      <th>std</th>\n",
       "      <td>3.605551</td>\n",
       "      <td>40.063523</td>\n",
       "      <td>1.403459</td>\n",
       "    </tr>\n",
       "    <tr>\n",
       "      <th>min</th>\n",
       "      <td>30001.000000</td>\n",
       "      <td>3.670000</td>\n",
       "      <td>40001.000000</td>\n",
       "    </tr>\n",
       "    <tr>\n",
       "      <th>25%</th>\n",
       "      <td>30003.750000</td>\n",
       "      <td>12.507500</td>\n",
       "      <td>40002.000000</td>\n",
       "    </tr>\n",
       "    <tr>\n",
       "      <th>50%</th>\n",
       "      <td>30006.500000</td>\n",
       "      <td>27.700000</td>\n",
       "      <td>40002.500000</td>\n",
       "    </tr>\n",
       "    <tr>\n",
       "      <th>75%</th>\n",
       "      <td>30009.250000</td>\n",
       "      <td>48.740000</td>\n",
       "      <td>40004.000000</td>\n",
       "    </tr>\n",
       "    <tr>\n",
       "      <th>max</th>\n",
       "      <td>30012.000000</td>\n",
       "      <td>149.990000</td>\n",
       "      <td>40005.000000</td>\n",
       "    </tr>\n",
       "  </tbody>\n",
       "</table>\n",
       "</div>"
      ],
      "text/plain": [
       "         Product_ID       Price   Supplier_ID\n",
       "count     12.000000   12.000000     12.000000\n",
       "mean   30006.500000   37.356667  40002.833333\n",
       "std        3.605551   40.063523      1.403459\n",
       "min    30001.000000    3.670000  40001.000000\n",
       "25%    30003.750000   12.507500  40002.000000\n",
       "50%    30006.500000   27.700000  40002.500000\n",
       "75%    30009.250000   48.740000  40004.000000\n",
       "max    30012.000000  149.990000  40005.000000"
      ]
     },
     "execution_count": 93,
     "metadata": {
      "tags": []
     },
     "output_type": "execute_result"
    }
   ],
   "source": [
    "product_df.describe()"
   ]
  },
  {
   "cell_type": "markdown",
   "metadata": {
    "colab_type": "text",
    "id": "i8462ocktmsM"
   },
   "source": [
    "**Apply and lambda**"
   ]
  },
  {
   "cell_type": "code",
   "execution_count": 94,
   "metadata": {
    "colab": {
     "autoexec": {
      "startup": false,
      "wait_interval": 0
     },
     "base_uri": "https://localhost:8080/",
     "height": 80
    },
    "colab_type": "code",
    "executionInfo": {
     "elapsed": 497,
     "status": "ok",
     "timestamp": 1531521048849,
     "user": {
      "displayName": "Tairi Delgado",
      "photoUrl": "//lh6.googleusercontent.com/-l4lv-T3P6-c/AAAAAAAAAAI/AAAAAAAABIA/4wtQ8ehIzZw/s50-c-k-no/photo.jpg",
      "userId": "115188476170888991569"
     },
     "user_tz": 420
    },
    "id": "tf19wUWMhL8P",
    "outputId": "71964a82-543d-4114-f69b-836ef27e1a60"
   },
   "outputs": [
    {
     "data": {
      "text/html": [
       "<div>\n",
       "<style scoped>\n",
       "    .dataframe tbody tr th:only-of-type {\n",
       "        vertical-align: middle;\n",
       "    }\n",
       "\n",
       "    .dataframe tbody tr th {\n",
       "        vertical-align: top;\n",
       "    }\n",
       "\n",
       "    .dataframe thead th {\n",
       "        text-align: right;\n",
       "    }\n",
       "</style>\n",
       "<table border=\"1\" class=\"dataframe\">\n",
       "  <thead>\n",
       "    <tr style=\"text-align: right;\">\n",
       "      <th></th>\n",
       "      <th>0</th>\n",
       "      <th>1</th>\n",
       "    </tr>\n",
       "  </thead>\n",
       "  <tbody>\n",
       "    <tr>\n",
       "      <th>max</th>\n",
       "      <td>4</td>\n",
       "      <td>8</td>\n",
       "    </tr>\n",
       "  </tbody>\n",
       "</table>\n",
       "</div>"
      ],
      "text/plain": [
       "     0  1\n",
       "max  4  8"
      ]
     },
     "execution_count": 94,
     "metadata": {
      "tags": []
     },
     "output_type": "execute_result"
    }
   ],
   "source": [
    "df.apply(['max'])"
   ]
  },
  {
   "cell_type": "code",
   "execution_count": 0,
   "metadata": {
    "colab": {
     "autoexec": {
      "startup": false,
      "wait_interval": 0
     }
    },
    "colab_type": "code",
    "id": "yT0Qi8YnhSBa"
   },
   "outputs": [],
   "source": [
    "def foo(x):\n",
    "  return x+10"
   ]
  },
  {
   "cell_type": "code",
   "execution_count": 96,
   "metadata": {
    "colab": {
     "autoexec": {
      "startup": false,
      "wait_interval": 0
     },
     "base_uri": "https://localhost:8080/",
     "height": 173
    },
    "colab_type": "code",
    "executionInfo": {
     "elapsed": 364,
     "status": "ok",
     "timestamp": 1531521053668,
     "user": {
      "displayName": "Tairi Delgado",
      "photoUrl": "//lh6.googleusercontent.com/-l4lv-T3P6-c/AAAAAAAAAAI/AAAAAAAABIA/4wtQ8ehIzZw/s50-c-k-no/photo.jpg",
      "userId": "115188476170888991569"
     },
     "user_tz": 420
    },
    "id": "uFcHMj-KhXOr",
    "outputId": "66bb48eb-e2fa-405f-99d1-5ecac493ec2a"
   },
   "outputs": [
    {
     "data": {
      "text/html": [
       "<div>\n",
       "<style scoped>\n",
       "    .dataframe tbody tr th:only-of-type {\n",
       "        vertical-align: middle;\n",
       "    }\n",
       "\n",
       "    .dataframe tbody tr th {\n",
       "        vertical-align: top;\n",
       "    }\n",
       "\n",
       "    .dataframe thead th {\n",
       "        text-align: right;\n",
       "    }\n",
       "</style>\n",
       "<table border=\"1\" class=\"dataframe\">\n",
       "  <thead>\n",
       "    <tr style=\"text-align: right;\">\n",
       "      <th></th>\n",
       "      <th>0</th>\n",
       "      <th>1</th>\n",
       "    </tr>\n",
       "  </thead>\n",
       "  <tbody>\n",
       "    <tr>\n",
       "      <th>0</th>\n",
       "      <td>11</td>\n",
       "      <td>12</td>\n",
       "    </tr>\n",
       "    <tr>\n",
       "      <th>1</th>\n",
       "      <td>12</td>\n",
       "      <td>14</td>\n",
       "    </tr>\n",
       "    <tr>\n",
       "      <th>2</th>\n",
       "      <td>13</td>\n",
       "      <td>16</td>\n",
       "    </tr>\n",
       "    <tr>\n",
       "      <th>3</th>\n",
       "      <td>14</td>\n",
       "      <td>18</td>\n",
       "    </tr>\n",
       "  </tbody>\n",
       "</table>\n",
       "</div>"
      ],
      "text/plain": [
       "    0   1\n",
       "0  11  12\n",
       "1  12  14\n",
       "2  13  16\n",
       "3  14  18"
      ]
     },
     "execution_count": 96,
     "metadata": {
      "tags": []
     },
     "output_type": "execute_result"
    }
   ],
   "source": [
    "df.apply(foo)"
   ]
  },
  {
   "cell_type": "code",
   "execution_count": 97,
   "metadata": {
    "colab": {
     "autoexec": {
      "startup": false,
      "wait_interval": 0
     },
     "base_uri": "https://localhost:8080/",
     "height": 238
    },
    "colab_type": "code",
    "executionInfo": {
     "elapsed": 367,
     "status": "ok",
     "timestamp": 1531521057530,
     "user": {
      "displayName": "Tairi Delgado",
      "photoUrl": "//lh6.googleusercontent.com/-l4lv-T3P6-c/AAAAAAAAAAI/AAAAAAAABIA/4wtQ8ehIzZw/s50-c-k-no/photo.jpg",
      "userId": "115188476170888991569"
     },
     "user_tz": 420
    },
    "id": "dJtfooZthacG",
    "outputId": "20576935-dd16-4dac-ebf6-07b239e59cc5"
   },
   "outputs": [
    {
     "data": {
      "text/plain": [
       "0      22.98\n",
       "1      14.50\n",
       "2      66.99\n",
       "3      44.35\n",
       "4      56.21\n",
       "5      21.09\n",
       "6      13.67\n",
       "7      33.96\n",
       "8      41.44\n",
       "9      26.77\n",
       "10    159.99\n",
       "11     66.33\n",
       "Name: Price, dtype: float64"
      ]
     },
     "execution_count": 97,
     "metadata": {
      "tags": []
     },
     "output_type": "execute_result"
    }
   ],
   "source": [
    "product_df['Price'].apply(foo)"
   ]
  },
  {
   "cell_type": "code",
   "execution_count": 98,
   "metadata": {
    "colab": {
     "autoexec": {
      "startup": false,
      "wait_interval": 0
     },
     "base_uri": "https://localhost:8080/",
     "height": 238
    },
    "colab_type": "code",
    "executionInfo": {
     "elapsed": 358,
     "status": "ok",
     "timestamp": 1531521078842,
     "user": {
      "displayName": "Tairi Delgado",
      "photoUrl": "//lh6.googleusercontent.com/-l4lv-T3P6-c/AAAAAAAAAAI/AAAAAAAABIA/4wtQ8ehIzZw/s50-c-k-no/photo.jpg",
      "userId": "115188476170888991569"
     },
     "user_tz": 420
    },
    "id": "OPUIubOihf3m",
    "outputId": "d52b8c55-6468-4bf1-e9ef-dabcbfe19057"
   },
   "outputs": [
    {
     "data": {
      "text/plain": [
       "0     0.936372\n",
       "1     0.994328\n",
       "2     0.635593\n",
       "3     0.790323\n",
       "4     0.709267\n",
       "5     0.949289\n",
       "6     1.000000\n",
       "7     0.861331\n",
       "8     0.810210\n",
       "9     0.910470\n",
       "10    0.000000\n",
       "11    0.640104\n",
       "Name: Price, dtype: float64"
      ]
     },
     "execution_count": 98,
     "metadata": {
      "tags": []
     },
     "output_type": "execute_result"
    }
   ],
   "source": [
    "prod_min = product_df['Price'].min()\n",
    "prod_max = product_df['Price'].max()\n",
    "product_df['Price'].apply(lambda x: (prod_max - x)/(prod_max-prod_min))"
   ]
  },
  {
   "cell_type": "code",
   "execution_count": 99,
   "metadata": {
    "colab": {
     "autoexec": {
      "startup": false,
      "wait_interval": 0
     },
     "base_uri": "https://localhost:8080/",
     "height": 204
    },
    "colab_type": "code",
    "executionInfo": {
     "elapsed": 344,
     "status": "ok",
     "timestamp": 1531521082981,
     "user": {
      "displayName": "Tairi Delgado",
      "photoUrl": "//lh6.googleusercontent.com/-l4lv-T3P6-c/AAAAAAAAAAI/AAAAAAAABIA/4wtQ8ehIzZw/s50-c-k-no/photo.jpg",
      "userId": "115188476170888991569"
     },
     "user_tz": 420
    },
    "id": "3fRPPbS8iyfc",
    "outputId": "c801610e-0050-4339-d273-1e52f6b76a12"
   },
   "outputs": [
    {
     "data": {
      "text/html": [
       "<div>\n",
       "<style scoped>\n",
       "    .dataframe tbody tr th:only-of-type {\n",
       "        vertical-align: middle;\n",
       "    }\n",
       "\n",
       "    .dataframe tbody tr th {\n",
       "        vertical-align: top;\n",
       "    }\n",
       "\n",
       "    .dataframe thead th {\n",
       "        text-align: right;\n",
       "    }\n",
       "</style>\n",
       "<table border=\"1\" class=\"dataframe\">\n",
       "  <thead>\n",
       "    <tr style=\"text-align: right;\">\n",
       "      <th></th>\n",
       "      <th>Product_ID</th>\n",
       "      <th>Product_Name</th>\n",
       "      <th>Price</th>\n",
       "      <th>Supplier_ID</th>\n",
       "      <th>Supplier_Name</th>\n",
       "      <th>Name</th>\n",
       "      <th>City</th>\n",
       "    </tr>\n",
       "  </thead>\n",
       "  <tbody>\n",
       "    <tr>\n",
       "      <th>0</th>\n",
       "      <td>30001</td>\n",
       "      <td>T-Shirt</td>\n",
       "      <td>12.98</td>\n",
       "      <td>40004</td>\n",
       "      <td>Studio Warehouse</td>\n",
       "      <td>Studio Warehouse</td>\n",
       "      <td>San Francisco</td>\n",
       "    </tr>\n",
       "    <tr>\n",
       "      <th>1</th>\n",
       "      <td>30012</td>\n",
       "      <td>Coat</td>\n",
       "      <td>56.33</td>\n",
       "      <td>40004</td>\n",
       "      <td>Studio Warehouse</td>\n",
       "      <td>Studio Warehouse</td>\n",
       "      <td>San Francisco</td>\n",
       "    </tr>\n",
       "    <tr>\n",
       "      <th>2</th>\n",
       "      <td>30002</td>\n",
       "      <td>Tooth Paste</td>\n",
       "      <td>4.50</td>\n",
       "      <td>40002</td>\n",
       "      <td>BioMed Inc</td>\n",
       "      <td>BioMed Inc</td>\n",
       "      <td>San Francisco</td>\n",
       "    </tr>\n",
       "    <tr>\n",
       "      <th>3</th>\n",
       "      <td>30007</td>\n",
       "      <td>Chap Stick</td>\n",
       "      <td>3.67</td>\n",
       "      <td>40002</td>\n",
       "      <td>BioMed Inc</td>\n",
       "      <td>BioMed Inc</td>\n",
       "      <td>San Francisco</td>\n",
       "    </tr>\n",
       "    <tr>\n",
       "      <th>4</th>\n",
       "      <td>30008</td>\n",
       "      <td>Medicine</td>\n",
       "      <td>23.96</td>\n",
       "      <td>40002</td>\n",
       "      <td>BioMed Inc</td>\n",
       "      <td>BioMed Inc</td>\n",
       "      <td>San Francisco</td>\n",
       "    </tr>\n",
       "  </tbody>\n",
       "</table>\n",
       "</div>"
      ],
      "text/plain": [
       "   Product_ID Product_Name  Price  Supplier_ID     Supplier_Name  \\\n",
       "0       30001      T-Shirt  12.98        40004  Studio Warehouse   \n",
       "1       30012         Coat  56.33        40004  Studio Warehouse   \n",
       "2       30002  Tooth Paste   4.50        40002        BioMed Inc   \n",
       "3       30007   Chap Stick   3.67        40002        BioMed Inc   \n",
       "4       30008     Medicine  23.96        40002        BioMed Inc   \n",
       "\n",
       "               Name           City  \n",
       "0  Studio Warehouse  San Francisco  \n",
       "1  Studio Warehouse  San Francisco  \n",
       "2        BioMed Inc  San Francisco  \n",
       "3        BioMed Inc  San Francisco  \n",
       "4        BioMed Inc  San Francisco  "
      ]
     },
     "execution_count": 99,
     "metadata": {
      "tags": []
     },
     "output_type": "execute_result"
    }
   ],
   "source": [
    "product_supplier_df = pd.merge(product_df, supplier_df, how='inner')\n",
    "product_supplier_df.head()"
   ]
  },
  {
   "cell_type": "code",
   "execution_count": 100,
   "metadata": {
    "colab": {
     "autoexec": {
      "startup": false,
      "wait_interval": 0
     },
     "base_uri": "https://localhost:8080/",
     "height": 204
    },
    "colab_type": "code",
    "executionInfo": {
     "elapsed": 444,
     "status": "ok",
     "timestamp": 1531521089752,
     "user": {
      "displayName": "Tairi Delgado",
      "photoUrl": "//lh6.googleusercontent.com/-l4lv-T3P6-c/AAAAAAAAAAI/AAAAAAAABIA/4wtQ8ehIzZw/s50-c-k-no/photo.jpg",
      "userId": "115188476170888991569"
     },
     "user_tz": 420
    },
    "id": "13S8wkeljDmr",
    "outputId": "557bd388-546c-4219-f6cd-ddbe4268487a"
   },
   "outputs": [
    {
     "data": {
      "text/html": [
       "<div>\n",
       "<style scoped>\n",
       "    .dataframe tbody tr th:only-of-type {\n",
       "        vertical-align: middle;\n",
       "    }\n",
       "\n",
       "    .dataframe tbody tr th {\n",
       "        vertical-align: top;\n",
       "    }\n",
       "\n",
       "    .dataframe thead th {\n",
       "        text-align: right;\n",
       "    }\n",
       "</style>\n",
       "<table border=\"1\" class=\"dataframe\">\n",
       "  <thead>\n",
       "    <tr style=\"text-align: right;\">\n",
       "      <th></th>\n",
       "      <th>Employee_ID</th>\n",
       "      <th>First_Name</th>\n",
       "      <th>Last_Name</th>\n",
       "      <th>Department</th>\n",
       "      <th>City</th>\n",
       "      <th>Product_ID</th>\n",
       "      <th>Product_Name</th>\n",
       "      <th>Price</th>\n",
       "      <th>Supplier_ID</th>\n",
       "      <th>Supplier_Name</th>\n",
       "      <th>Name</th>\n",
       "    </tr>\n",
       "  </thead>\n",
       "  <tbody>\n",
       "    <tr>\n",
       "      <th>0</th>\n",
       "      <td>10001</td>\n",
       "      <td>Daniel</td>\n",
       "      <td>Olson</td>\n",
       "      <td>Electronics</td>\n",
       "      <td>San Francisco</td>\n",
       "      <td>30001</td>\n",
       "      <td>T-Shirt</td>\n",
       "      <td>12.98</td>\n",
       "      <td>40004</td>\n",
       "      <td>Studio Warehouse</td>\n",
       "      <td>Studio Warehouse</td>\n",
       "    </tr>\n",
       "    <tr>\n",
       "      <th>1</th>\n",
       "      <td>10001</td>\n",
       "      <td>Daniel</td>\n",
       "      <td>Olson</td>\n",
       "      <td>Electronics</td>\n",
       "      <td>San Francisco</td>\n",
       "      <td>30012</td>\n",
       "      <td>Coat</td>\n",
       "      <td>56.33</td>\n",
       "      <td>40004</td>\n",
       "      <td>Studio Warehouse</td>\n",
       "      <td>Studio Warehouse</td>\n",
       "    </tr>\n",
       "    <tr>\n",
       "      <th>2</th>\n",
       "      <td>10001</td>\n",
       "      <td>Daniel</td>\n",
       "      <td>Olson</td>\n",
       "      <td>Electronics</td>\n",
       "      <td>San Francisco</td>\n",
       "      <td>30002</td>\n",
       "      <td>Tooth Paste</td>\n",
       "      <td>4.50</td>\n",
       "      <td>40002</td>\n",
       "      <td>BioMed Inc</td>\n",
       "      <td>BioMed Inc</td>\n",
       "    </tr>\n",
       "    <tr>\n",
       "      <th>3</th>\n",
       "      <td>10001</td>\n",
       "      <td>Daniel</td>\n",
       "      <td>Olson</td>\n",
       "      <td>Electronics</td>\n",
       "      <td>San Francisco</td>\n",
       "      <td>30007</td>\n",
       "      <td>Chap Stick</td>\n",
       "      <td>3.67</td>\n",
       "      <td>40002</td>\n",
       "      <td>BioMed Inc</td>\n",
       "      <td>BioMed Inc</td>\n",
       "    </tr>\n",
       "    <tr>\n",
       "      <th>4</th>\n",
       "      <td>10001</td>\n",
       "      <td>Daniel</td>\n",
       "      <td>Olson</td>\n",
       "      <td>Electronics</td>\n",
       "      <td>San Francisco</td>\n",
       "      <td>30008</td>\n",
       "      <td>Medicine</td>\n",
       "      <td>23.96</td>\n",
       "      <td>40002</td>\n",
       "      <td>BioMed Inc</td>\n",
       "      <td>BioMed Inc</td>\n",
       "    </tr>\n",
       "  </tbody>\n",
       "</table>\n",
       "</div>"
      ],
      "text/plain": [
       "   Employee_ID First_Name Last_Name   Department           City  Product_ID  \\\n",
       "0        10001     Daniel     Olson  Electronics  San Francisco       30001   \n",
       "1        10001     Daniel     Olson  Electronics  San Francisco       30012   \n",
       "2        10001     Daniel     Olson  Electronics  San Francisco       30002   \n",
       "3        10001     Daniel     Olson  Electronics  San Francisco       30007   \n",
       "4        10001     Daniel     Olson  Electronics  San Francisco       30008   \n",
       "\n",
       "  Product_Name  Price  Supplier_ID     Supplier_Name              Name  \n",
       "0      T-Shirt  12.98        40004  Studio Warehouse  Studio Warehouse  \n",
       "1         Coat  56.33        40004  Studio Warehouse  Studio Warehouse  \n",
       "2  Tooth Paste   4.50        40002        BioMed Inc        BioMed Inc  \n",
       "3   Chap Stick   3.67        40002        BioMed Inc        BioMed Inc  \n",
       "4     Medicine  23.96        40002        BioMed Inc        BioMed Inc  "
      ]
     },
     "execution_count": 100,
     "metadata": {
      "tags": []
     },
     "output_type": "execute_result"
    }
   ],
   "source": [
    "combined_df = pd.merge(employee_df, product_supplier_df, how='inner')\n",
    "combined_df.head()"
   ]
  },
  {
   "cell_type": "code",
   "execution_count": 101,
   "metadata": {
    "colab": {
     "autoexec": {
      "startup": false,
      "wait_interval": 0
     },
     "base_uri": "https://localhost:8080/",
     "height": 204
    },
    "colab_type": "code",
    "executionInfo": {
     "elapsed": 357,
     "status": "ok",
     "timestamp": 1531521095456,
     "user": {
      "displayName": "Tairi Delgado",
      "photoUrl": "//lh6.googleusercontent.com/-l4lv-T3P6-c/AAAAAAAAAAI/AAAAAAAABIA/4wtQ8ehIzZw/s50-c-k-no/photo.jpg",
      "userId": "115188476170888991569"
     },
     "user_tz": 420
    },
    "id": "wdEAJP7LjUci",
    "outputId": "a43be396-c5d1-49f5-ef1d-ba835189e7cd"
   },
   "outputs": [
    {
     "data": {
      "text/html": [
       "<div>\n",
       "<style scoped>\n",
       "    .dataframe tbody tr th:only-of-type {\n",
       "        vertical-align: middle;\n",
       "    }\n",
       "\n",
       "    .dataframe tbody tr th {\n",
       "        vertical-align: top;\n",
       "    }\n",
       "\n",
       "    .dataframe thead th {\n",
       "        text-align: right;\n",
       "    }\n",
       "</style>\n",
       "<table border=\"1\" class=\"dataframe\">\n",
       "  <thead>\n",
       "    <tr style=\"text-align: right;\">\n",
       "      <th></th>\n",
       "      <th>Employee_ID</th>\n",
       "      <th>First_Name</th>\n",
       "      <th>Last_Name</th>\n",
       "      <th>City</th>\n",
       "      <th>Product_ID</th>\n",
       "      <th>Product_Name</th>\n",
       "      <th>Price</th>\n",
       "      <th>Supplier_ID</th>\n",
       "      <th>Supplier_Name</th>\n",
       "      <th>Name</th>\n",
       "    </tr>\n",
       "    <tr>\n",
       "      <th>Department</th>\n",
       "      <th></th>\n",
       "      <th></th>\n",
       "      <th></th>\n",
       "      <th></th>\n",
       "      <th></th>\n",
       "      <th></th>\n",
       "      <th></th>\n",
       "      <th></th>\n",
       "      <th></th>\n",
       "      <th></th>\n",
       "    </tr>\n",
       "  </thead>\n",
       "  <tbody>\n",
       "    <tr>\n",
       "      <th>Clothes</th>\n",
       "      <td>22</td>\n",
       "      <td>22</td>\n",
       "      <td>22</td>\n",
       "      <td>22</td>\n",
       "      <td>22</td>\n",
       "      <td>22</td>\n",
       "      <td>22</td>\n",
       "      <td>22</td>\n",
       "      <td>22</td>\n",
       "      <td>22</td>\n",
       "    </tr>\n",
       "    <tr>\n",
       "      <th>Cosmetics</th>\n",
       "      <td>6</td>\n",
       "      <td>6</td>\n",
       "      <td>6</td>\n",
       "      <td>6</td>\n",
       "      <td>6</td>\n",
       "      <td>6</td>\n",
       "      <td>6</td>\n",
       "      <td>6</td>\n",
       "      <td>6</td>\n",
       "      <td>6</td>\n",
       "    </tr>\n",
       "    <tr>\n",
       "      <th>Electronics</th>\n",
       "      <td>14</td>\n",
       "      <td>14</td>\n",
       "      <td>14</td>\n",
       "      <td>14</td>\n",
       "      <td>14</td>\n",
       "      <td>14</td>\n",
       "      <td>14</td>\n",
       "      <td>14</td>\n",
       "      <td>14</td>\n",
       "      <td>14</td>\n",
       "    </tr>\n",
       "    <tr>\n",
       "      <th>Pharmacy, Health &amp; Beauty</th>\n",
       "      <td>6</td>\n",
       "      <td>6</td>\n",
       "      <td>6</td>\n",
       "      <td>6</td>\n",
       "      <td>6</td>\n",
       "      <td>6</td>\n",
       "      <td>6</td>\n",
       "      <td>6</td>\n",
       "      <td>6</td>\n",
       "      <td>6</td>\n",
       "    </tr>\n",
       "  </tbody>\n",
       "</table>\n",
       "</div>"
      ],
      "text/plain": [
       "                           Employee_ID  First_Name  Last_Name  City  \\\n",
       "Department                                                            \n",
       "Clothes                             22          22         22    22   \n",
       "Cosmetics                            6           6          6     6   \n",
       "Electronics                         14          14         14    14   \n",
       "Pharmacy, Health & Beauty            6           6          6     6   \n",
       "\n",
       "                           Product_ID  Product_Name  Price  Supplier_ID  \\\n",
       "Department                                                                \n",
       "Clothes                            22            22     22           22   \n",
       "Cosmetics                           6             6      6            6   \n",
       "Electronics                        14            14     14           14   \n",
       "Pharmacy, Health & Beauty           6             6      6            6   \n",
       "\n",
       "                           Supplier_Name  Name  \n",
       "Department                                      \n",
       "Clothes                               22    22  \n",
       "Cosmetics                              6     6  \n",
       "Electronics                           14    14  \n",
       "Pharmacy, Health & Beauty              6     6  "
      ]
     },
     "execution_count": 101,
     "metadata": {
      "tags": []
     },
     "output_type": "execute_result"
    }
   ],
   "source": [
    "combined_df.groupby('Department').count()"
   ]
  },
  {
   "cell_type": "code",
   "execution_count": 102,
   "metadata": {
    "colab": {
     "autoexec": {
      "startup": false,
      "wait_interval": 0
     },
     "base_uri": "https://localhost:8080/",
     "height": 328
    },
    "colab_type": "code",
    "executionInfo": {
     "elapsed": 371,
     "status": "ok",
     "timestamp": 1531521100782,
     "user": {
      "displayName": "Tairi Delgado",
      "photoUrl": "//lh6.googleusercontent.com/-l4lv-T3P6-c/AAAAAAAAAAI/AAAAAAAABIA/4wtQ8ehIzZw/s50-c-k-no/photo.jpg",
      "userId": "115188476170888991569"
     },
     "user_tz": 420
    },
    "id": "kkWIXvAbjfBu",
    "outputId": "47d72731-5a66-48fe-851b-adb1418d72bc"
   },
   "outputs": [
    {
     "data": {
      "text/html": [
       "<div>\n",
       "<style scoped>\n",
       "    .dataframe tbody tr th:only-of-type {\n",
       "        vertical-align: middle;\n",
       "    }\n",
       "\n",
       "    .dataframe tbody tr th {\n",
       "        vertical-align: top;\n",
       "    }\n",
       "\n",
       "    .dataframe thead th {\n",
       "        text-align: right;\n",
       "    }\n",
       "</style>\n",
       "<table border=\"1\" class=\"dataframe\">\n",
       "  <thead>\n",
       "    <tr style=\"text-align: right;\">\n",
       "      <th></th>\n",
       "      <th></th>\n",
       "      <th>Product_ID</th>\n",
       "    </tr>\n",
       "    <tr>\n",
       "      <th>City</th>\n",
       "      <th>Department</th>\n",
       "      <th></th>\n",
       "    </tr>\n",
       "  </thead>\n",
       "  <tbody>\n",
       "    <tr>\n",
       "      <th rowspan=\"2\" valign=\"top\">Oakland</th>\n",
       "      <th>Clothes</th>\n",
       "      <td>6</td>\n",
       "    </tr>\n",
       "    <tr>\n",
       "      <th>Pharmacy, Health &amp; Beauty</th>\n",
       "      <td>2</td>\n",
       "    </tr>\n",
       "    <tr>\n",
       "      <th rowspan=\"3\" valign=\"top\">San Francisco</th>\n",
       "      <th>Clothes</th>\n",
       "      <td>12</td>\n",
       "    </tr>\n",
       "    <tr>\n",
       "      <th>Cosmetics</th>\n",
       "      <td>6</td>\n",
       "    </tr>\n",
       "    <tr>\n",
       "      <th>Electronics</th>\n",
       "      <td>6</td>\n",
       "    </tr>\n",
       "    <tr>\n",
       "      <th rowspan=\"3\" valign=\"top\">San Jose</th>\n",
       "      <th>Clothes</th>\n",
       "      <td>4</td>\n",
       "    </tr>\n",
       "    <tr>\n",
       "      <th>Electronics</th>\n",
       "      <td>8</td>\n",
       "    </tr>\n",
       "    <tr>\n",
       "      <th>Pharmacy, Health &amp; Beauty</th>\n",
       "      <td>4</td>\n",
       "    </tr>\n",
       "  </tbody>\n",
       "</table>\n",
       "</div>"
      ],
      "text/plain": [
       "                                         Product_ID\n",
       "City          Department                           \n",
       "Oakland       Clothes                             6\n",
       "              Pharmacy, Health & Beauty           2\n",
       "San Francisco Clothes                            12\n",
       "              Cosmetics                           6\n",
       "              Electronics                         6\n",
       "San Jose      Clothes                             4\n",
       "              Electronics                         8\n",
       "              Pharmacy, Health & Beauty           4"
      ]
     },
     "execution_count": 102,
     "metadata": {
      "tags": []
     },
     "output_type": "execute_result"
    }
   ],
   "source": [
    "combined_df[['City','Department','Product_ID']].groupby(['City','Department']).count()"
   ]
  }
 ],
 "metadata": {
  "colab": {
   "default_view": {},
   "name": "Exploring your Data with Numpy & Pandas.ipynb",
   "provenance": [],
   "version": "0.3.2",
   "views": {}
  },
  "kernelspec": {
   "display_name": "Python 3",
   "language": "python",
   "name": "python3"
  }
 },
 "nbformat": 4,
 "nbformat_minor": 1
}
