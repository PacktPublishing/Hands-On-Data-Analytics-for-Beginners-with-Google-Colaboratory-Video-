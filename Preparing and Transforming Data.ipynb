{
 "cells": [
  {
   "cell_type": "markdown",
   "metadata": {
    "colab_type": "text",
    "id": "gFaU_ySK3Suj"
   },
   "source": [
    "# Data Quality"
   ]
  },
  {
   "cell_type": "code",
   "execution_count": 0,
   "metadata": {
    "colab": {
     "autoexec": {
      "startup": false,
      "wait_interval": 0
     }
    },
    "colab_type": "code",
    "id": "F0aZlNWq378E"
   },
   "outputs": [],
   "source": [
    "import numpy as np\n",
    "import pandas as pd"
   ]
  },
  {
   "cell_type": "code",
   "execution_count": 0,
   "metadata": {
    "colab": {
     "autoexec": {
      "startup": false,
      "wait_interval": 0
     }
    },
    "colab_type": "code",
    "id": "cb4yasKn3_9Z"
   },
   "outputs": [],
   "source": [
    "!pip install --upgrade -q gspread\n",
    "\n",
    "from google.colab import auth\n",
    "auth.authenticate_user()\n",
    "import gspread\n",
    "from oauth2client.client import GoogleCredentials\n",
    "\n",
    "gc = gspread.authorize(GoogleCredentials.get_application_default())"
   ]
  },
  {
   "cell_type": "code",
   "execution_count": 0,
   "metadata": {
    "colab": {
     "autoexec": {
      "startup": false,
      "wait_interval": 0
     }
    },
    "colab_type": "code",
    "id": "psHAL_bLYleC"
   },
   "outputs": [],
   "source": [
    "def get_df(file_name, location):\n",
    "  worksheet = gc.open(file_name).get_worksheet(location)\n",
    "  rows = worksheet.get_all_values()\n",
    "  head = rows[0]\n",
    "  data = rows[1:]\n",
    "  df = pd.DataFrame.from_records(data, columns=head)\n",
    "  return df"
   ]
  },
  {
   "cell_type": "code",
   "execution_count": 116,
   "metadata": {
    "colab": {
     "autoexec": {
      "startup": false,
      "wait_interval": 0
     },
     "base_uri": "https://localhost:8080/",
     "height": 638
    },
    "colab_type": "code",
    "executionInfo": {
     "elapsed": 1414,
     "status": "ok",
     "timestamp": 1527147520289,
     "user": {
      "displayName": "Tairi Delgado",
      "photoUrl": "//lh6.googleusercontent.com/-l4lv-T3P6-c/AAAAAAAAAAI/AAAAAAAABIA/4wtQ8ehIzZw/s50-c-k-no/photo.jpg",
      "userId": "115188476170888991569"
     },
     "user_tz": 420
    },
    "id": "6BQ4S-IqZHw7",
    "outputId": "e2514182-d17c-40ac-a95d-da29626963ce"
   },
   "outputs": [
    {
     "data": {
      "text/html": [
       "<div>\n",
       "<style scoped>\n",
       "    .dataframe tbody tr th:only-of-type {\n",
       "        vertical-align: middle;\n",
       "    }\n",
       "\n",
       "    .dataframe tbody tr th {\n",
       "        vertical-align: top;\n",
       "    }\n",
       "\n",
       "    .dataframe thead th {\n",
       "        text-align: right;\n",
       "    }\n",
       "</style>\n",
       "<table border=\"1\" class=\"dataframe\">\n",
       "  <thead>\n",
       "    <tr style=\"text-align: right;\">\n",
       "      <th></th>\n",
       "      <th>Employee ID</th>\n",
       "      <th>First Name</th>\n",
       "      <th>Last Name</th>\n",
       "      <th>Department</th>\n",
       "      <th>City</th>\n",
       "    </tr>\n",
       "  </thead>\n",
       "  <tbody>\n",
       "    <tr>\n",
       "      <th>0</th>\n",
       "      <td>10001</td>\n",
       "      <td>Daniel</td>\n",
       "      <td>Olson</td>\n",
       "      <td>Electronics</td>\n",
       "      <td>San Francisco</td>\n",
       "    </tr>\n",
       "    <tr>\n",
       "      <th>1</th>\n",
       "      <td>10002</td>\n",
       "      <td>Nick</td>\n",
       "      <td>Markmen</td>\n",
       "      <td>Clothes</td>\n",
       "      <td>San Francisco</td>\n",
       "    </tr>\n",
       "    <tr>\n",
       "      <th>2</th>\n",
       "      <td>10003</td>\n",
       "      <td>Maria</td>\n",
       "      <td>Gonzales</td>\n",
       "      <td>Electronics</td>\n",
       "      <td>San Jose</td>\n",
       "    </tr>\n",
       "    <tr>\n",
       "      <th>3</th>\n",
       "      <td>10004</td>\n",
       "      <td>George</td>\n",
       "      <td>Wong</td>\n",
       "      <td>Clothes</td>\n",
       "      <td>San Francisco</td>\n",
       "    </tr>\n",
       "    <tr>\n",
       "      <th>4</th>\n",
       "      <td>10005</td>\n",
       "      <td>Stephanie</td>\n",
       "      <td>Williams</td>\n",
       "      <td>Clothes</td>\n",
       "      <td>Oakland</td>\n",
       "    </tr>\n",
       "    <tr>\n",
       "      <th>5</th>\n",
       "      <td>10006</td>\n",
       "      <td>Miguel</td>\n",
       "      <td>Alva</td>\n",
       "      <td>Clothes</td>\n",
       "      <td>Oakland</td>\n",
       "    </tr>\n",
       "    <tr>\n",
       "      <th>6</th>\n",
       "      <td>10007</td>\n",
       "      <td>Jessica</td>\n",
       "      <td>Collins</td>\n",
       "      <td>Cosmetics</td>\n",
       "      <td>San Francisco</td>\n",
       "    </tr>\n",
       "    <tr>\n",
       "      <th>7</th>\n",
       "      <td>10008</td>\n",
       "      <td>Ted</td>\n",
       "      <td>Anderson</td>\n",
       "      <td>Clothes</td>\n",
       "      <td>Oakland</td>\n",
       "    </tr>\n",
       "    <tr>\n",
       "      <th>8</th>\n",
       "      <td>10009</td>\n",
       "      <td>Victoria</td>\n",
       "      <td>Garcia</td>\n",
       "      <td>Clothes</td>\n",
       "      <td>San Jose</td>\n",
       "    </tr>\n",
       "    <tr>\n",
       "      <th>9</th>\n",
       "      <td>10010</td>\n",
       "      <td>Jasmine</td>\n",
       "      <td>Khan</td>\n",
       "      <td>Pharmacy, Health &amp; Beauty</td>\n",
       "      <td>Oakland</td>\n",
       "    </tr>\n",
       "    <tr>\n",
       "      <th>10</th>\n",
       "      <td>10011</td>\n",
       "      <td>Adam</td>\n",
       "      <td>Smith</td>\n",
       "      <td>Pharmacy, Health &amp; Beauty</td>\n",
       "      <td>San Jose</td>\n",
       "    </tr>\n",
       "    <tr>\n",
       "      <th>11</th>\n",
       "      <td>10012</td>\n",
       "      <td>Rachel</td>\n",
       "      <td>Kim</td>\n",
       "      <td>Electronics</td>\n",
       "      <td>San Jose</td>\n",
       "    </tr>\n",
       "    <tr>\n",
       "      <th>12</th>\n",
       "      <td>10012</td>\n",
       "      <td>Adam R.</td>\n",
       "      <td>West</td>\n",
       "      <td>Clothes</td>\n",
       "      <td>San Jose</td>\n",
       "    </tr>\n",
       "    <tr>\n",
       "      <th>13</th>\n",
       "      <td>10012</td>\n",
       "      <td>Adam</td>\n",
       "      <td>West</td>\n",
       "      <td>Clothes</td>\n",
       "      <td>San Jose</td>\n",
       "    </tr>\n",
       "    <tr>\n",
       "      <th>14</th>\n",
       "      <td>10013</td>\n",
       "      <td>Kim</td>\n",
       "      <td>Ng</td>\n",
       "      <td></td>\n",
       "      <td>San Francisco</td>\n",
       "    </tr>\n",
       "    <tr>\n",
       "      <th>15</th>\n",
       "      <td>10014</td>\n",
       "      <td>Nicole</td>\n",
       "      <td></td>\n",
       "      <td>Pharmacy, Health &amp; Beauty</td>\n",
       "      <td>Oakland</td>\n",
       "    </tr>\n",
       "    <tr>\n",
       "      <th>16</th>\n",
       "      <td>3k3d8leu</td>\n",
       "      <td>James</td>\n",
       "      <td>TELLER</td>\n",
       "      <td>Clothes</td>\n",
       "      <td>SANJOSE,CA</td>\n",
       "    </tr>\n",
       "    <tr>\n",
       "      <th>17</th>\n",
       "      <td>1100123</td>\n",
       "      <td>Carie</td>\n",
       "      <td>Olson</td>\n",
       "      <td>Clothes/Electronics</td>\n",
       "      <td>SF</td>\n",
       "    </tr>\n",
       "    <tr>\n",
       "      <th>18</th>\n",
       "      <td>10015</td>\n",
       "      <td>JonathaN_</td>\n",
       "      <td>hernandez</td>\n",
       "      <td>N/A</td>\n",
       "      <td>San Jose</td>\n",
       "    </tr>\n",
       "  </tbody>\n",
       "</table>\n",
       "</div>"
      ],
      "text/plain": [
       "   Employee ID First Name  Last Name                 Department           City\n",
       "0        10001     Daniel      Olson                Electronics  San Francisco\n",
       "1        10002       Nick    Markmen                    Clothes  San Francisco\n",
       "2        10003      Maria   Gonzales                Electronics       San Jose\n",
       "3        10004     George       Wong                    Clothes  San Francisco\n",
       "4        10005  Stephanie   Williams                    Clothes        Oakland\n",
       "5        10006     Miguel       Alva                    Clothes        Oakland\n",
       "6        10007    Jessica    Collins                  Cosmetics  San Francisco\n",
       "7        10008        Ted   Anderson                    Clothes        Oakland\n",
       "8        10009  Victoria      Garcia                    Clothes       San Jose\n",
       "9        10010    Jasmine       Khan  Pharmacy, Health & Beauty        Oakland\n",
       "10       10011       Adam      Smith  Pharmacy, Health & Beauty       San Jose\n",
       "11       10012     Rachel        Kim                Electronics       San Jose\n",
       "12       10012    Adam R.       West                    Clothes       San Jose\n",
       "13       10012       Adam       West                    Clothes       San Jose\n",
       "14       10013        Kim         Ng                             San Francisco\n",
       "15       10014     Nicole             Pharmacy, Health & Beauty        Oakland\n",
       "16    3k3d8leu      James     TELLER                    Clothes     SANJOSE,CA\n",
       "17     1100123      Carie      Olson        Clothes/Electronics             SF\n",
       "18       10015  JonathaN_  hernandez                        N/A       San Jose"
      ]
     },
     "execution_count": 116,
     "metadata": {
      "tags": []
     },
     "output_type": "execute_result"
    }
   ],
   "source": [
    "employees = get_df('Sales', 0)\n",
    "employees"
   ]
  },
  {
   "cell_type": "code",
   "execution_count": 117,
   "metadata": {
    "colab": {
     "autoexec": {
      "startup": false,
      "wait_interval": 0
     },
     "base_uri": "https://localhost:8080/",
     "height": 514
    },
    "colab_type": "code",
    "executionInfo": {
     "elapsed": 740,
     "status": "ok",
     "timestamp": 1527147521134,
     "user": {
      "displayName": "Tairi Delgado",
      "photoUrl": "//lh6.googleusercontent.com/-l4lv-T3P6-c/AAAAAAAAAAI/AAAAAAAABIA/4wtQ8ehIzZw/s50-c-k-no/photo.jpg",
      "userId": "115188476170888991569"
     },
     "user_tz": 420
    },
    "id": "apq-WvdhZz4X",
    "outputId": "43be924e-ac93-4c31-81ee-80bf237e6a57"
   },
   "outputs": [
    {
     "data": {
      "text/html": [
       "<div>\n",
       "<style scoped>\n",
       "    .dataframe tbody tr th:only-of-type {\n",
       "        vertical-align: middle;\n",
       "    }\n",
       "\n",
       "    .dataframe tbody tr th {\n",
       "        vertical-align: top;\n",
       "    }\n",
       "\n",
       "    .dataframe thead th {\n",
       "        text-align: right;\n",
       "    }\n",
       "</style>\n",
       "<table border=\"1\" class=\"dataframe\">\n",
       "  <thead>\n",
       "    <tr style=\"text-align: right;\">\n",
       "      <th></th>\n",
       "      <th>Customer ID</th>\n",
       "      <th>First Name</th>\n",
       "      <th>Last Name</th>\n",
       "      <th>City</th>\n",
       "    </tr>\n",
       "  </thead>\n",
       "  <tbody>\n",
       "    <tr>\n",
       "      <th>0</th>\n",
       "      <td>20001</td>\n",
       "      <td>Jack</td>\n",
       "      <td>Ward</td>\n",
       "      <td>San Jose</td>\n",
       "    </tr>\n",
       "    <tr>\n",
       "      <th>1</th>\n",
       "      <td>20002</td>\n",
       "      <td>Steven</td>\n",
       "      <td>Martinez</td>\n",
       "      <td>San Francisco</td>\n",
       "    </tr>\n",
       "    <tr>\n",
       "      <th>2</th>\n",
       "      <td>20003</td>\n",
       "      <td>Jessica</td>\n",
       "      <td>Collins</td>\n",
       "      <td>San Jose</td>\n",
       "    </tr>\n",
       "    <tr>\n",
       "      <th>3</th>\n",
       "      <td>20004</td>\n",
       "      <td>Carie</td>\n",
       "      <td>Robinson</td>\n",
       "      <td>San Francisco</td>\n",
       "    </tr>\n",
       "    <tr>\n",
       "      <th>4</th>\n",
       "      <td>20005</td>\n",
       "      <td>Zack</td>\n",
       "      <td>Peterson</td>\n",
       "      <td>Oakland</td>\n",
       "    </tr>\n",
       "    <tr>\n",
       "      <th>5</th>\n",
       "      <td>20006</td>\n",
       "      <td>Bianca</td>\n",
       "      <td>Sanchez</td>\n",
       "      <td>San Francisco</td>\n",
       "    </tr>\n",
       "    <tr>\n",
       "      <th>6</th>\n",
       "      <td>20007</td>\n",
       "      <td>James</td>\n",
       "      <td>Owen</td>\n",
       "      <td>Oakland</td>\n",
       "    </tr>\n",
       "    <tr>\n",
       "      <th>7</th>\n",
       "      <td>20008</td>\n",
       "      <td>Lisa</td>\n",
       "      <td>Smith</td>\n",
       "      <td>San Francisco</td>\n",
       "    </tr>\n",
       "    <tr>\n",
       "      <th>8</th>\n",
       "      <td>20009</td>\n",
       "      <td>Daniel</td>\n",
       "      <td>Yasukawa</td>\n",
       "      <td>Oakland</td>\n",
       "    </tr>\n",
       "    <tr>\n",
       "      <th>9</th>\n",
       "      <td>20010</td>\n",
       "      <td>Lauren</td>\n",
       "      <td>Pham</td>\n",
       "      <td>San Jose</td>\n",
       "    </tr>\n",
       "    <tr>\n",
       "      <th>10</th>\n",
       "      <td>20011</td>\n",
       "      <td>Juan</td>\n",
       "      <td>Diaz</td>\n",
       "      <td>Oakland</td>\n",
       "    </tr>\n",
       "    <tr>\n",
       "      <th>11</th>\n",
       "      <td>20012</td>\n",
       "      <td>Martha</td>\n",
       "      <td>Diaz</td>\n",
       "      <td>San Francisco</td>\n",
       "    </tr>\n",
       "    <tr>\n",
       "      <th>12</th>\n",
       "      <td>20013</td>\n",
       "      <td>Margret Shang</td>\n",
       "      <td></td>\n",
       "      <td>Oak Town</td>\n",
       "    </tr>\n",
       "    <tr>\n",
       "      <th>13</th>\n",
       "      <td>20014</td>\n",
       "      <td>Jeremy</td>\n",
       "      <td>Fernandez</td>\n",
       "      <td>Berkeley</td>\n",
       "    </tr>\n",
       "    <tr>\n",
       "      <th>14</th>\n",
       "      <td>20018</td>\n",
       "      <td>Tiffany</td>\n",
       "      <td>Williams</td>\n",
       "      <td>Frisco</td>\n",
       "    </tr>\n",
       "  </tbody>\n",
       "</table>\n",
       "</div>"
      ],
      "text/plain": [
       "   Customer ID     First Name  Last Name           City\n",
       "0        20001           Jack       Ward       San Jose\n",
       "1        20002         Steven   Martinez  San Francisco\n",
       "2        20003        Jessica    Collins       San Jose\n",
       "3        20004          Carie   Robinson  San Francisco\n",
       "4        20005           Zack   Peterson        Oakland\n",
       "5        20006         Bianca    Sanchez  San Francisco\n",
       "6        20007          James       Owen        Oakland\n",
       "7        20008           Lisa      Smith  San Francisco\n",
       "8        20009         Daniel   Yasukawa        Oakland\n",
       "9        20010         Lauren       Pham       San Jose\n",
       "10       20011           Juan       Diaz        Oakland\n",
       "11       20012         Martha       Diaz  San Francisco\n",
       "12       20013  Margret Shang                  Oak Town\n",
       "13       20014         Jeremy  Fernandez       Berkeley\n",
       "14       20018        Tiffany   Williams         Frisco"
      ]
     },
     "execution_count": 117,
     "metadata": {
      "tags": []
     },
     "output_type": "execute_result"
    }
   ],
   "source": [
    "customers = get_df('Sales', 1)\n",
    "customers"
   ]
  },
  {
   "cell_type": "code",
   "execution_count": 118,
   "metadata": {
    "colab": {
     "autoexec": {
      "startup": false,
      "wait_interval": 0
     },
     "base_uri": "https://localhost:8080/",
     "height": 545
    },
    "colab_type": "code",
    "executionInfo": {
     "elapsed": 987,
     "status": "ok",
     "timestamp": 1527147522160,
     "user": {
      "displayName": "Tairi Delgado",
      "photoUrl": "//lh6.googleusercontent.com/-l4lv-T3P6-c/AAAAAAAAAAI/AAAAAAAABIA/4wtQ8ehIzZw/s50-c-k-no/photo.jpg",
      "userId": "115188476170888991569"
     },
     "user_tz": 420
    },
    "id": "V-pbkaN9aLsS",
    "outputId": "f4d0a1a2-7d0b-4b20-bd1d-ed95ea19881f"
   },
   "outputs": [
    {
     "data": {
      "text/html": [
       "<div>\n",
       "<style scoped>\n",
       "    .dataframe tbody tr th:only-of-type {\n",
       "        vertical-align: middle;\n",
       "    }\n",
       "\n",
       "    .dataframe tbody tr th {\n",
       "        vertical-align: top;\n",
       "    }\n",
       "\n",
       "    .dataframe thead th {\n",
       "        text-align: right;\n",
       "    }\n",
       "</style>\n",
       "<table border=\"1\" class=\"dataframe\">\n",
       "  <thead>\n",
       "    <tr style=\"text-align: right;\">\n",
       "      <th></th>\n",
       "      <th>Product ID</th>\n",
       "      <th>Product Name</th>\n",
       "      <th>Price</th>\n",
       "      <th>Supplier ID</th>\n",
       "      <th>Supplier Name</th>\n",
       "    </tr>\n",
       "  </thead>\n",
       "  <tbody>\n",
       "    <tr>\n",
       "      <th>0</th>\n",
       "      <td>30001</td>\n",
       "      <td>T-Shirt</td>\n",
       "      <td>12.98</td>\n",
       "      <td>40004</td>\n",
       "      <td>Studio Warehouse</td>\n",
       "    </tr>\n",
       "    <tr>\n",
       "      <th>1</th>\n",
       "      <td>30002</td>\n",
       "      <td>Tooth Paste</td>\n",
       "      <td>4.5</td>\n",
       "      <td>40002</td>\n",
       "      <td>BioMed Inc</td>\n",
       "    </tr>\n",
       "    <tr>\n",
       "      <th>2</th>\n",
       "      <td>30003</td>\n",
       "      <td>Speakers</td>\n",
       "      <td>56.99</td>\n",
       "      <td>40005</td>\n",
       "      <td>CompTech, Inc</td>\n",
       "    </tr>\n",
       "    <tr>\n",
       "      <th>3</th>\n",
       "      <td>30004</td>\n",
       "      <td>Pants</td>\n",
       "      <td>34.35</td>\n",
       "      <td>40003</td>\n",
       "      <td>FashionRUs</td>\n",
       "    </tr>\n",
       "    <tr>\n",
       "      <th>4</th>\n",
       "      <td>30005</td>\n",
       "      <td>Microphone</td>\n",
       "      <td>46.21</td>\n",
       "      <td>40001</td>\n",
       "      <td>Music Vibrations, Inc</td>\n",
       "    </tr>\n",
       "    <tr>\n",
       "      <th>5</th>\n",
       "      <td>30006</td>\n",
       "      <td>Tie</td>\n",
       "      <td>11.09</td>\n",
       "      <td>40003</td>\n",
       "      <td>FashionRUs</td>\n",
       "    </tr>\n",
       "    <tr>\n",
       "      <th>6</th>\n",
       "      <td>30007</td>\n",
       "      <td>Chap Stick</td>\n",
       "      <td>3.67</td>\n",
       "      <td>40002</td>\n",
       "      <td>BioMed Inc</td>\n",
       "    </tr>\n",
       "    <tr>\n",
       "      <th>7</th>\n",
       "      <td>30008</td>\n",
       "      <td>Medicine</td>\n",
       "      <td>23.96</td>\n",
       "      <td>40002</td>\n",
       "      <td>BioMed Inc</td>\n",
       "    </tr>\n",
       "    <tr>\n",
       "      <th>8</th>\n",
       "      <td>30009</td>\n",
       "      <td>Headphones</td>\n",
       "      <td>31.44</td>\n",
       "      <td>40001</td>\n",
       "      <td>Music Vibrations, Inc</td>\n",
       "    </tr>\n",
       "    <tr>\n",
       "      <th>9</th>\n",
       "      <td>30010</td>\n",
       "      <td>Lotion</td>\n",
       "      <td>16.77</td>\n",
       "      <td>40002</td>\n",
       "      <td>BioMed Inc</td>\n",
       "    </tr>\n",
       "    <tr>\n",
       "      <th>10</th>\n",
       "      <td>30011</td>\n",
       "      <td>DVD Player</td>\n",
       "      <td>149.99</td>\n",
       "      <td>40005</td>\n",
       "      <td>CompTech, Inc</td>\n",
       "    </tr>\n",
       "    <tr>\n",
       "      <th>11</th>\n",
       "      <td>30012</td>\n",
       "      <td>Coat</td>\n",
       "      <td>56.33</td>\n",
       "      <td>40004</td>\n",
       "      <td>Studio Warehouse</td>\n",
       "    </tr>\n",
       "    <tr>\n",
       "      <th>12</th>\n",
       "      <td>40013</td>\n",
       "      <td>Back Pack</td>\n",
       "      <td>Twenty Two Dollars</td>\n",
       "      <td>40006</td>\n",
       "      <td>WearUps Inc</td>\n",
       "    </tr>\n",
       "    <tr>\n",
       "      <th>13</th>\n",
       "      <td>40014</td>\n",
       "      <td>Auditing Services</td>\n",
       "      <td>7000</td>\n",
       "      <td>40007</td>\n",
       "      <td>DataQuery Inc</td>\n",
       "    </tr>\n",
       "    <tr>\n",
       "      <th>14</th>\n",
       "      <td>12!d3&amp;)dkc_+@ad</td>\n",
       "      <td>Car</td>\n",
       "      <td></td>\n",
       "      <td>48350254-5qe</td>\n",
       "      <td></td>\n",
       "    </tr>\n",
       "    <tr>\n",
       "      <th>15</th>\n",
       "      <td>40015</td>\n",
       "      <td>Shirt</td>\n",
       "      <td>180</td>\n",
       "      <td>40003</td>\n",
       "      <td>Ropa Inc</td>\n",
       "    </tr>\n",
       "  </tbody>\n",
       "</table>\n",
       "</div>"
      ],
      "text/plain": [
       "         Product ID       Product Name               Price   Supplier ID  \\\n",
       "0             30001            T-Shirt               12.98         40004   \n",
       "1             30002        Tooth Paste                 4.5         40002   \n",
       "2             30003           Speakers               56.99         40005   \n",
       "3             30004              Pants               34.35         40003   \n",
       "4             30005         Microphone               46.21         40001   \n",
       "5             30006                Tie               11.09         40003   \n",
       "6             30007         Chap Stick                3.67         40002   \n",
       "7             30008           Medicine               23.96         40002   \n",
       "8             30009         Headphones               31.44         40001   \n",
       "9             30010             Lotion               16.77         40002   \n",
       "10            30011         DVD Player              149.99         40005   \n",
       "11            30012               Coat               56.33         40004   \n",
       "12            40013          Back Pack  Twenty Two Dollars         40006   \n",
       "13            40014  Auditing Services                7000         40007   \n",
       "14  12!d3&)dkc_+@ad                Car                      48350254-5qe   \n",
       "15            40015              Shirt                 180         40003   \n",
       "\n",
       "            Supplier Name  \n",
       "0        Studio Warehouse  \n",
       "1              BioMed Inc  \n",
       "2           CompTech, Inc  \n",
       "3              FashionRUs  \n",
       "4   Music Vibrations, Inc  \n",
       "5              FashionRUs  \n",
       "6              BioMed Inc  \n",
       "7              BioMed Inc  \n",
       "8   Music Vibrations, Inc  \n",
       "9              BioMed Inc  \n",
       "10          CompTech, Inc  \n",
       "11       Studio Warehouse  \n",
       "12            WearUps Inc  \n",
       "13          DataQuery Inc  \n",
       "14                         \n",
       "15               Ropa Inc  "
      ]
     },
     "execution_count": 118,
     "metadata": {
      "tags": []
     },
     "output_type": "execute_result"
    }
   ],
   "source": [
    "products = get_df('Sales', 2)\n",
    "products"
   ]
  },
  {
   "cell_type": "code",
   "execution_count": 119,
   "metadata": {
    "colab": {
     "autoexec": {
      "startup": false,
      "wait_interval": 0
     },
     "base_uri": "https://localhost:8080/",
     "height": 421
    },
    "colab_type": "code",
    "executionInfo": {
     "elapsed": 843,
     "status": "ok",
     "timestamp": 1527147523033,
     "user": {
      "displayName": "Tairi Delgado",
      "photoUrl": "//lh6.googleusercontent.com/-l4lv-T3P6-c/AAAAAAAAAAI/AAAAAAAABIA/4wtQ8ehIzZw/s50-c-k-no/photo.jpg",
      "userId": "115188476170888991569"
     },
     "user_tz": 420
    },
    "id": "nhGvyov-aqoJ",
    "outputId": "8b63f856-9af9-4efb-b473-bc66379c5928"
   },
   "outputs": [
    {
     "data": {
      "text/html": [
       "<div>\n",
       "<style scoped>\n",
       "    .dataframe tbody tr th:only-of-type {\n",
       "        vertical-align: middle;\n",
       "    }\n",
       "\n",
       "    .dataframe tbody tr th {\n",
       "        vertical-align: top;\n",
       "    }\n",
       "\n",
       "    .dataframe thead th {\n",
       "        text-align: right;\n",
       "    }\n",
       "</style>\n",
       "<table border=\"1\" class=\"dataframe\">\n",
       "  <thead>\n",
       "    <tr style=\"text-align: right;\">\n",
       "      <th></th>\n",
       "      <th>Order ID</th>\n",
       "      <th>Customer ID</th>\n",
       "      <th>Product ID</th>\n",
       "      <th>Employee ID</th>\n",
       "      <th>Date</th>\n",
       "    </tr>\n",
       "  </thead>\n",
       "  <tbody>\n",
       "    <tr>\n",
       "      <th>0</th>\n",
       "      <td>50001</td>\n",
       "      <td>20005</td>\n",
       "      <td>30005</td>\n",
       "      <td>10001</td>\n",
       "      <td>17-02-12</td>\n",
       "    </tr>\n",
       "    <tr>\n",
       "      <th>1</th>\n",
       "      <td>50002</td>\n",
       "      <td>20003</td>\n",
       "      <td>30008</td>\n",
       "      <td>10011</td>\n",
       "      <td>17-09-03</td>\n",
       "    </tr>\n",
       "    <tr>\n",
       "      <th>2</th>\n",
       "      <td>50003</td>\n",
       "      <td>20010</td>\n",
       "      <td>30001</td>\n",
       "      <td>10009</td>\n",
       "      <td>17-11-23</td>\n",
       "    </tr>\n",
       "    <tr>\n",
       "      <th>3</th>\n",
       "      <td>50004</td>\n",
       "      <td>20004</td>\n",
       "      <td>30008</td>\n",
       "      <td>10010</td>\n",
       "      <td>17-01-28</td>\n",
       "    </tr>\n",
       "    <tr>\n",
       "      <th>4</th>\n",
       "      <td>50005</td>\n",
       "      <td>20008</td>\n",
       "      <td>30012</td>\n",
       "      <td>10002</td>\n",
       "      <td>17-08-11</td>\n",
       "    </tr>\n",
       "    <tr>\n",
       "      <th>5</th>\n",
       "      <td>50006</td>\n",
       "      <td>20011</td>\n",
       "      <td>30011</td>\n",
       "      <td>10001</td>\n",
       "      <td>17-04-13</td>\n",
       "    </tr>\n",
       "    <tr>\n",
       "      <th>6</th>\n",
       "      <td>50007</td>\n",
       "      <td>20012</td>\n",
       "      <td>30002</td>\n",
       "      <td>10007</td>\n",
       "      <td>17-10-07</td>\n",
       "    </tr>\n",
       "    <tr>\n",
       "      <th>7</th>\n",
       "      <td>50008</td>\n",
       "      <td>20002</td>\n",
       "      <td>30001</td>\n",
       "      <td>10004</td>\n",
       "      <td>17-03-09</td>\n",
       "    </tr>\n",
       "    <tr>\n",
       "      <th>8</th>\n",
       "      <td>50009</td>\n",
       "      <td>20001</td>\n",
       "      <td>30006</td>\n",
       "      <td>10009</td>\n",
       "      <td>17-12-26</td>\n",
       "    </tr>\n",
       "    <tr>\n",
       "      <th>9</th>\n",
       "      <td>20010</td>\n",
       "      <td>50008</td>\n",
       "      <td>30007</td>\n",
       "      <td>10008</td>\n",
       "      <td>09-26</td>\n",
       "    </tr>\n",
       "    <tr>\n",
       "      <th>10</th>\n",
       "      <td>50017</td>\n",
       "      <td></td>\n",
       "      <td>30096</td>\n",
       "      <td>10012</td>\n",
       "      <td>12-26</td>\n",
       "    </tr>\n",
       "    <tr>\n",
       "      <th>11</th>\n",
       "      <td>50018</td>\n",
       "      <td>20022</td>\n",
       "      <td>30007</td>\n",
       "      <td>10123</td>\n",
       "      <td>02-21-01</td>\n",
       "    </tr>\n",
       "  </tbody>\n",
       "</table>\n",
       "</div>"
      ],
      "text/plain": [
       "   Order ID Customer ID Product ID Employee ID      Date\n",
       "0     50001       20005      30005       10001  17-02-12\n",
       "1     50002       20003      30008       10011  17-09-03\n",
       "2     50003       20010      30001       10009  17-11-23\n",
       "3     50004       20004      30008       10010  17-01-28\n",
       "4     50005       20008      30012       10002  17-08-11\n",
       "5     50006       20011      30011       10001  17-04-13\n",
       "6     50007       20012      30002       10007  17-10-07\n",
       "7     50008       20002      30001       10004  17-03-09\n",
       "8     50009       20001      30006       10009  17-12-26\n",
       "9     20010       50008      30007       10008     09-26\n",
       "10    50017                  30096       10012     12-26\n",
       "11    50018       20022      30007       10123  02-21-01"
      ]
     },
     "execution_count": 119,
     "metadata": {
      "tags": []
     },
     "output_type": "execute_result"
    }
   ],
   "source": [
    "orders = get_df('Sales', 3)\n",
    "orders"
   ]
  },
  {
   "cell_type": "code",
   "execution_count": 120,
   "metadata": {
    "colab": {
     "autoexec": {
      "startup": false,
      "wait_interval": 0
     },
     "base_uri": "https://localhost:8080/",
     "height": 297
    },
    "colab_type": "code",
    "executionInfo": {
     "elapsed": 939,
     "status": "ok",
     "timestamp": 1527147524009,
     "user": {
      "displayName": "Tairi Delgado",
      "photoUrl": "//lh6.googleusercontent.com/-l4lv-T3P6-c/AAAAAAAAAAI/AAAAAAAABIA/4wtQ8ehIzZw/s50-c-k-no/photo.jpg",
      "userId": "115188476170888991569"
     },
     "user_tz": 420
    },
    "id": "LdE2RJTmbfFc",
    "outputId": "bc75a5f8-6712-4636-dfe9-d453869bb534"
   },
   "outputs": [
    {
     "data": {
      "text/html": [
       "<div>\n",
       "<style scoped>\n",
       "    .dataframe tbody tr th:only-of-type {\n",
       "        vertical-align: middle;\n",
       "    }\n",
       "\n",
       "    .dataframe tbody tr th {\n",
       "        vertical-align: top;\n",
       "    }\n",
       "\n",
       "    .dataframe thead th {\n",
       "        text-align: right;\n",
       "    }\n",
       "</style>\n",
       "<table border=\"1\" class=\"dataframe\">\n",
       "  <thead>\n",
       "    <tr style=\"text-align: right;\">\n",
       "      <th></th>\n",
       "      <th>Supplier ID</th>\n",
       "      <th>Name</th>\n",
       "      <th>City</th>\n",
       "    </tr>\n",
       "  </thead>\n",
       "  <tbody>\n",
       "    <tr>\n",
       "      <th>0</th>\n",
       "      <td>40001</td>\n",
       "      <td>Music Vibrations, Inc</td>\n",
       "      <td>Oakland</td>\n",
       "    </tr>\n",
       "    <tr>\n",
       "      <th>1</th>\n",
       "      <td>40002</td>\n",
       "      <td>BioMed Inc</td>\n",
       "      <td>San Francisco</td>\n",
       "    </tr>\n",
       "    <tr>\n",
       "      <th>2</th>\n",
       "      <td>40003</td>\n",
       "      <td>FashionRUs</td>\n",
       "      <td>San Jose</td>\n",
       "    </tr>\n",
       "    <tr>\n",
       "      <th>3</th>\n",
       "      <td>40004</td>\n",
       "      <td>Studio Warehouse</td>\n",
       "      <td>San Francisco</td>\n",
       "    </tr>\n",
       "    <tr>\n",
       "      <th>4</th>\n",
       "      <td>40005</td>\n",
       "      <td>CompTech, Inc</td>\n",
       "      <td>San Jose</td>\n",
       "    </tr>\n",
       "    <tr>\n",
       "      <th>5</th>\n",
       "      <td>400006</td>\n",
       "      <td>WearUps Inc</td>\n",
       "      <td>NY</td>\n",
       "    </tr>\n",
       "    <tr>\n",
       "      <th>6</th>\n",
       "      <td>40007</td>\n",
       "      <td>DataQuery Inc</td>\n",
       "      <td>SJ</td>\n",
       "    </tr>\n",
       "    <tr>\n",
       "      <th>7</th>\n",
       "      <td>40008</td>\n",
       "      <td>Ropa Inc</td>\n",
       "      <td>Mexico</td>\n",
       "    </tr>\n",
       "  </tbody>\n",
       "</table>\n",
       "</div>"
      ],
      "text/plain": [
       "  Supplier ID                   Name           City\n",
       "0       40001  Music Vibrations, Inc        Oakland\n",
       "1       40002             BioMed Inc  San Francisco\n",
       "2       40003             FashionRUs       San Jose\n",
       "3       40004       Studio Warehouse  San Francisco\n",
       "4       40005          CompTech, Inc       San Jose\n",
       "5      400006            WearUps Inc             NY\n",
       "6       40007          DataQuery Inc             SJ\n",
       "7       40008               Ropa Inc         Mexico"
      ]
     },
     "execution_count": 120,
     "metadata": {
      "tags": []
     },
     "output_type": "execute_result"
    }
   ],
   "source": [
    "suppliers = get_df('Sales', 4)\n",
    "suppliers"
   ]
  },
  {
   "cell_type": "markdown",
   "metadata": {
    "colab_type": "text",
    "id": "pay21EQhaL_0"
   },
   "source": [
    "# Auditing Data"
   ]
  },
  {
   "cell_type": "code",
   "execution_count": 121,
   "metadata": {
    "colab": {
     "autoexec": {
      "startup": false,
      "wait_interval": 0
     },
     "base_uri": "https://localhost:8080/",
     "height": 173
    },
    "colab_type": "code",
    "executionInfo": {
     "elapsed": 332,
     "status": "ok",
     "timestamp": 1527147524375,
     "user": {
      "displayName": "Tairi Delgado",
      "photoUrl": "//lh6.googleusercontent.com/-l4lv-T3P6-c/AAAAAAAAAAI/AAAAAAAABIA/4wtQ8ehIzZw/s50-c-k-no/photo.jpg",
      "userId": "115188476170888991569"
     },
     "user_tz": 420
    },
    "id": "YTP4pzMma_1T",
    "outputId": "f3b9ac5a-c901-42cc-9df1-dc3142998ce8"
   },
   "outputs": [
    {
     "data": {
      "text/html": [
       "<div>\n",
       "<style scoped>\n",
       "    .dataframe tbody tr th:only-of-type {\n",
       "        vertical-align: middle;\n",
       "    }\n",
       "\n",
       "    .dataframe tbody tr th {\n",
       "        vertical-align: top;\n",
       "    }\n",
       "\n",
       "    .dataframe thead th {\n",
       "        text-align: right;\n",
       "    }\n",
       "</style>\n",
       "<table border=\"1\" class=\"dataframe\">\n",
       "  <thead>\n",
       "    <tr style=\"text-align: right;\">\n",
       "      <th></th>\n",
       "      <th>Employee ID</th>\n",
       "      <th>First Name</th>\n",
       "      <th>Last Name</th>\n",
       "      <th>Department</th>\n",
       "      <th>City</th>\n",
       "    </tr>\n",
       "  </thead>\n",
       "  <tbody>\n",
       "    <tr>\n",
       "      <th>count</th>\n",
       "      <td>19</td>\n",
       "      <td>19</td>\n",
       "      <td>19</td>\n",
       "      <td>19</td>\n",
       "      <td>19</td>\n",
       "    </tr>\n",
       "    <tr>\n",
       "      <th>unique</th>\n",
       "      <td>17</td>\n",
       "      <td>18</td>\n",
       "      <td>17</td>\n",
       "      <td>7</td>\n",
       "      <td>5</td>\n",
       "    </tr>\n",
       "    <tr>\n",
       "      <th>top</th>\n",
       "      <td>10012</td>\n",
       "      <td>Adam</td>\n",
       "      <td>West</td>\n",
       "      <td>Clothes</td>\n",
       "      <td>San Jose</td>\n",
       "    </tr>\n",
       "    <tr>\n",
       "      <th>freq</th>\n",
       "      <td>3</td>\n",
       "      <td>2</td>\n",
       "      <td>2</td>\n",
       "      <td>9</td>\n",
       "      <td>7</td>\n",
       "    </tr>\n",
       "  </tbody>\n",
       "</table>\n",
       "</div>"
      ],
      "text/plain": [
       "       Employee ID First Name Last Name Department      City\n",
       "count           19         19        19         19        19\n",
       "unique          17         18        17          7         5\n",
       "top          10012       Adam      West    Clothes  San Jose\n",
       "freq             3          2         2          9         7"
      ]
     },
     "execution_count": 121,
     "metadata": {
      "tags": []
     },
     "output_type": "execute_result"
    }
   ],
   "source": [
    "employees.describe()"
   ]
  },
  {
   "cell_type": "code",
   "execution_count": 122,
   "metadata": {
    "colab": {
     "autoexec": {
      "startup": false,
      "wait_interval": 0
     },
     "base_uri": "https://localhost:8080/",
     "height": 170
    },
    "colab_type": "code",
    "executionInfo": {
     "elapsed": 270,
     "status": "ok",
     "timestamp": 1527147524734,
     "user": {
      "displayName": "Tairi Delgado",
      "photoUrl": "//lh6.googleusercontent.com/-l4lv-T3P6-c/AAAAAAAAAAI/AAAAAAAABIA/4wtQ8ehIzZw/s50-c-k-no/photo.jpg",
      "userId": "115188476170888991569"
     },
     "user_tz": 420
    },
    "id": "6KrzUCZ2b0an",
    "outputId": "9dc4fa7b-4c03-43d8-c61b-92e5c7f51e4b"
   },
   "outputs": [
    {
     "data": {
      "text/plain": [
       "Department\n",
       "                             1\n",
       "Clothes                      9\n",
       "Clothes/Electronics          1\n",
       "Cosmetics                    1\n",
       "Electronics                  3\n",
       "N/A                          1\n",
       "Pharmacy, Health & Beauty    3\n",
       "Name: Department, dtype: int64"
      ]
     },
     "execution_count": 122,
     "metadata": {
      "tags": []
     },
     "output_type": "execute_result"
    }
   ],
   "source": [
    "employees.groupby('Department')['Department'].count()"
   ]
  },
  {
   "cell_type": "code",
   "execution_count": 123,
   "metadata": {
    "colab": {
     "autoexec": {
      "startup": false,
      "wait_interval": 0
     },
     "base_uri": "https://localhost:8080/",
     "height": 136
    },
    "colab_type": "code",
    "executionInfo": {
     "elapsed": 286,
     "status": "ok",
     "timestamp": 1527147525090,
     "user": {
      "displayName": "Tairi Delgado",
      "photoUrl": "//lh6.googleusercontent.com/-l4lv-T3P6-c/AAAAAAAAAAI/AAAAAAAABIA/4wtQ8ehIzZw/s50-c-k-no/photo.jpg",
      "userId": "115188476170888991569"
     },
     "user_tz": 420
    },
    "id": "2O3D3nQ6cMTi",
    "outputId": "aa168cb1-b430-4456-9fbd-eda1fdd65cc2"
   },
   "outputs": [
    {
     "data": {
      "text/plain": [
       "City\n",
       "Oakland          5\n",
       "SANJOSE,CA       1\n",
       "SF               1\n",
       "San Francisco    5\n",
       "San Jose         7\n",
       "Name: City, dtype: int64"
      ]
     },
     "execution_count": 123,
     "metadata": {
      "tags": []
     },
     "output_type": "execute_result"
    }
   ],
   "source": [
    "employees.groupby('City')['City'].count()"
   ]
  },
  {
   "cell_type": "code",
   "execution_count": 124,
   "metadata": {
    "colab": {
     "autoexec": {
      "startup": false,
      "wait_interval": 0
     },
     "base_uri": "https://localhost:8080/",
     "height": 153
    },
    "colab_type": "code",
    "executionInfo": {
     "elapsed": 333,
     "status": "ok",
     "timestamp": 1527147525518,
     "user": {
      "displayName": "Tairi Delgado",
      "photoUrl": "//lh6.googleusercontent.com/-l4lv-T3P6-c/AAAAAAAAAAI/AAAAAAAABIA/4wtQ8ehIzZw/s50-c-k-no/photo.jpg",
      "userId": "115188476170888991569"
     },
     "user_tz": 420
    },
    "id": "_HYq3_LKcmjU",
    "outputId": "d06f508b-3235-485c-c2f6-5b145c62ca5c"
   },
   "outputs": [
    {
     "data": {
      "text/plain": [
       "City\n",
       "Berkeley         1\n",
       "Frisco           1\n",
       "Oak Town         1\n",
       "Oakland          4\n",
       "San Francisco    5\n",
       "San Jose         3\n",
       "Name: City, dtype: int64"
      ]
     },
     "execution_count": 124,
     "metadata": {
      "tags": []
     },
     "output_type": "execute_result"
    }
   ],
   "source": [
    "customers.groupby('City')['City'].count()"
   ]
  },
  {
   "cell_type": "code",
   "execution_count": 125,
   "metadata": {
    "colab": {
     "autoexec": {
      "startup": false,
      "wait_interval": 0
     },
     "base_uri": "https://localhost:8080/",
     "height": 153
    },
    "colab_type": "code",
    "executionInfo": {
     "elapsed": 262,
     "status": "ok",
     "timestamp": 1527147525862,
     "user": {
      "displayName": "Tairi Delgado",
      "photoUrl": "//lh6.googleusercontent.com/-l4lv-T3P6-c/AAAAAAAAAAI/AAAAAAAABIA/4wtQ8ehIzZw/s50-c-k-no/photo.jpg",
      "userId": "115188476170888991569"
     },
     "user_tz": 420
    },
    "id": "BMJTYfbfcsXX",
    "outputId": "da43517e-b469-44c5-f3e8-a0067c9cdddf"
   },
   "outputs": [
    {
     "data": {
      "text/plain": [
       "City\n",
       "Mexico           1\n",
       "NY               1\n",
       "Oakland          1\n",
       "SJ               1\n",
       "San Francisco    2\n",
       "San Jose         2\n",
       "Name: City, dtype: int64"
      ]
     },
     "execution_count": 125,
     "metadata": {
      "tags": []
     },
     "output_type": "execute_result"
    }
   ],
   "source": [
    "suppliers.groupby('City')['City'].count()"
   ]
  },
  {
   "cell_type": "code",
   "execution_count": 126,
   "metadata": {
    "colab": {
     "autoexec": {
      "startup": false,
      "wait_interval": 0
     },
     "base_uri": "https://localhost:8080/",
     "height": 238
    },
    "colab_type": "code",
    "executionInfo": {
     "elapsed": 254,
     "status": "ok",
     "timestamp": 1527147526202,
     "user": {
      "displayName": "Tairi Delgado",
      "photoUrl": "//lh6.googleusercontent.com/-l4lv-T3P6-c/AAAAAAAAAAI/AAAAAAAABIA/4wtQ8ehIzZw/s50-c-k-no/photo.jpg",
      "userId": "115188476170888991569"
     },
     "user_tz": 420
    },
    "id": "MRZGQS-Pc4Xx",
    "outputId": "6b8d0038-76a0-4e63-8d6a-93071fc7af7e"
   },
   "outputs": [
    {
     "data": {
      "text/plain": [
       "City\n",
       "Berkeley          1\n",
       "Frisco            1\n",
       "Mexico            1\n",
       "NY                1\n",
       "Oak Town          1\n",
       "Oakland          10\n",
       "SANJOSE,CA        1\n",
       "SF                1\n",
       "SJ                1\n",
       "San Francisco    12\n",
       "San Jose         12\n",
       "Name: City, dtype: int64"
      ]
     },
     "execution_count": 126,
     "metadata": {
      "tags": []
     },
     "output_type": "execute_result"
    }
   ],
   "source": [
    "cities = pd.concat([employees, customers])\n",
    "cities = pd.concat([cities, suppliers])\n",
    "cities.groupby('City')['City'].count()"
   ]
  },
  {
   "cell_type": "markdown",
   "metadata": {
    "colab_type": "text",
    "id": "AmRrELH3d2pN"
   },
   "source": [
    "**Filter records by missing field**"
   ]
  },
  {
   "cell_type": "code",
   "execution_count": 0,
   "metadata": {
    "colab": {
     "autoexec": {
      "startup": false,
      "wait_interval": 0
     }
    },
    "colab_type": "code",
    "id": "aApkCz7vdcp3"
   },
   "outputs": [],
   "source": [
    "def missing_fields(df, field):\n",
    "  missing_data = df[(df[field] == '') | (df[field] == 'N/A') | (df[field] == None) | (df[field] == ' ')]\n",
    "  return missing_data"
   ]
  },
  {
   "cell_type": "code",
   "execution_count": 128,
   "metadata": {
    "colab": {
     "autoexec": {
      "startup": false,
      "wait_interval": 0
     },
     "base_uri": "https://localhost:8080/",
     "height": 80
    },
    "colab_type": "code",
    "executionInfo": {
     "elapsed": 287,
     "status": "ok",
     "timestamp": 1527147526917,
     "user": {
      "displayName": "Tairi Delgado",
      "photoUrl": "//lh6.googleusercontent.com/-l4lv-T3P6-c/AAAAAAAAAAI/AAAAAAAABIA/4wtQ8ehIzZw/s50-c-k-no/photo.jpg",
      "userId": "115188476170888991569"
     },
     "user_tz": 420
    },
    "id": "msOiH3_aeOkA",
    "outputId": "a798e94f-c84a-415c-b812-8514540489c8"
   },
   "outputs": [
    {
     "data": {
      "text/html": [
       "<div>\n",
       "<style scoped>\n",
       "    .dataframe tbody tr th:only-of-type {\n",
       "        vertical-align: middle;\n",
       "    }\n",
       "\n",
       "    .dataframe tbody tr th {\n",
       "        vertical-align: top;\n",
       "    }\n",
       "\n",
       "    .dataframe thead th {\n",
       "        text-align: right;\n",
       "    }\n",
       "</style>\n",
       "<table border=\"1\" class=\"dataframe\">\n",
       "  <thead>\n",
       "    <tr style=\"text-align: right;\">\n",
       "      <th></th>\n",
       "      <th>Employee ID</th>\n",
       "      <th>First Name</th>\n",
       "      <th>Last Name</th>\n",
       "      <th>Department</th>\n",
       "      <th>City</th>\n",
       "    </tr>\n",
       "  </thead>\n",
       "  <tbody>\n",
       "    <tr>\n",
       "      <th>15</th>\n",
       "      <td>10014</td>\n",
       "      <td>Nicole</td>\n",
       "      <td></td>\n",
       "      <td>Pharmacy, Health &amp; Beauty</td>\n",
       "      <td>Oakland</td>\n",
       "    </tr>\n",
       "  </tbody>\n",
       "</table>\n",
       "</div>"
      ],
      "text/plain": [
       "   Employee ID First Name Last Name                 Department     City\n",
       "15       10014     Nicole            Pharmacy, Health & Beauty  Oakland"
      ]
     },
     "metadata": {
      "tags": []
     },
     "output_type": "display_data"
    }
   ],
   "source": [
    "display(missing_fields(employees, 'Last Name'))"
   ]
  },
  {
   "cell_type": "code",
   "execution_count": 129,
   "metadata": {
    "colab": {
     "autoexec": {
      "startup": false,
      "wait_interval": 0
     },
     "base_uri": "https://localhost:8080/",
     "height": 80
    },
    "colab_type": "code",
    "executionInfo": {
     "elapsed": 272,
     "status": "ok",
     "timestamp": 1527147527271,
     "user": {
      "displayName": "Tairi Delgado",
      "photoUrl": "//lh6.googleusercontent.com/-l4lv-T3P6-c/AAAAAAAAAAI/AAAAAAAABIA/4wtQ8ehIzZw/s50-c-k-no/photo.jpg",
      "userId": "115188476170888991569"
     },
     "user_tz": 420
    },
    "id": "wC1ELN7HegIf",
    "outputId": "5e0a536f-3d48-4eaa-fec2-a779674470ab"
   },
   "outputs": [
    {
     "data": {
      "text/html": [
       "<div>\n",
       "<style scoped>\n",
       "    .dataframe tbody tr th:only-of-type {\n",
       "        vertical-align: middle;\n",
       "    }\n",
       "\n",
       "    .dataframe tbody tr th {\n",
       "        vertical-align: top;\n",
       "    }\n",
       "\n",
       "    .dataframe thead th {\n",
       "        text-align: right;\n",
       "    }\n",
       "</style>\n",
       "<table border=\"1\" class=\"dataframe\">\n",
       "  <thead>\n",
       "    <tr style=\"text-align: right;\">\n",
       "      <th></th>\n",
       "      <th>Customer ID</th>\n",
       "      <th>First Name</th>\n",
       "      <th>Last Name</th>\n",
       "      <th>City</th>\n",
       "    </tr>\n",
       "  </thead>\n",
       "  <tbody>\n",
       "    <tr>\n",
       "      <th>12</th>\n",
       "      <td>20013</td>\n",
       "      <td>Margret Shang</td>\n",
       "      <td></td>\n",
       "      <td>Oak Town</td>\n",
       "    </tr>\n",
       "  </tbody>\n",
       "</table>\n",
       "</div>"
      ],
      "text/plain": [
       "   Customer ID     First Name Last Name      City\n",
       "12       20013  Margret Shang            Oak Town"
      ]
     },
     "metadata": {
      "tags": []
     },
     "output_type": "display_data"
    }
   ],
   "source": [
    "display(missing_fields(customers, 'Last Name'))"
   ]
  },
  {
   "cell_type": "markdown",
   "metadata": {
    "colab_type": "text",
    "id": "n6iyfv0Ze5Iq"
   },
   "source": [
    "**Filter records by incorrect length**"
   ]
  },
  {
   "cell_type": "code",
   "execution_count": 0,
   "metadata": {
    "colab": {
     "autoexec": {
      "startup": false,
      "wait_interval": 0
     }
    },
    "colab_type": "code",
    "id": "eoN_q55Se85a"
   },
   "outputs": [],
   "source": [
    "def incorrect_length(df, field, length):\n",
    "  incorrect_length = df[df[field].str.len() != length]\n",
    "  return incorrect_length"
   ]
  },
  {
   "cell_type": "code",
   "execution_count": 131,
   "metadata": {
    "colab": {
     "autoexec": {
      "startup": false,
      "wait_interval": 0
     },
     "base_uri": "https://localhost:8080/",
     "height": 111
    },
    "colab_type": "code",
    "executionInfo": {
     "elapsed": 356,
     "status": "ok",
     "timestamp": 1527147528166,
     "user": {
      "displayName": "Tairi Delgado",
      "photoUrl": "//lh6.googleusercontent.com/-l4lv-T3P6-c/AAAAAAAAAAI/AAAAAAAABIA/4wtQ8ehIzZw/s50-c-k-no/photo.jpg",
      "userId": "115188476170888991569"
     },
     "user_tz": 420
    },
    "id": "70ZiEe_ifO66",
    "outputId": "d009ee7d-6f88-4f8b-caa1-c1565c9f8554"
   },
   "outputs": [
    {
     "data": {
      "text/html": [
       "<div>\n",
       "<style scoped>\n",
       "    .dataframe tbody tr th:only-of-type {\n",
       "        vertical-align: middle;\n",
       "    }\n",
       "\n",
       "    .dataframe tbody tr th {\n",
       "        vertical-align: top;\n",
       "    }\n",
       "\n",
       "    .dataframe thead th {\n",
       "        text-align: right;\n",
       "    }\n",
       "</style>\n",
       "<table border=\"1\" class=\"dataframe\">\n",
       "  <thead>\n",
       "    <tr style=\"text-align: right;\">\n",
       "      <th></th>\n",
       "      <th>Employee ID</th>\n",
       "      <th>First Name</th>\n",
       "      <th>Last Name</th>\n",
       "      <th>Department</th>\n",
       "      <th>City</th>\n",
       "    </tr>\n",
       "  </thead>\n",
       "  <tbody>\n",
       "    <tr>\n",
       "      <th>16</th>\n",
       "      <td>3k3d8leu</td>\n",
       "      <td>James</td>\n",
       "      <td>TELLER</td>\n",
       "      <td>Clothes</td>\n",
       "      <td>SANJOSE,CA</td>\n",
       "    </tr>\n",
       "    <tr>\n",
       "      <th>17</th>\n",
       "      <td>1100123</td>\n",
       "      <td>Carie</td>\n",
       "      <td>Olson</td>\n",
       "      <td>Clothes/Electronics</td>\n",
       "      <td>SF</td>\n",
       "    </tr>\n",
       "  </tbody>\n",
       "</table>\n",
       "</div>"
      ],
      "text/plain": [
       "   Employee ID First Name Last Name           Department        City\n",
       "16    3k3d8leu      James    TELLER              Clothes  SANJOSE,CA\n",
       "17     1100123      Carie     Olson  Clothes/Electronics          SF"
      ]
     },
     "metadata": {
      "tags": []
     },
     "output_type": "display_data"
    }
   ],
   "source": [
    "display(incorrect_length(employees, 'Employee ID', 5))"
   ]
  },
  {
   "cell_type": "code",
   "execution_count": 132,
   "metadata": {
    "colab": {
     "autoexec": {
      "startup": false,
      "wait_interval": 0
     },
     "base_uri": "https://localhost:8080/",
     "height": 80
    },
    "colab_type": "code",
    "executionInfo": {
     "elapsed": 289,
     "status": "ok",
     "timestamp": 1527147528686,
     "user": {
      "displayName": "Tairi Delgado",
      "photoUrl": "//lh6.googleusercontent.com/-l4lv-T3P6-c/AAAAAAAAAAI/AAAAAAAABIA/4wtQ8ehIzZw/s50-c-k-no/photo.jpg",
      "userId": "115188476170888991569"
     },
     "user_tz": 420
    },
    "id": "zRFzWp6lfaFY",
    "outputId": "bfc49870-38b2-438e-b9f6-c0b868589788"
   },
   "outputs": [
    {
     "data": {
      "text/html": [
       "<div>\n",
       "<style scoped>\n",
       "    .dataframe tbody tr th:only-of-type {\n",
       "        vertical-align: middle;\n",
       "    }\n",
       "\n",
       "    .dataframe tbody tr th {\n",
       "        vertical-align: top;\n",
       "    }\n",
       "\n",
       "    .dataframe thead th {\n",
       "        text-align: right;\n",
       "    }\n",
       "</style>\n",
       "<table border=\"1\" class=\"dataframe\">\n",
       "  <thead>\n",
       "    <tr style=\"text-align: right;\">\n",
       "      <th></th>\n",
       "      <th>Product ID</th>\n",
       "      <th>Product Name</th>\n",
       "      <th>Price</th>\n",
       "      <th>Supplier ID</th>\n",
       "      <th>Supplier Name</th>\n",
       "    </tr>\n",
       "  </thead>\n",
       "  <tbody>\n",
       "    <tr>\n",
       "      <th>14</th>\n",
       "      <td>12!d3&amp;)dkc_+@ad</td>\n",
       "      <td>Car</td>\n",
       "      <td></td>\n",
       "      <td>48350254-5qe</td>\n",
       "      <td></td>\n",
       "    </tr>\n",
       "  </tbody>\n",
       "</table>\n",
       "</div>"
      ],
      "text/plain": [
       "         Product ID Product Name Price   Supplier ID Supplier Name\n",
       "14  12!d3&)dkc_+@ad          Car        48350254-5qe              "
      ]
     },
     "metadata": {
      "tags": []
     },
     "output_type": "display_data"
    }
   ],
   "source": [
    "display(incorrect_length(products, 'Product ID', 5))"
   ]
  },
  {
   "cell_type": "markdown",
   "metadata": {
    "colab_type": "text",
    "id": "25owzUAZfk1j"
   },
   "source": [
    "**Filter records if they do not conform to numerical ids**"
   ]
  },
  {
   "cell_type": "code",
   "execution_count": 0,
   "metadata": {
    "colab": {
     "autoexec": {
      "startup": false,
      "wait_interval": 0
     }
    },
    "colab_type": "code",
    "id": "ete0YO9vfpxS"
   },
   "outputs": [],
   "source": [
    "def check_ids_num(df, field):\n",
    "  non_numbers = df[~df[field].str.contains(r\"^[0-9]*$\")]\n",
    "  return non_numbers                                         "
   ]
  },
  {
   "cell_type": "code",
   "execution_count": 134,
   "metadata": {
    "colab": {
     "autoexec": {
      "startup": false,
      "wait_interval": 0
     },
     "base_uri": "https://localhost:8080/",
     "height": 80
    },
    "colab_type": "code",
    "executionInfo": {
     "elapsed": 275,
     "status": "ok",
     "timestamp": 1527147529589,
     "user": {
      "displayName": "Tairi Delgado",
      "photoUrl": "//lh6.googleusercontent.com/-l4lv-T3P6-c/AAAAAAAAAAI/AAAAAAAABIA/4wtQ8ehIzZw/s50-c-k-no/photo.jpg",
      "userId": "115188476170888991569"
     },
     "user_tz": 420
    },
    "id": "ZtUglc38gSYs",
    "outputId": "934451f7-1f42-4a39-bd95-d4ea8df5c402"
   },
   "outputs": [
    {
     "data": {
      "text/html": [
       "<div>\n",
       "<style scoped>\n",
       "    .dataframe tbody tr th:only-of-type {\n",
       "        vertical-align: middle;\n",
       "    }\n",
       "\n",
       "    .dataframe tbody tr th {\n",
       "        vertical-align: top;\n",
       "    }\n",
       "\n",
       "    .dataframe thead th {\n",
       "        text-align: right;\n",
       "    }\n",
       "</style>\n",
       "<table border=\"1\" class=\"dataframe\">\n",
       "  <thead>\n",
       "    <tr style=\"text-align: right;\">\n",
       "      <th></th>\n",
       "      <th>Employee ID</th>\n",
       "      <th>First Name</th>\n",
       "      <th>Last Name</th>\n",
       "      <th>Department</th>\n",
       "      <th>City</th>\n",
       "    </tr>\n",
       "  </thead>\n",
       "  <tbody>\n",
       "    <tr>\n",
       "      <th>16</th>\n",
       "      <td>3k3d8leu</td>\n",
       "      <td>James</td>\n",
       "      <td>TELLER</td>\n",
       "      <td>Clothes</td>\n",
       "      <td>SANJOSE,CA</td>\n",
       "    </tr>\n",
       "  </tbody>\n",
       "</table>\n",
       "</div>"
      ],
      "text/plain": [
       "   Employee ID First Name Last Name Department        City\n",
       "16    3k3d8leu      James    TELLER    Clothes  SANJOSE,CA"
      ]
     },
     "metadata": {
      "tags": []
     },
     "output_type": "display_data"
    }
   ],
   "source": [
    "display(check_ids_num(employees, 'Employee ID'))"
   ]
  },
  {
   "cell_type": "code",
   "execution_count": 135,
   "metadata": {
    "colab": {
     "autoexec": {
      "startup": false,
      "wait_interval": 0
     },
     "base_uri": "https://localhost:8080/",
     "height": 80
    },
    "colab_type": "code",
    "executionInfo": {
     "elapsed": 303,
     "status": "ok",
     "timestamp": 1527147529966,
     "user": {
      "displayName": "Tairi Delgado",
      "photoUrl": "//lh6.googleusercontent.com/-l4lv-T3P6-c/AAAAAAAAAAI/AAAAAAAABIA/4wtQ8ehIzZw/s50-c-k-no/photo.jpg",
      "userId": "115188476170888991569"
     },
     "user_tz": 420
    },
    "id": "tid_TgIEghHw",
    "outputId": "62b7b86b-bafe-4c2c-8176-e2584727b3ff"
   },
   "outputs": [
    {
     "data": {
      "text/html": [
       "<div>\n",
       "<style scoped>\n",
       "    .dataframe tbody tr th:only-of-type {\n",
       "        vertical-align: middle;\n",
       "    }\n",
       "\n",
       "    .dataframe tbody tr th {\n",
       "        vertical-align: top;\n",
       "    }\n",
       "\n",
       "    .dataframe thead th {\n",
       "        text-align: right;\n",
       "    }\n",
       "</style>\n",
       "<table border=\"1\" class=\"dataframe\">\n",
       "  <thead>\n",
       "    <tr style=\"text-align: right;\">\n",
       "      <th></th>\n",
       "      <th>Product ID</th>\n",
       "      <th>Product Name</th>\n",
       "      <th>Price</th>\n",
       "      <th>Supplier ID</th>\n",
       "      <th>Supplier Name</th>\n",
       "    </tr>\n",
       "  </thead>\n",
       "  <tbody>\n",
       "    <tr>\n",
       "      <th>14</th>\n",
       "      <td>12!d3&amp;)dkc_+@ad</td>\n",
       "      <td>Car</td>\n",
       "      <td></td>\n",
       "      <td>48350254-5qe</td>\n",
       "      <td></td>\n",
       "    </tr>\n",
       "  </tbody>\n",
       "</table>\n",
       "</div>"
      ],
      "text/plain": [
       "         Product ID Product Name Price   Supplier ID Supplier Name\n",
       "14  12!d3&)dkc_+@ad          Car        48350254-5qe              "
      ]
     },
     "metadata": {
      "tags": []
     },
     "output_type": "display_data"
    }
   ],
   "source": [
    "display(check_ids_num(products, 'Product ID'))"
   ]
  },
  {
   "cell_type": "markdown",
   "metadata": {
    "colab_type": "text",
    "id": "4jaKdrEPg0jN"
   },
   "source": [
    "**Filter records that don't match the length or starting number format**"
   ]
  },
  {
   "cell_type": "code",
   "execution_count": 0,
   "metadata": {
    "colab": {
     "autoexec": {
      "startup": false,
      "wait_interval": 0
     }
    },
    "colab_type": "code",
    "id": "aFXud-Spg6h5"
   },
   "outputs": [],
   "source": [
    "def consistent_ids(df, field, starting_number):\n",
    "  rex = r\"\" + str(starting_number) + \"[0-9]{4}$\"\n",
    "  inconsistent_numbers = df[~df[field].str.contains(rex)]\n",
    "  return inconsistent_numbers"
   ]
  },
  {
   "cell_type": "code",
   "execution_count": 137,
   "metadata": {
    "colab": {
     "autoexec": {
      "startup": false,
      "wait_interval": 0
     },
     "base_uri": "https://localhost:8080/",
     "height": 111
    },
    "colab_type": "code",
    "executionInfo": {
     "elapsed": 258,
     "status": "ok",
     "timestamp": 1527147530609,
     "user": {
      "displayName": "Tairi Delgado",
      "photoUrl": "//lh6.googleusercontent.com/-l4lv-T3P6-c/AAAAAAAAAAI/AAAAAAAABIA/4wtQ8ehIzZw/s50-c-k-no/photo.jpg",
      "userId": "115188476170888991569"
     },
     "user_tz": 420
    },
    "id": "_M5yrKdMhW-t",
    "outputId": "8772fef2-a0cc-44b2-9c91-5003f2e35ee5"
   },
   "outputs": [
    {
     "data": {
      "text/html": [
       "<div>\n",
       "<style scoped>\n",
       "    .dataframe tbody tr th:only-of-type {\n",
       "        vertical-align: middle;\n",
       "    }\n",
       "\n",
       "    .dataframe tbody tr th {\n",
       "        vertical-align: top;\n",
       "    }\n",
       "\n",
       "    .dataframe thead th {\n",
       "        text-align: right;\n",
       "    }\n",
       "</style>\n",
       "<table border=\"1\" class=\"dataframe\">\n",
       "  <thead>\n",
       "    <tr style=\"text-align: right;\">\n",
       "      <th></th>\n",
       "      <th>Employee ID</th>\n",
       "      <th>First Name</th>\n",
       "      <th>Last Name</th>\n",
       "      <th>Department</th>\n",
       "      <th>City</th>\n",
       "    </tr>\n",
       "  </thead>\n",
       "  <tbody>\n",
       "    <tr>\n",
       "      <th>16</th>\n",
       "      <td>3k3d8leu</td>\n",
       "      <td>James</td>\n",
       "      <td>TELLER</td>\n",
       "      <td>Clothes</td>\n",
       "      <td>SANJOSE,CA</td>\n",
       "    </tr>\n",
       "    <tr>\n",
       "      <th>17</th>\n",
       "      <td>1100123</td>\n",
       "      <td>Carie</td>\n",
       "      <td>Olson</td>\n",
       "      <td>Clothes/Electronics</td>\n",
       "      <td>SF</td>\n",
       "    </tr>\n",
       "  </tbody>\n",
       "</table>\n",
       "</div>"
      ],
      "text/plain": [
       "   Employee ID First Name Last Name           Department        City\n",
       "16    3k3d8leu      James    TELLER              Clothes  SANJOSE,CA\n",
       "17     1100123      Carie     Olson  Clothes/Electronics          SF"
      ]
     },
     "metadata": {
      "tags": []
     },
     "output_type": "display_data"
    }
   ],
   "source": [
    "display(consistent_ids(employees, 'Employee ID', '1'))"
   ]
  },
  {
   "cell_type": "code",
   "execution_count": 138,
   "metadata": {
    "colab": {
     "autoexec": {
      "startup": false,
      "wait_interval": 0
     },
     "base_uri": "https://localhost:8080/",
     "height": 173
    },
    "colab_type": "code",
    "executionInfo": {
     "elapsed": 345,
     "status": "ok",
     "timestamp": 1527147531021,
     "user": {
      "displayName": "Tairi Delgado",
      "photoUrl": "//lh6.googleusercontent.com/-l4lv-T3P6-c/AAAAAAAAAAI/AAAAAAAABIA/4wtQ8ehIzZw/s50-c-k-no/photo.jpg",
      "userId": "115188476170888991569"
     },
     "user_tz": 420
    },
    "id": "uDZpes3-hi6O",
    "outputId": "1d36ed35-6ed0-4d5d-b33e-312e8a381df5"
   },
   "outputs": [
    {
     "data": {
      "text/html": [
       "<div>\n",
       "<style scoped>\n",
       "    .dataframe tbody tr th:only-of-type {\n",
       "        vertical-align: middle;\n",
       "    }\n",
       "\n",
       "    .dataframe tbody tr th {\n",
       "        vertical-align: top;\n",
       "    }\n",
       "\n",
       "    .dataframe thead th {\n",
       "        text-align: right;\n",
       "    }\n",
       "</style>\n",
       "<table border=\"1\" class=\"dataframe\">\n",
       "  <thead>\n",
       "    <tr style=\"text-align: right;\">\n",
       "      <th></th>\n",
       "      <th>Product ID</th>\n",
       "      <th>Product Name</th>\n",
       "      <th>Price</th>\n",
       "      <th>Supplier ID</th>\n",
       "      <th>Supplier Name</th>\n",
       "    </tr>\n",
       "  </thead>\n",
       "  <tbody>\n",
       "    <tr>\n",
       "      <th>12</th>\n",
       "      <td>40013</td>\n",
       "      <td>Back Pack</td>\n",
       "      <td>Twenty Two Dollars</td>\n",
       "      <td>40006</td>\n",
       "      <td>WearUps Inc</td>\n",
       "    </tr>\n",
       "    <tr>\n",
       "      <th>13</th>\n",
       "      <td>40014</td>\n",
       "      <td>Auditing Services</td>\n",
       "      <td>7000</td>\n",
       "      <td>40007</td>\n",
       "      <td>DataQuery Inc</td>\n",
       "    </tr>\n",
       "    <tr>\n",
       "      <th>14</th>\n",
       "      <td>12!d3&amp;)dkc_+@ad</td>\n",
       "      <td>Car</td>\n",
       "      <td></td>\n",
       "      <td>48350254-5qe</td>\n",
       "      <td></td>\n",
       "    </tr>\n",
       "    <tr>\n",
       "      <th>15</th>\n",
       "      <td>40015</td>\n",
       "      <td>Shirt</td>\n",
       "      <td>180</td>\n",
       "      <td>40003</td>\n",
       "      <td>Ropa Inc</td>\n",
       "    </tr>\n",
       "  </tbody>\n",
       "</table>\n",
       "</div>"
      ],
      "text/plain": [
       "         Product ID       Product Name               Price   Supplier ID  \\\n",
       "12            40013          Back Pack  Twenty Two Dollars         40006   \n",
       "13            40014  Auditing Services                7000         40007   \n",
       "14  12!d3&)dkc_+@ad                Car                      48350254-5qe   \n",
       "15            40015              Shirt                 180         40003   \n",
       "\n",
       "    Supplier Name  \n",
       "12    WearUps Inc  \n",
       "13  DataQuery Inc  \n",
       "14                 \n",
       "15       Ropa Inc  "
      ]
     },
     "metadata": {
      "tags": []
     },
     "output_type": "display_data"
    }
   ],
   "source": [
    "display(consistent_ids(products, 'Product ID', '3'))"
   ]
  },
  {
   "cell_type": "markdown",
   "metadata": {
    "colab_type": "text",
    "id": "5LZhANHThxA4"
   },
   "source": [
    "**Filter records if the names don't have the first letter capitalized followed by a series of non-capitalized letters**"
   ]
  },
  {
   "cell_type": "code",
   "execution_count": 0,
   "metadata": {
    "colab": {
     "autoexec": {
      "startup": false,
      "wait_interval": 0
     }
    },
    "colab_type": "code",
    "id": "mBM58UTDiQXf"
   },
   "outputs": [],
   "source": [
    "def verify_name_format(df, field):\n",
    "  unusual_name_format = df[~df[field].str.contains(r\"^[A-Z][a-z]*$\")]\n",
    "  return unusual_name_format"
   ]
  },
  {
   "cell_type": "code",
   "execution_count": 140,
   "metadata": {
    "colab": {
     "autoexec": {
      "startup": false,
      "wait_interval": 0
     },
     "base_uri": "https://localhost:8080/",
     "height": 142
    },
    "colab_type": "code",
    "executionInfo": {
     "elapsed": 252,
     "status": "ok",
     "timestamp": 1527147531699,
     "user": {
      "displayName": "Tairi Delgado",
      "photoUrl": "//lh6.googleusercontent.com/-l4lv-T3P6-c/AAAAAAAAAAI/AAAAAAAABIA/4wtQ8ehIzZw/s50-c-k-no/photo.jpg",
      "userId": "115188476170888991569"
     },
     "user_tz": 420
    },
    "id": "eC7qGP6NihXF",
    "outputId": "2107cb69-3f7c-4792-bf05-ebad9da4a885"
   },
   "outputs": [
    {
     "data": {
      "text/html": [
       "<div>\n",
       "<style scoped>\n",
       "    .dataframe tbody tr th:only-of-type {\n",
       "        vertical-align: middle;\n",
       "    }\n",
       "\n",
       "    .dataframe tbody tr th {\n",
       "        vertical-align: top;\n",
       "    }\n",
       "\n",
       "    .dataframe thead th {\n",
       "        text-align: right;\n",
       "    }\n",
       "</style>\n",
       "<table border=\"1\" class=\"dataframe\">\n",
       "  <thead>\n",
       "    <tr style=\"text-align: right;\">\n",
       "      <th></th>\n",
       "      <th>Employee ID</th>\n",
       "      <th>First Name</th>\n",
       "      <th>Last Name</th>\n",
       "      <th>Department</th>\n",
       "      <th>City</th>\n",
       "    </tr>\n",
       "  </thead>\n",
       "  <tbody>\n",
       "    <tr>\n",
       "      <th>8</th>\n",
       "      <td>10009</td>\n",
       "      <td>Victoria</td>\n",
       "      <td>Garcia</td>\n",
       "      <td>Clothes</td>\n",
       "      <td>San Jose</td>\n",
       "    </tr>\n",
       "    <tr>\n",
       "      <th>12</th>\n",
       "      <td>10012</td>\n",
       "      <td>Adam R.</td>\n",
       "      <td>West</td>\n",
       "      <td>Clothes</td>\n",
       "      <td>San Jose</td>\n",
       "    </tr>\n",
       "    <tr>\n",
       "      <th>18</th>\n",
       "      <td>10015</td>\n",
       "      <td>JonathaN_</td>\n",
       "      <td>hernandez</td>\n",
       "      <td>N/A</td>\n",
       "      <td>San Jose</td>\n",
       "    </tr>\n",
       "  </tbody>\n",
       "</table>\n",
       "</div>"
      ],
      "text/plain": [
       "   Employee ID First Name  Last Name Department      City\n",
       "8        10009  Victoria      Garcia    Clothes  San Jose\n",
       "12       10012    Adam R.       West    Clothes  San Jose\n",
       "18       10015  JonathaN_  hernandez        N/A  San Jose"
      ]
     },
     "metadata": {
      "tags": []
     },
     "output_type": "display_data"
    }
   ],
   "source": [
    "display(verify_name_format(employees, 'First Name'))"
   ]
  },
  {
   "cell_type": "code",
   "execution_count": 141,
   "metadata": {
    "colab": {
     "autoexec": {
      "startup": false,
      "wait_interval": 0
     },
     "base_uri": "https://localhost:8080/",
     "height": 142
    },
    "colab_type": "code",
    "executionInfo": {
     "elapsed": 305,
     "status": "ok",
     "timestamp": 1527147532069,
     "user": {
      "displayName": "Tairi Delgado",
      "photoUrl": "//lh6.googleusercontent.com/-l4lv-T3P6-c/AAAAAAAAAAI/AAAAAAAABIA/4wtQ8ehIzZw/s50-c-k-no/photo.jpg",
      "userId": "115188476170888991569"
     },
     "user_tz": 420
    },
    "id": "RDSX67gr9Tcw",
    "outputId": "425b78ff-ba1a-4844-d7e5-0f859ef6210f"
   },
   "outputs": [
    {
     "data": {
      "text/html": [
       "<div>\n",
       "<style scoped>\n",
       "    .dataframe tbody tr th:only-of-type {\n",
       "        vertical-align: middle;\n",
       "    }\n",
       "\n",
       "    .dataframe tbody tr th {\n",
       "        vertical-align: top;\n",
       "    }\n",
       "\n",
       "    .dataframe thead th {\n",
       "        text-align: right;\n",
       "    }\n",
       "</style>\n",
       "<table border=\"1\" class=\"dataframe\">\n",
       "  <thead>\n",
       "    <tr style=\"text-align: right;\">\n",
       "      <th></th>\n",
       "      <th>Employee ID</th>\n",
       "      <th>First Name</th>\n",
       "      <th>Last Name</th>\n",
       "      <th>Department</th>\n",
       "      <th>City</th>\n",
       "    </tr>\n",
       "  </thead>\n",
       "  <tbody>\n",
       "    <tr>\n",
       "      <th>15</th>\n",
       "      <td>10014</td>\n",
       "      <td>Nicole</td>\n",
       "      <td></td>\n",
       "      <td>Pharmacy, Health &amp; Beauty</td>\n",
       "      <td>Oakland</td>\n",
       "    </tr>\n",
       "    <tr>\n",
       "      <th>16</th>\n",
       "      <td>3k3d8leu</td>\n",
       "      <td>James</td>\n",
       "      <td>TELLER</td>\n",
       "      <td>Clothes</td>\n",
       "      <td>SANJOSE,CA</td>\n",
       "    </tr>\n",
       "    <tr>\n",
       "      <th>18</th>\n",
       "      <td>10015</td>\n",
       "      <td>JonathaN_</td>\n",
       "      <td>hernandez</td>\n",
       "      <td>N/A</td>\n",
       "      <td>San Jose</td>\n",
       "    </tr>\n",
       "  </tbody>\n",
       "</table>\n",
       "</div>"
      ],
      "text/plain": [
       "   Employee ID First Name  Last Name                 Department        City\n",
       "15       10014     Nicole             Pharmacy, Health & Beauty     Oakland\n",
       "16    3k3d8leu      James     TELLER                    Clothes  SANJOSE,CA\n",
       "18       10015  JonathaN_  hernandez                        N/A    San Jose"
      ]
     },
     "metadata": {
      "tags": []
     },
     "output_type": "display_data"
    }
   ],
   "source": [
    "display(verify_name_format(employees, 'Last Name'))"
   ]
  },
  {
   "cell_type": "markdown",
   "metadata": {
    "colab_type": "text",
    "id": "EyjUGjDc9lAi"
   },
   "source": [
    "**Filter records that are not listed in given list**"
   ]
  },
  {
   "cell_type": "code",
   "execution_count": 0,
   "metadata": {
    "colab": {
     "autoexec": {
      "startup": false,
      "wait_interval": 0
     }
    },
    "colab_type": "code",
    "id": "qQmxPxlf9qu7"
   },
   "outputs": [],
   "source": [
    "def cross_reference_entries(df, field, standard_list):\n",
    "  unknown_entries = df[~(df[field].isin(standard_list))]\n",
    "  return unknown_entries"
   ]
  },
  {
   "cell_type": "code",
   "execution_count": 143,
   "metadata": {
    "colab": {
     "autoexec": {
      "startup": false,
      "wait_interval": 0
     },
     "base_uri": "https://localhost:8080/",
     "height": 111
    },
    "colab_type": "code",
    "executionInfo": {
     "elapsed": 253,
     "status": "ok",
     "timestamp": 1527147532722,
     "user": {
      "displayName": "Tairi Delgado",
      "photoUrl": "//lh6.googleusercontent.com/-l4lv-T3P6-c/AAAAAAAAAAI/AAAAAAAABIA/4wtQ8ehIzZw/s50-c-k-no/photo.jpg",
      "userId": "115188476170888991569"
     },
     "user_tz": 420
    },
    "id": "QGqwftcN-SlY",
    "outputId": "f7704104-5ba2-497d-e054-d1c6c554bd21"
   },
   "outputs": [
    {
     "data": {
      "text/html": [
       "<div>\n",
       "<style scoped>\n",
       "    .dataframe tbody tr th:only-of-type {\n",
       "        vertical-align: middle;\n",
       "    }\n",
       "\n",
       "    .dataframe tbody tr th {\n",
       "        vertical-align: top;\n",
       "    }\n",
       "\n",
       "    .dataframe thead th {\n",
       "        text-align: right;\n",
       "    }\n",
       "</style>\n",
       "<table border=\"1\" class=\"dataframe\">\n",
       "  <thead>\n",
       "    <tr style=\"text-align: right;\">\n",
       "      <th></th>\n",
       "      <th>Employee ID</th>\n",
       "      <th>First Name</th>\n",
       "      <th>Last Name</th>\n",
       "      <th>Department</th>\n",
       "      <th>City</th>\n",
       "    </tr>\n",
       "  </thead>\n",
       "  <tbody>\n",
       "    <tr>\n",
       "      <th>16</th>\n",
       "      <td>3k3d8leu</td>\n",
       "      <td>James</td>\n",
       "      <td>TELLER</td>\n",
       "      <td>Clothes</td>\n",
       "      <td>SANJOSE,CA</td>\n",
       "    </tr>\n",
       "    <tr>\n",
       "      <th>17</th>\n",
       "      <td>1100123</td>\n",
       "      <td>Carie</td>\n",
       "      <td>Olson</td>\n",
       "      <td>Clothes/Electronics</td>\n",
       "      <td>SF</td>\n",
       "    </tr>\n",
       "  </tbody>\n",
       "</table>\n",
       "</div>"
      ],
      "text/plain": [
       "   Employee ID First Name Last Name           Department        City\n",
       "16    3k3d8leu      James    TELLER              Clothes  SANJOSE,CA\n",
       "17     1100123      Carie     Olson  Clothes/Electronics          SF"
      ]
     },
     "metadata": {
      "tags": []
     },
     "output_type": "display_data"
    }
   ],
   "source": [
    "cities = ['San Francisco', 'Oakland', 'San Jose', 'Berkeley', 'New York', 'Mexico']\n",
    "display(cross_reference_entries(employees, 'City', cities))"
   ]
  },
  {
   "cell_type": "markdown",
   "metadata": {
    "colab_type": "text",
    "id": "iqlrGMRm-x04"
   },
   "source": [
    "**Filter price records that are not in numerical string format**"
   ]
  },
  {
   "cell_type": "code",
   "execution_count": 0,
   "metadata": {
    "colab": {
     "autoexec": {
      "startup": false,
      "wait_interval": 0
     }
    },
    "colab_type": "code",
    "id": "Xs43hZGE-3UF"
   },
   "outputs": [],
   "source": [
    "def verify_numerical_prices(df, field):\n",
    "  non_numerical_prices = df[(~df[field].str.contains(r\"[0-9]\"))]\n",
    "  return non_numerical_prices"
   ]
  },
  {
   "cell_type": "code",
   "execution_count": 145,
   "metadata": {
    "colab": {
     "autoexec": {
      "startup": false,
      "wait_interval": 0
     },
     "base_uri": "https://localhost:8080/",
     "height": 111
    },
    "colab_type": "code",
    "executionInfo": {
     "elapsed": 300,
     "status": "ok",
     "timestamp": 1527147533588,
     "user": {
      "displayName": "Tairi Delgado",
      "photoUrl": "//lh6.googleusercontent.com/-l4lv-T3P6-c/AAAAAAAAAAI/AAAAAAAABIA/4wtQ8ehIzZw/s50-c-k-no/photo.jpg",
      "userId": "115188476170888991569"
     },
     "user_tz": 420
    },
    "id": "2wqCTBxGAJ_m",
    "outputId": "d14d4ca5-2a35-4342-8593-427b9daf9244"
   },
   "outputs": [
    {
     "data": {
      "text/html": [
       "<div>\n",
       "<style scoped>\n",
       "    .dataframe tbody tr th:only-of-type {\n",
       "        vertical-align: middle;\n",
       "    }\n",
       "\n",
       "    .dataframe tbody tr th {\n",
       "        vertical-align: top;\n",
       "    }\n",
       "\n",
       "    .dataframe thead th {\n",
       "        text-align: right;\n",
       "    }\n",
       "</style>\n",
       "<table border=\"1\" class=\"dataframe\">\n",
       "  <thead>\n",
       "    <tr style=\"text-align: right;\">\n",
       "      <th></th>\n",
       "      <th>Product ID</th>\n",
       "      <th>Product Name</th>\n",
       "      <th>Price</th>\n",
       "      <th>Supplier ID</th>\n",
       "      <th>Supplier Name</th>\n",
       "    </tr>\n",
       "  </thead>\n",
       "  <tbody>\n",
       "    <tr>\n",
       "      <th>12</th>\n",
       "      <td>40013</td>\n",
       "      <td>Back Pack</td>\n",
       "      <td>Twenty Two Dollars</td>\n",
       "      <td>40006</td>\n",
       "      <td>WearUps Inc</td>\n",
       "    </tr>\n",
       "    <tr>\n",
       "      <th>14</th>\n",
       "      <td>12!d3&amp;)dkc_+@ad</td>\n",
       "      <td>Car</td>\n",
       "      <td></td>\n",
       "      <td>48350254-5qe</td>\n",
       "      <td></td>\n",
       "    </tr>\n",
       "  </tbody>\n",
       "</table>\n",
       "</div>"
      ],
      "text/plain": [
       "         Product ID Product Name               Price   Supplier ID  \\\n",
       "12            40013    Back Pack  Twenty Two Dollars         40006   \n",
       "14  12!d3&)dkc_+@ad          Car                      48350254-5qe   \n",
       "\n",
       "   Supplier Name  \n",
       "12   WearUps Inc  \n",
       "14                "
      ]
     },
     "metadata": {
      "tags": []
     },
     "output_type": "display_data"
    }
   ],
   "source": [
    "display(verify_numerical_prices(products, 'Price'))"
   ]
  },
  {
   "cell_type": "markdown",
   "metadata": {
    "colab_type": "text",
    "id": "OqHHMxS6AhMo"
   },
   "source": [
    "**Filter records that are out of range**"
   ]
  },
  {
   "cell_type": "code",
   "execution_count": 0,
   "metadata": {
    "colab": {
     "autoexec": {
      "startup": false,
      "wait_interval": 0
     }
    },
    "colab_type": "code",
    "id": "YMv8WheCAk1J"
   },
   "outputs": [],
   "source": [
    "def verify_date_range(df, field, start_date, end_date):\n",
    "  incorrect_dates = df[(df[field] < start_date) | (df[field] > end_date)]\n",
    "  return incorrect_dates"
   ]
  },
  {
   "cell_type": "code",
   "execution_count": 147,
   "metadata": {
    "colab": {
     "autoexec": {
      "startup": false,
      "wait_interval": 0
     },
     "base_uri": "https://localhost:8080/",
     "height": 142
    },
    "colab_type": "code",
    "executionInfo": {
     "elapsed": 275,
     "status": "ok",
     "timestamp": 1527147534257,
     "user": {
      "displayName": "Tairi Delgado",
      "photoUrl": "//lh6.googleusercontent.com/-l4lv-T3P6-c/AAAAAAAAAAI/AAAAAAAABIA/4wtQ8ehIzZw/s50-c-k-no/photo.jpg",
      "userId": "115188476170888991569"
     },
     "user_tz": 420
    },
    "id": "bQmCC3zVA5Dg",
    "outputId": "9f41ca0e-8de8-424b-f5c2-173e0ae67f1d"
   },
   "outputs": [
    {
     "data": {
      "text/html": [
       "<div>\n",
       "<style scoped>\n",
       "    .dataframe tbody tr th:only-of-type {\n",
       "        vertical-align: middle;\n",
       "    }\n",
       "\n",
       "    .dataframe tbody tr th {\n",
       "        vertical-align: top;\n",
       "    }\n",
       "\n",
       "    .dataframe thead th {\n",
       "        text-align: right;\n",
       "    }\n",
       "</style>\n",
       "<table border=\"1\" class=\"dataframe\">\n",
       "  <thead>\n",
       "    <tr style=\"text-align: right;\">\n",
       "      <th></th>\n",
       "      <th>Order ID</th>\n",
       "      <th>Customer ID</th>\n",
       "      <th>Product ID</th>\n",
       "      <th>Employee ID</th>\n",
       "      <th>Date</th>\n",
       "    </tr>\n",
       "  </thead>\n",
       "  <tbody>\n",
       "    <tr>\n",
       "      <th>9</th>\n",
       "      <td>20010</td>\n",
       "      <td>50008</td>\n",
       "      <td>30007</td>\n",
       "      <td>10008</td>\n",
       "      <td>09-26</td>\n",
       "    </tr>\n",
       "    <tr>\n",
       "      <th>10</th>\n",
       "      <td>50017</td>\n",
       "      <td></td>\n",
       "      <td>30096</td>\n",
       "      <td>10012</td>\n",
       "      <td>12-26</td>\n",
       "    </tr>\n",
       "    <tr>\n",
       "      <th>11</th>\n",
       "      <td>50018</td>\n",
       "      <td>20022</td>\n",
       "      <td>30007</td>\n",
       "      <td>10123</td>\n",
       "      <td>02-21-01</td>\n",
       "    </tr>\n",
       "  </tbody>\n",
       "</table>\n",
       "</div>"
      ],
      "text/plain": [
       "   Order ID Customer ID Product ID Employee ID      Date\n",
       "9     20010       50008      30007       10008     09-26\n",
       "10    50017                  30096       10012     12-26\n",
       "11    50018       20022      30007       10123  02-21-01"
      ]
     },
     "metadata": {
      "tags": []
     },
     "output_type": "display_data"
    }
   ],
   "source": [
    "display(verify_date_range(orders, 'Date', '17-01-01', '18-01-01'))"
   ]
  },
  {
   "cell_type": "markdown",
   "metadata": {
    "colab_type": "text",
    "id": "tRwvScfIBmDc"
   },
   "source": [
    "**Audit ids by combining several functions**"
   ]
  },
  {
   "cell_type": "code",
   "execution_count": 0,
   "metadata": {
    "colab": {
     "autoexec": {
      "startup": false,
      "wait_interval": 0
     }
    },
    "colab_type": "code",
    "id": "PQ9_gviuBq6D"
   },
   "outputs": [],
   "source": [
    "def audit_ids(df, field, starting_number):\n",
    "  results = pd.DataFrame({})\n",
    "  \n",
    "  # Check if missing fields\n",
    "  missing_data = missing_fields(df, field)\n",
    "  results = pd.concat([results, missing_data])\n",
    "  \n",
    "  # Check the id length is of the proper length\n",
    "  incorrect_lengths = incorrect_length(df, field, 5)\n",
    "  results = pd.concat([results, incorrect_lengths]).drop_duplicates().reset_index(drop=True)\n",
    "  \n",
    "  # Check if all ids are numbers\n",
    "  non_numbers = check_ids_num(df, field)\n",
    "  results = pd.concat([results, incorrect_lengths]).drop_duplicates().reset_index(drop=True)\n",
    "  \n",
    "  # Check if numbers have a consistent match\n",
    "  inconsistent_numbers = consistent_ids(df, field, starting_number)\n",
    "  results = pd.concat([results, inconsistent_numbers]).drop_duplicates().reset_index(drop=True)\n",
    "  return results"
   ]
  },
  {
   "cell_type": "code",
   "execution_count": 149,
   "metadata": {
    "colab": {
     "autoexec": {
      "startup": false,
      "wait_interval": 0
     },
     "base_uri": "https://localhost:8080/",
     "height": 111
    },
    "colab_type": "code",
    "executionInfo": {
     "elapsed": 274,
     "status": "ok",
     "timestamp": 1527147534906,
     "user": {
      "displayName": "Tairi Delgado",
      "photoUrl": "//lh6.googleusercontent.com/-l4lv-T3P6-c/AAAAAAAAAAI/AAAAAAAABIA/4wtQ8ehIzZw/s50-c-k-no/photo.jpg",
      "userId": "115188476170888991569"
     },
     "user_tz": 420
    },
    "id": "ILqRr9plCr_a",
    "outputId": "5ce99a72-5ce2-44f7-c4f5-9a232bcc54bd"
   },
   "outputs": [
    {
     "data": {
      "text/html": [
       "<div>\n",
       "<style scoped>\n",
       "    .dataframe tbody tr th:only-of-type {\n",
       "        vertical-align: middle;\n",
       "    }\n",
       "\n",
       "    .dataframe tbody tr th {\n",
       "        vertical-align: top;\n",
       "    }\n",
       "\n",
       "    .dataframe thead th {\n",
       "        text-align: right;\n",
       "    }\n",
       "</style>\n",
       "<table border=\"1\" class=\"dataframe\">\n",
       "  <thead>\n",
       "    <tr style=\"text-align: right;\">\n",
       "      <th></th>\n",
       "      <th>Employee ID</th>\n",
       "      <th>First Name</th>\n",
       "      <th>Last Name</th>\n",
       "      <th>Department</th>\n",
       "      <th>City</th>\n",
       "    </tr>\n",
       "  </thead>\n",
       "  <tbody>\n",
       "    <tr>\n",
       "      <th>0</th>\n",
       "      <td>3k3d8leu</td>\n",
       "      <td>James</td>\n",
       "      <td>TELLER</td>\n",
       "      <td>Clothes</td>\n",
       "      <td>SANJOSE,CA</td>\n",
       "    </tr>\n",
       "    <tr>\n",
       "      <th>1</th>\n",
       "      <td>1100123</td>\n",
       "      <td>Carie</td>\n",
       "      <td>Olson</td>\n",
       "      <td>Clothes/Electronics</td>\n",
       "      <td>SF</td>\n",
       "    </tr>\n",
       "  </tbody>\n",
       "</table>\n",
       "</div>"
      ],
      "text/plain": [
       "  Employee ID First Name Last Name           Department        City\n",
       "0    3k3d8leu      James    TELLER              Clothes  SANJOSE,CA\n",
       "1     1100123      Carie     Olson  Clothes/Electronics          SF"
      ]
     },
     "metadata": {
      "tags": []
     },
     "output_type": "display_data"
    }
   ],
   "source": [
    "display(audit_ids(employees, 'Employee ID', '1'))"
   ]
  },
  {
   "cell_type": "code",
   "execution_count": 150,
   "metadata": {
    "colab": {
     "autoexec": {
      "startup": false,
      "wait_interval": 0
     },
     "base_uri": "https://localhost:8080/",
     "height": 49
    },
    "colab_type": "code",
    "executionInfo": {
     "elapsed": 251,
     "status": "ok",
     "timestamp": 1527147535217,
     "user": {
      "displayName": "Tairi Delgado",
      "photoUrl": "//lh6.googleusercontent.com/-l4lv-T3P6-c/AAAAAAAAAAI/AAAAAAAABIA/4wtQ8ehIzZw/s50-c-k-no/photo.jpg",
      "userId": "115188476170888991569"
     },
     "user_tz": 420
    },
    "id": "pjWUc7PTDOzY",
    "outputId": "44887fa1-8ef7-4d56-b76c-47271f491604"
   },
   "outputs": [
    {
     "data": {
      "text/html": [
       "<div>\n",
       "<style scoped>\n",
       "    .dataframe tbody tr th:only-of-type {\n",
       "        vertical-align: middle;\n",
       "    }\n",
       "\n",
       "    .dataframe tbody tr th {\n",
       "        vertical-align: top;\n",
       "    }\n",
       "\n",
       "    .dataframe thead th {\n",
       "        text-align: right;\n",
       "    }\n",
       "</style>\n",
       "<table border=\"1\" class=\"dataframe\">\n",
       "  <thead>\n",
       "    <tr style=\"text-align: right;\">\n",
       "      <th></th>\n",
       "      <th>Customer ID</th>\n",
       "      <th>First Name</th>\n",
       "      <th>Last Name</th>\n",
       "      <th>City</th>\n",
       "    </tr>\n",
       "  </thead>\n",
       "  <tbody>\n",
       "  </tbody>\n",
       "</table>\n",
       "</div>"
      ],
      "text/plain": [
       "Empty DataFrame\n",
       "Columns: [Customer ID, First Name, Last Name, City]\n",
       "Index: []"
      ]
     },
     "metadata": {
      "tags": []
     },
     "output_type": "display_data"
    }
   ],
   "source": [
    "display(audit_ids(customers, 'Customer ID', '2'))"
   ]
  },
  {
   "cell_type": "code",
   "execution_count": 151,
   "metadata": {
    "colab": {
     "autoexec": {
      "startup": false,
      "wait_interval": 0
     },
     "base_uri": "https://localhost:8080/",
     "height": 173
    },
    "colab_type": "code",
    "executionInfo": {
     "elapsed": 265,
     "status": "ok",
     "timestamp": 1527147535548,
     "user": {
      "displayName": "Tairi Delgado",
      "photoUrl": "//lh6.googleusercontent.com/-l4lv-T3P6-c/AAAAAAAAAAI/AAAAAAAABIA/4wtQ8ehIzZw/s50-c-k-no/photo.jpg",
      "userId": "115188476170888991569"
     },
     "user_tz": 420
    },
    "id": "3xrn89S8DmHh",
    "outputId": "159b2efb-95dd-4b7c-8f64-5529e204e1b0"
   },
   "outputs": [
    {
     "data": {
      "text/html": [
       "<div>\n",
       "<style scoped>\n",
       "    .dataframe tbody tr th:only-of-type {\n",
       "        vertical-align: middle;\n",
       "    }\n",
       "\n",
       "    .dataframe tbody tr th {\n",
       "        vertical-align: top;\n",
       "    }\n",
       "\n",
       "    .dataframe thead th {\n",
       "        text-align: right;\n",
       "    }\n",
       "</style>\n",
       "<table border=\"1\" class=\"dataframe\">\n",
       "  <thead>\n",
       "    <tr style=\"text-align: right;\">\n",
       "      <th></th>\n",
       "      <th>Product ID</th>\n",
       "      <th>Product Name</th>\n",
       "      <th>Price</th>\n",
       "      <th>Supplier ID</th>\n",
       "      <th>Supplier Name</th>\n",
       "    </tr>\n",
       "  </thead>\n",
       "  <tbody>\n",
       "    <tr>\n",
       "      <th>0</th>\n",
       "      <td>12!d3&amp;)dkc_+@ad</td>\n",
       "      <td>Car</td>\n",
       "      <td></td>\n",
       "      <td>48350254-5qe</td>\n",
       "      <td></td>\n",
       "    </tr>\n",
       "    <tr>\n",
       "      <th>1</th>\n",
       "      <td>40013</td>\n",
       "      <td>Back Pack</td>\n",
       "      <td>Twenty Two Dollars</td>\n",
       "      <td>40006</td>\n",
       "      <td>WearUps Inc</td>\n",
       "    </tr>\n",
       "    <tr>\n",
       "      <th>2</th>\n",
       "      <td>40014</td>\n",
       "      <td>Auditing Services</td>\n",
       "      <td>7000</td>\n",
       "      <td>40007</td>\n",
       "      <td>DataQuery Inc</td>\n",
       "    </tr>\n",
       "    <tr>\n",
       "      <th>3</th>\n",
       "      <td>40015</td>\n",
       "      <td>Shirt</td>\n",
       "      <td>180</td>\n",
       "      <td>40003</td>\n",
       "      <td>Ropa Inc</td>\n",
       "    </tr>\n",
       "  </tbody>\n",
       "</table>\n",
       "</div>"
      ],
      "text/plain": [
       "        Product ID       Product Name               Price   Supplier ID  \\\n",
       "0  12!d3&)dkc_+@ad                Car                      48350254-5qe   \n",
       "1            40013          Back Pack  Twenty Two Dollars         40006   \n",
       "2            40014  Auditing Services                7000         40007   \n",
       "3            40015              Shirt                 180         40003   \n",
       "\n",
       "   Supplier Name  \n",
       "0                 \n",
       "1    WearUps Inc  \n",
       "2  DataQuery Inc  \n",
       "3       Ropa Inc  "
      ]
     },
     "metadata": {
      "tags": []
     },
     "output_type": "display_data"
    }
   ],
   "source": [
    "display(audit_ids(products, 'Product ID', '3'))"
   ]
  },
  {
   "cell_type": "markdown",
   "metadata": {
    "colab_type": "text",
    "id": "Jxk_gFf8aVKr"
   },
   "source": [
    "## Data Cleaning"
   ]
  },
  {
   "cell_type": "markdown",
   "metadata": {
    "colab_type": "text",
    "id": "muFbNwWeEZ9Z"
   },
   "source": [
    "**Add missing primary ids**"
   ]
  },
  {
   "cell_type": "code",
   "execution_count": 0,
   "metadata": {
    "colab": {
     "autoexec": {
      "startup": false,
      "wait_interval": 0
     }
    },
    "colab_type": "code",
    "id": "5v1uRIPqEZos"
   },
   "outputs": [],
   "source": [
    "def add_primary_ids(df, field, starting_number):\n",
    "  # Find all records that are missing a primary id field\n",
    "  missing_data = missing_fields(df, field)\n",
    "  \n",
    "  # Sort dataframe by primary ids and get last assigned id\n",
    "  last_assigned_id = int(df[field].sort_values().tail(1))\n",
    "  \n",
    "  # For each missing record, assign a unique id\n",
    "  for index, row in missing_data.iterrows():\n",
    "    row[field] = str(last_assigned_id + 1)\n",
    "    last_assigned_id += 1\n",
    "    \n",
    "  # Update the dataframe with the new ids\n",
    "  df.update(missing_data)\n",
    "  \n",
    "  # Return df\n",
    "  return df"
   ]
  },
  {
   "cell_type": "code",
   "execution_count": 153,
   "metadata": {
    "colab": {
     "autoexec": {
      "startup": false,
      "wait_interval": 0
     },
     "base_uri": "https://localhost:8080/"
    },
    "colab_type": "code",
    "executionInfo": {
     "elapsed": 254,
     "status": "ok",
     "timestamp": 1527147536186,
     "user": {
      "displayName": "Tairi Delgado",
      "photoUrl": "//lh6.googleusercontent.com/-l4lv-T3P6-c/AAAAAAAAAAI/AAAAAAAABIA/4wtQ8ehIzZw/s50-c-k-no/photo.jpg",
      "userId": "115188476170888991569"
     },
     "user_tz": 420
    },
    "id": "GUw-9HwvFaxi",
    "outputId": "35328a8a-796d-4295-8aec-3b80c8ae2f21"
   },
   "outputs": [
    {
     "data": {
      "text/html": [
       "<div>\n",
       "<style scoped>\n",
       "    .dataframe tbody tr th:only-of-type {\n",
       "        vertical-align: middle;\n",
       "    }\n",
       "\n",
       "    .dataframe tbody tr th {\n",
       "        vertical-align: top;\n",
       "    }\n",
       "\n",
       "    .dataframe thead th {\n",
       "        text-align: right;\n",
       "    }\n",
       "</style>\n",
       "<table border=\"1\" class=\"dataframe\">\n",
       "  <thead>\n",
       "    <tr style=\"text-align: right;\">\n",
       "      <th></th>\n",
       "      <th>A</th>\n",
       "    </tr>\n",
       "  </thead>\n",
       "  <tbody>\n",
       "    <tr>\n",
       "      <th>0</th>\n",
       "      <td>20001</td>\n",
       "    </tr>\n",
       "    <tr>\n",
       "      <th>1</th>\n",
       "      <td>20002</td>\n",
       "    </tr>\n",
       "    <tr>\n",
       "      <th>2</th>\n",
       "      <td>20003</td>\n",
       "    </tr>\n",
       "    <tr>\n",
       "      <th>3</th>\n",
       "      <td>20004</td>\n",
       "    </tr>\n",
       "  </tbody>\n",
       "</table>\n",
       "</div>"
      ],
      "text/plain": [
       "       A\n",
       "0  20001\n",
       "1  20002\n",
       "2  20003\n",
       "3  20004"
      ]
     },
     "metadata": {
      "tags": []
     },
     "output_type": "display_data"
    }
   ],
   "source": [
    "df = pd.DataFrame({'A': ['20001', '20002', '20003', '']})\n",
    "display(add_primary_ids(df, 'A', 20001))"
   ]
  },
  {
   "cell_type": "markdown",
   "metadata": {
    "colab_type": "text",
    "id": "4z-7yQgAGady"
   },
   "source": [
    "**Strip underscores from names**"
   ]
  },
  {
   "cell_type": "code",
   "execution_count": 0,
   "metadata": {
    "colab": {
     "autoexec": {
      "startup": false,
      "wait_interval": 0
     }
    },
    "colab_type": "code",
    "id": "AV9N7WPhGZui"
   },
   "outputs": [],
   "source": [
    "def strip_underscores_from_names(df, field):\n",
    "  new_df = under_scores = df[field].str.replace(\"_\", \"\")\n",
    "  df.update(new_df)\n",
    "  return df"
   ]
  },
  {
   "cell_type": "code",
   "execution_count": 155,
   "metadata": {
    "colab": {
     "autoexec": {
      "startup": false,
      "wait_interval": 0
     },
     "base_uri": "https://localhost:8080/"
    },
    "colab_type": "code",
    "executionInfo": {
     "elapsed": 460,
     "status": "ok",
     "timestamp": 1527147537041,
     "user": {
      "displayName": "Tairi Delgado",
      "photoUrl": "//lh6.googleusercontent.com/-l4lv-T3P6-c/AAAAAAAAAAI/AAAAAAAABIA/4wtQ8ehIzZw/s50-c-k-no/photo.jpg",
      "userId": "115188476170888991569"
     },
     "user_tz": 420
    },
    "id": "1MAJnQyNG3up",
    "outputId": "e86e0c40-e965-49ce-c7df-e159d006edbd"
   },
   "outputs": [
    {
     "data": {
      "text/html": [
       "<div>\n",
       "<style scoped>\n",
       "    .dataframe tbody tr th:only-of-type {\n",
       "        vertical-align: middle;\n",
       "    }\n",
       "\n",
       "    .dataframe tbody tr th {\n",
       "        vertical-align: top;\n",
       "    }\n",
       "\n",
       "    .dataframe thead th {\n",
       "        text-align: right;\n",
       "    }\n",
       "</style>\n",
       "<table border=\"1\" class=\"dataframe\">\n",
       "  <thead>\n",
       "    <tr style=\"text-align: right;\">\n",
       "      <th></th>\n",
       "      <th>Employee ID</th>\n",
       "      <th>First Name</th>\n",
       "      <th>Last Name</th>\n",
       "      <th>Department</th>\n",
       "      <th>City</th>\n",
       "    </tr>\n",
       "  </thead>\n",
       "  <tbody>\n",
       "    <tr>\n",
       "      <th>0</th>\n",
       "      <td>10001</td>\n",
       "      <td>Daniel</td>\n",
       "      <td>Olson</td>\n",
       "      <td>Electronics</td>\n",
       "      <td>San Francisco</td>\n",
       "    </tr>\n",
       "    <tr>\n",
       "      <th>1</th>\n",
       "      <td>10002</td>\n",
       "      <td>Nick</td>\n",
       "      <td>Markmen</td>\n",
       "      <td>Clothes</td>\n",
       "      <td>San Francisco</td>\n",
       "    </tr>\n",
       "    <tr>\n",
       "      <th>2</th>\n",
       "      <td>10003</td>\n",
       "      <td>Maria</td>\n",
       "      <td>Gonzales</td>\n",
       "      <td>Electronics</td>\n",
       "      <td>San Jose</td>\n",
       "    </tr>\n",
       "    <tr>\n",
       "      <th>3</th>\n",
       "      <td>10004</td>\n",
       "      <td>George</td>\n",
       "      <td>Wong</td>\n",
       "      <td>Clothes</td>\n",
       "      <td>San Francisco</td>\n",
       "    </tr>\n",
       "    <tr>\n",
       "      <th>4</th>\n",
       "      <td>10005</td>\n",
       "      <td>Stephanie</td>\n",
       "      <td>Williams</td>\n",
       "      <td>Clothes</td>\n",
       "      <td>Oakland</td>\n",
       "    </tr>\n",
       "    <tr>\n",
       "      <th>5</th>\n",
       "      <td>10006</td>\n",
       "      <td>Miguel</td>\n",
       "      <td>Alva</td>\n",
       "      <td>Clothes</td>\n",
       "      <td>Oakland</td>\n",
       "    </tr>\n",
       "    <tr>\n",
       "      <th>6</th>\n",
       "      <td>10007</td>\n",
       "      <td>Jessica</td>\n",
       "      <td>Collins</td>\n",
       "      <td>Cosmetics</td>\n",
       "      <td>San Francisco</td>\n",
       "    </tr>\n",
       "    <tr>\n",
       "      <th>7</th>\n",
       "      <td>10008</td>\n",
       "      <td>Ted</td>\n",
       "      <td>Anderson</td>\n",
       "      <td>Clothes</td>\n",
       "      <td>Oakland</td>\n",
       "    </tr>\n",
       "    <tr>\n",
       "      <th>8</th>\n",
       "      <td>10009</td>\n",
       "      <td>Victoria</td>\n",
       "      <td>Garcia</td>\n",
       "      <td>Clothes</td>\n",
       "      <td>San Jose</td>\n",
       "    </tr>\n",
       "    <tr>\n",
       "      <th>9</th>\n",
       "      <td>10010</td>\n",
       "      <td>Jasmine</td>\n",
       "      <td>Khan</td>\n",
       "      <td>Pharmacy, Health &amp; Beauty</td>\n",
       "      <td>Oakland</td>\n",
       "    </tr>\n",
       "    <tr>\n",
       "      <th>10</th>\n",
       "      <td>10011</td>\n",
       "      <td>Adam</td>\n",
       "      <td>Smith</td>\n",
       "      <td>Pharmacy, Health &amp; Beauty</td>\n",
       "      <td>San Jose</td>\n",
       "    </tr>\n",
       "    <tr>\n",
       "      <th>11</th>\n",
       "      <td>10012</td>\n",
       "      <td>Rachel</td>\n",
       "      <td>Kim</td>\n",
       "      <td>Electronics</td>\n",
       "      <td>San Jose</td>\n",
       "    </tr>\n",
       "    <tr>\n",
       "      <th>12</th>\n",
       "      <td>10012</td>\n",
       "      <td>Adam R.</td>\n",
       "      <td>West</td>\n",
       "      <td>Clothes</td>\n",
       "      <td>San Jose</td>\n",
       "    </tr>\n",
       "    <tr>\n",
       "      <th>13</th>\n",
       "      <td>10012</td>\n",
       "      <td>Adam</td>\n",
       "      <td>West</td>\n",
       "      <td>Clothes</td>\n",
       "      <td>San Jose</td>\n",
       "    </tr>\n",
       "    <tr>\n",
       "      <th>14</th>\n",
       "      <td>10013</td>\n",
       "      <td>Kim</td>\n",
       "      <td>Ng</td>\n",
       "      <td></td>\n",
       "      <td>San Francisco</td>\n",
       "    </tr>\n",
       "    <tr>\n",
       "      <th>15</th>\n",
       "      <td>10014</td>\n",
       "      <td>Nicole</td>\n",
       "      <td></td>\n",
       "      <td>Pharmacy, Health &amp; Beauty</td>\n",
       "      <td>Oakland</td>\n",
       "    </tr>\n",
       "    <tr>\n",
       "      <th>16</th>\n",
       "      <td>3k3d8leu</td>\n",
       "      <td>James</td>\n",
       "      <td>TELLER</td>\n",
       "      <td>Clothes</td>\n",
       "      <td>SANJOSE,CA</td>\n",
       "    </tr>\n",
       "    <tr>\n",
       "      <th>17</th>\n",
       "      <td>1100123</td>\n",
       "      <td>Carie</td>\n",
       "      <td>Olson</td>\n",
       "      <td>Clothes/Electronics</td>\n",
       "      <td>SF</td>\n",
       "    </tr>\n",
       "    <tr>\n",
       "      <th>18</th>\n",
       "      <td>10015</td>\n",
       "      <td>JonathaN</td>\n",
       "      <td>hernandez</td>\n",
       "      <td>N/A</td>\n",
       "      <td>San Jose</td>\n",
       "    </tr>\n",
       "  </tbody>\n",
       "</table>\n",
       "</div>"
      ],
      "text/plain": [
       "   Employee ID First Name  Last Name                 Department           City\n",
       "0        10001     Daniel      Olson                Electronics  San Francisco\n",
       "1        10002       Nick    Markmen                    Clothes  San Francisco\n",
       "2        10003      Maria   Gonzales                Electronics       San Jose\n",
       "3        10004     George       Wong                    Clothes  San Francisco\n",
       "4        10005  Stephanie   Williams                    Clothes        Oakland\n",
       "5        10006     Miguel       Alva                    Clothes        Oakland\n",
       "6        10007    Jessica    Collins                  Cosmetics  San Francisco\n",
       "7        10008        Ted   Anderson                    Clothes        Oakland\n",
       "8        10009  Victoria      Garcia                    Clothes       San Jose\n",
       "9        10010    Jasmine       Khan  Pharmacy, Health & Beauty        Oakland\n",
       "10       10011       Adam      Smith  Pharmacy, Health & Beauty       San Jose\n",
       "11       10012     Rachel        Kim                Electronics       San Jose\n",
       "12       10012    Adam R.       West                    Clothes       San Jose\n",
       "13       10012       Adam       West                    Clothes       San Jose\n",
       "14       10013        Kim         Ng                             San Francisco\n",
       "15       10014     Nicole             Pharmacy, Health & Beauty        Oakland\n",
       "16    3k3d8leu      James     TELLER                    Clothes     SANJOSE,CA\n",
       "17     1100123      Carie      Olson        Clothes/Electronics             SF\n",
       "18       10015   JonathaN  hernandez                        N/A       San Jose"
      ]
     },
     "metadata": {
      "tags": []
     },
     "output_type": "display_data"
    }
   ],
   "source": [
    "display(strip_underscores_from_names(employees, 'First Name'))"
   ]
  },
  {
   "cell_type": "markdown",
   "metadata": {
    "colab_type": "text",
    "id": "MBuHzBaeHkqs"
   },
   "source": [
    "**Update city names**"
   ]
  },
  {
   "cell_type": "code",
   "execution_count": 0,
   "metadata": {
    "colab": {
     "autoexec": {
      "startup": false,
      "wait_interval": 0
     }
    },
    "colab_type": "code",
    "id": "krjEVK1dHpy8"
   },
   "outputs": [],
   "source": [
    "def update_city_names(df, field, city_proper, city_names):\n",
    "  dict_city_names = {}\n",
    "  for city in city_names:\n",
    "    dict_city_names[city] = city_proper\n",
    "  \n",
    "  new_df = df[field].map(dict_city_names)\n",
    "  df.update(new_df)\n",
    "  return df"
   ]
  },
  {
   "cell_type": "code",
   "execution_count": 157,
   "metadata": {
    "colab": {
     "autoexec": {
      "startup": false,
      "wait_interval": 0
     },
     "base_uri": "https://localhost:8080/"
    },
    "colab_type": "code",
    "executionInfo": {
     "elapsed": 263,
     "status": "ok",
     "timestamp": 1527147537707,
     "user": {
      "displayName": "Tairi Delgado",
      "photoUrl": "//lh6.googleusercontent.com/-l4lv-T3P6-c/AAAAAAAAAAI/AAAAAAAABIA/4wtQ8ehIzZw/s50-c-k-no/photo.jpg",
      "userId": "115188476170888991569"
     },
     "user_tz": 420
    },
    "id": "vpm4RYjCIv72",
    "outputId": "da25ad18-7897-4fc0-cc32-55b7bf6e0398"
   },
   "outputs": [
    {
     "data": {
      "text/html": [
       "<div>\n",
       "<style scoped>\n",
       "    .dataframe tbody tr th:only-of-type {\n",
       "        vertical-align: middle;\n",
       "    }\n",
       "\n",
       "    .dataframe tbody tr th {\n",
       "        vertical-align: top;\n",
       "    }\n",
       "\n",
       "    .dataframe thead th {\n",
       "        text-align: right;\n",
       "    }\n",
       "</style>\n",
       "<table border=\"1\" class=\"dataframe\">\n",
       "  <thead>\n",
       "    <tr style=\"text-align: right;\">\n",
       "      <th></th>\n",
       "      <th>Customer ID</th>\n",
       "      <th>First Name</th>\n",
       "      <th>Last Name</th>\n",
       "      <th>City</th>\n",
       "    </tr>\n",
       "  </thead>\n",
       "  <tbody>\n",
       "    <tr>\n",
       "      <th>0</th>\n",
       "      <td>20001</td>\n",
       "      <td>Jack</td>\n",
       "      <td>Ward</td>\n",
       "      <td>San Jose</td>\n",
       "    </tr>\n",
       "    <tr>\n",
       "      <th>1</th>\n",
       "      <td>20002</td>\n",
       "      <td>Steven</td>\n",
       "      <td>Martinez</td>\n",
       "      <td>San Francisco</td>\n",
       "    </tr>\n",
       "    <tr>\n",
       "      <th>2</th>\n",
       "      <td>20003</td>\n",
       "      <td>Jessica</td>\n",
       "      <td>Collins</td>\n",
       "      <td>San Jose</td>\n",
       "    </tr>\n",
       "    <tr>\n",
       "      <th>3</th>\n",
       "      <td>20004</td>\n",
       "      <td>Carie</td>\n",
       "      <td>Robinson</td>\n",
       "      <td>San Francisco</td>\n",
       "    </tr>\n",
       "    <tr>\n",
       "      <th>4</th>\n",
       "      <td>20005</td>\n",
       "      <td>Zack</td>\n",
       "      <td>Peterson</td>\n",
       "      <td>Oakland</td>\n",
       "    </tr>\n",
       "    <tr>\n",
       "      <th>5</th>\n",
       "      <td>20006</td>\n",
       "      <td>Bianca</td>\n",
       "      <td>Sanchez</td>\n",
       "      <td>San Francisco</td>\n",
       "    </tr>\n",
       "    <tr>\n",
       "      <th>6</th>\n",
       "      <td>20007</td>\n",
       "      <td>James</td>\n",
       "      <td>Owen</td>\n",
       "      <td>Oakland</td>\n",
       "    </tr>\n",
       "    <tr>\n",
       "      <th>7</th>\n",
       "      <td>20008</td>\n",
       "      <td>Lisa</td>\n",
       "      <td>Smith</td>\n",
       "      <td>San Francisco</td>\n",
       "    </tr>\n",
       "    <tr>\n",
       "      <th>8</th>\n",
       "      <td>20009</td>\n",
       "      <td>Daniel</td>\n",
       "      <td>Yasukawa</td>\n",
       "      <td>Oakland</td>\n",
       "    </tr>\n",
       "    <tr>\n",
       "      <th>9</th>\n",
       "      <td>20010</td>\n",
       "      <td>Lauren</td>\n",
       "      <td>Pham</td>\n",
       "      <td>San Jose</td>\n",
       "    </tr>\n",
       "    <tr>\n",
       "      <th>10</th>\n",
       "      <td>20011</td>\n",
       "      <td>Juan</td>\n",
       "      <td>Diaz</td>\n",
       "      <td>Oakland</td>\n",
       "    </tr>\n",
       "    <tr>\n",
       "      <th>11</th>\n",
       "      <td>20012</td>\n",
       "      <td>Martha</td>\n",
       "      <td>Diaz</td>\n",
       "      <td>San Francisco</td>\n",
       "    </tr>\n",
       "    <tr>\n",
       "      <th>12</th>\n",
       "      <td>20013</td>\n",
       "      <td>Margret Shang</td>\n",
       "      <td></td>\n",
       "      <td>Oak Town</td>\n",
       "    </tr>\n",
       "    <tr>\n",
       "      <th>13</th>\n",
       "      <td>20014</td>\n",
       "      <td>Jeremy</td>\n",
       "      <td>Fernandez</td>\n",
       "      <td>Berkeley</td>\n",
       "    </tr>\n",
       "    <tr>\n",
       "      <th>14</th>\n",
       "      <td>20018</td>\n",
       "      <td>Tiffany</td>\n",
       "      <td>Williams</td>\n",
       "      <td>San Francisco</td>\n",
       "    </tr>\n",
       "  </tbody>\n",
       "</table>\n",
       "</div>"
      ],
      "text/plain": [
       "   Customer ID     First Name  Last Name           City\n",
       "0        20001           Jack       Ward       San Jose\n",
       "1        20002         Steven   Martinez  San Francisco\n",
       "2        20003        Jessica    Collins       San Jose\n",
       "3        20004          Carie   Robinson  San Francisco\n",
       "4        20005           Zack   Peterson        Oakland\n",
       "5        20006         Bianca    Sanchez  San Francisco\n",
       "6        20007          James       Owen        Oakland\n",
       "7        20008           Lisa      Smith  San Francisco\n",
       "8        20009         Daniel   Yasukawa        Oakland\n",
       "9        20010         Lauren       Pham       San Jose\n",
       "10       20011           Juan       Diaz        Oakland\n",
       "11       20012         Martha       Diaz  San Francisco\n",
       "12       20013  Margret Shang                  Oak Town\n",
       "13       20014         Jeremy  Fernandez       Berkeley\n",
       "14       20018        Tiffany   Williams  San Francisco"
      ]
     },
     "metadata": {
      "tags": []
     },
     "output_type": "display_data"
    }
   ],
   "source": [
    "city_proper = 'San Francisco'\n",
    "city_names = ['SAN FRANCISCO', 'SANFRANCISCO', 'SANFRANCISCO,CA', 'SF', 'sf', 'FRISCO', 'Frisco']\n",
    "display(update_city_names(customers, 'City', city_proper, city_names))"
   ]
  },
  {
   "cell_type": "code",
   "execution_count": 158,
   "metadata": {
    "colab": {
     "autoexec": {
      "startup": false,
      "wait_interval": 0
     },
     "base_uri": "https://localhost:8080/"
    },
    "colab_type": "code",
    "executionInfo": {
     "elapsed": 301,
     "status": "ok",
     "timestamp": 1527147538066,
     "user": {
      "displayName": "Tairi Delgado",
      "photoUrl": "//lh6.googleusercontent.com/-l4lv-T3P6-c/AAAAAAAAAAI/AAAAAAAABIA/4wtQ8ehIzZw/s50-c-k-no/photo.jpg",
      "userId": "115188476170888991569"
     },
     "user_tz": 420
    },
    "id": "XEH2mP1WJMt-",
    "outputId": "34c8bd94-c1b8-4ca4-f6b9-9057dfe93ceb"
   },
   "outputs": [
    {
     "data": {
      "text/html": [
       "<div>\n",
       "<style scoped>\n",
       "    .dataframe tbody tr th:only-of-type {\n",
       "        vertical-align: middle;\n",
       "    }\n",
       "\n",
       "    .dataframe tbody tr th {\n",
       "        vertical-align: top;\n",
       "    }\n",
       "\n",
       "    .dataframe thead th {\n",
       "        text-align: right;\n",
       "    }\n",
       "</style>\n",
       "<table border=\"1\" class=\"dataframe\">\n",
       "  <thead>\n",
       "    <tr style=\"text-align: right;\">\n",
       "      <th></th>\n",
       "      <th>Customer ID</th>\n",
       "      <th>First Name</th>\n",
       "      <th>Last Name</th>\n",
       "      <th>City</th>\n",
       "    </tr>\n",
       "  </thead>\n",
       "  <tbody>\n",
       "    <tr>\n",
       "      <th>0</th>\n",
       "      <td>20001</td>\n",
       "      <td>Jack</td>\n",
       "      <td>Ward</td>\n",
       "      <td>San Jose</td>\n",
       "    </tr>\n",
       "    <tr>\n",
       "      <th>1</th>\n",
       "      <td>20002</td>\n",
       "      <td>Steven</td>\n",
       "      <td>Martinez</td>\n",
       "      <td>San Francisco</td>\n",
       "    </tr>\n",
       "    <tr>\n",
       "      <th>2</th>\n",
       "      <td>20003</td>\n",
       "      <td>Jessica</td>\n",
       "      <td>Collins</td>\n",
       "      <td>San Jose</td>\n",
       "    </tr>\n",
       "    <tr>\n",
       "      <th>3</th>\n",
       "      <td>20004</td>\n",
       "      <td>Carie</td>\n",
       "      <td>Robinson</td>\n",
       "      <td>San Francisco</td>\n",
       "    </tr>\n",
       "    <tr>\n",
       "      <th>4</th>\n",
       "      <td>20005</td>\n",
       "      <td>Zack</td>\n",
       "      <td>Peterson</td>\n",
       "      <td>Oakland</td>\n",
       "    </tr>\n",
       "    <tr>\n",
       "      <th>5</th>\n",
       "      <td>20006</td>\n",
       "      <td>Bianca</td>\n",
       "      <td>Sanchez</td>\n",
       "      <td>San Francisco</td>\n",
       "    </tr>\n",
       "    <tr>\n",
       "      <th>6</th>\n",
       "      <td>20007</td>\n",
       "      <td>James</td>\n",
       "      <td>Owen</td>\n",
       "      <td>Oakland</td>\n",
       "    </tr>\n",
       "    <tr>\n",
       "      <th>7</th>\n",
       "      <td>20008</td>\n",
       "      <td>Lisa</td>\n",
       "      <td>Smith</td>\n",
       "      <td>San Francisco</td>\n",
       "    </tr>\n",
       "    <tr>\n",
       "      <th>8</th>\n",
       "      <td>20009</td>\n",
       "      <td>Daniel</td>\n",
       "      <td>Yasukawa</td>\n",
       "      <td>Oakland</td>\n",
       "    </tr>\n",
       "    <tr>\n",
       "      <th>9</th>\n",
       "      <td>20010</td>\n",
       "      <td>Lauren</td>\n",
       "      <td>Pham</td>\n",
       "      <td>San Jose</td>\n",
       "    </tr>\n",
       "    <tr>\n",
       "      <th>10</th>\n",
       "      <td>20011</td>\n",
       "      <td>Juan</td>\n",
       "      <td>Diaz</td>\n",
       "      <td>Oakland</td>\n",
       "    </tr>\n",
       "    <tr>\n",
       "      <th>11</th>\n",
       "      <td>20012</td>\n",
       "      <td>Martha</td>\n",
       "      <td>Diaz</td>\n",
       "      <td>San Francisco</td>\n",
       "    </tr>\n",
       "    <tr>\n",
       "      <th>12</th>\n",
       "      <td>20013</td>\n",
       "      <td>Margret Shang</td>\n",
       "      <td></td>\n",
       "      <td>Oakland</td>\n",
       "    </tr>\n",
       "    <tr>\n",
       "      <th>13</th>\n",
       "      <td>20014</td>\n",
       "      <td>Jeremy</td>\n",
       "      <td>Fernandez</td>\n",
       "      <td>Berkeley</td>\n",
       "    </tr>\n",
       "    <tr>\n",
       "      <th>14</th>\n",
       "      <td>20018</td>\n",
       "      <td>Tiffany</td>\n",
       "      <td>Williams</td>\n",
       "      <td>San Francisco</td>\n",
       "    </tr>\n",
       "  </tbody>\n",
       "</table>\n",
       "</div>"
      ],
      "text/plain": [
       "   Customer ID     First Name  Last Name           City\n",
       "0        20001           Jack       Ward       San Jose\n",
       "1        20002         Steven   Martinez  San Francisco\n",
       "2        20003        Jessica    Collins       San Jose\n",
       "3        20004          Carie   Robinson  San Francisco\n",
       "4        20005           Zack   Peterson        Oakland\n",
       "5        20006         Bianca    Sanchez  San Francisco\n",
       "6        20007          James       Owen        Oakland\n",
       "7        20008           Lisa      Smith  San Francisco\n",
       "8        20009         Daniel   Yasukawa        Oakland\n",
       "9        20010         Lauren       Pham       San Jose\n",
       "10       20011           Juan       Diaz        Oakland\n",
       "11       20012         Martha       Diaz  San Francisco\n",
       "12       20013  Margret Shang                   Oakland\n",
       "13       20014         Jeremy  Fernandez       Berkeley\n",
       "14       20018        Tiffany   Williams  San Francisco"
      ]
     },
     "metadata": {
      "tags": []
     },
     "output_type": "display_data"
    }
   ],
   "source": [
    "city_proper = 'Oakland'\n",
    "city_names = ['OAKLAND', 'oakland', 'Oak Town']\n",
    "display(update_city_names(customers, 'City', city_proper, city_names))"
   ]
  },
  {
   "cell_type": "markdown",
   "metadata": {
    "colab_type": "text",
    "id": "_ePsipW9Jkqv"
   },
   "source": [
    "**Removal**"
   ]
  },
  {
   "cell_type": "code",
   "execution_count": 0,
   "metadata": {
    "colab": {
     "autoexec": {
      "startup": false,
      "wait_interval": 0
     }
    },
    "colab_type": "code",
    "id": "UMPiK4paJmi8"
   },
   "outputs": [],
   "source": [
    "def bad_product_records(df, pid, sid):\n",
    "  df = audit_ids(products, 'Product ID', pid)\n",
    "  df = audit_ids(df, 'Supplier ID', sid)\n",
    "  supplier_names = ['Studio Warehouse', 'BioMed Inc', 'CompTech, Inc', 'FashionRUs', 'Music Vibrations, Inc', 'WearUps Inc', 'DataQuery Inc', 'Ropa Inc']\n",
    "  df = cross_reference_entries(df, 'Supplier Name', supplier_names)\n",
    "  display(df)"
   ]
  },
  {
   "cell_type": "code",
   "execution_count": 160,
   "metadata": {
    "colab": {
     "autoexec": {
      "startup": false,
      "wait_interval": 0
     },
     "base_uri": "https://localhost:8080/"
    },
    "colab_type": "code",
    "executionInfo": {
     "elapsed": 289,
     "status": "ok",
     "timestamp": 1527147538754,
     "user": {
      "displayName": "Tairi Delgado",
      "photoUrl": "//lh6.googleusercontent.com/-l4lv-T3P6-c/AAAAAAAAAAI/AAAAAAAABIA/4wtQ8ehIzZw/s50-c-k-no/photo.jpg",
      "userId": "115188476170888991569"
     },
     "user_tz": 420
    },
    "id": "uzjovFmoK6Lm",
    "outputId": "045468e5-51b7-4307-8150-5fdfe88a813f"
   },
   "outputs": [
    {
     "data": {
      "text/html": [
       "<div>\n",
       "<style scoped>\n",
       "    .dataframe tbody tr th:only-of-type {\n",
       "        vertical-align: middle;\n",
       "    }\n",
       "\n",
       "    .dataframe tbody tr th {\n",
       "        vertical-align: top;\n",
       "    }\n",
       "\n",
       "    .dataframe thead th {\n",
       "        text-align: right;\n",
       "    }\n",
       "</style>\n",
       "<table border=\"1\" class=\"dataframe\">\n",
       "  <thead>\n",
       "    <tr style=\"text-align: right;\">\n",
       "      <th></th>\n",
       "      <th>Product ID</th>\n",
       "      <th>Product Name</th>\n",
       "      <th>Price</th>\n",
       "      <th>Supplier ID</th>\n",
       "      <th>Supplier Name</th>\n",
       "    </tr>\n",
       "  </thead>\n",
       "  <tbody>\n",
       "    <tr>\n",
       "      <th>0</th>\n",
       "      <td>12!d3&amp;)dkc_+@ad</td>\n",
       "      <td>Car</td>\n",
       "      <td></td>\n",
       "      <td>48350254-5qe</td>\n",
       "      <td></td>\n",
       "    </tr>\n",
       "  </tbody>\n",
       "</table>\n",
       "</div>"
      ],
      "text/plain": [
       "        Product ID Product Name Price   Supplier ID Supplier Name\n",
       "0  12!d3&)dkc_+@ad          Car        48350254-5qe              "
      ]
     },
     "metadata": {
      "tags": []
     },
     "output_type": "display_data"
    }
   ],
   "source": [
    "bad_product_records(products, 3,5)"
   ]
  },
  {
   "cell_type": "code",
   "execution_count": 0,
   "metadata": {
    "colab": {
     "autoexec": {
      "startup": false,
      "wait_interval": 0
     }
    },
    "colab_type": "code",
    "id": "S-6cc3eKLPOo"
   },
   "outputs": [],
   "source": [
    "def filter_product_records(df, pid, sid):\n",
    "  pid_df = audit_ids(df, 'Product ID', pid)\n",
    "  sid_df = audit_ids(pid_df, 'Supplier ID', sid)\n",
    "  supplier_names = ['Studio Warehouse', 'BioMed Inc', 'CompTech, Inc', 'FashionRUs', 'Music Vibrations, Inc', 'WearUps Inc', 'DataQuery Inc', 'Ropa Inc']\n",
    "  cref_df = cross_reference_entries(sid_df, 'Supplier Name', supplier_names)\n",
    "  keys = list(df)\n",
    "  i1 = df.set_index(keys).index\n",
    "  i2 = cref_df.set_index(keys).index\n",
    "  return df[~i1.isin(i2)]\n"
   ]
  },
  {
   "cell_type": "code",
   "execution_count": 162,
   "metadata": {
    "colab": {
     "autoexec": {
      "startup": false,
      "wait_interval": 0
     },
     "base_uri": "https://localhost:8080/"
    },
    "colab_type": "code",
    "executionInfo": {
     "elapsed": 478,
     "status": "ok",
     "timestamp": 1527147539674,
     "user": {
      "displayName": "Tairi Delgado",
      "photoUrl": "//lh6.googleusercontent.com/-l4lv-T3P6-c/AAAAAAAAAAI/AAAAAAAABIA/4wtQ8ehIzZw/s50-c-k-no/photo.jpg",
      "userId": "115188476170888991569"
     },
     "user_tz": 420
    },
    "id": "DKF5F_9FMcfC",
    "outputId": "5e925a62-9fcc-4a3d-abbe-d811ccc061d2"
   },
   "outputs": [
    {
     "data": {
      "text/html": [
       "<div>\n",
       "<style scoped>\n",
       "    .dataframe tbody tr th:only-of-type {\n",
       "        vertical-align: middle;\n",
       "    }\n",
       "\n",
       "    .dataframe tbody tr th {\n",
       "        vertical-align: top;\n",
       "    }\n",
       "\n",
       "    .dataframe thead th {\n",
       "        text-align: right;\n",
       "    }\n",
       "</style>\n",
       "<table border=\"1\" class=\"dataframe\">\n",
       "  <thead>\n",
       "    <tr style=\"text-align: right;\">\n",
       "      <th></th>\n",
       "      <th>Product ID</th>\n",
       "      <th>Product Name</th>\n",
       "      <th>Price</th>\n",
       "      <th>Supplier ID</th>\n",
       "      <th>Supplier Name</th>\n",
       "    </tr>\n",
       "  </thead>\n",
       "  <tbody>\n",
       "    <tr>\n",
       "      <th>0</th>\n",
       "      <td>30001</td>\n",
       "      <td>T-Shirt</td>\n",
       "      <td>12.98</td>\n",
       "      <td>40004</td>\n",
       "      <td>Studio Warehouse</td>\n",
       "    </tr>\n",
       "    <tr>\n",
       "      <th>1</th>\n",
       "      <td>30002</td>\n",
       "      <td>Tooth Paste</td>\n",
       "      <td>4.5</td>\n",
       "      <td>40002</td>\n",
       "      <td>BioMed Inc</td>\n",
       "    </tr>\n",
       "    <tr>\n",
       "      <th>2</th>\n",
       "      <td>30003</td>\n",
       "      <td>Speakers</td>\n",
       "      <td>56.99</td>\n",
       "      <td>40005</td>\n",
       "      <td>CompTech, Inc</td>\n",
       "    </tr>\n",
       "    <tr>\n",
       "      <th>3</th>\n",
       "      <td>30004</td>\n",
       "      <td>Pants</td>\n",
       "      <td>34.35</td>\n",
       "      <td>40003</td>\n",
       "      <td>FashionRUs</td>\n",
       "    </tr>\n",
       "    <tr>\n",
       "      <th>4</th>\n",
       "      <td>30005</td>\n",
       "      <td>Microphone</td>\n",
       "      <td>46.21</td>\n",
       "      <td>40001</td>\n",
       "      <td>Music Vibrations, Inc</td>\n",
       "    </tr>\n",
       "    <tr>\n",
       "      <th>5</th>\n",
       "      <td>30006</td>\n",
       "      <td>Tie</td>\n",
       "      <td>11.09</td>\n",
       "      <td>40003</td>\n",
       "      <td>FashionRUs</td>\n",
       "    </tr>\n",
       "    <tr>\n",
       "      <th>6</th>\n",
       "      <td>30007</td>\n",
       "      <td>Chap Stick</td>\n",
       "      <td>3.67</td>\n",
       "      <td>40002</td>\n",
       "      <td>BioMed Inc</td>\n",
       "    </tr>\n",
       "    <tr>\n",
       "      <th>7</th>\n",
       "      <td>30008</td>\n",
       "      <td>Medicine</td>\n",
       "      <td>23.96</td>\n",
       "      <td>40002</td>\n",
       "      <td>BioMed Inc</td>\n",
       "    </tr>\n",
       "    <tr>\n",
       "      <th>8</th>\n",
       "      <td>30009</td>\n",
       "      <td>Headphones</td>\n",
       "      <td>31.44</td>\n",
       "      <td>40001</td>\n",
       "      <td>Music Vibrations, Inc</td>\n",
       "    </tr>\n",
       "    <tr>\n",
       "      <th>9</th>\n",
       "      <td>30010</td>\n",
       "      <td>Lotion</td>\n",
       "      <td>16.77</td>\n",
       "      <td>40002</td>\n",
       "      <td>BioMed Inc</td>\n",
       "    </tr>\n",
       "    <tr>\n",
       "      <th>10</th>\n",
       "      <td>30011</td>\n",
       "      <td>DVD Player</td>\n",
       "      <td>149.99</td>\n",
       "      <td>40005</td>\n",
       "      <td>CompTech, Inc</td>\n",
       "    </tr>\n",
       "    <tr>\n",
       "      <th>11</th>\n",
       "      <td>30012</td>\n",
       "      <td>Coat</td>\n",
       "      <td>56.33</td>\n",
       "      <td>40004</td>\n",
       "      <td>Studio Warehouse</td>\n",
       "    </tr>\n",
       "    <tr>\n",
       "      <th>12</th>\n",
       "      <td>40013</td>\n",
       "      <td>Back Pack</td>\n",
       "      <td>Twenty Two Dollars</td>\n",
       "      <td>40006</td>\n",
       "      <td>WearUps Inc</td>\n",
       "    </tr>\n",
       "    <tr>\n",
       "      <th>13</th>\n",
       "      <td>40014</td>\n",
       "      <td>Auditing Services</td>\n",
       "      <td>7000</td>\n",
       "      <td>40007</td>\n",
       "      <td>DataQuery Inc</td>\n",
       "    </tr>\n",
       "    <tr>\n",
       "      <th>15</th>\n",
       "      <td>40015</td>\n",
       "      <td>Shirt</td>\n",
       "      <td>180</td>\n",
       "      <td>40003</td>\n",
       "      <td>Ropa Inc</td>\n",
       "    </tr>\n",
       "  </tbody>\n",
       "</table>\n",
       "</div>"
      ],
      "text/plain": [
       "   Product ID       Product Name               Price Supplier ID  \\\n",
       "0       30001            T-Shirt               12.98       40004   \n",
       "1       30002        Tooth Paste                 4.5       40002   \n",
       "2       30003           Speakers               56.99       40005   \n",
       "3       30004              Pants               34.35       40003   \n",
       "4       30005         Microphone               46.21       40001   \n",
       "5       30006                Tie               11.09       40003   \n",
       "6       30007         Chap Stick                3.67       40002   \n",
       "7       30008           Medicine               23.96       40002   \n",
       "8       30009         Headphones               31.44       40001   \n",
       "9       30010             Lotion               16.77       40002   \n",
       "10      30011         DVD Player              149.99       40005   \n",
       "11      30012               Coat               56.33       40004   \n",
       "12      40013          Back Pack  Twenty Two Dollars       40006   \n",
       "13      40014  Auditing Services                7000       40007   \n",
       "15      40015              Shirt                 180       40003   \n",
       "\n",
       "            Supplier Name  \n",
       "0        Studio Warehouse  \n",
       "1              BioMed Inc  \n",
       "2           CompTech, Inc  \n",
       "3              FashionRUs  \n",
       "4   Music Vibrations, Inc  \n",
       "5              FashionRUs  \n",
       "6              BioMed Inc  \n",
       "7              BioMed Inc  \n",
       "8   Music Vibrations, Inc  \n",
       "9              BioMed Inc  \n",
       "10          CompTech, Inc  \n",
       "11       Studio Warehouse  \n",
       "12            WearUps Inc  \n",
       "13          DataQuery Inc  \n",
       "15               Ropa Inc  "
      ]
     },
     "metadata": {
      "tags": []
     },
     "output_type": "display_data"
    }
   ],
   "source": [
    "display(filter_product_records(products, 3, 5))"
   ]
  },
  {
   "cell_type": "markdown",
   "metadata": {
    "colab_type": "text",
    "id": "qPAXA4_l3mFN"
   },
   "source": [
    "# Outlier Detection"
   ]
  },
  {
   "cell_type": "code",
   "execution_count": 0,
   "metadata": {
    "colab": {
     "autoexec": {
      "startup": false,
      "wait_interval": 0
     }
    },
    "colab_type": "code",
    "id": "0PnMDtCWJoFc"
   },
   "outputs": [],
   "source": [
    "from random import *\n",
    "import math\n",
    "from scipy import stats\n",
    "from scipy import spatial\n",
    "import scipy as sp"
   ]
  },
  {
   "cell_type": "code",
   "execution_count": 0,
   "metadata": {
    "colab": {
     "autoexec": {
      "startup": false,
      "wait_interval": 0
     }
    },
    "colab_type": "code",
    "id": "oFeQKNCNKTfe"
   },
   "outputs": [],
   "source": [
    "def continuous_data_generator(mean, std, n):\n",
    "  np.random.seed(0)\n",
    "  return stats.norm.rvs(loc=mean, scale=std, size=(n))"
   ]
  },
  {
   "cell_type": "code",
   "execution_count": 0,
   "metadata": {
    "colab": {
     "autoexec": {
      "startup": false,
      "wait_interval": 0
     }
    },
    "colab_type": "code",
    "id": "0S14wb1dKfyc"
   },
   "outputs": [],
   "source": [
    "pop = pd.Series(continuous_data_generator(100, 15, 5000))"
   ]
  },
  {
   "cell_type": "markdown",
   "metadata": {
    "colab_type": "text",
    "id": "-j6UViTqKvfB"
   },
   "source": [
    "**Box Plots**"
   ]
  },
  {
   "cell_type": "code",
   "execution_count": 0,
   "metadata": {
    "colab": {
     "autoexec": {
      "startup": false,
      "wait_interval": 0
     }
    },
    "colab_type": "code",
    "id": "1sdzDX8xK1TE"
   },
   "outputs": [],
   "source": [
    "# Calculate Q1 (25th percentile of the data)\n",
    "Q1 = np.percentile(pop, 25)"
   ]
  },
  {
   "cell_type": "code",
   "execution_count": 0,
   "metadata": {
    "colab": {
     "autoexec": {
      "startup": false,
      "wait_interval": 0
     }
    },
    "colab_type": "code",
    "id": "TYb_8XLtLBTC"
   },
   "outputs": [],
   "source": [
    "# Calculate Q1 (75th percentile of the data)\n",
    "Q3 = np.percentile(pop, 75)"
   ]
  },
  {
   "cell_type": "code",
   "execution_count": 0,
   "metadata": {
    "colab": {
     "autoexec": {
      "startup": false,
      "wait_interval": 0
     }
    },
    "colab_type": "code",
    "id": "usniToTsLHan"
   },
   "outputs": [],
   "source": [
    "# Interquartile range\n",
    "IRQ = Q3 - Q1"
   ]
  },
  {
   "cell_type": "code",
   "execution_count": 0,
   "metadata": {
    "colab": {
     "autoexec": {
      "startup": false,
      "wait_interval": 0
     }
    },
    "colab_type": "code",
    "id": "7XRFvKaSLTRT"
   },
   "outputs": [],
   "source": [
    "# Use the interquartile range to calculate an outlier step (1.5 times the interquartile range)\n",
    "step = 1.5 * IRQ"
   ]
  },
  {
   "cell_type": "code",
   "execution_count": 170,
   "metadata": {
    "colab": {
     "autoexec": {
      "startup": false,
      "wait_interval": 0
     },
     "base_uri": "https://localhost:8080/",
     "height": 544
    },
    "colab_type": "code",
    "executionInfo": {
     "elapsed": 259,
     "status": "ok",
     "timestamp": 1527147542460,
     "user": {
      "displayName": "Tairi Delgado",
      "photoUrl": "//lh6.googleusercontent.com/-l4lv-T3P6-c/AAAAAAAAAAI/AAAAAAAABIA/4wtQ8ehIzZw/s50-c-k-no/photo.jpg",
      "userId": "115188476170888991569"
     },
     "user_tz": 420
    },
    "id": "l9_7ZwIJLjxu",
    "outputId": "86ed7b14-aa2a-42b7-df56-f9396f9662cd"
   },
   "outputs": [
    {
     "name": "stdout",
     "output_type": "stream",
     "text": [
      "271      58.411109\n",
      "427      58.904842\n",
      "494     140.443361\n",
      "589      54.307854\n",
      "685      57.481682\n",
      "943     141.390327\n",
      "1054    147.564622\n",
      "1256     58.339613\n",
      "1418     57.966958\n",
      "1446     55.080807\n",
      "1488    140.208563\n",
      "2018     53.247151\n",
      "2060    143.936444\n",
      "2114     57.519822\n",
      "2360     59.204810\n",
      "3020     57.839979\n",
      "3082    149.598615\n",
      "3118    157.024903\n",
      "3184    141.995615\n",
      "3230    143.221911\n",
      "3447    151.413078\n",
      "3462     54.902519\n",
      "3545     59.255795\n",
      "3679     49.115500\n",
      "3752     43.898490\n",
      "4337     56.612203\n",
      "4443    143.878744\n",
      "4469     54.888442\n",
      "4472    140.009831\n",
      "4909    144.699643\n",
      "dtype: float64\n"
     ]
    }
   ],
   "source": [
    "outliers = pop[~((pop >= (Q1 - step)) & (pop <= (Q3 + step)))]\n",
    "print(outliers)"
   ]
  },
  {
   "cell_type": "markdown",
   "metadata": {
    "colab_type": "text",
    "id": "vhuAcjYcMdAQ"
   },
   "source": [
    "**Z-Test**"
   ]
  },
  {
   "cell_type": "code",
   "execution_count": 171,
   "metadata": {
    "colab": {
     "autoexec": {
      "startup": false,
      "wait_interval": 0
     },
     "base_uri": "https://localhost:8080/",
     "height": 204
    },
    "colab_type": "code",
    "executionInfo": {
     "elapsed": 285,
     "status": "ok",
     "timestamp": 1527147542849,
     "user": {
      "displayName": "Tairi Delgado",
      "photoUrl": "//lh6.googleusercontent.com/-l4lv-T3P6-c/AAAAAAAAAAI/AAAAAAAABIA/4wtQ8ehIzZw/s50-c-k-no/photo.jpg",
      "userId": "115188476170888991569"
     },
     "user_tz": 420
    },
    "id": "PJIOTeibMbvq",
    "outputId": "4aef49eb-b7e3-4476-b3e5-dfcf30c42c77"
   },
   "outputs": [
    {
     "name": "stdout",
     "output_type": "stream",
     "text": [
      "0    126.460785\n",
      "1    106.002358\n",
      "2    114.681070\n",
      "3    133.613398\n",
      "4    128.013370\n",
      "5     85.340832\n",
      "6    114.251326\n",
      "7     97.729642\n",
      "8     98.451717\n",
      "9    106.158978\n",
      "dtype: float64\n"
     ]
    }
   ],
   "source": [
    "print(pop[:10])"
   ]
  },
  {
   "cell_type": "code",
   "execution_count": 172,
   "metadata": {
    "colab": {
     "autoexec": {
      "startup": false,
      "wait_interval": 0
     },
     "base_uri": "https://localhost:8080/",
     "height": 51
    },
    "colab_type": "code",
    "executionInfo": {
     "elapsed": 380,
     "status": "ok",
     "timestamp": 1527147543328,
     "user": {
      "displayName": "Tairi Delgado",
      "photoUrl": "//lh6.googleusercontent.com/-l4lv-T3P6-c/AAAAAAAAAAI/AAAAAAAABIA/4wtQ8ehIzZw/s50-c-k-no/photo.jpg",
      "userId": "115188476170888991569"
     },
     "user_tz": 420
    },
    "id": "YBA1PQgPMqzy",
    "outputId": "7ece7ac0-cbbc-4bc5-b2e3-001ac330826a"
   },
   "outputs": [
    {
     "name": "stdout",
     "output_type": "stream",
     "text": [
      "[ 1.06095671 -0.34936741  0.2489091   1.55402992  1.16798583 -1.7736924\n",
      "  0.21928426 -0.91965619 -0.86987913 -0.33857068]\n"
     ]
    }
   ],
   "source": [
    "print(stats.zscore(pop[:10]))"
   ]
  },
  {
   "cell_type": "code",
   "execution_count": 173,
   "metadata": {
    "colab": {
     "autoexec": {
      "startup": false,
      "wait_interval": 0
     },
     "base_uri": "https://localhost:8080/",
     "height": 34
    },
    "colab_type": "code",
    "executionInfo": {
     "elapsed": 264,
     "status": "ok",
     "timestamp": 1527147543681,
     "user": {
      "displayName": "Tairi Delgado",
      "photoUrl": "//lh6.googleusercontent.com/-l4lv-T3P6-c/AAAAAAAAAAI/AAAAAAAABIA/4wtQ8ehIzZw/s50-c-k-no/photo.jpg",
      "userId": "115188476170888991569"
     },
     "user_tz": 420
    },
    "id": "rkvqBm3jNBCt",
    "outputId": "a394f61f-af4b-4417-aee2-f2301b0197c5"
   },
   "outputs": [
    {
     "name": "stdout",
     "output_type": "stream",
     "text": [
      "5\n"
     ]
    }
   ],
   "source": [
    "print(len(pop[(stats.zscore(pop) > 3.0)]))"
   ]
  },
  {
   "cell_type": "code",
   "execution_count": 174,
   "metadata": {
    "colab": {
     "autoexec": {
      "startup": false,
      "wait_interval": 0
     },
     "base_uri": "https://localhost:8080/",
     "height": 238
    },
    "colab_type": "code",
    "executionInfo": {
     "elapsed": 270,
     "status": "ok",
     "timestamp": 1527147544038,
     "user": {
      "displayName": "Tairi Delgado",
      "photoUrl": "//lh6.googleusercontent.com/-l4lv-T3P6-c/AAAAAAAAAAI/AAAAAAAABIA/4wtQ8ehIzZw/s50-c-k-no/photo.jpg",
      "userId": "115188476170888991569"
     },
     "user_tz": 420
    },
    "id": "maqFwiDuNo8d",
    "outputId": "aaa20b50-427d-4d69-a55d-d1ca14ffd0ab"
   },
   "outputs": [
    {
     "name": "stdout",
     "output_type": "stream",
     "text": [
      "589      54.307854\n",
      "1054    147.564622\n",
      "1446     55.080807\n",
      "2018     53.247151\n",
      "3082    149.598615\n",
      "3118    157.024903\n",
      "3447    151.413078\n",
      "3462     54.902519\n",
      "3679     49.115500\n",
      "3752     43.898490\n",
      "4469     54.888442\n",
      "4909    144.699643\n",
      "dtype: float64\n"
     ]
    }
   ],
   "source": [
    "print(pop[(stats.zscore(pop) > 3.0) | (stats.zscore(pop) < -3.0)])"
   ]
  },
  {
   "cell_type": "markdown",
   "metadata": {
    "colab_type": "text",
    "id": "0tenVhIB3qCu"
   },
   "source": [
    "# Data Transformation"
   ]
  },
  {
   "cell_type": "markdown",
   "metadata": {
    "colab_type": "text",
    "id": "UBc-BqZiFViE"
   },
   "source": [
    "**Categorical data**"
   ]
  },
  {
   "cell_type": "code",
   "execution_count": 175,
   "metadata": {
    "colab": {
     "autoexec": {
      "startup": false,
      "wait_interval": 0
     },
     "base_uri": "https://localhost:8080/",
     "height": 357
    },
    "colab_type": "code",
    "executionInfo": {
     "elapsed": 511,
     "status": "ok",
     "timestamp": 1527147977528,
     "user": {
      "displayName": "Tairi Delgado",
      "photoUrl": "//lh6.googleusercontent.com/-l4lv-T3P6-c/AAAAAAAAAAI/AAAAAAAABIA/4wtQ8ehIzZw/s50-c-k-no/photo.jpg",
      "userId": "115188476170888991569"
     },
     "user_tz": 420
    },
    "id": "E--NYQrIHICC",
    "outputId": "93418133-c7b9-45c2-e6aa-c7d2de116841"
   },
   "outputs": [
    {
     "name": "stdout",
     "output_type": "stream",
     "text": [
      "    Oakland  SANJOSE,CA  SF  San Francisco  San Jose\n",
      "0         0           0   0              1         0\n",
      "1         0           0   0              1         0\n",
      "2         0           0   0              0         1\n",
      "3         0           0   0              1         0\n",
      "4         1           0   0              0         0\n",
      "5         1           0   0              0         0\n",
      "6         0           0   0              1         0\n",
      "7         1           0   0              0         0\n",
      "8         0           0   0              0         1\n",
      "9         1           0   0              0         0\n",
      "10        0           0   0              0         1\n",
      "11        0           0   0              0         1\n",
      "12        0           0   0              0         1\n",
      "13        0           0   0              0         1\n",
      "14        0           0   0              1         0\n",
      "15        1           0   0              0         0\n",
      "16        0           1   0              0         0\n",
      "17        0           0   1              0         0\n",
      "18        0           0   0              0         1\n"
     ]
    }
   ],
   "source": [
    "cities = pd.get_dummies(employees['City'])\n",
    "print(cities)"
   ]
  },
  {
   "cell_type": "markdown",
   "metadata": {
    "colab_type": "text",
    "id": "jDfiZ-htHvde"
   },
   "source": [
    "**Standardization**"
   ]
  },
  {
   "cell_type": "code",
   "execution_count": 181,
   "metadata": {
    "colab": {
     "autoexec": {
      "startup": false,
      "wait_interval": 0
     },
     "base_uri": "https://localhost:8080/",
     "height": 68
    },
    "colab_type": "code",
    "executionInfo": {
     "elapsed": 500,
     "status": "ok",
     "timestamp": 1527148903162,
     "user": {
      "displayName": "Tairi Delgado",
      "photoUrl": "//lh6.googleusercontent.com/-l4lv-T3P6-c/AAAAAAAAAAI/AAAAAAAABIA/4wtQ8ehIzZw/s50-c-k-no/photo.jpg",
      "userId": "115188476170888991569"
     },
     "user_tz": 420
    },
    "id": "CiXS9otuKYzv",
    "outputId": "7f973512-ebd2-416c-aff0-c62a0299977a"
   },
   "outputs": [
    {
     "name": "stdout",
     "output_type": "stream",
     "text": [
      "[[ 1.  -1.   2.   2.5]\n",
      " [ 2.   0.   0.   1. ]\n",
      " [ 0.   1.  -1.  -1. ]]\n"
     ]
    }
   ],
   "source": [
    "a = np.array([[1., -1, 2., 2.5], [2., 0., 0., 1.], [0., 1., -1, -1]])\n",
    "print(a)"
   ]
  },
  {
   "cell_type": "code",
   "execution_count": 182,
   "metadata": {
    "colab": {
     "autoexec": {
      "startup": false,
      "wait_interval": 0
     },
     "base_uri": "https://localhost:8080/",
     "height": 68
    },
    "colab_type": "code",
    "executionInfo": {
     "elapsed": 304,
     "status": "ok",
     "timestamp": 1527149051184,
     "user": {
      "displayName": "Tairi Delgado",
      "photoUrl": "//lh6.googleusercontent.com/-l4lv-T3P6-c/AAAAAAAAAAI/AAAAAAAABIA/4wtQ8ehIzZw/s50-c-k-no/photo.jpg",
      "userId": "115188476170888991569"
     },
     "user_tz": 420
    },
    "id": "2m0AeDX0KwPk",
    "outputId": "ea989d88-ddf2-4dbe-ab08-8db440a9e7f2"
   },
   "outputs": [
    {
     "name": "stdout",
     "output_type": "stream",
     "text": [
      "[[ 0.         -1.22474487  1.33630621  1.16247639]\n",
      " [ 1.22474487  0.         -0.26726124  0.11624764]\n",
      " [-1.22474487  1.22474487 -1.06904497 -1.27872403]]\n"
     ]
    }
   ],
   "source": [
    "from sklearn.preprocessing import scale\n",
    "standard = scale(a, with_mean=True, with_std=True, copy=True)\n",
    "print(standard)"
   ]
  },
  {
   "cell_type": "markdown",
   "metadata": {
    "colab_type": "text",
    "id": "SlBVsEPpLcFy"
   },
   "source": [
    "**Normalization**"
   ]
  },
  {
   "cell_type": "code",
   "execution_count": 0,
   "metadata": {
    "colab": {
     "autoexec": {
      "startup": false,
      "wait_interval": 0
     }
    },
    "colab_type": "code",
    "id": "AlJvpNJGLepc"
   },
   "outputs": [],
   "source": [
    "from scipy.stats import skewnorm\n",
    "s = skewnorm.rvs(4, size=50000)"
   ]
  },
  {
   "cell_type": "code",
   "execution_count": 184,
   "metadata": {
    "colab": {
     "autoexec": {
      "startup": false,
      "wait_interval": 0
     },
     "base_uri": "https://localhost:8080/",
     "height": 51
    },
    "colab_type": "code",
    "executionInfo": {
     "elapsed": 487,
     "status": "ok",
     "timestamp": 1527149298685,
     "user": {
      "displayName": "Tairi Delgado",
      "photoUrl": "//lh6.googleusercontent.com/-l4lv-T3P6-c/AAAAAAAAAAI/AAAAAAAABIA/4wtQ8ehIzZw/s50-c-k-no/photo.jpg",
      "userId": "115188476170888991569"
     },
     "user_tz": 420
    },
    "id": "LQsTr2IFMPGx",
    "outputId": "b8869b83-48f6-489b-a745-c44c2073fd58"
   },
   "outputs": [
    {
     "data": {
      "text/plain": [
       "array([ 0.46669539,  0.16865719,  0.28635305,  1.46413861, -0.01978053,\n",
       "       -0.40269491,  0.7462784 ,  1.54692556, -0.22473685,  0.98917743])"
      ]
     },
     "execution_count": 184,
     "metadata": {
      "tags": []
     },
     "output_type": "execute_result"
    }
   ],
   "source": [
    "s[:10]"
   ]
  },
  {
   "cell_type": "code",
   "execution_count": 185,
   "metadata": {
    "colab": {
     "autoexec": {
      "startup": false,
      "wait_interval": 0
     },
     "base_uri": "https://localhost:8080/",
     "height": 51
    },
    "colab_type": "code",
    "executionInfo": {
     "elapsed": 306,
     "status": "ok",
     "timestamp": 1527149370518,
     "user": {
      "displayName": "Tairi Delgado",
      "photoUrl": "//lh6.googleusercontent.com/-l4lv-T3P6-c/AAAAAAAAAAI/AAAAAAAABIA/4wtQ8ehIzZw/s50-c-k-no/photo.jpg",
      "userId": "115188476170888991569"
     },
     "user_tz": 420
    },
    "id": "AK0zM5e6MZx8",
    "outputId": "4521f17b-694f-4d73-a851-c63363f93716"
   },
   "outputs": [
    {
     "data": {
      "text/plain": [
       "array([0.23157115, 0.1796383 , 0.20014668, 0.40537457, 0.14680323,\n",
       "       0.08008081, 0.28028819, 0.41980011, 0.11108981, 0.32261309])"
      ]
     },
     "execution_count": 185,
     "metadata": {
      "tags": []
     },
     "output_type": "execute_result"
    }
   ],
   "source": [
    "from sklearn.preprocessing import minmax_scale\n",
    "norm = minmax_scale(s)\n",
    "norm[:10]"
   ]
  },
  {
   "cell_type": "markdown",
   "metadata": {
    "colab_type": "text",
    "id": "1HQ1iCGeNvzS"
   },
   "source": [
    "**Log Transformations**"
   ]
  },
  {
   "cell_type": "code",
   "execution_count": 0,
   "metadata": {
    "colab": {
     "autoexec": {
      "startup": false,
      "wait_interval": 0
     }
    },
    "colab_type": "code",
    "id": "DpWlR0j3N0EJ"
   },
   "outputs": [],
   "source": [
    "for x in np.nditer(s, op_flags=['readwrite']):\n",
    "  if x <= 0:\n",
    "    x[...] = 0.0001"
   ]
  },
  {
   "cell_type": "code",
   "execution_count": 187,
   "metadata": {
    "colab": {
     "autoexec": {
      "startup": false,
      "wait_interval": 0
     },
     "base_uri": "https://localhost:8080/",
     "height": 442
    },
    "colab_type": "code",
    "executionInfo": {
     "elapsed": 321,
     "status": "ok",
     "timestamp": 1527149860105,
     "user": {
      "displayName": "Tairi Delgado",
      "photoUrl": "//lh6.googleusercontent.com/-l4lv-T3P6-c/AAAAAAAAAAI/AAAAAAAABIA/4wtQ8ehIzZw/s50-c-k-no/photo.jpg",
      "userId": "115188476170888991569"
     },
     "user_tz": 420
    },
    "id": "grTTTl2JOYTI",
    "outputId": "21ef5aee-210b-4939-f6fa-24a30dc1a546"
   },
   "outputs": [
    {
     "data": {
      "text/plain": [
       "array([4.66695390e-01, 1.68657185e-01, 2.86353047e-01, 1.46413861e+00,\n",
       "       1.00000000e-04, 1.00000000e-04, 7.46278404e-01, 1.54692556e+00,\n",
       "       1.00000000e-04, 9.89177432e-01, 2.30165859e-01, 1.39493852e+00,\n",
       "       2.05287373e+00, 9.18092800e-01, 1.00000000e-04, 2.17050778e-01,\n",
       "       6.12004768e-01, 9.93453920e-01, 1.00654719e+00, 4.02219317e-01,\n",
       "       1.00000000e-04, 4.77603342e-01, 9.07082829e-01, 4.35685386e-01,\n",
       "       8.92697923e-02, 5.36042487e-01, 2.11668518e-01, 1.26784095e+00,\n",
       "       7.84900789e-01, 5.27999660e-01, 7.99651750e-02, 1.82601174e-01,\n",
       "       2.13101495e-01, 2.44511412e+00, 1.28748034e+00, 5.48569862e-01,\n",
       "       1.00000000e-04, 1.11990554e+00, 3.88638193e-01, 1.00000000e-04,\n",
       "       2.95640379e-01, 1.00000000e-04, 3.10451788e-01, 2.13891055e-01,\n",
       "       1.00000000e-04, 6.71660352e-02, 4.42814127e-01, 8.45591483e-01,\n",
       "       1.13227470e+00, 1.61608961e+00, 6.16998773e-01, 1.09369803e-01,\n",
       "       1.02017247e+00, 1.00000000e-04, 1.00000000e-04, 1.00000000e-04,\n",
       "       3.18540059e-02, 2.50442741e-01, 1.70704457e+00, 1.00000000e-04,\n",
       "       1.33004989e+00, 1.23125036e+00, 1.81155933e+00, 1.25239570e+00,\n",
       "       1.25667075e+00, 4.94577191e-01, 1.63666327e+00, 1.00000000e-04,\n",
       "       1.30440855e+00, 1.80692774e+00, 7.81810126e-01, 1.78435568e+00,\n",
       "       2.48784901e-01, 7.70973844e-01, 1.49979005e+00, 7.16273657e-01,\n",
       "       1.38617127e+00, 1.10573202e-01, 1.50942947e+00, 4.05242138e-01,\n",
       "       1.00000000e-04, 1.86391054e+00, 7.79430200e-01, 1.00000000e-04,\n",
       "       1.92268833e+00, 1.36747886e-01, 1.00000000e-04, 3.74085387e-01,\n",
       "       2.40947148e-01, 1.15169657e+00, 6.70965656e-01, 1.44208079e+00,\n",
       "       4.63560200e-01, 5.38484544e-01, 1.00000000e-04, 1.49585694e+00,\n",
       "       1.30531007e+00, 1.50636317e-01, 1.66579888e+00, 7.83894974e-01])"
      ]
     },
     "execution_count": 187,
     "metadata": {
      "tags": []
     },
     "output_type": "execute_result"
    }
   ],
   "source": [
    "s[:100]"
   ]
  },
  {
   "cell_type": "code",
   "execution_count": 0,
   "metadata": {
    "colab": {
     "autoexec": {
      "startup": false,
      "wait_interval": 0
     }
    },
    "colab_type": "code",
    "id": "22211eEKOd5-"
   },
   "outputs": [],
   "source": [
    "log_data = np.log(s)"
   ]
  },
  {
   "cell_type": "code",
   "execution_count": 189,
   "metadata": {
    "colab": {
     "autoexec": {
      "startup": false,
      "wait_interval": 0
     },
     "base_uri": "https://localhost:8080/",
     "height": 442
    },
    "colab_type": "code",
    "executionInfo": {
     "elapsed": 359,
     "status": "ok",
     "timestamp": 1527149902585,
     "user": {
      "displayName": "Tairi Delgado",
      "photoUrl": "//lh6.googleusercontent.com/-l4lv-T3P6-c/AAAAAAAAAAI/AAAAAAAABIA/4wtQ8ehIzZw/s50-c-k-no/photo.jpg",
      "userId": "115188476170888991569"
     },
     "user_tz": 420
    },
    "id": "rKLyLUUbOhYG",
    "outputId": "bf2121d4-8bff-4cb2-817a-134b51dfff09"
   },
   "outputs": [
    {
     "data": {
      "text/plain": [
       "array([-7.62078504e-01, -1.77988711e+00, -1.25052980e+00,  3.81267092e-01,\n",
       "       -9.21034037e+00, -9.21034037e+00, -2.92656553e-01,  4.36269451e-01,\n",
       "       -9.21034037e+00, -1.08815581e-02, -1.46895511e+00,  3.32850343e-01,\n",
       "        7.19240629e-01, -8.54568042e-02, -9.21034037e+00, -1.52762395e+00,\n",
       "       -4.91015206e-01, -6.56759998e-03,  6.52585335e-03, -9.10757774e-01,\n",
       "       -9.21034037e+00, -7.38974719e-01, -9.75215106e-02, -8.30834888e-01,\n",
       "       -2.41609212e+00, -6.23541855e-01, -1.55273382e+00,  2.37315415e-01,\n",
       "       -2.42197953e-01, -6.38659638e-01, -2.52616405e+00, -1.70045088e+00,\n",
       "       -1.54598672e+00,  8.94091796e-01,  2.52687085e-01, -6.00440638e-01,\n",
       "       -9.21034037e+00,  1.13244341e-01, -9.45106463e-01, -9.21034037e+00,\n",
       "       -1.21861150e+00, -9.21034037e+00, -1.16972666e+00, -1.54228848e+00,\n",
       "       -9.21034037e+00, -2.70058759e+00, -8.14605174e-01, -1.67718916e-01,\n",
       "        1.24228614e-01,  4.80009411e-01, -4.82888244e-01, -2.21302045e+00,\n",
       "        1.99717021e-02, -9.21034037e+00, -9.21034037e+00, -9.21034037e+00,\n",
       "       -3.44659213e+00, -1.38452496e+00,  5.34763551e-01, -9.21034037e+00,\n",
       "        2.85216452e-01,  2.08030210e-01,  5.94187985e-01,  2.25058275e-01,\n",
       "        2.28465961e-01, -7.04052040e-01,  4.92659580e-01, -9.21034037e+00,\n",
       "        2.65749716e-01,  5.91628022e-01, -2.46143374e-01,  5.79057384e-01,\n",
       "       -1.39116661e+00, -2.60100830e-01,  4.05325134e-01, -3.33692983e-01,\n",
       "        3.26545467e-01, -2.20207752e+00,  4.11731747e-01, -9.03270520e-01,\n",
       "       -9.21034037e+00,  6.22676723e-01, -2.49192139e-01, -9.21034037e+00,\n",
       "        6.53724378e-01, -1.98961630e+00, -9.21034037e+00, -9.83271199e-01,\n",
       "       -1.42317767e+00,  1.41236132e-01, -3.99037327e-01,  3.66087061e-01,\n",
       "       -7.68819021e-01, -6.18996484e-01, -9.21034037e+00,  4.02699245e-01,\n",
       "        2.66440615e-01, -1.89288685e+00,  5.10304819e-01, -2.43480230e-01])"
      ]
     },
     "execution_count": 189,
     "metadata": {
      "tags": []
     },
     "output_type": "execute_result"
    }
   ],
   "source": [
    "log_data[:100]"
   ]
  }
 ],
 "metadata": {
  "colab": {
   "collapsed_sections": [
    "gFaU_ySK3Suj",
    "pay21EQhaL_0",
    "Jxk_gFf8aVKr",
    "0tenVhIB3qCu"
   ],
   "default_view": {},
   "name": "Preparing and Transforming Data.ipynb",
   "provenance": [],
   "version": "0.3.2",
   "views": {}
  }
 },
 "nbformat": 4,
 "nbformat_minor": 1
}
