{
 "cells": [
  {
   "cell_type": "markdown",
   "metadata": {
    "colab_type": "text",
    "id": "_yJpwxogjR99"
   },
   "source": [
    "# Auditing for Data Quality - Analyze for Integrity Constraints"
   ]
  },
  {
   "cell_type": "markdown",
   "metadata": {
    "colab_type": "text",
    "id": "UFjMJt5qHZNl"
   },
   "source": [
    "## Load Data"
   ]
  },
  {
   "cell_type": "code",
   "execution_count": null,
   "metadata": {
    "colab": {
     "autoexec": {
      "startup": false,
      "wait_interval": 0
     }
    },
    "colab_type": "code",
    "id": "5jJmXrBNlP70"
   },
   "outputs": [],
   "source": [
    "import numpy as np\n",
    "import pandas as pd"
   ]
  },
  {
   "cell_type": "code",
   "execution_count": null,
   "metadata": {
    "colab": {
     "autoexec": {
      "startup": false,
      "wait_interval": 0
     }
    },
    "colab_type": "code",
    "id": "vc03mROcuvnz"
   },
   "outputs": [],
   "source": [
    "!pip install --upgrade -q gspread\n",
    "\n",
    "from google.colab import auth\n",
    "auth.authenticate_user()\n",
    "import gspread\n",
    "from oauth2client.client import GoogleCredentials\n",
    "\n",
    "gc = gspread.authorize(GoogleCredentials.get_application_default())"
   ]
  },
  {
   "cell_type": "code",
   "execution_count": null,
   "metadata": {
    "colab": {
     "autoexec": {
      "startup": false,
      "wait_interval": 0
     }
    },
    "colab_type": "code",
    "id": "Nwesh70z5ZZS"
   },
   "outputs": [],
   "source": [
    "def get_df(file_name, location):\n",
    "  worksheet = gc.open('Sales').get_worksheet(location)\n",
    "  rows = worksheet.get_all_values()\n",
    "  head = rows[0]\n",
    "  data = rows[1:]\n",
    "  df = pd.DataFrame.from_records(data, columns=head)\n",
    "  return df"
   ]
  },
  {
   "cell_type": "code",
   "execution_count": 334,
   "metadata": {
    "colab": {
     "autoexec": {
      "startup": false,
      "wait_interval": 0
     },
     "base_uri": "https://localhost:8080/",
     "height": 631
    },
    "colab_type": "code",
    "executionInfo": {
     "elapsed": 1071,
     "status": "ok",
     "timestamp": 1527139479864,
     "user": {
      "displayName": "Tairi Delgado",
      "photoUrl": "//lh6.googleusercontent.com/-l4lv-T3P6-c/AAAAAAAAAAI/AAAAAAAABIA/4wtQ8ehIzZw/s50-c-k-no/photo.jpg",
      "userId": "115188476170888991569"
     },
     "user_tz": 420
    },
    "id": "4VkXAf-A5pKk",
    "outputId": "ce03dfbb-61be-49e9-958c-06a57f765776"
   },
   "outputs": [
    {
     "data": {
      "text/html": [
       "<div>\n",
       "<style scoped>\n",
       "    .dataframe tbody tr th:only-of-type {\n",
       "        vertical-align: middle;\n",
       "    }\n",
       "\n",
       "    .dataframe tbody tr th {\n",
       "        vertical-align: top;\n",
       "    }\n",
       "\n",
       "    .dataframe thead th {\n",
       "        text-align: right;\n",
       "    }\n",
       "</style>\n",
       "<table border=\"1\" class=\"dataframe\">\n",
       "  <thead>\n",
       "    <tr style=\"text-align: right;\">\n",
       "      <th></th>\n",
       "      <th>Employee ID</th>\n",
       "      <th>First Name</th>\n",
       "      <th>Last Name</th>\n",
       "      <th>Department</th>\n",
       "      <th>City</th>\n",
       "    </tr>\n",
       "  </thead>\n",
       "  <tbody>\n",
       "    <tr>\n",
       "      <th>0</th>\n",
       "      <td>10001</td>\n",
       "      <td>Daniel</td>\n",
       "      <td>Olson</td>\n",
       "      <td>Electronics</td>\n",
       "      <td>San Francisco</td>\n",
       "    </tr>\n",
       "    <tr>\n",
       "      <th>1</th>\n",
       "      <td>10002</td>\n",
       "      <td>Nick</td>\n",
       "      <td>Markmen</td>\n",
       "      <td>Clothes</td>\n",
       "      <td>San Francisco</td>\n",
       "    </tr>\n",
       "    <tr>\n",
       "      <th>2</th>\n",
       "      <td>10003</td>\n",
       "      <td>Maria</td>\n",
       "      <td>Gonzales</td>\n",
       "      <td>Electronics</td>\n",
       "      <td>San Jose</td>\n",
       "    </tr>\n",
       "    <tr>\n",
       "      <th>3</th>\n",
       "      <td>10004</td>\n",
       "      <td>George</td>\n",
       "      <td>Wong</td>\n",
       "      <td>Clothes</td>\n",
       "      <td>San Francisco</td>\n",
       "    </tr>\n",
       "    <tr>\n",
       "      <th>4</th>\n",
       "      <td>10005</td>\n",
       "      <td>Stephanie</td>\n",
       "      <td>Williams</td>\n",
       "      <td>Clothes</td>\n",
       "      <td>Oakland</td>\n",
       "    </tr>\n",
       "    <tr>\n",
       "      <th>5</th>\n",
       "      <td>10006</td>\n",
       "      <td>Miguel</td>\n",
       "      <td>Alva</td>\n",
       "      <td>Clothes</td>\n",
       "      <td>Oakland</td>\n",
       "    </tr>\n",
       "    <tr>\n",
       "      <th>6</th>\n",
       "      <td>10007</td>\n",
       "      <td>Jessica</td>\n",
       "      <td>Collins</td>\n",
       "      <td>Cosmetics</td>\n",
       "      <td>San Francisco</td>\n",
       "    </tr>\n",
       "    <tr>\n",
       "      <th>7</th>\n",
       "      <td>10008</td>\n",
       "      <td>Ted</td>\n",
       "      <td>Anderson</td>\n",
       "      <td>Clothes</td>\n",
       "      <td>Oakland</td>\n",
       "    </tr>\n",
       "    <tr>\n",
       "      <th>8</th>\n",
       "      <td>10009</td>\n",
       "      <td>Victoria</td>\n",
       "      <td>Garcia</td>\n",
       "      <td>Clothes</td>\n",
       "      <td>San Jose</td>\n",
       "    </tr>\n",
       "    <tr>\n",
       "      <th>9</th>\n",
       "      <td>10010</td>\n",
       "      <td>Jasmine</td>\n",
       "      <td>Khan</td>\n",
       "      <td>Pharmacy, Health &amp; Beauty</td>\n",
       "      <td>Oakland</td>\n",
       "    </tr>\n",
       "    <tr>\n",
       "      <th>10</th>\n",
       "      <td>10011</td>\n",
       "      <td>Adam</td>\n",
       "      <td>Smith</td>\n",
       "      <td>Pharmacy, Health &amp; Beauty</td>\n",
       "      <td>San Jose</td>\n",
       "    </tr>\n",
       "    <tr>\n",
       "      <th>11</th>\n",
       "      <td>10012</td>\n",
       "      <td>Rachel</td>\n",
       "      <td>Kim</td>\n",
       "      <td>Electronics</td>\n",
       "      <td>San Jose</td>\n",
       "    </tr>\n",
       "    <tr>\n",
       "      <th>12</th>\n",
       "      <td>10012</td>\n",
       "      <td>Adam R.</td>\n",
       "      <td>West</td>\n",
       "      <td>Clothes</td>\n",
       "      <td>San Jose</td>\n",
       "    </tr>\n",
       "    <tr>\n",
       "      <th>13</th>\n",
       "      <td>10012</td>\n",
       "      <td>Adam</td>\n",
       "      <td>West</td>\n",
       "      <td>Clothes</td>\n",
       "      <td>San Jose</td>\n",
       "    </tr>\n",
       "    <tr>\n",
       "      <th>14</th>\n",
       "      <td>10013</td>\n",
       "      <td>Kim</td>\n",
       "      <td>Ng</td>\n",
       "      <td></td>\n",
       "      <td>San Francisco</td>\n",
       "    </tr>\n",
       "    <tr>\n",
       "      <th>15</th>\n",
       "      <td>10014</td>\n",
       "      <td>Nicole</td>\n",
       "      <td></td>\n",
       "      <td>Pharmacy, Health &amp; Beauty</td>\n",
       "      <td>Oakland</td>\n",
       "    </tr>\n",
       "    <tr>\n",
       "      <th>16</th>\n",
       "      <td>3k3d8leu</td>\n",
       "      <td>James</td>\n",
       "      <td>TELLER</td>\n",
       "      <td>Clothes</td>\n",
       "      <td>SANJOSE,CA</td>\n",
       "    </tr>\n",
       "    <tr>\n",
       "      <th>17</th>\n",
       "      <td>1100123</td>\n",
       "      <td>Carie</td>\n",
       "      <td>Olson</td>\n",
       "      <td>Clothes/Electronics</td>\n",
       "      <td>SF</td>\n",
       "    </tr>\n",
       "    <tr>\n",
       "      <th>18</th>\n",
       "      <td>10015</td>\n",
       "      <td>JonathaN_</td>\n",
       "      <td>hernandez</td>\n",
       "      <td>N/A</td>\n",
       "      <td>San Jose</td>\n",
       "    </tr>\n",
       "  </tbody>\n",
       "</table>\n",
       "</div>"
      ],
      "text/plain": [
       "   Employee ID First Name  Last Name                 Department           City\n",
       "0        10001     Daniel      Olson                Electronics  San Francisco\n",
       "1        10002       Nick    Markmen                    Clothes  San Francisco\n",
       "2        10003      Maria   Gonzales                Electronics       San Jose\n",
       "3        10004     George       Wong                    Clothes  San Francisco\n",
       "4        10005  Stephanie   Williams                    Clothes        Oakland\n",
       "5        10006     Miguel       Alva                    Clothes        Oakland\n",
       "6        10007    Jessica    Collins                  Cosmetics  San Francisco\n",
       "7        10008        Ted   Anderson                    Clothes        Oakland\n",
       "8        10009  Victoria      Garcia                    Clothes       San Jose\n",
       "9        10010    Jasmine       Khan  Pharmacy, Health & Beauty        Oakland\n",
       "10       10011       Adam      Smith  Pharmacy, Health & Beauty       San Jose\n",
       "11       10012     Rachel        Kim                Electronics       San Jose\n",
       "12       10012    Adam R.       West                    Clothes       San Jose\n",
       "13       10012       Adam       West                    Clothes       San Jose\n",
       "14       10013        Kim         Ng                             San Francisco\n",
       "15       10014     Nicole             Pharmacy, Health & Beauty        Oakland\n",
       "16    3k3d8leu      James     TELLER                    Clothes     SANJOSE,CA\n",
       "17     1100123      Carie      Olson        Clothes/Electronics             SF\n",
       "18       10015  JonathaN_  hernandez                        N/A       San Jose"
      ]
     },
     "metadata": {
      "tags": []
     },
     "output_type": "display_data"
    }
   ],
   "source": [
    "employees = get_df('Sales', 0)\n",
    "display(employees)"
   ]
  },
  {
   "cell_type": "code",
   "execution_count": null,
   "metadata": {
    "colab": {
     "autoexec": {
      "startup": false,
      "wait_interval": 0
     }
    },
    "colab_type": "code",
    "id": "8U05-Gcvlklk"
   },
   "outputs": [],
   "source": [
    "customers = get_df('Sales', 1)\n",
    "display(customers)"
   ]
  },
  {
   "cell_type": "code",
   "execution_count": null,
   "metadata": {
    "colab": {
     "autoexec": {
      "startup": false,
      "wait_interval": 0
     }
    },
    "colab_type": "code",
    "id": "PSL_mhNZvVGg"
   },
   "outputs": [],
   "source": [
    "products = get_df('Sales', 2)\n",
    "display(products)"
   ]
  },
  {
   "cell_type": "code",
   "execution_count": null,
   "metadata": {
    "colab": {
     "autoexec": {
      "startup": false,
      "wait_interval": 0
     }
    },
    "colab_type": "code",
    "id": "jtS38BC_vnhB"
   },
   "outputs": [],
   "source": [
    "orders = get_df('Sales', 3)\n",
    "display(orders)"
   ]
  },
  {
   "cell_type": "code",
   "execution_count": null,
   "metadata": {
    "colab": {
     "autoexec": {
      "startup": false,
      "wait_interval": 0
     }
    },
    "colab_type": "code",
    "id": "SEYfVXe1vnXW"
   },
   "outputs": [],
   "source": [
    "suppliers = get_df('Sales', 4)\n",
    "display(suppliers)"
   ]
  },
  {
   "cell_type": "markdown",
   "metadata": {
    "colab_type": "text",
    "id": "3UDTWUjplzCW"
   },
   "source": [
    "## Auditing Data"
   ]
  },
  {
   "cell_type": "code",
   "execution_count": null,
   "metadata": {
    "colab": {
     "autoexec": {
      "startup": false,
      "wait_interval": 0
     }
    },
    "colab_type": "code",
    "id": "XCT0dkY6BoYU"
   },
   "outputs": [],
   "source": [
    "employees.describe()"
   ]
  },
  {
   "cell_type": "markdown",
   "metadata": {
    "colab_type": "text",
    "id": "-BrbYcPiupiI"
   },
   "source": [
    "**Number of Departments**"
   ]
  },
  {
   "cell_type": "code",
   "execution_count": null,
   "metadata": {
    "colab": {
     "autoexec": {
      "startup": false,
      "wait_interval": 0
     }
    },
    "colab_type": "code",
    "id": "LDK4pOIIoC4G"
   },
   "outputs": [],
   "source": [
    "employees.groupby('Department')['Department'].count()"
   ]
  },
  {
   "cell_type": "markdown",
   "metadata": {
    "colab_type": "text",
    "id": "h8sADlj0uzM_"
   },
   "source": [
    "**Number of cities across all tables**"
   ]
  },
  {
   "cell_type": "code",
   "execution_count": null,
   "metadata": {
    "colab": {
     "autoexec": {
      "startup": false,
      "wait_interval": 0
     }
    },
    "colab_type": "code",
    "id": "X-5DUi2HjVJG"
   },
   "outputs": [],
   "source": [
    "employees.groupby('City')['City'].count()"
   ]
  },
  {
   "cell_type": "code",
   "execution_count": null,
   "metadata": {
    "colab": {
     "autoexec": {
      "startup": false,
      "wait_interval": 0
     }
    },
    "colab_type": "code",
    "id": "Zpk9mhW51kj7"
   },
   "outputs": [],
   "source": [
    "cities = pd.concat([employees, customers])\n",
    "cities = pd.concat([cities, suppliers])\n",
    "cities.groupby('City')['City'].count()"
   ]
  },
  {
   "cell_type": "markdown",
   "metadata": {
    "colab_type": "text",
    "id": "_IZhklmSvJ4P"
   },
   "source": [
    "**Filter records by missing fields**"
   ]
  },
  {
   "cell_type": "code",
   "execution_count": null,
   "metadata": {
    "colab": {
     "autoexec": {
      "startup": false,
      "wait_interval": 0
     }
    },
    "colab_type": "code",
    "id": "yQID_5716Jna"
   },
   "outputs": [],
   "source": [
    "def missing_fields(df, field):\n",
    "  missing_data = df[(df[field] == '') | (df[field] == 'N\\A') | (df[field] == None) | (df[field] == ' ')]\n",
    "  return missing_data"
   ]
  },
  {
   "cell_type": "code",
   "execution_count": null,
   "metadata": {
    "colab": {
     "autoexec": {
      "startup": false,
      "wait_interval": 0
     }
    },
    "colab_type": "code",
    "id": "m0NVxVzPwM0T"
   },
   "outputs": [],
   "source": [
    "display(missing_fields(employees, 'Last Name'))\n",
    "display(missing_fields(customers, 'Last Name'))"
   ]
  },
  {
   "cell_type": "markdown",
   "metadata": {
    "colab_type": "text",
    "id": "ensrpJNqvQbX"
   },
   "source": [
    "**Filter records by incorrect length**"
   ]
  },
  {
   "cell_type": "code",
   "execution_count": null,
   "metadata": {
    "colab": {
     "autoexec": {
      "startup": false,
      "wait_interval": 0
     }
    },
    "colab_type": "code",
    "id": "IY_yfaOq6Xez"
   },
   "outputs": [],
   "source": [
    "def incorrect_length(df, field, length):\n",
    "  incorrect_length = df[df[field].str.len() != length]\n",
    "  return incorrect_length"
   ]
  },
  {
   "cell_type": "code",
   "execution_count": null,
   "metadata": {
    "colab": {
     "autoexec": {
      "startup": false,
      "wait_interval": 0
     }
    },
    "colab_type": "code",
    "id": "eiTRTdowxEYo"
   },
   "outputs": [],
   "source": [
    "display(incorrect_length(employees, 'Employee ID', 5))\n",
    "display(incorrect_length(products, 'Product ID', 5))"
   ]
  },
  {
   "cell_type": "markdown",
   "metadata": {
    "colab_type": "text",
    "id": "3B9JO7a2vZOx"
   },
   "source": [
    "**Filter records if they do not conform to numerical ids**"
   ]
  },
  {
   "cell_type": "code",
   "execution_count": null,
   "metadata": {
    "colab": {
     "autoexec": {
      "startup": false,
      "wait_interval": 0
     }
    },
    "colab_type": "code",
    "id": "gRVuzw7A6yim"
   },
   "outputs": [],
   "source": [
    "def check_ids_num(df, field):\n",
    "  non_numbers = df[~df[field].str.contains(r\"^[0-9]*$\")]\n",
    "  return non_numbers"
   ]
  },
  {
   "cell_type": "code",
   "execution_count": null,
   "metadata": {
    "colab": {
     "autoexec": {
      "startup": false,
      "wait_interval": 0
     }
    },
    "colab_type": "code",
    "id": "-9UwlJk10qlS"
   },
   "outputs": [],
   "source": [
    "display(check_ids_num(employees, 'Employee ID'))\n",
    "display(check_ids_num(products, 'Product ID'))"
   ]
  },
  {
   "cell_type": "markdown",
   "metadata": {
    "colab_type": "text",
    "id": "hNZe296WvkKz"
   },
   "source": [
    "**Filter records that don't match the length or starting number format**"
   ]
  },
  {
   "cell_type": "code",
   "execution_count": null,
   "metadata": {
    "colab": {
     "autoexec": {
      "startup": false,
      "wait_interval": 0
     }
    },
    "colab_type": "code",
    "id": "k3MYTCJp7Wwq"
   },
   "outputs": [],
   "source": [
    "def consistent_ids(df, field, starting_number):\n",
    "  rex = r\"\" + str(starting_number) + \"[0-9]{4}$\"\n",
    "  inconsistent_numbers = df[~df[field].str.contains(rex)]\n",
    "  return inconsistent_numbers"
   ]
  },
  {
   "cell_type": "code",
   "execution_count": null,
   "metadata": {
    "colab": {
     "autoexec": {
      "startup": false,
      "wait_interval": 0
     }
    },
    "colab_type": "code",
    "id": "YMDIQuLf01EP"
   },
   "outputs": [],
   "source": [
    "display(consistent_ids(employees, 'Employee ID', '1'))\n",
    "display(consistent_ids(products, 'Product ID', '3'))"
   ]
  },
  {
   "cell_type": "markdown",
   "metadata": {
    "colab_type": "text",
    "id": "oxZLUVWtvrUz"
   },
   "source": [
    "**Filter records if the names don't have the first letter capitolized followed by a series of non-capitolized**"
   ]
  },
  {
   "cell_type": "code",
   "execution_count": null,
   "metadata": {
    "colab": {
     "autoexec": {
      "startup": false,
      "wait_interval": 0
     }
    },
    "colab_type": "code",
    "id": "-yclwBcS71u2"
   },
   "outputs": [],
   "source": [
    "def verify_name_format(df, field):\n",
    "  # Check if name does not have letters as first or last character in the field\n",
    "  unusual_name_format = df[~df[field].str.contains(r\"^[A-Z][a-z]*$\")]\n",
    "  return unusual_name_format"
   ]
  },
  {
   "cell_type": "code",
   "execution_count": null,
   "metadata": {
    "colab": {
     "autoexec": {
      "startup": false,
      "wait_interval": 0
     }
    },
    "colab_type": "code",
    "id": "l6Yj0QIk0mH7"
   },
   "outputs": [],
   "source": [
    "display(verify_name_format(employees, 'First Name'))\n",
    "display(verify_name_format(employees, 'Last Name'))"
   ]
  },
  {
   "cell_type": "markdown",
   "metadata": {
    "colab_type": "text",
    "id": "JdJ5lbu8wEEm"
   },
   "source": [
    "**Filter records that are not listed in a given list**"
   ]
  },
  {
   "cell_type": "code",
   "execution_count": null,
   "metadata": {
    "colab": {
     "autoexec": {
      "startup": false,
      "wait_interval": 0
     }
    },
    "colab_type": "code",
    "id": "yzVeCXNI8QgE"
   },
   "outputs": [],
   "source": [
    "def cross_reference_entries(df, field, standard_list):\n",
    "  unknown_entries = df[~(df[field].isin(standard_list))]\n",
    "  return unknown_entries"
   ]
  },
  {
   "cell_type": "code",
   "execution_count": null,
   "metadata": {
    "colab": {
     "autoexec": {
      "startup": false,
      "wait_interval": 0
     }
    },
    "colab_type": "code",
    "id": "WL4irROU2bgE"
   },
   "outputs": [],
   "source": [
    "cities = ['San Francisco', 'Oakland', 'San Jose', 'Berkeley', 'New York', 'Mexico']\n",
    "display(cross_reference_entries(employees, 'City', cities))"
   ]
  },
  {
   "cell_type": "markdown",
   "metadata": {
    "colab_type": "text",
    "id": "38sYofbcwKzS"
   },
   "source": [
    "**Filter price records that are not in numerical string format**\n",
    "\n"
   ]
  },
  {
   "cell_type": "code",
   "execution_count": null,
   "metadata": {
    "colab": {
     "autoexec": {
      "startup": false,
      "wait_interval": 0
     }
    },
    "colab_type": "code",
    "id": "yjM9fcjN9dUy"
   },
   "outputs": [],
   "source": [
    "def verify_numerical_prices(df, field):\n",
    "  non_numerical_prices = df[(~df[field].str.contains(r\"[0-9]\"))]\n",
    "  return non_numerical_prices"
   ]
  },
  {
   "cell_type": "code",
   "execution_count": null,
   "metadata": {
    "colab": {
     "autoexec": {
      "startup": false,
      "wait_interval": 0
     }
    },
    "colab_type": "code",
    "id": "fZal3jBF3IfP"
   },
   "outputs": [],
   "source": [
    "display(verify_numerical_prices(products, 'Price'))"
   ]
  },
  {
   "cell_type": "markdown",
   "metadata": {
    "colab_type": "text",
    "id": "5Yp3rxz2w61G"
   },
   "source": [
    "**Filter records that are out of range**"
   ]
  },
  {
   "cell_type": "code",
   "execution_count": null,
   "metadata": {
    "colab": {
     "autoexec": {
      "startup": false,
      "wait_interval": 0
     }
    },
    "colab_type": "code",
    "id": "3KVu4R3U-KPp"
   },
   "outputs": [],
   "source": [
    "def verify_date_range(df, field, start_date, end_date):\n",
    "  incorrect_dates = df[(df[field] < start_date) | (df[field] > end_date)]\n",
    "  return incorrect_dates"
   ]
  },
  {
   "cell_type": "code",
   "execution_count": null,
   "metadata": {
    "colab": {
     "autoexec": {
      "startup": false,
      "wait_interval": 0
     }
    },
    "colab_type": "code",
    "id": "NKWIIpzO3RyK"
   },
   "outputs": [],
   "source": [
    "display(verify_date_range(orders, 'Date', '17-01-01', '18-01-01'))"
   ]
  },
  {
   "cell_type": "markdown",
   "metadata": {
    "colab_type": "text",
    "id": "RFwZraNKw_kT"
   },
   "source": [
    "**Audit IDs by combining several functions**"
   ]
  },
  {
   "cell_type": "code",
   "execution_count": null,
   "metadata": {
    "colab": {
     "autoexec": {
      "startup": false,
      "wait_interval": 0
     }
    },
    "colab_type": "code",
    "id": "JCAfd4GFVvXr"
   },
   "outputs": [],
   "source": [
    "def audit_ids(df, field, starting_number):\n",
    "  results = pd.DataFrame({})\n",
    "  \n",
    "  # Check if missing field\n",
    "  missing_data = missing_fields(df, field)\n",
    "  results = pd.concat([results, missing_data])\n",
    "  \n",
    "  # Check the id lenght is of the proper lenght\n",
    "  incorrect_lengths = incorrect_length(df, field, 5)\n",
    "  results = pd.concat([results, incorrect_lengths]).drop_duplicates().reset_index(drop=True)\n",
    "  \n",
    "  # Check if all ids are numbers\n",
    "  non_numbers = check_ids_num(df, field)\n",
    "  results = pd.concat([results, non_numbers]).drop_duplicates().reset_index(drop=True)\n",
    "  \n",
    "  # Check if numbers have a consistent match\n",
    "  inconsistent_numbers = consistent_ids(df, field, starting_number)\n",
    "  results = pd.concat([results, inconsistent_numbers]).drop_duplicates().reset_index(drop=True)\n",
    "  return results\n",
    "  "
   ]
  },
  {
   "cell_type": "code",
   "execution_count": null,
   "metadata": {
    "colab": {
     "autoexec": {
      "startup": false,
      "wait_interval": 0
     }
    },
    "colab_type": "code",
    "id": "mA3G7vb1WoWQ"
   },
   "outputs": [],
   "source": [
    "display(audit_ids(employees, 'Employee ID', '1'))\n",
    "# Doesn't catch missing records\n",
    "display(audit_ids(customers, 'Customer ID', '2'))\n",
    "display(audit_ids(products, 'Product ID', '3'))\n",
    "display(audit_ids(products, 'Supplier ID', '4'))\n",
    "display(audit_ids(orders, 'Order ID', '5'))\n",
    "display(audit_ids(orders, 'Customer ID', '2'))\n",
    "display(audit_ids(suppliers, 'Supplier ID', '4'))"
   ]
  },
  {
   "cell_type": "markdown",
   "metadata": {
    "colab_type": "text",
    "id": "yceoFhAbxLqy"
   },
   "source": [
    "**Audit cities by combining several filtering methods**"
   ]
  },
  {
   "cell_type": "code",
   "execution_count": null,
   "metadata": {
    "colab": {
     "autoexec": {
      "startup": false,
      "wait_interval": 0
     }
    },
    "colab_type": "code",
    "id": "VUun2ugW60xz"
   },
   "outputs": [],
   "source": [
    "def audit_cities(df, field):\n",
    "  results = pd.DataFrame({})\n",
    "  \n",
    "  # Check if missing field\n",
    "  missing_data = missing_fields(df, field)\n",
    "  results = pd.concat([results, missing_data])\n",
    "  \n",
    "  # Check if name does not have first or last character in the field\n",
    "  unusual_name_format = df[(~df[field].str.contains(r\"^([A-Z][a-z]*\\s{0,1})*[a-z]$\"))]\n",
    "  results = pd.concat([results, unusual_name_format]).drop_duplicates().reset_index(drop=True)\n",
    "  \n",
    "  # Check if name matches out list of know cities\n",
    "  known_cities = ['San Francisco', 'Oakland', 'San Jose', 'Berkeley', 'Palo Alto', 'New York', 'Mexico']\n",
    "  unknown_cities = cross_reference_entries(df, field, known_cities)\n",
    "  results = pd.concat([results, unknown_cities]).drop_duplicates().reset_index(drop=True)\n",
    "  \n",
    "  return results"
   ]
  },
  {
   "cell_type": "code",
   "execution_count": null,
   "metadata": {
    "colab": {
     "autoexec": {
      "startup": false,
      "wait_interval": 0
     }
    },
    "colab_type": "code",
    "id": "wZLTUceCNaAe"
   },
   "outputs": [],
   "source": [
    "import warnings\n",
    "warnings.filterwarnings(\"ignore\", 'This pattern has match groups')"
   ]
  },
  {
   "cell_type": "code",
   "execution_count": null,
   "metadata": {
    "colab": {
     "autoexec": {
      "startup": false,
      "wait_interval": 0
     }
    },
    "colab_type": "code",
    "id": "j1BMYndZ7Vic"
   },
   "outputs": [],
   "source": [
    "display(audit_cities(employees, 'City'))\n",
    "display(audit_cities(customers, 'City'))\n",
    "display(audit_cities(suppliers, 'City'))"
   ]
  },
  {
   "cell_type": "markdown",
   "metadata": {
    "colab_type": "text",
    "id": "xh7JiaKfxTKw"
   },
   "source": [
    "**Audit prices by combining a couple of filtering methods**"
   ]
  },
  {
   "cell_type": "code",
   "execution_count": null,
   "metadata": {
    "colab": {
     "autoexec": {
      "startup": false,
      "wait_interval": 0
     }
    },
    "colab_type": "code",
    "id": "Pjz_HCW5jdcp"
   },
   "outputs": [],
   "source": [
    "def audit_prices(df, field):\n",
    "  results = pd.DataFrame({})\n",
    "  \n",
    "  # Check if missing field\n",
    "  missing_data = missing_fields(df, field)\n",
    "  results = pd.concat([results, missing_data])\n",
    "  \n",
    "  # Check if name does not have first or last character in the field\n",
    "  price_format = verify_numerical_prices(df, field)\n",
    "  results = pd.concat([results, price_format]).drop_duplicates().reset_index(drop=True)\n",
    "\n",
    "  return results"
   ]
  },
  {
   "cell_type": "code",
   "execution_count": null,
   "metadata": {
    "colab": {
     "autoexec": {
      "startup": false,
      "wait_interval": 0
     }
    },
    "colab_type": "code",
    "id": "5DT9N4eBGDU8"
   },
   "outputs": [],
   "source": [
    "display(audit_prices(products, 'Price'))"
   ]
  },
  {
   "cell_type": "markdown",
   "metadata": {
    "colab_type": "text",
    "id": "_9v3GPTBjjJ5"
   },
   "source": [
    "# Data Cleaning\n"
   ]
  },
  {
   "cell_type": "markdown",
   "metadata": {
    "colab_type": "text",
    "id": "jqatmKYFkRlo"
   },
   "source": [
    "## Data Replacement"
   ]
  },
  {
   "cell_type": "markdown",
   "metadata": {
    "colab_type": "text",
    "id": "eDMHzanY_ckr"
   },
   "source": [
    "**Add missing primary ids**"
   ]
  },
  {
   "cell_type": "code",
   "execution_count": null,
   "metadata": {
    "colab": {
     "autoexec": {
      "startup": false,
      "wait_interval": 0
     }
    },
    "colab_type": "code",
    "id": "cpvP3PpQBhqk"
   },
   "outputs": [],
   "source": [
    "def add_primary_ids(df, field, starting_number):\n",
    "  # Assume order of primary ids do not matter, size of dataset is of fixed length and range\n",
    "  \n",
    "  # Find all records that are missing a primary id field \n",
    "  missing_data = missing_fields(df, field)\n",
    "  \n",
    "  # Sort dataframe by primary ids and get last assigned id\n",
    "  last_assigned_id = int(df[field].sort_values().tail(1))\n",
    "  \n",
    "  # For each missing record - assign a unique id\n",
    "  for index, row in missing_data.iterrows():\n",
    "    row[field] = str(last_assigned_id + 1)\n",
    "    last_assigned_id += 1\n",
    "    \n",
    "  # Update the dataframe with the new ids\n",
    "  df.update(missing_data)\n",
    "  \n",
    "  # Return df\n",
    "  return df"
   ]
  },
  {
   "cell_type": "code",
   "execution_count": null,
   "metadata": {
    "colab": {
     "autoexec": {
      "startup": false,
      "wait_interval": 0
     }
    },
    "colab_type": "code",
    "id": "s280sHPm3mfo"
   },
   "outputs": [],
   "source": [
    "df = pd.DataFrame({'A': ['20001', '20002', '20003', '']})\n",
    "display(add_primary_ids(df, 'A', 20001))"
   ]
  },
  {
   "cell_type": "markdown",
   "metadata": {
    "colab_type": "text",
    "id": "wpnRJtAu_kVk"
   },
   "source": [
    "**Strip underscores from names**"
   ]
  },
  {
   "cell_type": "code",
   "execution_count": null,
   "metadata": {
    "colab": {
     "autoexec": {
      "startup": false,
      "wait_interval": 0
     }
    },
    "colab_type": "code",
    "id": "t6xtIaOPbFIi"
   },
   "outputs": [],
   "source": [
    "def strip_underscores_from_names(df, field):\n",
    "  new_df = under_scores = df[field].str.replace(\"_\", \"\")\n",
    "  df.update(new_df)\n",
    "  return df"
   ]
  },
  {
   "cell_type": "code",
   "execution_count": null,
   "metadata": {
    "colab": {
     "autoexec": {
      "startup": false,
      "wait_interval": 0
     }
    },
    "colab_type": "code",
    "id": "PEJjlVb7_8VN"
   },
   "outputs": [],
   "source": [
    "display(strip_underscores_from_names(employees, 'First Name'))"
   ]
  },
  {
   "cell_type": "code",
   "execution_count": null,
   "metadata": {
    "colab": {
     "autoexec": {
      "startup": false,
      "wait_interval": 0
     }
    },
    "colab_type": "code",
    "id": "Qio1kSJeBvcI"
   },
   "outputs": [],
   "source": [
    "def update_city_names(df, field, city_proper, city_names):\n",
    "  dict_city_names = {}\n",
    "  for city in city_names:\n",
    "    dict_city_names[city] = city_proper\n",
    "  new_df = df[field].map(dict_city_names)\n",
    "  df.update(new_df)\n",
    "  return df"
   ]
  },
  {
   "cell_type": "code",
   "execution_count": null,
   "metadata": {
    "colab": {
     "autoexec": {
      "startup": false,
      "wait_interval": 0
     }
    },
    "colab_type": "code",
    "id": "OYpnab2hvP3F"
   },
   "outputs": [],
   "source": [
    "city_proper = 'San Francisco'\n",
    "city_names = [\"SAN FRANCISCO\", \"SANFRANCISCO\", \"SANFRANCISCO,CA\", \"SF\", \"sf\", \"FRISCO\", \"Frisco\"]\n",
    "display(update_city_names(customers, 'City', city_proper, city_names))"
   ]
  },
  {
   "cell_type": "code",
   "execution_count": null,
   "metadata": {
    "colab": {
     "autoexec": {
      "startup": false,
      "wait_interval": 0
     }
    },
    "colab_type": "code",
    "id": "svxrTGCFZ820"
   },
   "outputs": [],
   "source": [
    "city_proper = 'Oakland'\n",
    "city_names = [\"OAKLAND\", \"oakland\", \"Oak Town\"]\n",
    "display(update_city_names(customers, 'City', city_proper, city_names))"
   ]
  },
  {
   "cell_type": "markdown",
   "metadata": {
    "colab_type": "text",
    "id": "RZkhMQAIkcLl"
   },
   "source": [
    "## Removal"
   ]
  },
  {
   "cell_type": "code",
   "execution_count": null,
   "metadata": {
    "colab": {
     "autoexec": {
      "startup": false,
      "wait_interval": 0
     }
    },
    "colab_type": "code",
    "id": "8Zby7HpkI2Lj"
   },
   "outputs": [],
   "source": [
    "def bad_product_records(df, pid, sid):\n",
    "  df = audit_ids(products, 'Product ID', pid)\n",
    "  df = audit_ids(df, 'Supplier ID', sid)\n",
    "  supplier_names = ['Studio Warehouse', 'BioMed Inc', 'CompTech, Inc', 'FashionRUs', 'Music Vibrations, Inc', 'WearUps Inc', 'DataQuery Inc', 'Ropa Inc']\n",
    "  df = cross_reference_entries(df, 'Supplier Name', supplier_names)\n",
    "  display(df)\n",
    "  "
   ]
  },
  {
   "cell_type": "code",
   "execution_count": null,
   "metadata": {
    "colab": {
     "autoexec": {
      "startup": false,
      "wait_interval": 0
     }
    },
    "colab_type": "code",
    "id": "2YlfZ9kXTCyL"
   },
   "outputs": [],
   "source": [
    "bad_product_records(products, 3, 5)"
   ]
  },
  {
   "cell_type": "code",
   "execution_count": null,
   "metadata": {
    "colab": {
     "autoexec": {
      "startup": false,
      "wait_interval": 0
     }
    },
    "colab_type": "code",
    "id": "4XI9Tpl1U7Jp"
   },
   "outputs": [],
   "source": [
    "def filter_product_records(df, pid, sid):\n",
    "  pid_df = audit_ids(df, 'Product ID', pid)\n",
    "  sid_df = audit_ids(pid_df, 'Supplier ID', sid)\n",
    "  supplier_names = ['Studio Warehouse', 'BioMed Inc', 'CompTech, Inc', 'FashionRUs', 'Music Vibrations, Inc', 'WearUps Inc', 'DataQuery Inc', 'Ropa Inc']\n",
    "  cref_df = cross_reference_entries(sid_df, 'Supplier Name', supplier_names)\n",
    "  keys = list(df)\n",
    "  i1 = df.set_index(keys).index\n",
    "  i2 = cref_df.set_index(keys).index\n",
    "  return df[~i1.isin(i2)]"
   ]
  },
  {
   "cell_type": "code",
   "execution_count": null,
   "metadata": {
    "colab": {
     "autoexec": {
      "startup": false,
      "wait_interval": 0
     }
    },
    "colab_type": "code",
    "id": "RBbNKrbs1iNf"
   },
   "outputs": [],
   "source": [
    "display(filter_product_records(products, 3, 5))"
   ]
  },
  {
   "cell_type": "markdown",
   "metadata": {
    "colab_type": "text",
    "id": "1JMexXV3js3H"
   },
   "source": [
    "# Outlier Detection Methods"
   ]
  },
  {
   "cell_type": "code",
   "execution_count": null,
   "metadata": {
    "colab": {
     "autoexec": {
      "startup": false,
      "wait_interval": 0
     }
    },
    "colab_type": "code",
    "id": "-pE2WEK5pmvw"
   },
   "outputs": [],
   "source": [
    "from random import *\n",
    "import math\n",
    "from scipy import stats\n",
    "from scipy import spatial\n",
    "from scipy.stats import t\n",
    "import matplotlib.pyplot as plt\n",
    "import scipy as sp"
   ]
  },
  {
   "cell_type": "code",
   "execution_count": null,
   "metadata": {
    "colab": {
     "autoexec": {
      "startup": false,
      "wait_interval": 0
     }
    },
    "colab_type": "code",
    "id": "YatV_IWcp2PZ"
   },
   "outputs": [],
   "source": [
    "def continuous_dataset_generator(mean, std, n):\n",
    "  np.random.seed(10)  # fix seed to get the same result\n",
    "  rvs = stats.norm.rvs(loc=mean, scale=std, size=(n))\n",
    "  return rvs"
   ]
  },
  {
   "cell_type": "code",
   "execution_count": null,
   "metadata": {
    "colab": {
     "autoexec": {
      "startup": false,
      "wait_interval": 0
     }
    },
    "colab_type": "code",
    "id": "6ddNg2Xnp8kY"
   },
   "outputs": [],
   "source": [
    "pop = pd.Series(continuous_dataset_generator(100, 15, 5000))\n"
   ]
  },
  {
   "cell_type": "code",
   "execution_count": null,
   "metadata": {
    "colab": {
     "autoexec": {
      "startup": false,
      "wait_interval": 0
     }
    },
    "colab_type": "code",
    "id": "OJUaJ1znLfcS"
   },
   "outputs": [],
   "source": [
    "import pandas as pd\n",
    "import numpy as np\n",
    "females = pd.Series(continuous_dataset_generator(0, 15, 100000))"
   ]
  },
  {
   "cell_type": "code",
   "execution_count": 54,
   "metadata": {
    "colab": {
     "autoexec": {
      "startup": false,
      "wait_interval": 0
     },
     "base_uri": "https://localhost:8080/",
     "height": 86
    },
    "colab_type": "code",
    "executionInfo": {
     "elapsed": 324,
     "status": "ok",
     "timestamp": 1527451860657,
     "user": {
      "displayName": "Tairi Delgado",
      "photoUrl": "//lh6.googleusercontent.com/-l4lv-T3P6-c/AAAAAAAAAAI/AAAAAAAABIA/4wtQ8ehIzZw/s50-c-k-no/photo.jpg",
      "userId": "115188476170888991569"
     },
     "user_tz": 420
    },
    "id": "uacf0f7VL1Bl",
    "outputId": "c27797ba-6f35-42e3-d7cc-3aa7dc9be68c"
   },
   "outputs": [
    {
     "name": "stdout",
     "output_type": "stream",
     "text": [
      "25928    60.794680\n",
      "59117    62.319121\n",
      "96160    61.166447\n",
      "dtype: float64\n"
     ]
    }
   ],
   "source": [
    "print(females[(stats.zscore(females) > 4.0)])"
   ]
  },
  {
   "cell_type": "markdown",
   "metadata": {
    "colab_type": "text",
    "id": "1Ld1LXBKkxOs"
   },
   "source": [
    "## Box Plots"
   ]
  },
  {
   "cell_type": "code",
   "execution_count": 319,
   "metadata": {
    "colab": {
     "autoexec": {
      "startup": false,
      "wait_interval": 0
     },
     "base_uri": "https://localhost:8080/",
     "height": 555
    },
    "colab_type": "code",
    "executionInfo": {
     "elapsed": 297,
     "status": "ok",
     "timestamp": 1527128799423,
     "user": {
      "displayName": "Tairi Delgado",
      "photoUrl": "//lh6.googleusercontent.com/-l4lv-T3P6-c/AAAAAAAAAAI/AAAAAAAABIA/4wtQ8ehIzZw/s50-c-k-no/photo.jpg",
      "userId": "115188476170888991569"
     },
     "user_tz": 420
    },
    "id": "1vYDddoexRlk",
    "outputId": "e6fb8e86-b503-464f-aaa6-002997d10ea1"
   },
   "outputs": [
    {
     "name": "stdout",
     "output_type": "stream",
     "text": [
      "271      58.411109\n",
      "427      58.904842\n",
      "494     140.443361\n",
      "589      54.307854\n",
      "685      57.481682\n",
      "943     141.390327\n",
      "1054    147.564622\n",
      "1256     58.339613\n",
      "1418     57.966958\n",
      "1446     55.080807\n",
      "1488    140.208563\n",
      "2018     53.247151\n",
      "2060    143.936444\n",
      "2114     57.519822\n",
      "2360     59.204810\n",
      "3020     57.839979\n",
      "3082    149.598615\n",
      "3118    157.024903\n",
      "3184    141.995615\n",
      "3230    143.221911\n",
      "3447    151.413078\n",
      "3462     54.902519\n",
      "3545     59.255795\n",
      "3679     49.115500\n",
      "3752     43.898490\n",
      "4337     56.612203\n",
      "4443    143.878744\n",
      "4469     54.888442\n",
      "4472    140.009831\n",
      "4909    144.699643\n",
      "dtype: float64\n"
     ]
    }
   ],
   "source": [
    "# Calculate Q1 (25th percentile of the data) for the given feature\n",
    "Q1 = np.percentile(pop, 25)\n",
    "    \n",
    "# Calculate Q3 (75th percentile of the data) for the given feature\n",
    "Q3 = np.percentile(pop, 75)\n",
    "    \n",
    "# Use the interquartile range to calculate an outlier step (1.5 times the interquartile range)\n",
    "step =  1.5 * (Q3 - Q1)\n",
    " \n",
    "outlier = pop[~((pop >= (Q1 - step)) & (pop <= (Q3 + step)))]\n",
    "print(outlier)\n"
   ]
  },
  {
   "cell_type": "markdown",
   "metadata": {
    "colab_type": "text",
    "id": "iDOeeM59kyJ-"
   },
   "source": [
    "## Z-Test"
   ]
  },
  {
   "cell_type": "code",
   "execution_count": null,
   "metadata": {
    "colab": {
     "autoexec": {
      "startup": false,
      "wait_interval": 0
     }
    },
    "colab_type": "code",
    "id": "V1eKGR-HwA_9"
   },
   "outputs": [],
   "source": [
    "from scipy import spatial"
   ]
  },
  {
   "cell_type": "code",
   "execution_count": 321,
   "metadata": {
    "colab": {
     "autoexec": {
      "startup": false,
      "wait_interval": 0
     },
     "base_uri": "https://localhost:8080/",
     "height": 52
    },
    "colab_type": "code",
    "executionInfo": {
     "elapsed": 288,
     "status": "ok",
     "timestamp": 1527128804206,
     "user": {
      "displayName": "Tairi Delgado",
      "photoUrl": "//lh6.googleusercontent.com/-l4lv-T3P6-c/AAAAAAAAAAI/AAAAAAAABIA/4wtQ8ehIzZw/s50-c-k-no/photo.jpg",
      "userId": "115188476170888991569"
     },
     "user_tz": 420
    },
    "id": "P1PRQ9MLyGn8",
    "outputId": "b55f9314-a1a0-48be-b8aa-6c9bc762f3fb"
   },
   "outputs": [
    {
     "name": "stdout",
     "output_type": "stream",
     "text": [
      "[ 1.06095671 -0.34936741  0.2489091   1.55402992  1.16798583 -1.7736924\n",
      "  0.21928426 -0.91965619 -0.86987913 -0.33857068]\n"
     ]
    }
   ],
   "source": [
    "print(stats.zscore(pop[:10]))"
   ]
  },
  {
   "cell_type": "code",
   "execution_count": 322,
   "metadata": {
    "colab": {
     "autoexec": {
      "startup": false,
      "wait_interval": 0
     },
     "base_uri": "https://localhost:8080/",
     "height": 35
    },
    "colab_type": "code",
    "executionInfo": {
     "elapsed": 321,
     "status": "ok",
     "timestamp": 1527128805315,
     "user": {
      "displayName": "Tairi Delgado",
      "photoUrl": "//lh6.googleusercontent.com/-l4lv-T3P6-c/AAAAAAAAAAI/AAAAAAAABIA/4wtQ8ehIzZw/s50-c-k-no/photo.jpg",
      "userId": "115188476170888991569"
     },
     "user_tz": 420
    },
    "id": "2vsH0eGELgs_",
    "outputId": "abac5228-3b4c-4559-84a7-11dfd0590a3a"
   },
   "outputs": [
    {
     "name": "stdout",
     "output_type": "stream",
     "text": [
      "5\n"
     ]
    }
   ],
   "source": [
    "print(len(pop[(stats.zscore(pop) > 3.0)]))"
   ]
  },
  {
   "cell_type": "code",
   "execution_count": 323,
   "metadata": {
    "colab": {
     "autoexec": {
      "startup": false,
      "wait_interval": 0
     },
     "base_uri": "https://localhost:8080/",
     "height": 243
    },
    "colab_type": "code",
    "executionInfo": {
     "elapsed": 294,
     "status": "ok",
     "timestamp": 1527128807095,
     "user": {
      "displayName": "Tairi Delgado",
      "photoUrl": "//lh6.googleusercontent.com/-l4lv-T3P6-c/AAAAAAAAAAI/AAAAAAAABIA/4wtQ8ehIzZw/s50-c-k-no/photo.jpg",
      "userId": "115188476170888991569"
     },
     "user_tz": 420
    },
    "id": "oS2qRs2OwHok",
    "outputId": "d15c28c1-f868-43f5-938a-cadc16d7bb7c"
   },
   "outputs": [
    {
     "name": "stdout",
     "output_type": "stream",
     "text": [
      "589      54.307854\n",
      "1054    147.564622\n",
      "1446     55.080807\n",
      "2018     53.247151\n",
      "3082    149.598615\n",
      "3118    157.024903\n",
      "3447    151.413078\n",
      "3462     54.902519\n",
      "3679     49.115500\n",
      "3752     43.898490\n",
      "4469     54.888442\n",
      "4909    144.699643\n",
      "dtype: float64\n"
     ]
    }
   ],
   "source": [
    "print(pop[(stats.zscore(pop) > 3.0) | (stats.zscore(pop) < -3.0)])\n"
   ]
  },
  {
   "cell_type": "markdown",
   "metadata": {
    "colab_type": "text",
    "id": "JBlR8xyc_Jj2"
   },
   "source": [
    "**Mahalanobis distances**"
   ]
  },
  {
   "cell_type": "code",
   "execution_count": null,
   "metadata": {
    "colab": {
     "autoexec": {
      "startup": false,
      "wait_interval": 0
     }
    },
    "colab_type": "code",
    "id": "HZrZU8qU_JDA"
   },
   "outputs": [],
   "source": [
    "from scipy.spatial.distance import mahalanobis"
   ]
  },
  {
   "cell_type": "code",
   "execution_count": null,
   "metadata": {
    "colab": {
     "autoexec": {
      "startup": false,
      "wait_interval": 0
     }
    },
    "colab_type": "code",
    "id": "EI2fmqkh_IlR"
   },
   "outputs": [],
   "source": [
    "a = continuous_dataset_generator(100, 15, 5000)\n",
    "b = continuous_dataset_generator(50, 30, 5000)\n",
    "c = continuous_dataset_generator(200, 5, 5000)"
   ]
  },
  {
   "cell_type": "code",
   "execution_count": null,
   "metadata": {
    "colab": {
     "autoexec": {
      "startup": false,
      "wait_interval": 0
     }
    },
    "colab_type": "code",
    "id": "j5cG2he7_IRS"
   },
   "outputs": [],
   "source": [
    "df = pd.DataFrame({'A': a, 'B': b, 'C': c})"
   ]
  },
  {
   "cell_type": "code",
   "execution_count": null,
   "metadata": {
    "colab": {
     "autoexec": {
      "startup": false,
      "wait_interval": 0
     }
    },
    "colab_type": "code",
    "id": "aWgY-TR__H61"
   },
   "outputs": [],
   "source": [
    "def mahalonobisDistance(df):\n",
    "  covmx = df.cov()\n",
    "  invcovmx = sp.linalg.inv(covmx)\n",
    "  means = df.mean()\n",
    "  \n",
    "  md = []\n",
    "  i = 0\n",
    "  for index, row in df.iterrows():\n",
    "    md.append(sp.spatial.distance.mahalanobis(means, row, invcovmx))\n",
    "    \n",
    "  md = pd.DataFrame({'MD': md})\n",
    "  return (pd.merge(df, md, left_index=True, right_index=True))"
   ]
  },
  {
   "cell_type": "code",
   "execution_count": null,
   "metadata": {
    "colab": {
     "autoexec": {
      "startup": false,
      "wait_interval": 0
     },
     "base_uri": "https://localhost:8080/",
     "height": 202
    },
    "colab_type": "code",
    "executionInfo": {
     "elapsed": 423,
     "status": "ok",
     "timestamp": 1527128829324,
     "user": {
      "displayName": "Tairi Delgado",
      "photoUrl": "//lh6.googleusercontent.com/-l4lv-T3P6-c/AAAAAAAAAAI/AAAAAAAABIA/4wtQ8ehIzZw/s50-c-k-no/photo.jpg",
      "userId": "115188476170888991569"
     },
     "user_tz": 420
    },
    "id": "omZDKG9A_Ho2",
    "outputId": "46193fed-04b3-4d70-8c40-2b471d74b35d"
   },
   "outputs": [
    {
     "data": {
      "text/html": [
       "<div>\n",
       "<style scoped>\n",
       "    .dataframe tbody tr th:only-of-type {\n",
       "        vertical-align: middle;\n",
       "    }\n",
       "\n",
       "    .dataframe tbody tr th {\n",
       "        vertical-align: top;\n",
       "    }\n",
       "\n",
       "    .dataframe thead th {\n",
       "        text-align: right;\n",
       "    }\n",
       "</style>\n",
       "<table border=\"1\" class=\"dataframe\">\n",
       "  <thead>\n",
       "    <tr style=\"text-align: right;\">\n",
       "      <th></th>\n",
       "      <th>A</th>\n",
       "      <th>B</th>\n",
       "      <th>C</th>\n",
       "      <th>MD</th>\n",
       "    </tr>\n",
       "  </thead>\n",
       "  <tbody>\n",
       "    <tr>\n",
       "      <th>427</th>\n",
       "      <td>58.904842</td>\n",
       "      <td>-32.190315</td>\n",
       "      <td>186.301614</td>\n",
       "      <td>3.229776</td>\n",
       "    </tr>\n",
       "    <tr>\n",
       "      <th>2360</th>\n",
       "      <td>59.204810</td>\n",
       "      <td>-31.590381</td>\n",
       "      <td>186.401603</td>\n",
       "      <td>3.217903</td>\n",
       "    </tr>\n",
       "    <tr>\n",
       "      <th>3118</th>\n",
       "      <td>157.024903</td>\n",
       "      <td>164.049806</td>\n",
       "      <td>219.008301</td>\n",
       "      <td>3.136737</td>\n",
       "    </tr>\n",
       "    <tr>\n",
       "      <th>3752</th>\n",
       "      <td>43.898490</td>\n",
       "      <td>-62.203019</td>\n",
       "      <td>181.299497</td>\n",
       "      <td>3.964395</td>\n",
       "    </tr>\n",
       "    <tr>\n",
       "      <th>4337</th>\n",
       "      <td>56.612203</td>\n",
       "      <td>-36.775595</td>\n",
       "      <td>185.537401</td>\n",
       "      <td>3.109275</td>\n",
       "    </tr>\n",
       "  </tbody>\n",
       "</table>\n",
       "</div>"
      ],
      "text/plain": [
       "               A           B           C        MD\n",
       "427    58.904842  -32.190315  186.301614  3.229776\n",
       "2360   59.204810  -31.590381  186.401603  3.217903\n",
       "3118  157.024903  164.049806  219.008301  3.136737\n",
       "3752   43.898490  -62.203019  181.299497  3.964395\n",
       "4337   56.612203  -36.775595  185.537401  3.109275"
      ]
     },
     "execution_count": 329,
     "metadata": {
      "tags": []
     },
     "output_type": "execute_result"
    }
   ],
   "source": [
    "md = mahalonobisDistance(df)\n",
    "md[(md['MD'] > 3.0)]"
   ]
  },
  {
   "cell_type": "code",
   "execution_count": 330,
   "metadata": {
    "colab": {
     "autoexec": {
      "startup": false,
      "wait_interval": 0
     },
     "base_uri": "https://localhost:8080/",
     "height": 243
    },
    "colab_type": "code",
    "executionInfo": {
     "elapsed": 511,
     "status": "ok",
     "timestamp": 1527128858329,
     "user": {
      "displayName": "Tairi Delgado",
      "photoUrl": "//lh6.googleusercontent.com/-l4lv-T3P6-c/AAAAAAAAAAI/AAAAAAAABIA/4wtQ8ehIzZw/s50-c-k-no/photo.jpg",
      "userId": "115188476170888991569"
     },
     "user_tz": 420
    },
    "id": "v7IUoo4D6Jrw",
    "outputId": "ba09bd57-5a29-4ed9-85c7-35efbc7a27aa"
   },
   "outputs": [
    {
     "name": "stdout",
     "output_type": "stream",
     "text": [
      "               A           B           C        MD\n",
      "589    54.307854  -41.384292  184.769285       NaN\n",
      "1054  147.564622  145.129243  215.854874  2.286163\n",
      "1446   55.080807  -39.838386  185.026936  1.600263\n",
      "2018   53.247151  -43.505698  184.415717  2.604978\n",
      "3082  149.598615  149.197230  216.532872       NaN\n",
      "3118  157.024903  164.049806  219.008301  3.136737\n",
      "3447  151.413078  152.826156  217.137693  2.792648\n",
      "3462   54.902519  -40.194961  184.967506  1.528830\n",
      "3679   49.115500  -51.769000  183.038500  1.922036\n",
      "3752   43.898490  -62.203019  181.299497  3.964395\n",
      "4469   54.888442  -40.223116  184.962814  0.683821\n",
      "4909  144.699643  139.399285  214.899881  2.513354\n"
     ]
    }
   ],
   "source": [
    "print(md[(stats.zscore(md['A']) > 3.0) | (stats.zscore(md['A']) < -3.0)])"
   ]
  },
  {
   "cell_type": "code",
   "execution_count": 237,
   "metadata": {
    "colab": {
     "autoexec": {
      "startup": false,
      "wait_interval": 0
     },
     "base_uri": "https://localhost:8080/",
     "height": 52
    },
    "colab_type": "code",
    "executionInfo": {
     "elapsed": 506,
     "status": "ok",
     "timestamp": 1527127884129,
     "user": {
      "displayName": "Tairi Delgado",
      "photoUrl": "//lh6.googleusercontent.com/-l4lv-T3P6-c/AAAAAAAAAAI/AAAAAAAABIA/4wtQ8ehIzZw/s50-c-k-no/photo.jpg",
      "userId": "115188476170888991569"
     },
     "user_tz": 420
    },
    "id": "ORKZ-d3O6h3n",
    "outputId": "9015f298-d79c-448a-e408-e9072726fda5"
   },
   "outputs": [
    {
     "name": "stdout",
     "output_type": "stream",
     "text": [
      "              A           B           C        MD\n",
      "565  159.379041  168.758081  219.793014  3.833955\n"
     ]
    }
   ],
   "source": [
    "print(md[(stats.zscore(md['B']) > 3.5) | (stats.zscore(md['B']) < -3.5)])"
   ]
  },
  {
   "cell_type": "code",
   "execution_count": 238,
   "metadata": {
    "colab": {
     "autoexec": {
      "startup": false,
      "wait_interval": 0
     },
     "base_uri": "https://localhost:8080/",
     "height": 52
    },
    "colab_type": "code",
    "executionInfo": {
     "elapsed": 320,
     "status": "ok",
     "timestamp": 1527127899274,
     "user": {
      "displayName": "Tairi Delgado",
      "photoUrl": "//lh6.googleusercontent.com/-l4lv-T3P6-c/AAAAAAAAAAI/AAAAAAAABIA/4wtQ8ehIzZw/s50-c-k-no/photo.jpg",
      "userId": "115188476170888991569"
     },
     "user_tz": 420
    },
    "id": "z3h-ChlW6kuw",
    "outputId": "1478297c-f1c9-40db-e0d8-d2e7345d6630"
   },
   "outputs": [
    {
     "name": "stdout",
     "output_type": "stream",
     "text": [
      "              A           B           C        MD\n",
      "565  159.379041  168.758081  219.793014  3.833955\n"
     ]
    }
   ],
   "source": [
    "print(md[(stats.zscore(md['C']) > 3.5) | (stats.zscore(md['C']) < -3.5)])"
   ]
  },
  {
   "cell_type": "markdown",
   "metadata": {
    "colab_type": "text",
    "id": "1bqTverYjyBp"
   },
   "source": [
    "# Data Transformation\n"
   ]
  },
  {
   "cell_type": "markdown",
   "metadata": {
    "colab_type": "text",
    "id": "86amWxc8k5oz"
   },
   "source": [
    "## Categorical Data/Dummy Variables"
   ]
  },
  {
   "cell_type": "code",
   "execution_count": 497,
   "metadata": {
    "colab": {
     "autoexec": {
      "startup": false,
      "wait_interval": 0
     },
     "base_uri": "https://localhost:8080/",
     "height": 364
    },
    "colab_type": "code",
    "executionInfo": {
     "elapsed": 282,
     "status": "ok",
     "timestamp": 1527146509322,
     "user": {
      "displayName": "Tairi Delgado",
      "photoUrl": "//lh6.googleusercontent.com/-l4lv-T3P6-c/AAAAAAAAAAI/AAAAAAAABIA/4wtQ8ehIzZw/s50-c-k-no/photo.jpg",
      "userId": "115188476170888991569"
     },
     "user_tz": 420
    },
    "id": "WzkXQWnQxTv3",
    "outputId": "b96ebaba-86dd-4901-92e9-0ae80bf606af"
   },
   "outputs": [
    {
     "name": "stdout",
     "output_type": "stream",
     "text": [
      "    Oakland  SANJOSE,CA  SF  San Francisco  San Jose\n",
      "0         0           0   0              1         0\n",
      "1         0           0   0              1         0\n",
      "2         0           0   0              0         1\n",
      "3         0           0   0              1         0\n",
      "4         1           0   0              0         0\n",
      "5         1           0   0              0         0\n",
      "6         0           0   0              1         0\n",
      "7         1           0   0              0         0\n",
      "8         0           0   0              0         1\n",
      "9         1           0   0              0         0\n",
      "10        0           0   0              0         1\n",
      "11        0           0   0              0         1\n",
      "12        0           0   0              0         1\n",
      "13        0           0   0              0         1\n",
      "14        0           0   0              1         0\n",
      "15        1           0   0              0         0\n",
      "16        0           1   0              0         0\n",
      "17        0           0   1              0         0\n",
      "18        0           0   0              0         1\n"
     ]
    }
   ],
   "source": [
    "cities = pd.get_dummies(employees['City'])\n",
    "print(cities)\n"
   ]
  },
  {
   "cell_type": "markdown",
   "metadata": {
    "colab_type": "text",
    "id": "iUZr6C3ek8Ed"
   },
   "source": [
    "## Standardization"
   ]
  },
  {
   "cell_type": "code",
   "execution_count": null,
   "metadata": {
    "colab": {
     "autoexec": {
      "startup": false,
      "wait_interval": 0
     }
    },
    "colab_type": "code",
    "id": "2UjaIXyr9qmI"
   },
   "outputs": [],
   "source": [
    "from scipy.stats import skewnorm"
   ]
  },
  {
   "cell_type": "code",
   "execution_count": null,
   "metadata": {
    "colab": {
     "autoexec": {
      "startup": false,
      "wait_interval": 0
     }
    },
    "colab_type": "code",
    "id": "3dcfn10o9m-M"
   },
   "outputs": [],
   "source": [
    "s = skewnorm.rvs(4, size=50000)"
   ]
  },
  {
   "cell_type": "code",
   "execution_count": 500,
   "metadata": {
    "colab": {
     "autoexec": {
      "startup": false,
      "wait_interval": 0
     },
     "base_uri": "https://localhost:8080/",
     "height": 451
    },
    "colab_type": "code",
    "executionInfo": {
     "elapsed": 471,
     "status": "ok",
     "timestamp": 1527146514113,
     "user": {
      "displayName": "Tairi Delgado",
      "photoUrl": "//lh6.googleusercontent.com/-l4lv-T3P6-c/AAAAAAAAAAI/AAAAAAAABIA/4wtQ8ehIzZw/s50-c-k-no/photo.jpg",
      "userId": "115188476170888991569"
     },
     "user_tz": 420
    },
    "id": "qE58FbaEANdO",
    "outputId": "88841408-81b4-4e7a-9f23-5086a5a75166"
   },
   "outputs": [
    {
     "data": {
      "text/plain": [
       "array([-4.36614843e-02,  2.36493047e-01,  3.74897525e-01,  7.06261173e-01,\n",
       "        1.18199158e+00,  2.40652987e-01,  9.91212657e-01,  3.47353690e-01,\n",
       "       -4.37091348e-02,  3.42972997e-01,  9.89428949e-01,  8.37544380e-02,\n",
       "        9.09265949e-01,  5.14909635e-01,  1.98914381e-01, -1.52810358e-01,\n",
       "        1.56292956e-01,  1.30158786e+00,  8.86720434e-01,  1.05782969e+00,\n",
       "        5.99548782e-01,  8.82537305e-01,  1.53682566e+00,  1.47929390e+00,\n",
       "        5.10931455e-01,  6.38775328e-01,  1.04950371e+00,  5.92619112e-01,\n",
       "       -8.96035422e-03,  9.05816672e-01,  1.57985968e-01,  1.39124827e+00,\n",
       "        9.25205531e-01,  8.04943940e-01,  6.12460815e-01,  3.44489173e-01,\n",
       "        4.82696840e-01,  1.12364886e+00,  4.80156152e-01,  5.55238035e-01,\n",
       "        3.74416891e-01,  1.67583069e-01,  1.17325666e+00,  6.03070973e-01,\n",
       "        4.57853708e-01,  6.25532143e-01,  8.79228426e-01,  3.07849089e-01,\n",
       "        7.05483536e-01,  3.32839815e-01,  2.18762770e-01,  3.12211839e-01,\n",
       "        2.39669799e+00, -3.37894091e-01, -1.54038895e-01,  1.27774283e+00,\n",
       "        2.61664510e-01,  3.59603890e-01,  3.76418518e-01,  9.85925954e-01,\n",
       "        2.22890248e+00,  4.08017505e-01,  1.11397152e+00,  1.04834067e+00,\n",
       "        1.32766811e+00,  1.58424781e+00,  4.67288563e-01,  8.31401164e-01,\n",
       "        8.86405941e-01, -6.29503596e-03,  1.63312900e+00,  1.16616232e+00,\n",
       "        6.86228219e-01,  1.77062996e+00,  6.56400266e-01,  2.37392163e+00,\n",
       "        1.26041059e+00,  5.83545868e-01,  3.96748631e-01, -4.52563827e-01,\n",
       "        2.34462290e-03,  7.90461937e-01,  1.39646463e-01,  1.02363381e+00,\n",
       "        6.19024899e-01,  9.78568795e-01,  6.26535162e-01,  1.10262037e+00,\n",
       "        1.64283028e+00,  3.40245438e-01,  2.02380216e-01,  1.30436264e+00,\n",
       "        6.67535379e-01, -7.67709584e-02,  6.26066942e-01,  1.89696705e+00,\n",
       "        9.92316252e-01,  1.36296771e+00,  8.96382689e-01,  1.98403172e-01])"
      ]
     },
     "execution_count": 500,
     "metadata": {
      "tags": []
     },
     "output_type": "execute_result"
    }
   ],
   "source": [
    "s[:100]"
   ]
  },
  {
   "cell_type": "code",
   "execution_count": 501,
   "metadata": {
    "colab": {
     "autoexec": {
      "startup": false,
      "wait_interval": 0
     },
     "base_uri": "https://localhost:8080/",
     "height": 347
    },
    "colab_type": "code",
    "executionInfo": {
     "elapsed": 424,
     "status": "ok",
     "timestamp": 1527146517145,
     "user": {
      "displayName": "Tairi Delgado",
      "photoUrl": "//lh6.googleusercontent.com/-l4lv-T3P6-c/AAAAAAAAAAI/AAAAAAAABIA/4wtQ8ehIzZw/s50-c-k-no/photo.jpg",
      "userId": "115188476170888991569"
     },
     "user_tz": 420
    },
    "id": "p7wJqLnDx_4A",
    "outputId": "f3a8194a-f50a-4fda-b1c6-c30f80f3beca"
   },
   "outputs": [
    {
     "data": {
      "image/png": "[encoded data removed]",
      "text/plain": [
       "<matplotlib.figure.Figure at 0x7f6591360410>"
      ]
     },
     "metadata": {
      "tags": []
     },
     "output_type": "display_data"
    }
   ],
   "source": [
    "import matplotlib.pyplot as plt\n",
    "count, bins, ignored = plt.hist(s, 30, normed=True)\n",
    "plt.show()"
   ]
  },
  {
   "cell_type": "code",
   "execution_count": 502,
   "metadata": {
    "colab": {
     "autoexec": {
      "startup": false,
      "wait_interval": 0
     },
     "base_uri": "https://localhost:8080/",
     "height": 364
    },
    "colab_type": "code",
    "executionInfo": {
     "elapsed": 478,
     "status": "ok",
     "timestamp": 1527146522934,
     "user": {
      "displayName": "Tairi Delgado",
      "photoUrl": "//lh6.googleusercontent.com/-l4lv-T3P6-c/AAAAAAAAAAI/AAAAAAAABIA/4wtQ8ehIzZw/s50-c-k-no/photo.jpg",
      "userId": "115188476170888991569"
     },
     "user_tz": 420
    },
    "id": "KuKC79wwysNF",
    "outputId": "d16c6f4d-72c5-4184-a4ab-20600ad554b8"
   },
   "outputs": [
    {
     "data": {
      "text/plain": [
       "array([-1.29139874, -0.84863308, -0.62989397, -0.1061957 ,  0.64566467,\n",
       "       -0.84205857,  0.34415123, -0.67342518, -1.29147405, -0.68034857,\n",
       "        0.3413322 , -1.09002632,  0.21463989, -0.40861412, -0.90802367,\n",
       "       -1.4639013 , -0.975384  ,  0.83467867,  0.1790082 ,  0.44943504,\n",
       "       -0.27484756,  0.17239704,  1.20645641,  1.11553127, -0.41490137,\n",
       "       -0.2128526 ,  0.43627638, -0.28579944, -1.2365559 ,  0.20918854,\n",
       "       -0.97270831,  0.97638098,  0.23983134,  0.04976587, -0.25444095,\n",
       "       -0.67795236, -0.4595243 ,  0.55345786, -0.46353969, -0.34487776,\n",
       "       -0.63065359, -0.95754073,  0.63185971, -0.26928097, -0.49878723,\n",
       "       -0.23378258,  0.16716758, -0.73585958, -0.1074247 , -0.6963634 ,\n",
       "       -0.8766546 , -0.72896454,  2.56542761, -1.75641386, -1.46584292,\n",
       "        0.79699317, -0.80885125, -0.65406455, -0.62749015,  0.33579595,\n",
       "        2.30023793, -0.57755004,  0.53816347,  0.43443826,  0.87589677,\n",
       "        1.28140397, -0.48387607,  0.09157976,  0.17851116, -1.23234354,\n",
       "        1.35865744,  0.62064758, -0.13785645,  1.5759686 , -0.18499756,\n",
       "        2.52943108,  0.76960072, -0.3001391 , -0.59535975, -1.93764178,\n",
       "       -1.21868914,  0.02687803, -1.00169268,  0.39539072, -0.24406685,\n",
       "        0.32416844, -0.23219737,  0.52022374,  1.37398968, -0.6846593 ,\n",
       "       -0.90254614,  0.83906402, -0.16739925, -1.34372607, -0.23293736,\n",
       "        1.77563599,  0.34589539,  0.93168545,  0.19427875, -0.9088316 ])"
      ]
     },
     "execution_count": 502,
     "metadata": {
      "tags": []
     },
     "output_type": "execute_result"
    }
   ],
   "source": [
    "from sklearn.preprocessing import scale\n",
    "standardized_s = scale(s, with_mean=True, with_std=True, copy=True)\n",
    "standardized_s[:100]"
   ]
  },
  {
   "cell_type": "markdown",
   "metadata": {
    "colab_type": "text",
    "id": "omTy4xsYlAAH"
   },
   "source": [
    "## Normalization"
   ]
  },
  {
   "cell_type": "code",
   "execution_count": 503,
   "metadata": {
    "colab": {
     "autoexec": {
      "startup": false,
      "wait_interval": 0
     },
     "base_uri": "https://localhost:8080/",
     "height": 364
    },
    "colab_type": "code",
    "executionInfo": {
     "elapsed": 278,
     "status": "ok",
     "timestamp": 1527146526417,
     "user": {
      "displayName": "Tairi Delgado",
      "photoUrl": "//lh6.googleusercontent.com/-l4lv-T3P6-c/AAAAAAAAAAI/AAAAAAAABIA/4wtQ8ehIzZw/s50-c-k-no/photo.jpg",
      "userId": "115188476170888991569"
     },
     "user_tz": 420
    },
    "id": "KO-9iTLGyg04",
    "outputId": "733b637d-e161-4453-c2ac-d695b741bd67"
   },
   "outputs": [
    {
     "data": {
      "text/plain": [
       "array([0.16979831, 0.22344579, 0.2499492 , 0.31340284, 0.40450162,\n",
       "       0.22424239, 0.3679689 , 0.24467477, 0.16978919, 0.2438359 ,\n",
       "       0.36762733, 0.1941975 , 0.35227672, 0.27676047, 0.21624976,\n",
       "       0.14889713, 0.20808808, 0.42740341, 0.34795943, 0.38072556,\n",
       "       0.29296822, 0.34715839, 0.47244967, 0.46143277, 0.27599868,\n",
       "       0.30047981, 0.3791312 , 0.29164124, 0.17644332, 0.35161621,\n",
       "       0.20841228, 0.4445727 , 0.35532903, 0.33229985, 0.29544078,\n",
       "       0.24412623, 0.27059196, 0.39332943, 0.27010544, 0.28448305,\n",
       "       0.24985717, 0.21025005, 0.40282895, 0.2936427 , 0.26583469,\n",
       "       0.29794384, 0.34652476, 0.23710994, 0.31325393, 0.24189547,\n",
       "       0.22005058, 0.23794537, 0.63710873, 0.11345499, 0.14866187,\n",
       "       0.42283726, 0.22826594, 0.24702059, 0.25024046, 0.36695654,\n",
       "       0.60497716, 0.25629143, 0.39147629, 0.37890848, 0.43239758,\n",
       "       0.48153065, 0.26764139, 0.3373662 , 0.3478992 , 0.17695371,\n",
       "       0.49089103, 0.40147044, 0.30956668, 0.51722143, 0.30385485,\n",
       "       0.63274723, 0.41951827, 0.28990379, 0.25413353, 0.0914966 ,\n",
       "       0.17860814, 0.32952665, 0.2049004 , 0.37417731, 0.29669775,\n",
       "       0.3655477 , 0.29813591, 0.38930264, 0.49274875, 0.24331359,\n",
       "       0.21691344, 0.42793476, 0.30598714, 0.1634581 , 0.29804625,\n",
       "       0.54141403, 0.36818023, 0.43915719, 0.34980968, 0.21615187])"
      ]
     },
     "execution_count": 503,
     "metadata": {
      "tags": []
     },
     "output_type": "execute_result"
    }
   ],
   "source": [
    "from sklearn.preprocessing import minmax_scale\n",
    "norm = minmax_scale(s)\n",
    "norm[:100]"
   ]
  },
  {
   "cell_type": "markdown",
   "metadata": {
    "colab_type": "text",
    "id": "hkvaIwaYlCTI"
   },
   "source": [
    "## Skewed Data - Log Transformations"
   ]
  },
  {
   "cell_type": "code",
   "execution_count": null,
   "metadata": {
    "colab": {
     "autoexec": {
      "startup": false,
      "wait_interval": 0
     }
    },
    "colab_type": "code",
    "id": "34z925Fv1yBC"
   },
   "outputs": [],
   "source": [
    "for x in np.nditer(s, op_flags=['readwrite']):\n",
    "  if x <= 0:\n",
    "    x[...] = 0.0001"
   ]
  },
  {
   "cell_type": "code",
   "execution_count": 505,
   "metadata": {
    "colab": {
     "autoexec": {
      "startup": false,
      "wait_interval": 0
     },
     "base_uri": "https://localhost:8080/",
     "height": 451
    },
    "colab_type": "code",
    "executionInfo": {
     "elapsed": 285,
     "status": "ok",
     "timestamp": 1527146532815,
     "user": {
      "displayName": "Tairi Delgado",
      "photoUrl": "//lh6.googleusercontent.com/-l4lv-T3P6-c/AAAAAAAAAAI/AAAAAAAABIA/4wtQ8ehIzZw/s50-c-k-no/photo.jpg",
      "userId": "115188476170888991569"
     },
     "user_tz": 420
    },
    "id": "PVePuOzl54Nj",
    "outputId": "f81df4ce-bfa2-4a62-b934-ab3dbcdc76b2"
   },
   "outputs": [
    {
     "data": {
      "text/plain": [
       "array([1.00000000e-04, 2.36493047e-01, 3.74897525e-01, 7.06261173e-01,\n",
       "       1.18199158e+00, 2.40652987e-01, 9.91212657e-01, 3.47353690e-01,\n",
       "       1.00000000e-04, 3.42972997e-01, 9.89428949e-01, 8.37544380e-02,\n",
       "       9.09265949e-01, 5.14909635e-01, 1.98914381e-01, 1.00000000e-04,\n",
       "       1.56292956e-01, 1.30158786e+00, 8.86720434e-01, 1.05782969e+00,\n",
       "       5.99548782e-01, 8.82537305e-01, 1.53682566e+00, 1.47929390e+00,\n",
       "       5.10931455e-01, 6.38775328e-01, 1.04950371e+00, 5.92619112e-01,\n",
       "       1.00000000e-04, 9.05816672e-01, 1.57985968e-01, 1.39124827e+00,\n",
       "       9.25205531e-01, 8.04943940e-01, 6.12460815e-01, 3.44489173e-01,\n",
       "       4.82696840e-01, 1.12364886e+00, 4.80156152e-01, 5.55238035e-01,\n",
       "       3.74416891e-01, 1.67583069e-01, 1.17325666e+00, 6.03070973e-01,\n",
       "       4.57853708e-01, 6.25532143e-01, 8.79228426e-01, 3.07849089e-01,\n",
       "       7.05483536e-01, 3.32839815e-01, 2.18762770e-01, 3.12211839e-01,\n",
       "       2.39669799e+00, 1.00000000e-04, 1.00000000e-04, 1.27774283e+00,\n",
       "       2.61664510e-01, 3.59603890e-01, 3.76418518e-01, 9.85925954e-01,\n",
       "       2.22890248e+00, 4.08017505e-01, 1.11397152e+00, 1.04834067e+00,\n",
       "       1.32766811e+00, 1.58424781e+00, 4.67288563e-01, 8.31401164e-01,\n",
       "       8.86405941e-01, 1.00000000e-04, 1.63312900e+00, 1.16616232e+00,\n",
       "       6.86228219e-01, 1.77062996e+00, 6.56400266e-01, 2.37392163e+00,\n",
       "       1.26041059e+00, 5.83545868e-01, 3.96748631e-01, 1.00000000e-04,\n",
       "       2.34462290e-03, 7.90461937e-01, 1.39646463e-01, 1.02363381e+00,\n",
       "       6.19024899e-01, 9.78568795e-01, 6.26535162e-01, 1.10262037e+00,\n",
       "       1.64283028e+00, 3.40245438e-01, 2.02380216e-01, 1.30436264e+00,\n",
       "       6.67535379e-01, 1.00000000e-04, 6.26066942e-01, 1.89696705e+00,\n",
       "       9.92316252e-01, 1.36296771e+00, 8.96382689e-01, 1.98403172e-01])"
      ]
     },
     "execution_count": 505,
     "metadata": {
      "tags": []
     },
     "output_type": "execute_result"
    }
   ],
   "source": [
    "s[:100]"
   ]
  },
  {
   "cell_type": "code",
   "execution_count": null,
   "metadata": {
    "colab": {
     "autoexec": {
      "startup": false,
      "wait_interval": 0
     }
    },
    "colab_type": "code",
    "id": "p3-zj0C71oDG"
   },
   "outputs": [],
   "source": [
    "log_data = np.log(s)"
   ]
  },
  {
   "cell_type": "code",
   "execution_count": 507,
   "metadata": {
    "colab": {
     "autoexec": {
      "startup": false,
      "wait_interval": 0
     },
     "base_uri": "https://localhost:8080/",
     "height": 451
    },
    "colab_type": "code",
    "executionInfo": {
     "elapsed": 290,
     "status": "ok",
     "timestamp": 1527146536288,
     "user": {
      "displayName": "Tairi Delgado",
      "photoUrl": "//lh6.googleusercontent.com/-l4lv-T3P6-c/AAAAAAAAAAI/AAAAAAAABIA/4wtQ8ehIzZw/s50-c-k-no/photo.jpg",
      "userId": "115188476170888991569"
     },
     "user_tz": 420
    },
    "id": "uMdo0zwVyi4K",
    "outputId": "0b7ee474-9e8d-43b3-de0f-270b1eac74da"
   },
   "outputs": [
    {
     "data": {
      "text/plain": [
       "array([-9.21034037e+00, -1.44183647e+00, -9.81102558e-01, -3.47770176e-01,\n",
       "        1.67200798e-01, -1.42439927e+00, -8.82617936e-03, -1.05741174e+00,\n",
       "       -9.21034037e+00, -1.07010356e+00, -1.06273217e-02, -2.47986612e+00,\n",
       "       -9.51176542e-02, -6.63763859e-01, -1.61488080e+00, -9.21034037e+00,\n",
       "       -1.85602311e+00,  2.63584953e-01, -1.20225527e-01,  5.62193492e-02,\n",
       "       -5.11577937e-01, -1.24954220e-01,  4.29719032e-01,  3.91564877e-01,\n",
       "       -6.71519836e-01, -4.48202486e-01,  4.83173987e-02, -5.23203392e-01,\n",
       "       -9.21034037e+00, -9.89183422e-02, -1.84524906e+00,  3.30201377e-01,\n",
       "       -7.77393703e-02, -2.16982644e-01, -4.90270314e-01, -1.06569262e+00,\n",
       "       -7.28366483e-01,  1.16581297e-01, -7.33643910e-01, -5.88358366e-01,\n",
       "       -9.82385422e-01, -1.78627611e+00,  1.59783355e-01, -5.05720389e-01,\n",
       "       -7.81205560e-01, -4.69152562e-01, -1.28710545e-01, -1.17814559e+00,\n",
       "       -3.48871845e-01, -1.10009394e+00, -1.51976738e+00, -1.16407335e+00,\n",
       "        8.74091952e-01, -9.21034037e+00, -9.21034037e+00,  2.45095105e-01,\n",
       "       -1.34069209e+00, -1.02275216e+00, -9.77053676e-01, -1.41740243e-02,\n",
       "        8.01509302e-01, -8.96445201e-01,  1.07931572e-01,  4.72085984e-02,\n",
       "        2.83424105e-01,  4.60109728e-01, -7.60808305e-01, -1.84642852e-01,\n",
       "       -1.20580261e-01, -9.21034037e+00,  4.90497804e-01,  1.53718293e-01,\n",
       "       -3.76545026e-01,  5.71335391e-01, -4.20984514e-01,  8.64543282e-01,\n",
       "        2.31437535e-01, -5.38632221e-01, -9.24452369e-01, -9.21034037e+00,\n",
       "       -6.05563070e+00, -2.35137774e-01, -1.96864132e+00,  2.33588587e-02,\n",
       "       -4.79609782e-01, -2.16641878e-02, -4.67550382e-01,  9.76895033e-02,\n",
       "        4.96420534e-01, -1.07808804e+00, -1.59760709e+00,  2.65714527e-01,\n",
       "       -4.04162888e-01, -9.21034037e+00, -4.68297977e-01,  6.40256321e-01,\n",
       "       -7.71342006e-03,  3.09664464e-01, -1.09387849e-01, -1.61745409e+00])"
      ]
     },
     "execution_count": 507,
     "metadata": {
      "tags": []
     },
     "output_type": "execute_result"
    }
   ],
   "source": [
    "log_data[:100]"
   ]
  },
  {
   "cell_type": "code",
   "execution_count": 509,
   "metadata": {
    "colab": {
     "autoexec": {
      "startup": false,
      "wait_interval": 0
     },
     "base_uri": "https://localhost:8080/",
     "height": 347
    },
    "colab_type": "code",
    "executionInfo": {
     "elapsed": 431,
     "status": "ok",
     "timestamp": 1527146573465,
     "user": {
      "displayName": "Tairi Delgado",
      "photoUrl": "//lh6.googleusercontent.com/-l4lv-T3P6-c/AAAAAAAAAAI/AAAAAAAABIA/4wtQ8ehIzZw/s50-c-k-no/photo.jpg",
      "userId": "115188476170888991569"
     },
     "user_tz": 420
    },
    "id": "k5jsMwvPBzip",
    "outputId": "fc3bdb10-4163-4313-ce11-b3192e3cf50e"
   },
   "outputs": [
    {
     "data": {
      "image/png": "[encoded data removed]",
      "text/plain": [
       "<matplotlib.figure.Figure at 0x7f6591578d90>"
      ]
     },
     "metadata": {
      "tags": []
     },
     "output_type": "display_data"
    }
   ],
   "source": [
    "import matplotlib.pyplot as plt\n",
    "count, bins, ignored = plt.hist(s, 30, normed=True)\n",
    "plt.show()"
   ]
  },
  {
   "cell_type": "code",
   "execution_count": 508,
   "metadata": {
    "colab": {
     "autoexec": {
      "startup": false,
      "wait_interval": 0
     },
     "base_uri": "https://localhost:8080/",
     "height": 347
    },
    "colab_type": "code",
    "executionInfo": {
     "elapsed": 414,
     "status": "ok",
     "timestamp": 1527146538579,
     "user": {
      "displayName": "Tairi Delgado",
      "photoUrl": "//lh6.googleusercontent.com/-l4lv-T3P6-c/AAAAAAAAAAI/AAAAAAAABIA/4wtQ8ehIzZw/s50-c-k-no/photo.jpg",
      "userId": "115188476170888991569"
     },
     "user_tz": 420
    },
    "id": "272ZMrOsA7pM",
    "outputId": "3da4ecb5-a97f-4290-f18a-4155431a22a8"
   },
   "outputs": [
    {
     "data": {
      "image/png": "[encoded data removed]",
      "text/plain": [
       "<matplotlib.figure.Figure at 0x7f6591477510>"
      ]
     },
     "metadata": {
      "tags": []
     },
     "output_type": "display_data"
    }
   ],
   "source": [
    "import matplotlib.pyplot as plt\n",
    "count, bins, ignored = plt.hist(log_data, 30, normed=True)\n",
    "plt.show()"
   ]
  }
 ],
 "metadata": {
  "colab": {
   "collapsed_sections": [
    "_yJpwxogjR99",
    "3UDTWUjplzCW",
    "_9v3GPTBjjJ5",
    "1bqTverYjyBp",
    "86amWxc8k5oz",
    "iUZr6C3ek8Ed",
    "omTy4xsYlAAH",
    "hkvaIwaYlCTI"
   ],
   "default_view": {},
   "name": "Final Preparing and Transforming Data.ipynb",
   "provenance": [],
   "version": "0.3.2",
   "views": {}
  },
  "kernelspec": {
   "display_name": "Python 3",
   "language": "python",
   "name": "python3"
  },
  "language_info": {
   "codemirror_mode": {
    "name": "ipython",
    "version": 3
   },
   "file_extension": ".py",
   "mimetype": "text/x-python",
   "name": "python",
   "nbconvert_exporter": "python",
   "pygments_lexer": "ipython3",
   "version": "3.6.4"
  }
 },
 "nbformat": 4,
 "nbformat_minor": 2
}
