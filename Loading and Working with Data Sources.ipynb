{
 "cells": [
  {
   "cell_type": "markdown",
   "metadata": {
    "colab_type": "text",
    "id": "f4pNZKHjQQp0"
   },
   "source": [
    "# Loading and Working with Data Sources\n",
    "\n",
    "---"
   ]
  },
  {
   "cell_type": "markdown",
   "metadata": {
    "colab_type": "text",
    "id": "NlaHmNs3DKu5"
   },
   "source": [
    "## Create, Download, Upload, and Modify Text Files"
   ]
  },
  {
   "cell_type": "markdown",
   "metadata": {
    "colab_type": "text",
    "id": "pLwn3GdmBGwC"
   },
   "source": [
    "**Create a text file:**"
   ]
  },
  {
   "cell_type": "code",
   "execution_count": 0,
   "metadata": {
    "colab": {
     "autoexec": {
      "startup": false,
      "wait_interval": 0
     }
    },
    "colab_type": "code",
    "id": "Y8fhrzJaEc0b"
   },
   "outputs": [],
   "source": [
    "with open('example.txt', 'w') as file:\n",
    "  file.write('Some content.\\n')\n",
    "  file.close()"
   ]
  },
  {
   "cell_type": "markdown",
   "metadata": {
    "colab_type": "text",
    "id": "9a5d6RcqBStY"
   },
   "source": [
    "**Download a text file:**"
   ]
  },
  {
   "cell_type": "code",
   "execution_count": 0,
   "metadata": {
    "colab": {
     "autoexec": {
      "startup": false,
      "wait_interval": 0
     }
    },
    "colab_type": "code",
    "id": "PR-1NWOpE8Gf"
   },
   "outputs": [],
   "source": [
    "from google.colab import files\n",
    "files.download('example.txt')"
   ]
  },
  {
   "cell_type": "markdown",
   "metadata": {
    "colab_type": "text",
    "id": "Csl7G1xABW-m"
   },
   "source": [
    "**Upload a text file:**"
   ]
  },
  {
   "cell_type": "code",
   "execution_count": 22,
   "metadata": {
    "colab": {
     "autoexec": {
      "startup": false,
      "wait_interval": 0
     },
     "base_uri": "https://localhost:8080/",
     "height": 86
    },
    "colab_type": "code",
    "executionInfo": {
     "elapsed": 7321,
     "status": "ok",
     "timestamp": 1531518890934,
     "user": {
      "displayName": "Tairi Delgado",
      "photoUrl": "//lh6.googleusercontent.com/-l4lv-T3P6-c/AAAAAAAAAAI/AAAAAAAABIA/4wtQ8ehIzZw/s50-c-k-no/photo.jpg",
      "userId": "115188476170888991569"
     },
     "user_tz": 420
    },
    "id": "TdUqC3mGFgTz",
    "outputId": "94c9e5e0-52ea-4c47-983e-162ab97d89bf"
   },
   "outputs": [
    {
     "data": {
      "text/html": [
       "\n",
       "     <input type=\"file\" id=\"files-17c684f1-a51e-40eb-9c42-67eea28957fb\" name=\"files[]\" multiple disabled />\n",
       "     <output id=\"result-17c684f1-a51e-40eb-9c42-67eea28957fb\">\n",
       "      Upload widget is only available when the cell has been executed in the\n",
       "      current browser session. Please rerun this cell to enable.\n",
       "      </output>\n",
       "      <script src=\"/nbextensions/google.colab/files.js\"></script> "
      ],
      "text/plain": [
       "<IPython.core.display.HTML object>"
      ]
     },
     "metadata": {
      "tags": []
     },
     "output_type": "display_data"
    },
    {
     "name": "stdout",
     "output_type": "stream",
     "text": [
      "Saving example.txt to example (1).txt\n",
      "User uploaded file \"example.txt\" with length 14 bytes\n"
     ]
    }
   ],
   "source": [
    "uploaded = files.upload()\n",
    "\n",
    "for fn in uploaded.keys():\n",
    "  print('User uploaded file \"{name}\" with length {length} bytes'.format(name=fn, length=len(uploaded[fn])))"
   ]
  },
  {
   "cell_type": "markdown",
   "metadata": {
    "colab_type": "text",
    "id": "NlcVpmdqBbrQ"
   },
   "source": [
    "**Display list of uploaded files:**"
   ]
  },
  {
   "cell_type": "code",
   "execution_count": 23,
   "metadata": {
    "colab": {
     "autoexec": {
      "startup": false,
      "wait_interval": 0
     },
     "base_uri": "https://localhost:8080/",
     "height": 34
    },
    "colab_type": "code",
    "executionInfo": {
     "elapsed": 544,
     "status": "ok",
     "timestamp": 1531518899474,
     "user": {
      "displayName": "Tairi Delgado",
      "photoUrl": "//lh6.googleusercontent.com/-l4lv-T3P6-c/AAAAAAAAAAI/AAAAAAAABIA/4wtQ8ehIzZw/s50-c-k-no/photo.jpg",
      "userId": "115188476170888991569"
     },
     "user_tz": 420
    },
    "id": "pjQyQjbuGIdc",
    "outputId": "c214996f-79d5-4325-9f9c-f1d4757040ab"
   },
   "outputs": [
    {
     "name": "stdout",
     "output_type": "stream",
     "text": [
      "{'example.txt': b'Some content.\\n'}\n"
     ]
    }
   ],
   "source": [
    "print(uploaded)"
   ]
  },
  {
   "cell_type": "markdown",
   "metadata": {
    "colab_type": "text",
    "id": "Raoms1FABh6A"
   },
   "source": [
    "**Append text files:**"
   ]
  },
  {
   "cell_type": "code",
   "execution_count": 0,
   "metadata": {
    "colab": {
     "autoexec": {
      "startup": false,
      "wait_interval": 0
     }
    },
    "colab_type": "code",
    "id": "RgdW0feJGU7-"
   },
   "outputs": [],
   "source": [
    "with open('example.txt', 'a') as file:\n",
    "  file.write('Some additional content.')\n",
    "  file.close()"
   ]
  },
  {
   "cell_type": "code",
   "execution_count": 25,
   "metadata": {
    "colab": {
     "autoexec": {
      "startup": false,
      "wait_interval": 0
     },
     "base_uri": "https://localhost:8080/",
     "height": 51
    },
    "colab_type": "code",
    "executionInfo": {
     "elapsed": 316,
     "status": "ok",
     "timestamp": 1531518905822,
     "user": {
      "displayName": "Tairi Delgado",
      "photoUrl": "//lh6.googleusercontent.com/-l4lv-T3P6-c/AAAAAAAAAAI/AAAAAAAABIA/4wtQ8ehIzZw/s50-c-k-no/photo.jpg",
      "userId": "115188476170888991569"
     },
     "user_tz": 420
    },
    "id": "j3fkIexxG0s1",
    "outputId": "afc2ab31-34c2-43e1-9776-90c1d1829bfe"
   },
   "outputs": [
    {
     "name": "stdout",
     "output_type": "stream",
     "text": [
      "Some content.\n",
      "Some additional content.\n"
     ]
    }
   ],
   "source": [
    "with open('example.txt', 'r') as file:\n",
    "  print(file.read())\n",
    "  file.close()"
   ]
  },
  {
   "cell_type": "markdown",
   "metadata": {
    "colab_type": "text",
    "id": "F3DMJZ1MDT-o"
   },
   "source": [
    "## Upload and Read CSV and TSV Files"
   ]
  },
  {
   "cell_type": "markdown",
   "metadata": {
    "colab_type": "text",
    "id": "wqMZA31uBpLN"
   },
   "source": [
    "**Load CSV file:**"
   ]
  },
  {
   "cell_type": "code",
   "execution_count": 37,
   "metadata": {
    "colab": {
     "autoexec": {
      "startup": false,
      "wait_interval": 0
     },
     "base_uri": "https://localhost:8080/",
     "height": 69
    },
    "colab_type": "code",
    "executionInfo": {
     "elapsed": 10292,
     "status": "ok",
     "timestamp": 1531519301276,
     "user": {
      "displayName": "Tairi Delgado",
      "photoUrl": "//lh6.googleusercontent.com/-l4lv-T3P6-c/AAAAAAAAAAI/AAAAAAAABIA/4wtQ8ehIzZw/s50-c-k-no/photo.jpg",
      "userId": "115188476170888991569"
     },
     "user_tz": 420
    },
    "id": "XhpzLGoFHzl3",
    "outputId": "d98006d1-0771-4eed-971b-26776ca2658a"
   },
   "outputs": [
    {
     "data": {
      "text/html": [
       "\n",
       "     <input type=\"file\" id=\"files-5ba087cc-eb08-4531-b1c4-e4a3c5fe123f\" name=\"files[]\" multiple disabled />\n",
       "     <output id=\"result-5ba087cc-eb08-4531-b1c4-e4a3c5fe123f\">\n",
       "      Upload widget is only available when the cell has been executed in the\n",
       "      current browser session. Please rerun this cell to enable.\n",
       "      </output>\n",
       "      <script src=\"/nbextensions/google.colab/files.js\"></script> "
      ],
      "text/plain": [
       "<IPython.core.display.HTML object>"
      ]
     },
     "metadata": {
      "tags": []
     },
     "output_type": "display_data"
    },
    {
     "name": "stdout",
     "output_type": "stream",
     "text": [
      "Saving Sales - Employee.csv to Sales - Employee.csv\n"
     ]
    }
   ],
   "source": [
    "from google.colab import files\n",
    "import pandas as pd\n",
    "\n",
    "uploaded = files.upload()"
   ]
  },
  {
   "cell_type": "markdown",
   "metadata": {
    "colab_type": "text",
    "id": "bL2tVNkHB1e4"
   },
   "source": [
    "**Print out raw data:**"
   ]
  },
  {
   "cell_type": "code",
   "execution_count": 38,
   "metadata": {
    "colab": {
     "autoexec": {
      "startup": false,
      "wait_interval": 0
     },
     "base_uri": "https://localhost:8080/",
     "height": 54
    },
    "colab_type": "code",
    "executionInfo": {
     "elapsed": 312,
     "status": "ok",
     "timestamp": 1531519304393,
     "user": {
      "displayName": "Tairi Delgado",
      "photoUrl": "//lh6.googleusercontent.com/-l4lv-T3P6-c/AAAAAAAAAAI/AAAAAAAABIA/4wtQ8ehIzZw/s50-c-k-no/photo.jpg",
      "userId": "115188476170888991569"
     },
     "user_tz": 420
    },
    "id": "tgQbeFhZIHXu",
    "outputId": "4ed767ba-c935-4525-9864-f19a4b32cb47"
   },
   "outputs": [
    {
     "name": "stdout",
     "output_type": "stream",
     "text": [
      "{'Sales - Employee.csv': b'Employee ID,First Name,Last Name,Department,City\\r\\n10001,Daniel,Olson,Electronics,San Francisco\\r\\n10002,Nick,Markmen,Clothes,San Francisco\\r\\n10003,Maria,Gonzales,Electronics,San Jose\\r\\n10004,George,Wong,Clothes,San Francisco\\r\\n10005,Stephanie,Williams,Clothes,Oakland\\r\\n10006,Miguel,Alva,Clothes,Oakland\\r\\n10007,Jessica,Collins,Cosmetics,San Francisco\\r\\n10008,Ted,Anderson,Clothes,Oakland\\r\\n10009,Victoria,Garcia,Clothes,San Jose\\r\\n10010,Jasmine,Khan,\"Pharmacy, Health & Beauty\",Oakland\\r\\n10011,Adam,Smith,\"Pharmacy, Health & Beauty\",San Jose\\r\\n10012,Rachel,Kim,Electronics,San Jose'}\n"
     ]
    }
   ],
   "source": [
    "print(uploaded)"
   ]
  },
  {
   "cell_type": "markdown",
   "metadata": {
    "colab_type": "text",
    "id": "HkGrmcHNCBAZ"
   },
   "source": [
    "**Read CSV file:**"
   ]
  },
  {
   "cell_type": "code",
   "execution_count": 39,
   "metadata": {
    "colab": {
     "autoexec": {
      "startup": false,
      "wait_interval": 0
     },
     "base_uri": "https://localhost:8080/",
     "height": 238
    },
    "colab_type": "code",
    "executionInfo": {
     "elapsed": 280,
     "status": "ok",
     "timestamp": 1531519310119,
     "user": {
      "displayName": "Tairi Delgado",
      "photoUrl": "//lh6.googleusercontent.com/-l4lv-T3P6-c/AAAAAAAAAAI/AAAAAAAABIA/4wtQ8ehIzZw/s50-c-k-no/photo.jpg",
      "userId": "115188476170888991569"
     },
     "user_tz": 420
    },
    "id": "nI4xZnxNISNm",
    "outputId": "a5d24bc5-8b1e-494a-89f2-713123b9c10d"
   },
   "outputs": [
    {
     "name": "stdout",
     "output_type": "stream",
     "text": [
      "Employee ID,First Name,Last Name,Department,City\n",
      "10001,Daniel,Olson,Electronics,San Francisco\n",
      "10002,Nick,Markmen,Clothes,San Francisco\n",
      "10003,Maria,Gonzales,Electronics,San Jose\n",
      "10004,George,Wong,Clothes,San Francisco\n",
      "10005,Stephanie,Williams,Clothes,Oakland\n",
      "10006,Miguel,Alva,Clothes,Oakland\n",
      "10007,Jessica,Collins,Cosmetics,San Francisco\n",
      "10008,Ted,Anderson,Clothes,Oakland\n",
      "10009,Victoria,Garcia,Clothes,San Jose\n",
      "10010,Jasmine,Khan,\"Pharmacy, Health & Beauty\",Oakland\n",
      "10011,Adam,Smith,\"Pharmacy, Health & Beauty\",San Jose\n",
      "10012,Rachel,Kim,Electronics,San Jose\n"
     ]
    }
   ],
   "source": [
    "with open('Sales - Employee.csv', 'r') as file:\n",
    "  print(file.read())\n",
    "  file.close()"
   ]
  },
  {
   "cell_type": "markdown",
   "metadata": {
    "colab_type": "text",
    "id": "MBzCmEKvCIIs"
   },
   "source": [
    "**Read CSV file into a Pandas Dataframe:**"
   ]
  },
  {
   "cell_type": "code",
   "execution_count": 40,
   "metadata": {
    "colab": {
     "autoexec": {
      "startup": false,
      "wait_interval": 0
     },
     "base_uri": "https://localhost:8080/",
     "height": 421
    },
    "colab_type": "code",
    "executionInfo": {
     "elapsed": 312,
     "status": "ok",
     "timestamp": 1531519313878,
     "user": {
      "displayName": "Tairi Delgado",
      "photoUrl": "//lh6.googleusercontent.com/-l4lv-T3P6-c/AAAAAAAAAAI/AAAAAAAABIA/4wtQ8ehIzZw/s50-c-k-no/photo.jpg",
      "userId": "115188476170888991569"
     },
     "user_tz": 420
    },
    "id": "TzybTSq1IwL-",
    "outputId": "17f0949d-4e29-4ea6-b421-8403b5502ecc"
   },
   "outputs": [
    {
     "data": {
      "text/html": [
       "<div>\n",
       "<style scoped>\n",
       "    .dataframe tbody tr th:only-of-type {\n",
       "        vertical-align: middle;\n",
       "    }\n",
       "\n",
       "    .dataframe tbody tr th {\n",
       "        vertical-align: top;\n",
       "    }\n",
       "\n",
       "    .dataframe thead th {\n",
       "        text-align: right;\n",
       "    }\n",
       "</style>\n",
       "<table border=\"1\" class=\"dataframe\">\n",
       "  <thead>\n",
       "    <tr style=\"text-align: right;\">\n",
       "      <th></th>\n",
       "      <th>Employee ID</th>\n",
       "      <th>First Name</th>\n",
       "      <th>Last Name</th>\n",
       "      <th>Department</th>\n",
       "      <th>City</th>\n",
       "    </tr>\n",
       "  </thead>\n",
       "  <tbody>\n",
       "    <tr>\n",
       "      <th>0</th>\n",
       "      <td>10001</td>\n",
       "      <td>Daniel</td>\n",
       "      <td>Olson</td>\n",
       "      <td>Electronics</td>\n",
       "      <td>San Francisco</td>\n",
       "    </tr>\n",
       "    <tr>\n",
       "      <th>1</th>\n",
       "      <td>10002</td>\n",
       "      <td>Nick</td>\n",
       "      <td>Markmen</td>\n",
       "      <td>Clothes</td>\n",
       "      <td>San Francisco</td>\n",
       "    </tr>\n",
       "    <tr>\n",
       "      <th>2</th>\n",
       "      <td>10003</td>\n",
       "      <td>Maria</td>\n",
       "      <td>Gonzales</td>\n",
       "      <td>Electronics</td>\n",
       "      <td>San Jose</td>\n",
       "    </tr>\n",
       "    <tr>\n",
       "      <th>3</th>\n",
       "      <td>10004</td>\n",
       "      <td>George</td>\n",
       "      <td>Wong</td>\n",
       "      <td>Clothes</td>\n",
       "      <td>San Francisco</td>\n",
       "    </tr>\n",
       "    <tr>\n",
       "      <th>4</th>\n",
       "      <td>10005</td>\n",
       "      <td>Stephanie</td>\n",
       "      <td>Williams</td>\n",
       "      <td>Clothes</td>\n",
       "      <td>Oakland</td>\n",
       "    </tr>\n",
       "    <tr>\n",
       "      <th>5</th>\n",
       "      <td>10006</td>\n",
       "      <td>Miguel</td>\n",
       "      <td>Alva</td>\n",
       "      <td>Clothes</td>\n",
       "      <td>Oakland</td>\n",
       "    </tr>\n",
       "    <tr>\n",
       "      <th>6</th>\n",
       "      <td>10007</td>\n",
       "      <td>Jessica</td>\n",
       "      <td>Collins</td>\n",
       "      <td>Cosmetics</td>\n",
       "      <td>San Francisco</td>\n",
       "    </tr>\n",
       "    <tr>\n",
       "      <th>7</th>\n",
       "      <td>10008</td>\n",
       "      <td>Ted</td>\n",
       "      <td>Anderson</td>\n",
       "      <td>Clothes</td>\n",
       "      <td>Oakland</td>\n",
       "    </tr>\n",
       "    <tr>\n",
       "      <th>8</th>\n",
       "      <td>10009</td>\n",
       "      <td>Victoria</td>\n",
       "      <td>Garcia</td>\n",
       "      <td>Clothes</td>\n",
       "      <td>San Jose</td>\n",
       "    </tr>\n",
       "    <tr>\n",
       "      <th>9</th>\n",
       "      <td>10010</td>\n",
       "      <td>Jasmine</td>\n",
       "      <td>Khan</td>\n",
       "      <td>Pharmacy, Health &amp; Beauty</td>\n",
       "      <td>Oakland</td>\n",
       "    </tr>\n",
       "    <tr>\n",
       "      <th>10</th>\n",
       "      <td>10011</td>\n",
       "      <td>Adam</td>\n",
       "      <td>Smith</td>\n",
       "      <td>Pharmacy, Health &amp; Beauty</td>\n",
       "      <td>San Jose</td>\n",
       "    </tr>\n",
       "    <tr>\n",
       "      <th>11</th>\n",
       "      <td>10012</td>\n",
       "      <td>Rachel</td>\n",
       "      <td>Kim</td>\n",
       "      <td>Electronics</td>\n",
       "      <td>San Jose</td>\n",
       "    </tr>\n",
       "  </tbody>\n",
       "</table>\n",
       "</div>"
      ],
      "text/plain": [
       "    Employee ID First Name Last Name                 Department           City\n",
       "0         10001     Daniel     Olson                Electronics  San Francisco\n",
       "1         10002       Nick   Markmen                    Clothes  San Francisco\n",
       "2         10003      Maria  Gonzales                Electronics       San Jose\n",
       "3         10004     George      Wong                    Clothes  San Francisco\n",
       "4         10005  Stephanie  Williams                    Clothes        Oakland\n",
       "5         10006     Miguel      Alva                    Clothes        Oakland\n",
       "6         10007    Jessica   Collins                  Cosmetics  San Francisco\n",
       "7         10008        Ted  Anderson                    Clothes        Oakland\n",
       "8         10009   Victoria    Garcia                    Clothes       San Jose\n",
       "9         10010    Jasmine      Khan  Pharmacy, Health & Beauty        Oakland\n",
       "10        10011       Adam     Smith  Pharmacy, Health & Beauty       San Jose\n",
       "11        10012     Rachel       Kim                Electronics       San Jose"
      ]
     },
     "metadata": {
      "tags": []
     },
     "output_type": "display_data"
    }
   ],
   "source": [
    "import io\n",
    "from IPython.display import display, HTML\n",
    "df = pd.read_csv(io.StringIO(uploaded['Sales - Employee.csv'].decode('utf-8')))\n",
    "display(df)"
   ]
  },
  {
   "cell_type": "markdown",
   "metadata": {
    "colab_type": "text",
    "id": "FQZdpTJtCVOU"
   },
   "source": [
    "**Load and read TSV file:**"
   ]
  },
  {
   "cell_type": "code",
   "execution_count": 41,
   "metadata": {
    "colab": {
     "autoexec": {
      "startup": false,
      "wait_interval": 0
     },
     "base_uri": "https://localhost:8080/",
     "height": 69
    },
    "colab_type": "code",
    "executionInfo": {
     "elapsed": 6168,
     "status": "ok",
     "timestamp": 1531519327753,
     "user": {
      "displayName": "Tairi Delgado",
      "photoUrl": "//lh6.googleusercontent.com/-l4lv-T3P6-c/AAAAAAAAAAI/AAAAAAAABIA/4wtQ8ehIzZw/s50-c-k-no/photo.jpg",
      "userId": "115188476170888991569"
     },
     "user_tz": 420
    },
    "id": "ov8AeaXvJ79O",
    "outputId": "f7facbf5-0070-4266-ce35-10efefaf2157"
   },
   "outputs": [
    {
     "data": {
      "text/html": [
       "\n",
       "     <input type=\"file\" id=\"files-afc38a3d-b250-4b90-8219-a11d746f6f68\" name=\"files[]\" multiple disabled />\n",
       "     <output id=\"result-afc38a3d-b250-4b90-8219-a11d746f6f68\">\n",
       "      Upload widget is only available when the cell has been executed in the\n",
       "      current browser session. Please rerun this cell to enable.\n",
       "      </output>\n",
       "      <script src=\"/nbextensions/google.colab/files.js\"></script> "
      ],
      "text/plain": [
       "<IPython.core.display.HTML object>"
      ]
     },
     "metadata": {
      "tags": []
     },
     "output_type": "display_data"
    },
    {
     "name": "stdout",
     "output_type": "stream",
     "text": [
      "Saving Sales - Employee.tsv to Sales - Employee.tsv\n"
     ]
    }
   ],
   "source": [
    "uploaded = files.upload()"
   ]
  },
  {
   "cell_type": "code",
   "execution_count": 42,
   "metadata": {
    "colab": {
     "autoexec": {
      "startup": false,
      "wait_interval": 0
     },
     "base_uri": "https://localhost:8080/",
     "height": 238
    },
    "colab_type": "code",
    "executionInfo": {
     "elapsed": 550,
     "status": "ok",
     "timestamp": 1531519330212,
     "user": {
      "displayName": "Tairi Delgado",
      "photoUrl": "//lh6.googleusercontent.com/-l4lv-T3P6-c/AAAAAAAAAAI/AAAAAAAABIA/4wtQ8ehIzZw/s50-c-k-no/photo.jpg",
      "userId": "115188476170888991569"
     },
     "user_tz": 420
    },
    "id": "CMTsr17xKFTf",
    "outputId": "a7420d9b-118a-4906-88a1-f779e3fa4571"
   },
   "outputs": [
    {
     "name": "stdout",
     "output_type": "stream",
     "text": [
      "Employee ID\tFirst Name\tLast Name\tDepartment\tCity\n",
      "10001\tDaniel\tOlson\tElectronics\tSan Francisco\n",
      "10002\tNick\tMarkmen\tClothes\tSan Francisco\n",
      "10003\tMaria\tGonzales\tElectronics\tSan Jose\n",
      "10004\tGeorge\tWong\tClothes\tSan Francisco\n",
      "10005\tStephanie\tWilliams\tClothes\tOakland\n",
      "10006\tMiguel\tAlva\tClothes\tOakland\n",
      "10007\tJessica\tCollins\tCosmetics\tSan Francisco\n",
      "10008\tTed\tAnderson\tClothes\tOakland\n",
      "10009\tVictoria\tGarcia\tClothes\tSan Jose\n",
      "10010\tJasmine\tKhan\tPharmacy, Health & Beauty\tOakland\n",
      "10011\tAdam\tSmith\tPharmacy, Health & Beauty\tSan Jose\n",
      "10012\tRachel\tKim\tElectronics\tSan Jose\n"
     ]
    }
   ],
   "source": [
    "with open('Sales - Employee.tsv', 'r') as file:\n",
    "  print(file.read())\n",
    "  file.close()"
   ]
  },
  {
   "cell_type": "markdown",
   "metadata": {
    "colab_type": "text",
    "id": "cC-5FqLTCdaa"
   },
   "source": [
    "**Load TSV file into Pandas Dataframe:**"
   ]
  },
  {
   "cell_type": "code",
   "execution_count": 43,
   "metadata": {
    "colab": {
     "autoexec": {
      "startup": false,
      "wait_interval": 0
     },
     "base_uri": "https://localhost:8080/",
     "height": 421
    },
    "colab_type": "code",
    "executionInfo": {
     "elapsed": 319,
     "status": "ok",
     "timestamp": 1531519337826,
     "user": {
      "displayName": "Tairi Delgado",
      "photoUrl": "//lh6.googleusercontent.com/-l4lv-T3P6-c/AAAAAAAAAAI/AAAAAAAABIA/4wtQ8ehIzZw/s50-c-k-no/photo.jpg",
      "userId": "115188476170888991569"
     },
     "user_tz": 420
    },
    "id": "JssWovIOKs_C",
    "outputId": "9c4c6200-3067-40a7-a28b-b8389499f9b7"
   },
   "outputs": [
    {
     "data": {
      "text/html": [
       "<div>\n",
       "<style scoped>\n",
       "    .dataframe tbody tr th:only-of-type {\n",
       "        vertical-align: middle;\n",
       "    }\n",
       "\n",
       "    .dataframe tbody tr th {\n",
       "        vertical-align: top;\n",
       "    }\n",
       "\n",
       "    .dataframe thead th {\n",
       "        text-align: right;\n",
       "    }\n",
       "</style>\n",
       "<table border=\"1\" class=\"dataframe\">\n",
       "  <thead>\n",
       "    <tr style=\"text-align: right;\">\n",
       "      <th></th>\n",
       "      <th>Employee ID</th>\n",
       "      <th>First Name</th>\n",
       "      <th>Last Name</th>\n",
       "      <th>Department</th>\n",
       "      <th>City</th>\n",
       "    </tr>\n",
       "  </thead>\n",
       "  <tbody>\n",
       "    <tr>\n",
       "      <th>0</th>\n",
       "      <td>10001</td>\n",
       "      <td>Daniel</td>\n",
       "      <td>Olson</td>\n",
       "      <td>Electronics</td>\n",
       "      <td>San Francisco</td>\n",
       "    </tr>\n",
       "    <tr>\n",
       "      <th>1</th>\n",
       "      <td>10002</td>\n",
       "      <td>Nick</td>\n",
       "      <td>Markmen</td>\n",
       "      <td>Clothes</td>\n",
       "      <td>San Francisco</td>\n",
       "    </tr>\n",
       "    <tr>\n",
       "      <th>2</th>\n",
       "      <td>10003</td>\n",
       "      <td>Maria</td>\n",
       "      <td>Gonzales</td>\n",
       "      <td>Electronics</td>\n",
       "      <td>San Jose</td>\n",
       "    </tr>\n",
       "    <tr>\n",
       "      <th>3</th>\n",
       "      <td>10004</td>\n",
       "      <td>George</td>\n",
       "      <td>Wong</td>\n",
       "      <td>Clothes</td>\n",
       "      <td>San Francisco</td>\n",
       "    </tr>\n",
       "    <tr>\n",
       "      <th>4</th>\n",
       "      <td>10005</td>\n",
       "      <td>Stephanie</td>\n",
       "      <td>Williams</td>\n",
       "      <td>Clothes</td>\n",
       "      <td>Oakland</td>\n",
       "    </tr>\n",
       "    <tr>\n",
       "      <th>5</th>\n",
       "      <td>10006</td>\n",
       "      <td>Miguel</td>\n",
       "      <td>Alva</td>\n",
       "      <td>Clothes</td>\n",
       "      <td>Oakland</td>\n",
       "    </tr>\n",
       "    <tr>\n",
       "      <th>6</th>\n",
       "      <td>10007</td>\n",
       "      <td>Jessica</td>\n",
       "      <td>Collins</td>\n",
       "      <td>Cosmetics</td>\n",
       "      <td>San Francisco</td>\n",
       "    </tr>\n",
       "    <tr>\n",
       "      <th>7</th>\n",
       "      <td>10008</td>\n",
       "      <td>Ted</td>\n",
       "      <td>Anderson</td>\n",
       "      <td>Clothes</td>\n",
       "      <td>Oakland</td>\n",
       "    </tr>\n",
       "    <tr>\n",
       "      <th>8</th>\n",
       "      <td>10009</td>\n",
       "      <td>Victoria</td>\n",
       "      <td>Garcia</td>\n",
       "      <td>Clothes</td>\n",
       "      <td>San Jose</td>\n",
       "    </tr>\n",
       "    <tr>\n",
       "      <th>9</th>\n",
       "      <td>10010</td>\n",
       "      <td>Jasmine</td>\n",
       "      <td>Khan</td>\n",
       "      <td>Pharmacy, Health &amp; Beauty</td>\n",
       "      <td>Oakland</td>\n",
       "    </tr>\n",
       "    <tr>\n",
       "      <th>10</th>\n",
       "      <td>10011</td>\n",
       "      <td>Adam</td>\n",
       "      <td>Smith</td>\n",
       "      <td>Pharmacy, Health &amp; Beauty</td>\n",
       "      <td>San Jose</td>\n",
       "    </tr>\n",
       "    <tr>\n",
       "      <th>11</th>\n",
       "      <td>10012</td>\n",
       "      <td>Rachel</td>\n",
       "      <td>Kim</td>\n",
       "      <td>Electronics</td>\n",
       "      <td>San Jose</td>\n",
       "    </tr>\n",
       "  </tbody>\n",
       "</table>\n",
       "</div>"
      ],
      "text/plain": [
       "    Employee ID First Name Last Name                 Department           City\n",
       "0         10001     Daniel     Olson                Electronics  San Francisco\n",
       "1         10002       Nick   Markmen                    Clothes  San Francisco\n",
       "2         10003      Maria  Gonzales                Electronics       San Jose\n",
       "3         10004     George      Wong                    Clothes  San Francisco\n",
       "4         10005  Stephanie  Williams                    Clothes        Oakland\n",
       "5         10006     Miguel      Alva                    Clothes        Oakland\n",
       "6         10007    Jessica   Collins                  Cosmetics  San Francisco\n",
       "7         10008        Ted  Anderson                    Clothes        Oakland\n",
       "8         10009   Victoria    Garcia                    Clothes       San Jose\n",
       "9         10010    Jasmine      Khan  Pharmacy, Health & Beauty        Oakland\n",
       "10        10011       Adam     Smith  Pharmacy, Health & Beauty       San Jose\n",
       "11        10012     Rachel       Kim                Electronics       San Jose"
      ]
     },
     "metadata": {
      "tags": []
     },
     "output_type": "display_data"
    }
   ],
   "source": [
    "df = pd.read_csv(io.StringIO(uploaded['Sales - Employee.tsv'].decode('utf-8')), sep='\\t')\n",
    "display(df)"
   ]
  },
  {
   "cell_type": "markdown",
   "metadata": {
    "colab_type": "text",
    "id": "UNQQhMkGCeh1"
   },
   "source": [
    "## **Load and read excel files:**"
   ]
  },
  {
   "cell_type": "markdown",
   "metadata": {
    "colab_type": "text",
    "id": "d44QeIIHDgKs"
   },
   "source": [
    "**Load Excel file:**"
   ]
  },
  {
   "cell_type": "code",
   "execution_count": 0,
   "metadata": {
    "colab": {
     "autoexec": {
      "startup": false,
      "wait_interval": 0
     }
    },
    "colab_type": "code",
    "id": "NJkDtsOBLQ44"
   },
   "outputs": [],
   "source": [
    "!pip3 install xlrd\n",
    "import xlrd"
   ]
  },
  {
   "cell_type": "code",
   "execution_count": 46,
   "metadata": {
    "colab": {
     "autoexec": {
      "startup": false,
      "wait_interval": 0
     },
     "base_uri": "https://localhost:8080/",
     "height": 69
    },
    "colab_type": "code",
    "executionInfo": {
     "elapsed": 7018,
     "status": "ok",
     "timestamp": 1531519366729,
     "user": {
      "displayName": "Tairi Delgado",
      "photoUrl": "//lh6.googleusercontent.com/-l4lv-T3P6-c/AAAAAAAAAAI/AAAAAAAABIA/4wtQ8ehIzZw/s50-c-k-no/photo.jpg",
      "userId": "115188476170888991569"
     },
     "user_tz": 420
    },
    "id": "Z5mhhYYjLzEB",
    "outputId": "2dd35c49-9b73-4bf6-bf88-1cc31c3d087b"
   },
   "outputs": [
    {
     "data": {
      "text/html": [
       "\n",
       "     <input type=\"file\" id=\"files-e4759b10-2994-46c1-a00a-e2c72500504f\" name=\"files[]\" multiple disabled />\n",
       "     <output id=\"result-e4759b10-2994-46c1-a00a-e2c72500504f\">\n",
       "      Upload widget is only available when the cell has been executed in the\n",
       "      current browser session. Please rerun this cell to enable.\n",
       "      </output>\n",
       "      <script src=\"/nbextensions/google.colab/files.js\"></script> "
      ],
      "text/plain": [
       "<IPython.core.display.HTML object>"
      ]
     },
     "metadata": {
      "tags": []
     },
     "output_type": "display_data"
    },
    {
     "name": "stdout",
     "output_type": "stream",
     "text": [
      "Saving Sales.xlsx to Sales.xlsx\n"
     ]
    }
   ],
   "source": [
    "uploaded = files.upload()"
   ]
  },
  {
   "cell_type": "markdown",
   "metadata": {
    "colab_type": "text",
    "id": "YTfnhsBDCjVz"
   },
   "source": [
    "**Load excel into Pandas and display data:**"
   ]
  },
  {
   "cell_type": "code",
   "execution_count": 47,
   "metadata": {
    "colab": {
     "autoexec": {
      "startup": false,
      "wait_interval": 0
     },
     "base_uri": "https://localhost:8080/",
     "height": 421
    },
    "colab_type": "code",
    "executionInfo": {
     "elapsed": 488,
     "status": "ok",
     "timestamp": 1531519369597,
     "user": {
      "displayName": "Tairi Delgado",
      "photoUrl": "//lh6.googleusercontent.com/-l4lv-T3P6-c/AAAAAAAAAAI/AAAAAAAABIA/4wtQ8ehIzZw/s50-c-k-no/photo.jpg",
      "userId": "115188476170888991569"
     },
     "user_tz": 420
    },
    "id": "uWatc38vL7pI",
    "outputId": "10cd33da-a4ef-47ba-b05f-37118bb4fb75"
   },
   "outputs": [
    {
     "data": {
      "text/html": [
       "<div>\n",
       "<style scoped>\n",
       "    .dataframe tbody tr th:only-of-type {\n",
       "        vertical-align: middle;\n",
       "    }\n",
       "\n",
       "    .dataframe tbody tr th {\n",
       "        vertical-align: top;\n",
       "    }\n",
       "\n",
       "    .dataframe thead th {\n",
       "        text-align: right;\n",
       "    }\n",
       "</style>\n",
       "<table border=\"1\" class=\"dataframe\">\n",
       "  <thead>\n",
       "    <tr style=\"text-align: right;\">\n",
       "      <th></th>\n",
       "      <th>Employee ID</th>\n",
       "      <th>First Name</th>\n",
       "      <th>Last Name</th>\n",
       "      <th>Department</th>\n",
       "      <th>City</th>\n",
       "    </tr>\n",
       "  </thead>\n",
       "  <tbody>\n",
       "    <tr>\n",
       "      <th>0</th>\n",
       "      <td>10001</td>\n",
       "      <td>Daniel</td>\n",
       "      <td>Olson</td>\n",
       "      <td>Electronics</td>\n",
       "      <td>San Francisco</td>\n",
       "    </tr>\n",
       "    <tr>\n",
       "      <th>1</th>\n",
       "      <td>10002</td>\n",
       "      <td>Nick</td>\n",
       "      <td>Markmen</td>\n",
       "      <td>Clothes</td>\n",
       "      <td>San Francisco</td>\n",
       "    </tr>\n",
       "    <tr>\n",
       "      <th>2</th>\n",
       "      <td>10003</td>\n",
       "      <td>Maria</td>\n",
       "      <td>Gonzales</td>\n",
       "      <td>Electronics</td>\n",
       "      <td>San Jose</td>\n",
       "    </tr>\n",
       "    <tr>\n",
       "      <th>3</th>\n",
       "      <td>10004</td>\n",
       "      <td>George</td>\n",
       "      <td>Wong</td>\n",
       "      <td>Clothes</td>\n",
       "      <td>San Francisco</td>\n",
       "    </tr>\n",
       "    <tr>\n",
       "      <th>4</th>\n",
       "      <td>10005</td>\n",
       "      <td>Stephanie</td>\n",
       "      <td>Williams</td>\n",
       "      <td>Clothes</td>\n",
       "      <td>Oakland</td>\n",
       "    </tr>\n",
       "    <tr>\n",
       "      <th>5</th>\n",
       "      <td>10006</td>\n",
       "      <td>Miguel</td>\n",
       "      <td>Alva</td>\n",
       "      <td>Clothes</td>\n",
       "      <td>Oakland</td>\n",
       "    </tr>\n",
       "    <tr>\n",
       "      <th>6</th>\n",
       "      <td>10007</td>\n",
       "      <td>Jessica</td>\n",
       "      <td>Collins</td>\n",
       "      <td>Cosmetics</td>\n",
       "      <td>San Francisco</td>\n",
       "    </tr>\n",
       "    <tr>\n",
       "      <th>7</th>\n",
       "      <td>10008</td>\n",
       "      <td>Ted</td>\n",
       "      <td>Anderson</td>\n",
       "      <td>Clothes</td>\n",
       "      <td>Oakland</td>\n",
       "    </tr>\n",
       "    <tr>\n",
       "      <th>8</th>\n",
       "      <td>10009</td>\n",
       "      <td>Victoria</td>\n",
       "      <td>Garcia</td>\n",
       "      <td>Clothes</td>\n",
       "      <td>San Jose</td>\n",
       "    </tr>\n",
       "    <tr>\n",
       "      <th>9</th>\n",
       "      <td>10010</td>\n",
       "      <td>Jasmine</td>\n",
       "      <td>Khan</td>\n",
       "      <td>Pharmacy, Health &amp; Beauty</td>\n",
       "      <td>Oakland</td>\n",
       "    </tr>\n",
       "    <tr>\n",
       "      <th>10</th>\n",
       "      <td>10011</td>\n",
       "      <td>Adam</td>\n",
       "      <td>Smith</td>\n",
       "      <td>Pharmacy, Health &amp; Beauty</td>\n",
       "      <td>San Jose</td>\n",
       "    </tr>\n",
       "    <tr>\n",
       "      <th>11</th>\n",
       "      <td>10012</td>\n",
       "      <td>Rachel</td>\n",
       "      <td>Kim</td>\n",
       "      <td>Electronics</td>\n",
       "      <td>San Jose</td>\n",
       "    </tr>\n",
       "  </tbody>\n",
       "</table>\n",
       "</div>"
      ],
      "text/plain": [
       "    Employee ID First Name Last Name                 Department           City\n",
       "0         10001     Daniel     Olson                Electronics  San Francisco\n",
       "1         10002       Nick   Markmen                    Clothes  San Francisco\n",
       "2         10003      Maria  Gonzales                Electronics       San Jose\n",
       "3         10004     George      Wong                    Clothes  San Francisco\n",
       "4         10005  Stephanie  Williams                    Clothes        Oakland\n",
       "5         10006     Miguel      Alva                    Clothes        Oakland\n",
       "6         10007    Jessica   Collins                  Cosmetics  San Francisco\n",
       "7         10008        Ted  Anderson                    Clothes        Oakland\n",
       "8         10009  Victoria     Garcia                    Clothes       San Jose\n",
       "9         10010    Jasmine      Khan  Pharmacy, Health & Beauty        Oakland\n",
       "10        10011       Adam     Smith  Pharmacy, Health & Beauty       San Jose\n",
       "11        10012     Rachel       Kim                Electronics       San Jose"
      ]
     },
     "metadata": {
      "tags": []
     },
     "output_type": "display_data"
    }
   ],
   "source": [
    "df = pd.read_excel(open('Sales.xlsx', 'rb'), sheet_name = 'Employee')\n",
    "display(df)"
   ]
  },
  {
   "cell_type": "markdown",
   "metadata": {
    "colab_type": "text",
    "id": "OJDUKogmCr5x"
   },
   "source": [
    "## Create and Upload Google Spreadsheet"
   ]
  },
  {
   "cell_type": "markdown",
   "metadata": {
    "colab_type": "text",
    "id": "0Sjmz2iWDqUy"
   },
   "source": [
    "**Give Colabs permission to access Google Drive:**"
   ]
  },
  {
   "cell_type": "code",
   "execution_count": 0,
   "metadata": {
    "colab": {
     "autoexec": {
      "startup": false,
      "wait_interval": 0
     }
    },
    "colab_type": "code",
    "id": "O5PgAD4bNlru"
   },
   "outputs": [],
   "source": [
    "!pip install --upgrade -q gspread\n",
    "\n",
    "from google.colab import auth\n",
    "auth.authenticate_user()\n",
    "import gspread\n",
    "from oauth2client.client import GoogleCredentials\n",
    "\n",
    "gc = gspread.authorize(GoogleCredentials.get_application_default())"
   ]
  },
  {
   "cell_type": "markdown",
   "metadata": {
    "colab_type": "text",
    "id": "xdJPhtZ1DwgI"
   },
   "source": [
    "**Create a new Google Spreadsheet:**"
   ]
  },
  {
   "cell_type": "code",
   "execution_count": 0,
   "metadata": {
    "colab": {
     "autoexec": {
      "startup": false,
      "wait_interval": 0
     }
    },
    "colab_type": "code",
    "id": "R2Whd52wfFXQ"
   },
   "outputs": [],
   "source": [
    "sh = gc.create('New Spreadsheet')"
   ]
  },
  {
   "cell_type": "markdown",
   "metadata": {
    "colab_type": "text",
    "id": "n9_Ug4aUD02e"
   },
   "source": [
    "**Add new data to spreadsheet:**"
   ]
  },
  {
   "cell_type": "code",
   "execution_count": 50,
   "metadata": {
    "colab": {
     "autoexec": {
      "startup": false,
      "wait_interval": 0
     },
     "base_uri": "https://localhost:8080/",
     "height": 102
    },
    "colab_type": "code",
    "executionInfo": {
     "elapsed": 2100,
     "status": "ok",
     "timestamp": 1531519423207,
     "user": {
      "displayName": "Tairi Delgado",
      "photoUrl": "//lh6.googleusercontent.com/-l4lv-T3P6-c/AAAAAAAAAAI/AAAAAAAABIA/4wtQ8ehIzZw/s50-c-k-no/photo.jpg",
      "userId": "115188476170888991569"
     },
     "user_tz": 420
    },
    "id": "fCkhC-4ihMIs",
    "outputId": "736bb9be-2b33-4cff-ca2c-85542e06ff34"
   },
   "outputs": [
    {
     "data": {
      "text/plain": [
       "{'spreadsheetId': '1dG-iSasgfeE-4N3i_gUjujI-m14W1fPO-l2-QI5qEzw',\n",
       " 'updatedCells': 6,\n",
       " 'updatedColumns': 3,\n",
       " 'updatedRange': 'Sheet1!A1:C2',\n",
       " 'updatedRows': 2}"
      ]
     },
     "execution_count": 50,
     "metadata": {
      "tags": []
     },
     "output_type": "execute_result"
    }
   ],
   "source": [
    "worksheet = gc.open('New Spreadsheet').sheet1\n",
    "\n",
    "cell_list = worksheet.range('A1:C2')\n",
    "\n",
    "import random\n",
    "for cell in cell_list:\n",
    "  cell.value = random.randint(1,10)\n",
    "  \n",
    "worksheet.update_cells(cell_list)"
   ]
  },
  {
   "cell_type": "markdown",
   "metadata": {
    "colab_type": "text",
    "id": "GU-lF93xD6e5"
   },
   "source": [
    "**Upload Google spreadsheet to Pandas Dataframe:**"
   ]
  },
  {
   "cell_type": "code",
   "execution_count": 51,
   "metadata": {
    "colab": {
     "autoexec": {
      "startup": false,
      "wait_interval": 0
     },
     "base_uri": "https://localhost:8080/",
     "height": 111
    },
    "colab_type": "code",
    "executionInfo": {
     "elapsed": 1640,
     "status": "ok",
     "timestamp": 1531519427913,
     "user": {
      "displayName": "Tairi Delgado",
      "photoUrl": "//lh6.googleusercontent.com/-l4lv-T3P6-c/AAAAAAAAAAI/AAAAAAAABIA/4wtQ8ehIzZw/s50-c-k-no/photo.jpg",
      "userId": "115188476170888991569"
     },
     "user_tz": 420
    },
    "id": "yFV3DQoOhu9x",
    "outputId": "752e0b27-30f5-40cf-b6b8-ce8fff33de16"
   },
   "outputs": [
    {
     "data": {
      "text/html": [
       "<div>\n",
       "<style scoped>\n",
       "    .dataframe tbody tr th:only-of-type {\n",
       "        vertical-align: middle;\n",
       "    }\n",
       "\n",
       "    .dataframe tbody tr th {\n",
       "        vertical-align: top;\n",
       "    }\n",
       "\n",
       "    .dataframe thead th {\n",
       "        text-align: right;\n",
       "    }\n",
       "</style>\n",
       "<table border=\"1\" class=\"dataframe\">\n",
       "  <thead>\n",
       "    <tr style=\"text-align: right;\">\n",
       "      <th></th>\n",
       "      <th>0</th>\n",
       "      <th>1</th>\n",
       "      <th>2</th>\n",
       "    </tr>\n",
       "  </thead>\n",
       "  <tbody>\n",
       "    <tr>\n",
       "      <th>0</th>\n",
       "      <td>5</td>\n",
       "      <td>9</td>\n",
       "      <td>5</td>\n",
       "    </tr>\n",
       "    <tr>\n",
       "      <th>1</th>\n",
       "      <td>9</td>\n",
       "      <td>8</td>\n",
       "      <td>1</td>\n",
       "    </tr>\n",
       "  </tbody>\n",
       "</table>\n",
       "</div>"
      ],
      "text/plain": [
       "   0  1  2\n",
       "0  5  9  5\n",
       "1  9  8  1"
      ]
     },
     "execution_count": 51,
     "metadata": {
      "tags": []
     },
     "output_type": "execute_result"
    }
   ],
   "source": [
    "worksheet = gc.open('New Spreadsheet').sheet1\n",
    "\n",
    "rows = worksheet.get_all_values()\n",
    "\n",
    "import pandas as pd\n",
    "pd.DataFrame.from_records(rows)"
   ]
  },
  {
   "cell_type": "markdown",
   "metadata": {
    "colab_type": "text",
    "id": "1Qh9T2JcxX3F"
   },
   "source": [
    "# Create and Modify SQLite Databases and Tables"
   ]
  },
  {
   "cell_type": "markdown",
   "metadata": {
    "colab_type": "text",
    "id": "L_NVn2u5xrJY"
   },
   "source": [
    "**Create an SQLite database:**"
   ]
  },
  {
   "cell_type": "code",
   "execution_count": 0,
   "metadata": {
    "colab": {
     "autoexec": {
      "startup": false,
      "wait_interval": 0
     }
    },
    "colab_type": "code",
    "id": "zkthu6sN0e6B"
   },
   "outputs": [],
   "source": [
    "# Deletes sales sql database in case we need to start from scratch\n",
    "# import os\n",
    "# os.remove('Sales.db')"
   ]
  },
  {
   "cell_type": "code",
   "execution_count": 0,
   "metadata": {
    "colab": {
     "autoexec": {
      "startup": false,
      "wait_interval": 0
     }
    },
    "colab_type": "code",
    "id": "3a9xU711QOYE"
   },
   "outputs": [],
   "source": [
    "open('Sales.db', 'w')\n",
    "from google.colab import files\n",
    "files.download('Sales.db')"
   ]
  },
  {
   "cell_type": "code",
   "execution_count": 147,
   "metadata": {
    "colab": {
     "autoexec": {
      "startup": false,
      "wait_interval": 0
     },
     "base_uri": "https://localhost:8080/",
     "height": 52,
     "resources": {
      "http://localhost:8080/nbextensions/google.colab/files.js": {
       "data": "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",
       "headers": [
        [
         "content-type",
         "application/javascript"
        ]
       ],
       "ok": true,
       "status": 200,
       "status_text": ""
      }
     }
    },
    "colab_type": "code",
    "executionInfo": {
     "elapsed": 11539,
     "status": "ok",
     "timestamp": 1531520435883,
     "user": {
      "displayName": "Tairi Delgado",
      "photoUrl": "//lh6.googleusercontent.com/-l4lv-T3P6-c/AAAAAAAAAAI/AAAAAAAABIA/4wtQ8ehIzZw/s50-c-k-no/photo.jpg",
      "userId": "115188476170888991569"
     },
     "user_tz": 420
    },
    "id": "Vhd_UtWMQ_xX",
    "outputId": "67c44e74-b0f7-4800-daa5-b3bc26e29e04"
   },
   "outputs": [
    {
     "data": {
      "text/html": [
       "\n",
       "     <input type=\"file\" id=\"files-774ff87d-8be2-44eb-93d2-2ec0c6f15cac\" name=\"files[]\" multiple disabled />\n",
       "     <output id=\"result-774ff87d-8be2-44eb-93d2-2ec0c6f15cac\">\n",
       "      Upload widget is only available when the cell has been executed in the\n",
       "      current browser session. Please rerun this cell to enable.\n",
       "      </output>\n",
       "      <script src=\"/nbextensions/google.colab/files.js\"></script> "
      ],
      "text/plain": [
       "<IPython.core.display.HTML object>"
      ]
     },
     "metadata": {
      "tags": []
     },
     "output_type": "display_data"
    }
   ],
   "source": [
    "from google.colab import files\n",
    "uploaded = files.upload()"
   ]
  },
  {
   "cell_type": "code",
   "execution_count": 0,
   "metadata": {
    "colab": {
     "autoexec": {
      "startup": false,
      "wait_interval": 0
     }
    },
    "colab_type": "code",
    "id": "wuk457uARKO4"
   },
   "outputs": [],
   "source": [
    "import sqlite3"
   ]
  },
  {
   "cell_type": "code",
   "execution_count": 0,
   "metadata": {
    "colab": {
     "autoexec": {
      "startup": false,
      "wait_interval": 0
     }
    },
    "colab_type": "code",
    "id": "uqaW70v0RaWt"
   },
   "outputs": [],
   "source": [
    "conn = sqlite3.connect('Sales.db')"
   ]
  },
  {
   "cell_type": "markdown",
   "metadata": {
    "colab_type": "text",
    "id": "-Pz_QxtRyI7S"
   },
   "source": [
    "**Create a table:**"
   ]
  },
  {
   "cell_type": "code",
   "execution_count": 0,
   "metadata": {
    "colab": {
     "autoexec": {
      "startup": false,
      "wait_interval": 0
     }
    },
    "colab_type": "code",
    "id": "o32GXXHYSHnO"
   },
   "outputs": [],
   "source": [
    "c = conn.cursor()"
   ]
  },
  {
   "cell_type": "code",
   "execution_count": 151,
   "metadata": {
    "colab": {
     "autoexec": {
      "startup": false,
      "wait_interval": 0
     },
     "base_uri": "https://localhost:8080/",
     "height": 34
    },
    "colab_type": "code",
    "executionInfo": {
     "elapsed": 290,
     "status": "ok",
     "timestamp": 1531520442548,
     "user": {
      "displayName": "Tairi Delgado",
      "photoUrl": "//lh6.googleusercontent.com/-l4lv-T3P6-c/AAAAAAAAAAI/AAAAAAAABIA/4wtQ8ehIzZw/s50-c-k-no/photo.jpg",
      "userId": "115188476170888991569"
     },
     "user_tz": 420
    },
    "id": "RD_2fT1uSPsI",
    "outputId": "c71ee4b2-2058-4ba0-c603-e429cf6cc8cd"
   },
   "outputs": [
    {
     "data": {
      "text/plain": [
       "<sqlite3.Cursor at 0x7f76255d6260>"
      ]
     },
     "execution_count": 151,
     "metadata": {
      "tags": []
     },
     "output_type": "execute_result"
    }
   ],
   "source": [
    "c.execute('CREATE TABLE Employee (Employee_ID INTEGER PRIMARY KEY, First_Name TEXT, Last_Name TEXT, Department TEXT, City TEXT)')"
   ]
  },
  {
   "cell_type": "code",
   "execution_count": 152,
   "metadata": {
    "colab": {
     "autoexec": {
      "startup": false,
      "wait_interval": 0
     },
     "base_uri": "https://localhost:8080/",
     "height": 34
    },
    "colab_type": "code",
    "executionInfo": {
     "elapsed": 474,
     "status": "ok",
     "timestamp": 1531520444910,
     "user": {
      "displayName": "Tairi Delgado",
      "photoUrl": "//lh6.googleusercontent.com/-l4lv-T3P6-c/AAAAAAAAAAI/AAAAAAAABIA/4wtQ8ehIzZw/s50-c-k-no/photo.jpg",
      "userId": "115188476170888991569"
     },
     "user_tz": 420
    },
    "id": "ciM227wsS-yB",
    "outputId": "cba72a3a-ec80-4485-db97-536099fe35a2"
   },
   "outputs": [
    {
     "data": {
      "text/plain": [
       "<sqlite3.Cursor at 0x7f76255d6260>"
      ]
     },
     "execution_count": 152,
     "metadata": {
      "tags": []
     },
     "output_type": "execute_result"
    }
   ],
   "source": [
    "c.execute(\"INSERT INTO Employee VALUES (10001, 'Daniel', 'Olson', 'Electronics', 'San Francisco')\")"
   ]
  },
  {
   "cell_type": "code",
   "execution_count": 153,
   "metadata": {
    "colab": {
     "autoexec": {
      "startup": false,
      "wait_interval": 0
     },
     "base_uri": "https://localhost:8080/",
     "height": 34
    },
    "colab_type": "code",
    "executionInfo": {
     "elapsed": 329,
     "status": "ok",
     "timestamp": 1531520446783,
     "user": {
      "displayName": "Tairi Delgado",
      "photoUrl": "//lh6.googleusercontent.com/-l4lv-T3P6-c/AAAAAAAAAAI/AAAAAAAABIA/4wtQ8ehIzZw/s50-c-k-no/photo.jpg",
      "userId": "115188476170888991569"
     },
     "user_tz": 420
    },
    "id": "N40bF_jdTTsO",
    "outputId": "ee774e47-5698-49af-d985-be6c8ba74c24"
   },
   "outputs": [
    {
     "name": "stdout",
     "output_type": "stream",
     "text": [
      "(10001, 'Daniel', 'Olson', 'Electronics', 'San Francisco')\n"
     ]
    }
   ],
   "source": [
    "c.execute('SELECT * FROM Employee')\n",
    "print(c.fetchone())"
   ]
  },
  {
   "cell_type": "code",
   "execution_count": 0,
   "metadata": {
    "colab": {
     "autoexec": {
      "startup": false,
      "wait_interval": 0
     }
    },
    "colab_type": "code",
    "id": "NG2OOSoITwAy"
   },
   "outputs": [],
   "source": [
    "employees = [\n",
    "  (10002, 'Nick', 'Markmen', 'Clothes', 'San Francisco'),\n",
    "  (10003, 'Maria', 'Gonzales', 'Electronics', 'San Jose'),\n",
    "  (10004, 'George', 'Wong', 'Clothes', 'San Francisco'),\n",
    "  (10005, 'Stephanie', 'Williams', 'Clothes', 'Oakland'),\n",
    "  (10006, 'Miguel', 'Alva', 'Clothes', 'Oakland'),\n",
    "  (10007, 'Jessica', 'Collins',\t'Cosmetics', 'San Francisco'),\n",
    "  (10008, 'Ted', 'Anderson', 'Clothes', 'Oakland'),\n",
    "  (10009, 'Victoria', 'Garcia', 'Clothes', 'San Jose'),\n",
    "  (10010, 'Jasmine', 'Khan', 'Pharmacy, Health & Beauty',\t'Oakland'),\n",
    "  (10011, 'Adam',\t'Smith', 'Pharmacy, Health & Beauty',\t'San Jose'),\n",
    "  (10012, 'Rachel',\t'Kim', 'Electronics', 'San Jose')\n",
    "]"
   ]
  },
  {
   "cell_type": "code",
   "execution_count": 155,
   "metadata": {
    "colab": {
     "autoexec": {
      "startup": false,
      "wait_interval": 0
     },
     "base_uri": "https://localhost:8080/",
     "height": 34
    },
    "colab_type": "code",
    "executionInfo": {
     "elapsed": 298,
     "status": "ok",
     "timestamp": 1531520478072,
     "user": {
      "displayName": "Tairi Delgado",
      "photoUrl": "//lh6.googleusercontent.com/-l4lv-T3P6-c/AAAAAAAAAAI/AAAAAAAABIA/4wtQ8ehIzZw/s50-c-k-no/photo.jpg",
      "userId": "115188476170888991569"
     },
     "user_tz": 420
    },
    "id": "SkgcbTPxUXhv",
    "outputId": "681b7409-6d05-4048-a05c-744fafdfe407"
   },
   "outputs": [
    {
     "data": {
      "text/plain": [
       "<sqlite3.Cursor at 0x7f76255d6260>"
      ]
     },
     "execution_count": 155,
     "metadata": {
      "tags": []
     },
     "output_type": "execute_result"
    }
   ],
   "source": [
    "c.executemany('INSERT INTO Employee VALUES (?,?,?,?,?)', employees)"
   ]
  },
  {
   "cell_type": "code",
   "execution_count": 156,
   "metadata": {
    "colab": {
     "autoexec": {
      "startup": false,
      "wait_interval": 0
     },
     "base_uri": "https://localhost:8080/",
     "height": 54
    },
    "colab_type": "code",
    "executionInfo": {
     "elapsed": 297,
     "status": "ok",
     "timestamp": 1531520479955,
     "user": {
      "displayName": "Tairi Delgado",
      "photoUrl": "//lh6.googleusercontent.com/-l4lv-T3P6-c/AAAAAAAAAAI/AAAAAAAABIA/4wtQ8ehIzZw/s50-c-k-no/photo.jpg",
      "userId": "115188476170888991569"
     },
     "user_tz": 420
    },
    "id": "EhQynj7jU9-r",
    "outputId": "16b2adb3-029c-43ed-eb63-fb9d724db18c"
   },
   "outputs": [
    {
     "name": "stdout",
     "output_type": "stream",
     "text": [
      "[(10001, 'Daniel', 'Olson', 'Electronics', 'San Francisco'), (10002, 'Nick', 'Markmen', 'Clothes', 'San Francisco'), (10003, 'Maria', 'Gonzales', 'Electronics', 'San Jose'), (10004, 'George', 'Wong', 'Clothes', 'San Francisco'), (10005, 'Stephanie', 'Williams', 'Clothes', 'Oakland'), (10006, 'Miguel', 'Alva', 'Clothes', 'Oakland'), (10007, 'Jessica', 'Collins', 'Cosmetics', 'San Francisco'), (10008, 'Ted', 'Anderson', 'Clothes', 'Oakland'), (10009, 'Victoria', 'Garcia', 'Clothes', 'San Jose'), (10010, 'Jasmine', 'Khan', 'Pharmacy, Health & Beauty', 'Oakland'), (10011, 'Adam', 'Smith', 'Pharmacy, Health & Beauty', 'San Jose'), (10012, 'Rachel', 'Kim', 'Electronics', 'San Jose')]\n"
     ]
    }
   ],
   "source": [
    "c.execute('SELECT * FROM Employee')\n",
    "print(c.fetchall())"
   ]
  },
  {
   "cell_type": "code",
   "execution_count": 157,
   "metadata": {
    "colab": {
     "autoexec": {
      "startup": false,
      "wait_interval": 0
     },
     "base_uri": "https://localhost:8080/",
     "height": 34
    },
    "colab_type": "code",
    "executionInfo": {
     "elapsed": 310,
     "status": "ok",
     "timestamp": 1531520482281,
     "user": {
      "displayName": "Tairi Delgado",
      "photoUrl": "//lh6.googleusercontent.com/-l4lv-T3P6-c/AAAAAAAAAAI/AAAAAAAABIA/4wtQ8ehIzZw/s50-c-k-no/photo.jpg",
      "userId": "115188476170888991569"
     },
     "user_tz": 420
    },
    "id": "vh7tp1b5Vchi",
    "outputId": "da52a82c-7b10-434a-ca57-c5801f66134c"
   },
   "outputs": [
    {
     "data": {
      "text/plain": [
       "<sqlite3.Cursor at 0x7f76255d6260>"
      ]
     },
     "execution_count": 157,
     "metadata": {
      "tags": []
     },
     "output_type": "execute_result"
    }
   ],
   "source": [
    "c.execute('CREATE TABLE Customer \\\n",
    "  (Customer_ID INTEGER PRIMARY KEY, First_Name TEXT, Last_Name TEXT, City TEXT)')\n"
   ]
  },
  {
   "cell_type": "code",
   "execution_count": 158,
   "metadata": {
    "colab": {
     "autoexec": {
      "startup": false,
      "wait_interval": 0
     },
     "base_uri": "https://localhost:8080/",
     "height": 34
    },
    "colab_type": "code",
    "executionInfo": {
     "elapsed": 504,
     "status": "ok",
     "timestamp": 1531520484186,
     "user": {
      "displayName": "Tairi Delgado",
      "photoUrl": "//lh6.googleusercontent.com/-l4lv-T3P6-c/AAAAAAAAAAI/AAAAAAAABIA/4wtQ8ehIzZw/s50-c-k-no/photo.jpg",
      "userId": "115188476170888991569"
     },
     "user_tz": 420
    },
    "id": "6iVxcMIrVks2",
    "outputId": "e00fdf51-5a73-4141-efcc-a65f6f4de3ae"
   },
   "outputs": [
    {
     "data": {
      "text/plain": [
       "<sqlite3.Cursor at 0x7f76255d6260>"
      ]
     },
     "execution_count": 158,
     "metadata": {
      "tags": []
     },
     "output_type": "execute_result"
    }
   ],
   "source": [
    "customers = [\n",
    "  (20001, 'Jack', 'Ward', 'San Jose'),\n",
    "  (20002, 'Steven', 'Martinez', 'San Francisco'),\n",
    "  (20003, 'Jessica', 'Collins', 'San Jose'),\n",
    "  (20004, 'Carie', 'Robinson', 'San Francisco'),\n",
    "  (20005, 'Zack', 'Peterson', 'Oakland'),\n",
    "  (20006, 'Bianca', 'Sanchez', 'San Francisco'),\n",
    "  (20007, 'James', 'Owen', 'Oakland'),\n",
    "  (20008, 'Lisa', 'Smith', 'San Francisco'),\n",
    "  (20009, 'Daniel',\t'Yasukawa', 'Oakland'),\n",
    "  (20010, 'Lauren',\t'Pham', 'San Jose'),\n",
    "  (20011, 'Juan',\t'Diaz', 'Oakland'),\n",
    "  (20012, 'Martha',\t'Diaz', 'San Francisco')\n",
    "]\n",
    "c.executemany('INSERT INTO Customer VALUES (?,?,?,?)', customers)\n"
   ]
  },
  {
   "cell_type": "code",
   "execution_count": 159,
   "metadata": {
    "colab": {
     "autoexec": {
      "startup": false,
      "wait_interval": 0
     },
     "base_uri": "https://localhost:8080/",
     "height": 54
    },
    "colab_type": "code",
    "executionInfo": {
     "elapsed": 298,
     "status": "ok",
     "timestamp": 1531520488602,
     "user": {
      "displayName": "Tairi Delgado",
      "photoUrl": "//lh6.googleusercontent.com/-l4lv-T3P6-c/AAAAAAAAAAI/AAAAAAAABIA/4wtQ8ehIzZw/s50-c-k-no/photo.jpg",
      "userId": "115188476170888991569"
     },
     "user_tz": 420
    },
    "id": "lVaMca9sz7hS",
    "outputId": "20a1f46e-fb86-42bd-dd52-55bd4bd887ee"
   },
   "outputs": [
    {
     "name": "stdout",
     "output_type": "stream",
     "text": [
      "[(20001, 'Jack', 'Ward', 'San Jose'), (20002, 'Steven', 'Martinez', 'San Francisco'), (20003, 'Jessica', 'Collins', 'San Jose'), (20004, 'Carie', 'Robinson', 'San Francisco'), (20005, 'Zack', 'Peterson', 'Oakland'), (20006, 'Bianca', 'Sanchez', 'San Francisco'), (20007, 'James', 'Owen', 'Oakland'), (20008, 'Lisa', 'Smith', 'San Francisco'), (20009, 'Daniel', 'Yasukawa', 'Oakland'), (20010, 'Lauren', 'Pham', 'San Jose'), (20011, 'Juan', 'Diaz', 'Oakland'), (20012, 'Martha', 'Diaz', 'San Francisco')]\n"
     ]
    }
   ],
   "source": [
    "c.execute('SELECT * FROM Customer')\n",
    "print(c.fetchall())"
   ]
  },
  {
   "cell_type": "code",
   "execution_count": 160,
   "metadata": {
    "colab": {
     "autoexec": {
      "startup": false,
      "wait_interval": 0
     },
     "base_uri": "https://localhost:8080/",
     "height": 34
    },
    "colab_type": "code",
    "executionInfo": {
     "elapsed": 296,
     "status": "ok",
     "timestamp": 1531520490430,
     "user": {
      "displayName": "Tairi Delgado",
      "photoUrl": "//lh6.googleusercontent.com/-l4lv-T3P6-c/AAAAAAAAAAI/AAAAAAAABIA/4wtQ8ehIzZw/s50-c-k-no/photo.jpg",
      "userId": "115188476170888991569"
     },
     "user_tz": 420
    },
    "id": "7wJvh6xaVoDT",
    "outputId": "db7c9209-9a99-4ce1-90b6-094d4934105e"
   },
   "outputs": [
    {
     "data": {
      "text/plain": [
       "<sqlite3.Cursor at 0x7f76255d6260>"
      ]
     },
     "execution_count": 160,
     "metadata": {
      "tags": []
     },
     "output_type": "execute_result"
    }
   ],
   "source": [
    "c.execute('CREATE TABLE Product \\\n",
    "  (Product_ID INTEGER PRIMARY KEY, Product_Name TEXT, Price INTEGER, \\\n",
    "  Supplier_ID INTEGER, Supplier_Name TEXT)')"
   ]
  },
  {
   "cell_type": "code",
   "execution_count": 161,
   "metadata": {
    "colab": {
     "autoexec": {
      "startup": false,
      "wait_interval": 0
     },
     "base_uri": "https://localhost:8080/",
     "height": 34
    },
    "colab_type": "code",
    "executionInfo": {
     "elapsed": 307,
     "status": "ok",
     "timestamp": 1531520494872,
     "user": {
      "displayName": "Tairi Delgado",
      "photoUrl": "//lh6.googleusercontent.com/-l4lv-T3P6-c/AAAAAAAAAAI/AAAAAAAABIA/4wtQ8ehIzZw/s50-c-k-no/photo.jpg",
      "userId": "115188476170888991569"
     },
     "user_tz": 420
    },
    "id": "19ts56NKVsC5",
    "outputId": "98df987a-8938-4487-9699-398cdab3b387"
   },
   "outputs": [
    {
     "data": {
      "text/plain": [
       "<sqlite3.Cursor at 0x7f76255d6260>"
      ]
     },
     "execution_count": 161,
     "metadata": {
      "tags": []
     },
     "output_type": "execute_result"
    }
   ],
   "source": [
    "products = [\n",
    "  (30001, 'T-Shirt', 12.98, 40004, 'Studio Warehouse'),\n",
    "  (30002, 'Tooth Paste', 4.5, 40002, 'BioMed Inc'),\n",
    "  (30003, 'Speakers', 56.99, 40005, 'CompTech, Inc'),\n",
    "  (30004, 'Pants', 34.35, 40003, 'FashionRUs'),\n",
    "  (30005, 'Microphone', 46.21, 40001, 'Music Vibrations, Inc'),\n",
    "  (30006, 'Tie', 11.09, 40003, 'FashionRUs'),\n",
    "  (30007, 'Chap Stick', 3.67, 40002, 'BioMed Inc'),\n",
    "  (30008, 'Medicine', 23.96, 40002, 'BioMed Inc'),\n",
    "  (30009, 'Headphones', 31.44, 40001, 'Music Vibrations, Inc'),\n",
    "  (30010, 'Lotion',\t16.77, 40002, 'BioMed Inc'),\n",
    "  (30011, 'DVD Player',\t149.99, 40005, 'CompTech, Inc'),\n",
    "  (30012, 'Coat',\t56.33, 40004, 'Studio Warehouse')\n",
    "]\n",
    "c.executemany('INSERT INTO Product VALUES (?,?,?,?,?)', products)\n"
   ]
  },
  {
   "cell_type": "code",
   "execution_count": 162,
   "metadata": {
    "colab": {
     "autoexec": {
      "startup": false,
      "wait_interval": 0
     },
     "base_uri": "https://localhost:8080/",
     "height": 34
    },
    "colab_type": "code",
    "executionInfo": {
     "elapsed": 294,
     "status": "ok",
     "timestamp": 1531520498633,
     "user": {
      "displayName": "Tairi Delgado",
      "photoUrl": "//lh6.googleusercontent.com/-l4lv-T3P6-c/AAAAAAAAAAI/AAAAAAAABIA/4wtQ8ehIzZw/s50-c-k-no/photo.jpg",
      "userId": "115188476170888991569"
     },
     "user_tz": 420
    },
    "id": "xnFbtlhrVxgo",
    "outputId": "7da8cb0a-d788-4b89-f705-724d7f017105"
   },
   "outputs": [
    {
     "data": {
      "text/plain": [
       "<sqlite3.Cursor at 0x7f76255d6260>"
      ]
     },
     "execution_count": 162,
     "metadata": {
      "tags": []
     },
     "output_type": "execute_result"
    }
   ],
   "source": [
    "c.execute('CREATE TABLE Orders \\\n",
    "  (Order_ID INTEGER PRIMARY KEY, Customer_ID INTEGER, \\\n",
    "  Product_ID INTEGER, Employee_ID INTEGER, Date TEXT)')\n"
   ]
  },
  {
   "cell_type": "code",
   "execution_count": 163,
   "metadata": {
    "colab": {
     "autoexec": {
      "startup": false,
      "wait_interval": 0
     },
     "base_uri": "https://localhost:8080/",
     "height": 34
    },
    "colab_type": "code",
    "executionInfo": {
     "elapsed": 473,
     "status": "ok",
     "timestamp": 1531520500421,
     "user": {
      "displayName": "Tairi Delgado",
      "photoUrl": "//lh6.googleusercontent.com/-l4lv-T3P6-c/AAAAAAAAAAI/AAAAAAAABIA/4wtQ8ehIzZw/s50-c-k-no/photo.jpg",
      "userId": "115188476170888991569"
     },
     "user_tz": 420
    },
    "id": "6iHsv8muV2hj",
    "outputId": "f5c5444b-24a9-47e1-ee36-614914c5e4e4"
   },
   "outputs": [
    {
     "data": {
      "text/plain": [
       "<sqlite3.Cursor at 0x7f76255d6260>"
      ]
     },
     "execution_count": 163,
     "metadata": {
      "tags": []
     },
     "output_type": "execute_result"
    }
   ],
   "source": [
    "orders = [\n",
    "  (50001, 20005, 30005, 10001, '17-02-12'),\n",
    "  (50002, 20003, 30008, 10011, '17-09-03'),\n",
    "  (50003, 20010, 30001, 10009, '17-11-23'),\n",
    "  (50004, 20004, 30008, 10010, '17-01-28'),\n",
    "  (50005, 20008, 30012, 10002, '17-08-11'),\n",
    "  (50006, 20011, 30011, 10001, '17-04-13'),\n",
    "  (50007, 20012, 30002, 10007, '17-10-07'),\n",
    "  (50008, 20002, 30001, 10004, '17-03-09'),\n",
    "  (50009, 20001, 30006, 10009, '17-12-26'),\n",
    "]\n",
    "c.executemany('INSERT INTO Orders VALUES (?,?,?,?,?)', orders)\n"
   ]
  },
  {
   "cell_type": "code",
   "execution_count": 166,
   "metadata": {
    "colab": {
     "autoexec": {
      "startup": false,
      "wait_interval": 0
     },
     "base_uri": "https://localhost:8080/",
     "height": 34
    },
    "colab_type": "code",
    "executionInfo": {
     "elapsed": 321,
     "status": "ok",
     "timestamp": 1531520506152,
     "user": {
      "displayName": "Tairi Delgado",
      "photoUrl": "//lh6.googleusercontent.com/-l4lv-T3P6-c/AAAAAAAAAAI/AAAAAAAABIA/4wtQ8ehIzZw/s50-c-k-no/photo.jpg",
      "userId": "115188476170888991569"
     },
     "user_tz": 420
    },
    "id": "3b6x5G2CV5sC",
    "outputId": "cd220dbf-f664-4178-83b4-7ce55f9b407b"
   },
   "outputs": [
    {
     "data": {
      "text/plain": [
       "<sqlite3.Cursor at 0x7f76255d6260>"
      ]
     },
     "execution_count": 166,
     "metadata": {
      "tags": []
     },
     "output_type": "execute_result"
    }
   ],
   "source": [
    "c.execute('CREATE TABLE Supplier (Supplier_ID INTEGERS PRIMARY KEY, Name TEXT)')"
   ]
  },
  {
   "cell_type": "code",
   "execution_count": 165,
   "metadata": {
    "colab": {
     "autoexec": {
      "startup": false,
      "wait_interval": 0
     },
     "base_uri": "https://localhost:8080/",
     "height": 34
    },
    "colab_type": "code",
    "executionInfo": {
     "elapsed": 327,
     "status": "ok",
     "timestamp": 1531520504781,
     "user": {
      "displayName": "Tairi Delgado",
      "photoUrl": "//lh6.googleusercontent.com/-l4lv-T3P6-c/AAAAAAAAAAI/AAAAAAAABIA/4wtQ8ehIzZw/s50-c-k-no/photo.jpg",
      "userId": "115188476170888991569"
     },
     "user_tz": 420
    },
    "id": "UQtyuxXrXNYz",
    "outputId": "97f02d19-404e-422c-da4b-f06af4e256a2"
   },
   "outputs": [
    {
     "data": {
      "text/plain": [
       "<sqlite3.Cursor at 0x7f76255d6260>"
      ]
     },
     "execution_count": 165,
     "metadata": {
      "tags": []
     },
     "output_type": "execute_result"
    }
   ],
   "source": [
    "c.execute('DROP TABLE Supplier')"
   ]
  },
  {
   "cell_type": "markdown",
   "metadata": {
    "colab_type": "text",
    "id": "yZDPkn79yrn7"
   },
   "source": [
    "**Alter table:**"
   ]
  },
  {
   "cell_type": "code",
   "execution_count": 167,
   "metadata": {
    "colab": {
     "autoexec": {
      "startup": false,
      "wait_interval": 0
     },
     "base_uri": "https://localhost:8080/",
     "height": 34
    },
    "colab_type": "code",
    "executionInfo": {
     "elapsed": 408,
     "status": "ok",
     "timestamp": 1531520508260,
     "user": {
      "displayName": "Tairi Delgado",
      "photoUrl": "//lh6.googleusercontent.com/-l4lv-T3P6-c/AAAAAAAAAAI/AAAAAAAABIA/4wtQ8ehIzZw/s50-c-k-no/photo.jpg",
      "userId": "115188476170888991569"
     },
     "user_tz": 420
    },
    "id": "8Zrb-PMzYqq6",
    "outputId": "8919b4b1-80bf-4704-9e59-d4a58532b5b9"
   },
   "outputs": [
    {
     "data": {
      "text/plain": [
       "<sqlite3.Cursor at 0x7f76255d6260>"
      ]
     },
     "execution_count": 167,
     "metadata": {
      "tags": []
     },
     "output_type": "execute_result"
    }
   ],
   "source": [
    "c.execute('ALTER TABLE Supplier ADD City TEXT')"
   ]
  },
  {
   "cell_type": "markdown",
   "metadata": {
    "colab_type": "text",
    "id": "x3l9t_v_yLm7"
   },
   "source": [
    "**Insertion:**"
   ]
  },
  {
   "cell_type": "code",
   "execution_count": 168,
   "metadata": {
    "colab": {
     "autoexec": {
      "startup": false,
      "wait_interval": 0
     },
     "base_uri": "https://localhost:8080/",
     "height": 34
    },
    "colab_type": "code",
    "executionInfo": {
     "elapsed": 279,
     "status": "ok",
     "timestamp": 1531520510202,
     "user": {
      "displayName": "Tairi Delgado",
      "photoUrl": "//lh6.googleusercontent.com/-l4lv-T3P6-c/AAAAAAAAAAI/AAAAAAAABIA/4wtQ8ehIzZw/s50-c-k-no/photo.jpg",
      "userId": "115188476170888991569"
     },
     "user_tz": 420
    },
    "id": "d7jneyRnZAsz",
    "outputId": "73f2e350-1c48-40bc-f57a-ddb668eaed38"
   },
   "outputs": [
    {
     "data": {
      "text/plain": [
       "<sqlite3.Cursor at 0x7f76255d6260>"
      ]
     },
     "execution_count": 168,
     "metadata": {
      "tags": []
     },
     "output_type": "execute_result"
    }
   ],
   "source": [
    "suppliers = [\n",
    "  (40001, 'Music Vibrations, Inc', 'Oakland'),\n",
    "  (40002, 'BioMed Inc', 'San Francisco'),\n",
    "  (40003, 'FashionRUs', 'San Jose'),\n",
    "  (40004, 'Studio Warehouse', 'San Francisco'),\n",
    "  (40005, 'CompTech, Inc', 'San Jose'),\n",
    "]\n",
    "c.executemany('INSERT INTO Supplier VALUES (?,?,?)', suppliers)\n"
   ]
  },
  {
   "cell_type": "markdown",
   "metadata": {
    "colab_type": "text",
    "id": "THcVOu4cyeSs"
   },
   "source": [
    "**View and query table:**"
   ]
  },
  {
   "cell_type": "code",
   "execution_count": 169,
   "metadata": {
    "colab": {
     "autoexec": {
      "startup": false,
      "wait_interval": 0
     },
     "base_uri": "https://localhost:8080/",
     "height": 54
    },
    "colab_type": "code",
    "executionInfo": {
     "elapsed": 277,
     "status": "ok",
     "timestamp": 1531520515172,
     "user": {
      "displayName": "Tairi Delgado",
      "photoUrl": "//lh6.googleusercontent.com/-l4lv-T3P6-c/AAAAAAAAAAI/AAAAAAAABIA/4wtQ8ehIzZw/s50-c-k-no/photo.jpg",
      "userId": "115188476170888991569"
     },
     "user_tz": 420
    },
    "id": "bq-x_V1tdBpt",
    "outputId": "15087913-9667-413a-fcf9-63b3e44d3867"
   },
   "outputs": [
    {
     "name": "stdout",
     "output_type": "stream",
     "text": [
      "[(40001, 'Music Vibrations, Inc', 'Oakland'), (40002, 'BioMed Inc', 'San Francisco'), (40003, 'FashionRUs', 'San Jose'), (40004, 'Studio Warehouse', 'San Francisco'), (40005, 'CompTech, Inc', 'San Jose')]\n"
     ]
    }
   ],
   "source": [
    "c.execute('SELECT * FROM Supplier')\n",
    "print(c.fetchall())"
   ]
  },
  {
   "cell_type": "markdown",
   "metadata": {
    "colab_type": "text",
    "id": "CZZ2sf79yoWi"
   },
   "source": [
    "**Update record:**"
   ]
  },
  {
   "cell_type": "code",
   "execution_count": 170,
   "metadata": {
    "colab": {
     "autoexec": {
      "startup": false,
      "wait_interval": 0
     },
     "base_uri": "https://localhost:8080/",
     "height": 34
    },
    "colab_type": "code",
    "executionInfo": {
     "elapsed": 281,
     "status": "ok",
     "timestamp": 1531520516887,
     "user": {
      "displayName": "Tairi Delgado",
      "photoUrl": "//lh6.googleusercontent.com/-l4lv-T3P6-c/AAAAAAAAAAI/AAAAAAAABIA/4wtQ8ehIzZw/s50-c-k-no/photo.jpg",
      "userId": "115188476170888991569"
     },
     "user_tz": 420
    },
    "id": "511rc4DodYf0",
    "outputId": "534721a3-39a0-4d12-eb96-9e8af893346a"
   },
   "outputs": [
    {
     "data": {
      "text/plain": [
       "<sqlite3.Cursor at 0x7f76255d6260>"
      ]
     },
     "execution_count": 170,
     "metadata": {
      "tags": []
     },
     "output_type": "execute_result"
    }
   ],
   "source": [
    "c.execute(\"INSERT INTO Supplier VALUES (40006, 'Piper', 'Palo Alto')\")"
   ]
  },
  {
   "cell_type": "code",
   "execution_count": 171,
   "metadata": {
    "colab": {
     "autoexec": {
      "startup": false,
      "wait_interval": 0
     },
     "base_uri": "https://localhost:8080/",
     "height": 54
    },
    "colab_type": "code",
    "executionInfo": {
     "elapsed": 338,
     "status": "ok",
     "timestamp": 1531520520424,
     "user": {
      "displayName": "Tairi Delgado",
      "photoUrl": "//lh6.googleusercontent.com/-l4lv-T3P6-c/AAAAAAAAAAI/AAAAAAAABIA/4wtQ8ehIzZw/s50-c-k-no/photo.jpg",
      "userId": "115188476170888991569"
     },
     "user_tz": 420
    },
    "id": "gNxOl0JCdqw1",
    "outputId": "ef62b1cf-eb55-4e2d-d035-a6273c13e425"
   },
   "outputs": [
    {
     "name": "stdout",
     "output_type": "stream",
     "text": [
      "[(40001, 'Music Vibrations, Inc', 'Oakland'), (40002, 'BioMed Inc', 'San Francisco'), (40003, 'FashionRUs', 'San Jose'), (40004, 'Studio Warehouse', 'San Francisco'), (40005, 'CompTech, Inc', 'San Jose'), (40006, 'Piper', 'San Jose')]\n"
     ]
    }
   ],
   "source": [
    "c.execute(\"UPDATE Supplier SET City = 'San Jose' WHERE Name = 'Piper'\")\n",
    "c.execute('SELECT * FROM Supplier')\n",
    "print(c.fetchall())"
   ]
  },
  {
   "cell_type": "markdown",
   "metadata": {
    "colab_type": "text",
    "id": "rqDuJ_w0y0sL"
   },
   "source": [
    "**Delete record:**"
   ]
  },
  {
   "cell_type": "code",
   "execution_count": 172,
   "metadata": {
    "colab": {
     "autoexec": {
      "startup": false,
      "wait_interval": 0
     },
     "base_uri": "https://localhost:8080/",
     "height": 54
    },
    "colab_type": "code",
    "executionInfo": {
     "elapsed": 383,
     "status": "ok",
     "timestamp": 1531520522087,
     "user": {
      "displayName": "Tairi Delgado",
      "photoUrl": "//lh6.googleusercontent.com/-l4lv-T3P6-c/AAAAAAAAAAI/AAAAAAAABIA/4wtQ8ehIzZw/s50-c-k-no/photo.jpg",
      "userId": "115188476170888991569"
     },
     "user_tz": 420
    },
    "id": "ZUpU8waqeyYq",
    "outputId": "169e4d15-df0e-45cd-908e-0ae344006684"
   },
   "outputs": [
    {
     "name": "stdout",
     "output_type": "stream",
     "text": [
      "[(40001, 'Music Vibrations, Inc', 'Oakland'), (40002, 'BioMed Inc', 'San Francisco'), (40003, 'FashionRUs', 'San Jose'), (40004, 'Studio Warehouse', 'San Francisco'), (40005, 'CompTech, Inc', 'San Jose')]\n"
     ]
    }
   ],
   "source": [
    "c.execute(\"DELETE FROM Supplier WHERE Name = 'Piper'\")\n",
    "c.execute('SELECT * FROM Supplier')\n",
    "print(c.fetchall())"
   ]
  },
  {
   "cell_type": "code",
   "execution_count": 0,
   "metadata": {
    "colab": {
     "autoexec": {
      "startup": false,
      "wait_interval": 0
     }
    },
    "colab_type": "code",
    "id": "Y4a-CgNmfN2K"
   },
   "outputs": [],
   "source": [
    "conn.commit()\n",
    "conn.close()"
   ]
  },
  {
   "cell_type": "markdown",
   "metadata": {
    "colab_type": "text",
    "id": "FKvkD0dDi1ep"
   },
   "source": [
    "# Selections and Conditions"
   ]
  },
  {
   "cell_type": "markdown",
   "metadata": {
    "colab_type": "text",
    "id": "dGTCPyYUF8dX"
   },
   "source": [
    "**Connect to the SQLite database:**"
   ]
  },
  {
   "cell_type": "code",
   "execution_count": 0,
   "metadata": {
    "colab": {
     "autoexec": {
      "startup": false,
      "wait_interval": 0
     }
    },
    "colab_type": "code",
    "id": "6pkZz9jUi75b"
   },
   "outputs": [],
   "source": [
    "conn = sqlite3.connect('Sales.db')\n",
    "c = conn.cursor()"
   ]
  },
  {
   "cell_type": "markdown",
   "metadata": {
    "colab_type": "text",
    "id": "TWH09PPlGBVK"
   },
   "source": [
    "**Selections:**"
   ]
  },
  {
   "cell_type": "code",
   "execution_count": 175,
   "metadata": {
    "colab": {
     "autoexec": {
      "startup": false,
      "wait_interval": 0
     },
     "base_uri": "https://localhost:8080/",
     "height": 54
    },
    "colab_type": "code",
    "executionInfo": {
     "elapsed": 293,
     "status": "ok",
     "timestamp": 1531520529025,
     "user": {
      "displayName": "Tairi Delgado",
      "photoUrl": "//lh6.googleusercontent.com/-l4lv-T3P6-c/AAAAAAAAAAI/AAAAAAAABIA/4wtQ8ehIzZw/s50-c-k-no/photo.jpg",
      "userId": "115188476170888991569"
     },
     "user_tz": 420
    },
    "id": "LL4LyxpoYKVW",
    "outputId": "08bd8c8c-2fc5-471c-f6a1-d5b03929cab9"
   },
   "outputs": [
    {
     "name": "stdout",
     "output_type": "stream",
     "text": [
      "[('Daniel',), ('Nick',), ('Maria',), ('George',), ('Stephanie',), ('Miguel',), ('Jessica',), ('Ted',), ('Victoria',), ('Jasmine',), ('Adam',), ('Rachel',)]\n"
     ]
    }
   ],
   "source": [
    "c.execute(\"SELECT First_Name FROM Employee\")\n",
    "print(c.fetchall())"
   ]
  },
  {
   "cell_type": "code",
   "execution_count": 176,
   "metadata": {
    "colab": {
     "autoexec": {
      "startup": false,
      "wait_interval": 0
     },
     "base_uri": "https://localhost:8080/",
     "height": 54
    },
    "colab_type": "code",
    "executionInfo": {
     "elapsed": 328,
     "status": "ok",
     "timestamp": 1531520531581,
     "user": {
      "displayName": "Tairi Delgado",
      "photoUrl": "//lh6.googleusercontent.com/-l4lv-T3P6-c/AAAAAAAAAAI/AAAAAAAABIA/4wtQ8ehIzZw/s50-c-k-no/photo.jpg",
      "userId": "115188476170888991569"
     },
     "user_tz": 420
    },
    "id": "guqkJFYkZb2u",
    "outputId": "0c3cfcb2-7f6c-411a-9179-fb7620db4517"
   },
   "outputs": [
    {
     "name": "stdout",
     "output_type": "stream",
     "text": [
      "[('Ward',), ('Martinez',), ('Collins',), ('Robinson',), ('Peterson',), ('Sanchez',), ('Owen',), ('Smith',), ('Yasukawa',), ('Pham',), ('Diaz',), ('Diaz',)]\n"
     ]
    }
   ],
   "source": [
    "c.execute(\"SELECT Last_Name FROM Customer\")\n",
    "print(c.fetchall())"
   ]
  },
  {
   "cell_type": "code",
   "execution_count": 177,
   "metadata": {
    "colab": {
     "autoexec": {
      "startup": false,
      "wait_interval": 0
     },
     "base_uri": "https://localhost:8080/",
     "height": 54
    },
    "colab_type": "code",
    "executionInfo": {
     "elapsed": 284,
     "status": "ok",
     "timestamp": 1531520533257,
     "user": {
      "displayName": "Tairi Delgado",
      "photoUrl": "//lh6.googleusercontent.com/-l4lv-T3P6-c/AAAAAAAAAAI/AAAAAAAABIA/4wtQ8ehIzZw/s50-c-k-no/photo.jpg",
      "userId": "115188476170888991569"
     },
     "user_tz": 420
    },
    "id": "Us_25uLRZm9Z",
    "outputId": "4ffe3214-8c46-4756-f80e-0a68dacca1e0"
   },
   "outputs": [
    {
     "name": "stdout",
     "output_type": "stream",
     "text": [
      "[(50001, '17-02-12'), (50002, '17-09-03'), (50003, '17-11-23'), (50004, '17-01-28'), (50005, '17-08-11'), (50006, '17-04-13'), (50007, '17-10-07'), (50008, '17-03-09'), (50009, '17-12-26')]\n"
     ]
    }
   ],
   "source": [
    "c.execute(\"SELECT Order_ID, Date FROM Orders\")\n",
    "print(c.fetchall())"
   ]
  },
  {
   "cell_type": "markdown",
   "metadata": {
    "colab_type": "text",
    "id": "BUKwA2DqXZsb"
   },
   "source": [
    "**Where:**"
   ]
  },
  {
   "cell_type": "code",
   "execution_count": 178,
   "metadata": {
    "colab": {
     "autoexec": {
      "startup": false,
      "wait_interval": 0
     },
     "base_uri": "https://localhost:8080/",
     "height": 34
    },
    "colab_type": "code",
    "executionInfo": {
     "elapsed": 286,
     "status": "ok",
     "timestamp": 1531520536711,
     "user": {
      "displayName": "Tairi Delgado",
      "photoUrl": "//lh6.googleusercontent.com/-l4lv-T3P6-c/AAAAAAAAAAI/AAAAAAAABIA/4wtQ8ehIzZw/s50-c-k-no/photo.jpg",
      "userId": "115188476170888991569"
     },
     "user_tz": 420
    },
    "id": "9N3U7ZIgZ2bO",
    "outputId": "10fe6662-3152-4f58-f836-6d27125ef5e7"
   },
   "outputs": [
    {
     "name": "stdout",
     "output_type": "stream",
     "text": [
      "[(10005, 'Stephanie', 'Williams'), (10006, 'Miguel', 'Alva'), (10008, 'Ted', 'Anderson'), (10010, 'Jasmine', 'Khan')]\n"
     ]
    }
   ],
   "source": [
    "c.execute(\"SELECT Employee_ID, First_Name, Last_Name \\\n",
    "  FROM Employee \\\n",
    "  WHERE City = 'Oakland'\")\n",
    "print(c.fetchall())"
   ]
  },
  {
   "cell_type": "code",
   "execution_count": 179,
   "metadata": {
    "colab": {
     "autoexec": {
      "startup": false,
      "wait_interval": 0
     },
     "base_uri": "https://localhost:8080/",
     "height": 34
    },
    "colab_type": "code",
    "executionInfo": {
     "elapsed": 316,
     "status": "ok",
     "timestamp": 1531520539186,
     "user": {
      "displayName": "Tairi Delgado",
      "photoUrl": "//lh6.googleusercontent.com/-l4lv-T3P6-c/AAAAAAAAAAI/AAAAAAAABIA/4wtQ8ehIzZw/s50-c-k-no/photo.jpg",
      "userId": "115188476170888991569"
     },
     "user_tz": 420
    },
    "id": "zAYbNzhWaoYU",
    "outputId": "c77c1dd5-e51b-4153-f24b-f972d29a986e"
   },
   "outputs": [
    {
     "name": "stdout",
     "output_type": "stream",
     "text": [
      "[(40003, 'FashionRUs'), (40005, 'CompTech, Inc')]\n"
     ]
    }
   ],
   "source": [
    "c.execute(\"SELECT Supplier_ID, Name \\\n",
    "  FROM Supplier \\\n",
    "  WHERE City = 'San Jose'\")\n",
    "print(c.fetchall())"
   ]
  },
  {
   "cell_type": "code",
   "execution_count": 180,
   "metadata": {
    "colab": {
     "autoexec": {
      "startup": false,
      "wait_interval": 0
     },
     "base_uri": "https://localhost:8080/",
     "height": 34
    },
    "colab_type": "code",
    "executionInfo": {
     "elapsed": 283,
     "status": "ok",
     "timestamp": 1531520541106,
     "user": {
      "displayName": "Tairi Delgado",
      "photoUrl": "//lh6.googleusercontent.com/-l4lv-T3P6-c/AAAAAAAAAAI/AAAAAAAABIA/4wtQ8ehIzZw/s50-c-k-no/photo.jpg",
      "userId": "115188476170888991569"
     },
     "user_tz": 420
    },
    "id": "JGt8GfVDa0pv",
    "outputId": "37d279fa-1b30-4e6d-c85f-c0ca4f855741"
   },
   "outputs": [
    {
     "name": "stdout",
     "output_type": "stream",
     "text": [
      "[(20005, 'Zack', 'Peterson'), (20007, 'James', 'Owen'), (20009, 'Daniel', 'Yasukawa'), (20011, 'Juan', 'Diaz')]\n"
     ]
    }
   ],
   "source": [
    "c.execute(\"SELECT Customer_ID, First_Name, Last_Name \\\n",
    "  FROM Customer \\\n",
    "  WHERE City = 'Oakland'\")\n",
    "print(c.fetchall())"
   ]
  },
  {
   "cell_type": "markdown",
   "metadata": {
    "colab_type": "text",
    "id": "PvdaCfpgHT_M"
   },
   "source": [
    "**And:**"
   ]
  },
  {
   "cell_type": "code",
   "execution_count": 182,
   "metadata": {
    "colab": {
     "autoexec": {
      "startup": false,
      "wait_interval": 0
     },
     "base_uri": "https://localhost:8080/",
     "height": 34
    },
    "colab_type": "code",
    "executionInfo": {
     "elapsed": 564,
     "status": "ok",
     "timestamp": 1531520557674,
     "user": {
      "displayName": "Tairi Delgado",
      "photoUrl": "//lh6.googleusercontent.com/-l4lv-T3P6-c/AAAAAAAAAAI/AAAAAAAABIA/4wtQ8ehIzZw/s50-c-k-no/photo.jpg",
      "userId": "115188476170888991569"
     },
     "user_tz": 420
    },
    "id": "5m2v1ZsmbGti",
    "outputId": "36629122-2b7c-4917-b4a2-1c3e2e4f1cad"
   },
   "outputs": [
    {
     "name": "stdout",
     "output_type": "stream",
     "text": [
      "[(10009, 'Victoria', 'Garcia')]\n"
     ]
    }
   ],
   "source": [
    "c.execute(\"SELECT Employee_ID, First_Name, Last_Name \\\n",
    "  FROM Employee \\\n",
    "  WHERE City = 'San Jose' AND Department = 'Clothes'\")\n",
    "print(c.fetchall())"
   ]
  },
  {
   "cell_type": "code",
   "execution_count": 183,
   "metadata": {
    "colab": {
     "autoexec": {
      "startup": false,
      "wait_interval": 0
     },
     "base_uri": "https://localhost:8080/",
     "height": 54
    },
    "colab_type": "code",
    "executionInfo": {
     "elapsed": 364,
     "status": "ok",
     "timestamp": 1531520559880,
     "user": {
      "displayName": "Tairi Delgado",
      "photoUrl": "//lh6.googleusercontent.com/-l4lv-T3P6-c/AAAAAAAAAAI/AAAAAAAABIA/4wtQ8ehIzZw/s50-c-k-no/photo.jpg",
      "userId": "115188476170888991569"
     },
     "user_tz": 420
    },
    "id": "3k2mGILEbruJ",
    "outputId": "d7149ebb-9d51-43bd-be4e-7533092ce02f"
   },
   "outputs": [
    {
     "name": "stdout",
     "output_type": "stream",
     "text": [
      "[('Studio Warehouse', 40004, 12.98), ('FashionRUs', 40003, 34.35), ('Music Vibrations, Inc', 40001, 46.21), ('FashionRUs', 40003, 11.09), ('BioMed Inc', 40002, 23.96), ('Music Vibrations, Inc', 40001, 31.44), ('BioMed Inc', 40002, 16.77)]\n"
     ]
    }
   ],
   "source": [
    "c.execute(\"SELECT Supplier_Name, Supplier_ID, Price \\\n",
    "  FROM Product \\\n",
    "  WHERE Price < 50 AND Price > 10\")\n",
    "print(c.fetchall())"
   ]
  },
  {
   "cell_type": "markdown",
   "metadata": {
    "colab_type": "text",
    "id": "YZsZoEfwXeVB"
   },
   "source": [
    "**Or:**"
   ]
  },
  {
   "cell_type": "code",
   "execution_count": 184,
   "metadata": {
    "colab": {
     "autoexec": {
      "startup": false,
      "wait_interval": 0
     },
     "base_uri": "https://localhost:8080/",
     "height": 54
    },
    "colab_type": "code",
    "executionInfo": {
     "elapsed": 387,
     "status": "ok",
     "timestamp": 1531520564096,
     "user": {
      "displayName": "Tairi Delgado",
      "photoUrl": "//lh6.googleusercontent.com/-l4lv-T3P6-c/AAAAAAAAAAI/AAAAAAAABIA/4wtQ8ehIzZw/s50-c-k-no/photo.jpg",
      "userId": "115188476170888991569"
     },
     "user_tz": 420
    },
    "id": "BUYZptymcEN3",
    "outputId": "339165b8-247d-4aa1-a604-1c4fbb038206"
   },
   "outputs": [
    {
     "name": "stdout",
     "output_type": "stream",
     "text": [
      "[('BioMed Inc', 40002, 4.5), ('CompTech, Inc', 40005, 56.99), ('BioMed Inc', 40002, 3.67), ('CompTech, Inc', 40005, 149.99), ('Studio Warehouse', 40004, 56.33)]\n"
     ]
    }
   ],
   "source": [
    "c.execute(\"SELECT Supplier_Name, Supplier_ID, Price \\\n",
    "  FROM Product \\\n",
    "  WHERE Price > 50 OR Price < 10\")\n",
    "print(c.fetchall())"
   ]
  },
  {
   "cell_type": "markdown",
   "metadata": {
    "colab_type": "text",
    "id": "c_tFBB6nXheC"
   },
   "source": [
    "**Not:**"
   ]
  },
  {
   "cell_type": "code",
   "execution_count": 185,
   "metadata": {
    "colab": {
     "autoexec": {
      "startup": false,
      "wait_interval": 0
     },
     "base_uri": "https://localhost:8080/",
     "height": 54
    },
    "colab_type": "code",
    "executionInfo": {
     "elapsed": 291,
     "status": "ok",
     "timestamp": 1531520566494,
     "user": {
      "displayName": "Tairi Delgado",
      "photoUrl": "//lh6.googleusercontent.com/-l4lv-T3P6-c/AAAAAAAAAAI/AAAAAAAABIA/4wtQ8ehIzZw/s50-c-k-no/photo.jpg",
      "userId": "115188476170888991569"
     },
     "user_tz": 420
    },
    "id": "gpkzIeykceAN",
    "outputId": "1a674053-790a-4634-8b78-3cc2e6bd0a58"
   },
   "outputs": [
    {
     "name": "stdout",
     "output_type": "stream",
     "text": [
      "[(20001, 'San Jose'), (20002, 'San Francisco'), (20003, 'San Jose'), (20004, 'San Francisco'), (20006, 'San Francisco'), (20008, 'San Francisco'), (20010, 'San Jose'), (20012, 'San Francisco')]\n"
     ]
    }
   ],
   "source": [
    "c.execute(\"SELECT Customer_ID, City \\\n",
    "  FROM Customer \\\n",
    "  WHERE NOT City = 'Oakland'\")\n",
    "print(c.fetchall())"
   ]
  },
  {
   "cell_type": "markdown",
   "metadata": {
    "colab_type": "text",
    "id": "pkcuW6x6XjXJ"
   },
   "source": [
    "**In:**"
   ]
  },
  {
   "cell_type": "code",
   "execution_count": 186,
   "metadata": {
    "colab": {
     "autoexec": {
      "startup": false,
      "wait_interval": 0
     },
     "base_uri": "https://localhost:8080/",
     "height": 54
    },
    "colab_type": "code",
    "executionInfo": {
     "elapsed": 299,
     "status": "ok",
     "timestamp": 1531520569170,
     "user": {
      "displayName": "Tairi Delgado",
      "photoUrl": "//lh6.googleusercontent.com/-l4lv-T3P6-c/AAAAAAAAAAI/AAAAAAAABIA/4wtQ8ehIzZw/s50-c-k-no/photo.jpg",
      "userId": "115188476170888991569"
     },
     "user_tz": 420
    },
    "id": "oKfh5cjOc5oQ",
    "outputId": "965fe866-46c9-4041-f74d-5b00744871b7"
   },
   "outputs": [
    {
     "name": "stdout",
     "output_type": "stream",
     "text": [
      "[(10001, 'San Francisco'), (10002, 'San Francisco'), (10003, 'San Jose'), (10004, 'San Francisco'), (10005, 'Oakland'), (10006, 'Oakland'), (10007, 'San Francisco'), (10008, 'Oakland'), (10009, 'San Jose'), (10012, 'San Jose')]\n"
     ]
    }
   ],
   "source": [
    "c.execute(\"SELECT Employee_ID, City \\\n",
    "  FROM Employee \\\n",
    "  WHERE Department IN ('Clothes', 'Electronics', 'Cosmetics')\")\n",
    "print(c.fetchall())"
   ]
  },
  {
   "cell_type": "markdown",
   "metadata": {
    "colab_type": "text",
    "id": "jcgC_RQkXmxS"
   },
   "source": [
    "**Between:**"
   ]
  },
  {
   "cell_type": "code",
   "execution_count": 187,
   "metadata": {
    "colab": {
     "autoexec": {
      "startup": false,
      "wait_interval": 0
     },
     "base_uri": "https://localhost:8080/",
     "height": 34
    },
    "colab_type": "code",
    "executionInfo": {
     "elapsed": 477,
     "status": "ok",
     "timestamp": 1531520571123,
     "user": {
      "displayName": "Tairi Delgado",
      "photoUrl": "//lh6.googleusercontent.com/-l4lv-T3P6-c/AAAAAAAAAAI/AAAAAAAABIA/4wtQ8ehIzZw/s50-c-k-no/photo.jpg",
      "userId": "115188476170888991569"
     },
     "user_tz": 420
    },
    "id": "0kDJ5G8XdaXL",
    "outputId": "dcbc0b4a-1927-4bad-8389-b2b4923071d2"
   },
   "outputs": [
    {
     "name": "stdout",
     "output_type": "stream",
     "text": [
      "[('Pants', 34.35), ('Medicine', 23.96), ('Headphones', 31.44), ('Lotion', 16.77)]\n"
     ]
    }
   ],
   "source": [
    "c.execute(\"SELECT Product_Name, Price \\\n",
    "  FROM Product \\\n",
    "  WHERE Price BETWEEN 15 AND 35\")\n",
    "print(c.fetchall())"
   ]
  },
  {
   "cell_type": "markdown",
   "metadata": {
    "colab_type": "text",
    "id": "ypdX7egnXop_"
   },
   "source": [
    "**Exists:**"
   ]
  },
  {
   "cell_type": "code",
   "execution_count": 188,
   "metadata": {
    "colab": {
     "autoexec": {
      "startup": false,
      "wait_interval": 0
     },
     "base_uri": "https://localhost:8080/",
     "height": 34
    },
    "colab_type": "code",
    "executionInfo": {
     "elapsed": 296,
     "status": "ok",
     "timestamp": 1531520574449,
     "user": {
      "displayName": "Tairi Delgado",
      "photoUrl": "//lh6.googleusercontent.com/-l4lv-T3P6-c/AAAAAAAAAAI/AAAAAAAABIA/4wtQ8ehIzZw/s50-c-k-no/photo.jpg",
      "userId": "115188476170888991569"
     },
     "user_tz": 420
    },
    "id": "J9YACzcGdxjW",
    "outputId": "46773c17-c220-4df9-a7bf-dd25039ff23e"
   },
   "outputs": [
    {
     "name": "stdout",
     "output_type": "stream",
     "text": [
      "No record exists.\n"
     ]
    }
   ],
   "source": [
    "c.execute(\"SELECT * FROM Employee \\\n",
    "  WHERE EXISTS \\\n",
    "  (SELECT * FROM Employee WHERE First_Name = 'Joe' AND Last_Name = 'Smith')\")\n",
    "if c.fetchone():\n",
    "  print(\"Found record!\")\n",
    "else:\n",
    "  print(\"No record exists.\")"
   ]
  },
  {
   "cell_type": "markdown",
   "metadata": {
    "colab_type": "text",
    "id": "HtFBoINgXr14"
   },
   "source": [
    "**Limits:**"
   ]
  },
  {
   "cell_type": "code",
   "execution_count": 189,
   "metadata": {
    "colab": {
     "autoexec": {
      "startup": false,
      "wait_interval": 0
     },
     "base_uri": "https://localhost:8080/",
     "height": 34
    },
    "colab_type": "code",
    "executionInfo": {
     "elapsed": 385,
     "status": "ok",
     "timestamp": 1531520578299,
     "user": {
      "displayName": "Tairi Delgado",
      "photoUrl": "//lh6.googleusercontent.com/-l4lv-T3P6-c/AAAAAAAAAAI/AAAAAAAABIA/4wtQ8ehIzZw/s50-c-k-no/photo.jpg",
      "userId": "115188476170888991569"
     },
     "user_tz": 420
    },
    "id": "V-z48VELedVX",
    "outputId": "5ec5db80-0f84-4fdf-9a88-c6c07d81e833"
   },
   "outputs": [
    {
     "name": "stdout",
     "output_type": "stream",
     "text": [
      "[(20001, 'Jack', 'Ward', 'San Jose'), (20003, 'Jessica', 'Collins', 'San Jose')]\n"
     ]
    }
   ],
   "source": [
    "c.execute(\"SELECT * FROM Customer \\\n",
    "  WHERE City = 'San Jose' \\\n",
    "  LIMIT 2\")\n",
    "print(c.fetchall())"
   ]
  },
  {
   "cell_type": "code",
   "execution_count": 0,
   "metadata": {
    "colab": {
     "autoexec": {
      "startup": false,
      "wait_interval": 0
     }
    },
    "colab_type": "code",
    "id": "Hj43zYLHfM_6"
   },
   "outputs": [],
   "source": [
    "conn.commit()\n",
    "conn.close()"
   ]
  },
  {
   "cell_type": "markdown",
   "metadata": {
    "colab_type": "text",
    "id": "YaUqA4F6gMFt"
   },
   "source": [
    "# Grouping and Reorganizing Data"
   ]
  },
  {
   "cell_type": "code",
   "execution_count": 0,
   "metadata": {
    "colab": {
     "autoexec": {
      "startup": false,
      "wait_interval": 0
     }
    },
    "colab_type": "code",
    "id": "dXu2kOqrhntk"
   },
   "outputs": [],
   "source": [
    "conn = sqlite3.connect('Sales.db')\n",
    "c = conn.cursor()"
   ]
  },
  {
   "cell_type": "code",
   "execution_count": 191,
   "metadata": {
    "colab": {
     "autoexec": {
      "startup": false,
      "wait_interval": 0
     },
     "base_uri": "https://localhost:8080/",
     "height": 34
    },
    "colab_type": "code",
    "executionInfo": {
     "elapsed": 295,
     "status": "ok",
     "timestamp": 1531520584143,
     "user": {
      "displayName": "Tairi Delgado",
      "photoUrl": "//lh6.googleusercontent.com/-l4lv-T3P6-c/AAAAAAAAAAI/AAAAAAAABIA/4wtQ8ehIzZw/s50-c-k-no/photo.jpg",
      "userId": "115188476170888991569"
     },
     "user_tz": 420
    },
    "id": "5foUoEHphurS",
    "outputId": "1e9cf329-914b-4da8-c4b7-5b1e0c82d183"
   },
   "outputs": [
    {
     "data": {
      "text/plain": [
       "<sqlite3.Cursor at 0x7f76255d6960>"
      ]
     },
     "execution_count": 191,
     "metadata": {
      "tags": []
     },
     "output_type": "execute_result"
    }
   ],
   "source": [
    "# Add two additional orders that do not have the same records customers in the customer table\n",
    "# This will help make the inner and left join examples more clear\n",
    "orders = [\n",
    "    (50010, 20013, 30004, 10008, '17-04-11'),\n",
    "    (50011, 20014, 30007, 10010, '17-09-16'),\n",
    "]\n",
    "c.executemany('INSERT INTO Orders VALUES (?,?,?,?,?)', orders)"
   ]
  },
  {
   "cell_type": "markdown",
   "metadata": {
    "colab_type": "text",
    "id": "sDevd7jSgS7u"
   },
   "source": [
    "**Inner Joins:**"
   ]
  },
  {
   "cell_type": "code",
   "execution_count": 192,
   "metadata": {
    "colab": {
     "autoexec": {
      "startup": false,
      "wait_interval": 0
     },
     "base_uri": "https://localhost:8080/",
     "height": 54
    },
    "colab_type": "code",
    "executionInfo": {
     "elapsed": 319,
     "status": "ok",
     "timestamp": 1531520586707,
     "user": {
      "displayName": "Tairi Delgado",
      "photoUrl": "//lh6.googleusercontent.com/-l4lv-T3P6-c/AAAAAAAAAAI/AAAAAAAABIA/4wtQ8ehIzZw/s50-c-k-no/photo.jpg",
      "userId": "115188476170888991569"
     },
     "user_tz": 420
    },
    "id": "39bsOJrPjN3o",
    "outputId": "f64d2021-e479-44f7-edc4-612b7ef288aa"
   },
   "outputs": [
    {
     "name": "stdout",
     "output_type": "stream",
     "text": [
      "[(20005, 'Zack', 'Peterson', 'Oakland', 50001, 20005, 30005, 10001, '17-02-12'), (20003, 'Jessica', 'Collins', 'San Jose', 50002, 20003, 30008, 10011, '17-09-03'), (20010, 'Lauren', 'Pham', 'San Jose', 50003, 20010, 30001, 10009, '17-11-23'), (20004, 'Carie', 'Robinson', 'San Francisco', 50004, 20004, 30008, 10010, '17-01-28'), (20008, 'Lisa', 'Smith', 'San Francisco', 50005, 20008, 30012, 10002, '17-08-11'), (20011, 'Juan', 'Diaz', 'Oakland', 50006, 20011, 30011, 10001, '17-04-13'), (20012, 'Martha', 'Diaz', 'San Francisco', 50007, 20012, 30002, 10007, '17-10-07'), (20002, 'Steven', 'Martinez', 'San Francisco', 50008, 20002, 30001, 10004, '17-03-09'), (20001, 'Jack', 'Ward', 'San Jose', 50009, 20001, 30006, 10009, '17-12-26')]\n"
     ]
    }
   ],
   "source": [
    "c.execute(\"SELECT * FROM Customer \\\n",
    "  INNER JOIN Orders ON Customer.Customer_ID = Orders.Customer_ID\")\n",
    "print(c.fetchall())"
   ]
  },
  {
   "cell_type": "markdown",
   "metadata": {
    "colab_type": "text",
    "id": "JqJiWxXNgfS_"
   },
   "source": [
    "**Left Joins:**"
   ]
  },
  {
   "cell_type": "code",
   "execution_count": 193,
   "metadata": {
    "colab": {
     "autoexec": {
      "startup": false,
      "wait_interval": 0
     },
     "base_uri": "https://localhost:8080/",
     "height": 54
    },
    "colab_type": "code",
    "executionInfo": {
     "elapsed": 303,
     "status": "ok",
     "timestamp": 1531520591389,
     "user": {
      "displayName": "Tairi Delgado",
      "photoUrl": "//lh6.googleusercontent.com/-l4lv-T3P6-c/AAAAAAAAAAI/AAAAAAAABIA/4wtQ8ehIzZw/s50-c-k-no/photo.jpg",
      "userId": "115188476170888991569"
     },
     "user_tz": 420
    },
    "id": "JYLmlHTqk-S3",
    "outputId": "e6746525-526e-4d1f-b066-5f532f363e3e"
   },
   "outputs": [
    {
     "name": "stdout",
     "output_type": "stream",
     "text": [
      "[(20001, 'Jack', 'Ward', 'San Jose', 50009, 20001, 30006, 10009, '17-12-26'), (20002, 'Steven', 'Martinez', 'San Francisco', 50008, 20002, 30001, 10004, '17-03-09'), (20003, 'Jessica', 'Collins', 'San Jose', 50002, 20003, 30008, 10011, '17-09-03'), (20004, 'Carie', 'Robinson', 'San Francisco', 50004, 20004, 30008, 10010, '17-01-28'), (20005, 'Zack', 'Peterson', 'Oakland', 50001, 20005, 30005, 10001, '17-02-12'), (20006, 'Bianca', 'Sanchez', 'San Francisco', None, None, None, None, None), (20007, 'James', 'Owen', 'Oakland', None, None, None, None, None), (20008, 'Lisa', 'Smith', 'San Francisco', 50005, 20008, 30012, 10002, '17-08-11'), (20009, 'Daniel', 'Yasukawa', 'Oakland', None, None, None, None, None), (20010, 'Lauren', 'Pham', 'San Jose', 50003, 20010, 30001, 10009, '17-11-23'), (20011, 'Juan', 'Diaz', 'Oakland', 50006, 20011, 30011, 10001, '17-04-13'), (20012, 'Martha', 'Diaz', 'San Francisco', 50007, 20012, 30002, 10007, '17-10-07')]\n"
     ]
    }
   ],
   "source": [
    "c.execute(\"SELECT * FROM Customer \\\n",
    "  LEFT JOIN Orders ON Customer.Customer_ID = Orders.Customer_ID\")\n",
    "print(c.fetchall())"
   ]
  },
  {
   "cell_type": "code",
   "execution_count": 194,
   "metadata": {
    "colab": {
     "autoexec": {
      "startup": false,
      "wait_interval": 0
     },
     "base_uri": "https://localhost:8080/",
     "height": 54
    },
    "colab_type": "code",
    "executionInfo": {
     "elapsed": 281,
     "status": "ok",
     "timestamp": 1531520593527,
     "user": {
      "displayName": "Tairi Delgado",
      "photoUrl": "//lh6.googleusercontent.com/-l4lv-T3P6-c/AAAAAAAAAAI/AAAAAAAABIA/4wtQ8ehIzZw/s50-c-k-no/photo.jpg",
      "userId": "115188476170888991569"
     },
     "user_tz": 420
    },
    "id": "sCwrZFtVlwVA",
    "outputId": "ff7f8d34-03a5-4e01-f014-04ec5cbda2e1"
   },
   "outputs": [
    {
     "name": "stdout",
     "output_type": "stream",
     "text": [
      "[(50001, 20005, 30005, 10001, '17-02-12', 20005, 'Zack', 'Peterson', 'Oakland'), (50002, 20003, 30008, 10011, '17-09-03', 20003, 'Jessica', 'Collins', 'San Jose'), (50003, 20010, 30001, 10009, '17-11-23', 20010, 'Lauren', 'Pham', 'San Jose'), (50004, 20004, 30008, 10010, '17-01-28', 20004, 'Carie', 'Robinson', 'San Francisco'), (50005, 20008, 30012, 10002, '17-08-11', 20008, 'Lisa', 'Smith', 'San Francisco'), (50006, 20011, 30011, 10001, '17-04-13', 20011, 'Juan', 'Diaz', 'Oakland'), (50007, 20012, 30002, 10007, '17-10-07', 20012, 'Martha', 'Diaz', 'San Francisco'), (50008, 20002, 30001, 10004, '17-03-09', 20002, 'Steven', 'Martinez', 'San Francisco'), (50009, 20001, 30006, 10009, '17-12-26', 20001, 'Jack', 'Ward', 'San Jose'), (50010, 20013, 30004, 10008, '17-04-11', None, None, None, None), (50011, 20014, 30007, 10010, '17-09-16', None, None, None, None)]\n"
     ]
    }
   ],
   "source": [
    "c.execute(\"SELECT * FROM Orders \\\n",
    "  LEFT JOIN Customer ON Customer.Customer_ID = Orders.Customer_ID\")\n",
    "print(c.fetchall())"
   ]
  },
  {
   "cell_type": "markdown",
   "metadata": {
    "colab_type": "text",
    "id": "Vftd93czghwe"
   },
   "source": [
    "**Unions:**"
   ]
  },
  {
   "cell_type": "code",
   "execution_count": 195,
   "metadata": {
    "colab": {
     "autoexec": {
      "startup": false,
      "wait_interval": 0
     },
     "base_uri": "https://localhost:8080/",
     "height": 54
    },
    "colab_type": "code",
    "executionInfo": {
     "elapsed": 300,
     "status": "ok",
     "timestamp": 1531520599348,
     "user": {
      "displayName": "Tairi Delgado",
      "photoUrl": "//lh6.googleusercontent.com/-l4lv-T3P6-c/AAAAAAAAAAI/AAAAAAAABIA/4wtQ8ehIzZw/s50-c-k-no/photo.jpg",
      "userId": "115188476170888991569"
     },
     "user_tz": 420
    },
    "id": "x6TS_K33mKkM",
    "outputId": "e7bbc395-bf27-4470-d1d0-b947e2ae7300"
   },
   "outputs": [
    {
     "name": "stdout",
     "output_type": "stream",
     "text": [
      "[('Adam', 'Smith'), ('Bianca', 'Sanchez'), ('Carie', 'Robinson'), ('Daniel', 'Olson'), ('Daniel', 'Yasukawa'), ('George', 'Wong'), ('Jack', 'Ward'), ('James', 'Owen'), ('Jasmine', 'Khan'), ('Jessica', 'Collins'), ('Juan', 'Diaz'), ('Lauren', 'Pham'), ('Lisa', 'Smith'), ('Maria', 'Gonzales'), ('Martha', 'Diaz'), ('Miguel', 'Alva'), ('Nick', 'Markmen'), ('Rachel', 'Kim'), ('Stephanie', 'Williams'), ('Steven', 'Martinez'), ('Ted', 'Anderson'), ('Victoria', 'Garcia'), ('Zack', 'Peterson')]\n"
     ]
    }
   ],
   "source": [
    "c.execute(\"SELECT First_Name, Last_Name FROM Employee \\\n",
    "  UNION \\\n",
    "  SELECT First_Name, Last_Name FROM Customer\")\n",
    "print(c.fetchall())"
   ]
  },
  {
   "cell_type": "markdown",
   "metadata": {
    "colab_type": "text",
    "id": "lpUmehXeglDs"
   },
   "source": [
    "**Order By:**"
   ]
  },
  {
   "cell_type": "code",
   "execution_count": 196,
   "metadata": {
    "colab": {
     "autoexec": {
      "startup": false,
      "wait_interval": 0
     },
     "base_uri": "https://localhost:8080/",
     "height": 54
    },
    "colab_type": "code",
    "executionInfo": {
     "elapsed": 293,
     "status": "ok",
     "timestamp": 1531520602204,
     "user": {
      "displayName": "Tairi Delgado",
      "photoUrl": "//lh6.googleusercontent.com/-l4lv-T3P6-c/AAAAAAAAAAI/AAAAAAAABIA/4wtQ8ehIzZw/s50-c-k-no/photo.jpg",
      "userId": "115188476170888991569"
     },
     "user_tz": 420
    },
    "id": "pUSn85iancX1",
    "outputId": "d766d580-c638-400c-a410-8b115248c557"
   },
   "outputs": [
    {
     "name": "stdout",
     "output_type": "stream",
     "text": [
      "[(30011, 'DVD Player', 149.99, 40005, 'CompTech, Inc'), (30003, 'Speakers', 56.99, 40005, 'CompTech, Inc'), (30012, 'Coat', 56.33, 40004, 'Studio Warehouse'), (30005, 'Microphone', 46.21, 40001, 'Music Vibrations, Inc'), (30004, 'Pants', 34.35, 40003, 'FashionRUs'), (30009, 'Headphones', 31.44, 40001, 'Music Vibrations, Inc'), (30008, 'Medicine', 23.96, 40002, 'BioMed Inc'), (30010, 'Lotion', 16.77, 40002, 'BioMed Inc'), (30001, 'T-Shirt', 12.98, 40004, 'Studio Warehouse'), (30006, 'Tie', 11.09, 40003, 'FashionRUs'), (30002, 'Tooth Paste', 4.5, 40002, 'BioMed Inc'), (30007, 'Chap Stick', 3.67, 40002, 'BioMed Inc')]\n"
     ]
    }
   ],
   "source": [
    "c.execute(\"SELECT * FROM Product \\\n",
    "  ORDER BY Price DESC\")\n",
    "print(c.fetchall())"
   ]
  },
  {
   "cell_type": "code",
   "execution_count": 197,
   "metadata": {
    "colab": {
     "autoexec": {
      "startup": false,
      "wait_interval": 0
     },
     "base_uri": "https://localhost:8080/",
     "height": 54
    },
    "colab_type": "code",
    "executionInfo": {
     "elapsed": 304,
     "status": "ok",
     "timestamp": 1531520606416,
     "user": {
      "displayName": "Tairi Delgado",
      "photoUrl": "//lh6.googleusercontent.com/-l4lv-T3P6-c/AAAAAAAAAAI/AAAAAAAABIA/4wtQ8ehIzZw/s50-c-k-no/photo.jpg",
      "userId": "115188476170888991569"
     },
     "user_tz": 420
    },
    "id": "f6OReYovn59p",
    "outputId": "2a9e8c52-7128-4536-d6bc-b97a2dc6fb88"
   },
   "outputs": [
    {
     "name": "stdout",
     "output_type": "stream",
     "text": [
      "[(30007, 'Chap Stick', 3.67, 40002, 'BioMed Inc'), (30002, 'Tooth Paste', 4.5, 40002, 'BioMed Inc'), (30006, 'Tie', 11.09, 40003, 'FashionRUs'), (30001, 'T-Shirt', 12.98, 40004, 'Studio Warehouse'), (30010, 'Lotion', 16.77, 40002, 'BioMed Inc'), (30008, 'Medicine', 23.96, 40002, 'BioMed Inc'), (30009, 'Headphones', 31.44, 40001, 'Music Vibrations, Inc'), (30004, 'Pants', 34.35, 40003, 'FashionRUs'), (30005, 'Microphone', 46.21, 40001, 'Music Vibrations, Inc'), (30012, 'Coat', 56.33, 40004, 'Studio Warehouse'), (30003, 'Speakers', 56.99, 40005, 'CompTech, Inc'), (30011, 'DVD Player', 149.99, 40005, 'CompTech, Inc')]\n"
     ]
    }
   ],
   "source": [
    "c.execute(\"SELECT * FROM Product \\\n",
    "  ORDER BY Price ASC\")\n",
    "print(c.fetchall())"
   ]
  },
  {
   "cell_type": "code",
   "execution_count": 0,
   "metadata": {
    "colab": {
     "autoexec": {
      "startup": false,
      "wait_interval": 0
     }
    },
    "colab_type": "code",
    "id": "RDR8gFfSoX0N"
   },
   "outputs": [],
   "source": [
    "conn.commit()\n",
    "c.close()"
   ]
  },
  {
   "cell_type": "markdown",
   "metadata": {
    "colab_type": "text",
    "id": "lVus1fS-oc8S"
   },
   "source": [
    "# Summarizing Results"
   ]
  },
  {
   "cell_type": "code",
   "execution_count": 0,
   "metadata": {
    "colab": {
     "autoexec": {
      "startup": false,
      "wait_interval": 0
     }
    },
    "colab_type": "code",
    "id": "WzM9s8StohIm"
   },
   "outputs": [],
   "source": [
    "conn = sqlite3.connect('Sales.db')\n",
    "c = conn.cursor()"
   ]
  },
  {
   "cell_type": "markdown",
   "metadata": {
    "colab_type": "text",
    "id": "QndaSkwyoodj"
   },
   "source": [
    "**Min:**"
   ]
  },
  {
   "cell_type": "code",
   "execution_count": 200,
   "metadata": {
    "colab": {
     "autoexec": {
      "startup": false,
      "wait_interval": 0
     },
     "base_uri": "https://localhost:8080/",
     "height": 34
    },
    "colab_type": "code",
    "executionInfo": {
     "elapsed": 294,
     "status": "ok",
     "timestamp": 1531520611846,
     "user": {
      "displayName": "Tairi Delgado",
      "photoUrl": "//lh6.googleusercontent.com/-l4lv-T3P6-c/AAAAAAAAAAI/AAAAAAAABIA/4wtQ8ehIzZw/s50-c-k-no/photo.jpg",
      "userId": "115188476170888991569"
     },
     "user_tz": 420
    },
    "id": "gjxH8JSwxNDU",
    "outputId": "1c6d4826-e3c1-4fc7-a219-eafc89120714"
   },
   "outputs": [
    {
     "name": "stdout",
     "output_type": "stream",
     "text": [
      "(3.67, 'Chap Stick')\n"
     ]
    }
   ],
   "source": [
    "c.execute(\"SELECT MIN(Price), Product_Name FROM Product\")\n",
    "print(c.fetchone())"
   ]
  },
  {
   "cell_type": "markdown",
   "metadata": {
    "colab_type": "text",
    "id": "cdMepo1Loqna"
   },
   "source": [
    "**Max:**"
   ]
  },
  {
   "cell_type": "code",
   "execution_count": 201,
   "metadata": {
    "colab": {
     "autoexec": {
      "startup": false,
      "wait_interval": 0
     },
     "base_uri": "https://localhost:8080/",
     "height": 34
    },
    "colab_type": "code",
    "executionInfo": {
     "elapsed": 282,
     "status": "ok",
     "timestamp": 1531520615251,
     "user": {
      "displayName": "Tairi Delgado",
      "photoUrl": "//lh6.googleusercontent.com/-l4lv-T3P6-c/AAAAAAAAAAI/AAAAAAAABIA/4wtQ8ehIzZw/s50-c-k-no/photo.jpg",
      "userId": "115188476170888991569"
     },
     "user_tz": 420
    },
    "id": "zw7m6ROhxxnz",
    "outputId": "52689b32-ae11-421e-dfcf-9d62667cf756"
   },
   "outputs": [
    {
     "name": "stdout",
     "output_type": "stream",
     "text": [
      "(149.99, 'DVD Player')\n"
     ]
    }
   ],
   "source": [
    "c.execute(\"SELECT MAX(Price), Product_Name FROM Product\")\n",
    "print(c.fetchone())"
   ]
  },
  {
   "cell_type": "markdown",
   "metadata": {
    "colab_type": "text",
    "id": "36958X6upJHW"
   },
   "source": [
    "**Count:**"
   ]
  },
  {
   "cell_type": "code",
   "execution_count": 202,
   "metadata": {
    "colab": {
     "autoexec": {
      "startup": false,
      "wait_interval": 0
     },
     "base_uri": "https://localhost:8080/",
     "height": 34
    },
    "colab_type": "code",
    "executionInfo": {
     "elapsed": 330,
     "status": "ok",
     "timestamp": 1531520617138,
     "user": {
      "displayName": "Tairi Delgado",
      "photoUrl": "//lh6.googleusercontent.com/-l4lv-T3P6-c/AAAAAAAAAAI/AAAAAAAABIA/4wtQ8ehIzZw/s50-c-k-no/photo.jpg",
      "userId": "115188476170888991569"
     },
     "user_tz": 420
    },
    "id": "KlTc7dUqyBpX",
    "outputId": "f5a14d56-2ea2-45ca-8cc8-2e3eaa72129d"
   },
   "outputs": [
    {
     "name": "stdout",
     "output_type": "stream",
     "text": [
      "(11,)\n"
     ]
    }
   ],
   "source": [
    "c.execute(\"SELECT COUNT(Product_ID) FROM Orders\")\n",
    "print(c.fetchone())"
   ]
  },
  {
   "cell_type": "code",
   "execution_count": 203,
   "metadata": {
    "colab": {
     "autoexec": {
      "startup": false,
      "wait_interval": 0
     },
     "base_uri": "https://localhost:8080/",
     "height": 34
    },
    "colab_type": "code",
    "executionInfo": {
     "elapsed": 285,
     "status": "ok",
     "timestamp": 1531520618990,
     "user": {
      "displayName": "Tairi Delgado",
      "photoUrl": "//lh6.googleusercontent.com/-l4lv-T3P6-c/AAAAAAAAAAI/AAAAAAAABIA/4wtQ8ehIzZw/s50-c-k-no/photo.jpg",
      "userId": "115188476170888991569"
     },
     "user_tz": 420
    },
    "id": "ekw7L_ZRyuaJ",
    "outputId": "2e7d567c-04e5-4ed2-d175-0f0a975e1ac1"
   },
   "outputs": [
    {
     "name": "stdout",
     "output_type": "stream",
     "text": [
      "(4,)\n"
     ]
    }
   ],
   "source": [
    "c.execute(\"SELECT COUNT(Product_ID) FROM Product WHERE Supplier_Name = 'BioMed Inc'\")\n",
    "print(c.fetchone())"
   ]
  },
  {
   "cell_type": "markdown",
   "metadata": {
    "colab_type": "text",
    "id": "ftG86FE8pNBC"
   },
   "source": [
    "**Sum:**"
   ]
  },
  {
   "cell_type": "code",
   "execution_count": 204,
   "metadata": {
    "colab": {
     "autoexec": {
      "startup": false,
      "wait_interval": 0
     },
     "base_uri": "https://localhost:8080/",
     "height": 34
    },
    "colab_type": "code",
    "executionInfo": {
     "elapsed": 296,
     "status": "ok",
     "timestamp": 1531520621007,
     "user": {
      "displayName": "Tairi Delgado",
      "photoUrl": "//lh6.googleusercontent.com/-l4lv-T3P6-c/AAAAAAAAAAI/AAAAAAAABIA/4wtQ8ehIzZw/s50-c-k-no/photo.jpg",
      "userId": "115188476170888991569"
     },
     "user_tz": 420
    },
    "id": "LOwQV74WzB8v",
    "outputId": "7cab0fbd-cfd9-4860-d94b-11465d0aa08a"
   },
   "outputs": [
    {
     "name": "stdout",
     "output_type": "stream",
     "text": [
      "(448.28000000000003,)\n"
     ]
    }
   ],
   "source": [
    "c.execute(\"SELECT SUM(Price) FROM Product\")\n",
    "print(c.fetchone())"
   ]
  },
  {
   "cell_type": "markdown",
   "metadata": {
    "colab_type": "text",
    "id": "m-XVNaohpO61"
   },
   "source": [
    "**Avg:**"
   ]
  },
  {
   "cell_type": "code",
   "execution_count": 205,
   "metadata": {
    "colab": {
     "autoexec": {
      "startup": false,
      "wait_interval": 0
     },
     "base_uri": "https://localhost:8080/",
     "height": 34
    },
    "colab_type": "code",
    "executionInfo": {
     "elapsed": 307,
     "status": "ok",
     "timestamp": 1531520623348,
     "user": {
      "displayName": "Tairi Delgado",
      "photoUrl": "//lh6.googleusercontent.com/-l4lv-T3P6-c/AAAAAAAAAAI/AAAAAAAABIA/4wtQ8ehIzZw/s50-c-k-no/photo.jpg",
      "userId": "115188476170888991569"
     },
     "user_tz": 420
    },
    "id": "SIerfRFtzXbB",
    "outputId": "27faf8f0-b3d5-4649-b33d-e6ae53e96196"
   },
   "outputs": [
    {
     "name": "stdout",
     "output_type": "stream",
     "text": [
      "(12.225000000000001,)\n"
     ]
    }
   ],
   "source": [
    "c.execute(\"SELECT AVG(Price) \\\n",
    "  FROM Product \\\n",
    "  WHERE Supplier_Name = 'BioMed Inc'\")\n",
    "print(c.fetchone())"
   ]
  },
  {
   "cell_type": "markdown",
   "metadata": {
    "colab_type": "text",
    "id": "h6_PRBBEpQi9"
   },
   "source": [
    "**Group By:**"
   ]
  },
  {
   "cell_type": "code",
   "execution_count": 206,
   "metadata": {
    "colab": {
     "autoexec": {
      "startup": false,
      "wait_interval": 0
     },
     "base_uri": "https://localhost:8080/",
     "height": 34
    },
    "colab_type": "code",
    "executionInfo": {
     "elapsed": 491,
     "status": "ok",
     "timestamp": 1531520625984,
     "user": {
      "displayName": "Tairi Delgado",
      "photoUrl": "//lh6.googleusercontent.com/-l4lv-T3P6-c/AAAAAAAAAAI/AAAAAAAABIA/4wtQ8ehIzZw/s50-c-k-no/photo.jpg",
      "userId": "115188476170888991569"
     },
     "user_tz": 420
    },
    "id": "fXdtUgb7z5Lz",
    "outputId": "f173422e-c472-4d45-f2cc-c62c472af3e7"
   },
   "outputs": [
    {
     "name": "stdout",
     "output_type": "stream",
     "text": [
      "[('BioMed Inc', 4), ('CompTech, Inc', 2), ('FashionRUs', 2), ('Music Vibrations, Inc', 2), ('Studio Warehouse', 2)]\n"
     ]
    }
   ],
   "source": [
    "c.execute(\"SELECT Supplier_Name, COUNT(Product_Name) \\\n",
    "  FROM Product \\\n",
    "  GROUP BY Supplier_Name\")\n",
    "print(c.fetchall())"
   ]
  },
  {
   "cell_type": "markdown",
   "metadata": {
    "colab_type": "text",
    "id": "d9axRN7zpVDu"
   },
   "source": [
    "**Having:**"
   ]
  },
  {
   "cell_type": "code",
   "execution_count": 207,
   "metadata": {
    "colab": {
     "autoexec": {
      "startup": false,
      "wait_interval": 0
     },
     "base_uri": "https://localhost:8080/",
     "height": 34
    },
    "colab_type": "code",
    "executionInfo": {
     "elapsed": 293,
     "status": "ok",
     "timestamp": 1531520628261,
     "user": {
      "displayName": "Tairi Delgado",
      "photoUrl": "//lh6.googleusercontent.com/-l4lv-T3P6-c/AAAAAAAAAAI/AAAAAAAABIA/4wtQ8ehIzZw/s50-c-k-no/photo.jpg",
      "userId": "115188476170888991569"
     },
     "user_tz": 420
    },
    "id": "9LEd07yW0oMb",
    "outputId": "61af3c32-1de7-442d-d979-fce660e0f600"
   },
   "outputs": [
    {
     "name": "stdout",
     "output_type": "stream",
     "text": [
      "[('BioMed Inc', 4)]\n"
     ]
    }
   ],
   "source": [
    "c.execute(\"SELECT Supplier_Name, COUNT(Product_Name) \\\n",
    "  FROM Product \\\n",
    "  GROUP BY Supplier_Name \\\n",
    "  HAVING COUNT(Product_Name) > 2\")\n",
    "print(c.fetchall())"
   ]
  },
  {
   "cell_type": "code",
   "execution_count": 0,
   "metadata": {
    "colab": {
     "autoexec": {
      "startup": false,
      "wait_interval": 0
     }
    },
    "colab_type": "code",
    "id": "6yRIjBH21XGs"
   },
   "outputs": [],
   "source": [
    "conn.commit()\n",
    "c.close()"
   ]
  },
  {
   "cell_type": "code",
   "execution_count": 0,
   "metadata": {
    "colab": {
     "autoexec": {
      "startup": false,
      "wait_interval": 0
     }
    },
    "colab_type": "code",
    "id": "VXsgSWDp3SOy"
   },
   "outputs": [],
   "source": [
    "files.download('Sales.db')"
   ]
  }
 ],
 "metadata": {
  "colab": {
   "collapsed_sections": [
    "NlaHmNs3DKu5",
    "F3DMJZ1MDT-o",
    "UNQQhMkGCeh1",
    "OJDUKogmCr5x"
   ],
   "default_view": {},
   "name": "Loading and Working with Data Sources.ipynb",
   "provenance": [
    {
     "file_id": "1zpR_j3A7rWO1zNU4YfehT6O9kaw6QGcM",
     "timestamp": 1523229401984
    },
    {
     "file_id": "/v2/external/notebooks/welcome.ipynb",
     "timestamp": 1519374545910
    }
   ],
   "version": "0.3.2",
   "views": {}
  },
  "kernelspec": {
   "display_name": "Python 3",
   "language": "python",
   "name": "python3"
  }
 },
 "nbformat": 4,
 "nbformat_minor": 1
}
